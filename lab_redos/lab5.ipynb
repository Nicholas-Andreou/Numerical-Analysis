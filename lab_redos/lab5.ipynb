{
 "cells": [
  {
   "cell_type": "markdown",
   "metadata": {},
   "source": [
    "# MATH50003 (2024–25)\n",
    "# Lab 5: III.2 LU Factorisation and III.3 Cholesky Factorisation"
   ]
  },
  {
   "cell_type": "markdown",
   "metadata": {},
   "source": [
    "In this lab we explore using LU, PLU and Cholesky factorisations, and\n",
    "implement algorithms for computing a Cholesky factorisation. We explore\n",
    "stability properties of these different factorisations, and see that the\n",
    "Cholesky factorisation is a robust way of determining if a matrix is symmetric\n",
    "postive definite."
   ]
  },
  {
   "cell_type": "markdown",
   "metadata": {},
   "source": [
    "**Learning Outcomes**\n",
    "\n",
    "Mathematical knowledge:\n",
    "\n",
    "1. LU and PLU factorisations\n",
    "2. Cholesky and reverse Cholesky factorisations, including for banded matrices."
   ]
  },
  {
   "cell_type": "markdown",
   "metadata": {},
   "source": [
    "Coding knowledge:\n",
    "\n",
    "1. Using the `lu` and `cholesky` functions."
   ]
  },
  {
   "cell_type": "markdown",
   "metadata": {},
   "source": [
    "We load the following packages:"
   ]
  },
  {
   "cell_type": "code",
   "execution_count": 1,
   "metadata": {},
   "outputs": [],
   "source": [
    "using LinearAlgebra, Plots, Test"
   ]
  },
  {
   "cell_type": "markdown",
   "metadata": {},
   "source": [
    "### III.2 LU and PLU Factorisations"
   ]
  },
  {
   "cell_type": "markdown",
   "metadata": {},
   "source": [
    "LU, PLU and Cholesky factorisations are closely related\n",
    "matrix factorisations that reduce a square matrix to a product of\n",
    "lower and upper triangular matrices, possibly with a permutation matrix.\n",
    "We will only focus on the practical usage of LU and PLU, without digging into the\n",
    "details of implementation."
   ]
  },
  {
   "cell_type": "markdown",
   "metadata": {},
   "source": [
    "### III.2.1 LU Factorisation"
   ]
  },
  {
   "cell_type": "markdown",
   "metadata": {},
   "source": [
    "If $A ∈ 𝔽^{n × n}$ is a square matrix where $𝔽$ is a field ($ℝ$ or $ℂ$)\n",
    "then we can sometimes find lower and upper triangular matrices $L,U ∈ 𝔽^{n × n}$ such that\n",
    "$$\n",
    "A = LU.\n",
    "$$\n",
    "This is equivalent to Gaussian elimination but we will only focus on practical usage in this lab.\n",
    "This factorisation can be computed using the `lu` function, but as the default is a PLU factorisation we add a flag\n",
    "telling it not to use pivoting/permutations:"
   ]
  },
  {
   "cell_type": "code",
   "execution_count": 2,
   "metadata": {},
   "outputs": [
    {
     "data": {
      "text/plain": [
       "LU{Float64, Matrix{Float64}, Vector{Int64}}\n",
       "L factor:\n",
       "3×3 Matrix{Float64}:\n",
       " 1.0  0.0  0.0\n",
       " 2.0  1.0  0.0\n",
       " 1.0  1.5  1.0\n",
       "U factor:\n",
       "3×3 Matrix{Float64}:\n",
       " 1.0  1.0   1.0\n",
       " 0.0  2.0   6.0\n",
       " 0.0  0.0  -1.0"
      ]
     },
     "execution_count": 2,
     "metadata": {},
     "output_type": "execute_result"
    }
   ],
   "source": [
    "A = [1.0 1 1;\n",
    "     2   4 8;\n",
    "     1   4 9]\n",
    "\n",
    "L,U = lu(A, NoPivot()) # NoPivot is a flag that tells lu to not use permutations"
   ]
  },
  {
   "cell_type": "markdown",
   "metadata": {},
   "source": [
    "This matches what we derived by hand in the notes and indeed:"
   ]
  },
  {
   "cell_type": "code",
   "execution_count": 5,
   "metadata": {},
   "outputs": [
    {
     "data": {
      "text/plain": [
       "\u001b[32m\u001b[1mTest Passed\u001b[22m\u001b[39m"
      ]
     },
     "execution_count": 5,
     "metadata": {},
     "output_type": "execute_result"
    }
   ],
   "source": [
    "@test A ≈ L*U"
   ]
  },
  {
   "cell_type": "markdown",
   "metadata": {},
   "source": [
    "We can use an LU factorisation to reduce solving a linear system to inverting triangular matrices:"
   ]
  },
  {
   "cell_type": "code",
   "execution_count": 7,
   "metadata": {},
   "outputs": [
    {
     "data": {
      "text/plain": [
       "\u001b[32m\u001b[1mTest Passed\u001b[22m\u001b[39m"
      ]
     },
     "execution_count": 7,
     "metadata": {},
     "output_type": "execute_result"
    }
   ],
   "source": [
    "b = randn(3)\n",
    "c = L \\ b # computed using forward elimination (even though L is a Matrix, \\ detects it is lower triangular)\n",
    "x = U \\ c # computed using back substitution\n",
    "@test A \\ b ≈ x"
   ]
  },
  {
   "cell_type": "markdown",
   "metadata": {},
   "source": [
    "If a matrix has a zero on a pivot we know by equivalence to Gaussian elimination that an LU factorisation\n",
    "does not exist:"
   ]
  },
  {
   "cell_type": "code",
   "execution_count": 9,
   "metadata": {},
   "outputs": [
    {
     "ename": "LoadError",
     "evalue": "ZeroPivotException: factorization encountered one or more zero pivots. Consider switching to a pivoted LU factorization.",
     "output_type": "error",
     "traceback": [
      "ZeroPivotException: factorization encountered one or more zero pivots. Consider switching to a pivoted LU factorization.",
      "",
      "Stacktrace:",
      " [1] checknozeropivot",
      "   @ /Applications/Julia-1.11.app/Contents/Resources/julia/share/julia/stdlib/v1.11/LinearAlgebra/src/factorization.jl:70 [inlined]",
      " [2] _check_lu_success",
      "   @ /Applications/Julia-1.11.app/Contents/Resources/julia/share/julia/stdlib/v1.11/LinearAlgebra/src/lu.jl:82 [inlined]",
      " [3] generic_lufact!(A::Matrix{Float64}, pivot::NoPivot; check::Bool, allowsingular::Bool)",
      "   @ LinearAlgebra /Applications/Julia-1.11.app/Contents/Resources/julia/share/julia/stdlib/v1.11/LinearAlgebra/src/lu.jl:214",
      " [4] generic_lufact!",
      "   @ /Applications/Julia-1.11.app/Contents/Resources/julia/share/julia/stdlib/v1.11/LinearAlgebra/src/lu.jl:152 [inlined]",
      " [5] lu!",
      "   @ /Applications/Julia-1.11.app/Contents/Resources/julia/share/julia/stdlib/v1.11/LinearAlgebra/src/lu.jl:151 [inlined]",
      " [6] _lu",
      "   @ /Applications/Julia-1.11.app/Contents/Resources/julia/share/julia/stdlib/v1.11/LinearAlgebra/src/lu.jl:347 [inlined]",
      " [7] lu(A::Matrix{Float64}, args::NoPivot; kwargs::@Kwargs{})",
      "   @ LinearAlgebra /Applications/Julia-1.11.app/Contents/Resources/julia/share/julia/stdlib/v1.11/LinearAlgebra/src/lu.jl:341",
      " [8] lu(A::Matrix{Float64}, args::NoPivot)",
      "   @ LinearAlgebra /Applications/Julia-1.11.app/Contents/Resources/julia/share/julia/stdlib/v1.11/LinearAlgebra/src/lu.jl:341",
      " [9] top-level scope",
      "   @ In[9]:2"
     ]
    }
   ],
   "source": [
    "A[1,1] = 0\n",
    "lu(A, NoPivot()) # throws an error"
   ]
  },
  {
   "cell_type": "markdown",
   "metadata": {},
   "source": [
    "But even if it has a very small but non-zero entry we get huge errors:"
   ]
  },
  {
   "cell_type": "code",
   "execution_count": 11,
   "metadata": {},
   "outputs": [
    {
     "data": {
      "text/plain": [
       "LU{Float64, Matrix{Float64}, Vector{Int64}}\n",
       "L factor:\n",
       "3×3 Matrix{Float64}:\n",
       " 1.0     0.0  0.0\n",
       " 2.0e14  1.0  0.0\n",
       " 1.0e14  0.5  1.0\n",
       "U factor:\n",
       "3×3 Matrix{Float64}:\n",
       " 1.0e-14   1.0      1.0\n",
       " 0.0      -2.0e14  -2.0e14\n",
       " 0.0       0.0      3.0"
      ]
     },
     "execution_count": 11,
     "metadata": {},
     "output_type": "execute_result"
    }
   ],
   "source": [
    "A[1,1] = 1E-14\n",
    "L,U = lu(A, NoPivot()) # Succeeds but suddenly U is on order of 2E14!"
   ]
  },
  {
   "cell_type": "code",
   "execution_count": 13,
   "metadata": {},
   "outputs": [
    {
     "data": {
      "text/plain": [
       "0.013223071612375991"
      ]
     },
     "execution_count": 13,
     "metadata": {},
     "output_type": "execute_result"
    }
   ],
   "source": [
    "norm(A \\ b - U\\(L\\b)) # Very large error! A \\ b uses pivoting now."
   ]
  },
  {
   "cell_type": "markdown",
   "metadata": {},
   "source": [
    "**WARNING** The parantheses are important: algebra is left-associative so had we written `U\\L\\b` this would have been interpreted as\n",
    "`(U\\L) \\ b` which would have meant `inv(inv(U)*L)*b == L \\ (U*b)`."
   ]
  },
  {
   "cell_type": "markdown",
   "metadata": {},
   "source": [
    "-----"
   ]
  },
  {
   "cell_type": "markdown",
   "metadata": {},
   "source": [
    "**Problem 1** For `A` defined above, consider setting  `A[1,1] = ε` for `ε = 10.0 ^ (-k)` for `k = 0,…,14`\n",
    "with the right-hand side `b = [1,2,3]`.\n",
    "Plot, scaling the $y$-axis logarithmically, the growth rate in the error of using LU compared to `\\`.\n",
    "Make a conjecture on how the error grows as $k → ∞$.\n",
    "Hint: you can either allocate a vector of errors that is populated in a for-loop or write a simple comprehension."
   ]
  },
  {
   "cell_type": "code",
   "execution_count": 35,
   "metadata": {},
   "outputs": [
    {
     "data": {
      "image/png": "[encoded data removed]",
      "image/svg+xml": [
       "<?xml version=\"1.0\" encoding=\"utf-8\"?>\n",
       "<svg xmlns=\"http://www.w3.org/2000/svg\" xmlns:xlink=\"http://www.w3.org/1999/xlink\" width=\"600\" height=\"400\" viewBox=\"0 0 2400 1600\">\n",
       "<defs>\n",
       "  <clipPath id=\"clip790\">\n",
       "    <rect x=\"0\" y=\"0\" width=\"2400\" height=\"1600\"/>\n",
       "  </clipPath>\n",
       "</defs>\n",
       "<path clip-path=\"url(#clip790)\" d=\"M0 1600 L2400 1600 L2400 8.88178e-14 L0 8.88178e-14  Z\" fill=\"#ffffff\" fill-rule=\"evenodd\" fill-opacity=\"1\"/>\n",
       "<defs>\n",
       "  <clipPath id=\"clip791\">\n",
       "    <rect x=\"480\" y=\"0\" width=\"1681\" height=\"1600\"/>\n",
       "  </clipPath>\n",
       "</defs>\n",
       "<path clip-path=\"url(#clip790)\" d=\"M214.002 1486.45 L2352.76 1486.45 L2352.76 47.2441 L214.002 47.2441  Z\" fill=\"#ffffff\" fill-rule=\"evenodd\" fill-opacity=\"1\"/>\n",
       "<defs>\n",
       "  <clipPath id=\"clip792\">\n",
       "    <rect x=\"214\" y=\"47\" width=\"2140\" height=\"1440\"/>\n",
       "  </clipPath>\n",
       "</defs>\n",
       "<polyline clip-path=\"url(#clip792)\" style=\"stroke:#000000; stroke-linecap:round; stroke-linejoin:round; stroke-width:2; stroke-opacity:0.1; fill:none\" points=\"274.533,1486.45 274.533,47.2441 \"/>\n",
       "<polyline clip-path=\"url(#clip792)\" style=\"stroke:#000000; stroke-linecap:round; stroke-linejoin:round; stroke-width:2; stroke-opacity:0.1; fill:none\" points=\"418.654,1486.45 418.654,47.2441 \"/>\n",
       "<polyline clip-path=\"url(#clip792)\" style=\"stroke:#000000; stroke-linecap:round; stroke-linejoin:round; stroke-width:2; stroke-opacity:0.1; fill:none\" points=\"562.775,1486.45 562.775,47.2441 \"/>\n",
       "<polyline clip-path=\"url(#clip792)\" style=\"stroke:#000000; stroke-linecap:round; stroke-linejoin:round; stroke-width:2; stroke-opacity:0.1; fill:none\" points=\"706.896,1486.45 706.896,47.2441 \"/>\n",
       "<polyline clip-path=\"url(#clip792)\" style=\"stroke:#000000; stroke-linecap:round; stroke-linejoin:round; stroke-width:2; stroke-opacity:0.1; fill:none\" points=\"851.017,1486.45 851.017,47.2441 \"/>\n",
       "<polyline clip-path=\"url(#clip792)\" style=\"stroke:#000000; stroke-linecap:round; stroke-linejoin:round; stroke-width:2; stroke-opacity:0.1; fill:none\" points=\"995.137,1486.45 995.137,47.2441 \"/>\n",
       "<polyline clip-path=\"url(#clip792)\" style=\"stroke:#000000; stroke-linecap:round; stroke-linejoin:round; stroke-width:2; stroke-opacity:0.1; fill:none\" points=\"1139.26,1486.45 1139.26,47.2441 \"/>\n",
       "<polyline clip-path=\"url(#clip792)\" style=\"stroke:#000000; stroke-linecap:round; stroke-linejoin:round; stroke-width:2; stroke-opacity:0.1; fill:none\" points=\"1283.38,1486.45 1283.38,47.2441 \"/>\n",
       "<polyline clip-path=\"url(#clip792)\" style=\"stroke:#000000; stroke-linecap:round; stroke-linejoin:round; stroke-width:2; stroke-opacity:0.1; fill:none\" points=\"1427.5,1486.45 1427.5,47.2441 \"/>\n",
       "<polyline clip-path=\"url(#clip792)\" style=\"stroke:#000000; stroke-linecap:round; stroke-linejoin:round; stroke-width:2; stroke-opacity:0.1; fill:none\" points=\"1571.62,1486.45 1571.62,47.2441 \"/>\n",
       "<polyline clip-path=\"url(#clip792)\" style=\"stroke:#000000; stroke-linecap:round; stroke-linejoin:round; stroke-width:2; stroke-opacity:0.1; fill:none\" points=\"1715.74,1486.45 1715.74,47.2441 \"/>\n",
       "<polyline clip-path=\"url(#clip792)\" style=\"stroke:#000000; stroke-linecap:round; stroke-linejoin:round; stroke-width:2; stroke-opacity:0.1; fill:none\" points=\"1859.86,1486.45 1859.86,47.2441 \"/>\n",
       "<polyline clip-path=\"url(#clip792)\" style=\"stroke:#000000; stroke-linecap:round; stroke-linejoin:round; stroke-width:2; stroke-opacity:0.1; fill:none\" points=\"2003.98,1486.45 2003.98,47.2441 \"/>\n",
       "<polyline clip-path=\"url(#clip792)\" style=\"stroke:#000000; stroke-linecap:round; stroke-linejoin:round; stroke-width:2; stroke-opacity:0.1; fill:none\" points=\"2148.1,1486.45 2148.1,47.2441 \"/>\n",
       "<polyline clip-path=\"url(#clip792)\" style=\"stroke:#000000; stroke-linecap:round; stroke-linejoin:round; stroke-width:2; stroke-opacity:0.1; fill:none\" points=\"2292.23,1486.45 2292.23,47.2441 \"/>\n",
       "<polyline clip-path=\"url(#clip792)\" style=\"stroke:#000000; stroke-linecap:round; stroke-linejoin:round; stroke-width:2; stroke-opacity:0.1; fill:none\" points=\"214.002,1406.68 2352.76,1406.68 \"/>\n",
       "<polyline clip-path=\"url(#clip792)\" style=\"stroke:#000000; stroke-linecap:round; stroke-linejoin:round; stroke-width:2; stroke-opacity:0.1; fill:none\" points=\"214.002,1295.89 2352.76,1295.89 \"/>\n",
       "<polyline clip-path=\"url(#clip792)\" style=\"stroke:#000000; stroke-linecap:round; stroke-linejoin:round; stroke-width:2; stroke-opacity:0.1; fill:none\" points=\"214.002,1185.1 2352.76,1185.1 \"/>\n",
       "<polyline clip-path=\"url(#clip792)\" style=\"stroke:#000000; stroke-linecap:round; stroke-linejoin:round; stroke-width:2; stroke-opacity:0.1; fill:none\" points=\"214.002,1074.31 2352.76,1074.31 \"/>\n",
       "<polyline clip-path=\"url(#clip792)\" style=\"stroke:#000000; stroke-linecap:round; stroke-linejoin:round; stroke-width:2; stroke-opacity:0.1; fill:none\" points=\"214.002,963.52 2352.76,963.52 \"/>\n",
       "<polyline clip-path=\"url(#clip792)\" style=\"stroke:#000000; stroke-linecap:round; stroke-linejoin:round; stroke-width:2; stroke-opacity:0.1; fill:none\" points=\"214.002,852.73 2352.76,852.73 \"/>\n",
       "<polyline clip-path=\"url(#clip792)\" style=\"stroke:#000000; stroke-linecap:round; stroke-linejoin:round; stroke-width:2; stroke-opacity:0.1; fill:none\" points=\"214.002,741.939 2352.76,741.939 \"/>\n",
       "<polyline clip-path=\"url(#clip792)\" style=\"stroke:#000000; stroke-linecap:round; stroke-linejoin:round; stroke-width:2; stroke-opacity:0.1; fill:none\" points=\"214.002,631.149 2352.76,631.149 \"/>\n",
       "<polyline clip-path=\"url(#clip792)\" style=\"stroke:#000000; stroke-linecap:round; stroke-linejoin:round; stroke-width:2; stroke-opacity:0.1; fill:none\" points=\"214.002,520.358 2352.76,520.358 \"/>\n",
       "<polyline clip-path=\"url(#clip792)\" style=\"stroke:#000000; stroke-linecap:round; stroke-linejoin:round; stroke-width:2; stroke-opacity:0.1; fill:none\" points=\"214.002,409.568 2352.76,409.568 \"/>\n",
       "<polyline clip-path=\"url(#clip792)\" style=\"stroke:#000000; stroke-linecap:round; stroke-linejoin:round; stroke-width:2; stroke-opacity:0.1; fill:none\" points=\"214.002,298.777 2352.76,298.777 \"/>\n",
       "<polyline clip-path=\"url(#clip792)\" style=\"stroke:#000000; stroke-linecap:round; stroke-linejoin:round; stroke-width:2; stroke-opacity:0.1; fill:none\" points=\"214.002,187.987 2352.76,187.987 \"/>\n",
       "<polyline clip-path=\"url(#clip792)\" style=\"stroke:#000000; stroke-linecap:round; stroke-linejoin:round; stroke-width:2; stroke-opacity:0.1; fill:none\" points=\"214.002,77.1961 2352.76,77.1961 \"/>\n",
       "<polyline clip-path=\"url(#clip790)\" style=\"stroke:#000000; stroke-linecap:round; stroke-linejoin:round; stroke-width:4; stroke-opacity:1; fill:none\" points=\"214.002,1486.45 2352.76,1486.45 \"/>\n",
       "<polyline clip-path=\"url(#clip790)\" style=\"stroke:#000000; stroke-linecap:round; stroke-linejoin:round; stroke-width:4; stroke-opacity:1; fill:none\" points=\"274.533,1486.45 274.533,1467.55 \"/>\n",
       "<polyline clip-path=\"url(#clip790)\" style=\"stroke:#000000; stroke-linecap:round; stroke-linejoin:round; stroke-width:4; stroke-opacity:1; fill:none\" points=\"418.654,1486.45 418.654,1467.55 \"/>\n",
       "<polyline clip-path=\"url(#clip790)\" style=\"stroke:#000000; stroke-linecap:round; stroke-linejoin:round; stroke-width:4; stroke-opacity:1; fill:none\" points=\"562.775,1486.45 562.775,1467.55 \"/>\n",
       "<polyline clip-path=\"url(#clip790)\" style=\"stroke:#000000; stroke-linecap:round; stroke-linejoin:round; stroke-width:4; stroke-opacity:1; fill:none\" points=\"706.896,1486.45 706.896,1467.55 \"/>\n",
       "<polyline clip-path=\"url(#clip790)\" style=\"stroke:#000000; stroke-linecap:round; stroke-linejoin:round; stroke-width:4; stroke-opacity:1; fill:none\" points=\"851.017,1486.45 851.017,1467.55 \"/>\n",
       "<polyline clip-path=\"url(#clip790)\" style=\"stroke:#000000; stroke-linecap:round; stroke-linejoin:round; stroke-width:4; stroke-opacity:1; fill:none\" points=\"995.137,1486.45 995.137,1467.55 \"/>\n",
       "<polyline clip-path=\"url(#clip790)\" style=\"stroke:#000000; stroke-linecap:round; stroke-linejoin:round; stroke-width:4; stroke-opacity:1; fill:none\" points=\"1139.26,1486.45 1139.26,1467.55 \"/>\n",
       "<polyline clip-path=\"url(#clip790)\" style=\"stroke:#000000; stroke-linecap:round; stroke-linejoin:round; stroke-width:4; stroke-opacity:1; fill:none\" points=\"1283.38,1486.45 1283.38,1467.55 \"/>\n",
       "<polyline clip-path=\"url(#clip790)\" style=\"stroke:#000000; stroke-linecap:round; stroke-linejoin:round; stroke-width:4; stroke-opacity:1; fill:none\" points=\"1427.5,1486.45 1427.5,1467.55 \"/>\n",
       "<polyline clip-path=\"url(#clip790)\" style=\"stroke:#000000; stroke-linecap:round; stroke-linejoin:round; stroke-width:4; stroke-opacity:1; fill:none\" points=\"1571.62,1486.45 1571.62,1467.55 \"/>\n",
       "<polyline clip-path=\"url(#clip790)\" style=\"stroke:#000000; stroke-linecap:round; stroke-linejoin:round; stroke-width:4; stroke-opacity:1; fill:none\" points=\"1715.74,1486.45 1715.74,1467.55 \"/>\n",
       "<polyline clip-path=\"url(#clip790)\" style=\"stroke:#000000; stroke-linecap:round; stroke-linejoin:round; stroke-width:4; stroke-opacity:1; fill:none\" points=\"1859.86,1486.45 1859.86,1467.55 \"/>\n",
       "<polyline clip-path=\"url(#clip790)\" style=\"stroke:#000000; stroke-linecap:round; stroke-linejoin:round; stroke-width:4; stroke-opacity:1; fill:none\" points=\"2003.98,1486.45 2003.98,1467.55 \"/>\n",
       "<polyline clip-path=\"url(#clip790)\" style=\"stroke:#000000; stroke-linecap:round; stroke-linejoin:round; stroke-width:4; stroke-opacity:1; fill:none\" points=\"2148.1,1486.45 2148.1,1467.55 \"/>\n",
       "<polyline clip-path=\"url(#clip790)\" style=\"stroke:#000000; stroke-linecap:round; stroke-linejoin:round; stroke-width:4; stroke-opacity:1; fill:none\" points=\"2292.23,1486.45 2292.23,1467.55 \"/>\n",
       "<path clip-path=\"url(#clip790)\" d=\"M274.533 1517.37 Q270.922 1517.37 269.093 1520.93 Q267.288 1524.47 267.288 1531.6 Q267.288 1538.71 269.093 1542.27 Q270.922 1545.82 274.533 1545.82 Q278.167 1545.82 279.973 1542.27 Q281.802 1538.71 281.802 1531.6 Q281.802 1524.47 279.973 1520.93 Q278.167 1517.37 274.533 1517.37 M274.533 1513.66 Q280.343 1513.66 283.399 1518.27 Q286.478 1522.85 286.478 1531.6 Q286.478 1540.33 283.399 1544.94 Q280.343 1549.52 274.533 1549.52 Q268.723 1549.52 265.644 1544.94 Q262.589 1540.33 262.589 1531.6 Q262.589 1522.85 265.644 1518.27 Q268.723 1513.66 274.533 1513.66 Z\" fill=\"#000000\" fill-rule=\"nonzero\" fill-opacity=\"1\" /><path clip-path=\"url(#clip790)\" d=\"M409.036 1544.91 L416.675 1544.91 L416.675 1518.55 L408.365 1520.21 L408.365 1515.95 L416.629 1514.29 L421.305 1514.29 L421.305 1544.91 L428.943 1544.91 L428.943 1548.85 L409.036 1548.85 L409.036 1544.91 Z\" fill=\"#000000\" fill-rule=\"nonzero\" fill-opacity=\"1\" /><path clip-path=\"url(#clip790)\" d=\"M557.428 1544.91 L573.747 1544.91 L573.747 1548.85 L551.803 1548.85 L551.803 1544.91 Q554.465 1542.16 559.048 1537.53 Q563.655 1532.88 564.835 1531.53 Q567.08 1529.01 567.96 1527.27 Q568.863 1525.51 568.863 1523.82 Q568.863 1521.07 566.918 1519.33 Q564.997 1517.6 561.895 1517.6 Q559.696 1517.6 557.243 1518.36 Q554.812 1519.13 552.034 1520.68 L552.034 1515.95 Q554.858 1514.82 557.312 1514.24 Q559.766 1513.66 561.803 1513.66 Q567.173 1513.66 570.367 1516.35 Q573.562 1519.03 573.562 1523.52 Q573.562 1525.65 572.752 1527.57 Q571.965 1529.47 569.858 1532.07 Q569.28 1532.74 566.178 1535.95 Q563.076 1539.15 557.428 1544.91 Z\" fill=\"#000000\" fill-rule=\"nonzero\" fill-opacity=\"1\" /><path clip-path=\"url(#clip790)\" d=\"M711.143 1530.21 Q714.5 1530.93 716.375 1533.2 Q718.273 1535.47 718.273 1538.8 Q718.273 1543.92 714.755 1546.72 Q711.236 1549.52 704.755 1549.52 Q702.579 1549.52 700.264 1549.08 Q697.972 1548.66 695.519 1547.81 L695.519 1543.29 Q697.463 1544.43 699.778 1545.01 Q702.093 1545.58 704.616 1545.58 Q709.014 1545.58 711.305 1543.85 Q713.62 1542.11 713.62 1538.8 Q713.62 1535.75 711.467 1534.03 Q709.338 1532.3 705.518 1532.3 L701.491 1532.3 L701.491 1528.45 L705.704 1528.45 Q709.153 1528.45 710.981 1527.09 Q712.81 1525.7 712.81 1523.11 Q712.81 1520.45 710.912 1519.03 Q709.037 1517.6 705.518 1517.6 Q703.597 1517.6 701.398 1518.01 Q699.199 1518.43 696.56 1519.31 L696.56 1515.14 Q699.222 1514.4 701.537 1514.03 Q703.875 1513.66 705.935 1513.66 Q711.259 1513.66 714.361 1516.09 Q717.463 1518.5 717.463 1522.62 Q717.463 1525.49 715.819 1527.48 Q714.176 1529.45 711.143 1530.21 Z\" fill=\"#000000\" fill-rule=\"nonzero\" fill-opacity=\"1\" /><path clip-path=\"url(#clip790)\" d=\"M854.026 1518.36 L842.22 1536.81 L854.026 1536.81 L854.026 1518.36 M852.799 1514.29 L858.679 1514.29 L858.679 1536.81 L863.609 1536.81 L863.609 1540.7 L858.679 1540.7 L858.679 1548.85 L854.026 1548.85 L854.026 1540.7 L838.424 1540.7 L838.424 1536.19 L852.799 1514.29 Z\" fill=\"#000000\" fill-rule=\"nonzero\" fill-opacity=\"1\" /><path clip-path=\"url(#clip790)\" d=\"M985.415 1514.29 L1003.77 1514.29 L1003.77 1518.22 L989.698 1518.22 L989.698 1526.7 Q990.716 1526.35 991.735 1526.19 Q992.753 1526 993.772 1526 Q999.559 1526 1002.94 1529.17 Q1006.32 1532.34 1006.32 1537.76 Q1006.32 1543.34 1002.85 1546.44 Q999.374 1549.52 993.054 1549.52 Q990.878 1549.52 988.61 1549.15 Q986.364 1548.78 983.957 1548.04 L983.957 1543.34 Q986.04 1544.47 988.263 1545.03 Q990.485 1545.58 992.962 1545.58 Q996.966 1545.58 999.304 1543.48 Q1001.64 1541.37 1001.64 1537.76 Q1001.64 1534.15 999.304 1532.04 Q996.966 1529.94 992.962 1529.94 Q991.087 1529.94 989.212 1530.35 Q987.36 1530.77 985.415 1531.65 L985.415 1514.29 Z\" fill=\"#000000\" fill-rule=\"nonzero\" fill-opacity=\"1\" /><path clip-path=\"url(#clip790)\" d=\"M1139.66 1529.7 Q1136.52 1529.7 1134.66 1531.86 Q1132.83 1534.01 1132.83 1537.76 Q1132.83 1541.49 1134.66 1543.66 Q1136.52 1545.82 1139.66 1545.82 Q1142.81 1545.82 1144.64 1543.66 Q1146.49 1541.49 1146.49 1537.76 Q1146.49 1534.01 1144.64 1531.86 Q1142.81 1529.7 1139.66 1529.7 M1148.95 1515.05 L1148.95 1519.31 Q1147.19 1518.48 1145.38 1518.04 Q1143.6 1517.6 1141.84 1517.6 Q1137.21 1517.6 1134.76 1520.72 Q1132.33 1523.85 1131.98 1530.17 Q1133.34 1528.15 1135.4 1527.09 Q1137.46 1526 1139.94 1526 Q1145.15 1526 1148.16 1529.17 Q1151.19 1532.32 1151.19 1537.76 Q1151.19 1543.08 1148.04 1546.3 Q1144.89 1549.52 1139.66 1549.52 Q1133.67 1549.52 1130.5 1544.94 Q1127.33 1540.33 1127.33 1531.6 Q1127.33 1523.41 1131.21 1518.55 Q1135.1 1513.66 1141.65 1513.66 Q1143.41 1513.66 1145.2 1514.01 Q1147 1514.36 1148.95 1515.05 Z\" fill=\"#000000\" fill-rule=\"nonzero\" fill-opacity=\"1\" /><path clip-path=\"url(#clip790)\" d=\"M1272.27 1514.29 L1294.49 1514.29 L1294.49 1516.28 L1281.94 1548.85 L1277.06 1548.85 L1288.87 1518.22 L1272.27 1518.22 L1272.27 1514.29 Z\" fill=\"#000000\" fill-rule=\"nonzero\" fill-opacity=\"1\" /><path clip-path=\"url(#clip790)\" d=\"M1427.5 1532.44 Q1424.17 1532.44 1422.25 1534.22 Q1420.35 1536 1420.35 1539.13 Q1420.35 1542.25 1422.25 1544.03 Q1424.17 1545.82 1427.5 1545.82 Q1430.83 1545.82 1432.75 1544.03 Q1434.68 1542.23 1434.68 1539.13 Q1434.68 1536 1432.75 1534.22 Q1430.86 1532.44 1427.5 1532.44 M1422.82 1530.45 Q1419.81 1529.7 1418.13 1527.64 Q1416.46 1525.58 1416.46 1522.62 Q1416.46 1518.48 1419.4 1516.07 Q1422.36 1513.66 1427.5 1513.66 Q1432.66 1513.66 1435.6 1516.07 Q1438.54 1518.48 1438.54 1522.62 Q1438.54 1525.58 1436.85 1527.64 Q1435.19 1529.7 1432.2 1530.45 Q1435.58 1531.23 1437.45 1533.52 Q1439.35 1535.82 1439.35 1539.13 Q1439.35 1544.15 1436.27 1546.83 Q1433.22 1549.52 1427.5 1549.52 Q1421.78 1549.52 1418.7 1546.83 Q1415.65 1544.15 1415.65 1539.13 Q1415.65 1535.82 1417.55 1533.52 Q1419.44 1531.23 1422.82 1530.45 M1421.11 1523.06 Q1421.11 1525.75 1422.78 1527.25 Q1424.47 1528.76 1427.5 1528.76 Q1430.51 1528.76 1432.2 1527.25 Q1433.91 1525.75 1433.91 1523.06 Q1433.91 1520.38 1432.2 1518.87 Q1430.51 1517.37 1427.5 1517.37 Q1424.47 1517.37 1422.78 1518.87 Q1421.11 1520.38 1421.11 1523.06 Z\" fill=\"#000000\" fill-rule=\"nonzero\" fill-opacity=\"1\" /><path clip-path=\"url(#clip790)\" d=\"M1561.92 1548.13 L1561.92 1543.87 Q1563.68 1544.7 1565.49 1545.14 Q1567.29 1545.58 1569.03 1545.58 Q1573.66 1545.58 1576.09 1542.48 Q1578.54 1539.36 1578.89 1533.01 Q1577.55 1535.01 1575.49 1536.07 Q1573.43 1537.13 1570.93 1537.13 Q1565.74 1537.13 1562.71 1534.01 Q1559.7 1530.86 1559.7 1525.42 Q1559.7 1520.1 1562.85 1516.88 Q1566 1513.66 1571.23 1513.66 Q1577.22 1513.66 1580.37 1518.27 Q1583.54 1522.85 1583.54 1531.6 Q1583.54 1539.77 1579.65 1544.66 Q1575.79 1549.52 1569.24 1549.52 Q1567.48 1549.52 1565.67 1549.17 Q1563.87 1548.82 1561.92 1548.13 M1571.23 1533.48 Q1574.38 1533.48 1576.2 1531.32 Q1578.06 1529.17 1578.06 1525.42 Q1578.06 1521.7 1576.2 1519.54 Q1574.38 1517.37 1571.23 1517.37 Q1568.08 1517.37 1566.23 1519.54 Q1564.4 1521.7 1564.4 1525.42 Q1564.4 1529.17 1566.23 1531.32 Q1568.08 1533.48 1571.23 1533.48 Z\" fill=\"#000000\" fill-rule=\"nonzero\" fill-opacity=\"1\" /><path clip-path=\"url(#clip790)\" d=\"M1690.43 1544.91 L1698.07 1544.91 L1698.07 1518.55 L1689.76 1520.21 L1689.76 1515.95 L1698.02 1514.29 L1702.7 1514.29 L1702.7 1544.91 L1710.34 1544.91 L1710.34 1548.85 L1690.43 1548.85 L1690.43 1544.91 Z\" fill=\"#000000\" fill-rule=\"nonzero\" fill-opacity=\"1\" /><path clip-path=\"url(#clip790)\" d=\"M1729.78 1517.37 Q1726.17 1517.37 1724.34 1520.93 Q1722.54 1524.47 1722.54 1531.6 Q1722.54 1538.71 1724.34 1542.27 Q1726.17 1545.82 1729.78 1545.82 Q1733.42 1545.82 1735.22 1542.27 Q1737.05 1538.71 1737.05 1531.6 Q1737.05 1524.47 1735.22 1520.93 Q1733.42 1517.37 1729.78 1517.37 M1729.78 1513.66 Q1735.59 1513.66 1738.65 1518.27 Q1741.73 1522.85 1741.73 1531.6 Q1741.73 1540.33 1738.65 1544.94 Q1735.59 1549.52 1729.78 1549.52 Q1723.97 1549.52 1720.89 1544.94 Q1717.84 1540.33 1717.84 1531.6 Q1717.84 1522.85 1720.89 1518.27 Q1723.97 1513.66 1729.78 1513.66 Z\" fill=\"#000000\" fill-rule=\"nonzero\" fill-opacity=\"1\" /><path clip-path=\"url(#clip790)\" d=\"M1835.16 1544.91 L1842.8 1544.91 L1842.8 1518.55 L1834.49 1520.21 L1834.49 1515.95 L1842.76 1514.29 L1847.43 1514.29 L1847.43 1544.91 L1855.07 1544.91 L1855.07 1548.85 L1835.16 1548.85 L1835.16 1544.91 Z\" fill=\"#000000\" fill-rule=\"nonzero\" fill-opacity=\"1\" /><path clip-path=\"url(#clip790)\" d=\"M1865.33 1544.91 L1872.96 1544.91 L1872.96 1518.55 L1864.65 1520.21 L1864.65 1515.95 L1872.92 1514.29 L1877.59 1514.29 L1877.59 1544.91 L1885.23 1544.91 L1885.23 1548.85 L1865.33 1548.85 L1865.33 1544.91 Z\" fill=\"#000000\" fill-rule=\"nonzero\" fill-opacity=\"1\" /><path clip-path=\"url(#clip790)\" d=\"M1979.47 1544.91 L1987.11 1544.91 L1987.11 1518.55 L1978.8 1520.21 L1978.8 1515.95 L1987.06 1514.29 L1991.74 1514.29 L1991.74 1544.91 L1999.38 1544.91 L1999.38 1548.85 L1979.47 1548.85 L1979.47 1544.91 Z\" fill=\"#000000\" fill-rule=\"nonzero\" fill-opacity=\"1\" /><path clip-path=\"url(#clip790)\" d=\"M2012.85 1544.91 L2029.17 1544.91 L2029.17 1548.85 L2007.22 1548.85 L2007.22 1544.91 Q2009.89 1542.16 2014.47 1537.53 Q2019.08 1532.88 2020.26 1531.53 Q2022.5 1529.01 2023.38 1527.27 Q2024.28 1525.51 2024.28 1523.82 Q2024.28 1521.07 2022.34 1519.33 Q2020.42 1517.6 2017.32 1517.6 Q2015.12 1517.6 2012.66 1518.36 Q2010.23 1519.13 2007.46 1520.68 L2007.46 1515.95 Q2010.28 1514.82 2012.73 1514.24 Q2015.19 1513.66 2017.22 1513.66 Q2022.59 1513.66 2025.79 1516.35 Q2028.98 1519.03 2028.98 1523.52 Q2028.98 1525.65 2028.17 1527.57 Q2027.39 1529.47 2025.28 1532.07 Q2024.7 1532.74 2021.6 1535.95 Q2018.5 1539.15 2012.85 1544.91 Z\" fill=\"#000000\" fill-rule=\"nonzero\" fill-opacity=\"1\" /><path clip-path=\"url(#clip790)\" d=\"M2123.12 1544.91 L2130.75 1544.91 L2130.75 1518.55 L2122.44 1520.21 L2122.44 1515.95 L2130.71 1514.29 L2135.38 1514.29 L2135.38 1544.91 L2143.02 1544.91 L2143.02 1548.85 L2123.12 1548.85 L2123.12 1544.91 Z\" fill=\"#000000\" fill-rule=\"nonzero\" fill-opacity=\"1\" /><path clip-path=\"url(#clip790)\" d=\"M2166.63 1530.21 Q2169.99 1530.93 2171.87 1533.2 Q2173.76 1535.47 2173.76 1538.8 Q2173.76 1543.92 2170.25 1546.72 Q2166.73 1549.52 2160.25 1549.52 Q2158.07 1549.52 2155.75 1549.08 Q2153.46 1548.66 2151.01 1547.81 L2151.01 1543.29 Q2152.95 1544.43 2155.27 1545.01 Q2157.58 1545.58 2160.11 1545.58 Q2164.5 1545.58 2166.8 1543.85 Q2169.11 1542.11 2169.11 1538.8 Q2169.11 1535.75 2166.96 1534.03 Q2164.83 1532.3 2161.01 1532.3 L2156.98 1532.3 L2156.98 1528.45 L2161.19 1528.45 Q2164.64 1528.45 2166.47 1527.09 Q2168.3 1525.7 2168.3 1523.11 Q2168.3 1520.45 2166.4 1519.03 Q2164.53 1517.6 2161.01 1517.6 Q2159.09 1517.6 2156.89 1518.01 Q2154.69 1518.43 2152.05 1519.31 L2152.05 1515.14 Q2154.71 1514.4 2157.03 1514.03 Q2159.37 1513.66 2161.43 1513.66 Q2166.75 1513.66 2169.85 1516.09 Q2172.95 1518.5 2172.95 1522.62 Q2172.95 1525.49 2171.31 1527.48 Q2169.67 1529.45 2166.63 1530.21 Z\" fill=\"#000000\" fill-rule=\"nonzero\" fill-opacity=\"1\" /><path clip-path=\"url(#clip790)\" d=\"M2266.67 1544.91 L2274.31 1544.91 L2274.31 1518.55 L2266 1520.21 L2266 1515.95 L2274.26 1514.29 L2278.94 1514.29 L2278.94 1544.91 L2286.58 1544.91 L2286.58 1548.85 L2266.67 1548.85 L2266.67 1544.91 Z\" fill=\"#000000\" fill-rule=\"nonzero\" fill-opacity=\"1\" /><path clip-path=\"url(#clip790)\" d=\"M2308.87 1518.36 L2297.06 1536.81 L2308.87 1536.81 L2308.87 1518.36 M2307.64 1514.29 L2313.52 1514.29 L2313.52 1536.81 L2318.45 1536.81 L2318.45 1540.7 L2313.52 1540.7 L2313.52 1548.85 L2308.87 1548.85 L2308.87 1540.7 L2293.27 1540.7 L2293.27 1536.19 L2307.64 1514.29 Z\" fill=\"#000000\" fill-rule=\"nonzero\" fill-opacity=\"1\" /><polyline clip-path=\"url(#clip790)\" style=\"stroke:#000000; stroke-linecap:round; stroke-linejoin:round; stroke-width:4; stroke-opacity:1; fill:none\" points=\"214.002,1486.45 214.002,47.2441 \"/>\n",
       "<polyline clip-path=\"url(#clip790)\" style=\"stroke:#000000; stroke-linecap:round; stroke-linejoin:round; stroke-width:4; stroke-opacity:1; fill:none\" points=\"214.002,1406.68 232.9,1406.68 \"/>\n",
       "<polyline clip-path=\"url(#clip790)\" style=\"stroke:#000000; stroke-linecap:round; stroke-linejoin:round; stroke-width:4; stroke-opacity:1; fill:none\" points=\"214.002,1295.89 232.9,1295.89 \"/>\n",
       "<polyline clip-path=\"url(#clip790)\" style=\"stroke:#000000; stroke-linecap:round; stroke-linejoin:round; stroke-width:4; stroke-opacity:1; fill:none\" points=\"214.002,1185.1 232.9,1185.1 \"/>\n",
       "<polyline clip-path=\"url(#clip790)\" style=\"stroke:#000000; stroke-linecap:round; stroke-linejoin:round; stroke-width:4; stroke-opacity:1; fill:none\" points=\"214.002,1074.31 232.9,1074.31 \"/>\n",
       "<polyline clip-path=\"url(#clip790)\" style=\"stroke:#000000; stroke-linecap:round; stroke-linejoin:round; stroke-width:4; stroke-opacity:1; fill:none\" points=\"214.002,963.52 232.9,963.52 \"/>\n",
       "<polyline clip-path=\"url(#clip790)\" style=\"stroke:#000000; stroke-linecap:round; stroke-linejoin:round; stroke-width:4; stroke-opacity:1; fill:none\" points=\"214.002,852.73 232.9,852.73 \"/>\n",
       "<polyline clip-path=\"url(#clip790)\" style=\"stroke:#000000; stroke-linecap:round; stroke-linejoin:round; stroke-width:4; stroke-opacity:1; fill:none\" points=\"214.002,741.939 232.9,741.939 \"/>\n",
       "<polyline clip-path=\"url(#clip790)\" style=\"stroke:#000000; stroke-linecap:round; stroke-linejoin:round; stroke-width:4; stroke-opacity:1; fill:none\" points=\"214.002,631.149 232.9,631.149 \"/>\n",
       "<polyline clip-path=\"url(#clip790)\" style=\"stroke:#000000; stroke-linecap:round; stroke-linejoin:round; stroke-width:4; stroke-opacity:1; fill:none\" points=\"214.002,520.358 232.9,520.358 \"/>\n",
       "<polyline clip-path=\"url(#clip790)\" style=\"stroke:#000000; stroke-linecap:round; stroke-linejoin:round; stroke-width:4; stroke-opacity:1; fill:none\" points=\"214.002,409.568 232.9,409.568 \"/>\n",
       "<polyline clip-path=\"url(#clip790)\" style=\"stroke:#000000; stroke-linecap:round; stroke-linejoin:round; stroke-width:4; stroke-opacity:1; fill:none\" points=\"214.002,298.777 232.9,298.777 \"/>\n",
       "<polyline clip-path=\"url(#clip790)\" style=\"stroke:#000000; stroke-linecap:round; stroke-linejoin:round; stroke-width:4; stroke-opacity:1; fill:none\" points=\"214.002,187.987 232.9,187.987 \"/>\n",
       "<polyline clip-path=\"url(#clip790)\" style=\"stroke:#000000; stroke-linecap:round; stroke-linejoin:round; stroke-width:4; stroke-opacity:1; fill:none\" points=\"214.002,77.1961 232.9,77.1961 \"/>\n",
       "<path clip-path=\"url(#clip790)\" d=\"M52.8671 1426.47 L60.506 1426.47 L60.506 1400.11 L52.1958 1401.78 L52.1958 1397.52 L60.4597 1395.85 L65.1356 1395.85 L65.1356 1426.47 L72.7744 1426.47 L72.7744 1430.41 L52.8671 1430.41 L52.8671 1426.47 Z\" fill=\"#000000\" fill-rule=\"nonzero\" fill-opacity=\"1\" /><path clip-path=\"url(#clip790)\" d=\"M92.2188 1398.93 Q88.6077 1398.93 86.779 1402.49 Q84.9734 1406.03 84.9734 1413.16 Q84.9734 1420.27 86.779 1423.84 Q88.6077 1427.38 92.2188 1427.38 Q95.853 1427.38 97.6585 1423.84 Q99.4872 1420.27 99.4872 1413.16 Q99.4872 1406.03 97.6585 1402.49 Q95.853 1398.93 92.2188 1398.93 M92.2188 1395.22 Q98.0289 1395.22 101.084 1399.83 Q104.163 1404.41 104.163 1413.16 Q104.163 1421.89 101.084 1426.5 Q98.0289 1431.08 92.2188 1431.08 Q86.4086 1431.08 83.3299 1426.5 Q80.2744 1421.89 80.2744 1413.16 Q80.2744 1404.41 83.3299 1399.83 Q86.4086 1395.22 92.2188 1395.22 Z\" fill=\"#000000\" fill-rule=\"nonzero\" fill-opacity=\"1\" /><path clip-path=\"url(#clip790)\" d=\"M104.163 1389.33 L128.275 1389.33 L128.275 1392.52 L104.163 1392.52 L104.163 1389.33 Z\" fill=\"#000000\" fill-rule=\"nonzero\" fill-opacity=\"1\" /><path clip-path=\"url(#clip790)\" d=\"M137.133 1399.8 L143.34 1399.8 L143.34 1378.38 L136.588 1379.73 L136.588 1376.27 L143.302 1374.92 L147.101 1374.92 L147.101 1399.8 L153.308 1399.8 L153.308 1403 L137.133 1403 L137.133 1399.8 Z\" fill=\"#000000\" fill-rule=\"nonzero\" fill-opacity=\"1\" /><path clip-path=\"url(#clip790)\" d=\"M161.019 1374.92 L175.934 1374.92 L175.934 1378.12 L164.498 1378.12 L164.498 1385 Q165.326 1384.72 166.154 1384.59 Q166.981 1384.44 167.809 1384.44 Q172.511 1384.44 175.257 1387.01 Q178.002 1389.59 178.002 1393.99 Q178.002 1398.52 175.181 1401.04 Q172.36 1403.54 167.226 1403.54 Q165.458 1403.54 163.614 1403.24 Q161.79 1402.94 159.834 1402.34 L159.834 1398.52 Q161.527 1399.44 163.332 1399.9 Q165.138 1400.35 167.15 1400.35 Q170.404 1400.35 172.304 1398.64 Q174.203 1396.92 174.203 1393.99 Q174.203 1391.06 172.304 1389.34 Q170.404 1387.63 167.15 1387.63 Q165.627 1387.63 164.103 1387.97 Q162.599 1388.31 161.019 1389.03 L161.019 1374.92 Z\" fill=\"#000000\" fill-rule=\"nonzero\" fill-opacity=\"1\" /><path clip-path=\"url(#clip790)\" d=\"M51.6634 1315.68 L59.3023 1315.68 L59.3023 1289.32 L50.9921 1290.99 L50.9921 1286.73 L59.256 1285.06 L63.9319 1285.06 L63.9319 1315.68 L71.5707 1315.68 L71.5707 1319.62 L51.6634 1319.62 L51.6634 1315.68 Z\" fill=\"#000000\" fill-rule=\"nonzero\" fill-opacity=\"1\" /><path clip-path=\"url(#clip790)\" d=\"M91.0151 1288.14 Q87.404 1288.14 85.5753 1291.7 Q83.7697 1295.24 83.7697 1302.37 Q83.7697 1309.48 85.5753 1313.05 Q87.404 1316.59 91.0151 1316.59 Q94.6493 1316.59 96.4548 1313.05 Q98.2835 1309.48 98.2835 1302.37 Q98.2835 1295.24 96.4548 1291.7 Q94.6493 1288.14 91.0151 1288.14 M91.0151 1284.43 Q96.8252 1284.43 99.8808 1289.04 Q102.959 1293.62 102.959 1302.37 Q102.959 1311.1 99.8808 1315.71 Q96.8252 1320.29 91.0151 1320.29 Q85.2049 1320.29 82.1262 1315.71 Q79.0707 1311.1 79.0707 1302.37 Q79.0707 1293.62 82.1262 1289.04 Q85.2049 1284.43 91.0151 1284.43 Z\" fill=\"#000000\" fill-rule=\"nonzero\" fill-opacity=\"1\" /><path clip-path=\"url(#clip790)\" d=\"M102.959 1278.54 L127.071 1278.54 L127.071 1281.73 L102.959 1281.73 L102.959 1278.54 Z\" fill=\"#000000\" fill-rule=\"nonzero\" fill-opacity=\"1\" /><path clip-path=\"url(#clip790)\" d=\"M135.929 1289.01 L142.136 1289.01 L142.136 1267.59 L135.384 1268.94 L135.384 1265.48 L142.098 1264.13 L145.898 1264.13 L145.898 1289.01 L152.104 1289.01 L152.104 1292.21 L135.929 1292.21 L135.929 1289.01 Z\" fill=\"#000000\" fill-rule=\"nonzero\" fill-opacity=\"1\" /><path clip-path=\"url(#clip790)\" d=\"M170.216 1267.44 L160.624 1282.43 L170.216 1282.43 L170.216 1267.44 M169.219 1264.13 L173.996 1264.13 L173.996 1282.43 L178.002 1282.43 L178.002 1285.59 L173.996 1285.59 L173.996 1292.21 L170.216 1292.21 L170.216 1285.59 L157.54 1285.59 L157.54 1281.92 L169.219 1264.13 Z\" fill=\"#000000\" fill-rule=\"nonzero\" fill-opacity=\"1\" /><path clip-path=\"url(#clip790)\" d=\"M52.585 1204.89 L60.2238 1204.89 L60.2238 1178.53 L51.9137 1180.19 L51.9137 1175.94 L60.1776 1174.27 L64.8535 1174.27 L64.8535 1204.89 L72.4923 1204.89 L72.4923 1208.83 L52.585 1208.83 L52.585 1204.89 Z\" fill=\"#000000\" fill-rule=\"nonzero\" fill-opacity=\"1\" /><path clip-path=\"url(#clip790)\" d=\"M91.9366 1177.35 Q88.3255 1177.35 86.4969 1180.91 Q84.6913 1184.45 84.6913 1191.58 Q84.6913 1198.69 86.4969 1202.25 Q88.3255 1205.8 91.9366 1205.8 Q95.5709 1205.8 97.3764 1202.25 Q99.2051 1198.69 99.2051 1191.58 Q99.2051 1184.45 97.3764 1180.91 Q95.5709 1177.35 91.9366 1177.35 M91.9366 1173.64 Q97.7468 1173.64 100.802 1178.25 Q103.881 1182.83 103.881 1191.58 Q103.881 1200.31 100.802 1204.92 Q97.7468 1209.5 91.9366 1209.5 Q86.1265 1209.5 83.0478 1204.92 Q79.9923 1200.31 79.9923 1191.58 Q79.9923 1182.83 83.0478 1178.25 Q86.1265 1173.64 91.9366 1173.64 Z\" fill=\"#000000\" fill-rule=\"nonzero\" fill-opacity=\"1\" /><path clip-path=\"url(#clip790)\" d=\"M103.881 1167.75 L127.993 1167.75 L127.993 1170.94 L103.881 1170.94 L103.881 1167.75 Z\" fill=\"#000000\" fill-rule=\"nonzero\" fill-opacity=\"1\" /><path clip-path=\"url(#clip790)\" d=\"M136.851 1178.22 L143.058 1178.22 L143.058 1156.8 L136.306 1158.15 L136.306 1154.69 L143.02 1153.34 L146.819 1153.34 L146.819 1178.22 L153.026 1178.22 L153.026 1181.42 L136.851 1181.42 L136.851 1178.22 Z\" fill=\"#000000\" fill-rule=\"nonzero\" fill-opacity=\"1\" /><path clip-path=\"url(#clip790)\" d=\"M172.21 1166.28 Q174.937 1166.86 176.46 1168.7 Q178.002 1170.55 178.002 1173.26 Q178.002 1177.41 175.144 1179.69 Q172.285 1181.96 167.019 1181.96 Q165.251 1181.96 163.37 1181.61 Q161.508 1181.27 159.514 1180.57 L159.514 1176.9 Q161.094 1177.83 162.975 1178.3 Q164.856 1178.77 166.906 1178.77 Q170.479 1178.77 172.341 1177.36 Q174.222 1175.95 174.222 1173.26 Q174.222 1170.77 172.473 1169.38 Q170.743 1167.97 167.639 1167.97 L164.367 1167.97 L164.367 1164.85 L167.79 1164.85 Q170.592 1164.85 172.078 1163.74 Q173.564 1162.61 173.564 1160.5 Q173.564 1158.34 172.022 1157.19 Q170.498 1156.03 167.639 1156.03 Q166.078 1156.03 164.292 1156.37 Q162.505 1156.7 160.361 1157.42 L160.361 1154.03 Q162.524 1153.43 164.404 1153.13 Q166.304 1152.83 167.978 1152.83 Q172.304 1152.83 174.824 1154.81 Q177.344 1156.76 177.344 1160.11 Q177.344 1162.44 176.009 1164.06 Q174.673 1165.66 172.21 1166.28 Z\" fill=\"#000000\" fill-rule=\"nonzero\" fill-opacity=\"1\" /><path clip-path=\"url(#clip790)\" d=\"M53.3561 1094.1 L60.995 1094.1 L60.995 1067.74 L52.6848 1069.4 L52.6848 1065.14 L60.9487 1063.48 L65.6246 1063.48 L65.6246 1094.1 L73.2634 1094.1 L73.2634 1098.04 L53.3561 1098.04 L53.3561 1094.1 Z\" fill=\"#000000\" fill-rule=\"nonzero\" fill-opacity=\"1\" /><path clip-path=\"url(#clip790)\" d=\"M92.7078 1066.56 Q89.0967 1066.56 87.268 1070.12 Q85.4624 1073.66 85.4624 1080.79 Q85.4624 1087.9 87.268 1091.46 Q89.0967 1095.01 92.7078 1095.01 Q96.342 1095.01 98.1475 1091.46 Q99.9762 1087.9 99.9762 1080.79 Q99.9762 1073.66 98.1475 1070.12 Q96.342 1066.56 92.7078 1066.56 M92.7078 1062.85 Q98.5179 1062.85 101.573 1067.46 Q104.652 1072.04 104.652 1080.79 Q104.652 1089.52 101.573 1094.13 Q98.5179 1098.71 92.7078 1098.71 Q86.8976 1098.71 83.8189 1094.13 Q80.7634 1089.52 80.7634 1080.79 Q80.7634 1072.04 83.8189 1067.46 Q86.8976 1062.85 92.7078 1062.85 Z\" fill=\"#000000\" fill-rule=\"nonzero\" fill-opacity=\"1\" /><path clip-path=\"url(#clip790)\" d=\"M104.652 1056.95 L128.764 1056.95 L128.764 1060.15 L104.652 1060.15 L104.652 1056.95 Z\" fill=\"#000000\" fill-rule=\"nonzero\" fill-opacity=\"1\" /><path clip-path=\"url(#clip790)\" d=\"M137.622 1067.43 L143.829 1067.43 L143.829 1046.01 L137.077 1047.36 L137.077 1043.9 L143.791 1042.55 L147.59 1042.55 L147.59 1067.43 L153.797 1067.43 L153.797 1070.63 L137.622 1070.63 L137.622 1067.43 Z\" fill=\"#000000\" fill-rule=\"nonzero\" fill-opacity=\"1\" /><path clip-path=\"url(#clip790)\" d=\"M164.743 1067.43 L178.002 1067.43 L178.002 1070.63 L160.173 1070.63 L160.173 1067.43 Q162.336 1065.19 166.06 1061.43 Q169.802 1057.65 170.761 1056.56 Q172.586 1054.51 173.3 1053.1 Q174.034 1051.67 174.034 1050.3 Q174.034 1048.06 172.454 1046.65 Q170.893 1045.24 168.373 1045.24 Q166.586 1045.24 164.593 1045.86 Q162.618 1046.48 160.361 1047.74 L160.361 1043.9 Q162.655 1042.98 164.649 1042.51 Q166.643 1042.04 168.298 1042.04 Q172.661 1042.04 175.257 1044.22 Q177.852 1046.4 177.852 1050.05 Q177.852 1051.78 177.194 1053.34 Q176.554 1054.89 174.843 1056.99 Q174.373 1057.54 171.852 1060.15 Q169.332 1062.75 164.743 1067.43 Z\" fill=\"#000000\" fill-rule=\"nonzero\" fill-opacity=\"1\" /><path clip-path=\"url(#clip790)\" d=\"M53.0552 983.313 L60.694 983.313 L60.694 956.947 L52.3839 958.614 L52.3839 954.354 L60.6477 952.688 L65.3236 952.688 L65.3236 983.313 L72.9625 983.313 L72.9625 987.248 L53.0552 987.248 L53.0552 983.313 Z\" fill=\"#000000\" fill-rule=\"nonzero\" fill-opacity=\"1\" /><path clip-path=\"url(#clip790)\" d=\"M92.4068 955.766 Q88.7957 955.766 86.967 959.331 Q85.1615 962.873 85.1615 970.003 Q85.1615 977.109 86.967 980.674 Q88.7957 984.215 92.4068 984.215 Q96.0411 984.215 97.8466 980.674 Q99.6753 977.109 99.6753 970.003 Q99.6753 962.873 97.8466 959.331 Q96.0411 955.766 92.4068 955.766 M92.4068 952.063 Q98.217 952.063 101.273 956.669 Q104.351 961.253 104.351 970.003 Q104.351 978.729 101.273 983.336 Q98.217 987.919 92.4068 987.919 Q86.5967 987.919 83.518 983.336 Q80.4625 978.729 80.4625 970.003 Q80.4625 961.253 83.518 956.669 Q86.5967 952.063 92.4068 952.063 Z\" fill=\"#000000\" fill-rule=\"nonzero\" fill-opacity=\"1\" /><path clip-path=\"url(#clip790)\" d=\"M104.351 946.164 L128.463 946.164 L128.463 949.361 L104.351 949.361 L104.351 946.164 Z\" fill=\"#000000\" fill-rule=\"nonzero\" fill-opacity=\"1\" /><path clip-path=\"url(#clip790)\" d=\"M137.321 956.64 L143.528 956.64 L143.528 935.218 L136.776 936.572 L136.776 933.112 L143.49 931.757 L147.289 931.757 L147.289 956.64 L153.496 956.64 L153.496 959.837 L137.321 959.837 L137.321 956.64 Z\" fill=\"#000000\" fill-rule=\"nonzero\" fill-opacity=\"1\" /><path clip-path=\"url(#clip790)\" d=\"M161.828 956.64 L168.034 956.64 L168.034 935.218 L161.282 936.572 L161.282 933.112 L167.997 931.757 L171.796 931.757 L171.796 956.64 L178.002 956.64 L178.002 959.837 L161.828 959.837 L161.828 956.64 Z\" fill=\"#000000\" fill-rule=\"nonzero\" fill-opacity=\"1\" /><path clip-path=\"url(#clip790)\" d=\"M52.0584 872.522 L59.6972 872.522 L59.6972 846.157 L51.3871 847.823 L51.3871 843.564 L59.6509 841.897 L64.3268 841.897 L64.3268 872.522 L71.9657 872.522 L71.9657 876.457 L52.0584 876.457 L52.0584 872.522 Z\" fill=\"#000000\" fill-rule=\"nonzero\" fill-opacity=\"1\" /><path clip-path=\"url(#clip790)\" d=\"M91.41 844.976 Q87.7989 844.976 85.9702 848.541 Q84.1647 852.082 84.1647 859.212 Q84.1647 866.318 85.9702 869.883 Q87.7989 873.425 91.41 873.425 Q95.0443 873.425 96.8498 869.883 Q98.6785 866.318 98.6785 859.212 Q98.6785 852.082 96.8498 848.541 Q95.0443 844.976 91.41 844.976 M91.41 841.272 Q97.2202 841.272 100.276 845.879 Q103.354 850.462 103.354 859.212 Q103.354 867.939 100.276 872.545 Q97.2202 877.129 91.41 877.129 Q85.5999 877.129 82.5212 872.545 Q79.4656 867.939 79.4656 859.212 Q79.4656 850.462 82.5212 845.879 Q85.5999 841.272 91.41 841.272 Z\" fill=\"#000000\" fill-rule=\"nonzero\" fill-opacity=\"1\" /><path clip-path=\"url(#clip790)\" d=\"M103.354 835.374 L127.466 835.374 L127.466 838.571 L103.354 838.571 L103.354 835.374 Z\" fill=\"#000000\" fill-rule=\"nonzero\" fill-opacity=\"1\" /><path clip-path=\"url(#clip790)\" d=\"M136.324 845.85 L142.531 845.85 L142.531 824.428 L135.779 825.782 L135.779 822.321 L142.493 820.967 L146.293 820.967 L146.293 845.85 L152.499 845.85 L152.499 849.047 L136.324 849.047 L136.324 845.85 Z\" fill=\"#000000\" fill-rule=\"nonzero\" fill-opacity=\"1\" /><path clip-path=\"url(#clip790)\" d=\"M168.298 823.468 Q165.364 823.468 163.878 826.365 Q162.411 829.242 162.411 835.035 Q162.411 840.809 163.878 843.705 Q165.364 846.583 168.298 846.583 Q171.25 846.583 172.717 843.705 Q174.203 840.809 174.203 835.035 Q174.203 829.242 172.717 826.365 Q171.25 823.468 168.298 823.468 M168.298 820.459 Q173.018 820.459 175.501 824.202 Q178.002 827.926 178.002 835.035 Q178.002 842.126 175.501 845.868 Q173.018 849.592 168.298 849.592 Q163.577 849.592 161.075 845.868 Q158.593 842.126 158.593 835.035 Q158.593 827.926 161.075 824.202 Q163.577 820.459 168.298 820.459 Z\" fill=\"#000000\" fill-rule=\"nonzero\" fill-opacity=\"1\" /><path clip-path=\"url(#clip790)\" d=\"M76.7154 761.732 L84.3542 761.732 L84.3542 735.366 L76.0441 737.033 L76.0441 732.773 L84.3079 731.107 L88.9838 731.107 L88.9838 761.732 L96.6227 761.732 L96.6227 765.667 L76.7154 765.667 L76.7154 761.732 Z\" fill=\"#000000\" fill-rule=\"nonzero\" fill-opacity=\"1\" /><path clip-path=\"url(#clip790)\" d=\"M116.067 734.185 Q112.456 734.185 110.627 737.75 Q108.822 741.292 108.822 748.421 Q108.822 755.528 110.627 759.093 Q112.456 762.634 116.067 762.634 Q119.701 762.634 121.507 759.093 Q123.335 755.528 123.335 748.421 Q123.335 741.292 121.507 737.75 Q119.701 734.185 116.067 734.185 M116.067 730.482 Q121.877 730.482 124.933 735.088 Q128.011 739.672 128.011 748.421 Q128.011 757.148 124.933 761.755 Q121.877 766.338 116.067 766.338 Q110.257 766.338 107.178 761.755 Q104.123 757.148 104.123 748.421 Q104.123 739.672 107.178 735.088 Q110.257 730.482 116.067 730.482 Z\" fill=\"#000000\" fill-rule=\"nonzero\" fill-opacity=\"1\" /><path clip-path=\"url(#clip790)\" d=\"M128.011 724.583 L152.123 724.583 L152.123 727.78 L128.011 727.78 L128.011 724.583 Z\" fill=\"#000000\" fill-rule=\"nonzero\" fill-opacity=\"1\" /><path clip-path=\"url(#clip790)\" d=\"M160.436 737.673 L160.436 734.213 Q161.865 734.89 163.332 735.247 Q164.799 735.604 166.21 735.604 Q169.972 735.604 171.946 733.084 Q173.94 730.545 174.222 725.392 Q173.131 727.009 171.457 727.874 Q169.783 728.74 167.752 728.74 Q163.539 728.74 161.075 726.201 Q158.63 723.643 158.63 719.223 Q158.63 714.897 161.188 712.283 Q163.746 709.669 167.997 709.669 Q172.868 709.669 175.426 713.411 Q178.002 717.135 178.002 724.245 Q178.002 730.884 174.843 734.852 Q171.702 738.802 166.379 738.802 Q164.95 738.802 163.483 738.52 Q162.016 738.238 160.436 737.673 M167.997 725.768 Q170.555 725.768 172.04 724.019 Q173.545 722.27 173.545 719.223 Q173.545 716.195 172.04 714.446 Q170.555 712.678 167.997 712.678 Q165.439 712.678 163.934 714.446 Q162.448 716.195 162.448 719.223 Q162.448 722.27 163.934 724.019 Q165.439 725.768 167.997 725.768 Z\" fill=\"#000000\" fill-rule=\"nonzero\" fill-opacity=\"1\" /><path clip-path=\"url(#clip790)\" d=\"M76.6401 650.941 L84.279 650.941 L84.279 624.575 L75.9688 626.242 L75.9688 621.983 L84.2327 620.316 L88.9086 620.316 L88.9086 650.941 L96.5474 650.941 L96.5474 654.876 L76.6401 654.876 L76.6401 650.941 Z\" fill=\"#000000\" fill-rule=\"nonzero\" fill-opacity=\"1\" /><path clip-path=\"url(#clip790)\" d=\"M115.992 623.395 Q112.381 623.395 110.552 626.96 Q108.746 630.501 108.746 637.631 Q108.746 644.737 110.552 648.302 Q112.381 651.844 115.992 651.844 Q119.626 651.844 121.432 648.302 Q123.26 644.737 123.26 637.631 Q123.26 630.501 121.432 626.96 Q119.626 623.395 115.992 623.395 M115.992 619.691 Q121.802 619.691 124.857 624.298 Q127.936 628.881 127.936 637.631 Q127.936 646.358 124.857 650.964 Q121.802 655.548 115.992 655.548 Q110.182 655.548 107.103 650.964 Q104.047 646.358 104.047 637.631 Q104.047 628.881 107.103 624.298 Q110.182 619.691 115.992 619.691 Z\" fill=\"#000000\" fill-rule=\"nonzero\" fill-opacity=\"1\" /><path clip-path=\"url(#clip790)\" d=\"M127.936 613.793 L152.048 613.793 L152.048 616.99 L127.936 616.99 L127.936 613.793 Z\" fill=\"#000000\" fill-rule=\"nonzero\" fill-opacity=\"1\" /><path clip-path=\"url(#clip790)\" d=\"M168.373 614.131 Q165.665 614.131 164.103 615.579 Q162.561 617.028 162.561 619.567 Q162.561 622.106 164.103 623.554 Q165.665 625.002 168.373 625.002 Q171.081 625.002 172.642 623.554 Q174.203 622.087 174.203 619.567 Q174.203 617.028 172.642 615.579 Q171.1 614.131 168.373 614.131 M164.574 612.514 Q162.129 611.912 160.756 610.238 Q159.402 608.564 159.402 606.157 Q159.402 602.79 161.79 600.834 Q164.198 598.878 168.373 598.878 Q172.567 598.878 174.956 600.834 Q177.344 602.79 177.344 606.157 Q177.344 608.564 175.971 610.238 Q174.617 611.912 172.191 612.514 Q174.937 613.153 176.46 615.015 Q178.002 616.877 178.002 619.567 Q178.002 623.648 175.501 625.83 Q173.018 628.011 168.373 628.011 Q163.727 628.011 161.226 625.83 Q158.743 623.648 158.743 619.567 Q158.743 616.877 160.286 615.015 Q161.828 613.153 164.574 612.514 M163.182 606.514 Q163.182 608.696 164.536 609.918 Q165.909 611.141 168.373 611.141 Q170.818 611.141 172.191 609.918 Q173.583 608.696 173.583 606.514 Q173.583 604.332 172.191 603.11 Q170.818 601.887 168.373 601.887 Q165.909 601.887 164.536 603.11 Q163.182 604.332 163.182 606.514 Z\" fill=\"#000000\" fill-rule=\"nonzero\" fill-opacity=\"1\" /><path clip-path=\"url(#clip790)\" d=\"M77.2984 540.151 L84.9373 540.151 L84.9373 513.785 L76.6271 515.452 L76.6271 511.192 L84.891 509.526 L89.5669 509.526 L89.5669 540.151 L97.2057 540.151 L97.2057 544.086 L77.2984 544.086 L77.2984 540.151 Z\" fill=\"#000000\" fill-rule=\"nonzero\" fill-opacity=\"1\" /><path clip-path=\"url(#clip790)\" d=\"M116.65 512.604 Q113.039 512.604 111.21 516.169 Q109.405 519.711 109.405 526.84 Q109.405 533.947 111.21 537.512 Q113.039 541.053 116.65 541.053 Q120.284 541.053 122.09 537.512 Q123.919 533.947 123.919 526.84 Q123.919 519.711 122.09 516.169 Q120.284 512.604 116.65 512.604 M116.65 508.901 Q122.46 508.901 125.516 513.507 Q128.594 518.091 128.594 526.84 Q128.594 535.567 125.516 540.174 Q122.46 544.757 116.65 544.757 Q110.84 544.757 107.761 540.174 Q104.706 535.567 104.706 526.84 Q104.706 518.091 107.761 513.507 Q110.84 508.901 116.65 508.901 Z\" fill=\"#000000\" fill-rule=\"nonzero\" fill-opacity=\"1\" /><path clip-path=\"url(#clip790)\" d=\"M128.594 503.002 L152.706 503.002 L152.706 506.199 L128.594 506.199 L128.594 503.002 Z\" fill=\"#000000\" fill-rule=\"nonzero\" fill-opacity=\"1\" /><path clip-path=\"url(#clip790)\" d=\"M159.947 488.595 L178.002 488.595 L178.002 490.213 L167.809 516.675 L163.84 516.675 L173.432 491.793 L159.947 491.793 L159.947 488.595 Z\" fill=\"#000000\" fill-rule=\"nonzero\" fill-opacity=\"1\" /><path clip-path=\"url(#clip790)\" d=\"M76.4333 429.36 L84.0721 429.36 L84.0721 402.994 L75.762 404.661 L75.762 400.402 L84.0258 398.735 L88.7017 398.735 L88.7017 429.36 L96.3406 429.36 L96.3406 433.295 L76.4333 433.295 L76.4333 429.36 Z\" fill=\"#000000\" fill-rule=\"nonzero\" fill-opacity=\"1\" /><path clip-path=\"url(#clip790)\" d=\"M115.785 401.814 Q112.174 401.814 110.345 405.379 Q108.54 408.92 108.54 416.05 Q108.54 423.156 110.345 426.721 Q112.174 430.263 115.785 430.263 Q119.419 430.263 121.225 426.721 Q123.053 423.156 123.053 416.05 Q123.053 408.92 121.225 405.379 Q119.419 401.814 115.785 401.814 M115.785 398.11 Q121.595 398.11 124.651 402.717 Q127.729 407.3 127.729 416.05 Q127.729 424.777 124.651 429.383 Q121.595 433.967 115.785 433.967 Q109.975 433.967 106.896 429.383 Q103.841 424.777 103.841 416.05 Q103.841 407.3 106.896 402.717 Q109.975 398.11 115.785 398.11 Z\" fill=\"#000000\" fill-rule=\"nonzero\" fill-opacity=\"1\" /><path clip-path=\"url(#clip790)\" d=\"M127.729 392.212 L151.841 392.212 L151.841 395.409 L127.729 395.409 L127.729 392.212 Z\" fill=\"#000000\" fill-rule=\"nonzero\" fill-opacity=\"1\" /><path clip-path=\"url(#clip790)\" d=\"M168.636 390.331 Q166.078 390.331 164.574 392.08 Q163.088 393.829 163.088 396.876 Q163.088 399.904 164.574 401.672 Q166.078 403.421 168.636 403.421 Q171.194 403.421 172.68 401.672 Q174.184 399.904 174.184 396.876 Q174.184 393.829 172.68 392.08 Q171.194 390.331 168.636 390.331 M176.178 378.425 L176.178 381.886 Q174.749 381.209 173.282 380.852 Q171.833 380.494 170.404 380.494 Q166.643 380.494 164.649 383.033 Q162.674 385.572 162.392 390.707 Q163.502 389.071 165.176 388.206 Q166.849 387.322 168.862 387.322 Q173.094 387.322 175.539 389.898 Q178.002 392.456 178.002 396.876 Q178.002 401.202 175.445 403.816 Q172.887 406.43 168.636 406.43 Q163.765 406.43 161.188 402.706 Q158.612 398.964 158.612 391.873 Q158.612 385.215 161.771 381.265 Q164.931 377.297 170.254 377.297 Q171.683 377.297 173.131 377.579 Q174.598 377.861 176.178 378.425 Z\" fill=\"#000000\" fill-rule=\"nonzero\" fill-opacity=\"1\" /><path clip-path=\"url(#clip790)\" d=\"M77.3736 318.57 L85.0125 318.57 L85.0125 292.204 L76.7023 293.871 L76.7023 289.611 L84.9662 287.945 L89.6421 287.945 L89.6421 318.57 L97.2809 318.57 L97.2809 322.505 L77.3736 322.505 L77.3736 318.57 Z\" fill=\"#000000\" fill-rule=\"nonzero\" fill-opacity=\"1\" /><path clip-path=\"url(#clip790)\" d=\"M116.725 291.023 Q113.114 291.023 111.285 294.588 Q109.48 298.13 109.48 305.259 Q109.48 312.366 111.285 315.931 Q113.114 319.472 116.725 319.472 Q120.36 319.472 122.165 315.931 Q123.994 312.366 123.994 305.259 Q123.994 298.13 122.165 294.588 Q120.36 291.023 116.725 291.023 M116.725 287.32 Q122.535 287.32 125.591 291.926 Q128.67 296.51 128.67 305.259 Q128.67 313.986 125.591 318.593 Q122.535 323.176 116.725 323.176 Q110.915 323.176 107.836 318.593 Q104.781 313.986 104.781 305.259 Q104.781 296.51 107.836 291.926 Q110.915 287.32 116.725 287.32 Z\" fill=\"#000000\" fill-rule=\"nonzero\" fill-opacity=\"1\" /><path clip-path=\"url(#clip790)\" d=\"M128.67 281.421 L152.781 281.421 L152.781 284.618 L128.67 284.618 L128.67 281.421 Z\" fill=\"#000000\" fill-rule=\"nonzero\" fill-opacity=\"1\" /><path clip-path=\"url(#clip790)\" d=\"M161.019 267.014 L175.934 267.014 L175.934 270.212 L164.498 270.212 L164.498 277.095 Q165.326 276.813 166.154 276.682 Q166.981 276.531 167.809 276.531 Q172.511 276.531 175.257 279.108 Q178.002 281.684 178.002 286.085 Q178.002 290.618 175.181 293.138 Q172.36 295.64 167.226 295.64 Q165.458 295.64 163.614 295.339 Q161.79 295.038 159.834 294.436 L159.834 290.618 Q161.527 291.54 163.332 291.991 Q165.138 292.442 167.15 292.442 Q170.404 292.442 172.304 290.731 Q174.203 289.019 174.203 286.085 Q174.203 283.151 172.304 281.44 Q170.404 279.728 167.15 279.728 Q165.627 279.728 164.103 280.067 Q162.599 280.405 161.019 281.12 L161.019 267.014 Z\" fill=\"#000000\" fill-rule=\"nonzero\" fill-opacity=\"1\" /><path clip-path=\"url(#clip790)\" d=\"M76.1699 207.779 L83.8088 207.779 L83.8088 181.413 L75.4986 183.08 L75.4986 178.821 L83.7625 177.154 L88.4384 177.154 L88.4384 207.779 L96.0772 207.779 L96.0772 211.714 L76.1699 211.714 L76.1699 207.779 Z\" fill=\"#000000\" fill-rule=\"nonzero\" fill-opacity=\"1\" /><path clip-path=\"url(#clip790)\" d=\"M115.522 180.233 Q111.91 180.233 110.082 183.798 Q108.276 187.339 108.276 194.469 Q108.276 201.575 110.082 205.14 Q111.91 208.682 115.522 208.682 Q119.156 208.682 120.961 205.14 Q122.79 201.575 122.79 194.469 Q122.79 187.339 120.961 183.798 Q119.156 180.233 115.522 180.233 M115.522 176.529 Q121.332 176.529 124.387 181.136 Q127.466 185.719 127.466 194.469 Q127.466 203.196 124.387 207.802 Q121.332 212.386 115.522 212.386 Q109.711 212.386 106.633 207.802 Q103.577 203.196 103.577 194.469 Q103.577 185.719 106.633 181.136 Q109.711 176.529 115.522 176.529 Z\" fill=\"#000000\" fill-rule=\"nonzero\" fill-opacity=\"1\" /><path clip-path=\"url(#clip790)\" d=\"M127.466 170.631 L151.578 170.631 L151.578 173.828 L127.466 173.828 L127.466 170.631 Z\" fill=\"#000000\" fill-rule=\"nonzero\" fill-opacity=\"1\" /><path clip-path=\"url(#clip790)\" d=\"M170.216 159.534 L160.624 174.524 L170.216 174.524 L170.216 159.534 M169.219 156.224 L173.996 156.224 L173.996 174.524 L178.002 174.524 L178.002 177.683 L173.996 177.683 L173.996 184.304 L170.216 184.304 L170.216 177.683 L157.54 177.683 L157.54 174.016 L169.219 156.224 Z\" fill=\"#000000\" fill-rule=\"nonzero\" fill-opacity=\"1\" /><path clip-path=\"url(#clip790)\" d=\"M77.0915 96.9885 L84.7304 96.9885 L84.7304 70.6229 L76.4202 72.2896 L76.4202 68.0304 L84.6841 66.3637 L89.36 66.3637 L89.36 96.9885 L96.9988 96.9885 L96.9988 100.924 L77.0915 100.924 L77.0915 96.9885 Z\" fill=\"#000000\" fill-rule=\"nonzero\" fill-opacity=\"1\" /><path clip-path=\"url(#clip790)\" d=\"M116.443 69.4424 Q112.832 69.4424 111.003 73.0072 Q109.198 76.5488 109.198 83.6784 Q109.198 90.7849 111.003 94.3497 Q112.832 97.8913 116.443 97.8913 Q120.077 97.8913 121.883 94.3497 Q123.712 90.7849 123.712 83.6784 Q123.712 76.5488 121.883 73.0072 Q120.077 69.4424 116.443 69.4424 M116.443 65.7387 Q122.253 65.7387 125.309 70.3452 Q128.388 74.9285 128.388 83.6784 Q128.388 92.4052 125.309 97.0117 Q122.253 101.595 116.443 101.595 Q110.633 101.595 107.554 97.0117 Q104.499 92.4052 104.499 83.6784 Q104.499 74.9285 107.554 70.3452 Q110.633 65.7387 116.443 65.7387 Z\" fill=\"#000000\" fill-rule=\"nonzero\" fill-opacity=\"1\" /><path clip-path=\"url(#clip790)\" d=\"M128.388 59.8401 L152.499 59.8401 L152.499 63.0374 L128.388 63.0374 L128.388 59.8401 Z\" fill=\"#000000\" fill-rule=\"nonzero\" fill-opacity=\"1\" /><path clip-path=\"url(#clip790)\" d=\"M172.21 58.3731 Q174.937 58.9561 176.46 60.7993 Q178.002 62.6424 178.002 65.3507 Q178.002 69.5073 175.144 71.783 Q172.285 74.0587 167.019 74.0587 Q165.251 74.0587 163.37 73.7014 Q161.508 73.3629 159.514 72.667 L159.514 68.9994 Q161.094 69.921 162.975 70.3912 Q164.856 70.8614 166.906 70.8614 Q170.479 70.8614 172.341 69.4508 Q174.222 68.0403 174.222 65.3507 Q174.222 62.8681 172.473 61.4763 Q170.743 60.0658 167.639 60.0658 L164.367 60.0658 L164.367 56.9437 L167.79 56.9437 Q170.592 56.9437 172.078 55.834 Q173.564 54.7055 173.564 52.5991 Q173.564 50.4362 172.022 49.2889 Q170.498 48.1228 167.639 48.1228 Q166.078 48.1228 164.292 48.4614 Q162.505 48.7999 160.361 49.5146 L160.361 46.1292 Q162.524 45.5274 164.404 45.2264 Q166.304 44.9255 167.978 44.9255 Q172.304 44.9255 174.824 46.9003 Q177.344 48.8563 177.344 52.2041 Q177.344 54.5363 176.009 56.1537 Q174.673 57.7524 172.21 58.3731 Z\" fill=\"#000000\" fill-rule=\"nonzero\" fill-opacity=\"1\" /><polyline clip-path=\"url(#clip792)\" style=\"stroke:#009af9; stroke-linecap:round; stroke-linejoin:round; stroke-width:4; stroke-opacity:1; fill:none\" points=\"418.654,1445.72 562.775,1308.79 706.896,1137.4 851.017,1051.81 995.137,980.211 1139.26,823.989 1283.38,764.625 1427.5,616.51 1571.62,529.86 1715.74,529.513 1859.86,314.626 2003.98,193.648 2148.1,87.9763 2292.23,87.9763 \"/>\n",
       "<path clip-path=\"url(#clip790)\" d=\"M2015.16 1438.47 L2281.46 1438.47 L2281.46 1334.79 L2015.16 1334.79  Z\" fill=\"#ffffff\" fill-rule=\"evenodd\" fill-opacity=\"1\"/>\n",
       "<polyline clip-path=\"url(#clip790)\" style=\"stroke:#000000; stroke-linecap:round; stroke-linejoin:round; stroke-width:4; stroke-opacity:1; fill:none\" points=\"2015.16,1438.47 2281.46,1438.47 2281.46,1334.79 2015.16,1334.79 2015.16,1438.47 \"/>\n",
       "<polyline clip-path=\"url(#clip790)\" style=\"stroke:#009af9; stroke-linecap:round; stroke-linejoin:round; stroke-width:4; stroke-opacity:1; fill:none\" points=\"2038.92,1386.63 2181.51,1386.63 \"/>\n",
       "<path clip-path=\"url(#clip790)\" d=\"M2219.11 1406.32 Q2217.31 1410.95 2215.59 1412.36 Q2213.88 1413.78 2211.01 1413.78 L2207.61 1413.78 L2207.61 1410.21 L2210.11 1410.21 Q2211.87 1410.21 2212.84 1409.38 Q2213.81 1408.54 2214.99 1405.44 L2215.76 1403.5 L2205.27 1377.99 L2209.78 1377.99 L2217.89 1398.27 L2225.99 1377.99 L2230.5 1377.99 L2219.11 1406.32 Z\" fill=\"#000000\" fill-rule=\"nonzero\" fill-opacity=\"1\" /><path clip-path=\"url(#clip790)\" d=\"M2237.79 1399.98 L2245.43 1399.98 L2245.43 1373.61 L2237.12 1375.28 L2237.12 1371.02 L2245.39 1369.35 L2250.06 1369.35 L2250.06 1399.98 L2257.7 1399.98 L2257.7 1403.91 L2237.79 1403.91 L2237.79 1399.98 Z\" fill=\"#000000\" fill-rule=\"nonzero\" fill-opacity=\"1\" /></svg>\n"
      ],
      "text/html": [
       "<?xml version=\"1.0\" encoding=\"utf-8\"?>\n",
       "<svg xmlns=\"http://www.w3.org/2000/svg\" xmlns:xlink=\"http://www.w3.org/1999/xlink\" width=\"600\" height=\"400\" viewBox=\"0 0 2400 1600\">\n",
       "<defs>\n",
       "  <clipPath id=\"clip840\">\n",
       "    <rect x=\"0\" y=\"0\" width=\"2400\" height=\"1600\"/>\n",
       "  </clipPath>\n",
       "</defs>\n",
       "<path clip-path=\"url(#clip840)\" d=\"M0 1600 L2400 1600 L2400 8.88178e-14 L0 8.88178e-14  Z\" fill=\"#ffffff\" fill-rule=\"evenodd\" fill-opacity=\"1\"/>\n",
       "<defs>\n",
       "  <clipPath id=\"clip841\">\n",
       "    <rect x=\"480\" y=\"0\" width=\"1681\" height=\"1600\"/>\n",
       "  </clipPath>\n",
       "</defs>\n",
       "<path clip-path=\"url(#clip840)\" d=\"M214.002 1486.45 L2352.76 1486.45 L2352.76 47.2441 L214.002 47.2441  Z\" fill=\"#ffffff\" fill-rule=\"evenodd\" fill-opacity=\"1\"/>\n",
       "<defs>\n",
       "  <clipPath id=\"clip842\">\n",
       "    <rect x=\"214\" y=\"47\" width=\"2140\" height=\"1440\"/>\n",
       "  </clipPath>\n",
       "</defs>\n",
       "<polyline clip-path=\"url(#clip842)\" style=\"stroke:#000000; stroke-linecap:round; stroke-linejoin:round; stroke-width:2; stroke-opacity:0.1; fill:none\" points=\"274.533,1486.45 274.533,47.2441 \"/>\n",
       "<polyline clip-path=\"url(#clip842)\" style=\"stroke:#000000; stroke-linecap:round; stroke-linejoin:round; stroke-width:2; stroke-opacity:0.1; fill:none\" points=\"418.654,1486.45 418.654,47.2441 \"/>\n",
       "<polyline clip-path=\"url(#clip842)\" style=\"stroke:#000000; stroke-linecap:round; stroke-linejoin:round; stroke-width:2; stroke-opacity:0.1; fill:none\" points=\"562.775,1486.45 562.775,47.2441 \"/>\n",
       "<polyline clip-path=\"url(#clip842)\" style=\"stroke:#000000; stroke-linecap:round; stroke-linejoin:round; stroke-width:2; stroke-opacity:0.1; fill:none\" points=\"706.896,1486.45 706.896,47.2441 \"/>\n",
       "<polyline clip-path=\"url(#clip842)\" style=\"stroke:#000000; stroke-linecap:round; stroke-linejoin:round; stroke-width:2; stroke-opacity:0.1; fill:none\" points=\"851.017,1486.45 851.017,47.2441 \"/>\n",
       "<polyline clip-path=\"url(#clip842)\" style=\"stroke:#000000; stroke-linecap:round; stroke-linejoin:round; stroke-width:2; stroke-opacity:0.1; fill:none\" points=\"995.137,1486.45 995.137,47.2441 \"/>\n",
       "<polyline clip-path=\"url(#clip842)\" style=\"stroke:#000000; stroke-linecap:round; stroke-linejoin:round; stroke-width:2; stroke-opacity:0.1; fill:none\" points=\"1139.26,1486.45 1139.26,47.2441 \"/>\n",
       "<polyline clip-path=\"url(#clip842)\" style=\"stroke:#000000; stroke-linecap:round; stroke-linejoin:round; stroke-width:2; stroke-opacity:0.1; fill:none\" points=\"1283.38,1486.45 1283.38,47.2441 \"/>\n",
       "<polyline clip-path=\"url(#clip842)\" style=\"stroke:#000000; stroke-linecap:round; stroke-linejoin:round; stroke-width:2; stroke-opacity:0.1; fill:none\" points=\"1427.5,1486.45 1427.5,47.2441 \"/>\n",
       "<polyline clip-path=\"url(#clip842)\" style=\"stroke:#000000; stroke-linecap:round; stroke-linejoin:round; stroke-width:2; stroke-opacity:0.1; fill:none\" points=\"1571.62,1486.45 1571.62,47.2441 \"/>\n",
       "<polyline clip-path=\"url(#clip842)\" style=\"stroke:#000000; stroke-linecap:round; stroke-linejoin:round; stroke-width:2; stroke-opacity:0.1; fill:none\" points=\"1715.74,1486.45 1715.74,47.2441 \"/>\n",
       "<polyline clip-path=\"url(#clip842)\" style=\"stroke:#000000; stroke-linecap:round; stroke-linejoin:round; stroke-width:2; stroke-opacity:0.1; fill:none\" points=\"1859.86,1486.45 1859.86,47.2441 \"/>\n",
       "<polyline clip-path=\"url(#clip842)\" style=\"stroke:#000000; stroke-linecap:round; stroke-linejoin:round; stroke-width:2; stroke-opacity:0.1; fill:none\" points=\"2003.98,1486.45 2003.98,47.2441 \"/>\n",
       "<polyline clip-path=\"url(#clip842)\" style=\"stroke:#000000; stroke-linecap:round; stroke-linejoin:round; stroke-width:2; stroke-opacity:0.1; fill:none\" points=\"2148.1,1486.45 2148.1,47.2441 \"/>\n",
       "<polyline clip-path=\"url(#clip842)\" style=\"stroke:#000000; stroke-linecap:round; stroke-linejoin:round; stroke-width:2; stroke-opacity:0.1; fill:none\" points=\"2292.23,1486.45 2292.23,47.2441 \"/>\n",
       "<polyline clip-path=\"url(#clip842)\" style=\"stroke:#000000; stroke-linecap:round; stroke-linejoin:round; stroke-width:2; stroke-opacity:0.1; fill:none\" points=\"214.002,1406.68 2352.76,1406.68 \"/>\n",
       "<polyline clip-path=\"url(#clip842)\" style=\"stroke:#000000; stroke-linecap:round; stroke-linejoin:round; stroke-width:2; stroke-opacity:0.1; fill:none\" points=\"214.002,1295.89 2352.76,1295.89 \"/>\n",
       "<polyline clip-path=\"url(#clip842)\" style=\"stroke:#000000; stroke-linecap:round; stroke-linejoin:round; stroke-width:2; stroke-opacity:0.1; fill:none\" points=\"214.002,1185.1 2352.76,1185.1 \"/>\n",
       "<polyline clip-path=\"url(#clip842)\" style=\"stroke:#000000; stroke-linecap:round; stroke-linejoin:round; stroke-width:2; stroke-opacity:0.1; fill:none\" points=\"214.002,1074.31 2352.76,1074.31 \"/>\n",
       "<polyline clip-path=\"url(#clip842)\" style=\"stroke:#000000; stroke-linecap:round; stroke-linejoin:round; stroke-width:2; stroke-opacity:0.1; fill:none\" points=\"214.002,963.52 2352.76,963.52 \"/>\n",
       "<polyline clip-path=\"url(#clip842)\" style=\"stroke:#000000; stroke-linecap:round; stroke-linejoin:round; stroke-width:2; stroke-opacity:0.1; fill:none\" points=\"214.002,852.73 2352.76,852.73 \"/>\n",
       "<polyline clip-path=\"url(#clip842)\" style=\"stroke:#000000; stroke-linecap:round; stroke-linejoin:round; stroke-width:2; stroke-opacity:0.1; fill:none\" points=\"214.002,741.939 2352.76,741.939 \"/>\n",
       "<polyline clip-path=\"url(#clip842)\" style=\"stroke:#000000; stroke-linecap:round; stroke-linejoin:round; stroke-width:2; stroke-opacity:0.1; fill:none\" points=\"214.002,631.149 2352.76,631.149 \"/>\n",
       "<polyline clip-path=\"url(#clip842)\" style=\"stroke:#000000; stroke-linecap:round; stroke-linejoin:round; stroke-width:2; stroke-opacity:0.1; fill:none\" points=\"214.002,520.358 2352.76,520.358 \"/>\n",
       "<polyline clip-path=\"url(#clip842)\" style=\"stroke:#000000; stroke-linecap:round; stroke-linejoin:round; stroke-width:2; stroke-opacity:0.1; fill:none\" points=\"214.002,409.568 2352.76,409.568 \"/>\n",
       "<polyline clip-path=\"url(#clip842)\" style=\"stroke:#000000; stroke-linecap:round; stroke-linejoin:round; stroke-width:2; stroke-opacity:0.1; fill:none\" points=\"214.002,298.777 2352.76,298.777 \"/>\n",
       "<polyline clip-path=\"url(#clip842)\" style=\"stroke:#000000; stroke-linecap:round; stroke-linejoin:round; stroke-width:2; stroke-opacity:0.1; fill:none\" points=\"214.002,187.987 2352.76,187.987 \"/>\n",
       "<polyline clip-path=\"url(#clip842)\" style=\"stroke:#000000; stroke-linecap:round; stroke-linejoin:round; stroke-width:2; stroke-opacity:0.1; fill:none\" points=\"214.002,77.1961 2352.76,77.1961 \"/>\n",
       "<polyline clip-path=\"url(#clip840)\" style=\"stroke:#000000; stroke-linecap:round; stroke-linejoin:round; stroke-width:4; stroke-opacity:1; fill:none\" points=\"214.002,1486.45 2352.76,1486.45 \"/>\n",
       "<polyline clip-path=\"url(#clip840)\" style=\"stroke:#000000; stroke-linecap:round; stroke-linejoin:round; stroke-width:4; stroke-opacity:1; fill:none\" points=\"274.533,1486.45 274.533,1467.55 \"/>\n",
       "<polyline clip-path=\"url(#clip840)\" style=\"stroke:#000000; stroke-linecap:round; stroke-linejoin:round; stroke-width:4; stroke-opacity:1; fill:none\" points=\"418.654,1486.45 418.654,1467.55 \"/>\n",
       "<polyline clip-path=\"url(#clip840)\" style=\"stroke:#000000; stroke-linecap:round; stroke-linejoin:round; stroke-width:4; stroke-opacity:1; fill:none\" points=\"562.775,1486.45 562.775,1467.55 \"/>\n",
       "<polyline clip-path=\"url(#clip840)\" style=\"stroke:#000000; stroke-linecap:round; stroke-linejoin:round; stroke-width:4; stroke-opacity:1; fill:none\" points=\"706.896,1486.45 706.896,1467.55 \"/>\n",
       "<polyline clip-path=\"url(#clip840)\" style=\"stroke:#000000; stroke-linecap:round; stroke-linejoin:round; stroke-width:4; stroke-opacity:1; fill:none\" points=\"851.017,1486.45 851.017,1467.55 \"/>\n",
       "<polyline clip-path=\"url(#clip840)\" style=\"stroke:#000000; stroke-linecap:round; stroke-linejoin:round; stroke-width:4; stroke-opacity:1; fill:none\" points=\"995.137,1486.45 995.137,1467.55 \"/>\n",
       "<polyline clip-path=\"url(#clip840)\" style=\"stroke:#000000; stroke-linecap:round; stroke-linejoin:round; stroke-width:4; stroke-opacity:1; fill:none\" points=\"1139.26,1486.45 1139.26,1467.55 \"/>\n",
       "<polyline clip-path=\"url(#clip840)\" style=\"stroke:#000000; stroke-linecap:round; stroke-linejoin:round; stroke-width:4; stroke-opacity:1; fill:none\" points=\"1283.38,1486.45 1283.38,1467.55 \"/>\n",
       "<polyline clip-path=\"url(#clip840)\" style=\"stroke:#000000; stroke-linecap:round; stroke-linejoin:round; stroke-width:4; stroke-opacity:1; fill:none\" points=\"1427.5,1486.45 1427.5,1467.55 \"/>\n",
       "<polyline clip-path=\"url(#clip840)\" style=\"stroke:#000000; stroke-linecap:round; stroke-linejoin:round; stroke-width:4; stroke-opacity:1; fill:none\" points=\"1571.62,1486.45 1571.62,1467.55 \"/>\n",
       "<polyline clip-path=\"url(#clip840)\" style=\"stroke:#000000; stroke-linecap:round; stroke-linejoin:round; stroke-width:4; stroke-opacity:1; fill:none\" points=\"1715.74,1486.45 1715.74,1467.55 \"/>\n",
       "<polyline clip-path=\"url(#clip840)\" style=\"stroke:#000000; stroke-linecap:round; stroke-linejoin:round; stroke-width:4; stroke-opacity:1; fill:none\" points=\"1859.86,1486.45 1859.86,1467.55 \"/>\n",
       "<polyline clip-path=\"url(#clip840)\" style=\"stroke:#000000; stroke-linecap:round; stroke-linejoin:round; stroke-width:4; stroke-opacity:1; fill:none\" points=\"2003.98,1486.45 2003.98,1467.55 \"/>\n",
       "<polyline clip-path=\"url(#clip840)\" style=\"stroke:#000000; stroke-linecap:round; stroke-linejoin:round; stroke-width:4; stroke-opacity:1; fill:none\" points=\"2148.1,1486.45 2148.1,1467.55 \"/>\n",
       "<polyline clip-path=\"url(#clip840)\" style=\"stroke:#000000; stroke-linecap:round; stroke-linejoin:round; stroke-width:4; stroke-opacity:1; fill:none\" points=\"2292.23,1486.45 2292.23,1467.55 \"/>\n",
       "<path clip-path=\"url(#clip840)\" d=\"M274.533 1517.37 Q270.922 1517.37 269.093 1520.93 Q267.288 1524.47 267.288 1531.6 Q267.288 1538.71 269.093 1542.27 Q270.922 1545.82 274.533 1545.82 Q278.167 1545.82 279.973 1542.27 Q281.802 1538.71 281.802 1531.6 Q281.802 1524.47 279.973 1520.93 Q278.167 1517.37 274.533 1517.37 M274.533 1513.66 Q280.343 1513.66 283.399 1518.27 Q286.478 1522.85 286.478 1531.6 Q286.478 1540.33 283.399 1544.94 Q280.343 1549.52 274.533 1549.52 Q268.723 1549.52 265.644 1544.94 Q262.589 1540.33 262.589 1531.6 Q262.589 1522.85 265.644 1518.27 Q268.723 1513.66 274.533 1513.66 Z\" fill=\"#000000\" fill-rule=\"nonzero\" fill-opacity=\"1\" /><path clip-path=\"url(#clip840)\" d=\"M409.036 1544.91 L416.675 1544.91 L416.675 1518.55 L408.365 1520.21 L408.365 1515.95 L416.629 1514.29 L421.305 1514.29 L421.305 1544.91 L428.943 1544.91 L428.943 1548.85 L409.036 1548.85 L409.036 1544.91 Z\" fill=\"#000000\" fill-rule=\"nonzero\" fill-opacity=\"1\" /><path clip-path=\"url(#clip840)\" d=\"M557.428 1544.91 L573.747 1544.91 L573.747 1548.85 L551.803 1548.85 L551.803 1544.91 Q554.465 1542.16 559.048 1537.53 Q563.655 1532.88 564.835 1531.53 Q567.08 1529.01 567.96 1527.27 Q568.863 1525.51 568.863 1523.82 Q568.863 1521.07 566.918 1519.33 Q564.997 1517.6 561.895 1517.6 Q559.696 1517.6 557.243 1518.36 Q554.812 1519.13 552.034 1520.68 L552.034 1515.95 Q554.858 1514.82 557.312 1514.24 Q559.766 1513.66 561.803 1513.66 Q567.173 1513.66 570.367 1516.35 Q573.562 1519.03 573.562 1523.52 Q573.562 1525.65 572.752 1527.57 Q571.965 1529.47 569.858 1532.07 Q569.28 1532.74 566.178 1535.95 Q563.076 1539.15 557.428 1544.91 Z\" fill=\"#000000\" fill-rule=\"nonzero\" fill-opacity=\"1\" /><path clip-path=\"url(#clip840)\" d=\"M711.143 1530.21 Q714.5 1530.93 716.375 1533.2 Q718.273 1535.47 718.273 1538.8 Q718.273 1543.92 714.755 1546.72 Q711.236 1549.52 704.755 1549.52 Q702.579 1549.52 700.264 1549.08 Q697.972 1548.66 695.519 1547.81 L695.519 1543.29 Q697.463 1544.43 699.778 1545.01 Q702.093 1545.58 704.616 1545.58 Q709.014 1545.58 711.305 1543.85 Q713.62 1542.11 713.62 1538.8 Q713.62 1535.75 711.467 1534.03 Q709.338 1532.3 705.518 1532.3 L701.491 1532.3 L701.491 1528.45 L705.704 1528.45 Q709.153 1528.45 710.981 1527.09 Q712.81 1525.7 712.81 1523.11 Q712.81 1520.45 710.912 1519.03 Q709.037 1517.6 705.518 1517.6 Q703.597 1517.6 701.398 1518.01 Q699.199 1518.43 696.56 1519.31 L696.56 1515.14 Q699.222 1514.4 701.537 1514.03 Q703.875 1513.66 705.935 1513.66 Q711.259 1513.66 714.361 1516.09 Q717.463 1518.5 717.463 1522.62 Q717.463 1525.49 715.819 1527.48 Q714.176 1529.45 711.143 1530.21 Z\" fill=\"#000000\" fill-rule=\"nonzero\" fill-opacity=\"1\" /><path clip-path=\"url(#clip840)\" d=\"M854.026 1518.36 L842.22 1536.81 L854.026 1536.81 L854.026 1518.36 M852.799 1514.29 L858.679 1514.29 L858.679 1536.81 L863.609 1536.81 L863.609 1540.7 L858.679 1540.7 L858.679 1548.85 L854.026 1548.85 L854.026 1540.7 L838.424 1540.7 L838.424 1536.19 L852.799 1514.29 Z\" fill=\"#000000\" fill-rule=\"nonzero\" fill-opacity=\"1\" /><path clip-path=\"url(#clip840)\" d=\"M985.415 1514.29 L1003.77 1514.29 L1003.77 1518.22 L989.698 1518.22 L989.698 1526.7 Q990.716 1526.35 991.735 1526.19 Q992.753 1526 993.772 1526 Q999.559 1526 1002.94 1529.17 Q1006.32 1532.34 1006.32 1537.76 Q1006.32 1543.34 1002.85 1546.44 Q999.374 1549.52 993.054 1549.52 Q990.878 1549.52 988.61 1549.15 Q986.364 1548.78 983.957 1548.04 L983.957 1543.34 Q986.04 1544.47 988.263 1545.03 Q990.485 1545.58 992.962 1545.58 Q996.966 1545.58 999.304 1543.48 Q1001.64 1541.37 1001.64 1537.76 Q1001.64 1534.15 999.304 1532.04 Q996.966 1529.94 992.962 1529.94 Q991.087 1529.94 989.212 1530.35 Q987.36 1530.77 985.415 1531.65 L985.415 1514.29 Z\" fill=\"#000000\" fill-rule=\"nonzero\" fill-opacity=\"1\" /><path clip-path=\"url(#clip840)\" d=\"M1139.66 1529.7 Q1136.52 1529.7 1134.66 1531.86 Q1132.83 1534.01 1132.83 1537.76 Q1132.83 1541.49 1134.66 1543.66 Q1136.52 1545.82 1139.66 1545.82 Q1142.81 1545.82 1144.64 1543.66 Q1146.49 1541.49 1146.49 1537.76 Q1146.49 1534.01 1144.64 1531.86 Q1142.81 1529.7 1139.66 1529.7 M1148.95 1515.05 L1148.95 1519.31 Q1147.19 1518.48 1145.38 1518.04 Q1143.6 1517.6 1141.84 1517.6 Q1137.21 1517.6 1134.76 1520.72 Q1132.33 1523.85 1131.98 1530.17 Q1133.34 1528.15 1135.4 1527.09 Q1137.46 1526 1139.94 1526 Q1145.15 1526 1148.16 1529.17 Q1151.19 1532.32 1151.19 1537.76 Q1151.19 1543.08 1148.04 1546.3 Q1144.89 1549.52 1139.66 1549.52 Q1133.67 1549.52 1130.5 1544.94 Q1127.33 1540.33 1127.33 1531.6 Q1127.33 1523.41 1131.21 1518.55 Q1135.1 1513.66 1141.65 1513.66 Q1143.41 1513.66 1145.2 1514.01 Q1147 1514.36 1148.95 1515.05 Z\" fill=\"#000000\" fill-rule=\"nonzero\" fill-opacity=\"1\" /><path clip-path=\"url(#clip840)\" d=\"M1272.27 1514.29 L1294.49 1514.29 L1294.49 1516.28 L1281.94 1548.85 L1277.06 1548.85 L1288.87 1518.22 L1272.27 1518.22 L1272.27 1514.29 Z\" fill=\"#000000\" fill-rule=\"nonzero\" fill-opacity=\"1\" /><path clip-path=\"url(#clip840)\" d=\"M1427.5 1532.44 Q1424.17 1532.44 1422.25 1534.22 Q1420.35 1536 1420.35 1539.13 Q1420.35 1542.25 1422.25 1544.03 Q1424.17 1545.82 1427.5 1545.82 Q1430.83 1545.82 1432.75 1544.03 Q1434.68 1542.23 1434.68 1539.13 Q1434.68 1536 1432.75 1534.22 Q1430.86 1532.44 1427.5 1532.44 M1422.82 1530.45 Q1419.81 1529.7 1418.13 1527.64 Q1416.46 1525.58 1416.46 1522.62 Q1416.46 1518.48 1419.4 1516.07 Q1422.36 1513.66 1427.5 1513.66 Q1432.66 1513.66 1435.6 1516.07 Q1438.54 1518.48 1438.54 1522.62 Q1438.54 1525.58 1436.85 1527.64 Q1435.19 1529.7 1432.2 1530.45 Q1435.58 1531.23 1437.45 1533.52 Q1439.35 1535.82 1439.35 1539.13 Q1439.35 1544.15 1436.27 1546.83 Q1433.22 1549.52 1427.5 1549.52 Q1421.78 1549.52 1418.7 1546.83 Q1415.65 1544.15 1415.65 1539.13 Q1415.65 1535.82 1417.55 1533.52 Q1419.44 1531.23 1422.82 1530.45 M1421.11 1523.06 Q1421.11 1525.75 1422.78 1527.25 Q1424.47 1528.76 1427.5 1528.76 Q1430.51 1528.76 1432.2 1527.25 Q1433.91 1525.75 1433.91 1523.06 Q1433.91 1520.38 1432.2 1518.87 Q1430.51 1517.37 1427.5 1517.37 Q1424.47 1517.37 1422.78 1518.87 Q1421.11 1520.38 1421.11 1523.06 Z\" fill=\"#000000\" fill-rule=\"nonzero\" fill-opacity=\"1\" /><path clip-path=\"url(#clip840)\" d=\"M1561.92 1548.13 L1561.92 1543.87 Q1563.68 1544.7 1565.49 1545.14 Q1567.29 1545.58 1569.03 1545.58 Q1573.66 1545.58 1576.09 1542.48 Q1578.54 1539.36 1578.89 1533.01 Q1577.55 1535.01 1575.49 1536.07 Q1573.43 1537.13 1570.93 1537.13 Q1565.74 1537.13 1562.71 1534.01 Q1559.7 1530.86 1559.7 1525.42 Q1559.7 1520.1 1562.85 1516.88 Q1566 1513.66 1571.23 1513.66 Q1577.22 1513.66 1580.37 1518.27 Q1583.54 1522.85 1583.54 1531.6 Q1583.54 1539.77 1579.65 1544.66 Q1575.79 1549.52 1569.24 1549.52 Q1567.48 1549.52 1565.67 1549.17 Q1563.87 1548.82 1561.92 1548.13 M1571.23 1533.48 Q1574.38 1533.48 1576.2 1531.32 Q1578.06 1529.17 1578.06 1525.42 Q1578.06 1521.7 1576.2 1519.54 Q1574.38 1517.37 1571.23 1517.37 Q1568.08 1517.37 1566.23 1519.54 Q1564.4 1521.7 1564.4 1525.42 Q1564.4 1529.17 1566.23 1531.32 Q1568.08 1533.48 1571.23 1533.48 Z\" fill=\"#000000\" fill-rule=\"nonzero\" fill-opacity=\"1\" /><path clip-path=\"url(#clip840)\" d=\"M1690.43 1544.91 L1698.07 1544.91 L1698.07 1518.55 L1689.76 1520.21 L1689.76 1515.95 L1698.02 1514.29 L1702.7 1514.29 L1702.7 1544.91 L1710.34 1544.91 L1710.34 1548.85 L1690.43 1548.85 L1690.43 1544.91 Z\" fill=\"#000000\" fill-rule=\"nonzero\" fill-opacity=\"1\" /><path clip-path=\"url(#clip840)\" d=\"M1729.78 1517.37 Q1726.17 1517.37 1724.34 1520.93 Q1722.54 1524.47 1722.54 1531.6 Q1722.54 1538.71 1724.34 1542.27 Q1726.17 1545.82 1729.78 1545.82 Q1733.42 1545.82 1735.22 1542.27 Q1737.05 1538.71 1737.05 1531.6 Q1737.05 1524.47 1735.22 1520.93 Q1733.42 1517.37 1729.78 1517.37 M1729.78 1513.66 Q1735.59 1513.66 1738.65 1518.27 Q1741.73 1522.85 1741.73 1531.6 Q1741.73 1540.33 1738.65 1544.94 Q1735.59 1549.52 1729.78 1549.52 Q1723.97 1549.52 1720.89 1544.94 Q1717.84 1540.33 1717.84 1531.6 Q1717.84 1522.85 1720.89 1518.27 Q1723.97 1513.66 1729.78 1513.66 Z\" fill=\"#000000\" fill-rule=\"nonzero\" fill-opacity=\"1\" /><path clip-path=\"url(#clip840)\" d=\"M1835.16 1544.91 L1842.8 1544.91 L1842.8 1518.55 L1834.49 1520.21 L1834.49 1515.95 L1842.76 1514.29 L1847.43 1514.29 L1847.43 1544.91 L1855.07 1544.91 L1855.07 1548.85 L1835.16 1548.85 L1835.16 1544.91 Z\" fill=\"#000000\" fill-rule=\"nonzero\" fill-opacity=\"1\" /><path clip-path=\"url(#clip840)\" d=\"M1865.33 1544.91 L1872.96 1544.91 L1872.96 1518.55 L1864.65 1520.21 L1864.65 1515.95 L1872.92 1514.29 L1877.59 1514.29 L1877.59 1544.91 L1885.23 1544.91 L1885.23 1548.85 L1865.33 1548.85 L1865.33 1544.91 Z\" fill=\"#000000\" fill-rule=\"nonzero\" fill-opacity=\"1\" /><path clip-path=\"url(#clip840)\" d=\"M1979.47 1544.91 L1987.11 1544.91 L1987.11 1518.55 L1978.8 1520.21 L1978.8 1515.95 L1987.06 1514.29 L1991.74 1514.29 L1991.74 1544.91 L1999.38 1544.91 L1999.38 1548.85 L1979.47 1548.85 L1979.47 1544.91 Z\" fill=\"#000000\" fill-rule=\"nonzero\" fill-opacity=\"1\" /><path clip-path=\"url(#clip840)\" d=\"M2012.85 1544.91 L2029.17 1544.91 L2029.17 1548.85 L2007.22 1548.85 L2007.22 1544.91 Q2009.89 1542.16 2014.47 1537.53 Q2019.08 1532.88 2020.26 1531.53 Q2022.5 1529.01 2023.38 1527.27 Q2024.28 1525.51 2024.28 1523.82 Q2024.28 1521.07 2022.34 1519.33 Q2020.42 1517.6 2017.32 1517.6 Q2015.12 1517.6 2012.66 1518.36 Q2010.23 1519.13 2007.46 1520.68 L2007.46 1515.95 Q2010.28 1514.82 2012.73 1514.24 Q2015.19 1513.66 2017.22 1513.66 Q2022.59 1513.66 2025.79 1516.35 Q2028.98 1519.03 2028.98 1523.52 Q2028.98 1525.65 2028.17 1527.57 Q2027.39 1529.47 2025.28 1532.07 Q2024.7 1532.74 2021.6 1535.95 Q2018.5 1539.15 2012.85 1544.91 Z\" fill=\"#000000\" fill-rule=\"nonzero\" fill-opacity=\"1\" /><path clip-path=\"url(#clip840)\" d=\"M2123.12 1544.91 L2130.75 1544.91 L2130.75 1518.55 L2122.44 1520.21 L2122.44 1515.95 L2130.71 1514.29 L2135.38 1514.29 L2135.38 1544.91 L2143.02 1544.91 L2143.02 1548.85 L2123.12 1548.85 L2123.12 1544.91 Z\" fill=\"#000000\" fill-rule=\"nonzero\" fill-opacity=\"1\" /><path clip-path=\"url(#clip840)\" d=\"M2166.63 1530.21 Q2169.99 1530.93 2171.87 1533.2 Q2173.76 1535.47 2173.76 1538.8 Q2173.76 1543.92 2170.25 1546.72 Q2166.73 1549.52 2160.25 1549.52 Q2158.07 1549.52 2155.75 1549.08 Q2153.46 1548.66 2151.01 1547.81 L2151.01 1543.29 Q2152.95 1544.43 2155.27 1545.01 Q2157.58 1545.58 2160.11 1545.58 Q2164.5 1545.58 2166.8 1543.85 Q2169.11 1542.11 2169.11 1538.8 Q2169.11 1535.75 2166.96 1534.03 Q2164.83 1532.3 2161.01 1532.3 L2156.98 1532.3 L2156.98 1528.45 L2161.19 1528.45 Q2164.64 1528.45 2166.47 1527.09 Q2168.3 1525.7 2168.3 1523.11 Q2168.3 1520.45 2166.4 1519.03 Q2164.53 1517.6 2161.01 1517.6 Q2159.09 1517.6 2156.89 1518.01 Q2154.69 1518.43 2152.05 1519.31 L2152.05 1515.14 Q2154.71 1514.4 2157.03 1514.03 Q2159.37 1513.66 2161.43 1513.66 Q2166.75 1513.66 2169.85 1516.09 Q2172.95 1518.5 2172.95 1522.62 Q2172.95 1525.49 2171.31 1527.48 Q2169.67 1529.45 2166.63 1530.21 Z\" fill=\"#000000\" fill-rule=\"nonzero\" fill-opacity=\"1\" /><path clip-path=\"url(#clip840)\" d=\"M2266.67 1544.91 L2274.31 1544.91 L2274.31 1518.55 L2266 1520.21 L2266 1515.95 L2274.26 1514.29 L2278.94 1514.29 L2278.94 1544.91 L2286.58 1544.91 L2286.58 1548.85 L2266.67 1548.85 L2266.67 1544.91 Z\" fill=\"#000000\" fill-rule=\"nonzero\" fill-opacity=\"1\" /><path clip-path=\"url(#clip840)\" d=\"M2308.87 1518.36 L2297.06 1536.81 L2308.87 1536.81 L2308.87 1518.36 M2307.64 1514.29 L2313.52 1514.29 L2313.52 1536.81 L2318.45 1536.81 L2318.45 1540.7 L2313.52 1540.7 L2313.52 1548.85 L2308.87 1548.85 L2308.87 1540.7 L2293.27 1540.7 L2293.27 1536.19 L2307.64 1514.29 Z\" fill=\"#000000\" fill-rule=\"nonzero\" fill-opacity=\"1\" /><polyline clip-path=\"url(#clip840)\" style=\"stroke:#000000; stroke-linecap:round; stroke-linejoin:round; stroke-width:4; stroke-opacity:1; fill:none\" points=\"214.002,1486.45 214.002,47.2441 \"/>\n",
       "<polyline clip-path=\"url(#clip840)\" style=\"stroke:#000000; stroke-linecap:round; stroke-linejoin:round; stroke-width:4; stroke-opacity:1; fill:none\" points=\"214.002,1406.68 232.9,1406.68 \"/>\n",
       "<polyline clip-path=\"url(#clip840)\" style=\"stroke:#000000; stroke-linecap:round; stroke-linejoin:round; stroke-width:4; stroke-opacity:1; fill:none\" points=\"214.002,1295.89 232.9,1295.89 \"/>\n",
       "<polyline clip-path=\"url(#clip840)\" style=\"stroke:#000000; stroke-linecap:round; stroke-linejoin:round; stroke-width:4; stroke-opacity:1; fill:none\" points=\"214.002,1185.1 232.9,1185.1 \"/>\n",
       "<polyline clip-path=\"url(#clip840)\" style=\"stroke:#000000; stroke-linecap:round; stroke-linejoin:round; stroke-width:4; stroke-opacity:1; fill:none\" points=\"214.002,1074.31 232.9,1074.31 \"/>\n",
       "<polyline clip-path=\"url(#clip840)\" style=\"stroke:#000000; stroke-linecap:round; stroke-linejoin:round; stroke-width:4; stroke-opacity:1; fill:none\" points=\"214.002,963.52 232.9,963.52 \"/>\n",
       "<polyline clip-path=\"url(#clip840)\" style=\"stroke:#000000; stroke-linecap:round; stroke-linejoin:round; stroke-width:4; stroke-opacity:1; fill:none\" points=\"214.002,852.73 232.9,852.73 \"/>\n",
       "<polyline clip-path=\"url(#clip840)\" style=\"stroke:#000000; stroke-linecap:round; stroke-linejoin:round; stroke-width:4; stroke-opacity:1; fill:none\" points=\"214.002,741.939 232.9,741.939 \"/>\n",
       "<polyline clip-path=\"url(#clip840)\" style=\"stroke:#000000; stroke-linecap:round; stroke-linejoin:round; stroke-width:4; stroke-opacity:1; fill:none\" points=\"214.002,631.149 232.9,631.149 \"/>\n",
       "<polyline clip-path=\"url(#clip840)\" style=\"stroke:#000000; stroke-linecap:round; stroke-linejoin:round; stroke-width:4; stroke-opacity:1; fill:none\" points=\"214.002,520.358 232.9,520.358 \"/>\n",
       "<polyline clip-path=\"url(#clip840)\" style=\"stroke:#000000; stroke-linecap:round; stroke-linejoin:round; stroke-width:4; stroke-opacity:1; fill:none\" points=\"214.002,409.568 232.9,409.568 \"/>\n",
       "<polyline clip-path=\"url(#clip840)\" style=\"stroke:#000000; stroke-linecap:round; stroke-linejoin:round; stroke-width:4; stroke-opacity:1; fill:none\" points=\"214.002,298.777 232.9,298.777 \"/>\n",
       "<polyline clip-path=\"url(#clip840)\" style=\"stroke:#000000; stroke-linecap:round; stroke-linejoin:round; stroke-width:4; stroke-opacity:1; fill:none\" points=\"214.002,187.987 232.9,187.987 \"/>\n",
       "<polyline clip-path=\"url(#clip840)\" style=\"stroke:#000000; stroke-linecap:round; stroke-linejoin:round; stroke-width:4; stroke-opacity:1; fill:none\" points=\"214.002,77.1961 232.9,77.1961 \"/>\n",
       "<path clip-path=\"url(#clip840)\" d=\"M52.8671 1426.47 L60.506 1426.47 L60.506 1400.11 L52.1958 1401.78 L52.1958 1397.52 L60.4597 1395.85 L65.1356 1395.85 L65.1356 1426.47 L72.7744 1426.47 L72.7744 1430.41 L52.8671 1430.41 L52.8671 1426.47 Z\" fill=\"#000000\" fill-rule=\"nonzero\" fill-opacity=\"1\" /><path clip-path=\"url(#clip840)\" d=\"M92.2188 1398.93 Q88.6077 1398.93 86.779 1402.49 Q84.9734 1406.03 84.9734 1413.16 Q84.9734 1420.27 86.779 1423.84 Q88.6077 1427.38 92.2188 1427.38 Q95.853 1427.38 97.6585 1423.84 Q99.4872 1420.27 99.4872 1413.16 Q99.4872 1406.03 97.6585 1402.49 Q95.853 1398.93 92.2188 1398.93 M92.2188 1395.22 Q98.0289 1395.22 101.084 1399.83 Q104.163 1404.41 104.163 1413.16 Q104.163 1421.89 101.084 1426.5 Q98.0289 1431.08 92.2188 1431.08 Q86.4086 1431.08 83.3299 1426.5 Q80.2744 1421.89 80.2744 1413.16 Q80.2744 1404.41 83.3299 1399.83 Q86.4086 1395.22 92.2188 1395.22 Z\" fill=\"#000000\" fill-rule=\"nonzero\" fill-opacity=\"1\" /><path clip-path=\"url(#clip840)\" d=\"M104.163 1389.33 L128.275 1389.33 L128.275 1392.52 L104.163 1392.52 L104.163 1389.33 Z\" fill=\"#000000\" fill-rule=\"nonzero\" fill-opacity=\"1\" /><path clip-path=\"url(#clip840)\" d=\"M137.133 1399.8 L143.34 1399.8 L143.34 1378.38 L136.588 1379.73 L136.588 1376.27 L143.302 1374.92 L147.101 1374.92 L147.101 1399.8 L153.308 1399.8 L153.308 1403 L137.133 1403 L137.133 1399.8 Z\" fill=\"#000000\" fill-rule=\"nonzero\" fill-opacity=\"1\" /><path clip-path=\"url(#clip840)\" d=\"M161.019 1374.92 L175.934 1374.92 L175.934 1378.12 L164.498 1378.12 L164.498 1385 Q165.326 1384.72 166.154 1384.59 Q166.981 1384.44 167.809 1384.44 Q172.511 1384.44 175.257 1387.01 Q178.002 1389.59 178.002 1393.99 Q178.002 1398.52 175.181 1401.04 Q172.36 1403.54 167.226 1403.54 Q165.458 1403.54 163.614 1403.24 Q161.79 1402.94 159.834 1402.34 L159.834 1398.52 Q161.527 1399.44 163.332 1399.9 Q165.138 1400.35 167.15 1400.35 Q170.404 1400.35 172.304 1398.64 Q174.203 1396.92 174.203 1393.99 Q174.203 1391.06 172.304 1389.34 Q170.404 1387.63 167.15 1387.63 Q165.627 1387.63 164.103 1387.97 Q162.599 1388.31 161.019 1389.03 L161.019 1374.92 Z\" fill=\"#000000\" fill-rule=\"nonzero\" fill-opacity=\"1\" /><path clip-path=\"url(#clip840)\" d=\"M51.6634 1315.68 L59.3023 1315.68 L59.3023 1289.32 L50.9921 1290.99 L50.9921 1286.73 L59.256 1285.06 L63.9319 1285.06 L63.9319 1315.68 L71.5707 1315.68 L71.5707 1319.62 L51.6634 1319.62 L51.6634 1315.68 Z\" fill=\"#000000\" fill-rule=\"nonzero\" fill-opacity=\"1\" /><path clip-path=\"url(#clip840)\" d=\"M91.0151 1288.14 Q87.404 1288.14 85.5753 1291.7 Q83.7697 1295.24 83.7697 1302.37 Q83.7697 1309.48 85.5753 1313.05 Q87.404 1316.59 91.0151 1316.59 Q94.6493 1316.59 96.4548 1313.05 Q98.2835 1309.48 98.2835 1302.37 Q98.2835 1295.24 96.4548 1291.7 Q94.6493 1288.14 91.0151 1288.14 M91.0151 1284.43 Q96.8252 1284.43 99.8808 1289.04 Q102.959 1293.62 102.959 1302.37 Q102.959 1311.1 99.8808 1315.71 Q96.8252 1320.29 91.0151 1320.29 Q85.2049 1320.29 82.1262 1315.71 Q79.0707 1311.1 79.0707 1302.37 Q79.0707 1293.62 82.1262 1289.04 Q85.2049 1284.43 91.0151 1284.43 Z\" fill=\"#000000\" fill-rule=\"nonzero\" fill-opacity=\"1\" /><path clip-path=\"url(#clip840)\" d=\"M102.959 1278.54 L127.071 1278.54 L127.071 1281.73 L102.959 1281.73 L102.959 1278.54 Z\" fill=\"#000000\" fill-rule=\"nonzero\" fill-opacity=\"1\" /><path clip-path=\"url(#clip840)\" d=\"M135.929 1289.01 L142.136 1289.01 L142.136 1267.59 L135.384 1268.94 L135.384 1265.48 L142.098 1264.13 L145.898 1264.13 L145.898 1289.01 L152.104 1289.01 L152.104 1292.21 L135.929 1292.21 L135.929 1289.01 Z\" fill=\"#000000\" fill-rule=\"nonzero\" fill-opacity=\"1\" /><path clip-path=\"url(#clip840)\" d=\"M170.216 1267.44 L160.624 1282.43 L170.216 1282.43 L170.216 1267.44 M169.219 1264.13 L173.996 1264.13 L173.996 1282.43 L178.002 1282.43 L178.002 1285.59 L173.996 1285.59 L173.996 1292.21 L170.216 1292.21 L170.216 1285.59 L157.54 1285.59 L157.54 1281.92 L169.219 1264.13 Z\" fill=\"#000000\" fill-rule=\"nonzero\" fill-opacity=\"1\" /><path clip-path=\"url(#clip840)\" d=\"M52.585 1204.89 L60.2238 1204.89 L60.2238 1178.53 L51.9137 1180.19 L51.9137 1175.94 L60.1776 1174.27 L64.8535 1174.27 L64.8535 1204.89 L72.4923 1204.89 L72.4923 1208.83 L52.585 1208.83 L52.585 1204.89 Z\" fill=\"#000000\" fill-rule=\"nonzero\" fill-opacity=\"1\" /><path clip-path=\"url(#clip840)\" d=\"M91.9366 1177.35 Q88.3255 1177.35 86.4969 1180.91 Q84.6913 1184.45 84.6913 1191.58 Q84.6913 1198.69 86.4969 1202.25 Q88.3255 1205.8 91.9366 1205.8 Q95.5709 1205.8 97.3764 1202.25 Q99.2051 1198.69 99.2051 1191.58 Q99.2051 1184.45 97.3764 1180.91 Q95.5709 1177.35 91.9366 1177.35 M91.9366 1173.64 Q97.7468 1173.64 100.802 1178.25 Q103.881 1182.83 103.881 1191.58 Q103.881 1200.31 100.802 1204.92 Q97.7468 1209.5 91.9366 1209.5 Q86.1265 1209.5 83.0478 1204.92 Q79.9923 1200.31 79.9923 1191.58 Q79.9923 1182.83 83.0478 1178.25 Q86.1265 1173.64 91.9366 1173.64 Z\" fill=\"#000000\" fill-rule=\"nonzero\" fill-opacity=\"1\" /><path clip-path=\"url(#clip840)\" d=\"M103.881 1167.75 L127.993 1167.75 L127.993 1170.94 L103.881 1170.94 L103.881 1167.75 Z\" fill=\"#000000\" fill-rule=\"nonzero\" fill-opacity=\"1\" /><path clip-path=\"url(#clip840)\" d=\"M136.851 1178.22 L143.058 1178.22 L143.058 1156.8 L136.306 1158.15 L136.306 1154.69 L143.02 1153.34 L146.819 1153.34 L146.819 1178.22 L153.026 1178.22 L153.026 1181.42 L136.851 1181.42 L136.851 1178.22 Z\" fill=\"#000000\" fill-rule=\"nonzero\" fill-opacity=\"1\" /><path clip-path=\"url(#clip840)\" d=\"M172.21 1166.28 Q174.937 1166.86 176.46 1168.7 Q178.002 1170.55 178.002 1173.26 Q178.002 1177.41 175.144 1179.69 Q172.285 1181.96 167.019 1181.96 Q165.251 1181.96 163.37 1181.61 Q161.508 1181.27 159.514 1180.57 L159.514 1176.9 Q161.094 1177.83 162.975 1178.3 Q164.856 1178.77 166.906 1178.77 Q170.479 1178.77 172.341 1177.36 Q174.222 1175.95 174.222 1173.26 Q174.222 1170.77 172.473 1169.38 Q170.743 1167.97 167.639 1167.97 L164.367 1167.97 L164.367 1164.85 L167.79 1164.85 Q170.592 1164.85 172.078 1163.74 Q173.564 1162.61 173.564 1160.5 Q173.564 1158.34 172.022 1157.19 Q170.498 1156.03 167.639 1156.03 Q166.078 1156.03 164.292 1156.37 Q162.505 1156.7 160.361 1157.42 L160.361 1154.03 Q162.524 1153.43 164.404 1153.13 Q166.304 1152.83 167.978 1152.83 Q172.304 1152.83 174.824 1154.81 Q177.344 1156.76 177.344 1160.11 Q177.344 1162.44 176.009 1164.06 Q174.673 1165.66 172.21 1166.28 Z\" fill=\"#000000\" fill-rule=\"nonzero\" fill-opacity=\"1\" /><path clip-path=\"url(#clip840)\" d=\"M53.3561 1094.1 L60.995 1094.1 L60.995 1067.74 L52.6848 1069.4 L52.6848 1065.14 L60.9487 1063.48 L65.6246 1063.48 L65.6246 1094.1 L73.2634 1094.1 L73.2634 1098.04 L53.3561 1098.04 L53.3561 1094.1 Z\" fill=\"#000000\" fill-rule=\"nonzero\" fill-opacity=\"1\" /><path clip-path=\"url(#clip840)\" d=\"M92.7078 1066.56 Q89.0967 1066.56 87.268 1070.12 Q85.4624 1073.66 85.4624 1080.79 Q85.4624 1087.9 87.268 1091.46 Q89.0967 1095.01 92.7078 1095.01 Q96.342 1095.01 98.1475 1091.46 Q99.9762 1087.9 99.9762 1080.79 Q99.9762 1073.66 98.1475 1070.12 Q96.342 1066.56 92.7078 1066.56 M92.7078 1062.85 Q98.5179 1062.85 101.573 1067.46 Q104.652 1072.04 104.652 1080.79 Q104.652 1089.52 101.573 1094.13 Q98.5179 1098.71 92.7078 1098.71 Q86.8976 1098.71 83.8189 1094.13 Q80.7634 1089.52 80.7634 1080.79 Q80.7634 1072.04 83.8189 1067.46 Q86.8976 1062.85 92.7078 1062.85 Z\" fill=\"#000000\" fill-rule=\"nonzero\" fill-opacity=\"1\" /><path clip-path=\"url(#clip840)\" d=\"M104.652 1056.95 L128.764 1056.95 L128.764 1060.15 L104.652 1060.15 L104.652 1056.95 Z\" fill=\"#000000\" fill-rule=\"nonzero\" fill-opacity=\"1\" /><path clip-path=\"url(#clip840)\" d=\"M137.622 1067.43 L143.829 1067.43 L143.829 1046.01 L137.077 1047.36 L137.077 1043.9 L143.791 1042.55 L147.59 1042.55 L147.59 1067.43 L153.797 1067.43 L153.797 1070.63 L137.622 1070.63 L137.622 1067.43 Z\" fill=\"#000000\" fill-rule=\"nonzero\" fill-opacity=\"1\" /><path clip-path=\"url(#clip840)\" d=\"M164.743 1067.43 L178.002 1067.43 L178.002 1070.63 L160.173 1070.63 L160.173 1067.43 Q162.336 1065.19 166.06 1061.43 Q169.802 1057.65 170.761 1056.56 Q172.586 1054.51 173.3 1053.1 Q174.034 1051.67 174.034 1050.3 Q174.034 1048.06 172.454 1046.65 Q170.893 1045.24 168.373 1045.24 Q166.586 1045.24 164.593 1045.86 Q162.618 1046.48 160.361 1047.74 L160.361 1043.9 Q162.655 1042.98 164.649 1042.51 Q166.643 1042.04 168.298 1042.04 Q172.661 1042.04 175.257 1044.22 Q177.852 1046.4 177.852 1050.05 Q177.852 1051.78 177.194 1053.34 Q176.554 1054.89 174.843 1056.99 Q174.373 1057.54 171.852 1060.15 Q169.332 1062.75 164.743 1067.43 Z\" fill=\"#000000\" fill-rule=\"nonzero\" fill-opacity=\"1\" /><path clip-path=\"url(#clip840)\" d=\"M53.0552 983.313 L60.694 983.313 L60.694 956.947 L52.3839 958.614 L52.3839 954.354 L60.6477 952.688 L65.3236 952.688 L65.3236 983.313 L72.9625 983.313 L72.9625 987.248 L53.0552 987.248 L53.0552 983.313 Z\" fill=\"#000000\" fill-rule=\"nonzero\" fill-opacity=\"1\" /><path clip-path=\"url(#clip840)\" d=\"M92.4068 955.766 Q88.7957 955.766 86.967 959.331 Q85.1615 962.873 85.1615 970.003 Q85.1615 977.109 86.967 980.674 Q88.7957 984.215 92.4068 984.215 Q96.0411 984.215 97.8466 980.674 Q99.6753 977.109 99.6753 970.003 Q99.6753 962.873 97.8466 959.331 Q96.0411 955.766 92.4068 955.766 M92.4068 952.063 Q98.217 952.063 101.273 956.669 Q104.351 961.253 104.351 970.003 Q104.351 978.729 101.273 983.336 Q98.217 987.919 92.4068 987.919 Q86.5967 987.919 83.518 983.336 Q80.4625 978.729 80.4625 970.003 Q80.4625 961.253 83.518 956.669 Q86.5967 952.063 92.4068 952.063 Z\" fill=\"#000000\" fill-rule=\"nonzero\" fill-opacity=\"1\" /><path clip-path=\"url(#clip840)\" d=\"M104.351 946.164 L128.463 946.164 L128.463 949.361 L104.351 949.361 L104.351 946.164 Z\" fill=\"#000000\" fill-rule=\"nonzero\" fill-opacity=\"1\" /><path clip-path=\"url(#clip840)\" d=\"M137.321 956.64 L143.528 956.64 L143.528 935.218 L136.776 936.572 L136.776 933.112 L143.49 931.757 L147.289 931.757 L147.289 956.64 L153.496 956.64 L153.496 959.837 L137.321 959.837 L137.321 956.64 Z\" fill=\"#000000\" fill-rule=\"nonzero\" fill-opacity=\"1\" /><path clip-path=\"url(#clip840)\" d=\"M161.828 956.64 L168.034 956.64 L168.034 935.218 L161.282 936.572 L161.282 933.112 L167.997 931.757 L171.796 931.757 L171.796 956.64 L178.002 956.64 L178.002 959.837 L161.828 959.837 L161.828 956.64 Z\" fill=\"#000000\" fill-rule=\"nonzero\" fill-opacity=\"1\" /><path clip-path=\"url(#clip840)\" d=\"M52.0584 872.522 L59.6972 872.522 L59.6972 846.157 L51.3871 847.823 L51.3871 843.564 L59.6509 841.897 L64.3268 841.897 L64.3268 872.522 L71.9657 872.522 L71.9657 876.457 L52.0584 876.457 L52.0584 872.522 Z\" fill=\"#000000\" fill-rule=\"nonzero\" fill-opacity=\"1\" /><path clip-path=\"url(#clip840)\" d=\"M91.41 844.976 Q87.7989 844.976 85.9702 848.541 Q84.1647 852.082 84.1647 859.212 Q84.1647 866.318 85.9702 869.883 Q87.7989 873.425 91.41 873.425 Q95.0443 873.425 96.8498 869.883 Q98.6785 866.318 98.6785 859.212 Q98.6785 852.082 96.8498 848.541 Q95.0443 844.976 91.41 844.976 M91.41 841.272 Q97.2202 841.272 100.276 845.879 Q103.354 850.462 103.354 859.212 Q103.354 867.939 100.276 872.545 Q97.2202 877.129 91.41 877.129 Q85.5999 877.129 82.5212 872.545 Q79.4656 867.939 79.4656 859.212 Q79.4656 850.462 82.5212 845.879 Q85.5999 841.272 91.41 841.272 Z\" fill=\"#000000\" fill-rule=\"nonzero\" fill-opacity=\"1\" /><path clip-path=\"url(#clip840)\" d=\"M103.354 835.374 L127.466 835.374 L127.466 838.571 L103.354 838.571 L103.354 835.374 Z\" fill=\"#000000\" fill-rule=\"nonzero\" fill-opacity=\"1\" /><path clip-path=\"url(#clip840)\" d=\"M136.324 845.85 L142.531 845.85 L142.531 824.428 L135.779 825.782 L135.779 822.321 L142.493 820.967 L146.293 820.967 L146.293 845.85 L152.499 845.85 L152.499 849.047 L136.324 849.047 L136.324 845.85 Z\" fill=\"#000000\" fill-rule=\"nonzero\" fill-opacity=\"1\" /><path clip-path=\"url(#clip840)\" d=\"M168.298 823.468 Q165.364 823.468 163.878 826.365 Q162.411 829.242 162.411 835.035 Q162.411 840.809 163.878 843.705 Q165.364 846.583 168.298 846.583 Q171.25 846.583 172.717 843.705 Q174.203 840.809 174.203 835.035 Q174.203 829.242 172.717 826.365 Q171.25 823.468 168.298 823.468 M168.298 820.459 Q173.018 820.459 175.501 824.202 Q178.002 827.926 178.002 835.035 Q178.002 842.126 175.501 845.868 Q173.018 849.592 168.298 849.592 Q163.577 849.592 161.075 845.868 Q158.593 842.126 158.593 835.035 Q158.593 827.926 161.075 824.202 Q163.577 820.459 168.298 820.459 Z\" fill=\"#000000\" fill-rule=\"nonzero\" fill-opacity=\"1\" /><path clip-path=\"url(#clip840)\" d=\"M76.7154 761.732 L84.3542 761.732 L84.3542 735.366 L76.0441 737.033 L76.0441 732.773 L84.3079 731.107 L88.9838 731.107 L88.9838 761.732 L96.6227 761.732 L96.6227 765.667 L76.7154 765.667 L76.7154 761.732 Z\" fill=\"#000000\" fill-rule=\"nonzero\" fill-opacity=\"1\" /><path clip-path=\"url(#clip840)\" d=\"M116.067 734.185 Q112.456 734.185 110.627 737.75 Q108.822 741.292 108.822 748.421 Q108.822 755.528 110.627 759.093 Q112.456 762.634 116.067 762.634 Q119.701 762.634 121.507 759.093 Q123.335 755.528 123.335 748.421 Q123.335 741.292 121.507 737.75 Q119.701 734.185 116.067 734.185 M116.067 730.482 Q121.877 730.482 124.933 735.088 Q128.011 739.672 128.011 748.421 Q128.011 757.148 124.933 761.755 Q121.877 766.338 116.067 766.338 Q110.257 766.338 107.178 761.755 Q104.123 757.148 104.123 748.421 Q104.123 739.672 107.178 735.088 Q110.257 730.482 116.067 730.482 Z\" fill=\"#000000\" fill-rule=\"nonzero\" fill-opacity=\"1\" /><path clip-path=\"url(#clip840)\" d=\"M128.011 724.583 L152.123 724.583 L152.123 727.78 L128.011 727.78 L128.011 724.583 Z\" fill=\"#000000\" fill-rule=\"nonzero\" fill-opacity=\"1\" /><path clip-path=\"url(#clip840)\" d=\"M160.436 737.673 L160.436 734.213 Q161.865 734.89 163.332 735.247 Q164.799 735.604 166.21 735.604 Q169.972 735.604 171.946 733.084 Q173.94 730.545 174.222 725.392 Q173.131 727.009 171.457 727.874 Q169.783 728.74 167.752 728.74 Q163.539 728.74 161.075 726.201 Q158.63 723.643 158.63 719.223 Q158.63 714.897 161.188 712.283 Q163.746 709.669 167.997 709.669 Q172.868 709.669 175.426 713.411 Q178.002 717.135 178.002 724.245 Q178.002 730.884 174.843 734.852 Q171.702 738.802 166.379 738.802 Q164.95 738.802 163.483 738.52 Q162.016 738.238 160.436 737.673 M167.997 725.768 Q170.555 725.768 172.04 724.019 Q173.545 722.27 173.545 719.223 Q173.545 716.195 172.04 714.446 Q170.555 712.678 167.997 712.678 Q165.439 712.678 163.934 714.446 Q162.448 716.195 162.448 719.223 Q162.448 722.27 163.934 724.019 Q165.439 725.768 167.997 725.768 Z\" fill=\"#000000\" fill-rule=\"nonzero\" fill-opacity=\"1\" /><path clip-path=\"url(#clip840)\" d=\"M76.6401 650.941 L84.279 650.941 L84.279 624.575 L75.9688 626.242 L75.9688 621.983 L84.2327 620.316 L88.9086 620.316 L88.9086 650.941 L96.5474 650.941 L96.5474 654.876 L76.6401 654.876 L76.6401 650.941 Z\" fill=\"#000000\" fill-rule=\"nonzero\" fill-opacity=\"1\" /><path clip-path=\"url(#clip840)\" d=\"M115.992 623.395 Q112.381 623.395 110.552 626.96 Q108.746 630.501 108.746 637.631 Q108.746 644.737 110.552 648.302 Q112.381 651.844 115.992 651.844 Q119.626 651.844 121.432 648.302 Q123.26 644.737 123.26 637.631 Q123.26 630.501 121.432 626.96 Q119.626 623.395 115.992 623.395 M115.992 619.691 Q121.802 619.691 124.857 624.298 Q127.936 628.881 127.936 637.631 Q127.936 646.358 124.857 650.964 Q121.802 655.548 115.992 655.548 Q110.182 655.548 107.103 650.964 Q104.047 646.358 104.047 637.631 Q104.047 628.881 107.103 624.298 Q110.182 619.691 115.992 619.691 Z\" fill=\"#000000\" fill-rule=\"nonzero\" fill-opacity=\"1\" /><path clip-path=\"url(#clip840)\" d=\"M127.936 613.793 L152.048 613.793 L152.048 616.99 L127.936 616.99 L127.936 613.793 Z\" fill=\"#000000\" fill-rule=\"nonzero\" fill-opacity=\"1\" /><path clip-path=\"url(#clip840)\" d=\"M168.373 614.131 Q165.665 614.131 164.103 615.579 Q162.561 617.028 162.561 619.567 Q162.561 622.106 164.103 623.554 Q165.665 625.002 168.373 625.002 Q171.081 625.002 172.642 623.554 Q174.203 622.087 174.203 619.567 Q174.203 617.028 172.642 615.579 Q171.1 614.131 168.373 614.131 M164.574 612.514 Q162.129 611.912 160.756 610.238 Q159.402 608.564 159.402 606.157 Q159.402 602.79 161.79 600.834 Q164.198 598.878 168.373 598.878 Q172.567 598.878 174.956 600.834 Q177.344 602.79 177.344 606.157 Q177.344 608.564 175.971 610.238 Q174.617 611.912 172.191 612.514 Q174.937 613.153 176.46 615.015 Q178.002 616.877 178.002 619.567 Q178.002 623.648 175.501 625.83 Q173.018 628.011 168.373 628.011 Q163.727 628.011 161.226 625.83 Q158.743 623.648 158.743 619.567 Q158.743 616.877 160.286 615.015 Q161.828 613.153 164.574 612.514 M163.182 606.514 Q163.182 608.696 164.536 609.918 Q165.909 611.141 168.373 611.141 Q170.818 611.141 172.191 609.918 Q173.583 608.696 173.583 606.514 Q173.583 604.332 172.191 603.11 Q170.818 601.887 168.373 601.887 Q165.909 601.887 164.536 603.11 Q163.182 604.332 163.182 606.514 Z\" fill=\"#000000\" fill-rule=\"nonzero\" fill-opacity=\"1\" /><path clip-path=\"url(#clip840)\" d=\"M77.2984 540.151 L84.9373 540.151 L84.9373 513.785 L76.6271 515.452 L76.6271 511.192 L84.891 509.526 L89.5669 509.526 L89.5669 540.151 L97.2057 540.151 L97.2057 544.086 L77.2984 544.086 L77.2984 540.151 Z\" fill=\"#000000\" fill-rule=\"nonzero\" fill-opacity=\"1\" /><path clip-path=\"url(#clip840)\" d=\"M116.65 512.604 Q113.039 512.604 111.21 516.169 Q109.405 519.711 109.405 526.84 Q109.405 533.947 111.21 537.512 Q113.039 541.053 116.65 541.053 Q120.284 541.053 122.09 537.512 Q123.919 533.947 123.919 526.84 Q123.919 519.711 122.09 516.169 Q120.284 512.604 116.65 512.604 M116.65 508.901 Q122.46 508.901 125.516 513.507 Q128.594 518.091 128.594 526.84 Q128.594 535.567 125.516 540.174 Q122.46 544.757 116.65 544.757 Q110.84 544.757 107.761 540.174 Q104.706 535.567 104.706 526.84 Q104.706 518.091 107.761 513.507 Q110.84 508.901 116.65 508.901 Z\" fill=\"#000000\" fill-rule=\"nonzero\" fill-opacity=\"1\" /><path clip-path=\"url(#clip840)\" d=\"M128.594 503.002 L152.706 503.002 L152.706 506.199 L128.594 506.199 L128.594 503.002 Z\" fill=\"#000000\" fill-rule=\"nonzero\" fill-opacity=\"1\" /><path clip-path=\"url(#clip840)\" d=\"M159.947 488.595 L178.002 488.595 L178.002 490.213 L167.809 516.675 L163.84 516.675 L173.432 491.793 L159.947 491.793 L159.947 488.595 Z\" fill=\"#000000\" fill-rule=\"nonzero\" fill-opacity=\"1\" /><path clip-path=\"url(#clip840)\" d=\"M76.4333 429.36 L84.0721 429.36 L84.0721 402.994 L75.762 404.661 L75.762 400.402 L84.0258 398.735 L88.7017 398.735 L88.7017 429.36 L96.3406 429.36 L96.3406 433.295 L76.4333 433.295 L76.4333 429.36 Z\" fill=\"#000000\" fill-rule=\"nonzero\" fill-opacity=\"1\" /><path clip-path=\"url(#clip840)\" d=\"M115.785 401.814 Q112.174 401.814 110.345 405.379 Q108.54 408.92 108.54 416.05 Q108.54 423.156 110.345 426.721 Q112.174 430.263 115.785 430.263 Q119.419 430.263 121.225 426.721 Q123.053 423.156 123.053 416.05 Q123.053 408.92 121.225 405.379 Q119.419 401.814 115.785 401.814 M115.785 398.11 Q121.595 398.11 124.651 402.717 Q127.729 407.3 127.729 416.05 Q127.729 424.777 124.651 429.383 Q121.595 433.967 115.785 433.967 Q109.975 433.967 106.896 429.383 Q103.841 424.777 103.841 416.05 Q103.841 407.3 106.896 402.717 Q109.975 398.11 115.785 398.11 Z\" fill=\"#000000\" fill-rule=\"nonzero\" fill-opacity=\"1\" /><path clip-path=\"url(#clip840)\" d=\"M127.729 392.212 L151.841 392.212 L151.841 395.409 L127.729 395.409 L127.729 392.212 Z\" fill=\"#000000\" fill-rule=\"nonzero\" fill-opacity=\"1\" /><path clip-path=\"url(#clip840)\" d=\"M168.636 390.331 Q166.078 390.331 164.574 392.08 Q163.088 393.829 163.088 396.876 Q163.088 399.904 164.574 401.672 Q166.078 403.421 168.636 403.421 Q171.194 403.421 172.68 401.672 Q174.184 399.904 174.184 396.876 Q174.184 393.829 172.68 392.08 Q171.194 390.331 168.636 390.331 M176.178 378.425 L176.178 381.886 Q174.749 381.209 173.282 380.852 Q171.833 380.494 170.404 380.494 Q166.643 380.494 164.649 383.033 Q162.674 385.572 162.392 390.707 Q163.502 389.071 165.176 388.206 Q166.849 387.322 168.862 387.322 Q173.094 387.322 175.539 389.898 Q178.002 392.456 178.002 396.876 Q178.002 401.202 175.445 403.816 Q172.887 406.43 168.636 406.43 Q163.765 406.43 161.188 402.706 Q158.612 398.964 158.612 391.873 Q158.612 385.215 161.771 381.265 Q164.931 377.297 170.254 377.297 Q171.683 377.297 173.131 377.579 Q174.598 377.861 176.178 378.425 Z\" fill=\"#000000\" fill-rule=\"nonzero\" fill-opacity=\"1\" /><path clip-path=\"url(#clip840)\" d=\"M77.3736 318.57 L85.0125 318.57 L85.0125 292.204 L76.7023 293.871 L76.7023 289.611 L84.9662 287.945 L89.6421 287.945 L89.6421 318.57 L97.2809 318.57 L97.2809 322.505 L77.3736 322.505 L77.3736 318.57 Z\" fill=\"#000000\" fill-rule=\"nonzero\" fill-opacity=\"1\" /><path clip-path=\"url(#clip840)\" d=\"M116.725 291.023 Q113.114 291.023 111.285 294.588 Q109.48 298.13 109.48 305.259 Q109.48 312.366 111.285 315.931 Q113.114 319.472 116.725 319.472 Q120.36 319.472 122.165 315.931 Q123.994 312.366 123.994 305.259 Q123.994 298.13 122.165 294.588 Q120.36 291.023 116.725 291.023 M116.725 287.32 Q122.535 287.32 125.591 291.926 Q128.67 296.51 128.67 305.259 Q128.67 313.986 125.591 318.593 Q122.535 323.176 116.725 323.176 Q110.915 323.176 107.836 318.593 Q104.781 313.986 104.781 305.259 Q104.781 296.51 107.836 291.926 Q110.915 287.32 116.725 287.32 Z\" fill=\"#000000\" fill-rule=\"nonzero\" fill-opacity=\"1\" /><path clip-path=\"url(#clip840)\" d=\"M128.67 281.421 L152.781 281.421 L152.781 284.618 L128.67 284.618 L128.67 281.421 Z\" fill=\"#000000\" fill-rule=\"nonzero\" fill-opacity=\"1\" /><path clip-path=\"url(#clip840)\" d=\"M161.019 267.014 L175.934 267.014 L175.934 270.212 L164.498 270.212 L164.498 277.095 Q165.326 276.813 166.154 276.682 Q166.981 276.531 167.809 276.531 Q172.511 276.531 175.257 279.108 Q178.002 281.684 178.002 286.085 Q178.002 290.618 175.181 293.138 Q172.36 295.64 167.226 295.64 Q165.458 295.64 163.614 295.339 Q161.79 295.038 159.834 294.436 L159.834 290.618 Q161.527 291.54 163.332 291.991 Q165.138 292.442 167.15 292.442 Q170.404 292.442 172.304 290.731 Q174.203 289.019 174.203 286.085 Q174.203 283.151 172.304 281.44 Q170.404 279.728 167.15 279.728 Q165.627 279.728 164.103 280.067 Q162.599 280.405 161.019 281.12 L161.019 267.014 Z\" fill=\"#000000\" fill-rule=\"nonzero\" fill-opacity=\"1\" /><path clip-path=\"url(#clip840)\" d=\"M76.1699 207.779 L83.8088 207.779 L83.8088 181.413 L75.4986 183.08 L75.4986 178.821 L83.7625 177.154 L88.4384 177.154 L88.4384 207.779 L96.0772 207.779 L96.0772 211.714 L76.1699 211.714 L76.1699 207.779 Z\" fill=\"#000000\" fill-rule=\"nonzero\" fill-opacity=\"1\" /><path clip-path=\"url(#clip840)\" d=\"M115.522 180.233 Q111.91 180.233 110.082 183.798 Q108.276 187.339 108.276 194.469 Q108.276 201.575 110.082 205.14 Q111.91 208.682 115.522 208.682 Q119.156 208.682 120.961 205.14 Q122.79 201.575 122.79 194.469 Q122.79 187.339 120.961 183.798 Q119.156 180.233 115.522 180.233 M115.522 176.529 Q121.332 176.529 124.387 181.136 Q127.466 185.719 127.466 194.469 Q127.466 203.196 124.387 207.802 Q121.332 212.386 115.522 212.386 Q109.711 212.386 106.633 207.802 Q103.577 203.196 103.577 194.469 Q103.577 185.719 106.633 181.136 Q109.711 176.529 115.522 176.529 Z\" fill=\"#000000\" fill-rule=\"nonzero\" fill-opacity=\"1\" /><path clip-path=\"url(#clip840)\" d=\"M127.466 170.631 L151.578 170.631 L151.578 173.828 L127.466 173.828 L127.466 170.631 Z\" fill=\"#000000\" fill-rule=\"nonzero\" fill-opacity=\"1\" /><path clip-path=\"url(#clip840)\" d=\"M170.216 159.534 L160.624 174.524 L170.216 174.524 L170.216 159.534 M169.219 156.224 L173.996 156.224 L173.996 174.524 L178.002 174.524 L178.002 177.683 L173.996 177.683 L173.996 184.304 L170.216 184.304 L170.216 177.683 L157.54 177.683 L157.54 174.016 L169.219 156.224 Z\" fill=\"#000000\" fill-rule=\"nonzero\" fill-opacity=\"1\" /><path clip-path=\"url(#clip840)\" d=\"M77.0915 96.9885 L84.7304 96.9885 L84.7304 70.6229 L76.4202 72.2896 L76.4202 68.0304 L84.6841 66.3637 L89.36 66.3637 L89.36 96.9885 L96.9988 96.9885 L96.9988 100.924 L77.0915 100.924 L77.0915 96.9885 Z\" fill=\"#000000\" fill-rule=\"nonzero\" fill-opacity=\"1\" /><path clip-path=\"url(#clip840)\" d=\"M116.443 69.4424 Q112.832 69.4424 111.003 73.0072 Q109.198 76.5488 109.198 83.6784 Q109.198 90.7849 111.003 94.3497 Q112.832 97.8913 116.443 97.8913 Q120.077 97.8913 121.883 94.3497 Q123.712 90.7849 123.712 83.6784 Q123.712 76.5488 121.883 73.0072 Q120.077 69.4424 116.443 69.4424 M116.443 65.7387 Q122.253 65.7387 125.309 70.3452 Q128.388 74.9285 128.388 83.6784 Q128.388 92.4052 125.309 97.0117 Q122.253 101.595 116.443 101.595 Q110.633 101.595 107.554 97.0117 Q104.499 92.4052 104.499 83.6784 Q104.499 74.9285 107.554 70.3452 Q110.633 65.7387 116.443 65.7387 Z\" fill=\"#000000\" fill-rule=\"nonzero\" fill-opacity=\"1\" /><path clip-path=\"url(#clip840)\" d=\"M128.388 59.8401 L152.499 59.8401 L152.499 63.0374 L128.388 63.0374 L128.388 59.8401 Z\" fill=\"#000000\" fill-rule=\"nonzero\" fill-opacity=\"1\" /><path clip-path=\"url(#clip840)\" d=\"M172.21 58.3731 Q174.937 58.9561 176.46 60.7993 Q178.002 62.6424 178.002 65.3507 Q178.002 69.5073 175.144 71.783 Q172.285 74.0587 167.019 74.0587 Q165.251 74.0587 163.37 73.7014 Q161.508 73.3629 159.514 72.667 L159.514 68.9994 Q161.094 69.921 162.975 70.3912 Q164.856 70.8614 166.906 70.8614 Q170.479 70.8614 172.341 69.4508 Q174.222 68.0403 174.222 65.3507 Q174.222 62.8681 172.473 61.4763 Q170.743 60.0658 167.639 60.0658 L164.367 60.0658 L164.367 56.9437 L167.79 56.9437 Q170.592 56.9437 172.078 55.834 Q173.564 54.7055 173.564 52.5991 Q173.564 50.4362 172.022 49.2889 Q170.498 48.1228 167.639 48.1228 Q166.078 48.1228 164.292 48.4614 Q162.505 48.7999 160.361 49.5146 L160.361 46.1292 Q162.524 45.5274 164.404 45.2264 Q166.304 44.9255 167.978 44.9255 Q172.304 44.9255 174.824 46.9003 Q177.344 48.8563 177.344 52.2041 Q177.344 54.5363 176.009 56.1537 Q174.673 57.7524 172.21 58.3731 Z\" fill=\"#000000\" fill-rule=\"nonzero\" fill-opacity=\"1\" /><polyline clip-path=\"url(#clip842)\" style=\"stroke:#009af9; stroke-linecap:round; stroke-linejoin:round; stroke-width:4; stroke-opacity:1; fill:none\" points=\"418.654,1445.72 562.775,1308.79 706.896,1137.4 851.017,1051.81 995.137,980.211 1139.26,823.989 1283.38,764.625 1427.5,616.51 1571.62,529.86 1715.74,529.513 1859.86,314.626 2003.98,193.648 2148.1,87.9763 2292.23,87.9763 \"/>\n",
       "<path clip-path=\"url(#clip840)\" d=\"M2015.16 1438.47 L2281.46 1438.47 L2281.46 1334.79 L2015.16 1334.79  Z\" fill=\"#ffffff\" fill-rule=\"evenodd\" fill-opacity=\"1\"/>\n",
       "<polyline clip-path=\"url(#clip840)\" style=\"stroke:#000000; stroke-linecap:round; stroke-linejoin:round; stroke-width:4; stroke-opacity:1; fill:none\" points=\"2015.16,1438.47 2281.46,1438.47 2281.46,1334.79 2015.16,1334.79 2015.16,1438.47 \"/>\n",
       "<polyline clip-path=\"url(#clip840)\" style=\"stroke:#009af9; stroke-linecap:round; stroke-linejoin:round; stroke-width:4; stroke-opacity:1; fill:none\" points=\"2038.92,1386.63 2181.51,1386.63 \"/>\n",
       "<path clip-path=\"url(#clip840)\" d=\"M2219.11 1406.32 Q2217.31 1410.95 2215.59 1412.36 Q2213.88 1413.78 2211.01 1413.78 L2207.61 1413.78 L2207.61 1410.21 L2210.11 1410.21 Q2211.87 1410.21 2212.84 1409.38 Q2213.81 1408.54 2214.99 1405.44 L2215.76 1403.5 L2205.27 1377.99 L2209.78 1377.99 L2217.89 1398.27 L2225.99 1377.99 L2230.5 1377.99 L2219.11 1406.32 Z\" fill=\"#000000\" fill-rule=\"nonzero\" fill-opacity=\"1\" /><path clip-path=\"url(#clip840)\" d=\"M2237.79 1399.98 L2245.43 1399.98 L2245.43 1373.61 L2237.12 1375.28 L2237.12 1371.02 L2245.39 1369.35 L2250.06 1369.35 L2250.06 1399.98 L2257.7 1399.98 L2257.7 1403.91 L2237.79 1403.91 L2237.79 1399.98 Z\" fill=\"#000000\" fill-rule=\"nonzero\" fill-opacity=\"1\" /></svg>\n"
      ]
     },
     "execution_count": 35,
     "metadata": {},
     "output_type": "execute_result"
    }
   ],
   "source": [
    "# TODO: Do a log-log plot for A with its 1,1 entry set to different ε and guess the growth rate.\n",
    "vec = zeros(15)\n",
    "b = [1,2,3]\n",
    "for k = 0:14\n",
    "    A[1,1] = 10.0^(-k)\n",
    "    L,U = lu(A, NoPivot())\n",
    "    errs = norm(A \\ b - U\\(L\\b))\n",
    "    vec[k+1] = errs\n",
    "end\n",
    "\n",
    "nanabs(x) = x == 0 ? NaN : abs(x)\n",
    "plot(0:14, nanabs.(vec); yscale=:log10, xticks = 0:15, yticks= 10.0 .^ (-16:0), legend=:bottomright)"
   ]
  },
  {
   "cell_type": "markdown",
   "metadata": {},
   "source": [
    "-----"
   ]
  },
  {
   "cell_type": "markdown",
   "metadata": {},
   "source": [
    "## III.2.2 PLU Factorisation"
   ]
  },
  {
   "cell_type": "markdown",
   "metadata": {},
   "source": [
    "In general it is necessary to use pivoting, a feature you have seen\n",
    "in Gaussian elimination but as Problem 1 demonstrates we need to do so even if we do not encounter\n",
    "a zero. This corresponds to a factorisation of the form\n",
    "$$\n",
    " A = P^⊤LU\n",
    "$$\n",
    "where $P$ is a permutation matrix, $L$ is lower triangular and $U$ is upper triangular.\n",
    "We compute this as follows, printing out the permutation:"
   ]
  },
  {
   "cell_type": "code",
   "execution_count": 37,
   "metadata": {},
   "outputs": [
    {
     "data": {
      "text/plain": [
       "3-element Vector{Int64}:\n",
       " 2\n",
       " 3\n",
       " 1"
      ]
     },
     "execution_count": 37,
     "metadata": {},
     "output_type": "execute_result"
    }
   ],
   "source": [
    "A = [0.1 1 1;\n",
    "     2   4 8;\n",
    "     1   4 9]\n",
    "\n",
    "L,U,σ = lu(A)\n",
    "σ"
   ]
  },
  {
   "cell_type": "markdown",
   "metadata": {},
   "source": [
    "The permutation matrix is encoded as a vector $σ$. More precisely, we have\n",
    "$$\n",
    "    P 𝐯 = 𝐯[σ]\n",
    "$$\n",
    "Thus we can solve a linear system by  first permuting the entries of the right-hand side:"
   ]
  },
  {
   "cell_type": "code",
   "execution_count": 39,
   "metadata": {},
   "outputs": [
    {
     "data": {
      "text/plain": [
       "3-element Vector{Int64}:\n",
       " 11\n",
       " 12\n",
       " 10"
      ]
     },
     "execution_count": 39,
     "metadata": {},
     "output_type": "execute_result"
    }
   ],
   "source": [
    "b = [10,11,12]\n",
    "b̃ = b[σ] # permute the entries to [b[2],b[3],b[1]]"
   ]
  },
  {
   "cell_type": "markdown",
   "metadata": {},
   "source": [
    "And then inverting $L$ and $U$ as before:"
   ]
  },
  {
   "cell_type": "code",
   "execution_count": 41,
   "metadata": {},
   "outputs": [
    {
     "name": "stdout",
     "output_type": "stream",
     "text": [
      "\u001b[91m\u001b[1mTest Failed\u001b[22m\u001b[39m at \u001b[39m\u001b[1mIn[41]:4\u001b[22m\n",
      "  Expression: x == A \\ b\n",
      "   Evaluated: [-5.892857142857142, 15.482142857142856, -4.892857142857142] == [-5.892857142857142, 15.482142857142854, -4.8928571428571415]\n",
      "\n"
     ]
    },
    {
     "ename": "LoadError",
     "evalue": "\u001b[91mThere was an error during testing\u001b[39m",
     "output_type": "error",
     "traceback": [
      "\u001b[91mThere was an error during testing\u001b[39m",
      "",
      "Stacktrace:",
      " [1] record(ts::Test.FallbackTestSet, t::Union{Test.Error, Test.Fail})",
      "   @ Test /Applications/Julia-1.11.app/Contents/Resources/julia/share/julia/stdlib/v1.11/Test/src/Test.jl:1026",
      " [2] do_test(result::Test.ExecutionResult, orig_expr::Any)",
      "   @ Test /Applications/Julia-1.11.app/Contents/Resources/julia/share/julia/stdlib/v1.11/Test/src/Test.jl:712",
      " [3] macro expansion",
      "   @ /Applications/Julia-1.11.app/Contents/Resources/julia/share/julia/stdlib/v1.11/Test/src/Test.jl:679 [inlined]",
      " [4] top-level scope",
      "   @ In[41]:4"
     ]
    }
   ],
   "source": [
    "c = L \\ b̃ # invert L with forward substitution\n",
    "x = U \\ c # invert U with back substitution\n",
    "\n",
    "@test x == A \\ b # \\ also use PLU to do the solve so these exactly equal"
   ]
  },
  {
   "cell_type": "markdown",
   "metadata": {},
   "source": [
    "Note in the following problems we will see that PLU is _usually_ stable but not always.\n",
    "Fortunately the set of matrices where it fails to be accurate has extremely small measure.\n",
    "The big _open problem_ in numerical linear algebra is to turn this observation into a precise statement."
   ]
  },
  {
   "cell_type": "markdown",
   "metadata": {},
   "source": [
    "-----"
   ]
  },
  {
   "cell_type": "markdown",
   "metadata": {},
   "source": [
    "**Problem 2(a)** Complete the function  `badmatrix(n)` that returns the following $ℤ^{n × n}$ matrix:\n",
    "$$\n",
    "  B_n := \\begin{bmatrix}\n",
    "      1      &&&& 1  \\\\\n",
    "      -1 & 1       &&& 1   \\\\\n",
    "      ⋮ & ⋱ & ⋱   && ⋮    \\\\\n",
    "      -1 & ⋯ & -1 & 1 & 1 \\\\\n",
    "      -1 & ⋯ & -1 & -1 & 1\n",
    "  \\end{bmatrix}\n",
    "$$\n",
    "That is: all entries below the diagonal are $-1$ whilst the diagonal and last column are $1$."
   ]
  },
  {
   "cell_type": "code",
   "execution_count": 47,
   "metadata": {},
   "outputs": [
    {
     "data": {
      "text/plain": [
       "\u001b[32m\u001b[1mTest Passed\u001b[22m\u001b[39m"
      ]
     },
     "execution_count": 47,
     "metadata": {},
     "output_type": "execute_result"
    }
   ],
   "source": [
    "function badmatrix(n)\n",
    "    # TODO: make the \"bad matrix\" with `Int` entries defined above and return it\n",
    "    mat = zeros(Int,n,n)\n",
    "    for i = 1:n\n",
    "        mat[i,1] = -1\n",
    "        mat[n-1, i] = -1\n",
    "        mat[n,i] = -1\n",
    "    end\n",
    "    for i = 1:n\n",
    "            mat[i,i] = 1\n",
    "        mat[i,n] = 1\n",
    "    end\n",
    "    mat\n",
    "        \n",
    "\n",
    "end\n",
    "\n",
    "@test badmatrix(3) isa Matrix{Int}\n",
    "@test badmatrix(3) == [1 0 1; -1 1 1; -1 -1 1]"
   ]
  },
  {
   "cell_type": "markdown",
   "metadata": {},
   "source": [
    "**Problem 2(b)** Does `lu` use pivoting with `badmatrix(n)`? Does it use\n",
    "pivoting with a small random perturbation (created via `randn(n,n)`)?"
   ]
  },
  {
   "cell_type": "code",
   "execution_count": 57,
   "metadata": {},
   "outputs": [
    {
     "data": {
      "text/plain": [
       "5-element Vector{Int64}:\n",
       " 1\n",
       " 2\n",
       " 4\n",
       " 5\n",
       " 3"
      ]
     },
     "execution_count": 57,
     "metadata": {},
     "output_type": "execute_result"
    }
   ],
   "source": [
    "# TODO: Use `lu` on `badmatrix(n)` and a small perturbation to determine if it\n",
    "# is using pivoting.\n",
    "M = badmatrix(5) + (randn(5,5)*10.0^-3)\n",
    "\n",
    "L,U, σ = lu(M)\n",
    "σ "
   ]
  },
  {
   "cell_type": "markdown",
   "metadata": {},
   "source": [
    "**Problem 2(c)** We can test the accuracy of a method for inverting a matrix\n",
    "by applying the matrix and seeing how different it was from the input, eg.\n",
    "computing `norm(A*(A\\b) - b)`. This would be zero if everything was done with\n",
    "exact arithmetic. Plot the norm of this error for `b = randn(n)` for `bandmatrix(n)`\n",
    "and `badmatrix(n) + 1E-15*randn(n,n)` for `n = 25, 50, 75, 100` and\n",
    "compare the observed differences in accuracy of PLU."
   ]
  },
  {
   "cell_type": "code",
   "execution_count": 65,
   "metadata": {},
   "outputs": [
    {
     "data": {
      "image/png": "[encoded data removed]",
      "image/svg+xml": [
       "<?xml version=\"1.0\" encoding=\"utf-8\"?>\n",
       "<svg xmlns=\"http://www.w3.org/2000/svg\" xmlns:xlink=\"http://www.w3.org/1999/xlink\" width=\"600\" height=\"400\" viewBox=\"0 0 2400 1600\">\n",
       "<defs>\n",
       "  <clipPath id=\"clip150\">\n",
       "    <rect x=\"0\" y=\"0\" width=\"2400\" height=\"1600\"/>\n",
       "  </clipPath>\n",
       "</defs>\n",
       "<path clip-path=\"url(#clip150)\" d=\"M0 1600 L2400 1600 L2400 8.88178e-14 L0 8.88178e-14  Z\" fill=\"#ffffff\" fill-rule=\"evenodd\" fill-opacity=\"1\"/>\n",
       "<defs>\n",
       "  <clipPath id=\"clip151\">\n",
       "    <rect x=\"480\" y=\"0\" width=\"1681\" height=\"1600\"/>\n",
       "  </clipPath>\n",
       "</defs>\n",
       "<path clip-path=\"url(#clip150)\" d=\"M274.864 1486.45 L2352.76 1486.45 L2352.76 47.2441 L274.864 47.2441  Z\" fill=\"#ffffff\" fill-rule=\"evenodd\" fill-opacity=\"1\"/>\n",
       "<defs>\n",
       "  <clipPath id=\"clip152\">\n",
       "    <rect x=\"274\" y=\"47\" width=\"2079\" height=\"1440\"/>\n",
       "  </clipPath>\n",
       "</defs>\n",
       "<polyline clip-path=\"url(#clip152)\" style=\"stroke:#000000; stroke-linecap:round; stroke-linejoin:round; stroke-width:2; stroke-opacity:0.1; fill:none\" points=\"725.728,1486.45 725.728,47.2441 \"/>\n",
       "<polyline clip-path=\"url(#clip152)\" style=\"stroke:#000000; stroke-linecap:round; stroke-linejoin:round; stroke-width:2; stroke-opacity:0.1; fill:none\" points=\"1248.47,1486.45 1248.47,47.2441 \"/>\n",
       "<polyline clip-path=\"url(#clip152)\" style=\"stroke:#000000; stroke-linecap:round; stroke-linejoin:round; stroke-width:2; stroke-opacity:0.1; fill:none\" points=\"1771.21,1486.45 1771.21,47.2441 \"/>\n",
       "<polyline clip-path=\"url(#clip152)\" style=\"stroke:#000000; stroke-linecap:round; stroke-linejoin:round; stroke-width:2; stroke-opacity:0.1; fill:none\" points=\"2293.95,1486.45 2293.95,47.2441 \"/>\n",
       "<polyline clip-path=\"url(#clip152)\" style=\"stroke:#000000; stroke-linecap:round; stroke-linejoin:round; stroke-width:2; stroke-opacity:0.1; fill:none\" points=\"274.864,1258.97 2352.76,1258.97 \"/>\n",
       "<polyline clip-path=\"url(#clip152)\" style=\"stroke:#000000; stroke-linecap:round; stroke-linejoin:round; stroke-width:2; stroke-opacity:0.1; fill:none\" points=\"274.864,850.446 2352.76,850.446 \"/>\n",
       "<polyline clip-path=\"url(#clip152)\" style=\"stroke:#000000; stroke-linecap:round; stroke-linejoin:round; stroke-width:2; stroke-opacity:0.1; fill:none\" points=\"274.864,441.919 2352.76,441.919 \"/>\n",
       "<polyline clip-path=\"url(#clip150)\" style=\"stroke:#000000; stroke-linecap:round; stroke-linejoin:round; stroke-width:4; stroke-opacity:1; fill:none\" points=\"274.864,1486.45 2352.76,1486.45 \"/>\n",
       "<polyline clip-path=\"url(#clip150)\" style=\"stroke:#000000; stroke-linecap:round; stroke-linejoin:round; stroke-width:4; stroke-opacity:1; fill:none\" points=\"725.728,1486.45 725.728,1467.55 \"/>\n",
       "<polyline clip-path=\"url(#clip150)\" style=\"stroke:#000000; stroke-linecap:round; stroke-linejoin:round; stroke-width:4; stroke-opacity:1; fill:none\" points=\"1248.47,1486.45 1248.47,1467.55 \"/>\n",
       "<polyline clip-path=\"url(#clip150)\" style=\"stroke:#000000; stroke-linecap:round; stroke-linejoin:round; stroke-width:4; stroke-opacity:1; fill:none\" points=\"1771.21,1486.45 1771.21,1467.55 \"/>\n",
       "<polyline clip-path=\"url(#clip150)\" style=\"stroke:#000000; stroke-linecap:round; stroke-linejoin:round; stroke-width:4; stroke-opacity:1; fill:none\" points=\"2293.95,1486.45 2293.95,1467.55 \"/>\n",
       "<path clip-path=\"url(#clip150)\" d=\"M713.899 1518.36 L702.094 1536.81 L713.899 1536.81 L713.899 1518.36 M712.672 1514.29 L718.552 1514.29 L718.552 1536.81 L723.482 1536.81 L723.482 1540.7 L718.552 1540.7 L718.552 1548.85 L713.899 1548.85 L713.899 1540.7 L698.297 1540.7 L698.297 1536.19 L712.672 1514.29 Z\" fill=\"#000000\" fill-rule=\"nonzero\" fill-opacity=\"1\" /><path clip-path=\"url(#clip150)\" d=\"M741.214 1517.37 Q737.603 1517.37 735.774 1520.93 Q733.968 1524.47 733.968 1531.6 Q733.968 1538.71 735.774 1542.27 Q737.603 1545.82 741.214 1545.82 Q744.848 1545.82 746.653 1542.27 Q748.482 1538.71 748.482 1531.6 Q748.482 1524.47 746.653 1520.93 Q744.848 1517.37 741.214 1517.37 M741.214 1513.66 Q747.024 1513.66 750.079 1518.27 Q753.158 1522.85 753.158 1531.6 Q753.158 1540.33 750.079 1544.94 Q747.024 1549.52 741.214 1549.52 Q735.404 1549.52 732.325 1544.94 Q729.269 1540.33 729.269 1531.6 Q729.269 1522.85 732.325 1518.27 Q735.404 1513.66 741.214 1513.66 Z\" fill=\"#000000\" fill-rule=\"nonzero\" fill-opacity=\"1\" /><path clip-path=\"url(#clip150)\" d=\"M1233.87 1529.7 Q1230.72 1529.7 1228.87 1531.86 Q1227.04 1534.01 1227.04 1537.76 Q1227.04 1541.49 1228.87 1543.66 Q1230.72 1545.82 1233.87 1545.82 Q1237.02 1545.82 1238.85 1543.66 Q1240.7 1541.49 1240.7 1537.76 Q1240.7 1534.01 1238.85 1531.86 Q1237.02 1529.7 1233.87 1529.7 M1243.16 1515.05 L1243.16 1519.31 Q1241.4 1518.48 1239.59 1518.04 Q1237.81 1517.6 1236.05 1517.6 Q1231.42 1517.6 1228.97 1520.72 Q1226.53 1523.85 1226.19 1530.17 Q1227.55 1528.15 1229.61 1527.09 Q1231.67 1526 1234.15 1526 Q1239.36 1526 1242.37 1529.17 Q1245.4 1532.32 1245.4 1537.76 Q1245.4 1543.08 1242.25 1546.3 Q1239.1 1549.52 1233.87 1549.52 Q1227.88 1549.52 1224.71 1544.94 Q1221.53 1540.33 1221.53 1531.6 Q1221.53 1523.41 1225.42 1518.55 Q1229.31 1513.66 1235.86 1513.66 Q1237.62 1513.66 1239.41 1514.01 Q1241.21 1514.36 1243.16 1515.05 Z\" fill=\"#000000\" fill-rule=\"nonzero\" fill-opacity=\"1\" /><path clip-path=\"url(#clip150)\" d=\"M1263.46 1517.37 Q1259.84 1517.37 1258.02 1520.93 Q1256.21 1524.47 1256.21 1531.6 Q1256.21 1538.71 1258.02 1542.27 Q1259.84 1545.82 1263.46 1545.82 Q1267.09 1545.82 1268.9 1542.27 Q1270.72 1538.71 1270.72 1531.6 Q1270.72 1524.47 1268.9 1520.93 Q1267.09 1517.37 1263.46 1517.37 M1263.46 1513.66 Q1269.27 1513.66 1272.32 1518.27 Q1275.4 1522.85 1275.4 1531.6 Q1275.4 1540.33 1272.32 1544.94 Q1269.27 1549.52 1263.46 1549.52 Q1257.65 1549.52 1254.57 1544.94 Q1251.51 1540.33 1251.51 1531.6 Q1251.51 1522.85 1254.57 1518.27 Q1257.65 1513.66 1263.46 1513.66 Z\" fill=\"#000000\" fill-rule=\"nonzero\" fill-opacity=\"1\" /><path clip-path=\"url(#clip150)\" d=\"M1756.08 1532.44 Q1752.75 1532.44 1750.83 1534.22 Q1748.93 1536 1748.93 1539.13 Q1748.93 1542.25 1750.83 1544.03 Q1752.75 1545.82 1756.08 1545.82 Q1759.41 1545.82 1761.34 1544.03 Q1763.26 1542.23 1763.26 1539.13 Q1763.26 1536 1761.34 1534.22 Q1759.44 1532.44 1756.08 1532.44 M1751.4 1530.45 Q1748.4 1529.7 1746.71 1527.64 Q1745.04 1525.58 1745.04 1522.62 Q1745.04 1518.48 1747.98 1516.07 Q1750.94 1513.66 1756.08 1513.66 Q1761.24 1513.66 1764.18 1516.07 Q1767.12 1518.48 1767.12 1522.62 Q1767.12 1525.58 1765.43 1527.64 Q1763.77 1529.7 1760.78 1530.45 Q1764.16 1531.23 1766.03 1533.52 Q1767.93 1535.82 1767.93 1539.13 Q1767.93 1544.15 1764.85 1546.83 Q1761.8 1549.52 1756.08 1549.52 Q1750.36 1549.52 1747.28 1546.83 Q1744.23 1544.15 1744.23 1539.13 Q1744.23 1535.82 1746.13 1533.52 Q1748.02 1531.23 1751.4 1530.45 M1749.69 1523.06 Q1749.69 1525.75 1751.36 1527.25 Q1753.05 1528.76 1756.08 1528.76 Q1759.09 1528.76 1760.78 1527.25 Q1762.49 1525.75 1762.49 1523.06 Q1762.49 1520.38 1760.78 1518.87 Q1759.09 1517.37 1756.08 1517.37 Q1753.05 1517.37 1751.36 1518.87 Q1749.69 1520.38 1749.69 1523.06 Z\" fill=\"#000000\" fill-rule=\"nonzero\" fill-opacity=\"1\" /><path clip-path=\"url(#clip150)\" d=\"M1786.24 1517.37 Q1782.63 1517.37 1780.8 1520.93 Q1779 1524.47 1779 1531.6 Q1779 1538.71 1780.8 1542.27 Q1782.63 1545.82 1786.24 1545.82 Q1789.88 1545.82 1791.68 1542.27 Q1793.51 1538.71 1793.51 1531.6 Q1793.51 1524.47 1791.68 1520.93 Q1789.88 1517.37 1786.24 1517.37 M1786.24 1513.66 Q1792.05 1513.66 1795.11 1518.27 Q1798.19 1522.85 1798.19 1531.6 Q1798.19 1540.33 1795.11 1544.94 Q1792.05 1549.52 1786.24 1549.52 Q1780.43 1549.52 1777.35 1544.94 Q1774.3 1540.33 1774.3 1531.6 Q1774.3 1522.85 1777.35 1518.27 Q1780.43 1513.66 1786.24 1513.66 Z\" fill=\"#000000\" fill-rule=\"nonzero\" fill-opacity=\"1\" /><path clip-path=\"url(#clip150)\" d=\"M2253.55 1544.91 L2261.19 1544.91 L2261.19 1518.55 L2252.88 1520.21 L2252.88 1515.95 L2261.15 1514.29 L2265.82 1514.29 L2265.82 1544.91 L2273.46 1544.91 L2273.46 1548.85 L2253.55 1548.85 L2253.55 1544.91 Z\" fill=\"#000000\" fill-rule=\"nonzero\" fill-opacity=\"1\" /><path clip-path=\"url(#clip150)\" d=\"M2292.91 1517.37 Q2289.29 1517.37 2287.47 1520.93 Q2285.66 1524.47 2285.66 1531.6 Q2285.66 1538.71 2287.47 1542.27 Q2289.29 1545.82 2292.91 1545.82 Q2296.54 1545.82 2298.35 1542.27 Q2300.17 1538.71 2300.17 1531.6 Q2300.17 1524.47 2298.35 1520.93 Q2296.54 1517.37 2292.91 1517.37 M2292.91 1513.66 Q2298.72 1513.66 2301.77 1518.27 Q2304.85 1522.85 2304.85 1531.6 Q2304.85 1540.33 2301.77 1544.94 Q2298.72 1549.52 2292.91 1549.52 Q2287.1 1549.52 2284.02 1544.94 Q2280.96 1540.33 2280.96 1531.6 Q2280.96 1522.85 2284.02 1518.27 Q2287.1 1513.66 2292.91 1513.66 Z\" fill=\"#000000\" fill-rule=\"nonzero\" fill-opacity=\"1\" /><path clip-path=\"url(#clip150)\" d=\"M2323.07 1517.37 Q2319.46 1517.37 2317.63 1520.93 Q2315.82 1524.47 2315.82 1531.6 Q2315.82 1538.71 2317.63 1542.27 Q2319.46 1545.82 2323.07 1545.82 Q2326.7 1545.82 2328.51 1542.27 Q2330.34 1538.71 2330.34 1531.6 Q2330.34 1524.47 2328.51 1520.93 Q2326.7 1517.37 2323.07 1517.37 M2323.07 1513.66 Q2328.88 1513.66 2331.93 1518.27 Q2335.01 1522.85 2335.01 1531.6 Q2335.01 1540.33 2331.93 1544.94 Q2328.88 1549.52 2323.07 1549.52 Q2317.26 1549.52 2314.18 1544.94 Q2311.12 1540.33 2311.12 1531.6 Q2311.12 1522.85 2314.18 1518.27 Q2317.26 1513.66 2323.07 1513.66 Z\" fill=\"#000000\" fill-rule=\"nonzero\" fill-opacity=\"1\" /><polyline clip-path=\"url(#clip150)\" style=\"stroke:#000000; stroke-linecap:round; stroke-linejoin:round; stroke-width:4; stroke-opacity:1; fill:none\" points=\"274.864,1486.45 274.864,47.2441 \"/>\n",
       "<polyline clip-path=\"url(#clip150)\" style=\"stroke:#000000; stroke-linecap:round; stroke-linejoin:round; stroke-width:4; stroke-opacity:1; fill:none\" points=\"274.864,1258.97 293.762,1258.97 \"/>\n",
       "<polyline clip-path=\"url(#clip150)\" style=\"stroke:#000000; stroke-linecap:round; stroke-linejoin:round; stroke-width:4; stroke-opacity:1; fill:none\" points=\"274.864,850.446 293.762,850.446 \"/>\n",
       "<polyline clip-path=\"url(#clip150)\" style=\"stroke:#000000; stroke-linecap:round; stroke-linejoin:round; stroke-width:4; stroke-opacity:1; fill:none\" points=\"274.864,441.919 293.762,441.919 \"/>\n",
       "<path clip-path=\"url(#clip150)\" d=\"M51.6634 1278.77 L59.3023 1278.77 L59.3023 1252.4 L50.9921 1254.07 L50.9921 1249.81 L59.256 1248.14 L63.9319 1248.14 L63.9319 1278.77 L71.5707 1278.77 L71.5707 1282.7 L51.6634 1282.7 L51.6634 1278.77 Z\" fill=\"#000000\" fill-rule=\"nonzero\" fill-opacity=\"1\" /><path clip-path=\"url(#clip150)\" d=\"M91.0151 1251.22 Q87.404 1251.22 85.5753 1254.78 Q83.7697 1258.33 83.7697 1265.46 Q83.7697 1272.56 85.5753 1276.13 Q87.404 1279.67 91.0151 1279.67 Q94.6493 1279.67 96.4548 1276.13 Q98.2835 1272.56 98.2835 1265.46 Q98.2835 1258.33 96.4548 1254.78 Q94.6493 1251.22 91.0151 1251.22 M91.0151 1247.52 Q96.8252 1247.52 99.8808 1252.12 Q102.959 1256.71 102.959 1265.46 Q102.959 1274.18 99.8808 1278.79 Q96.8252 1283.37 91.0151 1283.37 Q85.2049 1283.37 82.1262 1278.79 Q79.0707 1274.18 79.0707 1265.46 Q79.0707 1256.71 82.1262 1252.12 Q85.2049 1247.52 91.0151 1247.52 Z\" fill=\"#000000\" fill-rule=\"nonzero\" fill-opacity=\"1\" /><path clip-path=\"url(#clip150)\" d=\"M102.959 1241.62 L127.071 1241.62 L127.071 1244.81 L102.959 1244.81 L102.959 1241.62 Z\" fill=\"#000000\" fill-rule=\"nonzero\" fill-opacity=\"1\" /><path clip-path=\"url(#clip150)\" d=\"M135.929 1252.09 L142.136 1252.09 L142.136 1230.67 L135.384 1232.03 L135.384 1228.56 L142.098 1227.21 L145.898 1227.21 L145.898 1252.09 L152.104 1252.09 L152.104 1255.29 L135.929 1255.29 L135.929 1252.09 Z\" fill=\"#000000\" fill-rule=\"nonzero\" fill-opacity=\"1\" /><path clip-path=\"url(#clip150)\" d=\"M170.216 1230.52 L160.624 1245.51 L170.216 1245.51 L170.216 1230.52 M169.219 1227.21 L173.996 1227.21 L173.996 1245.51 L178.002 1245.51 L178.002 1248.67 L173.996 1248.67 L173.996 1255.29 L170.216 1255.29 L170.216 1248.67 L157.54 1248.67 L157.54 1245 L169.219 1227.21 Z\" fill=\"#000000\" fill-rule=\"nonzero\" fill-opacity=\"1\" /><path clip-path=\"url(#clip150)\" d=\"M184.284 1250.51 L188.253 1250.51 L188.253 1255.29 L184.284 1255.29 L184.284 1250.51 Z\" fill=\"#000000\" fill-rule=\"nonzero\" fill-opacity=\"1\" /><path clip-path=\"url(#clip150)\" d=\"M204.653 1229.71 Q201.719 1229.71 200.233 1232.61 Q198.766 1235.49 198.766 1241.28 Q198.766 1247.05 200.233 1249.95 Q201.719 1252.83 204.653 1252.83 Q207.606 1252.83 209.073 1249.95 Q210.559 1247.05 210.559 1241.28 Q210.559 1235.49 209.073 1232.61 Q207.606 1229.71 204.653 1229.71 M204.653 1226.7 Q209.374 1226.7 211.856 1230.45 Q214.358 1234.17 214.358 1241.28 Q214.358 1248.37 211.856 1252.11 Q209.374 1255.84 204.653 1255.84 Q199.932 1255.84 197.431 1252.11 Q194.948 1248.37 194.948 1241.28 Q194.948 1234.17 197.431 1230.45 Q199.932 1226.7 204.653 1226.7 Z\" fill=\"#000000\" fill-rule=\"nonzero\" fill-opacity=\"1\" /><path clip-path=\"url(#clip150)\" d=\"M229.16 1229.71 Q226.226 1229.71 224.74 1232.61 Q223.273 1235.49 223.273 1241.28 Q223.273 1247.05 224.74 1249.95 Q226.226 1252.83 229.16 1252.83 Q232.112 1252.83 233.579 1249.95 Q235.065 1247.05 235.065 1241.28 Q235.065 1235.49 233.579 1232.61 Q232.112 1229.71 229.16 1229.71 M229.16 1226.7 Q233.88 1226.7 236.363 1230.45 Q238.864 1234.17 238.864 1241.28 Q238.864 1248.37 236.363 1252.11 Q233.88 1255.84 229.16 1255.84 Q224.439 1255.84 221.937 1252.11 Q219.455 1248.37 219.455 1241.28 Q219.455 1234.17 221.937 1230.45 Q224.439 1226.7 229.16 1226.7 Z\" fill=\"#000000\" fill-rule=\"nonzero\" fill-opacity=\"1\" /><path clip-path=\"url(#clip150)\" d=\"M52.4722 870.238 L60.111 870.238 L60.111 843.873 L51.8009 845.539 L51.8009 841.28 L60.0647 839.614 L64.7406 839.614 L64.7406 870.238 L72.3795 870.238 L72.3795 874.174 L52.4722 874.174 L52.4722 870.238 Z\" fill=\"#000000\" fill-rule=\"nonzero\" fill-opacity=\"1\" /><path clip-path=\"url(#clip150)\" d=\"M91.8238 842.692 Q88.2127 842.692 86.384 846.257 Q84.5785 849.799 84.5785 856.928 Q84.5785 864.035 86.384 867.6 Q88.2127 871.141 91.8238 871.141 Q95.458 871.141 97.2636 867.6 Q99.0923 864.035 99.0923 856.928 Q99.0923 849.799 97.2636 846.257 Q95.458 842.692 91.8238 842.692 M91.8238 838.989 Q97.6339 838.989 100.689 843.595 Q103.768 848.178 103.768 856.928 Q103.768 865.655 100.689 870.262 Q97.6339 874.845 91.8238 874.845 Q86.0136 874.845 82.935 870.262 Q79.8794 865.655 79.8794 856.928 Q79.8794 848.178 82.935 843.595 Q86.0136 838.989 91.8238 838.989 Z\" fill=\"#000000\" fill-rule=\"nonzero\" fill-opacity=\"1\" /><path clip-path=\"url(#clip150)\" d=\"M103.768 833.09 L127.88 833.09 L127.88 836.287 L103.768 836.287 L103.768 833.09 Z\" fill=\"#000000\" fill-rule=\"nonzero\" fill-opacity=\"1\" /><path clip-path=\"url(#clip150)\" d=\"M136.738 843.566 L142.945 843.566 L142.945 822.144 L136.193 823.498 L136.193 820.037 L142.907 818.683 L146.706 818.683 L146.706 843.566 L152.913 843.566 L152.913 846.763 L136.738 846.763 L136.738 843.566 Z\" fill=\"#000000\" fill-rule=\"nonzero\" fill-opacity=\"1\" /><path clip-path=\"url(#clip150)\" d=\"M172.097 831.623 Q174.824 832.206 176.347 834.049 Q177.89 835.892 177.89 838.601 Q177.89 842.757 175.031 845.033 Q172.172 847.309 166.906 847.309 Q165.138 847.309 163.257 846.951 Q161.395 846.613 159.402 845.917 L159.402 842.249 Q160.981 843.171 162.862 843.641 Q164.743 844.111 166.793 844.111 Q170.366 844.111 172.228 842.701 Q174.109 841.29 174.109 838.601 Q174.109 836.118 172.36 834.726 Q170.63 833.316 167.527 833.316 L164.254 833.316 L164.254 830.194 L167.677 830.194 Q170.479 830.194 171.965 829.084 Q173.451 827.955 173.451 825.849 Q173.451 823.686 171.909 822.539 Q170.385 821.373 167.527 821.373 Q165.965 821.373 164.179 821.711 Q162.392 822.05 160.248 822.764 L160.248 819.379 Q162.411 818.777 164.292 818.476 Q166.191 818.175 167.865 818.175 Q172.191 818.175 174.711 820.15 Q177.231 822.106 177.231 825.454 Q177.231 827.786 175.896 829.404 Q174.561 831.002 172.097 831.623 Z\" fill=\"#000000\" fill-rule=\"nonzero\" fill-opacity=\"1\" /><path clip-path=\"url(#clip150)\" d=\"M185.093 841.986 L189.061 841.986 L189.061 846.763 L185.093 846.763 L185.093 841.986 Z\" fill=\"#000000\" fill-rule=\"nonzero\" fill-opacity=\"1\" /><path clip-path=\"url(#clip150)\" d=\"M196.378 818.683 L214.433 818.683 L214.433 820.301 L204.239 846.763 L200.271 846.763 L209.863 821.88 L196.378 821.88 L196.378 818.683 Z\" fill=\"#000000\" fill-rule=\"nonzero\" fill-opacity=\"1\" /><path clip-path=\"url(#clip150)\" d=\"M221.881 818.683 L236.796 818.683 L236.796 821.88 L225.36 821.88 L225.36 828.764 Q226.188 828.482 227.015 828.35 Q227.843 828.2 228.671 828.2 Q233.373 828.2 236.118 830.777 Q238.864 833.353 238.864 837.754 Q238.864 842.287 236.043 844.807 Q233.222 847.309 228.088 847.309 Q226.32 847.309 224.476 847.008 Q222.652 846.707 220.696 846.105 L220.696 842.287 Q222.389 843.208 224.194 843.66 Q226 844.111 228.012 844.111 Q231.266 844.111 233.166 842.4 Q235.065 840.688 235.065 837.754 Q235.065 834.82 233.166 833.109 Q231.266 831.397 228.012 831.397 Q226.489 831.397 224.965 831.736 Q223.461 832.074 221.881 832.789 L221.881 818.683 Z\" fill=\"#000000\" fill-rule=\"nonzero\" fill-opacity=\"1\" /><path clip-path=\"url(#clip150)\" d=\"M51.6634 461.711 L59.3023 461.711 L59.3023 435.346 L50.9921 437.012 L50.9921 432.753 L59.256 431.086 L63.9319 431.086 L63.9319 461.711 L71.5707 461.711 L71.5707 465.646 L51.6634 465.646 L51.6634 461.711 Z\" fill=\"#000000\" fill-rule=\"nonzero\" fill-opacity=\"1\" /><path clip-path=\"url(#clip150)\" d=\"M91.0151 434.165 Q87.404 434.165 85.5753 437.73 Q83.7697 441.272 83.7697 448.401 Q83.7697 455.508 85.5753 459.072 Q87.404 462.614 91.0151 462.614 Q94.6493 462.614 96.4548 459.072 Q98.2835 455.508 98.2835 448.401 Q98.2835 441.272 96.4548 437.73 Q94.6493 434.165 91.0151 434.165 M91.0151 430.461 Q96.8252 430.461 99.8808 435.068 Q102.959 439.651 102.959 448.401 Q102.959 457.128 99.8808 461.734 Q96.8252 466.318 91.0151 466.318 Q85.2049 466.318 82.1262 461.734 Q79.0707 457.128 79.0707 448.401 Q79.0707 439.651 82.1262 435.068 Q85.2049 430.461 91.0151 430.461 Z\" fill=\"#000000\" fill-rule=\"nonzero\" fill-opacity=\"1\" /><path clip-path=\"url(#clip150)\" d=\"M102.959 424.563 L127.071 424.563 L127.071 427.76 L102.959 427.76 L102.959 424.563 Z\" fill=\"#000000\" fill-rule=\"nonzero\" fill-opacity=\"1\" /><path clip-path=\"url(#clip150)\" d=\"M135.929 435.039 L142.136 435.039 L142.136 413.617 L135.384 414.971 L135.384 411.51 L142.098 410.156 L145.898 410.156 L145.898 435.039 L152.104 435.039 L152.104 438.236 L135.929 438.236 L135.929 435.039 Z\" fill=\"#000000\" fill-rule=\"nonzero\" fill-opacity=\"1\" /><path clip-path=\"url(#clip150)\" d=\"M171.288 423.096 Q174.015 423.679 175.539 425.522 Q177.081 427.365 177.081 430.073 Q177.081 434.23 174.222 436.506 Q171.363 438.781 166.097 438.781 Q164.329 438.781 162.448 438.424 Q160.586 438.086 158.593 437.39 L158.593 433.722 Q160.173 434.644 162.053 435.114 Q163.934 435.584 165.984 435.584 Q169.558 435.584 171.42 434.174 Q173.3 432.763 173.3 430.073 Q173.3 427.591 171.551 426.199 Q169.821 424.788 166.718 424.788 L163.445 424.788 L163.445 421.666 L166.868 421.666 Q169.671 421.666 171.156 420.557 Q172.642 419.428 172.642 417.322 Q172.642 415.159 171.1 414.012 Q169.577 412.846 166.718 412.846 Q165.157 412.846 163.37 413.184 Q161.583 413.523 159.439 414.237 L159.439 410.852 Q161.602 410.25 163.483 409.949 Q165.382 409.648 167.056 409.648 Q171.382 409.648 173.902 411.623 Q176.423 413.579 176.423 416.927 Q176.423 419.259 175.087 420.876 Q173.752 422.475 171.288 423.096 Z\" fill=\"#000000\" fill-rule=\"nonzero\" fill-opacity=\"1\" /><path clip-path=\"url(#clip150)\" d=\"M184.284 433.459 L188.253 433.459 L188.253 438.236 L184.284 438.236 L184.284 433.459 Z\" fill=\"#000000\" fill-rule=\"nonzero\" fill-opacity=\"1\" /><path clip-path=\"url(#clip150)\" d=\"M196.566 410.156 L211.48 410.156 L211.48 413.353 L200.045 413.353 L200.045 420.237 Q200.873 419.955 201.7 419.823 Q202.528 419.673 203.355 419.673 Q208.057 419.673 210.803 422.249 Q213.549 424.826 213.549 429.227 Q213.549 433.76 210.728 436.28 Q207.907 438.781 202.772 438.781 Q201.004 438.781 199.161 438.481 Q197.337 438.18 195.381 437.578 L195.381 433.76 Q197.074 434.681 198.879 435.133 Q200.685 435.584 202.697 435.584 Q205.951 435.584 207.85 433.873 Q209.75 432.161 209.75 429.227 Q209.75 426.293 207.85 424.582 Q205.951 422.87 202.697 422.87 Q201.174 422.87 199.65 423.209 Q198.146 423.547 196.566 424.262 L196.566 410.156 Z\" fill=\"#000000\" fill-rule=\"nonzero\" fill-opacity=\"1\" /><path clip-path=\"url(#clip150)\" d=\"M229.16 412.657 Q226.226 412.657 224.74 415.554 Q223.273 418.431 223.273 424.224 Q223.273 429.998 224.74 432.895 Q226.226 435.772 229.16 435.772 Q232.112 435.772 233.579 432.895 Q235.065 429.998 235.065 424.224 Q235.065 418.431 233.579 415.554 Q232.112 412.657 229.16 412.657 M229.16 409.648 Q233.88 409.648 236.363 413.391 Q238.864 417.115 238.864 424.224 Q238.864 431.315 236.363 435.058 Q233.88 438.781 229.16 438.781 Q224.439 438.781 221.937 435.058 Q219.455 431.315 219.455 424.224 Q219.455 417.115 221.937 413.391 Q224.439 409.648 229.16 409.648 Z\" fill=\"#000000\" fill-rule=\"nonzero\" fill-opacity=\"1\" /><polyline clip-path=\"url(#clip152)\" style=\"stroke:#009af9; stroke-linecap:round; stroke-linejoin:round; stroke-width:4; stroke-opacity:1; fill:none\" points=\"333.673,1413.97 987.098,1217.26 1640.52,1445.72 2293.95,87.9763 \"/>\n",
       "<path clip-path=\"url(#clip150)\" d=\"M344.127 198.898 L604.347 198.898 L604.347 95.2176 L344.127 95.2176  Z\" fill=\"#ffffff\" fill-rule=\"evenodd\" fill-opacity=\"1\"/>\n",
       "<polyline clip-path=\"url(#clip150)\" style=\"stroke:#000000; stroke-linecap:round; stroke-linejoin:round; stroke-width:4; stroke-opacity:1; fill:none\" points=\"344.127,198.898 604.347,198.898 604.347,95.2176 344.127,95.2176 344.127,198.898 \"/>\n",
       "<polyline clip-path=\"url(#clip150)\" style=\"stroke:#009af9; stroke-linecap:round; stroke-linejoin:round; stroke-width:4; stroke-opacity:1; fill:none\" points=\"367.215,147.058 505.741,147.058 \"/>\n",
       "<path clip-path=\"url(#clip150)\" d=\"M542.671 166.745 Q540.866 171.375 539.153 172.787 Q537.44 174.199 534.57 174.199 L531.167 174.199 L531.167 170.634 L533.667 170.634 Q535.426 170.634 536.398 169.8 Q537.371 168.967 538.551 165.865 L539.315 163.921 L528.829 138.412 L533.343 138.412 L541.445 158.689 L549.546 138.412 L554.06 138.412 L542.671 166.745 Z\" fill=\"#000000\" fill-rule=\"nonzero\" fill-opacity=\"1\" /><path clip-path=\"url(#clip150)\" d=\"M561.352 160.402 L568.991 160.402 L568.991 134.037 L560.681 135.703 L560.681 131.444 L568.944 129.778 L573.62 129.778 L573.62 160.402 L581.259 160.402 L581.259 164.338 L561.352 164.338 L561.352 160.402 Z\" fill=\"#000000\" fill-rule=\"nonzero\" fill-opacity=\"1\" /></svg>\n"
      ],
      "text/html": [
       "<?xml version=\"1.0\" encoding=\"utf-8\"?>\n",
       "<svg xmlns=\"http://www.w3.org/2000/svg\" xmlns:xlink=\"http://www.w3.org/1999/xlink\" width=\"600\" height=\"400\" viewBox=\"0 0 2400 1600\">\n",
       "<defs>\n",
       "  <clipPath id=\"clip200\">\n",
       "    <rect x=\"0\" y=\"0\" width=\"2400\" height=\"1600\"/>\n",
       "  </clipPath>\n",
       "</defs>\n",
       "<path clip-path=\"url(#clip200)\" d=\"M0 1600 L2400 1600 L2400 8.88178e-14 L0 8.88178e-14  Z\" fill=\"#ffffff\" fill-rule=\"evenodd\" fill-opacity=\"1\"/>\n",
       "<defs>\n",
       "  <clipPath id=\"clip201\">\n",
       "    <rect x=\"480\" y=\"0\" width=\"1681\" height=\"1600\"/>\n",
       "  </clipPath>\n",
       "</defs>\n",
       "<path clip-path=\"url(#clip200)\" d=\"M274.864 1486.45 L2352.76 1486.45 L2352.76 47.2441 L274.864 47.2441  Z\" fill=\"#ffffff\" fill-rule=\"evenodd\" fill-opacity=\"1\"/>\n",
       "<defs>\n",
       "  <clipPath id=\"clip202\">\n",
       "    <rect x=\"274\" y=\"47\" width=\"2079\" height=\"1440\"/>\n",
       "  </clipPath>\n",
       "</defs>\n",
       "<polyline clip-path=\"url(#clip202)\" style=\"stroke:#000000; stroke-linecap:round; stroke-linejoin:round; stroke-width:2; stroke-opacity:0.1; fill:none\" points=\"725.728,1486.45 725.728,47.2441 \"/>\n",
       "<polyline clip-path=\"url(#clip202)\" style=\"stroke:#000000; stroke-linecap:round; stroke-linejoin:round; stroke-width:2; stroke-opacity:0.1; fill:none\" points=\"1248.47,1486.45 1248.47,47.2441 \"/>\n",
       "<polyline clip-path=\"url(#clip202)\" style=\"stroke:#000000; stroke-linecap:round; stroke-linejoin:round; stroke-width:2; stroke-opacity:0.1; fill:none\" points=\"1771.21,1486.45 1771.21,47.2441 \"/>\n",
       "<polyline clip-path=\"url(#clip202)\" style=\"stroke:#000000; stroke-linecap:round; stroke-linejoin:round; stroke-width:2; stroke-opacity:0.1; fill:none\" points=\"2293.95,1486.45 2293.95,47.2441 \"/>\n",
       "<polyline clip-path=\"url(#clip202)\" style=\"stroke:#000000; stroke-linecap:round; stroke-linejoin:round; stroke-width:2; stroke-opacity:0.1; fill:none\" points=\"274.864,1258.97 2352.76,1258.97 \"/>\n",
       "<polyline clip-path=\"url(#clip202)\" style=\"stroke:#000000; stroke-linecap:round; stroke-linejoin:round; stroke-width:2; stroke-opacity:0.1; fill:none\" points=\"274.864,850.446 2352.76,850.446 \"/>\n",
       "<polyline clip-path=\"url(#clip202)\" style=\"stroke:#000000; stroke-linecap:round; stroke-linejoin:round; stroke-width:2; stroke-opacity:0.1; fill:none\" points=\"274.864,441.919 2352.76,441.919 \"/>\n",
       "<polyline clip-path=\"url(#clip200)\" style=\"stroke:#000000; stroke-linecap:round; stroke-linejoin:round; stroke-width:4; stroke-opacity:1; fill:none\" points=\"274.864,1486.45 2352.76,1486.45 \"/>\n",
       "<polyline clip-path=\"url(#clip200)\" style=\"stroke:#000000; stroke-linecap:round; stroke-linejoin:round; stroke-width:4; stroke-opacity:1; fill:none\" points=\"725.728,1486.45 725.728,1467.55 \"/>\n",
       "<polyline clip-path=\"url(#clip200)\" style=\"stroke:#000000; stroke-linecap:round; stroke-linejoin:round; stroke-width:4; stroke-opacity:1; fill:none\" points=\"1248.47,1486.45 1248.47,1467.55 \"/>\n",
       "<polyline clip-path=\"url(#clip200)\" style=\"stroke:#000000; stroke-linecap:round; stroke-linejoin:round; stroke-width:4; stroke-opacity:1; fill:none\" points=\"1771.21,1486.45 1771.21,1467.55 \"/>\n",
       "<polyline clip-path=\"url(#clip200)\" style=\"stroke:#000000; stroke-linecap:round; stroke-linejoin:round; stroke-width:4; stroke-opacity:1; fill:none\" points=\"2293.95,1486.45 2293.95,1467.55 \"/>\n",
       "<path clip-path=\"url(#clip200)\" d=\"M713.899 1518.36 L702.094 1536.81 L713.899 1536.81 L713.899 1518.36 M712.672 1514.29 L718.552 1514.29 L718.552 1536.81 L723.482 1536.81 L723.482 1540.7 L718.552 1540.7 L718.552 1548.85 L713.899 1548.85 L713.899 1540.7 L698.297 1540.7 L698.297 1536.19 L712.672 1514.29 Z\" fill=\"#000000\" fill-rule=\"nonzero\" fill-opacity=\"1\" /><path clip-path=\"url(#clip200)\" d=\"M741.214 1517.37 Q737.603 1517.37 735.774 1520.93 Q733.968 1524.47 733.968 1531.6 Q733.968 1538.71 735.774 1542.27 Q737.603 1545.82 741.214 1545.82 Q744.848 1545.82 746.653 1542.27 Q748.482 1538.71 748.482 1531.6 Q748.482 1524.47 746.653 1520.93 Q744.848 1517.37 741.214 1517.37 M741.214 1513.66 Q747.024 1513.66 750.079 1518.27 Q753.158 1522.85 753.158 1531.6 Q753.158 1540.33 750.079 1544.94 Q747.024 1549.52 741.214 1549.52 Q735.404 1549.52 732.325 1544.94 Q729.269 1540.33 729.269 1531.6 Q729.269 1522.85 732.325 1518.27 Q735.404 1513.66 741.214 1513.66 Z\" fill=\"#000000\" fill-rule=\"nonzero\" fill-opacity=\"1\" /><path clip-path=\"url(#clip200)\" d=\"M1233.87 1529.7 Q1230.72 1529.7 1228.87 1531.86 Q1227.04 1534.01 1227.04 1537.76 Q1227.04 1541.49 1228.87 1543.66 Q1230.72 1545.82 1233.87 1545.82 Q1237.02 1545.82 1238.85 1543.66 Q1240.7 1541.49 1240.7 1537.76 Q1240.7 1534.01 1238.85 1531.86 Q1237.02 1529.7 1233.87 1529.7 M1243.16 1515.05 L1243.16 1519.31 Q1241.4 1518.48 1239.59 1518.04 Q1237.81 1517.6 1236.05 1517.6 Q1231.42 1517.6 1228.97 1520.72 Q1226.53 1523.85 1226.19 1530.17 Q1227.55 1528.15 1229.61 1527.09 Q1231.67 1526 1234.15 1526 Q1239.36 1526 1242.37 1529.17 Q1245.4 1532.32 1245.4 1537.76 Q1245.4 1543.08 1242.25 1546.3 Q1239.1 1549.52 1233.87 1549.52 Q1227.88 1549.52 1224.71 1544.94 Q1221.53 1540.33 1221.53 1531.6 Q1221.53 1523.41 1225.42 1518.55 Q1229.31 1513.66 1235.86 1513.66 Q1237.62 1513.66 1239.41 1514.01 Q1241.21 1514.36 1243.16 1515.05 Z\" fill=\"#000000\" fill-rule=\"nonzero\" fill-opacity=\"1\" /><path clip-path=\"url(#clip200)\" d=\"M1263.46 1517.37 Q1259.84 1517.37 1258.02 1520.93 Q1256.21 1524.47 1256.21 1531.6 Q1256.21 1538.71 1258.02 1542.27 Q1259.84 1545.82 1263.46 1545.82 Q1267.09 1545.82 1268.9 1542.27 Q1270.72 1538.71 1270.72 1531.6 Q1270.72 1524.47 1268.9 1520.93 Q1267.09 1517.37 1263.46 1517.37 M1263.46 1513.66 Q1269.27 1513.66 1272.32 1518.27 Q1275.4 1522.85 1275.4 1531.6 Q1275.4 1540.33 1272.32 1544.94 Q1269.27 1549.52 1263.46 1549.52 Q1257.65 1549.52 1254.57 1544.94 Q1251.51 1540.33 1251.51 1531.6 Q1251.51 1522.85 1254.57 1518.27 Q1257.65 1513.66 1263.46 1513.66 Z\" fill=\"#000000\" fill-rule=\"nonzero\" fill-opacity=\"1\" /><path clip-path=\"url(#clip200)\" d=\"M1756.08 1532.44 Q1752.75 1532.44 1750.83 1534.22 Q1748.93 1536 1748.93 1539.13 Q1748.93 1542.25 1750.83 1544.03 Q1752.75 1545.82 1756.08 1545.82 Q1759.41 1545.82 1761.34 1544.03 Q1763.26 1542.23 1763.26 1539.13 Q1763.26 1536 1761.34 1534.22 Q1759.44 1532.44 1756.08 1532.44 M1751.4 1530.45 Q1748.4 1529.7 1746.71 1527.64 Q1745.04 1525.58 1745.04 1522.62 Q1745.04 1518.48 1747.98 1516.07 Q1750.94 1513.66 1756.08 1513.66 Q1761.24 1513.66 1764.18 1516.07 Q1767.12 1518.48 1767.12 1522.62 Q1767.12 1525.58 1765.43 1527.64 Q1763.77 1529.7 1760.78 1530.45 Q1764.16 1531.23 1766.03 1533.52 Q1767.93 1535.82 1767.93 1539.13 Q1767.93 1544.15 1764.85 1546.83 Q1761.8 1549.52 1756.08 1549.52 Q1750.36 1549.52 1747.28 1546.83 Q1744.23 1544.15 1744.23 1539.13 Q1744.23 1535.82 1746.13 1533.52 Q1748.02 1531.23 1751.4 1530.45 M1749.69 1523.06 Q1749.69 1525.75 1751.36 1527.25 Q1753.05 1528.76 1756.08 1528.76 Q1759.09 1528.76 1760.78 1527.25 Q1762.49 1525.75 1762.49 1523.06 Q1762.49 1520.38 1760.78 1518.87 Q1759.09 1517.37 1756.08 1517.37 Q1753.05 1517.37 1751.36 1518.87 Q1749.69 1520.38 1749.69 1523.06 Z\" fill=\"#000000\" fill-rule=\"nonzero\" fill-opacity=\"1\" /><path clip-path=\"url(#clip200)\" d=\"M1786.24 1517.37 Q1782.63 1517.37 1780.8 1520.93 Q1779 1524.47 1779 1531.6 Q1779 1538.71 1780.8 1542.27 Q1782.63 1545.82 1786.24 1545.82 Q1789.88 1545.82 1791.68 1542.27 Q1793.51 1538.71 1793.51 1531.6 Q1793.51 1524.47 1791.68 1520.93 Q1789.88 1517.37 1786.24 1517.37 M1786.24 1513.66 Q1792.05 1513.66 1795.11 1518.27 Q1798.19 1522.85 1798.19 1531.6 Q1798.19 1540.33 1795.11 1544.94 Q1792.05 1549.52 1786.24 1549.52 Q1780.43 1549.52 1777.35 1544.94 Q1774.3 1540.33 1774.3 1531.6 Q1774.3 1522.85 1777.35 1518.27 Q1780.43 1513.66 1786.24 1513.66 Z\" fill=\"#000000\" fill-rule=\"nonzero\" fill-opacity=\"1\" /><path clip-path=\"url(#clip200)\" d=\"M2253.55 1544.91 L2261.19 1544.91 L2261.19 1518.55 L2252.88 1520.21 L2252.88 1515.95 L2261.15 1514.29 L2265.82 1514.29 L2265.82 1544.91 L2273.46 1544.91 L2273.46 1548.85 L2253.55 1548.85 L2253.55 1544.91 Z\" fill=\"#000000\" fill-rule=\"nonzero\" fill-opacity=\"1\" /><path clip-path=\"url(#clip200)\" d=\"M2292.91 1517.37 Q2289.29 1517.37 2287.47 1520.93 Q2285.66 1524.47 2285.66 1531.6 Q2285.66 1538.71 2287.47 1542.27 Q2289.29 1545.82 2292.91 1545.82 Q2296.54 1545.82 2298.35 1542.27 Q2300.17 1538.71 2300.17 1531.6 Q2300.17 1524.47 2298.35 1520.93 Q2296.54 1517.37 2292.91 1517.37 M2292.91 1513.66 Q2298.72 1513.66 2301.77 1518.27 Q2304.85 1522.85 2304.85 1531.6 Q2304.85 1540.33 2301.77 1544.94 Q2298.72 1549.52 2292.91 1549.52 Q2287.1 1549.52 2284.02 1544.94 Q2280.96 1540.33 2280.96 1531.6 Q2280.96 1522.85 2284.02 1518.27 Q2287.1 1513.66 2292.91 1513.66 Z\" fill=\"#000000\" fill-rule=\"nonzero\" fill-opacity=\"1\" /><path clip-path=\"url(#clip200)\" d=\"M2323.07 1517.37 Q2319.46 1517.37 2317.63 1520.93 Q2315.82 1524.47 2315.82 1531.6 Q2315.82 1538.71 2317.63 1542.27 Q2319.46 1545.82 2323.07 1545.82 Q2326.7 1545.82 2328.51 1542.27 Q2330.34 1538.71 2330.34 1531.6 Q2330.34 1524.47 2328.51 1520.93 Q2326.7 1517.37 2323.07 1517.37 M2323.07 1513.66 Q2328.88 1513.66 2331.93 1518.27 Q2335.01 1522.85 2335.01 1531.6 Q2335.01 1540.33 2331.93 1544.94 Q2328.88 1549.52 2323.07 1549.52 Q2317.26 1549.52 2314.18 1544.94 Q2311.12 1540.33 2311.12 1531.6 Q2311.12 1522.85 2314.18 1518.27 Q2317.26 1513.66 2323.07 1513.66 Z\" fill=\"#000000\" fill-rule=\"nonzero\" fill-opacity=\"1\" /><polyline clip-path=\"url(#clip200)\" style=\"stroke:#000000; stroke-linecap:round; stroke-linejoin:round; stroke-width:4; stroke-opacity:1; fill:none\" points=\"274.864,1486.45 274.864,47.2441 \"/>\n",
       "<polyline clip-path=\"url(#clip200)\" style=\"stroke:#000000; stroke-linecap:round; stroke-linejoin:round; stroke-width:4; stroke-opacity:1; fill:none\" points=\"274.864,1258.97 293.762,1258.97 \"/>\n",
       "<polyline clip-path=\"url(#clip200)\" style=\"stroke:#000000; stroke-linecap:round; stroke-linejoin:round; stroke-width:4; stroke-opacity:1; fill:none\" points=\"274.864,850.446 293.762,850.446 \"/>\n",
       "<polyline clip-path=\"url(#clip200)\" style=\"stroke:#000000; stroke-linecap:round; stroke-linejoin:round; stroke-width:4; stroke-opacity:1; fill:none\" points=\"274.864,441.919 293.762,441.919 \"/>\n",
       "<path clip-path=\"url(#clip200)\" d=\"M51.6634 1278.77 L59.3023 1278.77 L59.3023 1252.4 L50.9921 1254.07 L50.9921 1249.81 L59.256 1248.14 L63.9319 1248.14 L63.9319 1278.77 L71.5707 1278.77 L71.5707 1282.7 L51.6634 1282.7 L51.6634 1278.77 Z\" fill=\"#000000\" fill-rule=\"nonzero\" fill-opacity=\"1\" /><path clip-path=\"url(#clip200)\" d=\"M91.0151 1251.22 Q87.404 1251.22 85.5753 1254.78 Q83.7697 1258.33 83.7697 1265.46 Q83.7697 1272.56 85.5753 1276.13 Q87.404 1279.67 91.0151 1279.67 Q94.6493 1279.67 96.4548 1276.13 Q98.2835 1272.56 98.2835 1265.46 Q98.2835 1258.33 96.4548 1254.78 Q94.6493 1251.22 91.0151 1251.22 M91.0151 1247.52 Q96.8252 1247.52 99.8808 1252.12 Q102.959 1256.71 102.959 1265.46 Q102.959 1274.18 99.8808 1278.79 Q96.8252 1283.37 91.0151 1283.37 Q85.2049 1283.37 82.1262 1278.79 Q79.0707 1274.18 79.0707 1265.46 Q79.0707 1256.71 82.1262 1252.12 Q85.2049 1247.52 91.0151 1247.52 Z\" fill=\"#000000\" fill-rule=\"nonzero\" fill-opacity=\"1\" /><path clip-path=\"url(#clip200)\" d=\"M102.959 1241.62 L127.071 1241.62 L127.071 1244.81 L102.959 1244.81 L102.959 1241.62 Z\" fill=\"#000000\" fill-rule=\"nonzero\" fill-opacity=\"1\" /><path clip-path=\"url(#clip200)\" d=\"M135.929 1252.09 L142.136 1252.09 L142.136 1230.67 L135.384 1232.03 L135.384 1228.56 L142.098 1227.21 L145.898 1227.21 L145.898 1252.09 L152.104 1252.09 L152.104 1255.29 L135.929 1255.29 L135.929 1252.09 Z\" fill=\"#000000\" fill-rule=\"nonzero\" fill-opacity=\"1\" /><path clip-path=\"url(#clip200)\" d=\"M170.216 1230.52 L160.624 1245.51 L170.216 1245.51 L170.216 1230.52 M169.219 1227.21 L173.996 1227.21 L173.996 1245.51 L178.002 1245.51 L178.002 1248.67 L173.996 1248.67 L173.996 1255.29 L170.216 1255.29 L170.216 1248.67 L157.54 1248.67 L157.54 1245 L169.219 1227.21 Z\" fill=\"#000000\" fill-rule=\"nonzero\" fill-opacity=\"1\" /><path clip-path=\"url(#clip200)\" d=\"M184.284 1250.51 L188.253 1250.51 L188.253 1255.29 L184.284 1255.29 L184.284 1250.51 Z\" fill=\"#000000\" fill-rule=\"nonzero\" fill-opacity=\"1\" /><path clip-path=\"url(#clip200)\" d=\"M204.653 1229.71 Q201.719 1229.71 200.233 1232.61 Q198.766 1235.49 198.766 1241.28 Q198.766 1247.05 200.233 1249.95 Q201.719 1252.83 204.653 1252.83 Q207.606 1252.83 209.073 1249.95 Q210.559 1247.05 210.559 1241.28 Q210.559 1235.49 209.073 1232.61 Q207.606 1229.71 204.653 1229.71 M204.653 1226.7 Q209.374 1226.7 211.856 1230.45 Q214.358 1234.17 214.358 1241.28 Q214.358 1248.37 211.856 1252.11 Q209.374 1255.84 204.653 1255.84 Q199.932 1255.84 197.431 1252.11 Q194.948 1248.37 194.948 1241.28 Q194.948 1234.17 197.431 1230.45 Q199.932 1226.7 204.653 1226.7 Z\" fill=\"#000000\" fill-rule=\"nonzero\" fill-opacity=\"1\" /><path clip-path=\"url(#clip200)\" d=\"M229.16 1229.71 Q226.226 1229.71 224.74 1232.61 Q223.273 1235.49 223.273 1241.28 Q223.273 1247.05 224.74 1249.95 Q226.226 1252.83 229.16 1252.83 Q232.112 1252.83 233.579 1249.95 Q235.065 1247.05 235.065 1241.28 Q235.065 1235.49 233.579 1232.61 Q232.112 1229.71 229.16 1229.71 M229.16 1226.7 Q233.88 1226.7 236.363 1230.45 Q238.864 1234.17 238.864 1241.28 Q238.864 1248.37 236.363 1252.11 Q233.88 1255.84 229.16 1255.84 Q224.439 1255.84 221.937 1252.11 Q219.455 1248.37 219.455 1241.28 Q219.455 1234.17 221.937 1230.45 Q224.439 1226.7 229.16 1226.7 Z\" fill=\"#000000\" fill-rule=\"nonzero\" fill-opacity=\"1\" /><path clip-path=\"url(#clip200)\" d=\"M52.4722 870.238 L60.111 870.238 L60.111 843.873 L51.8009 845.539 L51.8009 841.28 L60.0647 839.614 L64.7406 839.614 L64.7406 870.238 L72.3795 870.238 L72.3795 874.174 L52.4722 874.174 L52.4722 870.238 Z\" fill=\"#000000\" fill-rule=\"nonzero\" fill-opacity=\"1\" /><path clip-path=\"url(#clip200)\" d=\"M91.8238 842.692 Q88.2127 842.692 86.384 846.257 Q84.5785 849.799 84.5785 856.928 Q84.5785 864.035 86.384 867.6 Q88.2127 871.141 91.8238 871.141 Q95.458 871.141 97.2636 867.6 Q99.0923 864.035 99.0923 856.928 Q99.0923 849.799 97.2636 846.257 Q95.458 842.692 91.8238 842.692 M91.8238 838.989 Q97.6339 838.989 100.689 843.595 Q103.768 848.178 103.768 856.928 Q103.768 865.655 100.689 870.262 Q97.6339 874.845 91.8238 874.845 Q86.0136 874.845 82.935 870.262 Q79.8794 865.655 79.8794 856.928 Q79.8794 848.178 82.935 843.595 Q86.0136 838.989 91.8238 838.989 Z\" fill=\"#000000\" fill-rule=\"nonzero\" fill-opacity=\"1\" /><path clip-path=\"url(#clip200)\" d=\"M103.768 833.09 L127.88 833.09 L127.88 836.287 L103.768 836.287 L103.768 833.09 Z\" fill=\"#000000\" fill-rule=\"nonzero\" fill-opacity=\"1\" /><path clip-path=\"url(#clip200)\" d=\"M136.738 843.566 L142.945 843.566 L142.945 822.144 L136.193 823.498 L136.193 820.037 L142.907 818.683 L146.706 818.683 L146.706 843.566 L152.913 843.566 L152.913 846.763 L136.738 846.763 L136.738 843.566 Z\" fill=\"#000000\" fill-rule=\"nonzero\" fill-opacity=\"1\" /><path clip-path=\"url(#clip200)\" d=\"M172.097 831.623 Q174.824 832.206 176.347 834.049 Q177.89 835.892 177.89 838.601 Q177.89 842.757 175.031 845.033 Q172.172 847.309 166.906 847.309 Q165.138 847.309 163.257 846.951 Q161.395 846.613 159.402 845.917 L159.402 842.249 Q160.981 843.171 162.862 843.641 Q164.743 844.111 166.793 844.111 Q170.366 844.111 172.228 842.701 Q174.109 841.29 174.109 838.601 Q174.109 836.118 172.36 834.726 Q170.63 833.316 167.527 833.316 L164.254 833.316 L164.254 830.194 L167.677 830.194 Q170.479 830.194 171.965 829.084 Q173.451 827.955 173.451 825.849 Q173.451 823.686 171.909 822.539 Q170.385 821.373 167.527 821.373 Q165.965 821.373 164.179 821.711 Q162.392 822.05 160.248 822.764 L160.248 819.379 Q162.411 818.777 164.292 818.476 Q166.191 818.175 167.865 818.175 Q172.191 818.175 174.711 820.15 Q177.231 822.106 177.231 825.454 Q177.231 827.786 175.896 829.404 Q174.561 831.002 172.097 831.623 Z\" fill=\"#000000\" fill-rule=\"nonzero\" fill-opacity=\"1\" /><path clip-path=\"url(#clip200)\" d=\"M185.093 841.986 L189.061 841.986 L189.061 846.763 L185.093 846.763 L185.093 841.986 Z\" fill=\"#000000\" fill-rule=\"nonzero\" fill-opacity=\"1\" /><path clip-path=\"url(#clip200)\" d=\"M196.378 818.683 L214.433 818.683 L214.433 820.301 L204.239 846.763 L200.271 846.763 L209.863 821.88 L196.378 821.88 L196.378 818.683 Z\" fill=\"#000000\" fill-rule=\"nonzero\" fill-opacity=\"1\" /><path clip-path=\"url(#clip200)\" d=\"M221.881 818.683 L236.796 818.683 L236.796 821.88 L225.36 821.88 L225.36 828.764 Q226.188 828.482 227.015 828.35 Q227.843 828.2 228.671 828.2 Q233.373 828.2 236.118 830.777 Q238.864 833.353 238.864 837.754 Q238.864 842.287 236.043 844.807 Q233.222 847.309 228.088 847.309 Q226.32 847.309 224.476 847.008 Q222.652 846.707 220.696 846.105 L220.696 842.287 Q222.389 843.208 224.194 843.66 Q226 844.111 228.012 844.111 Q231.266 844.111 233.166 842.4 Q235.065 840.688 235.065 837.754 Q235.065 834.82 233.166 833.109 Q231.266 831.397 228.012 831.397 Q226.489 831.397 224.965 831.736 Q223.461 832.074 221.881 832.789 L221.881 818.683 Z\" fill=\"#000000\" fill-rule=\"nonzero\" fill-opacity=\"1\" /><path clip-path=\"url(#clip200)\" d=\"M51.6634 461.711 L59.3023 461.711 L59.3023 435.346 L50.9921 437.012 L50.9921 432.753 L59.256 431.086 L63.9319 431.086 L63.9319 461.711 L71.5707 461.711 L71.5707 465.646 L51.6634 465.646 L51.6634 461.711 Z\" fill=\"#000000\" fill-rule=\"nonzero\" fill-opacity=\"1\" /><path clip-path=\"url(#clip200)\" d=\"M91.0151 434.165 Q87.404 434.165 85.5753 437.73 Q83.7697 441.272 83.7697 448.401 Q83.7697 455.508 85.5753 459.072 Q87.404 462.614 91.0151 462.614 Q94.6493 462.614 96.4548 459.072 Q98.2835 455.508 98.2835 448.401 Q98.2835 441.272 96.4548 437.73 Q94.6493 434.165 91.0151 434.165 M91.0151 430.461 Q96.8252 430.461 99.8808 435.068 Q102.959 439.651 102.959 448.401 Q102.959 457.128 99.8808 461.734 Q96.8252 466.318 91.0151 466.318 Q85.2049 466.318 82.1262 461.734 Q79.0707 457.128 79.0707 448.401 Q79.0707 439.651 82.1262 435.068 Q85.2049 430.461 91.0151 430.461 Z\" fill=\"#000000\" fill-rule=\"nonzero\" fill-opacity=\"1\" /><path clip-path=\"url(#clip200)\" d=\"M102.959 424.563 L127.071 424.563 L127.071 427.76 L102.959 427.76 L102.959 424.563 Z\" fill=\"#000000\" fill-rule=\"nonzero\" fill-opacity=\"1\" /><path clip-path=\"url(#clip200)\" d=\"M135.929 435.039 L142.136 435.039 L142.136 413.617 L135.384 414.971 L135.384 411.51 L142.098 410.156 L145.898 410.156 L145.898 435.039 L152.104 435.039 L152.104 438.236 L135.929 438.236 L135.929 435.039 Z\" fill=\"#000000\" fill-rule=\"nonzero\" fill-opacity=\"1\" /><path clip-path=\"url(#clip200)\" d=\"M171.288 423.096 Q174.015 423.679 175.539 425.522 Q177.081 427.365 177.081 430.073 Q177.081 434.23 174.222 436.506 Q171.363 438.781 166.097 438.781 Q164.329 438.781 162.448 438.424 Q160.586 438.086 158.593 437.39 L158.593 433.722 Q160.173 434.644 162.053 435.114 Q163.934 435.584 165.984 435.584 Q169.558 435.584 171.42 434.174 Q173.3 432.763 173.3 430.073 Q173.3 427.591 171.551 426.199 Q169.821 424.788 166.718 424.788 L163.445 424.788 L163.445 421.666 L166.868 421.666 Q169.671 421.666 171.156 420.557 Q172.642 419.428 172.642 417.322 Q172.642 415.159 171.1 414.012 Q169.577 412.846 166.718 412.846 Q165.157 412.846 163.37 413.184 Q161.583 413.523 159.439 414.237 L159.439 410.852 Q161.602 410.25 163.483 409.949 Q165.382 409.648 167.056 409.648 Q171.382 409.648 173.902 411.623 Q176.423 413.579 176.423 416.927 Q176.423 419.259 175.087 420.876 Q173.752 422.475 171.288 423.096 Z\" fill=\"#000000\" fill-rule=\"nonzero\" fill-opacity=\"1\" /><path clip-path=\"url(#clip200)\" d=\"M184.284 433.459 L188.253 433.459 L188.253 438.236 L184.284 438.236 L184.284 433.459 Z\" fill=\"#000000\" fill-rule=\"nonzero\" fill-opacity=\"1\" /><path clip-path=\"url(#clip200)\" d=\"M196.566 410.156 L211.48 410.156 L211.48 413.353 L200.045 413.353 L200.045 420.237 Q200.873 419.955 201.7 419.823 Q202.528 419.673 203.355 419.673 Q208.057 419.673 210.803 422.249 Q213.549 424.826 213.549 429.227 Q213.549 433.76 210.728 436.28 Q207.907 438.781 202.772 438.781 Q201.004 438.781 199.161 438.481 Q197.337 438.18 195.381 437.578 L195.381 433.76 Q197.074 434.681 198.879 435.133 Q200.685 435.584 202.697 435.584 Q205.951 435.584 207.85 433.873 Q209.75 432.161 209.75 429.227 Q209.75 426.293 207.85 424.582 Q205.951 422.87 202.697 422.87 Q201.174 422.87 199.65 423.209 Q198.146 423.547 196.566 424.262 L196.566 410.156 Z\" fill=\"#000000\" fill-rule=\"nonzero\" fill-opacity=\"1\" /><path clip-path=\"url(#clip200)\" d=\"M229.16 412.657 Q226.226 412.657 224.74 415.554 Q223.273 418.431 223.273 424.224 Q223.273 429.998 224.74 432.895 Q226.226 435.772 229.16 435.772 Q232.112 435.772 233.579 432.895 Q235.065 429.998 235.065 424.224 Q235.065 418.431 233.579 415.554 Q232.112 412.657 229.16 412.657 M229.16 409.648 Q233.88 409.648 236.363 413.391 Q238.864 417.115 238.864 424.224 Q238.864 431.315 236.363 435.058 Q233.88 438.781 229.16 438.781 Q224.439 438.781 221.937 435.058 Q219.455 431.315 219.455 424.224 Q219.455 417.115 221.937 413.391 Q224.439 409.648 229.16 409.648 Z\" fill=\"#000000\" fill-rule=\"nonzero\" fill-opacity=\"1\" /><polyline clip-path=\"url(#clip202)\" style=\"stroke:#009af9; stroke-linecap:round; stroke-linejoin:round; stroke-width:4; stroke-opacity:1; fill:none\" points=\"333.673,1413.97 987.098,1217.26 1640.52,1445.72 2293.95,87.9763 \"/>\n",
       "<path clip-path=\"url(#clip200)\" d=\"M344.127 198.898 L604.347 198.898 L604.347 95.2176 L344.127 95.2176  Z\" fill=\"#ffffff\" fill-rule=\"evenodd\" fill-opacity=\"1\"/>\n",
       "<polyline clip-path=\"url(#clip200)\" style=\"stroke:#000000; stroke-linecap:round; stroke-linejoin:round; stroke-width:4; stroke-opacity:1; fill:none\" points=\"344.127,198.898 604.347,198.898 604.347,95.2176 344.127,95.2176 344.127,198.898 \"/>\n",
       "<polyline clip-path=\"url(#clip200)\" style=\"stroke:#009af9; stroke-linecap:round; stroke-linejoin:round; stroke-width:4; stroke-opacity:1; fill:none\" points=\"367.215,147.058 505.741,147.058 \"/>\n",
       "<path clip-path=\"url(#clip200)\" d=\"M542.671 166.745 Q540.866 171.375 539.153 172.787 Q537.44 174.199 534.57 174.199 L531.167 174.199 L531.167 170.634 L533.667 170.634 Q535.426 170.634 536.398 169.8 Q537.371 168.967 538.551 165.865 L539.315 163.921 L528.829 138.412 L533.343 138.412 L541.445 158.689 L549.546 138.412 L554.06 138.412 L542.671 166.745 Z\" fill=\"#000000\" fill-rule=\"nonzero\" fill-opacity=\"1\" /><path clip-path=\"url(#clip200)\" d=\"M561.352 160.402 L568.991 160.402 L568.991 134.037 L560.681 135.703 L560.681 131.444 L568.944 129.778 L573.62 129.778 L573.62 160.402 L581.259 160.402 L581.259 164.338 L561.352 164.338 L561.352 160.402 Z\" fill=\"#000000\" fill-rule=\"nonzero\" fill-opacity=\"1\" /></svg>\n"
      ]
     },
     "execution_count": 65,
     "metadata": {},
     "output_type": "execute_result"
    }
   ],
   "source": [
    "# TODO: plot the error norm(A*(A\\b) - b) for the perturbed and unperturbed badmatrix(n).\n",
    "# What do you observe?\n",
    "vec = zeros(4)\n",
    "for k = 1:4\n",
    "    b = randn(25k)\n",
    "    A = badmatrix(25k)\n",
    "    vec[k] = norm(A*(A\\b) - b)\n",
    "end\n",
    "\n",
    "plot(25:25:100,vec; yscale=:log10)"
   ]
  },
  {
   "cell_type": "markdown",
   "metadata": {},
   "source": [
    "-----"
   ]
  },
  {
   "cell_type": "markdown",
   "metadata": {},
   "source": [
    "## III.3 Cholesky factorisation"
   ]
  },
  {
   "cell_type": "markdown",
   "metadata": {},
   "source": [
    "The Cholesky factorisation is a special case of LU factorisation for the case\n",
    "when a matrix is symmetric positive definite (SPD). Hidden in the proof that a Cholesky factorisation\n",
    "exists if and only if the matrix is SPD is a simple algorithm for computing it:"
   ]
  },
  {
   "cell_type": "code",
   "execution_count": 69,
   "metadata": {},
   "outputs": [
    {
     "data": {
      "text/plain": [
       "\u001b[32m\u001b[1mTest Passed\u001b[22m\u001b[39m"
      ]
     },
     "execution_count": 69,
     "metadata": {},
     "output_type": "execute_result"
    }
   ],
   "source": [
    "function mycholesky(A)\n",
    "    T = eltype(A)\n",
    "    m,n = size(A)\n",
    "    if n ≠ m\n",
    "        error(\"Matrix must be square\")\n",
    "    end\n",
    "    if A ≠ A'\n",
    "        error(\"Matrix must be symmetric\")\n",
    "    end\n",
    "\n",
    "    L = LowerTriangular(zeros(T,n,n)) # a lower triangular matrix that at the end will satisfy L'L\n",
    "    Aⱼ = copy(A)\n",
    "    for j = 1:n\n",
    "        α,𝐯 = Aⱼ[1,1],Aⱼ[2:end,1]\n",
    "        if α ≤ 0\n",
    "            error(\"Matrix is not SPD\") # this error would be a proof that the matrix is not SPD, if done rigorously\n",
    "        end\n",
    "        L[j,j] = sqrt(α)\n",
    "        L[j+1:end,j] = 𝐯/sqrt(α)\n",
    "\n",
    "        # induction part\n",
    "        K = Aⱼ[2:end,2:end] # drop first row and column of A\n",
    "        Aⱼ = K - 𝐯*𝐯'/α\n",
    "    end\n",
    "    L\n",
    "end\n",
    "\n",
    "A = Symmetric(rand(100,100) + 100I) # Symmetric takes in a matrix and produces a symmetric version using the upper-triangular part.\n",
    "L = mycholesky(A)\n",
    "@test A ≈ L*L'"
   ]
  },
  {
   "cell_type": "markdown",
   "metadata": {},
   "source": [
    "With exact arithmetic algorithm succeeds if and only if $A$ is symmetric positive definite.\n",
    "With floating point errors this is not necessarily the case. (One could run it with interval arithmetic\n",
    "but that would only prove a matrix is SPD if the algorithm succeeded, failure could be caused by\n",
    "rounding.)"
   ]
  },
  {
   "cell_type": "markdown",
   "metadata": {},
   "source": [
    "In practice one would normally use the inbuilt `cholesky` function as follows:"
   ]
  },
  {
   "cell_type": "code",
   "execution_count": 71,
   "metadata": {},
   "outputs": [
    {
     "data": {
      "text/plain": [
       "\u001b[32m\u001b[1mTest Passed\u001b[22m\u001b[39m"
      ]
     },
     "execution_count": 71,
     "metadata": {},
     "output_type": "execute_result"
    }
   ],
   "source": [
    "L̃ = cholesky(A).L\n",
    "@test L̃ ≈ L # our implementation matches (approximately) the high-performance implementation."
   ]
  },
  {
   "cell_type": "markdown",
   "metadata": {},
   "source": [
    "In the following problem we consider a Cholesky factorisation for tridiagonal matrices. Since we are assuming the\n",
    "matrix is symmetric, we will use a special type `SymTridiagonal` that captures the symmetry.\n",
    "In particular, `SymTridiagonal(dv, ev) == Tridiagonal(ev, dv, ev)`."
   ]
  },
  {
   "cell_type": "markdown",
   "metadata": {},
   "source": [
    "-----"
   ]
  },
  {
   "cell_type": "markdown",
   "metadata": {},
   "source": [
    "**Problem 3** Use `mycholesky` or `cholesky` to deduce if the following matrices are SPD.\n",
    "$$\n",
    "\\begin{bmatrix} 1 & -1  \\\\\n",
    "-1 & 3\n",
    "\\end{bmatrix}, \\begin{bmatrix} 1 & 2 & 2  \\\\\n",
    "2 & 1 & 2\\\\\n",
    "2 & 2 & 1\n",
    "\\end{bmatrix}, \\begin{bmatrix} 3 & 2 & 1  \\\\\n",
    "2 & 4 & 2\\\\\n",
    "1 & 2 & 5\n",
    "\\end{bmatrix},\n",
    "\\begin{bmatrix} 4 & 2 & 2 & 1  \\\\\n",
    "2 & 4 & 2 & 2\\\\\n",
    "2 & 2 & 4 & 2 \\\\\n",
    "1 & 2 & 2 & 4\n",
    "\\end{bmatrix}\n",
    "$$"
   ]
  },
  {
   "cell_type": "code",
   "execution_count": null,
   "metadata": {},
   "outputs": [],
   "source": [
    "# TODO: Check if you got PS5 Q1 correct using a computer to do the Cholesky factorisation."
   ]
  },
  {
   "cell_type": "markdown",
   "metadata": {},
   "source": [
    "**Problem 4** Complete the following\n",
    "implementation of `mycholesky` to return a `Bidiagonal` cholesky factor in $O(n)$ operations."
   ]
  },
  {
   "cell_type": "code",
   "execution_count": 79,
   "metadata": {},
   "outputs": [
    {
     "data": {
      "text/plain": [
       "\u001b[32m\u001b[1mTest Passed\u001b[22m\u001b[39m"
      ]
     },
     "execution_count": 79,
     "metadata": {},
     "output_type": "execute_result"
    }
   ],
   "source": [
    "# return a Bidiagonal L such that L'L == A (up to machine precision)\n",
    "# You are allowed to change A\n",
    "function mycholesky(A::SymTridiagonal)\n",
    "    d = A.dv # diagonal entries of A\n",
    "    u = A.ev # sub/super-diagonal entries of A\n",
    "    T = float(eltype(A)) # return type, make float in case A has Ints\n",
    "    n = length(d)\n",
    "    ld = zeros(T, n) # diagonal entries of L\n",
    "    ll = zeros(T, n-1) # sub-diagonal entries of L\n",
    "\n",
    "    ld[1] = sqrt(d[1]) #alpha 1\n",
    "    for k = 1:n-1\n",
    "        ll[k] = u[k]/ld[k] #v1/sqrt alpha1\n",
    "        ld[k+1] = sqrt(d[k+1]-ll[k]^2) #alpha 2 is top entry of K - v^2/alpha\n",
    "    end\n",
    "    # END\n",
    "\n",
    "    Bidiagonal(ld, ll, :L)\n",
    "end\n",
    "\n",
    "n = 1000\n",
    "A = SymTridiagonal(2*ones(n),-ones(n-1))\n",
    "L = mycholesky(A)\n",
    "@test L isa Bidiagonal\n",
    "@test L*L' ≈ A"
   ]
  },
  {
   "cell_type": "markdown",
   "metadata": {},
   "source": [
    "---\n",
    "\n",
    "*This notebook was generated using [Literate.jl](https://github.com/fredrikekre/Literate.jl).*"
   ]
  }
 ],
 "metadata": {
  "kernelspec": {
   "display_name": "Julia 1.11.2",
   "language": "julia",
   "name": "julia-1.11"
  },
  "language_info": {
   "file_extension": ".jl",
   "mimetype": "application/julia",
   "name": "julia",
   "version": "1.11.2"
  }
 },
 "nbformat": 4,
 "nbformat_minor": 4
}
