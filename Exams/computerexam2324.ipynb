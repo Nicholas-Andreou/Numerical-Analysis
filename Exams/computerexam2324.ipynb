{
 "cells": [
  {
   "cell_type": "markdown",
   "metadata": {},
   "source": [
    "# MATH50003 Numerical Analysis (2023–2024) Computer-based Exam"
   ]
  },
  {
   "cell_type": "markdown",
   "metadata": {},
   "source": [
    "Instructions for uploading and downloading:"
   ]
  },
  {
   "cell_type": "markdown",
   "metadata": {},
   "source": [
    "1. Rename the file to include your CID.\n",
    "2. You have 15 mins to download the exam beginning at 9:00 on 15 March. **DO NOT** write or type anything during this time.\n",
    "2. You have 1 hour to complete the exam beginning at 9:15 on 15 March. You **MUST STOP** typing at 10:15.\n",
    "3. Deadline is 10:30 on 15 March to upload the completed Jupyter notebook (`.ipynb`) to Blackboard.\n",
    "5. Once uploaded, re-download the file before the final submission time to confirm it is correct.\n",
    "You are allowed to upload additional submissions but only the last valid upload before 10:30 will be used.\n",
    "6. If uploading via Blackboard fails or please contact an invigilator."
   ]
  },
  {
   "cell_type": "markdown",
   "metadata": {},
   "source": [
    "Instructions for the exam:"
   ]
  },
  {
   "cell_type": "markdown",
   "metadata": {},
   "source": [
    "1. For each problem, replace the `# TODO` to complete the question.\n",
    "The unit tests are provided to help you test your answers, but do not guarantee that the answer is correct.\n",
    "2. Problems are marked A/B/C to indicate difficulty (\"A\" being most difficult).\n",
    "3. All questions are worth 10 marks. Partial credit will be awarded for reasonable attempts or comments outlining a solution even if the tests\n",
    "are not passed.\n",
    "3. If you have technical queries please contact an invigilator.\n",
    "4. You may use existing code from anywhere\n",
    "but you are **REQUIRED** to cite the source if it is not part of the module material,\n",
    "by including a weblink in a comment.\n",
    "5. You **MUST NOT** ask for help online or\n",
    "communicate with others within or outside the module.\n",
    "Failure to follow these rules will be considered misconduct.\n",
    "6. **NO USAGE of AI tools** such as ChatGPT or GitHub Co-Pilot.\n",
    "7. **TURN OFF notifications** on your machine. In particular, close background processes for any chat applications (iMessage, WhatsApp, WeChat)."
   ]
  },
  {
   "cell_type": "markdown",
   "metadata": {},
   "source": [
    "You should use the following packages:"
   ]
  },
  {
   "cell_type": "code",
   "execution_count": 1,
   "metadata": {},
   "outputs": [],
   "source": [
    "using LinearAlgebra, SetRounding, Test"
   ]
  },
  {
   "cell_type": "markdown",
   "metadata": {},
   "source": [
    "**WARNING** It may be necessary to restart the kernel if issues arise. Remember to reload the packages\n",
    "when you do so."
   ]
  },
  {
   "cell_type": "markdown",
   "metadata": {},
   "source": [
    "-----"
   ]
  },
  {
   "cell_type": "markdown",
   "metadata": {},
   "source": [
    "**Problem 1 (C)** Implement the mid-point rule for approximating an integral:\n",
    "$$\n",
    "\\int_0^1 f(x) {\\rm d}x ≈ {1 \\over n} \\sum_{k=1}^n f(x_{k-1/2})\n",
    "$$\n",
    "where $x_k := k/n$. By computing with various values of $n$, conjecture what the convergence rate is as $n → ∞$,\n",
    "that is, for what $λ$ is the error $O(n^{-λ})$? You may assume all numbers are `Float64`."
   ]
  },
  {
   "cell_type": "code",
   "execution_count": 31,
   "metadata": {},
   "outputs": [
    {
     "data": {
      "image/png": "[encoded data removed]",
      "image/svg+xml": [
       "<?xml version=\"1.0\" encoding=\"utf-8\"?>\n",
       "<svg xmlns=\"http://www.w3.org/2000/svg\" xmlns:xlink=\"http://www.w3.org/1999/xlink\" width=\"600\" height=\"400\" viewBox=\"0 0 2400 1600\">\n",
       "<defs>\n",
       "  <clipPath id=\"clip130\">\n",
       "    <rect x=\"0\" y=\"0\" width=\"2400\" height=\"1600\"/>\n",
       "  </clipPath>\n",
       "</defs>\n",
       "<path clip-path=\"url(#clip130)\" d=\"M0 1600 L2400 1600 L2400 8.88178e-14 L0 8.88178e-14  Z\" fill=\"#ffffff\" fill-rule=\"evenodd\" fill-opacity=\"1\"/>\n",
       "<defs>\n",
       "  <clipPath id=\"clip131\">\n",
       "    <rect x=\"480\" y=\"0\" width=\"1681\" height=\"1600\"/>\n",
       "  </clipPath>\n",
       "</defs>\n",
       "<path clip-path=\"url(#clip130)\" d=\"M189.496 1486.45 L2352.76 1486.45 L2352.76 47.2441 L189.496 47.2441  Z\" fill=\"#ffffff\" fill-rule=\"evenodd\" fill-opacity=\"1\"/>\n",
       "<defs>\n",
       "  <clipPath id=\"clip132\">\n",
       "    <rect x=\"189\" y=\"47\" width=\"2164\" height=\"1440\"/>\n",
       "  </clipPath>\n",
       "</defs>\n",
       "<polyline clip-path=\"url(#clip132)\" style=\"stroke:#000000; stroke-linecap:round; stroke-linejoin:round; stroke-width:2; stroke-opacity:0.1; fill:none\" points=\"230.106,1486.45 230.106,47.2441 \"/>\n",
       "<polyline clip-path=\"url(#clip132)\" style=\"stroke:#000000; stroke-linecap:round; stroke-linejoin:round; stroke-width:2; stroke-opacity:0.1; fill:none\" points=\"745.462,1486.45 745.462,47.2441 \"/>\n",
       "<polyline clip-path=\"url(#clip132)\" style=\"stroke:#000000; stroke-linecap:round; stroke-linejoin:round; stroke-width:2; stroke-opacity:0.1; fill:none\" points=\"1260.82,1486.45 1260.82,47.2441 \"/>\n",
       "<polyline clip-path=\"url(#clip132)\" style=\"stroke:#000000; stroke-linecap:round; stroke-linejoin:round; stroke-width:2; stroke-opacity:0.1; fill:none\" points=\"1776.18,1486.45 1776.18,47.2441 \"/>\n",
       "<polyline clip-path=\"url(#clip132)\" style=\"stroke:#000000; stroke-linecap:round; stroke-linejoin:round; stroke-width:2; stroke-opacity:0.1; fill:none\" points=\"2291.53,1486.45 2291.53,47.2441 \"/>\n",
       "<polyline clip-path=\"url(#clip132)\" style=\"stroke:#000000; stroke-linecap:round; stroke-linejoin:round; stroke-width:2; stroke-opacity:0.1; fill:none\" points=\"189.496,1445.72 2352.76,1445.72 \"/>\n",
       "<polyline clip-path=\"url(#clip132)\" style=\"stroke:#000000; stroke-linecap:round; stroke-linejoin:round; stroke-width:2; stroke-opacity:0.1; fill:none\" points=\"189.496,1219.43 2352.76,1219.43 \"/>\n",
       "<polyline clip-path=\"url(#clip132)\" style=\"stroke:#000000; stroke-linecap:round; stroke-linejoin:round; stroke-width:2; stroke-opacity:0.1; fill:none\" points=\"189.496,993.136 2352.76,993.136 \"/>\n",
       "<polyline clip-path=\"url(#clip132)\" style=\"stroke:#000000; stroke-linecap:round; stroke-linejoin:round; stroke-width:2; stroke-opacity:0.1; fill:none\" points=\"189.496,766.846 2352.76,766.846 \"/>\n",
       "<polyline clip-path=\"url(#clip132)\" style=\"stroke:#000000; stroke-linecap:round; stroke-linejoin:round; stroke-width:2; stroke-opacity:0.1; fill:none\" points=\"189.496,540.556 2352.76,540.556 \"/>\n",
       "<polyline clip-path=\"url(#clip132)\" style=\"stroke:#000000; stroke-linecap:round; stroke-linejoin:round; stroke-width:2; stroke-opacity:0.1; fill:none\" points=\"189.496,314.266 2352.76,314.266 \"/>\n",
       "<polyline clip-path=\"url(#clip132)\" style=\"stroke:#000000; stroke-linecap:round; stroke-linejoin:round; stroke-width:2; stroke-opacity:0.1; fill:none\" points=\"189.496,87.9763 2352.76,87.9763 \"/>\n",
       "<polyline clip-path=\"url(#clip130)\" style=\"stroke:#000000; stroke-linecap:round; stroke-linejoin:round; stroke-width:4; stroke-opacity:1; fill:none\" points=\"189.496,1486.45 2352.76,1486.45 \"/>\n",
       "<polyline clip-path=\"url(#clip130)\" style=\"stroke:#000000; stroke-linecap:round; stroke-linejoin:round; stroke-width:4; stroke-opacity:1; fill:none\" points=\"230.106,1486.45 230.106,1467.55 \"/>\n",
       "<polyline clip-path=\"url(#clip130)\" style=\"stroke:#000000; stroke-linecap:round; stroke-linejoin:round; stroke-width:4; stroke-opacity:1; fill:none\" points=\"745.462,1486.45 745.462,1467.55 \"/>\n",
       "<polyline clip-path=\"url(#clip130)\" style=\"stroke:#000000; stroke-linecap:round; stroke-linejoin:round; stroke-width:4; stroke-opacity:1; fill:none\" points=\"1260.82,1486.45 1260.82,1467.55 \"/>\n",
       "<polyline clip-path=\"url(#clip130)\" style=\"stroke:#000000; stroke-linecap:round; stroke-linejoin:round; stroke-width:4; stroke-opacity:1; fill:none\" points=\"1776.18,1486.45 1776.18,1467.55 \"/>\n",
       "<polyline clip-path=\"url(#clip130)\" style=\"stroke:#000000; stroke-linecap:round; stroke-linejoin:round; stroke-width:4; stroke-opacity:1; fill:none\" points=\"2291.53,1486.45 2291.53,1467.55 \"/>\n",
       "<path clip-path=\"url(#clip130)\" d=\"M230.106 1517.37 Q226.495 1517.37 224.666 1520.93 Q222.861 1524.47 222.861 1531.6 Q222.861 1538.71 224.666 1542.27 Q226.495 1545.82 230.106 1545.82 Q233.74 1545.82 235.546 1542.27 Q237.374 1538.71 237.374 1531.6 Q237.374 1524.47 235.546 1520.93 Q233.74 1517.37 230.106 1517.37 M230.106 1513.66 Q235.916 1513.66 238.972 1518.27 Q242.05 1522.85 242.05 1531.6 Q242.05 1540.33 238.972 1544.94 Q235.916 1549.52 230.106 1549.52 Q224.296 1549.52 221.217 1544.94 Q218.162 1540.33 218.162 1531.6 Q218.162 1522.85 221.217 1518.27 Q224.296 1513.66 230.106 1513.66 Z\" fill=\"#000000\" fill-rule=\"nonzero\" fill-opacity=\"1\" /><path clip-path=\"url(#clip130)\" d=\"M724.733 1544.91 L741.053 1544.91 L741.053 1548.85 L719.108 1548.85 L719.108 1544.91 Q721.77 1542.16 726.354 1537.53 Q730.96 1532.88 732.141 1531.53 Q734.386 1529.01 735.266 1527.27 Q736.168 1525.51 736.168 1523.82 Q736.168 1521.07 734.224 1519.33 Q732.303 1517.6 729.201 1517.6 Q727.002 1517.6 724.548 1518.36 Q722.118 1519.13 719.34 1520.68 L719.34 1515.95 Q722.164 1514.82 724.618 1514.24 Q727.071 1513.66 729.108 1513.66 Q734.479 1513.66 737.673 1516.35 Q740.868 1519.03 740.868 1523.52 Q740.868 1525.65 740.057 1527.57 Q739.27 1529.47 737.164 1532.07 Q736.585 1532.74 733.483 1535.95 Q730.381 1539.15 724.733 1544.91 Z\" fill=\"#000000\" fill-rule=\"nonzero\" fill-opacity=\"1\" /><path clip-path=\"url(#clip130)\" d=\"M750.914 1514.29 L769.27 1514.29 L769.27 1518.22 L755.196 1518.22 L755.196 1526.7 Q756.215 1526.35 757.233 1526.19 Q758.252 1526 759.27 1526 Q765.057 1526 768.437 1529.17 Q771.816 1532.34 771.816 1537.76 Q771.816 1543.34 768.344 1546.44 Q764.872 1549.52 758.553 1549.52 Q756.377 1549.52 754.108 1549.15 Q751.863 1548.78 749.455 1548.04 L749.455 1543.34 Q751.539 1544.47 753.761 1545.03 Q755.983 1545.58 758.46 1545.58 Q762.465 1545.58 764.803 1543.48 Q767.141 1541.37 767.141 1537.76 Q767.141 1534.15 764.803 1532.04 Q762.465 1529.94 758.46 1529.94 Q756.585 1529.94 754.71 1530.35 Q752.858 1530.77 750.914 1531.65 L750.914 1514.29 Z\" fill=\"#000000\" fill-rule=\"nonzero\" fill-opacity=\"1\" /><path clip-path=\"url(#clip130)\" d=\"M1235.52 1514.29 L1253.87 1514.29 L1253.87 1518.22 L1239.8 1518.22 L1239.8 1526.7 Q1240.82 1526.35 1241.84 1526.19 Q1242.86 1526 1243.87 1526 Q1249.66 1526 1253.04 1529.17 Q1256.42 1532.34 1256.42 1537.76 Q1256.42 1543.34 1252.95 1546.44 Q1249.48 1549.52 1243.16 1549.52 Q1240.98 1549.52 1238.71 1549.15 Q1236.47 1548.78 1234.06 1548.04 L1234.06 1543.34 Q1236.14 1544.47 1238.37 1545.03 Q1240.59 1545.58 1243.06 1545.58 Q1247.07 1545.58 1249.41 1543.48 Q1251.74 1541.37 1251.74 1537.76 Q1251.74 1534.15 1249.41 1532.04 Q1247.07 1529.94 1243.06 1529.94 Q1241.19 1529.94 1239.31 1530.35 Q1237.46 1530.77 1235.52 1531.65 L1235.52 1514.29 Z\" fill=\"#000000\" fill-rule=\"nonzero\" fill-opacity=\"1\" /><path clip-path=\"url(#clip130)\" d=\"M1275.63 1517.37 Q1272.02 1517.37 1270.19 1520.93 Q1268.39 1524.47 1268.39 1531.6 Q1268.39 1538.71 1270.19 1542.27 Q1272.02 1545.82 1275.63 1545.82 Q1279.27 1545.82 1281.07 1542.27 Q1282.9 1538.71 1282.9 1531.6 Q1282.9 1524.47 1281.07 1520.93 Q1279.27 1517.37 1275.63 1517.37 M1275.63 1513.66 Q1281.44 1513.66 1284.5 1518.27 Q1287.58 1522.85 1287.58 1531.6 Q1287.58 1540.33 1284.5 1544.94 Q1281.44 1549.52 1275.63 1549.52 Q1269.82 1549.52 1266.74 1544.94 Q1263.69 1540.33 1263.69 1531.6 Q1263.69 1522.85 1266.74 1518.27 Q1269.82 1513.66 1275.63 1513.66 Z\" fill=\"#000000\" fill-rule=\"nonzero\" fill-opacity=\"1\" /><path clip-path=\"url(#clip130)\" d=\"M1750.03 1514.29 L1772.25 1514.29 L1772.25 1516.28 L1759.71 1548.85 L1754.82 1548.85 L1766.63 1518.22 L1750.03 1518.22 L1750.03 1514.29 Z\" fill=\"#000000\" fill-rule=\"nonzero\" fill-opacity=\"1\" /><path clip-path=\"url(#clip130)\" d=\"M1781.42 1514.29 L1799.77 1514.29 L1799.77 1518.22 L1785.7 1518.22 L1785.7 1526.7 Q1786.72 1526.35 1787.74 1526.19 Q1788.76 1526 1789.77 1526 Q1795.56 1526 1798.94 1529.17 Q1802.32 1532.34 1802.32 1537.76 Q1802.32 1543.34 1798.85 1546.44 Q1795.38 1549.52 1789.06 1549.52 Q1786.88 1549.52 1784.61 1549.15 Q1782.37 1548.78 1779.96 1548.04 L1779.96 1543.34 Q1782.04 1544.47 1784.27 1545.03 Q1786.49 1545.58 1788.96 1545.58 Q1792.97 1545.58 1795.31 1543.48 Q1797.64 1541.37 1797.64 1537.76 Q1797.64 1534.15 1795.31 1532.04 Q1792.97 1529.94 1788.96 1529.94 Q1787.09 1529.94 1785.21 1530.35 Q1783.36 1530.77 1781.42 1531.65 L1781.42 1514.29 Z\" fill=\"#000000\" fill-rule=\"nonzero\" fill-opacity=\"1\" /><path clip-path=\"url(#clip130)\" d=\"M2251.14 1544.91 L2258.78 1544.91 L2258.78 1518.55 L2250.47 1520.21 L2250.47 1515.95 L2258.73 1514.29 L2263.41 1514.29 L2263.41 1544.91 L2271.05 1544.91 L2271.05 1548.85 L2251.14 1548.85 L2251.14 1544.91 Z\" fill=\"#000000\" fill-rule=\"nonzero\" fill-opacity=\"1\" /><path clip-path=\"url(#clip130)\" d=\"M2290.49 1517.37 Q2286.88 1517.37 2285.05 1520.93 Q2283.24 1524.47 2283.24 1531.6 Q2283.24 1538.71 2285.05 1542.27 Q2286.88 1545.82 2290.49 1545.82 Q2294.12 1545.82 2295.93 1542.27 Q2297.76 1538.71 2297.76 1531.6 Q2297.76 1524.47 2295.93 1520.93 Q2294.12 1517.37 2290.49 1517.37 M2290.49 1513.66 Q2296.3 1513.66 2299.36 1518.27 Q2302.43 1522.85 2302.43 1531.6 Q2302.43 1540.33 2299.36 1544.94 Q2296.3 1549.52 2290.49 1549.52 Q2284.68 1549.52 2281.6 1544.94 Q2278.55 1540.33 2278.55 1531.6 Q2278.55 1522.85 2281.6 1518.27 Q2284.68 1513.66 2290.49 1513.66 Z\" fill=\"#000000\" fill-rule=\"nonzero\" fill-opacity=\"1\" /><path clip-path=\"url(#clip130)\" d=\"M2320.65 1517.37 Q2317.04 1517.37 2315.21 1520.93 Q2313.41 1524.47 2313.41 1531.6 Q2313.41 1538.71 2315.21 1542.27 Q2317.04 1545.82 2320.65 1545.82 Q2324.29 1545.82 2326.09 1542.27 Q2327.92 1538.71 2327.92 1531.6 Q2327.92 1524.47 2326.09 1520.93 Q2324.29 1517.37 2320.65 1517.37 M2320.65 1513.66 Q2326.46 1513.66 2329.52 1518.27 Q2332.6 1522.85 2332.6 1531.6 Q2332.6 1540.33 2329.52 1544.94 Q2326.46 1549.52 2320.65 1549.52 Q2314.84 1549.52 2311.76 1544.94 Q2308.71 1540.33 2308.71 1531.6 Q2308.71 1522.85 2311.76 1518.27 Q2314.84 1513.66 2320.65 1513.66 Z\" fill=\"#000000\" fill-rule=\"nonzero\" fill-opacity=\"1\" /><polyline clip-path=\"url(#clip130)\" style=\"stroke:#000000; stroke-linecap:round; stroke-linejoin:round; stroke-width:4; stroke-opacity:1; fill:none\" points=\"189.496,1486.45 189.496,47.2441 \"/>\n",
       "<polyline clip-path=\"url(#clip130)\" style=\"stroke:#000000; stroke-linecap:round; stroke-linejoin:round; stroke-width:4; stroke-opacity:1; fill:none\" points=\"189.496,1445.72 208.394,1445.72 \"/>\n",
       "<polyline clip-path=\"url(#clip130)\" style=\"stroke:#000000; stroke-linecap:round; stroke-linejoin:round; stroke-width:4; stroke-opacity:1; fill:none\" points=\"189.496,1219.43 208.394,1219.43 \"/>\n",
       "<polyline clip-path=\"url(#clip130)\" style=\"stroke:#000000; stroke-linecap:round; stroke-linejoin:round; stroke-width:4; stroke-opacity:1; fill:none\" points=\"189.496,993.136 208.394,993.136 \"/>\n",
       "<polyline clip-path=\"url(#clip130)\" style=\"stroke:#000000; stroke-linecap:round; stroke-linejoin:round; stroke-width:4; stroke-opacity:1; fill:none\" points=\"189.496,766.846 208.394,766.846 \"/>\n",
       "<polyline clip-path=\"url(#clip130)\" style=\"stroke:#000000; stroke-linecap:round; stroke-linejoin:round; stroke-width:4; stroke-opacity:1; fill:none\" points=\"189.496,540.556 208.394,540.556 \"/>\n",
       "<polyline clip-path=\"url(#clip130)\" style=\"stroke:#000000; stroke-linecap:round; stroke-linejoin:round; stroke-width:4; stroke-opacity:1; fill:none\" points=\"189.496,314.266 208.394,314.266 \"/>\n",
       "<polyline clip-path=\"url(#clip130)\" style=\"stroke:#000000; stroke-linecap:round; stroke-linejoin:round; stroke-width:4; stroke-opacity:1; fill:none\" points=\"189.496,87.9763 208.394,87.9763 \"/>\n",
       "<path clip-path=\"url(#clip130)\" d=\"M51.9267 1465.51 L59.5656 1465.51 L59.5656 1439.14 L51.2554 1440.81 L51.2554 1436.55 L59.5193 1434.88 L64.1952 1434.88 L64.1952 1465.51 L71.834 1465.51 L71.834 1469.44 L51.9267 1469.44 L51.9267 1465.51 Z\" fill=\"#000000\" fill-rule=\"nonzero\" fill-opacity=\"1\" /><path clip-path=\"url(#clip130)\" d=\"M91.2784 1437.96 Q87.6673 1437.96 85.8386 1441.53 Q84.033 1445.07 84.033 1452.2 Q84.033 1459.3 85.8386 1462.87 Q87.6673 1466.41 91.2784 1466.41 Q94.9126 1466.41 96.7182 1462.87 Q98.5468 1459.3 98.5468 1452.2 Q98.5468 1445.07 96.7182 1441.53 Q94.9126 1437.96 91.2784 1437.96 M91.2784 1434.26 Q97.0885 1434.26 100.144 1438.86 Q103.223 1443.45 103.223 1452.2 Q103.223 1460.92 100.144 1465.53 Q97.0885 1470.11 91.2784 1470.11 Q85.4682 1470.11 82.3895 1465.53 Q79.334 1460.92 79.334 1452.2 Q79.334 1443.45 82.3895 1438.86 Q85.4682 1434.26 91.2784 1434.26 Z\" fill=\"#000000\" fill-rule=\"nonzero\" fill-opacity=\"1\" /><path clip-path=\"url(#clip130)\" d=\"M103.223 1428.36 L127.334 1428.36 L127.334 1431.56 L103.223 1431.56 L103.223 1428.36 Z\" fill=\"#000000\" fill-rule=\"nonzero\" fill-opacity=\"1\" /><path clip-path=\"url(#clip130)\" d=\"M144.13 1426.48 Q141.572 1426.48 140.067 1428.23 Q138.581 1429.98 138.581 1433.02 Q138.581 1436.05 140.067 1437.82 Q141.572 1439.57 144.13 1439.57 Q146.688 1439.57 148.173 1437.82 Q149.678 1436.05 149.678 1433.02 Q149.678 1429.98 148.173 1428.23 Q146.688 1426.48 144.13 1426.48 M151.672 1414.57 L151.672 1418.03 Q150.242 1417.36 148.775 1417 Q147.327 1416.64 145.898 1416.64 Q142.136 1416.64 140.142 1419.18 Q138.168 1421.72 137.885 1426.86 Q138.995 1425.22 140.669 1424.35 Q142.343 1423.47 144.355 1423.47 Q148.587 1423.47 151.032 1426.05 Q153.496 1428.6 153.496 1433.02 Q153.496 1437.35 150.938 1439.96 Q148.38 1442.58 144.13 1442.58 Q139.258 1442.58 136.682 1438.85 Q134.105 1435.11 134.105 1428.02 Q134.105 1421.36 137.265 1417.41 Q140.425 1413.45 145.747 1413.45 Q147.177 1413.45 148.625 1413.73 Q150.092 1414.01 151.672 1414.57 Z\" fill=\"#000000\" fill-rule=\"nonzero\" fill-opacity=\"1\" /><path clip-path=\"url(#clip130)\" d=\"M52.8671 1239.22 L60.506 1239.22 L60.506 1212.85 L52.1958 1214.52 L52.1958 1210.26 L60.4597 1208.59 L65.1356 1208.59 L65.1356 1239.22 L72.7744 1239.22 L72.7744 1243.15 L52.8671 1243.15 L52.8671 1239.22 Z\" fill=\"#000000\" fill-rule=\"nonzero\" fill-opacity=\"1\" /><path clip-path=\"url(#clip130)\" d=\"M92.2188 1211.67 Q88.6077 1211.67 86.779 1215.24 Q84.9734 1218.78 84.9734 1225.91 Q84.9734 1233.01 86.779 1236.58 Q88.6077 1240.12 92.2188 1240.12 Q95.853 1240.12 97.6585 1236.58 Q99.4872 1233.01 99.4872 1225.91 Q99.4872 1218.78 97.6585 1215.24 Q95.853 1211.67 92.2188 1211.67 M92.2188 1207.97 Q98.0289 1207.97 101.084 1212.57 Q104.163 1217.16 104.163 1225.91 Q104.163 1234.63 101.084 1239.24 Q98.0289 1243.82 92.2188 1243.82 Q86.4086 1243.82 83.3299 1239.24 Q80.2744 1234.63 80.2744 1225.91 Q80.2744 1217.16 83.3299 1212.57 Q86.4086 1207.97 92.2188 1207.97 Z\" fill=\"#000000\" fill-rule=\"nonzero\" fill-opacity=\"1\" /><path clip-path=\"url(#clip130)\" d=\"M104.163 1202.07 L128.275 1202.07 L128.275 1205.27 L104.163 1205.27 L104.163 1202.07 Z\" fill=\"#000000\" fill-rule=\"nonzero\" fill-opacity=\"1\" /><path clip-path=\"url(#clip130)\" d=\"M136.513 1187.66 L151.427 1187.66 L151.427 1190.86 L139.992 1190.86 L139.992 1197.74 Q140.819 1197.46 141.647 1197.33 Q142.475 1197.18 143.302 1197.18 Q148.004 1197.18 150.75 1199.76 Q153.496 1202.33 153.496 1206.73 Q153.496 1211.27 150.675 1213.79 Q147.854 1216.29 142.719 1216.29 Q140.951 1216.29 139.108 1215.99 Q137.284 1215.69 135.328 1215.08 L135.328 1211.27 Q137.02 1212.19 138.826 1212.64 Q140.631 1213.09 142.644 1213.09 Q145.898 1213.09 147.797 1211.38 Q149.697 1209.67 149.697 1206.73 Q149.697 1203.8 147.797 1202.09 Q145.898 1200.38 142.644 1200.38 Q141.12 1200.38 139.597 1200.72 Q138.092 1201.05 136.513 1201.77 L136.513 1187.66 Z\" fill=\"#000000\" fill-rule=\"nonzero\" fill-opacity=\"1\" /><path clip-path=\"url(#clip130)\" d=\"M51.6634 1012.93 L59.3023 1012.93 L59.3023 986.563 L50.9921 988.229 L50.9921 983.97 L59.256 982.303 L63.9319 982.303 L63.9319 1012.93 L71.5707 1012.93 L71.5707 1016.86 L51.6634 1016.86 L51.6634 1012.93 Z\" fill=\"#000000\" fill-rule=\"nonzero\" fill-opacity=\"1\" /><path clip-path=\"url(#clip130)\" d=\"M91.0151 985.382 Q87.404 985.382 85.5753 988.947 Q83.7697 992.489 83.7697 999.618 Q83.7697 1006.72 85.5753 1010.29 Q87.404 1013.83 91.0151 1013.83 Q94.6493 1013.83 96.4548 1010.29 Q98.2835 1006.72 98.2835 999.618 Q98.2835 992.489 96.4548 988.947 Q94.6493 985.382 91.0151 985.382 M91.0151 981.678 Q96.8252 981.678 99.8808 986.285 Q102.959 990.868 102.959 999.618 Q102.959 1008.35 99.8808 1012.95 Q96.8252 1017.53 91.0151 1017.53 Q85.2049 1017.53 82.1262 1012.95 Q79.0707 1008.35 79.0707 999.618 Q79.0707 990.868 82.1262 986.285 Q85.2049 981.678 91.0151 981.678 Z\" fill=\"#000000\" fill-rule=\"nonzero\" fill-opacity=\"1\" /><path clip-path=\"url(#clip130)\" d=\"M102.959 975.78 L127.071 975.78 L127.071 978.977 L102.959 978.977 L102.959 975.78 Z\" fill=\"#000000\" fill-rule=\"nonzero\" fill-opacity=\"1\" /><path clip-path=\"url(#clip130)\" d=\"M145.71 964.683 L136.118 979.673 L145.71 979.673 L145.71 964.683 M144.713 961.373 L149.49 961.373 L149.49 979.673 L153.496 979.673 L153.496 982.833 L149.49 982.833 L149.49 989.453 L145.71 989.453 L145.71 982.833 L133.033 982.833 L133.033 979.165 L144.713 961.373 Z\" fill=\"#000000\" fill-rule=\"nonzero\" fill-opacity=\"1\" /><path clip-path=\"url(#clip130)\" d=\"M52.585 786.638 L60.2238 786.638 L60.2238 760.273 L51.9137 761.939 L51.9137 757.68 L60.1776 756.014 L64.8535 756.014 L64.8535 786.638 L72.4923 786.638 L72.4923 790.574 L52.585 790.574 L52.585 786.638 Z\" fill=\"#000000\" fill-rule=\"nonzero\" fill-opacity=\"1\" /><path clip-path=\"url(#clip130)\" d=\"M91.9366 759.092 Q88.3255 759.092 86.4969 762.657 Q84.6913 766.199 84.6913 773.328 Q84.6913 780.435 86.4969 784 Q88.3255 787.541 91.9366 787.541 Q95.5709 787.541 97.3764 784 Q99.2051 780.435 99.2051 773.328 Q99.2051 766.199 97.3764 762.657 Q95.5709 759.092 91.9366 759.092 M91.9366 755.389 Q97.7468 755.389 100.802 759.995 Q103.881 764.578 103.881 773.328 Q103.881 782.055 100.802 786.662 Q97.7468 791.245 91.9366 791.245 Q86.1265 791.245 83.0478 786.662 Q79.9923 782.055 79.9923 773.328 Q79.9923 764.578 83.0478 759.995 Q86.1265 755.389 91.9366 755.389 Z\" fill=\"#000000\" fill-rule=\"nonzero\" fill-opacity=\"1\" /><path clip-path=\"url(#clip130)\" d=\"M103.881 749.49 L127.993 749.49 L127.993 752.687 L103.881 752.687 L103.881 749.49 Z\" fill=\"#000000\" fill-rule=\"nonzero\" fill-opacity=\"1\" /><path clip-path=\"url(#clip130)\" d=\"M147.703 748.023 Q150.43 748.606 151.954 750.449 Q153.496 752.292 153.496 755.001 Q153.496 759.157 150.637 761.433 Q147.778 763.709 142.512 763.709 Q140.744 763.709 138.863 763.351 Q137.002 763.013 135.008 762.317 L135.008 758.649 Q136.588 759.571 138.469 760.041 Q140.349 760.511 142.399 760.511 Q145.973 760.511 147.835 759.101 Q149.716 757.69 149.716 755.001 Q149.716 752.518 147.966 751.126 Q146.236 749.716 143.133 749.716 L139.86 749.716 L139.86 746.594 L143.283 746.594 Q146.086 746.594 147.571 745.484 Q149.057 744.355 149.057 742.249 Q149.057 740.086 147.515 738.939 Q145.992 737.773 143.133 737.773 Q141.572 737.773 139.785 738.111 Q137.998 738.45 135.854 739.164 L135.854 735.779 Q138.017 735.177 139.898 734.876 Q141.797 734.575 143.471 734.575 Q147.797 734.575 150.317 736.55 Q152.838 738.506 152.838 741.854 Q152.838 744.186 151.502 745.804 Q150.167 747.402 147.703 748.023 Z\" fill=\"#000000\" fill-rule=\"nonzero\" fill-opacity=\"1\" /><path clip-path=\"url(#clip130)\" d=\"M53.3561 560.349 L60.995 560.349 L60.995 533.983 L52.6848 535.65 L52.6848 531.39 L60.9487 529.724 L65.6246 529.724 L65.6246 560.349 L73.2634 560.349 L73.2634 564.284 L53.3561 564.284 L53.3561 560.349 Z\" fill=\"#000000\" fill-rule=\"nonzero\" fill-opacity=\"1\" /><path clip-path=\"url(#clip130)\" d=\"M92.7078 532.802 Q89.0967 532.802 87.268 536.367 Q85.4624 539.909 85.4624 547.038 Q85.4624 554.145 87.268 557.71 Q89.0967 561.251 92.7078 561.251 Q96.342 561.251 98.1475 557.71 Q99.9762 554.145 99.9762 547.038 Q99.9762 539.909 98.1475 536.367 Q96.342 532.802 92.7078 532.802 M92.7078 529.099 Q98.5179 529.099 101.573 533.705 Q104.652 538.288 104.652 547.038 Q104.652 555.765 101.573 560.372 Q98.5179 564.955 92.7078 564.955 Q86.8976 564.955 83.8189 560.372 Q80.7634 555.765 80.7634 547.038 Q80.7634 538.288 83.8189 533.705 Q86.8976 529.099 92.7078 529.099 Z\" fill=\"#000000\" fill-rule=\"nonzero\" fill-opacity=\"1\" /><path clip-path=\"url(#clip130)\" d=\"M104.652 523.2 L128.764 523.2 L128.764 526.397 L104.652 526.397 L104.652 523.2 Z\" fill=\"#000000\" fill-rule=\"nonzero\" fill-opacity=\"1\" /><path clip-path=\"url(#clip130)\" d=\"M140.236 533.676 L153.496 533.676 L153.496 536.873 L135.666 536.873 L135.666 533.676 Q137.829 531.438 141.553 527.676 Q145.296 523.896 146.255 522.805 Q148.079 520.755 148.794 519.344 Q149.527 517.915 149.527 516.542 Q149.527 514.304 147.948 512.893 Q146.387 511.483 143.866 511.483 Q142.08 511.483 140.086 512.103 Q138.111 512.724 135.854 513.984 L135.854 510.147 Q138.149 509.226 140.142 508.756 Q142.136 508.285 143.791 508.285 Q148.155 508.285 150.75 510.467 Q153.345 512.649 153.345 516.298 Q153.345 518.028 152.687 519.589 Q152.048 521.131 150.336 523.238 Q149.866 523.783 147.346 526.397 Q144.826 528.993 140.236 533.676 Z\" fill=\"#000000\" fill-rule=\"nonzero\" fill-opacity=\"1\" /><path clip-path=\"url(#clip130)\" d=\"M53.0552 334.059 L60.694 334.059 L60.694 307.693 L52.3839 309.36 L52.3839 305.1 L60.6477 303.434 L65.3236 303.434 L65.3236 334.059 L72.9625 334.059 L72.9625 337.994 L53.0552 337.994 L53.0552 334.059 Z\" fill=\"#000000\" fill-rule=\"nonzero\" fill-opacity=\"1\" /><path clip-path=\"url(#clip130)\" d=\"M92.4068 306.512 Q88.7957 306.512 86.967 310.077 Q85.1615 313.619 85.1615 320.749 Q85.1615 327.855 86.967 331.42 Q88.7957 334.961 92.4068 334.961 Q96.0411 334.961 97.8466 331.42 Q99.6753 327.855 99.6753 320.749 Q99.6753 313.619 97.8466 310.077 Q96.0411 306.512 92.4068 306.512 M92.4068 302.809 Q98.217 302.809 101.273 307.415 Q104.351 311.999 104.351 320.749 Q104.351 329.475 101.273 334.082 Q98.217 338.665 92.4068 338.665 Q86.5967 338.665 83.518 334.082 Q80.4625 329.475 80.4625 320.749 Q80.4625 311.999 83.518 307.415 Q86.5967 302.809 92.4068 302.809 Z\" fill=\"#000000\" fill-rule=\"nonzero\" fill-opacity=\"1\" /><path clip-path=\"url(#clip130)\" d=\"M104.351 296.91 L128.463 296.91 L128.463 300.107 L104.351 300.107 L104.351 296.91 Z\" fill=\"#000000\" fill-rule=\"nonzero\" fill-opacity=\"1\" /><path clip-path=\"url(#clip130)\" d=\"M137.321 307.386 L143.528 307.386 L143.528 285.964 L136.776 287.318 L136.776 283.858 L143.49 282.503 L147.289 282.503 L147.289 307.386 L153.496 307.386 L153.496 310.583 L137.321 310.583 L137.321 307.386 Z\" fill=\"#000000\" fill-rule=\"nonzero\" fill-opacity=\"1\" /><path clip-path=\"url(#clip130)\" d=\"M82.7903 107.769 L90.4291 107.769 L90.4291 81.4031 L82.119 83.0698 L82.119 78.8105 L90.3828 77.1439 L95.0587 77.1439 L95.0587 107.769 L102.698 107.769 L102.698 111.704 L82.7903 111.704 L82.7903 107.769 Z\" fill=\"#000000\" fill-rule=\"nonzero\" fill-opacity=\"1\" /><path clip-path=\"url(#clip130)\" d=\"M122.142 80.2226 Q118.531 80.2226 116.702 83.7874 Q114.897 87.329 114.897 94.4586 Q114.897 101.565 116.702 105.13 Q118.531 108.671 122.142 108.671 Q125.776 108.671 127.582 105.13 Q129.41 101.565 129.41 94.4586 Q129.41 87.329 127.582 83.7874 Q125.776 80.2226 122.142 80.2226 M122.142 76.5189 Q127.952 76.5189 131.008 81.1253 Q134.086 85.7086 134.086 94.4586 Q134.086 103.185 131.008 107.792 Q127.952 112.375 122.142 112.375 Q116.332 112.375 113.253 107.792 Q110.198 103.185 110.198 94.4586 Q110.198 85.7086 113.253 81.1253 Q116.332 76.5189 122.142 76.5189 Z\" fill=\"#000000\" fill-rule=\"nonzero\" fill-opacity=\"1\" /><path clip-path=\"url(#clip130)\" d=\"M143.791 58.7149 Q140.857 58.7149 139.371 61.6113 Q137.904 64.4889 137.904 70.2817 Q137.904 76.0557 139.371 78.9521 Q140.857 81.8297 143.791 81.8297 Q146.744 81.8297 148.211 78.9521 Q149.697 76.0557 149.697 70.2817 Q149.697 64.4889 148.211 61.6113 Q146.744 58.7149 143.791 58.7149 M143.791 55.7057 Q148.512 55.7057 150.994 59.4484 Q153.496 63.1724 153.496 70.2817 Q153.496 77.3722 150.994 81.115 Q148.512 84.8389 143.791 84.8389 Q139.07 84.8389 136.569 81.115 Q134.086 77.3722 134.086 70.2817 Q134.086 63.1724 136.569 59.4484 Q139.07 55.7057 143.791 55.7057 Z\" fill=\"#000000\" fill-rule=\"nonzero\" fill-opacity=\"1\" /><polyline clip-path=\"url(#clip132)\" style=\"stroke:#009af9; stroke-linecap:round; stroke-linejoin:round; stroke-width:4; stroke-opacity:1; fill:none\" points=\"250.72,349.938 271.335,484.059 291.949,563.358 312.563,619.764 333.177,663.559 353.792,699.36 374.406,729.637 395.02,755.87 415.634,779.011 436.249,799.713 456.863,818.442 477.477,835.54 498.091,851.27 518.706,865.834 539.32,879.393 559.934,892.076 580.548,903.991 601.163,915.224 621.777,925.851 642.391,935.932 663.005,945.521 683.62,954.664 704.234,963.401 724.848,971.765 745.462,979.789 766.077,987.497 786.691,994.915 807.305,1002.06 827.919,1008.96 848.534,1015.62 869.148,1022.07 889.762,1028.31 910.376,1034.36 930.991,1040.22 951.605,1045.92 972.219,1051.46 992.833,1056.84 1013.45,1062.08 1034.06,1067.19 1054.68,1072.17 1075.29,1077.02 1095.9,1081.76 1116.52,1086.38 1137.13,1090.9 1157.75,1095.32 1178.36,1099.64 1198.98,1103.86 1219.59,1108 1240.2,1112.05 1260.82,1116.03 1281.43,1119.92 1302.05,1123.73 1322.66,1127.48 1343.28,1131.15 1363.89,1134.76 1384.5,1138.3 1405.12,1141.78 1425.73,1145.2 1446.35,1148.56 1466.96,1151.86 1487.58,1155.11 1508.19,1158.31 1528.8,1161.45 1549.42,1164.55 1570.03,1167.59 1590.65,1170.59 1611.26,1173.55 1631.88,1176.46 1652.49,1179.33 1673.1,1182.16 1693.72,1184.95 1714.33,1187.7 1734.95,1190.41 1755.56,1193.08 1776.18,1195.72 1796.79,1198.32 1817.4,1200.89 1838.02,1203.43 1858.63,1205.93 1879.25,1208.41 1899.86,1210.85 1920.47,1213.26 1941.09,1215.64 1961.7,1218 1982.32,1220.32 2002.93,1222.62 2023.55,1224.89 2044.16,1227.14 2064.77,1229.36 2085.39,1231.56 2106,1233.73 2126.62,1235.88 2147.23,1238 2167.85,1240.1 2188.46,1242.18 2209.07,1244.24 2229.69,1246.28 2250.3,1248.29 2270.92,1250.29 2291.53,1252.26 \"/>\n",
       "<polyline clip-path=\"url(#clip132)\" style=\"stroke:#e26f46; stroke-linecap:round; stroke-linejoin:round; stroke-width:4; stroke-opacity:1; fill:none\" points=\"250.72,87.9763 271.335,292.336 291.949,411.879 312.563,496.697 333.177,562.486 353.792,616.24 374.406,661.688 395.02,701.057 415.634,735.783 436.249,766.846 456.863,794.946 477.477,820.6 498.091,844.199 518.706,866.048 539.32,886.389 559.934,905.417 580.548,923.291 601.163,940.143 621.777,956.083 642.391,971.206 663.005,985.591 683.62,999.306 704.234,1012.41 724.848,1024.96 745.462,1037 766.077,1048.56 786.691,1059.69 807.305,1070.41 827.919,1080.75 848.534,1090.75 869.148,1100.42 889.762,1109.78 910.376,1118.85 930.991,1127.65 951.605,1136.2 972.219,1144.5 992.833,1152.58 1013.45,1160.44 1034.06,1168.1 1054.68,1175.57 1075.29,1182.85 1095.9,1189.95 1116.52,1196.89 1137.13,1203.67 1157.75,1210.29 1178.36,1216.77 1198.98,1223.11 1219.59,1229.32 1240.2,1235.4 1260.82,1241.36 1281.43,1247.19 1302.05,1252.92 1322.66,1258.53 1343.28,1264.05 1363.89,1269.46 1384.5,1274.77 1405.12,1279.99 1425.73,1285.11 1446.35,1290.15 1466.96,1295.11 1487.58,1299.98 1508.19,1304.78 1528.8,1309.49 1549.42,1314.14 1570.03,1318.71 1590.65,1323.21 1611.26,1327.64 1631.88,1332.01 1652.49,1336.32 1673.1,1340.56 1693.72,1344.74 1714.33,1348.86 1734.95,1352.93 1755.56,1356.94 1776.18,1360.9 1796.79,1364.8 1817.4,1368.66 1838.02,1372.46 1858.63,1376.22 1879.25,1379.93 1899.86,1383.59 1920.47,1387.21 1941.09,1390.78 1961.7,1394.31 1982.32,1397.8 2002.93,1401.25 2023.55,1404.66 2044.16,1408.03 2064.77,1411.36 2085.39,1414.65 2106,1417.91 2126.62,1421.13 2147.23,1424.32 2167.85,1427.47 2188.46,1430.59 2209.07,1433.68 2229.69,1436.74 2250.3,1439.76 2270.92,1442.75 2291.53,1445.72 \"/>\n",
       "<path clip-path=\"url(#clip130)\" d=\"M2011.89 250.738 L2280.65 250.738 L2280.65 95.2176 L2011.89 95.2176  Z\" fill=\"#ffffff\" fill-rule=\"evenodd\" fill-opacity=\"1\"/>\n",
       "<polyline clip-path=\"url(#clip130)\" style=\"stroke:#000000; stroke-linecap:round; stroke-linejoin:round; stroke-width:4; stroke-opacity:1; fill:none\" points=\"2011.89,250.738 2280.65,250.738 2280.65,95.2176 2011.89,95.2176 2011.89,250.738 \"/>\n",
       "<polyline clip-path=\"url(#clip130)\" style=\"stroke:#009af9; stroke-linecap:round; stroke-linejoin:round; stroke-width:4; stroke-opacity:1; fill:none\" points=\"2035.93,147.058 2180.14,147.058 \"/>\n",
       "<path clip-path=\"url(#clip130)\" d=\"M2218.02 166.745 Q2216.22 171.375 2214.5 172.787 Q2212.79 174.199 2209.92 174.199 L2206.52 174.199 L2206.52 170.634 L2209.02 170.634 Q2210.78 170.634 2211.75 169.8 Q2212.72 168.967 2213.9 165.865 L2214.67 163.921 L2204.18 138.412 L2208.69 138.412 L2216.8 158.689 L2224.9 138.412 L2229.41 138.412 L2218.02 166.745 Z\" fill=\"#000000\" fill-rule=\"nonzero\" fill-opacity=\"1\" /><path clip-path=\"url(#clip130)\" d=\"M2236.7 160.402 L2244.34 160.402 L2244.34 134.037 L2236.03 135.703 L2236.03 131.444 L2244.3 129.778 L2248.97 129.778 L2248.97 160.402 L2256.61 160.402 L2256.61 164.338 L2236.7 164.338 L2236.7 160.402 Z\" fill=\"#000000\" fill-rule=\"nonzero\" fill-opacity=\"1\" /><polyline clip-path=\"url(#clip130)\" style=\"stroke:#e26f46; stroke-linecap:round; stroke-linejoin:round; stroke-width:4; stroke-opacity:1; fill:none\" points=\"2035.93,198.898 2180.14,198.898 \"/>\n",
       "<path clip-path=\"url(#clip130)\" d=\"M2218.02 218.585 Q2216.22 223.215 2214.5 224.627 Q2212.79 226.039 2209.92 226.039 L2206.52 226.039 L2206.52 222.474 L2209.02 222.474 Q2210.78 222.474 2211.75 221.64 Q2212.72 220.807 2213.9 217.705 L2214.67 215.761 L2204.18 190.252 L2208.69 190.252 L2216.8 210.529 L2224.9 190.252 L2229.41 190.252 L2218.02 218.585 Z\" fill=\"#000000\" fill-rule=\"nonzero\" fill-opacity=\"1\" /><path clip-path=\"url(#clip130)\" d=\"M2239.92 212.242 L2256.24 212.242 L2256.24 216.178 L2234.3 216.178 L2234.3 212.242 Q2236.96 209.488 2241.54 204.858 Q2246.15 200.205 2247.33 198.863 Q2249.57 196.34 2250.45 194.604 Q2251.36 192.844 2251.36 191.155 Q2251.36 188.4 2249.41 186.664 Q2247.49 184.928 2244.39 184.928 Q2242.19 184.928 2239.74 185.692 Q2237.31 186.455 2234.53 188.006 L2234.53 183.284 Q2237.35 182.15 2239.81 181.571 Q2242.26 180.993 2244.3 180.993 Q2249.67 180.993 2252.86 183.678 Q2256.06 186.363 2256.06 190.854 Q2256.06 192.983 2255.25 194.905 Q2254.46 196.803 2252.35 199.395 Q2251.77 200.067 2248.67 203.284 Q2245.57 206.479 2239.92 212.242 Z\" fill=\"#000000\" fill-rule=\"nonzero\" fill-opacity=\"1\" /></svg>\n"
      ],
      "text/html": [
       "<?xml version=\"1.0\" encoding=\"utf-8\"?>\n",
       "<svg xmlns=\"http://www.w3.org/2000/svg\" xmlns:xlink=\"http://www.w3.org/1999/xlink\" width=\"600\" height=\"400\" viewBox=\"0 0 2400 1600\">\n",
       "<defs>\n",
       "  <clipPath id=\"clip180\">\n",
       "    <rect x=\"0\" y=\"0\" width=\"2400\" height=\"1600\"/>\n",
       "  </clipPath>\n",
       "</defs>\n",
       "<path clip-path=\"url(#clip180)\" d=\"M0 1600 L2400 1600 L2400 8.88178e-14 L0 8.88178e-14  Z\" fill=\"#ffffff\" fill-rule=\"evenodd\" fill-opacity=\"1\"/>\n",
       "<defs>\n",
       "  <clipPath id=\"clip181\">\n",
       "    <rect x=\"480\" y=\"0\" width=\"1681\" height=\"1600\"/>\n",
       "  </clipPath>\n",
       "</defs>\n",
       "<path clip-path=\"url(#clip180)\" d=\"M189.496 1486.45 L2352.76 1486.45 L2352.76 47.2441 L189.496 47.2441  Z\" fill=\"#ffffff\" fill-rule=\"evenodd\" fill-opacity=\"1\"/>\n",
       "<defs>\n",
       "  <clipPath id=\"clip182\">\n",
       "    <rect x=\"189\" y=\"47\" width=\"2164\" height=\"1440\"/>\n",
       "  </clipPath>\n",
       "</defs>\n",
       "<polyline clip-path=\"url(#clip182)\" style=\"stroke:#000000; stroke-linecap:round; stroke-linejoin:round; stroke-width:2; stroke-opacity:0.1; fill:none\" points=\"230.106,1486.45 230.106,47.2441 \"/>\n",
       "<polyline clip-path=\"url(#clip182)\" style=\"stroke:#000000; stroke-linecap:round; stroke-linejoin:round; stroke-width:2; stroke-opacity:0.1; fill:none\" points=\"745.462,1486.45 745.462,47.2441 \"/>\n",
       "<polyline clip-path=\"url(#clip182)\" style=\"stroke:#000000; stroke-linecap:round; stroke-linejoin:round; stroke-width:2; stroke-opacity:0.1; fill:none\" points=\"1260.82,1486.45 1260.82,47.2441 \"/>\n",
       "<polyline clip-path=\"url(#clip182)\" style=\"stroke:#000000; stroke-linecap:round; stroke-linejoin:round; stroke-width:2; stroke-opacity:0.1; fill:none\" points=\"1776.18,1486.45 1776.18,47.2441 \"/>\n",
       "<polyline clip-path=\"url(#clip182)\" style=\"stroke:#000000; stroke-linecap:round; stroke-linejoin:round; stroke-width:2; stroke-opacity:0.1; fill:none\" points=\"2291.53,1486.45 2291.53,47.2441 \"/>\n",
       "<polyline clip-path=\"url(#clip182)\" style=\"stroke:#000000; stroke-linecap:round; stroke-linejoin:round; stroke-width:2; stroke-opacity:0.1; fill:none\" points=\"189.496,1445.72 2352.76,1445.72 \"/>\n",
       "<polyline clip-path=\"url(#clip182)\" style=\"stroke:#000000; stroke-linecap:round; stroke-linejoin:round; stroke-width:2; stroke-opacity:0.1; fill:none\" points=\"189.496,1219.43 2352.76,1219.43 \"/>\n",
       "<polyline clip-path=\"url(#clip182)\" style=\"stroke:#000000; stroke-linecap:round; stroke-linejoin:round; stroke-width:2; stroke-opacity:0.1; fill:none\" points=\"189.496,993.136 2352.76,993.136 \"/>\n",
       "<polyline clip-path=\"url(#clip182)\" style=\"stroke:#000000; stroke-linecap:round; stroke-linejoin:round; stroke-width:2; stroke-opacity:0.1; fill:none\" points=\"189.496,766.846 2352.76,766.846 \"/>\n",
       "<polyline clip-path=\"url(#clip182)\" style=\"stroke:#000000; stroke-linecap:round; stroke-linejoin:round; stroke-width:2; stroke-opacity:0.1; fill:none\" points=\"189.496,540.556 2352.76,540.556 \"/>\n",
       "<polyline clip-path=\"url(#clip182)\" style=\"stroke:#000000; stroke-linecap:round; stroke-linejoin:round; stroke-width:2; stroke-opacity:0.1; fill:none\" points=\"189.496,314.266 2352.76,314.266 \"/>\n",
       "<polyline clip-path=\"url(#clip182)\" style=\"stroke:#000000; stroke-linecap:round; stroke-linejoin:round; stroke-width:2; stroke-opacity:0.1; fill:none\" points=\"189.496,87.9763 2352.76,87.9763 \"/>\n",
       "<polyline clip-path=\"url(#clip180)\" style=\"stroke:#000000; stroke-linecap:round; stroke-linejoin:round; stroke-width:4; stroke-opacity:1; fill:none\" points=\"189.496,1486.45 2352.76,1486.45 \"/>\n",
       "<polyline clip-path=\"url(#clip180)\" style=\"stroke:#000000; stroke-linecap:round; stroke-linejoin:round; stroke-width:4; stroke-opacity:1; fill:none\" points=\"230.106,1486.45 230.106,1467.55 \"/>\n",
       "<polyline clip-path=\"url(#clip180)\" style=\"stroke:#000000; stroke-linecap:round; stroke-linejoin:round; stroke-width:4; stroke-opacity:1; fill:none\" points=\"745.462,1486.45 745.462,1467.55 \"/>\n",
       "<polyline clip-path=\"url(#clip180)\" style=\"stroke:#000000; stroke-linecap:round; stroke-linejoin:round; stroke-width:4; stroke-opacity:1; fill:none\" points=\"1260.82,1486.45 1260.82,1467.55 \"/>\n",
       "<polyline clip-path=\"url(#clip180)\" style=\"stroke:#000000; stroke-linecap:round; stroke-linejoin:round; stroke-width:4; stroke-opacity:1; fill:none\" points=\"1776.18,1486.45 1776.18,1467.55 \"/>\n",
       "<polyline clip-path=\"url(#clip180)\" style=\"stroke:#000000; stroke-linecap:round; stroke-linejoin:round; stroke-width:4; stroke-opacity:1; fill:none\" points=\"2291.53,1486.45 2291.53,1467.55 \"/>\n",
       "<path clip-path=\"url(#clip180)\" d=\"M230.106 1517.37 Q226.495 1517.37 224.666 1520.93 Q222.861 1524.47 222.861 1531.6 Q222.861 1538.71 224.666 1542.27 Q226.495 1545.82 230.106 1545.82 Q233.74 1545.82 235.546 1542.27 Q237.374 1538.71 237.374 1531.6 Q237.374 1524.47 235.546 1520.93 Q233.74 1517.37 230.106 1517.37 M230.106 1513.66 Q235.916 1513.66 238.972 1518.27 Q242.05 1522.85 242.05 1531.6 Q242.05 1540.33 238.972 1544.94 Q235.916 1549.52 230.106 1549.52 Q224.296 1549.52 221.217 1544.94 Q218.162 1540.33 218.162 1531.6 Q218.162 1522.85 221.217 1518.27 Q224.296 1513.66 230.106 1513.66 Z\" fill=\"#000000\" fill-rule=\"nonzero\" fill-opacity=\"1\" /><path clip-path=\"url(#clip180)\" d=\"M724.733 1544.91 L741.053 1544.91 L741.053 1548.85 L719.108 1548.85 L719.108 1544.91 Q721.77 1542.16 726.354 1537.53 Q730.96 1532.88 732.141 1531.53 Q734.386 1529.01 735.266 1527.27 Q736.168 1525.51 736.168 1523.82 Q736.168 1521.07 734.224 1519.33 Q732.303 1517.6 729.201 1517.6 Q727.002 1517.6 724.548 1518.36 Q722.118 1519.13 719.34 1520.68 L719.34 1515.95 Q722.164 1514.82 724.618 1514.24 Q727.071 1513.66 729.108 1513.66 Q734.479 1513.66 737.673 1516.35 Q740.868 1519.03 740.868 1523.52 Q740.868 1525.65 740.057 1527.57 Q739.27 1529.47 737.164 1532.07 Q736.585 1532.74 733.483 1535.95 Q730.381 1539.15 724.733 1544.91 Z\" fill=\"#000000\" fill-rule=\"nonzero\" fill-opacity=\"1\" /><path clip-path=\"url(#clip180)\" d=\"M750.914 1514.29 L769.27 1514.29 L769.27 1518.22 L755.196 1518.22 L755.196 1526.7 Q756.215 1526.35 757.233 1526.19 Q758.252 1526 759.27 1526 Q765.057 1526 768.437 1529.17 Q771.816 1532.34 771.816 1537.76 Q771.816 1543.34 768.344 1546.44 Q764.872 1549.52 758.553 1549.52 Q756.377 1549.52 754.108 1549.15 Q751.863 1548.78 749.455 1548.04 L749.455 1543.34 Q751.539 1544.47 753.761 1545.03 Q755.983 1545.58 758.46 1545.58 Q762.465 1545.58 764.803 1543.48 Q767.141 1541.37 767.141 1537.76 Q767.141 1534.15 764.803 1532.04 Q762.465 1529.94 758.46 1529.94 Q756.585 1529.94 754.71 1530.35 Q752.858 1530.77 750.914 1531.65 L750.914 1514.29 Z\" fill=\"#000000\" fill-rule=\"nonzero\" fill-opacity=\"1\" /><path clip-path=\"url(#clip180)\" d=\"M1235.52 1514.29 L1253.87 1514.29 L1253.87 1518.22 L1239.8 1518.22 L1239.8 1526.7 Q1240.82 1526.35 1241.84 1526.19 Q1242.86 1526 1243.87 1526 Q1249.66 1526 1253.04 1529.17 Q1256.42 1532.34 1256.42 1537.76 Q1256.42 1543.34 1252.95 1546.44 Q1249.48 1549.52 1243.16 1549.52 Q1240.98 1549.52 1238.71 1549.15 Q1236.47 1548.78 1234.06 1548.04 L1234.06 1543.34 Q1236.14 1544.47 1238.37 1545.03 Q1240.59 1545.58 1243.06 1545.58 Q1247.07 1545.58 1249.41 1543.48 Q1251.74 1541.37 1251.74 1537.76 Q1251.74 1534.15 1249.41 1532.04 Q1247.07 1529.94 1243.06 1529.94 Q1241.19 1529.94 1239.31 1530.35 Q1237.46 1530.77 1235.52 1531.65 L1235.52 1514.29 Z\" fill=\"#000000\" fill-rule=\"nonzero\" fill-opacity=\"1\" /><path clip-path=\"url(#clip180)\" d=\"M1275.63 1517.37 Q1272.02 1517.37 1270.19 1520.93 Q1268.39 1524.47 1268.39 1531.6 Q1268.39 1538.71 1270.19 1542.27 Q1272.02 1545.82 1275.63 1545.82 Q1279.27 1545.82 1281.07 1542.27 Q1282.9 1538.71 1282.9 1531.6 Q1282.9 1524.47 1281.07 1520.93 Q1279.27 1517.37 1275.63 1517.37 M1275.63 1513.66 Q1281.44 1513.66 1284.5 1518.27 Q1287.58 1522.85 1287.58 1531.6 Q1287.58 1540.33 1284.5 1544.94 Q1281.44 1549.52 1275.63 1549.52 Q1269.82 1549.52 1266.74 1544.94 Q1263.69 1540.33 1263.69 1531.6 Q1263.69 1522.85 1266.74 1518.27 Q1269.82 1513.66 1275.63 1513.66 Z\" fill=\"#000000\" fill-rule=\"nonzero\" fill-opacity=\"1\" /><path clip-path=\"url(#clip180)\" d=\"M1750.03 1514.29 L1772.25 1514.29 L1772.25 1516.28 L1759.71 1548.85 L1754.82 1548.85 L1766.63 1518.22 L1750.03 1518.22 L1750.03 1514.29 Z\" fill=\"#000000\" fill-rule=\"nonzero\" fill-opacity=\"1\" /><path clip-path=\"url(#clip180)\" d=\"M1781.42 1514.29 L1799.77 1514.29 L1799.77 1518.22 L1785.7 1518.22 L1785.7 1526.7 Q1786.72 1526.35 1787.74 1526.19 Q1788.76 1526 1789.77 1526 Q1795.56 1526 1798.94 1529.17 Q1802.32 1532.34 1802.32 1537.76 Q1802.32 1543.34 1798.85 1546.44 Q1795.38 1549.52 1789.06 1549.52 Q1786.88 1549.52 1784.61 1549.15 Q1782.37 1548.78 1779.96 1548.04 L1779.96 1543.34 Q1782.04 1544.47 1784.27 1545.03 Q1786.49 1545.58 1788.96 1545.58 Q1792.97 1545.58 1795.31 1543.48 Q1797.64 1541.37 1797.64 1537.76 Q1797.64 1534.15 1795.31 1532.04 Q1792.97 1529.94 1788.96 1529.94 Q1787.09 1529.94 1785.21 1530.35 Q1783.36 1530.77 1781.42 1531.65 L1781.42 1514.29 Z\" fill=\"#000000\" fill-rule=\"nonzero\" fill-opacity=\"1\" /><path clip-path=\"url(#clip180)\" d=\"M2251.14 1544.91 L2258.78 1544.91 L2258.78 1518.55 L2250.47 1520.21 L2250.47 1515.95 L2258.73 1514.29 L2263.41 1514.29 L2263.41 1544.91 L2271.05 1544.91 L2271.05 1548.85 L2251.14 1548.85 L2251.14 1544.91 Z\" fill=\"#000000\" fill-rule=\"nonzero\" fill-opacity=\"1\" /><path clip-path=\"url(#clip180)\" d=\"M2290.49 1517.37 Q2286.88 1517.37 2285.05 1520.93 Q2283.24 1524.47 2283.24 1531.6 Q2283.24 1538.71 2285.05 1542.27 Q2286.88 1545.82 2290.49 1545.82 Q2294.12 1545.82 2295.93 1542.27 Q2297.76 1538.71 2297.76 1531.6 Q2297.76 1524.47 2295.93 1520.93 Q2294.12 1517.37 2290.49 1517.37 M2290.49 1513.66 Q2296.3 1513.66 2299.36 1518.27 Q2302.43 1522.85 2302.43 1531.6 Q2302.43 1540.33 2299.36 1544.94 Q2296.3 1549.52 2290.49 1549.52 Q2284.68 1549.52 2281.6 1544.94 Q2278.55 1540.33 2278.55 1531.6 Q2278.55 1522.85 2281.6 1518.27 Q2284.68 1513.66 2290.49 1513.66 Z\" fill=\"#000000\" fill-rule=\"nonzero\" fill-opacity=\"1\" /><path clip-path=\"url(#clip180)\" d=\"M2320.65 1517.37 Q2317.04 1517.37 2315.21 1520.93 Q2313.41 1524.47 2313.41 1531.6 Q2313.41 1538.71 2315.21 1542.27 Q2317.04 1545.82 2320.65 1545.82 Q2324.29 1545.82 2326.09 1542.27 Q2327.92 1538.71 2327.92 1531.6 Q2327.92 1524.47 2326.09 1520.93 Q2324.29 1517.37 2320.65 1517.37 M2320.65 1513.66 Q2326.46 1513.66 2329.52 1518.27 Q2332.6 1522.85 2332.6 1531.6 Q2332.6 1540.33 2329.52 1544.94 Q2326.46 1549.52 2320.65 1549.52 Q2314.84 1549.52 2311.76 1544.94 Q2308.71 1540.33 2308.71 1531.6 Q2308.71 1522.85 2311.76 1518.27 Q2314.84 1513.66 2320.65 1513.66 Z\" fill=\"#000000\" fill-rule=\"nonzero\" fill-opacity=\"1\" /><polyline clip-path=\"url(#clip180)\" style=\"stroke:#000000; stroke-linecap:round; stroke-linejoin:round; stroke-width:4; stroke-opacity:1; fill:none\" points=\"189.496,1486.45 189.496,47.2441 \"/>\n",
       "<polyline clip-path=\"url(#clip180)\" style=\"stroke:#000000; stroke-linecap:round; stroke-linejoin:round; stroke-width:4; stroke-opacity:1; fill:none\" points=\"189.496,1445.72 208.394,1445.72 \"/>\n",
       "<polyline clip-path=\"url(#clip180)\" style=\"stroke:#000000; stroke-linecap:round; stroke-linejoin:round; stroke-width:4; stroke-opacity:1; fill:none\" points=\"189.496,1219.43 208.394,1219.43 \"/>\n",
       "<polyline clip-path=\"url(#clip180)\" style=\"stroke:#000000; stroke-linecap:round; stroke-linejoin:round; stroke-width:4; stroke-opacity:1; fill:none\" points=\"189.496,993.136 208.394,993.136 \"/>\n",
       "<polyline clip-path=\"url(#clip180)\" style=\"stroke:#000000; stroke-linecap:round; stroke-linejoin:round; stroke-width:4; stroke-opacity:1; fill:none\" points=\"189.496,766.846 208.394,766.846 \"/>\n",
       "<polyline clip-path=\"url(#clip180)\" style=\"stroke:#000000; stroke-linecap:round; stroke-linejoin:round; stroke-width:4; stroke-opacity:1; fill:none\" points=\"189.496,540.556 208.394,540.556 \"/>\n",
       "<polyline clip-path=\"url(#clip180)\" style=\"stroke:#000000; stroke-linecap:round; stroke-linejoin:round; stroke-width:4; stroke-opacity:1; fill:none\" points=\"189.496,314.266 208.394,314.266 \"/>\n",
       "<polyline clip-path=\"url(#clip180)\" style=\"stroke:#000000; stroke-linecap:round; stroke-linejoin:round; stroke-width:4; stroke-opacity:1; fill:none\" points=\"189.496,87.9763 208.394,87.9763 \"/>\n",
       "<path clip-path=\"url(#clip180)\" d=\"M51.9267 1465.51 L59.5656 1465.51 L59.5656 1439.14 L51.2554 1440.81 L51.2554 1436.55 L59.5193 1434.88 L64.1952 1434.88 L64.1952 1465.51 L71.834 1465.51 L71.834 1469.44 L51.9267 1469.44 L51.9267 1465.51 Z\" fill=\"#000000\" fill-rule=\"nonzero\" fill-opacity=\"1\" /><path clip-path=\"url(#clip180)\" d=\"M91.2784 1437.96 Q87.6673 1437.96 85.8386 1441.53 Q84.033 1445.07 84.033 1452.2 Q84.033 1459.3 85.8386 1462.87 Q87.6673 1466.41 91.2784 1466.41 Q94.9126 1466.41 96.7182 1462.87 Q98.5468 1459.3 98.5468 1452.2 Q98.5468 1445.07 96.7182 1441.53 Q94.9126 1437.96 91.2784 1437.96 M91.2784 1434.26 Q97.0885 1434.26 100.144 1438.86 Q103.223 1443.45 103.223 1452.2 Q103.223 1460.92 100.144 1465.53 Q97.0885 1470.11 91.2784 1470.11 Q85.4682 1470.11 82.3895 1465.53 Q79.334 1460.92 79.334 1452.2 Q79.334 1443.45 82.3895 1438.86 Q85.4682 1434.26 91.2784 1434.26 Z\" fill=\"#000000\" fill-rule=\"nonzero\" fill-opacity=\"1\" /><path clip-path=\"url(#clip180)\" d=\"M103.223 1428.36 L127.334 1428.36 L127.334 1431.56 L103.223 1431.56 L103.223 1428.36 Z\" fill=\"#000000\" fill-rule=\"nonzero\" fill-opacity=\"1\" /><path clip-path=\"url(#clip180)\" d=\"M144.13 1426.48 Q141.572 1426.48 140.067 1428.23 Q138.581 1429.98 138.581 1433.02 Q138.581 1436.05 140.067 1437.82 Q141.572 1439.57 144.13 1439.57 Q146.688 1439.57 148.173 1437.82 Q149.678 1436.05 149.678 1433.02 Q149.678 1429.98 148.173 1428.23 Q146.688 1426.48 144.13 1426.48 M151.672 1414.57 L151.672 1418.03 Q150.242 1417.36 148.775 1417 Q147.327 1416.64 145.898 1416.64 Q142.136 1416.64 140.142 1419.18 Q138.168 1421.72 137.885 1426.86 Q138.995 1425.22 140.669 1424.35 Q142.343 1423.47 144.355 1423.47 Q148.587 1423.47 151.032 1426.05 Q153.496 1428.6 153.496 1433.02 Q153.496 1437.35 150.938 1439.96 Q148.38 1442.58 144.13 1442.58 Q139.258 1442.58 136.682 1438.85 Q134.105 1435.11 134.105 1428.02 Q134.105 1421.36 137.265 1417.41 Q140.425 1413.45 145.747 1413.45 Q147.177 1413.45 148.625 1413.73 Q150.092 1414.01 151.672 1414.57 Z\" fill=\"#000000\" fill-rule=\"nonzero\" fill-opacity=\"1\" /><path clip-path=\"url(#clip180)\" d=\"M52.8671 1239.22 L60.506 1239.22 L60.506 1212.85 L52.1958 1214.52 L52.1958 1210.26 L60.4597 1208.59 L65.1356 1208.59 L65.1356 1239.22 L72.7744 1239.22 L72.7744 1243.15 L52.8671 1243.15 L52.8671 1239.22 Z\" fill=\"#000000\" fill-rule=\"nonzero\" fill-opacity=\"1\" /><path clip-path=\"url(#clip180)\" d=\"M92.2188 1211.67 Q88.6077 1211.67 86.779 1215.24 Q84.9734 1218.78 84.9734 1225.91 Q84.9734 1233.01 86.779 1236.58 Q88.6077 1240.12 92.2188 1240.12 Q95.853 1240.12 97.6585 1236.58 Q99.4872 1233.01 99.4872 1225.91 Q99.4872 1218.78 97.6585 1215.24 Q95.853 1211.67 92.2188 1211.67 M92.2188 1207.97 Q98.0289 1207.97 101.084 1212.57 Q104.163 1217.16 104.163 1225.91 Q104.163 1234.63 101.084 1239.24 Q98.0289 1243.82 92.2188 1243.82 Q86.4086 1243.82 83.3299 1239.24 Q80.2744 1234.63 80.2744 1225.91 Q80.2744 1217.16 83.3299 1212.57 Q86.4086 1207.97 92.2188 1207.97 Z\" fill=\"#000000\" fill-rule=\"nonzero\" fill-opacity=\"1\" /><path clip-path=\"url(#clip180)\" d=\"M104.163 1202.07 L128.275 1202.07 L128.275 1205.27 L104.163 1205.27 L104.163 1202.07 Z\" fill=\"#000000\" fill-rule=\"nonzero\" fill-opacity=\"1\" /><path clip-path=\"url(#clip180)\" d=\"M136.513 1187.66 L151.427 1187.66 L151.427 1190.86 L139.992 1190.86 L139.992 1197.74 Q140.819 1197.46 141.647 1197.33 Q142.475 1197.18 143.302 1197.18 Q148.004 1197.18 150.75 1199.76 Q153.496 1202.33 153.496 1206.73 Q153.496 1211.27 150.675 1213.79 Q147.854 1216.29 142.719 1216.29 Q140.951 1216.29 139.108 1215.99 Q137.284 1215.69 135.328 1215.08 L135.328 1211.27 Q137.02 1212.19 138.826 1212.64 Q140.631 1213.09 142.644 1213.09 Q145.898 1213.09 147.797 1211.38 Q149.697 1209.67 149.697 1206.73 Q149.697 1203.8 147.797 1202.09 Q145.898 1200.38 142.644 1200.38 Q141.12 1200.38 139.597 1200.72 Q138.092 1201.05 136.513 1201.77 L136.513 1187.66 Z\" fill=\"#000000\" fill-rule=\"nonzero\" fill-opacity=\"1\" /><path clip-path=\"url(#clip180)\" d=\"M51.6634 1012.93 L59.3023 1012.93 L59.3023 986.563 L50.9921 988.229 L50.9921 983.97 L59.256 982.303 L63.9319 982.303 L63.9319 1012.93 L71.5707 1012.93 L71.5707 1016.86 L51.6634 1016.86 L51.6634 1012.93 Z\" fill=\"#000000\" fill-rule=\"nonzero\" fill-opacity=\"1\" /><path clip-path=\"url(#clip180)\" d=\"M91.0151 985.382 Q87.404 985.382 85.5753 988.947 Q83.7697 992.489 83.7697 999.618 Q83.7697 1006.72 85.5753 1010.29 Q87.404 1013.83 91.0151 1013.83 Q94.6493 1013.83 96.4548 1010.29 Q98.2835 1006.72 98.2835 999.618 Q98.2835 992.489 96.4548 988.947 Q94.6493 985.382 91.0151 985.382 M91.0151 981.678 Q96.8252 981.678 99.8808 986.285 Q102.959 990.868 102.959 999.618 Q102.959 1008.35 99.8808 1012.95 Q96.8252 1017.53 91.0151 1017.53 Q85.2049 1017.53 82.1262 1012.95 Q79.0707 1008.35 79.0707 999.618 Q79.0707 990.868 82.1262 986.285 Q85.2049 981.678 91.0151 981.678 Z\" fill=\"#000000\" fill-rule=\"nonzero\" fill-opacity=\"1\" /><path clip-path=\"url(#clip180)\" d=\"M102.959 975.78 L127.071 975.78 L127.071 978.977 L102.959 978.977 L102.959 975.78 Z\" fill=\"#000000\" fill-rule=\"nonzero\" fill-opacity=\"1\" /><path clip-path=\"url(#clip180)\" d=\"M145.71 964.683 L136.118 979.673 L145.71 979.673 L145.71 964.683 M144.713 961.373 L149.49 961.373 L149.49 979.673 L153.496 979.673 L153.496 982.833 L149.49 982.833 L149.49 989.453 L145.71 989.453 L145.71 982.833 L133.033 982.833 L133.033 979.165 L144.713 961.373 Z\" fill=\"#000000\" fill-rule=\"nonzero\" fill-opacity=\"1\" /><path clip-path=\"url(#clip180)\" d=\"M52.585 786.638 L60.2238 786.638 L60.2238 760.273 L51.9137 761.939 L51.9137 757.68 L60.1776 756.014 L64.8535 756.014 L64.8535 786.638 L72.4923 786.638 L72.4923 790.574 L52.585 790.574 L52.585 786.638 Z\" fill=\"#000000\" fill-rule=\"nonzero\" fill-opacity=\"1\" /><path clip-path=\"url(#clip180)\" d=\"M91.9366 759.092 Q88.3255 759.092 86.4969 762.657 Q84.6913 766.199 84.6913 773.328 Q84.6913 780.435 86.4969 784 Q88.3255 787.541 91.9366 787.541 Q95.5709 787.541 97.3764 784 Q99.2051 780.435 99.2051 773.328 Q99.2051 766.199 97.3764 762.657 Q95.5709 759.092 91.9366 759.092 M91.9366 755.389 Q97.7468 755.389 100.802 759.995 Q103.881 764.578 103.881 773.328 Q103.881 782.055 100.802 786.662 Q97.7468 791.245 91.9366 791.245 Q86.1265 791.245 83.0478 786.662 Q79.9923 782.055 79.9923 773.328 Q79.9923 764.578 83.0478 759.995 Q86.1265 755.389 91.9366 755.389 Z\" fill=\"#000000\" fill-rule=\"nonzero\" fill-opacity=\"1\" /><path clip-path=\"url(#clip180)\" d=\"M103.881 749.49 L127.993 749.49 L127.993 752.687 L103.881 752.687 L103.881 749.49 Z\" fill=\"#000000\" fill-rule=\"nonzero\" fill-opacity=\"1\" /><path clip-path=\"url(#clip180)\" d=\"M147.703 748.023 Q150.43 748.606 151.954 750.449 Q153.496 752.292 153.496 755.001 Q153.496 759.157 150.637 761.433 Q147.778 763.709 142.512 763.709 Q140.744 763.709 138.863 763.351 Q137.002 763.013 135.008 762.317 L135.008 758.649 Q136.588 759.571 138.469 760.041 Q140.349 760.511 142.399 760.511 Q145.973 760.511 147.835 759.101 Q149.716 757.69 149.716 755.001 Q149.716 752.518 147.966 751.126 Q146.236 749.716 143.133 749.716 L139.86 749.716 L139.86 746.594 L143.283 746.594 Q146.086 746.594 147.571 745.484 Q149.057 744.355 149.057 742.249 Q149.057 740.086 147.515 738.939 Q145.992 737.773 143.133 737.773 Q141.572 737.773 139.785 738.111 Q137.998 738.45 135.854 739.164 L135.854 735.779 Q138.017 735.177 139.898 734.876 Q141.797 734.575 143.471 734.575 Q147.797 734.575 150.317 736.55 Q152.838 738.506 152.838 741.854 Q152.838 744.186 151.502 745.804 Q150.167 747.402 147.703 748.023 Z\" fill=\"#000000\" fill-rule=\"nonzero\" fill-opacity=\"1\" /><path clip-path=\"url(#clip180)\" d=\"M53.3561 560.349 L60.995 560.349 L60.995 533.983 L52.6848 535.65 L52.6848 531.39 L60.9487 529.724 L65.6246 529.724 L65.6246 560.349 L73.2634 560.349 L73.2634 564.284 L53.3561 564.284 L53.3561 560.349 Z\" fill=\"#000000\" fill-rule=\"nonzero\" fill-opacity=\"1\" /><path clip-path=\"url(#clip180)\" d=\"M92.7078 532.802 Q89.0967 532.802 87.268 536.367 Q85.4624 539.909 85.4624 547.038 Q85.4624 554.145 87.268 557.71 Q89.0967 561.251 92.7078 561.251 Q96.342 561.251 98.1475 557.71 Q99.9762 554.145 99.9762 547.038 Q99.9762 539.909 98.1475 536.367 Q96.342 532.802 92.7078 532.802 M92.7078 529.099 Q98.5179 529.099 101.573 533.705 Q104.652 538.288 104.652 547.038 Q104.652 555.765 101.573 560.372 Q98.5179 564.955 92.7078 564.955 Q86.8976 564.955 83.8189 560.372 Q80.7634 555.765 80.7634 547.038 Q80.7634 538.288 83.8189 533.705 Q86.8976 529.099 92.7078 529.099 Z\" fill=\"#000000\" fill-rule=\"nonzero\" fill-opacity=\"1\" /><path clip-path=\"url(#clip180)\" d=\"M104.652 523.2 L128.764 523.2 L128.764 526.397 L104.652 526.397 L104.652 523.2 Z\" fill=\"#000000\" fill-rule=\"nonzero\" fill-opacity=\"1\" /><path clip-path=\"url(#clip180)\" d=\"M140.236 533.676 L153.496 533.676 L153.496 536.873 L135.666 536.873 L135.666 533.676 Q137.829 531.438 141.553 527.676 Q145.296 523.896 146.255 522.805 Q148.079 520.755 148.794 519.344 Q149.527 517.915 149.527 516.542 Q149.527 514.304 147.948 512.893 Q146.387 511.483 143.866 511.483 Q142.08 511.483 140.086 512.103 Q138.111 512.724 135.854 513.984 L135.854 510.147 Q138.149 509.226 140.142 508.756 Q142.136 508.285 143.791 508.285 Q148.155 508.285 150.75 510.467 Q153.345 512.649 153.345 516.298 Q153.345 518.028 152.687 519.589 Q152.048 521.131 150.336 523.238 Q149.866 523.783 147.346 526.397 Q144.826 528.993 140.236 533.676 Z\" fill=\"#000000\" fill-rule=\"nonzero\" fill-opacity=\"1\" /><path clip-path=\"url(#clip180)\" d=\"M53.0552 334.059 L60.694 334.059 L60.694 307.693 L52.3839 309.36 L52.3839 305.1 L60.6477 303.434 L65.3236 303.434 L65.3236 334.059 L72.9625 334.059 L72.9625 337.994 L53.0552 337.994 L53.0552 334.059 Z\" fill=\"#000000\" fill-rule=\"nonzero\" fill-opacity=\"1\" /><path clip-path=\"url(#clip180)\" d=\"M92.4068 306.512 Q88.7957 306.512 86.967 310.077 Q85.1615 313.619 85.1615 320.749 Q85.1615 327.855 86.967 331.42 Q88.7957 334.961 92.4068 334.961 Q96.0411 334.961 97.8466 331.42 Q99.6753 327.855 99.6753 320.749 Q99.6753 313.619 97.8466 310.077 Q96.0411 306.512 92.4068 306.512 M92.4068 302.809 Q98.217 302.809 101.273 307.415 Q104.351 311.999 104.351 320.749 Q104.351 329.475 101.273 334.082 Q98.217 338.665 92.4068 338.665 Q86.5967 338.665 83.518 334.082 Q80.4625 329.475 80.4625 320.749 Q80.4625 311.999 83.518 307.415 Q86.5967 302.809 92.4068 302.809 Z\" fill=\"#000000\" fill-rule=\"nonzero\" fill-opacity=\"1\" /><path clip-path=\"url(#clip180)\" d=\"M104.351 296.91 L128.463 296.91 L128.463 300.107 L104.351 300.107 L104.351 296.91 Z\" fill=\"#000000\" fill-rule=\"nonzero\" fill-opacity=\"1\" /><path clip-path=\"url(#clip180)\" d=\"M137.321 307.386 L143.528 307.386 L143.528 285.964 L136.776 287.318 L136.776 283.858 L143.49 282.503 L147.289 282.503 L147.289 307.386 L153.496 307.386 L153.496 310.583 L137.321 310.583 L137.321 307.386 Z\" fill=\"#000000\" fill-rule=\"nonzero\" fill-opacity=\"1\" /><path clip-path=\"url(#clip180)\" d=\"M82.7903 107.769 L90.4291 107.769 L90.4291 81.4031 L82.119 83.0698 L82.119 78.8105 L90.3828 77.1439 L95.0587 77.1439 L95.0587 107.769 L102.698 107.769 L102.698 111.704 L82.7903 111.704 L82.7903 107.769 Z\" fill=\"#000000\" fill-rule=\"nonzero\" fill-opacity=\"1\" /><path clip-path=\"url(#clip180)\" d=\"M122.142 80.2226 Q118.531 80.2226 116.702 83.7874 Q114.897 87.329 114.897 94.4586 Q114.897 101.565 116.702 105.13 Q118.531 108.671 122.142 108.671 Q125.776 108.671 127.582 105.13 Q129.41 101.565 129.41 94.4586 Q129.41 87.329 127.582 83.7874 Q125.776 80.2226 122.142 80.2226 M122.142 76.5189 Q127.952 76.5189 131.008 81.1253 Q134.086 85.7086 134.086 94.4586 Q134.086 103.185 131.008 107.792 Q127.952 112.375 122.142 112.375 Q116.332 112.375 113.253 107.792 Q110.198 103.185 110.198 94.4586 Q110.198 85.7086 113.253 81.1253 Q116.332 76.5189 122.142 76.5189 Z\" fill=\"#000000\" fill-rule=\"nonzero\" fill-opacity=\"1\" /><path clip-path=\"url(#clip180)\" d=\"M143.791 58.7149 Q140.857 58.7149 139.371 61.6113 Q137.904 64.4889 137.904 70.2817 Q137.904 76.0557 139.371 78.9521 Q140.857 81.8297 143.791 81.8297 Q146.744 81.8297 148.211 78.9521 Q149.697 76.0557 149.697 70.2817 Q149.697 64.4889 148.211 61.6113 Q146.744 58.7149 143.791 58.7149 M143.791 55.7057 Q148.512 55.7057 150.994 59.4484 Q153.496 63.1724 153.496 70.2817 Q153.496 77.3722 150.994 81.115 Q148.512 84.8389 143.791 84.8389 Q139.07 84.8389 136.569 81.115 Q134.086 77.3722 134.086 70.2817 Q134.086 63.1724 136.569 59.4484 Q139.07 55.7057 143.791 55.7057 Z\" fill=\"#000000\" fill-rule=\"nonzero\" fill-opacity=\"1\" /><polyline clip-path=\"url(#clip182)\" style=\"stroke:#009af9; stroke-linecap:round; stroke-linejoin:round; stroke-width:4; stroke-opacity:1; fill:none\" points=\"250.72,349.938 271.335,484.059 291.949,563.358 312.563,619.764 333.177,663.559 353.792,699.36 374.406,729.637 395.02,755.87 415.634,779.011 436.249,799.713 456.863,818.442 477.477,835.54 498.091,851.27 518.706,865.834 539.32,879.393 559.934,892.076 580.548,903.991 601.163,915.224 621.777,925.851 642.391,935.932 663.005,945.521 683.62,954.664 704.234,963.401 724.848,971.765 745.462,979.789 766.077,987.497 786.691,994.915 807.305,1002.06 827.919,1008.96 848.534,1015.62 869.148,1022.07 889.762,1028.31 910.376,1034.36 930.991,1040.22 951.605,1045.92 972.219,1051.46 992.833,1056.84 1013.45,1062.08 1034.06,1067.19 1054.68,1072.17 1075.29,1077.02 1095.9,1081.76 1116.52,1086.38 1137.13,1090.9 1157.75,1095.32 1178.36,1099.64 1198.98,1103.86 1219.59,1108 1240.2,1112.05 1260.82,1116.03 1281.43,1119.92 1302.05,1123.73 1322.66,1127.48 1343.28,1131.15 1363.89,1134.76 1384.5,1138.3 1405.12,1141.78 1425.73,1145.2 1446.35,1148.56 1466.96,1151.86 1487.58,1155.11 1508.19,1158.31 1528.8,1161.45 1549.42,1164.55 1570.03,1167.59 1590.65,1170.59 1611.26,1173.55 1631.88,1176.46 1652.49,1179.33 1673.1,1182.16 1693.72,1184.95 1714.33,1187.7 1734.95,1190.41 1755.56,1193.08 1776.18,1195.72 1796.79,1198.32 1817.4,1200.89 1838.02,1203.43 1858.63,1205.93 1879.25,1208.41 1899.86,1210.85 1920.47,1213.26 1941.09,1215.64 1961.7,1218 1982.32,1220.32 2002.93,1222.62 2023.55,1224.89 2044.16,1227.14 2064.77,1229.36 2085.39,1231.56 2106,1233.73 2126.62,1235.88 2147.23,1238 2167.85,1240.1 2188.46,1242.18 2209.07,1244.24 2229.69,1246.28 2250.3,1248.29 2270.92,1250.29 2291.53,1252.26 \"/>\n",
       "<polyline clip-path=\"url(#clip182)\" style=\"stroke:#e26f46; stroke-linecap:round; stroke-linejoin:round; stroke-width:4; stroke-opacity:1; fill:none\" points=\"250.72,87.9763 271.335,292.336 291.949,411.879 312.563,496.697 333.177,562.486 353.792,616.24 374.406,661.688 395.02,701.057 415.634,735.783 436.249,766.846 456.863,794.946 477.477,820.6 498.091,844.199 518.706,866.048 539.32,886.389 559.934,905.417 580.548,923.291 601.163,940.143 621.777,956.083 642.391,971.206 663.005,985.591 683.62,999.306 704.234,1012.41 724.848,1024.96 745.462,1037 766.077,1048.56 786.691,1059.69 807.305,1070.41 827.919,1080.75 848.534,1090.75 869.148,1100.42 889.762,1109.78 910.376,1118.85 930.991,1127.65 951.605,1136.2 972.219,1144.5 992.833,1152.58 1013.45,1160.44 1034.06,1168.1 1054.68,1175.57 1075.29,1182.85 1095.9,1189.95 1116.52,1196.89 1137.13,1203.67 1157.75,1210.29 1178.36,1216.77 1198.98,1223.11 1219.59,1229.32 1240.2,1235.4 1260.82,1241.36 1281.43,1247.19 1302.05,1252.92 1322.66,1258.53 1343.28,1264.05 1363.89,1269.46 1384.5,1274.77 1405.12,1279.99 1425.73,1285.11 1446.35,1290.15 1466.96,1295.11 1487.58,1299.98 1508.19,1304.78 1528.8,1309.49 1549.42,1314.14 1570.03,1318.71 1590.65,1323.21 1611.26,1327.64 1631.88,1332.01 1652.49,1336.32 1673.1,1340.56 1693.72,1344.74 1714.33,1348.86 1734.95,1352.93 1755.56,1356.94 1776.18,1360.9 1796.79,1364.8 1817.4,1368.66 1838.02,1372.46 1858.63,1376.22 1879.25,1379.93 1899.86,1383.59 1920.47,1387.21 1941.09,1390.78 1961.7,1394.31 1982.32,1397.8 2002.93,1401.25 2023.55,1404.66 2044.16,1408.03 2064.77,1411.36 2085.39,1414.65 2106,1417.91 2126.62,1421.13 2147.23,1424.32 2167.85,1427.47 2188.46,1430.59 2209.07,1433.68 2229.69,1436.74 2250.3,1439.76 2270.92,1442.75 2291.53,1445.72 \"/>\n",
       "<path clip-path=\"url(#clip180)\" d=\"M2011.89 250.738 L2280.65 250.738 L2280.65 95.2176 L2011.89 95.2176  Z\" fill=\"#ffffff\" fill-rule=\"evenodd\" fill-opacity=\"1\"/>\n",
       "<polyline clip-path=\"url(#clip180)\" style=\"stroke:#000000; stroke-linecap:round; stroke-linejoin:round; stroke-width:4; stroke-opacity:1; fill:none\" points=\"2011.89,250.738 2280.65,250.738 2280.65,95.2176 2011.89,95.2176 2011.89,250.738 \"/>\n",
       "<polyline clip-path=\"url(#clip180)\" style=\"stroke:#009af9; stroke-linecap:round; stroke-linejoin:round; stroke-width:4; stroke-opacity:1; fill:none\" points=\"2035.93,147.058 2180.14,147.058 \"/>\n",
       "<path clip-path=\"url(#clip180)\" d=\"M2218.02 166.745 Q2216.22 171.375 2214.5 172.787 Q2212.79 174.199 2209.92 174.199 L2206.52 174.199 L2206.52 170.634 L2209.02 170.634 Q2210.78 170.634 2211.75 169.8 Q2212.72 168.967 2213.9 165.865 L2214.67 163.921 L2204.18 138.412 L2208.69 138.412 L2216.8 158.689 L2224.9 138.412 L2229.41 138.412 L2218.02 166.745 Z\" fill=\"#000000\" fill-rule=\"nonzero\" fill-opacity=\"1\" /><path clip-path=\"url(#clip180)\" d=\"M2236.7 160.402 L2244.34 160.402 L2244.34 134.037 L2236.03 135.703 L2236.03 131.444 L2244.3 129.778 L2248.97 129.778 L2248.97 160.402 L2256.61 160.402 L2256.61 164.338 L2236.7 164.338 L2236.7 160.402 Z\" fill=\"#000000\" fill-rule=\"nonzero\" fill-opacity=\"1\" /><polyline clip-path=\"url(#clip180)\" style=\"stroke:#e26f46; stroke-linecap:round; stroke-linejoin:round; stroke-width:4; stroke-opacity:1; fill:none\" points=\"2035.93,198.898 2180.14,198.898 \"/>\n",
       "<path clip-path=\"url(#clip180)\" d=\"M2218.02 218.585 Q2216.22 223.215 2214.5 224.627 Q2212.79 226.039 2209.92 226.039 L2206.52 226.039 L2206.52 222.474 L2209.02 222.474 Q2210.78 222.474 2211.75 221.64 Q2212.72 220.807 2213.9 217.705 L2214.67 215.761 L2204.18 190.252 L2208.69 190.252 L2216.8 210.529 L2224.9 190.252 L2229.41 190.252 L2218.02 218.585 Z\" fill=\"#000000\" fill-rule=\"nonzero\" fill-opacity=\"1\" /><path clip-path=\"url(#clip180)\" d=\"M2239.92 212.242 L2256.24 212.242 L2256.24 216.178 L2234.3 216.178 L2234.3 212.242 Q2236.96 209.488 2241.54 204.858 Q2246.15 200.205 2247.33 198.863 Q2249.57 196.34 2250.45 194.604 Q2251.36 192.844 2251.36 191.155 Q2251.36 188.4 2249.41 186.664 Q2247.49 184.928 2244.39 184.928 Q2242.19 184.928 2239.74 185.692 Q2237.31 186.455 2234.53 188.006 L2234.53 183.284 Q2237.35 182.15 2239.81 181.571 Q2242.26 180.993 2244.3 180.993 Q2249.67 180.993 2252.86 183.678 Q2256.06 186.363 2256.06 190.854 Q2256.06 192.983 2255.25 194.905 Q2254.46 196.803 2252.35 199.395 Q2251.77 200.067 2248.67 203.284 Q2245.57 206.479 2239.92 212.242 Z\" fill=\"#000000\" fill-rule=\"nonzero\" fill-opacity=\"1\" /></svg>\n"
      ]
     },
     "execution_count": 31,
     "metadata": {},
     "output_type": "execute_result"
    }
   ],
   "source": [
    "function midpointrule(f, n)\n",
    "    # TODO: implement the mid-point rule\n",
    "    ret = 0.0\n",
    "    for k = 1:n\n",
    "        ret += f((k-1/2)/n)\n",
    "    end\n",
    "    ret/n\n",
    "        \n",
    "\n",
    "end\n",
    "\n",
    "@test midpointrule(exp, 5000) ≈ (exp(1)-1)\n",
    "\n",
    "# TODO: Replace 0 below to set λ to what you conjecture that the convergence rate O(n^(-λ)) is.\n",
    "# Include any experiments/comments to justify your conjecture.\n",
    "λ =3\n",
    "using Plots\n",
    "plot(1:100,[abs(midpointrule(exp, n) - (exp(1)-1)) for n in 1:100] ; yscale=:log10)\n",
    "plot!(1:100, [n^-3 for n in 1:100])"
   ]
  },
  {
   "cell_type": "markdown",
   "metadata": {},
   "source": [
    "**Problem 2 (B)** Derive a third-order divided difference formula by combining a first-order and second-order divided difference, that\n",
    "evaluates at the points $f(x+2h), f(x+h), f(x),$ and $f(x-h)$.\n",
    "Implement this formula in the following function:"
   ]
  },
  {
   "cell_type": "code",
   "execution_count": 33,
   "metadata": {},
   "outputs": [
    {
     "data": {
      "text/plain": [
       "\u001b[32m\u001b[1mTest Passed\u001b[22m\u001b[39m"
      ]
     },
     "execution_count": 33,
     "metadata": {},
     "output_type": "execute_result"
    }
   ],
   "source": [
    "function thirdorderdivideddifference(f, x, h)\n",
    "    # TODO: approximate f'''(x) by deriving a third-order divided difference formula\n",
    "    1/h^3 *(f(x+2h) -3f(x+h) +3f(x) -f(x-h))\n",
    "\n",
    "end\n",
    "\n",
    "# We test with BigFloat as the round-off errors in third-order divided differences are too large to get accurate digits:\n",
    "@test thirdorderdivideddifference(x -> cos(x^2), big(1.0), big(0.0000001)) ≈ -12cos(1) + 8sin(1) atol=1E-5"
   ]
  },
  {
   "cell_type": "markdown",
   "metadata": {},
   "source": [
    "**Problem 3 (C)** Add support for `tan` and `acos` (which implements $\\arccos(x)$)  with duals. You may use the provided `cos` and `sin`\n",
    "implementations. Hint: recall that $\\arccos'(x) = -1/\\sqrt{1-x^2}$."
   ]
  },
  {
   "cell_type": "code",
   "execution_count": 35,
   "metadata": {},
   "outputs": [
    {
     "data": {
      "text/plain": [
       "\u001b[32m\u001b[1mTest Passed\u001b[22m\u001b[39m"
      ]
     },
     "execution_count": 35,
     "metadata": {},
     "output_type": "execute_result"
    }
   ],
   "source": [
    "struct Dual\n",
    "    a\n",
    "    b\n",
    "end\n",
    "\n",
    "import Base: tan, acos, cos, sin, /\n",
    "\n",
    "\n",
    "cos(x::Dual) = Dual(cos(x.a), -sin(x.a) * x.b)\n",
    "sin(x::Dual) = Dual(sin(x.a), cos(x.a) * x.b)\n",
    "function /(x::Dual, y::Dual)\n",
    "    if iszero(y.a)\n",
    "        error(\"Division for dual numbers is ill-defined when denonimator real part is zero.\")\n",
    "    end\n",
    "    return Dual(x.a / y.a, (y.a * x.b - x.a * y.b) / y.a^2)\n",
    "end\n",
    "\n",
    "function tan(x::Dual)\n",
    "    # TODO: implement tan for dual numbers\n",
    "    sin(x)/cos(x)\n",
    "\n",
    "end\n",
    "\n",
    "function acos(x::Dual)\n",
    "    # TODO: implement acos, i.e. arccos, for dual numbers\n",
    "    real = acos(x.a)\n",
    "    dual = -x.b/sqrt(1-(x.a)^2)\n",
    "    Dual(real, dual)\n",
    "end\n",
    "\n",
    "@test (tan(acos(Dual(0.1,1)))/cos(Dual(0.1,1))).a ≈ tan(acos(0.1))/cos(0.1)\n",
    "@test (tan(acos(Dual(0.1,1)))/cos(Dual(0.1,1))).b ≈ -((sec(0.1)*(1 + 0.1*(0.1^2-1)*tan(0.1)))/(0.1^2*sqrt(1 - 0.1^2)))"
   ]
  },
  {
   "cell_type": "markdown",
   "metadata": {},
   "source": [
    "**Problem 4 (C)** A `Float16` represents a number of the form $2^{q-15} (1.b_1…b_{10})_2$.\n",
    " Create a function that returns the exponent $q$ of a `Float16` as an `UInt8`. Do not use the\n",
    "built-in `exponent` function. Hint: combine `bitstring` and `parse`."
   ]
  },
  {
   "cell_type": "code",
   "execution_count": 37,
   "metadata": {},
   "outputs": [
    {
     "data": {
      "text/plain": [
       "\u001b[32m\u001b[1mTest Passed\u001b[22m\u001b[39m"
      ]
     },
     "execution_count": 37,
     "metadata": {},
     "output_type": "execute_result"
    }
   ],
   "source": [
    "function floatexponent(x::Float16)\n",
    "    # TODO: return the exponent of x\n",
    "    str = bitstring(x)\n",
    "    expo = str[2:6]\n",
    "    parse(UInt8, expo; base = 2)\n",
    "\n",
    "end\n",
    "\n",
    "\n",
    "@test floatexponent(Float16(0.0123)) isa UInt8\n",
    "@test floatexponent(Float16(0.0123)) == 8"
   ]
  },
  {
   "cell_type": "markdown",
   "metadata": {},
   "source": [
    "**Problem 5.1 (C)** Complete the implementation of a function `cos_t(x,n)` computing the\n",
    "first `2n` terms of the Taylor series:\n",
    "$$\n",
    "\\cos\\ x ≈ ∑_{k=0}^n {(-1)^k x^{2k} \\over (2k)!}\n",
    "$$"
   ]
  },
  {
   "cell_type": "code",
   "execution_count": 41,
   "metadata": {},
   "outputs": [
    {
     "data": {
      "text/plain": [
       "\u001b[32m\u001b[1mTest Passed\u001b[22m\u001b[39m"
      ]
     },
     "execution_count": 41,
     "metadata": {},
     "output_type": "execute_result"
    }
   ],
   "source": [
    "function cos_t(x, n)\n",
    "    ret = x^2\n",
    "    s = x^2\n",
    "    # TODO: Compute the first 2n terms of the Taylor series of cos,\n",
    "    # without using the factorial function.\n",
    "    for k = 1:n\n",
    "        s = -s/((2k-1)*(2k)) * x^2\n",
    "        ret = ret + s\n",
    "    end\n",
    "    # END\n",
    "    ret\n",
    "end\n",
    "\n",
    "\n",
    "\n",
    "@test cos_t(1.0, 10) ≈ cos(1)"
   ]
  },
  {
   "cell_type": "markdown",
   "metadata": {},
   "source": [
    "**Problem 5.2 (B)**  Complete the implementation of a function `cos_bound(x,n)` that\n",
    "includes an error bound on the computation. You may assume $0 ≤ x ≤ 1$."
   ]
  },
  {
   "cell_type": "code",
   "execution_count": 43,
   "metadata": {},
   "outputs": [
    {
     "data": {
      "text/plain": [
       "\u001b[32m\u001b[1mTest Passed\u001b[22m\u001b[39m"
      ]
     },
     "execution_count": 43,
     "metadata": {},
     "output_type": "execute_result"
    }
   ],
   "source": [
    "struct Interval # represents the set [a,b]\n",
    "    a # left endpoint\n",
    "    b # right endpoint\n",
    "end\n",
    "\n",
    "Interval(x) = Interval(x,x) # Support Interval(1) to represent [1,1]\n",
    "\n",
    "import Base: *, +, -, ^, /, one, in\n",
    "\n",
    "in(x, X::Interval) = X.a ≤ x ≤ X.b\n",
    "one(X::Interval) = Interval(one(X.a), one(X.b))\n",
    "function +(X::Interval, Y::Interval)\n",
    "    a,b,c,d = promote(X.a, X.b, Y.a, Y.b) # make sure all are the same type\n",
    "    T = typeof(a)\n",
    "    α = setrounding(T, RoundDown) do\n",
    "        a + c\n",
    "    end\n",
    "    β = setrounding(T, RoundUp) do\n",
    "        b + d\n",
    "    end\n",
    "    Interval(α, β)\n",
    "end\n",
    "function -(X::Interval)\n",
    "    a,b = promote(X.a, X.b)\n",
    "    Interval(-b, -a)\n",
    "end\n",
    "function /(X::Interval, n::Int)\n",
    "    a,b = promote(X.a, X.b)\n",
    "    T = eltype(a)\n",
    "    if n == 0\n",
    "        error(\"Dividing by zero not support\")\n",
    "    end\n",
    "    α = setrounding(T, RoundDown) do\n",
    "        n > 0 ? a / n : b / n\n",
    "    end\n",
    "    β = setrounding(T, RoundUp) do\n",
    "        n > 0 ? b / n : a / n\n",
    "    end\n",
    "    Interval(α, β)\n",
    "end\n",
    "function *(X::Interval, Y::Interval)\n",
    "    a,b,c,d = promote(X.a, X.b, Y.a, Y.b)\n",
    "    T = typeof(a)\n",
    "    if !(a ≤ b && c ≤ d)\n",
    "        error(\"Empty intervals not supported.\")\n",
    "    end\n",
    "    α = setrounding(T, RoundDown) do\n",
    "        min(a*c,a*d,b*c,b*d)\n",
    "    end\n",
    "    β = setrounding(T, RoundUp) do\n",
    "        max(a*c,a*d,b*c,b*d)\n",
    "    end\n",
    "    Interval(α, β)\n",
    "end\n",
    "function ^(X::Interval, k::Int)\n",
    "    if k ≤ 0\n",
    "        error(\"not supported\")\n",
    "    elseif k == 1\n",
    "        X\n",
    "    else\n",
    "        X * X^(k-1)\n",
    "    end\n",
    "end\n",
    "\n",
    "\n",
    "function cos_bound(X::Interval, n)\n",
    "    a,b = promote(X.a, X.b)\n",
    "    T = typeof(a)\n",
    "    if !(0 ≤ a ≤ b ≤ 1)\n",
    "        error(\"Interval must be a subset of [0, 1]\")\n",
    "    end\n",
    "    # TODO: complete the implementation of cosine applied to an interval,\n",
    "    # including the error in truncating the Taylor series.\n",
    "    ret = cos_t(X, n) # the code for Taylor series should work on Interval unmodified\n",
    "    # avoid overflow in computing factorial by using `big`.\n",
    "    # Convert to type `T` to support rounding.\n",
    "    f = T(factorial(big(2n + 2)),RoundDown)\n",
    "\n",
    "    err = setrounding(T, RoundUp) do\n",
    "        T(1) / f # need to convert 3 to the right type to set the rounding\n",
    "    end\n",
    "    ret + Interval(-err,err)\n",
    "    # END\n",
    "\n",
    "end\n",
    "\n",
    "@test cos(big(1)) in cos_bound(Interval(1.0), 10)\n",
    "@test cos_bound(Interval(1.0), 10).b - cos_bound(Interval(1.0), 10).a ≤ 1E-14"
   ]
  },
  {
   "cell_type": "markdown",
   "metadata": {},
   "source": [
    "**Problem 6 (B)** Complete the implementation of `LowerTridiagonal` which represents an $n × n$ banded matrix with\n",
    "bandwidths $(l,u) = (2,0)$ by storing only its diagonal, sub-diagonal, and second-sub-diagonal as vectors.\n",
    "Overload `setindex!`, as well as `\\` to solve a lower tridiagonal system in $O(n)$ operations. For simplicity you may assume all numbers are `Float64`."
   ]
  },
  {
   "cell_type": "code",
   "execution_count": 59,
   "metadata": {},
   "outputs": [
    {
     "data": {
      "text/plain": [
       "\u001b[32m\u001b[1mTest Passed\u001b[22m\u001b[39m"
      ]
     },
     "execution_count": 59,
     "metadata": {},
     "output_type": "execute_result"
    }
   ],
   "source": [
    "import Base: getindex, setindex!, size, \\\n",
    "\n",
    "struct LowerTridiagonal <: AbstractMatrix{Float64}\n",
    "    d::Vector{Float64}   # diagonal entries of length n\n",
    "    dl::Vector{Float64}  # sub-diagonal entries of length n-1\n",
    "    dl2::Vector{Float64} # second-sub-diagonal entries of length n-2\n",
    "end\n",
    "\n",
    "size(L::LowerTridiagonal) = (length(L.d),length(L.d))\n",
    "\n",
    "# implements L[k,j]\n",
    "function getindex(L::LowerTridiagonal, k::Int, j::Int)\n",
    "    d, dl, dl2 = L.d, L.dl, L.dl2\n",
    "    if k == j\n",
    "        d[k]\n",
    "    elseif k == j+1\n",
    "        dl[j]\n",
    "    elseif k == j+2\n",
    "        dl2[j]\n",
    "    else\n",
    "        0.0\n",
    "    end\n",
    "end\n",
    "\n",
    "# implements L[k,j] = v\n",
    "function setindex!(L::LowerTridiagonal, v, k::Int, j::Int)\n",
    "    d, dl, dl2 = L.d, L.dl, L.dl2\n",
    "    if j > k || j < k-2\n",
    "        error(\"Cannot modify off-band\")\n",
    "    end\n",
    "    # TODO: set L[k,j] to be equal to v\n",
    "    if k == j\n",
    "        d[k] = v\n",
    "    elseif k == j+1\n",
    "        dl[j] = v\n",
    "    elseif k == j+2\n",
    "        dl2[j] = v\n",
    "    end\n",
    "\n",
    "end\n",
    "\n",
    "function \\(L::LowerTridiagonal, b::AbstractVector)\n",
    "    m,n = size(L) # we know m == n\n",
    "    if n ≠ length(b)\n",
    "        error(\"Dimensions do not match\")\n",
    "    end\n",
    "    if n < 1\n",
    "        error(\"Empty vectors not supported\")\n",
    "    end\n",
    "    x = zeros(n) # Vector to be populated\n",
    "    # TODO: Populate the vector x so that L*x ≈ b, using O(n) operations.\n",
    "    x[1] = b[1]/L[1,1]\n",
    "    x[2] = (b[2] - L[2, 1]*x[1])/L[2,2]\n",
    "    for i = 3:n\n",
    "        x[i] = (b[i] - L[i, i-1]*x[i-1] - L[i, i-2]*x[i-2])/L[i,i]\n",
    "    end\n",
    "    x\n",
    "end\n",
    "\n",
    "n = 10\n",
    "d, dl, dl2 = randn(n), randn(n-1), randn(n-2)\n",
    "L = LowerTridiagonal(d, dl, dl2)\n",
    "@test L == diagm(0 => d, -1 => dl, -2 => dl2)\n",
    "\n",
    "L[3,2] = 4\n",
    "@test L[3,2] == 4\n",
    "\n",
    "b = randn(n)\n",
    "@test L\\b ≈ Matrix(L)\\b"
   ]
  },
  {
   "cell_type": "markdown",
   "metadata": {},
   "source": [
    "**Problem 7 (A)**  Consider the second-order initial value problem\n",
    "$$\n",
    "u(0) = 1, u'(0) = 0, u''(x) = x u(x)\n",
    "$$\n",
    "for $x ∈ [0,1]$. Recast this problem as a linear system involving a `LowerTridiagonal` matrix (as defined in Problem 6)\n",
    "using a finite-difference approximation on the evenly grid $x_0,x_1,…,x_n$\n",
    "where $x_k = k/n$ using the right-sided divided difference to approximate\n",
    "$$\n",
    "u'(0) ≈ {u(h) - u(0) \\over h}\n",
    "$$\n",
    "and the second-order divided difference approximation\n",
    "$$\n",
    "u''(x) ≈ {u(x+h) - 2u(x) + u(x-h) \\over h^2}\n",
    "$$\n",
    "imposed at the grid points $x_1,…,x_{n-1}$."
   ]
  },
  {
   "cell_type": "code",
   "execution_count": null,
   "metadata": {},
   "outputs": [],
   "source": [
    "function secondorderairysystem(n)\n",
    "    # TODO: return a LowerTridiagonal matrix representing the differential operator u'' - x*u,\n",
    "    # with the first two rows representing the initial conditions u(0) and u'(0)\n",
    "\n",
    "end\n",
    "\n",
    "function secondorderairyrhs(n)\n",
    "    # TODO: return the right-hand side corresponding to the above system.\n",
    "\n",
    "end\n",
    "\n",
    "n = 1000\n",
    "@test secondorderairysystem(n) isa LowerTridiagonal\n",
    "u = secondorderairysystem(n) \\ secondorderairyrhs(n)\n",
    "@test u[end] ≈ 1.1722999700579313 atol=1E-5"
   ]
  },
  {
   "cell_type": "markdown",
   "metadata": {},
   "source": [
    "**Problem 8.1 (B)** Implement the following function that given a real vector $𝐱$ will return a 2 × 2 rotation matrix such that\n",
    "$$\n",
    "Q 𝐱 = \\| 𝐱 \\| 𝐞_2.\n",
    "$$\n",
    "You may assume all numbers are `Float64`."
   ]
  },
  {
   "cell_type": "code",
   "execution_count": 63,
   "metadata": {},
   "outputs": [
    {
     "data": {
      "text/plain": [
       "\u001b[32m\u001b[1mTest Passed\u001b[22m\u001b[39m"
      ]
     },
     "execution_count": 63,
     "metadata": {},
     "output_type": "execute_result"
    }
   ],
   "source": [
    "function rotatedown(x)\n",
    "    if length(x) ≠ 2\n",
    "        error(\"Length must be 2\")\n",
    "    end\n",
    "    # TODO: Create a 2 × 2 rotation matrix Q such that Q*x = [0,norm(x)].\n",
    "    a = x[1]\n",
    "    b = x[2]\n",
    "    M = 1/norm(x) * [b -a;\n",
    "                    a b]\n",
    "\n",
    "end\n",
    "\n",
    "x = randn(2)\n",
    "Q = rotatedown(x)\n",
    "@test Q'Q ≈ I\n",
    "@test det(Q) ≈ 1\n",
    "@test Q*x ≈ [0,norm(x)]"
   ]
  },
  {
   "cell_type": "markdown",
   "metadata": {},
   "source": [
    "**Problem 8.2 (A)** Implement a QL factorisation for a tridiagonal matrix, returning an orthogonal matrix `Q`\n",
    "and `L`  represented as a `LowerTridiagonal` matrix, as defined in Problem 6. You may assume all numbers are `Float64`. Hint: unlike the `bandedqr` implemented in the labs, `Q` may be stored as\n",
    "as a dense matrix. Because of this your solution will likely take $O(n^2)$ operations."
   ]
  },
  {
   "cell_type": "code",
   "execution_count": null,
   "metadata": {},
   "outputs": [],
   "source": [
    "function bandedql(A::Tridiagonal)\n",
    "    n = size(A, 1)\n",
    "    Q = Matrix(1.0I, n, n) # create an n × n identity matrix\n",
    "    L = LowerTridiagonal(zeros(n), zeros(n - 1), zeros(n - 2))\n",
    "\n",
    "    # TODO: Populate Q and L so that Q*L ≈ A in at most O(n^2) operations.\n",
    "\n",
    "\n",
    "    Q, L\n",
    "end\n",
    "\n",
    "n = 100\n",
    "A = Tridiagonal(randn(n-1), randn(n), randn(n-1))\n",
    "Q,L = bandedql(A)\n",
    "\n",
    "@test Q'*Q ≈ I\n",
    "@test L isa LowerTridiagonal\n",
    "@test Q*L ≈ A"
   ]
  },
  {
   "cell_type": "markdown",
   "metadata": {},
   "source": [
    "---\n",
    "\n",
    "*This notebook was generated using [Literate.jl](https://github.com/fredrikekre/Literate.jl).*"
   ]
  }
 ],
 "metadata": {
  "kernelspec": {
   "display_name": "Julia 1.11.2",
   "language": "julia",
   "name": "julia-1.11"
  },
  "language_info": {
   "file_extension": ".jl",
   "mimetype": "application/julia",
   "name": "julia",
   "version": "1.11.2"
  }
 },
 "nbformat": 4,
 "nbformat_minor": 4
}
