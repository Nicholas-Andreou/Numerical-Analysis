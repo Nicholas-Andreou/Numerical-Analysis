{
 "cells": [
  {
   "cell_type": "markdown",
   "metadata": {},
   "source": [
    "# MATH50003 (2024–25)\n",
    "# Lab 2: I.3 Dual Numbers and I.4 Newton's Method"
   ]
  },
  {
   "cell_type": "markdown",
   "metadata": {},
   "source": [
    "In this lab we explore an alternative approach to computing derivatives:\n",
    "using _dual numbers_. This is a special mathematical object akin to complex numbers\n",
    "that allows us to compute derivatives to very high accuracy in an automated fashion.\n",
    "This is a basic example of [automatic differentiation](https://en.wikipedia.org/wiki/Automatic_differentiation)\n",
    "that is extremely important in Machine Learning and other computational applications.\n",
    "To realise dual numbers on a computer we need to introduce the notation of a \"type\"\n",
    "and create a customised type to represent dual numbers, which is what we discuss first.\n",
    "As an application of computing derivatives we consider root finding via [Newton's method](https://en.wikipedia.org/wiki/Newton%27s_method)."
   ]
  },
  {
   "cell_type": "markdown",
   "metadata": {},
   "source": [
    "**Learning Outcomes**\n",
    "\n",
    "Mathematical knowledge:\n",
    "\n",
    "1. Definition of dual numbers and functions applied dual numbers.\n",
    "3. Newton's method for root finding.\n",
    "\n",
    "Coding knowledge:\n",
    "\n",
    "1. The notion of a type and how to make your own type.\n",
    "2. Defining functions whose arguments are restricted to specific types.\n",
    "3. Overloading functions like `+`, `*`, and `exp` for a custom type."
   ]
  },
  {
   "cell_type": "markdown",
   "metadata": {},
   "source": [
    "We load the `Test` and `Plots` packages to be used below.\n",
    "We also define the function `nanabs` which is useful for logarithmically scaled\n",
    "plots. For brevity we use a shorthand `cond ? expr1 : expr2` which just means\n",
    "```julia\n",
    "if cond\n",
    "    expr1\n",
    "else\n",
    "    expr2\n",
    "end\n",
    "```"
   ]
  },
  {
   "cell_type": "code",
   "execution_count": 3,
   "metadata": {},
   "outputs": [
    {
     "data": {
      "text/plain": [
       "nanabs (generic function with 1 method)"
      ]
     },
     "execution_count": 3,
     "metadata": {},
     "output_type": "execute_result"
    }
   ],
   "source": [
    "using Plots, Test\n",
    "nanabs(x) = x == 0 ? NaN : abs(x)"
   ]
  },
  {
   "cell_type": "markdown",
   "metadata": {},
   "source": [
    "## Types in Julia"
   ]
  },
  {
   "cell_type": "markdown",
   "metadata": {},
   "source": [
    "Before we can use a concept like dual numbers we have to understand the notion of a \"type\".\n",
    "In compiled languages like Julia everything has a \"type\". The function `typeof` can be used to determine the type of,\n",
    "for example, a number.\n",
    "By default when we write an integer (e.g. `-123`) it is of type `Int`:"
   ]
  },
  {
   "cell_type": "code",
   "execution_count": null,
   "metadata": {},
   "outputs": [],
   "source": [
    "typeof(5)"
   ]
  },
  {
   "cell_type": "markdown",
   "metadata": {},
   "source": [
    "On a 64-bit machine this will print `Int64`, where the `64` indicates it is using precisely 64 bits\n",
    "to represent the number (a topic we will come back to in Part II). If we write something with\n",
    "a decimal point it represents a \"real\" number, whose storage is of type `Float64`:"
   ]
  },
  {
   "cell_type": "code",
   "execution_count": null,
   "metadata": {},
   "outputs": [],
   "source": [
    "typeof(5.3)"
   ]
  },
  {
   "cell_type": "markdown",
   "metadata": {},
   "source": [
    "This is called a \"floating point\" number, and again the `64` indicates it is using precisely\n",
    "64 bits to represent this number. (We will see this is why computations like divided differences\n",
    "have large errors: because we are limiting the number of \"digits\" to represent numbers we need to\n",
    "round our computations.) Note that some operations involving `Int`s return `Float64`s:"
   ]
  },
  {
   "cell_type": "code",
   "execution_count": null,
   "metadata": {},
   "outputs": [],
   "source": [
    "1/5 # 1 and 5 are Int but output is a Float64"
   ]
  },
  {
   "cell_type": "markdown",
   "metadata": {},
   "source": [
    "It is possible to have functions behave differently depending on the input type.\n",
    "To do so we can add a restriction denoted `::Int` or `::Float64` to the function \"signature\".\n",
    "Here we create a function `foo` that is equal to `1` if the input is an `Int`, `0` if the input is\n",
    "a `Float64`, and `-1` otherwise:"
   ]
  },
  {
   "cell_type": "code",
   "execution_count": 7,
   "metadata": {},
   "outputs": [
    {
     "data": {
      "text/plain": [
       "(1, 0, -1, 0)"
      ]
     },
     "execution_count": 7,
     "metadata": {},
     "output_type": "execute_result"
    }
   ],
   "source": [
    "foo(x::Int) = 1 # The ::Int means this version is called when the input is an Int\n",
    "foo(x::Float64) = 0\n",
    "foo(x) = -1 # This is equivalent to f(x::Any) = -1\n",
    "# Anything that is not an Int or Float64 will call this\n",
    "\n",
    "foo(3), foo(2.5), foo(\"hi\"), foo(3.0)"
   ]
  },
  {
   "cell_type": "markdown",
   "metadata": {},
   "source": [
    "The last line returns a list of `Int`s, which has the type `Tuple`.\n",
    "Note that there is a difference between the set concept of integer and the type `Int`: whilst `3.0` is an integer\n",
    "its type is `Float64` so `foo(3.0) == 0`."
   ]
  },
  {
   "cell_type": "markdown",
   "metadata": {},
   "source": [
    "**Remark** Every type has a \"supertype\", which is an \"abstract type\": something you can't make an instance of it.\n",
    "For example, in the same way that \"integers\"\n",
    "are subsets of the \"reals\" we have that `Int` and `Float64` are subtypes of\n",
    "`Real`. Which is a subtype of `Number`. Which, as is everything, a subtype of `Any`."
   ]
  },
  {
   "cell_type": "markdown",
   "metadata": {},
   "source": [
    "Types allow for combining multiple numbers (or instances of other types) to represent a more complicated\n",
    "object. A simple example of this is a complex number,\n",
    "which stores two real numbers $x$ and $y$ (either `Int` or `Float64` or indeed other real number types not yet discussed)\n",
    "to represent the complex number $x + {\\rm i} y$. In Julia ${\\rm i} = \\sqrt{-1}$ is denoted `im` and\n",
    "hence we can create a complex number like $1+2{\\rm i}$ as follows:"
   ]
  },
  {
   "cell_type": "code",
   "execution_count": null,
   "metadata": {},
   "outputs": [],
   "source": [
    "z = 1 + 2im"
   ]
  },
  {
   "cell_type": "markdown",
   "metadata": {},
   "source": [
    "This complex number has two \"fields\": the real and imaginary part. Accessing the fields is done\n",
    "using a `.`, here we display the real and imaginary parts as a `Tuple`:"
   ]
  },
  {
   "cell_type": "code",
   "execution_count": null,
   "metadata": {},
   "outputs": [],
   "source": [
    "z.re, z.im"
   ]
  },
  {
   "cell_type": "markdown",
   "metadata": {},
   "source": [
    "When we ask  its type we see it is a `Complex{Int}`:"
   ]
  },
  {
   "cell_type": "code",
   "execution_count": null,
   "metadata": {},
   "outputs": [],
   "source": [
    "typeof(z)"
   ]
  },
  {
   "cell_type": "markdown",
   "metadata": {},
   "source": [
    "The `{Int}` indicates that each of the fields is an `Int`.\n",
    "Note we can add, subtract, multiply, or apply functions like `exp` to complex numbers:"
   ]
  },
  {
   "cell_type": "code",
   "execution_count": null,
   "metadata": {},
   "outputs": [],
   "source": [
    "exp(2z^2 + 3im)"
   ]
  },
  {
   "cell_type": "markdown",
   "metadata": {},
   "source": [
    "-----\n",
    "**Problem 1(a)** Use `typeof` to determine the type of `1.2 + 2.3im`."
   ]
  },
  {
   "cell_type": "code",
   "execution_count": null,
   "metadata": {},
   "outputs": [],
   "source": [
    "# TODO: What is the type of 1.2 + 2.3im?"
   ]
  },
  {
   "cell_type": "markdown",
   "metadata": {},
   "source": [
    "**Problem 1(b)** Add another implementation of `foo` that returns `im` if the input\n",
    "is a `ComplexF64`."
   ]
  },
  {
   "cell_type": "code",
   "execution_count": 9,
   "metadata": {},
   "outputs": [
    {
     "data": {
      "text/plain": [
       "\u001b[32m\u001b[1mTest Passed\u001b[22m\u001b[39m"
      ]
     },
     "execution_count": 9,
     "metadata": {},
     "output_type": "execute_result"
    }
   ],
   "source": [
    "# TODO: Overload foo for when the input is a ComplexF64 and return im\n",
    "foo(x::ComplexF64) = im\n",
    "\n",
    "@test foo(1.1 + 2im) == im"
   ]
  },
  {
   "cell_type": "markdown",
   "metadata": {},
   "source": [
    "------"
   ]
  },
  {
   "cell_type": "markdown",
   "metadata": {},
   "source": [
    "**Problem 2(a)** Consider the Taylor series approximation to the exponential:\n",
    "$$\n",
    "\\exp z ≈ ∑_{k=0}^n {z^k \\over k!}\n",
    "$$\n",
    "Complete the function `exp_t(z, n)` that computes this and returns a\n",
    "`Complex{Float64}` if the input is complex and a `Float64` if the input is real.\n",
    "Do not use the inbuilt `factorial` function.\n",
    "Hint: It might help to think inductively: for $s_k = z^k/k!$ we have\n",
    "$$\n",
    "  s_{k+1}  = {z \\over k+1} s_k.\n",
    "$$"
   ]
  },
  {
   "cell_type": "code",
   "execution_count": 17,
   "metadata": {},
   "outputs": [
    {
     "data": {
      "text/plain": [
       "\u001b[32m\u001b[1mTest Passed\u001b[22m\u001b[39m"
      ]
     },
     "execution_count": 17,
     "metadata": {},
     "output_type": "execute_result"
    }
   ],
   "source": [
    "function exp_t(z, n)\n",
    "    # TODO: Compute the first (n+1)-terms of the Taylor series of exp\n",
    "    # evaluated at z\n",
    "    ret = 1\n",
    "    s = 1\n",
    "    for j = 1:n\n",
    "        s = s/j *z\n",
    "        ret += s\n",
    "    end\n",
    "    ret\n",
    "end\n",
    "\n",
    "@test exp_t(1.0, 10) isa Float64 # isa is used to test the type of a result\n",
    "@test exp_t(im, 10) isa ComplexF64 # isa is used to test the type of a result\n",
    "\n",
    "@test exp_t(1.0, 100) ≈ exp(1)"
   ]
  },
  {
   "cell_type": "markdown",
   "metadata": {},
   "source": [
    "**Problem 2(b)** Plot the error for `n = 1:1000` of `exp_t(z, n)` for `z = 1, im, -5`, and `-100`,\n",
    "scaling the y-axis logarithmically.\n",
    "Does the method appear to converge for all values of $z$?"
   ]
  },
  {
   "cell_type": "code",
   "execution_count": 35,
   "metadata": {},
   "outputs": [
    {
     "data": {
      "image/png": "[encoded data removed]",
      "image/svg+xml": [
       "<?xml version=\"1.0\" encoding=\"utf-8\"?>\n",
       "<svg xmlns=\"http://www.w3.org/2000/svg\" xmlns:xlink=\"http://www.w3.org/1999/xlink\" width=\"600\" height=\"400\" viewBox=\"0 0 2400 1600\">\n",
       "<defs>\n",
       "  <clipPath id=\"clip860\">\n",
       "    <rect x=\"0\" y=\"0\" width=\"2400\" height=\"1600\"/>\n",
       "  </clipPath>\n",
       "</defs>\n",
       "<path clip-path=\"url(#clip860)\" d=\"M0 1600 L2400 1600 L2400 8.88178e-14 L0 8.88178e-14  Z\" fill=\"#ffffff\" fill-rule=\"evenodd\" fill-opacity=\"1\"/>\n",
       "<defs>\n",
       "  <clipPath id=\"clip861\">\n",
       "    <rect x=\"480\" y=\"0\" width=\"1681\" height=\"1600\"/>\n",
       "  </clipPath>\n",
       "</defs>\n",
       "<path clip-path=\"url(#clip860)\" d=\"M181.785 1486.45 L2352.76 1486.45 L2352.76 47.2441 L181.785 47.2441  Z\" fill=\"#ffffff\" fill-rule=\"evenodd\" fill-opacity=\"1\"/>\n",
       "<defs>\n",
       "  <clipPath id=\"clip862\">\n",
       "    <rect x=\"181\" y=\"47\" width=\"2172\" height=\"1440\"/>\n",
       "  </clipPath>\n",
       "</defs>\n",
       "<polyline clip-path=\"url(#clip862)\" style=\"stroke:#000000; stroke-linecap:round; stroke-linejoin:round; stroke-width:2; stroke-opacity:0.1; fill:none\" points=\"241.177,1486.45 241.177,47.2441 \"/>\n",
       "<polyline clip-path=\"url(#clip862)\" style=\"stroke:#000000; stroke-linecap:round; stroke-linejoin:round; stroke-width:2; stroke-opacity:0.1; fill:none\" points=\"753.711,1486.45 753.711,47.2441 \"/>\n",
       "<polyline clip-path=\"url(#clip862)\" style=\"stroke:#000000; stroke-linecap:round; stroke-linejoin:round; stroke-width:2; stroke-opacity:0.1; fill:none\" points=\"1266.25,1486.45 1266.25,47.2441 \"/>\n",
       "<polyline clip-path=\"url(#clip862)\" style=\"stroke:#000000; stroke-linecap:round; stroke-linejoin:round; stroke-width:2; stroke-opacity:0.1; fill:none\" points=\"1778.78,1486.45 1778.78,47.2441 \"/>\n",
       "<polyline clip-path=\"url(#clip862)\" style=\"stroke:#000000; stroke-linecap:round; stroke-linejoin:round; stroke-width:2; stroke-opacity:0.1; fill:none\" points=\"2291.31,1486.45 2291.31,47.2441 \"/>\n",
       "<polyline clip-path=\"url(#clip862)\" style=\"stroke:#000000; stroke-linecap:round; stroke-linejoin:round; stroke-width:2; stroke-opacity:0.1; fill:none\" points=\"181.785,1080.55 2352.76,1080.55 \"/>\n",
       "<polyline clip-path=\"url(#clip862)\" style=\"stroke:#000000; stroke-linecap:round; stroke-linejoin:round; stroke-width:2; stroke-opacity:0.1; fill:none\" points=\"181.785,485.909 2352.76,485.909 \"/>\n",
       "<polyline clip-path=\"url(#clip860)\" style=\"stroke:#000000; stroke-linecap:round; stroke-linejoin:round; stroke-width:4; stroke-opacity:1; fill:none\" points=\"181.785,1486.45 2352.76,1486.45 \"/>\n",
       "<polyline clip-path=\"url(#clip860)\" style=\"stroke:#000000; stroke-linecap:round; stroke-linejoin:round; stroke-width:4; stroke-opacity:1; fill:none\" points=\"241.177,1486.45 241.177,1467.55 \"/>\n",
       "<polyline clip-path=\"url(#clip860)\" style=\"stroke:#000000; stroke-linecap:round; stroke-linejoin:round; stroke-width:4; stroke-opacity:1; fill:none\" points=\"753.711,1486.45 753.711,1467.55 \"/>\n",
       "<polyline clip-path=\"url(#clip860)\" style=\"stroke:#000000; stroke-linecap:round; stroke-linejoin:round; stroke-width:4; stroke-opacity:1; fill:none\" points=\"1266.25,1486.45 1266.25,1467.55 \"/>\n",
       "<polyline clip-path=\"url(#clip860)\" style=\"stroke:#000000; stroke-linecap:round; stroke-linejoin:round; stroke-width:4; stroke-opacity:1; fill:none\" points=\"1778.78,1486.45 1778.78,1467.55 \"/>\n",
       "<polyline clip-path=\"url(#clip860)\" style=\"stroke:#000000; stroke-linecap:round; stroke-linejoin:round; stroke-width:4; stroke-opacity:1; fill:none\" points=\"2291.31,1486.45 2291.31,1467.55 \"/>\n",
       "<path clip-path=\"url(#clip860)\" d=\"M241.177 1517.37 Q237.566 1517.37 235.737 1520.93 Q233.932 1524.47 233.932 1531.6 Q233.932 1538.71 235.737 1542.27 Q237.566 1545.82 241.177 1545.82 Q244.811 1545.82 246.617 1542.27 Q248.446 1538.71 248.446 1531.6 Q248.446 1524.47 246.617 1520.93 Q244.811 1517.37 241.177 1517.37 M241.177 1513.66 Q246.987 1513.66 250.043 1518.27 Q253.122 1522.85 253.122 1531.6 Q253.122 1540.33 250.043 1544.94 Q246.987 1549.52 241.177 1549.52 Q235.367 1549.52 232.288 1544.94 Q229.233 1540.33 229.233 1531.6 Q229.233 1522.85 232.288 1518.27 Q235.367 1513.66 241.177 1513.66 Z\" fill=\"#000000\" fill-rule=\"nonzero\" fill-opacity=\"1\" /><path clip-path=\"url(#clip860)\" d=\"M717.404 1544.91 L733.723 1544.91 L733.723 1548.85 L711.779 1548.85 L711.779 1544.91 Q714.441 1542.16 719.024 1537.53 Q723.63 1532.88 724.811 1531.53 Q727.056 1529.01 727.936 1527.27 Q728.839 1525.51 728.839 1523.82 Q728.839 1521.07 726.894 1519.33 Q724.973 1517.6 721.871 1517.6 Q719.672 1517.6 717.218 1518.36 Q714.788 1519.13 712.01 1520.68 L712.01 1515.95 Q714.834 1514.82 717.288 1514.24 Q719.741 1513.66 721.779 1513.66 Q727.149 1513.66 730.343 1516.35 Q733.538 1519.03 733.538 1523.52 Q733.538 1525.65 732.728 1527.57 Q731.94 1529.47 729.834 1532.07 Q729.255 1532.74 726.153 1535.95 Q723.052 1539.15 717.404 1544.91 Z\" fill=\"#000000\" fill-rule=\"nonzero\" fill-opacity=\"1\" /><path clip-path=\"url(#clip860)\" d=\"M743.584 1514.29 L761.94 1514.29 L761.94 1518.22 L747.866 1518.22 L747.866 1526.7 Q748.885 1526.35 749.903 1526.19 Q750.922 1526 751.94 1526 Q757.727 1526 761.107 1529.17 Q764.487 1532.34 764.487 1537.76 Q764.487 1543.34 761.014 1546.44 Q757.542 1549.52 751.223 1549.52 Q749.047 1549.52 746.778 1549.15 Q744.533 1548.78 742.126 1548.04 L742.126 1543.34 Q744.209 1544.47 746.431 1545.03 Q748.653 1545.58 751.13 1545.58 Q755.135 1545.58 757.473 1543.48 Q759.811 1541.37 759.811 1537.76 Q759.811 1534.15 757.473 1532.04 Q755.135 1529.94 751.13 1529.94 Q749.255 1529.94 747.38 1530.35 Q745.528 1530.77 743.584 1531.65 L743.584 1514.29 Z\" fill=\"#000000\" fill-rule=\"nonzero\" fill-opacity=\"1\" /><path clip-path=\"url(#clip860)\" d=\"M783.699 1517.37 Q780.088 1517.37 778.26 1520.93 Q776.454 1524.47 776.454 1531.6 Q776.454 1538.71 778.26 1542.27 Q780.088 1545.82 783.699 1545.82 Q787.334 1545.82 789.139 1542.27 Q790.968 1538.71 790.968 1531.6 Q790.968 1524.47 789.139 1520.93 Q787.334 1517.37 783.699 1517.37 M783.699 1513.66 Q789.51 1513.66 792.565 1518.27 Q795.644 1522.85 795.644 1531.6 Q795.644 1540.33 792.565 1544.94 Q789.51 1549.52 783.699 1549.52 Q777.889 1549.52 774.811 1544.94 Q771.755 1540.33 771.755 1531.6 Q771.755 1522.85 774.811 1518.27 Q777.889 1513.66 783.699 1513.66 Z\" fill=\"#000000\" fill-rule=\"nonzero\" fill-opacity=\"1\" /><path clip-path=\"url(#clip860)\" d=\"M1225.86 1514.29 L1244.22 1514.29 L1244.22 1518.22 L1230.15 1518.22 L1230.15 1526.7 Q1231.16 1526.35 1232.18 1526.19 Q1233.2 1526 1234.22 1526 Q1240.01 1526 1243.39 1529.17 Q1246.77 1532.34 1246.77 1537.76 Q1246.77 1543.34 1243.29 1546.44 Q1239.82 1549.52 1233.5 1549.52 Q1231.33 1549.52 1229.06 1549.15 Q1226.81 1548.78 1224.41 1548.04 L1224.41 1543.34 Q1226.49 1544.47 1228.71 1545.03 Q1230.93 1545.58 1233.41 1545.58 Q1237.41 1545.58 1239.75 1543.48 Q1242.09 1541.37 1242.09 1537.76 Q1242.09 1534.15 1239.75 1532.04 Q1237.41 1529.94 1233.41 1529.94 Q1231.53 1529.94 1229.66 1530.35 Q1227.81 1530.77 1225.86 1531.65 L1225.86 1514.29 Z\" fill=\"#000000\" fill-rule=\"nonzero\" fill-opacity=\"1\" /><path clip-path=\"url(#clip860)\" d=\"M1265.98 1517.37 Q1262.37 1517.37 1260.54 1520.93 Q1258.73 1524.47 1258.73 1531.6 Q1258.73 1538.71 1260.54 1542.27 Q1262.37 1545.82 1265.98 1545.82 Q1269.61 1545.82 1271.42 1542.27 Q1273.25 1538.71 1273.25 1531.6 Q1273.25 1524.47 1271.42 1520.93 Q1269.61 1517.37 1265.98 1517.37 M1265.98 1513.66 Q1271.79 1513.66 1274.84 1518.27 Q1277.92 1522.85 1277.92 1531.6 Q1277.92 1540.33 1274.84 1544.94 Q1271.79 1549.52 1265.98 1549.52 Q1260.17 1549.52 1257.09 1544.94 Q1254.03 1540.33 1254.03 1531.6 Q1254.03 1522.85 1257.09 1518.27 Q1260.17 1513.66 1265.98 1513.66 Z\" fill=\"#000000\" fill-rule=\"nonzero\" fill-opacity=\"1\" /><path clip-path=\"url(#clip860)\" d=\"M1296.14 1517.37 Q1292.53 1517.37 1290.7 1520.93 Q1288.9 1524.47 1288.9 1531.6 Q1288.9 1538.71 1290.7 1542.27 Q1292.53 1545.82 1296.14 1545.82 Q1299.78 1545.82 1301.58 1542.27 Q1303.41 1538.71 1303.41 1531.6 Q1303.41 1524.47 1301.58 1520.93 Q1299.78 1517.37 1296.14 1517.37 M1296.14 1513.66 Q1301.95 1513.66 1305.01 1518.27 Q1308.09 1522.85 1308.09 1531.6 Q1308.09 1540.33 1305.01 1544.94 Q1301.95 1549.52 1296.14 1549.52 Q1290.33 1549.52 1287.25 1544.94 Q1284.2 1540.33 1284.2 1531.6 Q1284.2 1522.85 1287.25 1518.27 Q1290.33 1513.66 1296.14 1513.66 Z\" fill=\"#000000\" fill-rule=\"nonzero\" fill-opacity=\"1\" /><path clip-path=\"url(#clip860)\" d=\"M1737.05 1514.29 L1759.28 1514.29 L1759.28 1516.28 L1746.73 1548.85 L1741.85 1548.85 L1753.65 1518.22 L1737.05 1518.22 L1737.05 1514.29 Z\" fill=\"#000000\" fill-rule=\"nonzero\" fill-opacity=\"1\" /><path clip-path=\"url(#clip860)\" d=\"M1768.44 1514.29 L1786.8 1514.29 L1786.8 1518.22 L1772.73 1518.22 L1772.73 1526.7 Q1773.74 1526.35 1774.76 1526.19 Q1775.78 1526 1776.8 1526 Q1782.59 1526 1785.97 1529.17 Q1789.35 1532.34 1789.35 1537.76 Q1789.35 1543.34 1785.87 1546.44 Q1782.4 1549.52 1776.08 1549.52 Q1773.91 1549.52 1771.64 1549.15 Q1769.39 1548.78 1766.99 1548.04 L1766.99 1543.34 Q1769.07 1544.47 1771.29 1545.03 Q1773.51 1545.58 1775.99 1545.58 Q1779.99 1545.58 1782.33 1543.48 Q1784.67 1541.37 1784.67 1537.76 Q1784.67 1534.15 1782.33 1532.04 Q1779.99 1529.94 1775.99 1529.94 Q1774.11 1529.94 1772.24 1530.35 Q1770.39 1530.77 1768.44 1531.65 L1768.44 1514.29 Z\" fill=\"#000000\" fill-rule=\"nonzero\" fill-opacity=\"1\" /><path clip-path=\"url(#clip860)\" d=\"M1808.56 1517.37 Q1804.95 1517.37 1803.12 1520.93 Q1801.31 1524.47 1801.31 1531.6 Q1801.31 1538.71 1803.12 1542.27 Q1804.95 1545.82 1808.56 1545.82 Q1812.19 1545.82 1814 1542.27 Q1815.83 1538.71 1815.83 1531.6 Q1815.83 1524.47 1814 1520.93 Q1812.19 1517.37 1808.56 1517.37 M1808.56 1513.66 Q1814.37 1513.66 1817.42 1518.27 Q1820.5 1522.85 1820.5 1531.6 Q1820.5 1540.33 1817.42 1544.94 Q1814.37 1549.52 1808.56 1549.52 Q1802.75 1549.52 1799.67 1544.94 Q1796.61 1540.33 1796.61 1531.6 Q1796.61 1522.85 1799.67 1518.27 Q1802.75 1513.66 1808.56 1513.66 Z\" fill=\"#000000\" fill-rule=\"nonzero\" fill-opacity=\"1\" /><path clip-path=\"url(#clip860)\" d=\"M2235.84 1544.91 L2243.48 1544.91 L2243.48 1518.55 L2235.17 1520.21 L2235.17 1515.95 L2243.43 1514.29 L2248.11 1514.29 L2248.11 1544.91 L2255.75 1544.91 L2255.75 1548.85 L2235.84 1548.85 L2235.84 1544.91 Z\" fill=\"#000000\" fill-rule=\"nonzero\" fill-opacity=\"1\" /><path clip-path=\"url(#clip860)\" d=\"M2275.19 1517.37 Q2271.58 1517.37 2269.75 1520.93 Q2267.95 1524.47 2267.95 1531.6 Q2267.95 1538.71 2269.75 1542.27 Q2271.58 1545.82 2275.19 1545.82 Q2278.82 1545.82 2280.63 1542.27 Q2282.46 1538.71 2282.46 1531.6 Q2282.46 1524.47 2280.63 1520.93 Q2278.82 1517.37 2275.19 1517.37 M2275.19 1513.66 Q2281 1513.66 2284.06 1518.27 Q2287.14 1522.85 2287.14 1531.6 Q2287.14 1540.33 2284.06 1544.94 Q2281 1549.52 2275.19 1549.52 Q2269.38 1549.52 2266.3 1544.94 Q2263.25 1540.33 2263.25 1531.6 Q2263.25 1522.85 2266.3 1518.27 Q2269.38 1513.66 2275.19 1513.66 Z\" fill=\"#000000\" fill-rule=\"nonzero\" fill-opacity=\"1\" /><path clip-path=\"url(#clip860)\" d=\"M2305.35 1517.37 Q2301.74 1517.37 2299.91 1520.93 Q2298.11 1524.47 2298.11 1531.6 Q2298.11 1538.71 2299.91 1542.27 Q2301.74 1545.82 2305.35 1545.82 Q2308.99 1545.82 2310.79 1542.27 Q2312.62 1538.71 2312.62 1531.6 Q2312.62 1524.47 2310.79 1520.93 Q2308.99 1517.37 2305.35 1517.37 M2305.35 1513.66 Q2311.16 1513.66 2314.22 1518.27 Q2317.3 1522.85 2317.3 1531.6 Q2317.3 1540.33 2314.22 1544.94 Q2311.16 1549.52 2305.35 1549.52 Q2299.54 1549.52 2296.46 1544.94 Q2293.41 1540.33 2293.41 1531.6 Q2293.41 1522.85 2296.46 1518.27 Q2299.54 1513.66 2305.35 1513.66 Z\" fill=\"#000000\" fill-rule=\"nonzero\" fill-opacity=\"1\" /><path clip-path=\"url(#clip860)\" d=\"M2335.51 1517.37 Q2331.9 1517.37 2330.07 1520.93 Q2328.27 1524.47 2328.27 1531.6 Q2328.27 1538.71 2330.07 1542.27 Q2331.9 1545.82 2335.51 1545.82 Q2339.15 1545.82 2340.95 1542.27 Q2342.78 1538.71 2342.78 1531.6 Q2342.78 1524.47 2340.95 1520.93 Q2339.15 1517.37 2335.51 1517.37 M2335.51 1513.66 Q2341.32 1513.66 2344.38 1518.27 Q2347.46 1522.85 2347.46 1531.6 Q2347.46 1540.33 2344.38 1544.94 Q2341.32 1549.52 2335.51 1549.52 Q2329.7 1549.52 2326.63 1544.94 Q2323.57 1540.33 2323.57 1531.6 Q2323.57 1522.85 2326.63 1518.27 Q2329.7 1513.66 2335.51 1513.66 Z\" fill=\"#000000\" fill-rule=\"nonzero\" fill-opacity=\"1\" /><polyline clip-path=\"url(#clip860)\" style=\"stroke:#000000; stroke-linecap:round; stroke-linejoin:round; stroke-width:4; stroke-opacity:1; fill:none\" points=\"181.785,1486.45 181.785,47.2441 \"/>\n",
       "<polyline clip-path=\"url(#clip860)\" style=\"stroke:#000000; stroke-linecap:round; stroke-linejoin:round; stroke-width:4; stroke-opacity:1; fill:none\" points=\"181.785,1080.55 200.682,1080.55 \"/>\n",
       "<polyline clip-path=\"url(#clip860)\" style=\"stroke:#000000; stroke-linecap:round; stroke-linejoin:round; stroke-width:4; stroke-opacity:1; fill:none\" points=\"181.785,485.909 200.682,485.909 \"/>\n",
       "<path clip-path=\"url(#clip860)\" d=\"M75.0791 1100.34 L82.7179 1100.34 L82.7179 1073.97 L74.4078 1075.64 L74.4078 1071.38 L82.6716 1069.72 L87.3475 1069.72 L87.3475 1100.34 L94.9864 1100.34 L94.9864 1104.28 L75.0791 1104.28 L75.0791 1100.34 Z\" fill=\"#000000\" fill-rule=\"nonzero\" fill-opacity=\"1\" /><path clip-path=\"url(#clip860)\" d=\"M114.431 1072.79 Q110.82 1072.79 108.991 1076.36 Q107.185 1079.9 107.185 1087.03 Q107.185 1094.14 108.991 1097.7 Q110.82 1101.24 114.431 1101.24 Q118.065 1101.24 119.871 1097.7 Q121.699 1094.14 121.699 1087.03 Q121.699 1079.9 119.871 1076.36 Q118.065 1072.79 114.431 1072.79 M114.431 1069.09 Q120.241 1069.09 123.296 1073.7 Q126.375 1078.28 126.375 1087.03 Q126.375 1095.76 123.296 1100.36 Q120.241 1104.95 114.431 1104.95 Q108.621 1104.95 105.542 1100.36 Q102.486 1095.76 102.486 1087.03 Q102.486 1078.28 105.542 1073.7 Q108.621 1069.09 114.431 1069.09 Z\" fill=\"#000000\" fill-rule=\"nonzero\" fill-opacity=\"1\" /><path clip-path=\"url(#clip860)\" d=\"M136.08 1051.29 Q133.146 1051.29 131.66 1054.18 Q130.193 1057.06 130.193 1062.85 Q130.193 1068.63 131.66 1071.52 Q133.146 1074.4 136.08 1074.4 Q139.033 1074.4 140.5 1071.52 Q141.986 1068.63 141.986 1062.85 Q141.986 1057.06 140.5 1054.18 Q139.033 1051.29 136.08 1051.29 M136.08 1048.28 Q140.801 1048.28 143.283 1052.02 Q145.785 1055.74 145.785 1062.85 Q145.785 1069.94 143.283 1073.69 Q140.801 1077.41 136.08 1077.41 Q131.359 1077.41 128.858 1073.69 Q126.375 1069.94 126.375 1062.85 Q126.375 1055.74 128.858 1052.02 Q131.359 1048.28 136.08 1048.28 Z\" fill=\"#000000\" fill-rule=\"nonzero\" fill-opacity=\"1\" /><path clip-path=\"url(#clip860)\" d=\"M51.6634 505.702 L59.3023 505.702 L59.3023 479.336 L50.9921 481.003 L50.9921 476.744 L59.256 475.077 L63.9319 475.077 L63.9319 505.702 L71.5707 505.702 L71.5707 509.637 L51.6634 509.637 L51.6634 505.702 Z\" fill=\"#000000\" fill-rule=\"nonzero\" fill-opacity=\"1\" /><path clip-path=\"url(#clip860)\" d=\"M91.0151 478.156 Q87.404 478.156 85.5753 481.721 Q83.7697 485.262 83.7697 492.392 Q83.7697 499.498 85.5753 503.063 Q87.404 506.605 91.0151 506.605 Q94.6493 506.605 96.4548 503.063 Q98.2835 499.498 98.2835 492.392 Q98.2835 485.262 96.4548 481.721 Q94.6493 478.156 91.0151 478.156 M91.0151 474.452 Q96.8252 474.452 99.8808 479.059 Q102.959 483.642 102.959 492.392 Q102.959 501.119 99.8808 505.725 Q96.8252 510.308 91.0151 510.308 Q85.2049 510.308 82.1262 505.725 Q79.0707 501.119 79.0707 492.392 Q79.0707 483.642 82.1262 479.059 Q85.2049 474.452 91.0151 474.452 Z\" fill=\"#000000\" fill-rule=\"nonzero\" fill-opacity=\"1\" /><path clip-path=\"url(#clip860)\" d=\"M107.53 479.029 L120.789 479.029 L120.789 482.227 L102.959 482.227 L102.959 479.029 Q105.122 476.791 108.846 473.03 Q112.589 469.249 113.548 468.158 Q115.373 466.108 116.087 464.698 Q116.821 463.268 116.821 461.895 Q116.821 459.657 115.241 458.247 Q113.68 456.836 111.16 456.836 Q109.373 456.836 107.379 457.457 Q105.404 458.077 103.148 459.338 L103.148 455.501 Q105.442 454.579 107.436 454.109 Q109.429 453.639 111.084 453.639 Q115.448 453.639 118.043 455.821 Q120.639 458.002 120.639 461.651 Q120.639 463.381 119.98 464.942 Q119.341 466.485 117.63 468.591 Q117.159 469.136 114.639 471.751 Q112.119 474.346 107.53 479.029 Z\" fill=\"#000000\" fill-rule=\"nonzero\" fill-opacity=\"1\" /><path clip-path=\"url(#clip860)\" d=\"M128.801 454.147 L143.716 454.147 L143.716 457.344 L132.281 457.344 L132.281 464.228 Q133.108 463.945 133.936 463.814 Q134.763 463.663 135.591 463.663 Q140.293 463.663 143.039 466.24 Q145.785 468.817 145.785 473.218 Q145.785 477.75 142.964 480.271 Q140.142 482.772 135.008 482.772 Q133.24 482.772 131.397 482.471 Q129.572 482.17 127.616 481.568 L127.616 477.75 Q129.309 478.672 131.115 479.123 Q132.92 479.575 134.933 479.575 Q138.186 479.575 140.086 477.863 Q141.986 476.152 141.986 473.218 Q141.986 470.284 140.086 468.572 Q138.186 466.861 134.933 466.861 Q133.409 466.861 131.886 467.199 Q130.381 467.538 128.801 468.252 L128.801 454.147 Z\" fill=\"#000000\" fill-rule=\"nonzero\" fill-opacity=\"1\" /><polyline clip-path=\"url(#clip862)\" style=\"stroke:#009af9; stroke-linecap:round; stroke-linejoin:round; stroke-width:4; stroke-opacity:1; fill:none\" points=\"243.227,1033.08 245.277,992.772 247.328,956.652 249.378,923.502 251.428,892.656 253.478,863.692 255.528,836.32 257.578,810.326 259.628,785.548 261.679,761.858 263.729,739.151 265.779,717.342 267.829,696.359 269.879,676.141 271.929,656.635 273.979,637.794 276.029,619.579 278.08,601.954 280.13,584.887 282.18,568.348 284.23,552.313 286.28,536.758 288.33,521.661 290.38,507.003 292.431,492.766 294.481,478.933 296.531,465.49 298.581,452.422 300.631,439.715 302.681,427.359 304.731,415.34 306.782,403.648 308.832,392.274 310.882,381.208 312.932,370.44 314.982,359.963 317.032,349.769 319.082,339.849 321.132,330.197 323.183,320.806 325.233,311.67 327.283,302.782 329.333,294.136 331.383,285.728 333.433,277.551 335.483,269.601 337.534,261.872 339.584,254.36 341.634,247.061 343.684,239.97 345.734,233.084 347.784,226.397 349.834,219.907 351.885,213.609 353.935,207.5 355.985,201.577 358.035,195.837 360.085,190.275 362.135,184.89 364.185,179.678 366.235,174.637 368.286,169.763 370.336,165.054 372.386,160.507 374.436,156.12 376.486,151.89 378.536,147.815 380.586,143.893 382.637,140.121 384.687,136.498 386.737,133.021 388.787,129.688 390.837,126.497 392.887,123.446 394.937,120.533 396.988,117.757 399.038,115.116 401.088,112.608 403.138,110.231 405.188,107.983 407.238,105.864 409.288,103.871 411.338,102.002 413.389,100.258 415.439,98.6348 417.489,97.1326 419.539,95.7494 421.589,94.484 423.639,93.335 425.689,92.3012 427.74,91.3812 429.79,90.5738 431.84,89.8779 433.89,89.2921 435.94,88.8154 437.99,88.4465 440.04,88.1844 442.091,88.0281 444.141,87.9763 446.191,88.0281 448.241,88.1824 450.291,88.4382 452.341,88.7945 454.391,89.2504 456.441,89.8049 458.492,90.4571 460.542,91.206 462.592,92.0508 464.642,92.9906 466.692,94.0244 468.742,95.1515 470.792,96.371 472.843,97.6821 474.893,99.084 476.943,100.576 478.993,102.157 481.043,103.826 483.093,105.584 485.143,107.428 487.194,109.358 489.244,111.374 491.294,113.475 493.344,115.66 495.394,117.928 497.444,120.279 499.494,122.712 501.544,125.227 503.595,127.822 505.645,130.498 507.695,133.253 509.745,136.087 511.795,139 513.845,141.99 515.895,145.057 517.946,148.202 519.996,151.422 522.046,154.717 524.096,158.088 526.146,161.533 528.196,165.052 530.246,168.644 532.297,172.309 534.347,176.046 536.397,179.855 538.447,183.736 540.497,187.687 542.547,191.709 544.597,195.8 546.647,199.961 548.698,204.191 550.748,208.489 552.798,212.855 554.848,217.289 556.898,221.79 558.948,226.358 560.998,230.992 563.049,235.692 565.099,240.457 567.149,245.287 569.199,250.182 571.249,255.141 573.299,260.164 575.349,265.25 577.4,270.4 579.45,275.612 581.5,280.886 583.55,286.222 585.6,291.62 587.65,297.079 589.7,302.598 591.75,308.178 593.801,313.818 595.851,319.518 597.901,325.278 599.951,331.096 602.001,336.973 604.051,342.909 606.101,348.902 608.152,354.954 610.202,361.062 612.252,367.228 614.302,373.45 616.352,379.731 618.402,386.063 620.452,392.46 622.502,398.895 624.553,405.419 626.603,411.935 628.653,418.623 630.703,425.145 632.753,432.142 634.803,438.388 636.853,446.262 638.904,451.198 640.954,462.348 643.004,462.228 645.054,510.473 647.104,469.38 649.154,476.789 651.204,472.434 653.255,474.373 655.305,473.368 657.355,473.851 659.405,473.611 661.455,473.727 663.505,473.671 665.555,473.698 667.605,473.685 669.656,473.691 671.706,473.688 673.756,473.69 675.806,473.689 677.856,473.689 679.906,473.689 681.956,473.689 684.007,473.689 686.057,473.689 688.107,473.689 690.157,473.689 692.207,473.689 694.257,473.689 696.307,473.689 698.358,473.689 700.408,473.689 702.458,473.689 704.508,473.689 706.558,473.689 708.608,473.689 710.658,473.689 712.708,473.689 714.759,473.689 716.809,473.689 718.859,473.689 720.909,473.689 722.959,473.689 725.009,473.689 727.059,473.689 729.11,473.689 731.16,473.689 733.21,473.689 735.26,473.689 737.31,473.689 739.36,473.689 741.41,473.689 743.461,473.689 745.511,473.689 747.561,473.689 749.611,473.689 751.661,473.689 753.711,473.689 755.761,473.689 757.811,473.689 759.862,473.689 761.912,473.689 763.962,473.689 766.012,473.689 768.062,473.689 770.112,473.689 772.162,473.689 774.213,473.689 776.263,473.689 778.313,473.689 780.363,473.689 782.413,473.689 784.463,473.689 786.513,473.689 788.564,473.689 790.614,473.689 792.664,473.689 794.714,473.689 796.764,473.689 798.814,473.689 800.864,473.689 802.914,473.689 804.965,473.689 807.015,473.689 809.065,473.689 811.115,473.689 813.165,473.689 815.215,473.689 817.265,473.689 819.316,473.689 821.366,473.689 823.416,473.689 825.466,473.689 827.516,473.689 829.566,473.689 831.616,473.689 833.667,473.689 835.717,473.689 837.767,473.689 839.817,473.689 841.867,473.689 843.917,473.689 845.967,473.689 848.017,473.689 850.068,473.689 852.118,473.689 854.168,473.689 856.218,473.689 858.268,473.689 860.318,473.689 862.368,473.689 864.419,473.689 866.469,473.689 868.519,473.689 870.569,473.689 872.619,473.689 874.669,473.689 876.719,473.689 878.77,473.689 880.82,473.689 882.87,473.689 884.92,473.689 886.97,473.689 889.02,473.689 891.07,473.689 893.12,473.689 895.171,473.689 897.221,473.689 899.271,473.689 901.321,473.689 903.371,473.689 905.421,473.689 907.471,473.689 909.522,473.689 911.572,473.689 913.622,473.689 915.672,473.689 917.722,473.689 919.772,473.689 921.822,473.689 923.873,473.689 925.923,473.689 927.973,473.689 930.023,473.689 932.073,473.689 934.123,473.689 936.173,473.689 938.223,473.689 940.274,473.689 942.324,473.689 944.374,473.689 946.424,473.689 948.474,473.689 950.524,473.689 952.574,473.689 954.625,473.689 956.675,473.689 958.725,473.689 960.775,473.689 962.825,473.689 964.875,473.689 966.925,473.689 968.976,473.689 971.026,473.689 973.076,473.689 975.126,473.689 977.176,473.689 979.226,473.689 981.276,473.689 983.326,473.689 985.377,473.689 987.427,473.689 989.477,473.689 991.527,473.689 993.577,473.689 995.627,473.689 997.677,473.689 999.728,473.689 1001.78,473.689 1003.83,473.689 1005.88,473.689 1007.93,473.689 1009.98,473.689 1012.03,473.689 1014.08,473.689 1016.13,473.689 1018.18,473.689 1020.23,473.689 1022.28,473.689 1024.33,473.689 1026.38,473.689 1028.43,473.689 1030.48,473.689 1032.53,473.689 1034.58,473.689 1036.63,473.689 1038.68,473.689 1040.73,473.689 1042.78,473.689 1044.83,473.689 1046.88,473.689 1048.93,473.689 1050.98,473.689 1053.03,473.689 1055.08,473.689 1057.13,473.689 1059.18,473.689 1061.23,473.689 1063.28,473.689 1065.33,473.689 1067.38,473.689 1069.43,473.689 1071.48,473.689 1073.53,473.689 1075.58,473.689 1077.63,473.689 1079.68,473.689 1081.73,473.689 1083.78,473.689 1085.83,473.689 1087.88,473.689 1089.93,473.689 1091.98,473.689 1094.03,473.689 1096.08,473.689 1098.13,473.689 1100.18,473.689 1102.23,473.689 1104.28,473.689 1106.33,473.689 1108.38,473.689 1110.43,473.689 1112.49,473.689 1114.54,473.689 1116.59,473.689 1118.64,473.689 1120.69,473.689 1122.74,473.689 1124.79,473.689 1126.84,473.689 1128.89,473.689 1130.94,473.689 1132.99,473.689 1135.04,473.689 1137.09,473.689 1139.14,473.689 1141.19,473.689 1143.24,473.689 1145.29,473.689 1147.34,473.689 1149.39,473.689 1151.44,473.689 1153.49,473.689 1155.54,473.689 1157.59,473.689 1159.64,473.689 1161.69,473.689 1163.74,473.689 1165.79,473.689 1167.84,473.689 1169.89,473.689 1171.94,473.689 1173.99,473.689 1176.04,473.689 1178.09,473.689 1180.14,473.689 1182.19,473.689 1184.24,473.689 1186.29,473.689 1188.34,473.689 1190.39,473.689 1192.44,473.689 1194.49,473.689 1196.54,473.689 1198.59,473.689 1200.64,473.689 1202.69,473.689 1204.74,473.689 1206.79,473.689 1208.84,473.689 1210.89,473.689 1212.94,473.689 1214.99,473.689 1217.04,473.689 1219.09,473.689 1221.14,473.689 1223.19,473.689 1225.24,473.689 1227.29,473.689 1229.34,473.689 1231.39,473.689 1233.44,473.689 1235.49,473.689 1237.54,473.689 1239.59,473.689 1241.64,473.689 1243.69,473.689 1245.74,473.689 1247.79,473.689 1249.84,473.689 1251.89,473.689 1253.94,473.689 1255.99,473.689 1258.04,473.689 1260.09,473.689 1262.14,473.689 1264.2,473.689 1266.25,473.689 1268.3,473.689 1270.35,473.689 1272.4,473.689 1274.45,473.689 1276.5,473.689 1278.55,473.689 1280.6,473.689 1282.65,473.689 1284.7,473.689 1286.75,473.689 1288.8,473.689 1290.85,473.689 1292.9,473.689 1294.95,473.689 1297,473.689 1299.05,473.689 1301.1,473.689 1303.15,473.689 1305.2,473.689 1307.25,473.689 1309.3,473.689 1311.35,473.689 1313.4,473.689 1315.45,473.689 1317.5,473.689 1319.55,473.689 1321.6,473.689 1323.65,473.689 1325.7,473.689 1327.75,473.689 1329.8,473.689 1331.85,473.689 1333.9,473.689 1335.95,473.689 1338,473.689 1340.05,473.689 1342.1,473.689 1344.15,473.689 1346.2,473.689 1348.25,473.689 1350.3,473.689 1352.35,473.689 1354.4,473.689 1356.45,473.689 1358.5,473.689 1360.55,473.689 1362.6,473.689 1364.65,473.689 1366.7,473.689 1368.75,473.689 1370.8,473.689 1372.85,473.689 1374.9,473.689 1376.95,473.689 1379,473.689 1381.05,473.689 1383.1,473.689 1385.15,473.689 1387.2,473.689 1389.25,473.689 1391.3,473.689 1393.35,473.689 1395.4,473.689 1397.45,473.689 1399.5,473.689 1401.55,473.689 1403.6,473.689 1405.65,473.689 1407.7,473.689 1409.75,473.689 1411.8,473.689 1413.86,473.689 1415.91,473.689 1417.96,473.689 1420.01,473.689 1422.06,473.689 1424.11,473.689 1426.16,473.689 1428.21,473.689 1430.26,473.689 1432.31,473.689 1434.36,473.689 1436.41,473.689 1438.46,473.689 1440.51,473.689 1442.56,473.689 1444.61,473.689 1446.66,473.689 1448.71,473.689 1450.76,473.689 1452.81,473.689 1454.86,473.689 1456.91,473.689 1458.96,473.689 1461.01,473.689 1463.06,473.689 1465.11,473.689 1467.16,473.689 1469.21,473.689 1471.26,473.689 1473.31,473.689 1475.36,473.689 1477.41,473.689 1479.46,473.689 1481.51,473.689 1483.56,473.689 1485.61,473.689 1487.66,473.689 1489.71,473.689 1491.76,473.689 1493.81,473.689 1495.86,473.689 1497.91,473.689 1499.96,473.689 1502.01,473.689 1504.06,473.689 1506.11,473.689 1508.16,473.689 1510.21,473.689 1512.26,473.689 1514.31,473.689 1516.36,473.689 1518.41,473.689 1520.46,473.689 1522.51,473.689 1524.56,473.689 1526.61,473.689 1528.66,473.689 1530.71,473.689 1532.76,473.689 1534.81,473.689 1536.86,473.689 1538.91,473.689 1540.96,473.689 1543.01,473.689 1545.06,473.689 1547.11,473.689 1549.16,473.689 1551.21,473.689 1553.26,473.689 1555.31,473.689 1557.36,473.689 1559.41,473.689 1561.46,473.689 1563.51,473.689 1565.57,473.689 1567.62,473.689 1569.67,473.689 1571.72,473.689 1573.77,473.689 1575.82,473.689 1577.87,473.689 1579.92,473.689 1581.97,473.689 1584.02,473.689 1586.07,473.689 1588.12,473.689 1590.17,473.689 1592.22,473.689 1594.27,473.689 1596.32,473.689 1598.37,473.689 1600.42,473.689 1602.47,473.689 1604.52,473.689 1606.57,473.689 1608.62,473.689 1610.67,473.689 1612.72,473.689 1614.77,473.689 1616.82,473.689 1618.87,473.689 1620.92,473.689 1622.97,473.689 1625.02,473.689 1627.07,473.689 1629.12,473.689 1631.17,473.689 1633.22,473.689 1635.27,473.689 1637.32,473.689 1639.37,473.689 1641.42,473.689 1643.47,473.689 1645.52,473.689 1647.57,473.689 1649.62,473.689 1651.67,473.689 1653.72,473.689 1655.77,473.689 1657.82,473.689 1659.87,473.689 1661.92,473.689 1663.97,473.689 1666.02,473.689 1668.07,473.689 1670.12,473.689 1672.17,473.689 1674.22,473.689 1676.27,473.689 1678.32,473.689 1680.37,473.689 1682.42,473.689 1684.47,473.689 1686.52,473.689 1688.57,473.689 1690.62,473.689 1692.67,473.689 1694.72,473.689 1696.77,473.689 1698.82,473.689 1700.87,473.689 1702.92,473.689 1704.97,473.689 1707.02,473.689 1709.07,473.689 1711.12,473.689 1713.17,473.689 1715.23,473.689 1717.28,473.689 1719.33,473.689 1721.38,473.689 1723.43,473.689 1725.48,473.689 1727.53,473.689 1729.58,473.689 1731.63,473.689 1733.68,473.689 1735.73,473.689 1737.78,473.689 1739.83,473.689 1741.88,473.689 1743.93,473.689 1745.98,473.689 1748.03,473.689 1750.08,473.689 1752.13,473.689 1754.18,473.689 1756.23,473.689 1758.28,473.689 1760.33,473.689 1762.38,473.689 1764.43,473.689 1766.48,473.689 1768.53,473.689 1770.58,473.689 1772.63,473.689 1774.68,473.689 1776.73,473.689 1778.78,473.689 1780.83,473.689 1782.88,473.689 1784.93,473.689 1786.98,473.689 1789.03,473.689 1791.08,473.689 1793.13,473.689 1795.18,473.689 1797.23,473.689 1799.28,473.689 1801.33,473.689 1803.38,473.689 1805.43,473.689 1807.48,473.689 1809.53,473.689 1811.58,473.689 1813.63,473.689 1815.68,473.689 1817.73,473.689 1819.78,473.689 1821.83,473.689 1823.88,473.689 1825.93,473.689 1827.98,473.689 1830.03,473.689 1832.08,473.689 1834.13,473.689 1836.18,473.689 1838.23,473.689 1840.28,473.689 1842.33,473.689 1844.38,473.689 1846.43,473.689 1848.48,473.689 1850.53,473.689 1852.58,473.689 1854.63,473.689 1856.68,473.689 1858.73,473.689 1860.78,473.689 1862.83,473.689 1864.89,473.689 1866.94,473.689 1868.99,473.689 1871.04,473.689 1873.09,473.689 1875.14,473.689 1877.19,473.689 1879.24,473.689 1881.29,473.689 1883.34,473.689 1885.39,473.689 1887.44,473.689 1889.49,473.689 1891.54,473.689 1893.59,473.689 1895.64,473.689 1897.69,473.689 1899.74,473.689 1901.79,473.689 1903.84,473.689 1905.89,473.689 1907.94,473.689 1909.99,473.689 1912.04,473.689 1914.09,473.689 1916.14,473.689 1918.19,473.689 1920.24,473.689 1922.29,473.689 1924.34,473.689 1926.39,473.689 1928.44,473.689 1930.49,473.689 1932.54,473.689 1934.59,473.689 1936.64,473.689 1938.69,473.689 1940.74,473.689 1942.79,473.689 1944.84,473.689 1946.89,473.689 1948.94,473.689 1950.99,473.689 1953.04,473.689 1955.09,473.689 1957.14,473.689 1959.19,473.689 1961.24,473.689 1963.29,473.689 1965.34,473.689 1967.39,473.689 1969.44,473.689 1971.49,473.689 1973.54,473.689 1975.59,473.689 1977.64,473.689 1979.69,473.689 1981.74,473.689 1983.79,473.689 1985.84,473.689 1987.89,473.689 1989.94,473.689 1991.99,473.689 1994.04,473.689 1996.09,473.689 1998.14,473.689 2000.19,473.689 2002.24,473.689 2004.29,473.689 2006.34,473.689 2008.39,473.689 2010.44,473.689 2012.49,473.689 2014.54,473.689 2016.6,473.689 2018.65,473.689 2020.7,473.689 2022.75,473.689 2024.8,473.689 2026.85,473.689 2028.9,473.689 2030.95,473.689 2033,473.689 2035.05,473.689 2037.1,473.689 2039.15,473.689 2041.2,473.689 2043.25,473.689 2045.3,473.689 2047.35,473.689 2049.4,473.689 2051.45,473.689 2053.5,473.689 2055.55,473.689 2057.6,473.689 2059.65,473.689 2061.7,473.689 2063.75,473.689 2065.8,473.689 2067.85,473.689 2069.9,473.689 2071.95,473.689 2074,473.689 2076.05,473.689 2078.1,473.689 2080.15,473.689 2082.2,473.689 2084.25,473.689 2086.3,473.689 2088.35,473.689 2090.4,473.689 2092.45,473.689 2094.5,473.689 2096.55,473.689 2098.6,473.689 2100.65,473.689 2102.7,473.689 2104.75,473.689 2106.8,473.689 2108.85,473.689 2110.9,473.689 2112.95,473.689 2115,473.689 2117.05,473.689 2119.1,473.689 2121.15,473.689 2123.2,473.689 2125.25,473.689 2127.3,473.689 2129.35,473.689 2131.4,473.689 2133.45,473.689 2135.5,473.689 2137.55,473.689 2139.6,473.689 2141.65,473.689 2143.7,473.689 2145.75,473.689 2147.8,473.689 2149.85,473.689 2151.9,473.689 2153.95,473.689 2156,473.689 2158.05,473.689 2160.1,473.689 2162.15,473.689 2164.2,473.689 2166.26,473.689 2168.31,473.689 2170.36,473.689 2172.41,473.689 2174.46,473.689 2176.51,473.689 2178.56,473.689 2180.61,473.689 2182.66,473.689 2184.71,473.689 2186.76,473.689 2188.81,473.689 2190.86,473.689 2192.91,473.689 2194.96,473.689 2197.01,473.689 2199.06,473.689 2201.11,473.689 2203.16,473.689 2205.21,473.689 2207.26,473.689 2209.31,473.689 2211.36,473.689 2213.41,473.689 2215.46,473.689 2217.51,473.689 2219.56,473.689 2221.61,473.689 2223.66,473.689 2225.71,473.689 2227.76,473.689 2229.81,473.689 2231.86,473.689 2233.91,473.689 2235.96,473.689 2238.01,473.689 2240.06,473.689 2242.11,473.689 2244.16,473.689 2246.21,473.689 2248.26,473.689 2250.31,473.689 2252.36,473.689 2254.41,473.689 2256.46,473.689 2258.51,473.689 2260.56,473.689 2262.61,473.689 2264.66,473.689 2266.71,473.689 2268.76,473.689 2270.81,473.689 2272.86,473.689 2274.91,473.689 2276.96,473.689 2279.01,473.689 2281.06,473.689 2283.11,473.689 2285.16,473.689 2287.21,473.689 2289.26,473.689 2291.31,473.689 \"/>\n",
       "<polyline clip-path=\"url(#clip862)\" style=\"stroke:#e26f46; stroke-linecap:round; stroke-linejoin:round; stroke-width:4; stroke-opacity:1; fill:none\" points=\"243.227,1083.97 245.277,1096.27 247.328,1111.16 249.378,1128.17 251.428,1146.95 253.478,1167.25 255.528,1188.89 257.578,1211.71 259.628,1235.6 261.679,1260.45 263.729,1286.19 265.779,1312.75 267.829,1340.06 269.879,1368.09 271.929,1396.88 273.979,1429.09 276.029,1445.72 278.08,1445.72 280.13,1445.72 282.18,1445.72 284.23,1445.72 286.28,1445.72 288.33,1445.72 290.38,1445.72 292.431,1445.72 294.481,1445.72 296.531,1445.72 298.581,1445.72 300.631,1445.72 302.681,1445.72 304.731,1445.72 306.782,1445.72 308.832,1445.72 310.882,1445.72 312.932,1445.72 314.982,1445.72 317.032,1445.72 319.082,1445.72 321.132,1445.72 323.183,1445.72 325.233,1445.72 327.283,1445.72 329.333,1445.72 331.383,1445.72 333.433,1445.72 335.483,1445.72 337.534,1445.72 339.584,1445.72 341.634,1445.72 343.684,1445.72 345.734,1445.72 347.784,1445.72 349.834,1445.72 351.885,1445.72 353.935,1445.72 355.985,1445.72 358.035,1445.72 360.085,1445.72 362.135,1445.72 364.185,1445.72 366.235,1445.72 368.286,1445.72 370.336,1445.72 372.386,1445.72 374.436,1445.72 376.486,1445.72 378.536,1445.72 380.586,1445.72 382.637,1445.72 384.687,1445.72 386.737,1445.72 388.787,1445.72 390.837,1445.72 392.887,1445.72 394.937,1445.72 396.988,1445.72 399.038,1445.72 401.088,1445.72 403.138,1445.72 405.188,1445.72 407.238,1445.72 409.288,1445.72 411.338,1445.72 413.389,1445.72 415.439,1445.72 417.489,1445.72 419.539,1445.72 421.589,1445.72 423.639,1445.72 425.689,1445.72 427.74,1445.72 429.79,1445.72 431.84,1445.72 433.89,1445.72 435.94,1445.72 437.99,1445.72 440.04,1445.72 442.091,1445.72 444.141,1445.72 446.191,1445.72 448.241,1445.72 450.291,1445.72 452.341,1445.72 454.391,1445.72 456.441,1445.72 458.492,1445.72 460.542,1445.72 462.592,1445.72 464.642,1445.72 466.692,1445.72 468.742,1445.72 470.792,1445.72 472.843,1445.72 474.893,1445.72 476.943,1445.72 478.993,1445.72 481.043,1445.72 483.093,1445.72 485.143,1445.72 487.194,1445.72 489.244,1445.72 491.294,1445.72 493.344,1445.72 495.394,1445.72 497.444,1445.72 499.494,1445.72 501.544,1445.72 503.595,1445.72 505.645,1445.72 507.695,1445.72 509.745,1445.72 511.795,1445.72 513.845,1445.72 515.895,1445.72 517.946,1445.72 519.996,1445.72 522.046,1445.72 524.096,1445.72 526.146,1445.72 528.196,1445.72 530.246,1445.72 532.297,1445.72 534.347,1445.72 536.397,1445.72 538.447,1445.72 540.497,1445.72 542.547,1445.72 544.597,1445.72 546.647,1445.72 548.698,1445.72 550.748,1445.72 552.798,1445.72 554.848,1445.72 556.898,1445.72 558.948,1445.72 560.998,1445.72 563.049,1445.72 565.099,1445.72 567.149,1445.72 569.199,1445.72 571.249,1445.72 573.299,1445.72 575.349,1445.72 577.4,1445.72 579.45,1445.72 581.5,1445.72 583.55,1445.72 585.6,1445.72 587.65,1445.72 589.7,1445.72 591.75,1445.72 593.801,1445.72 595.851,1445.72 597.901,1445.72 599.951,1445.72 602.001,1445.72 604.051,1445.72 606.101,1445.72 608.152,1445.72 610.202,1445.72 612.252,1445.72 614.302,1445.72 616.352,1445.72 618.402,1445.72 620.452,1445.72 622.502,1445.72 624.553,1445.72 626.603,1445.72 628.653,1445.72 630.703,1445.72 632.753,1445.72 634.803,1445.72 636.853,1445.72 638.904,1445.72 640.954,1445.72 643.004,1445.72 645.054,1445.72 647.104,1445.72 649.154,1445.72 651.204,1445.72 653.255,1445.72 655.305,1445.72 657.355,1445.72 659.405,1445.72 661.455,1445.72 663.505,1445.72 665.555,1445.72 667.605,1445.72 669.656,1445.72 671.706,1445.72 673.756,1445.72 675.806,1445.72 677.856,1445.72 679.906,1445.72 681.956,1445.72 684.007,1445.72 686.057,1445.72 688.107,1445.72 690.157,1445.72 692.207,1445.72 694.257,1445.72 696.307,1445.72 698.358,1445.72 700.408,1445.72 702.458,1445.72 704.508,1445.72 706.558,1445.72 708.608,1445.72 710.658,1445.72 712.708,1445.72 714.759,1445.72 716.809,1445.72 718.859,1445.72 720.909,1445.72 722.959,1445.72 725.009,1445.72 727.059,1445.72 729.11,1445.72 731.16,1445.72 733.21,1445.72 735.26,1445.72 737.31,1445.72 739.36,1445.72 741.41,1445.72 743.461,1445.72 745.511,1445.72 747.561,1445.72 749.611,1445.72 751.661,1445.72 753.711,1445.72 755.761,1445.72 757.811,1445.72 759.862,1445.72 761.912,1445.72 763.962,1445.72 766.012,1445.72 768.062,1445.72 770.112,1445.72 772.162,1445.72 774.213,1445.72 776.263,1445.72 778.313,1445.72 780.363,1445.72 782.413,1445.72 784.463,1445.72 786.513,1445.72 788.564,1445.72 790.614,1445.72 792.664,1445.72 794.714,1445.72 796.764,1445.72 798.814,1445.72 800.864,1445.72 802.914,1445.72 804.965,1445.72 807.015,1445.72 809.065,1445.72 811.115,1445.72 813.165,1445.72 815.215,1445.72 817.265,1445.72 819.316,1445.72 821.366,1445.72 823.416,1445.72 825.466,1445.72 827.516,1445.72 829.566,1445.72 831.616,1445.72 833.667,1445.72 835.717,1445.72 837.767,1445.72 839.817,1445.72 841.867,1445.72 843.917,1445.72 845.967,1445.72 848.017,1445.72 850.068,1445.72 852.118,1445.72 854.168,1445.72 856.218,1445.72 858.268,1445.72 860.318,1445.72 862.368,1445.72 864.419,1445.72 866.469,1445.72 868.519,1445.72 870.569,1445.72 872.619,1445.72 874.669,1445.72 876.719,1445.72 878.77,1445.72 880.82,1445.72 882.87,1445.72 884.92,1445.72 886.97,1445.72 889.02,1445.72 891.07,1445.72 893.12,1445.72 895.171,1445.72 897.221,1445.72 899.271,1445.72 901.321,1445.72 903.371,1445.72 905.421,1445.72 907.471,1445.72 909.522,1445.72 911.572,1445.72 913.622,1445.72 915.672,1445.72 917.722,1445.72 919.772,1445.72 921.822,1445.72 923.873,1445.72 925.923,1445.72 927.973,1445.72 930.023,1445.72 932.073,1445.72 934.123,1445.72 936.173,1445.72 938.223,1445.72 940.274,1445.72 942.324,1445.72 944.374,1445.72 946.424,1445.72 948.474,1445.72 950.524,1445.72 952.574,1445.72 954.625,1445.72 956.675,1445.72 958.725,1445.72 960.775,1445.72 962.825,1445.72 964.875,1445.72 966.925,1445.72 968.976,1445.72 971.026,1445.72 973.076,1445.72 975.126,1445.72 977.176,1445.72 979.226,1445.72 981.276,1445.72 983.326,1445.72 985.377,1445.72 987.427,1445.72 989.477,1445.72 991.527,1445.72 993.577,1445.72 995.627,1445.72 997.677,1445.72 999.728,1445.72 1001.78,1445.72 1003.83,1445.72 1005.88,1445.72 1007.93,1445.72 1009.98,1445.72 1012.03,1445.72 1014.08,1445.72 1016.13,1445.72 1018.18,1445.72 1020.23,1445.72 1022.28,1445.72 1024.33,1445.72 1026.38,1445.72 1028.43,1445.72 1030.48,1445.72 1032.53,1445.72 1034.58,1445.72 1036.63,1445.72 1038.68,1445.72 1040.73,1445.72 1042.78,1445.72 1044.83,1445.72 1046.88,1445.72 1048.93,1445.72 1050.98,1445.72 1053.03,1445.72 1055.08,1445.72 1057.13,1445.72 1059.18,1445.72 1061.23,1445.72 1063.28,1445.72 1065.33,1445.72 1067.38,1445.72 1069.43,1445.72 1071.48,1445.72 1073.53,1445.72 1075.58,1445.72 1077.63,1445.72 1079.68,1445.72 1081.73,1445.72 1083.78,1445.72 1085.83,1445.72 1087.88,1445.72 1089.93,1445.72 1091.98,1445.72 1094.03,1445.72 1096.08,1445.72 1098.13,1445.72 1100.18,1445.72 1102.23,1445.72 1104.28,1445.72 1106.33,1445.72 1108.38,1445.72 1110.43,1445.72 1112.49,1445.72 1114.54,1445.72 1116.59,1445.72 1118.64,1445.72 1120.69,1445.72 1122.74,1445.72 1124.79,1445.72 1126.84,1445.72 1128.89,1445.72 1130.94,1445.72 1132.99,1445.72 1135.04,1445.72 1137.09,1445.72 1139.14,1445.72 1141.19,1445.72 1143.24,1445.72 1145.29,1445.72 1147.34,1445.72 1149.39,1445.72 1151.44,1445.72 1153.49,1445.72 1155.54,1445.72 1157.59,1445.72 1159.64,1445.72 1161.69,1445.72 1163.74,1445.72 1165.79,1445.72 1167.84,1445.72 1169.89,1445.72 1171.94,1445.72 1173.99,1445.72 1176.04,1445.72 1178.09,1445.72 1180.14,1445.72 1182.19,1445.72 1184.24,1445.72 1186.29,1445.72 1188.34,1445.72 1190.39,1445.72 1192.44,1445.72 1194.49,1445.72 1196.54,1445.72 1198.59,1445.72 1200.64,1445.72 1202.69,1445.72 1204.74,1445.72 1206.79,1445.72 1208.84,1445.72 1210.89,1445.72 1212.94,1445.72 1214.99,1445.72 1217.04,1445.72 1219.09,1445.72 1221.14,1445.72 1223.19,1445.72 1225.24,1445.72 1227.29,1445.72 1229.34,1445.72 1231.39,1445.72 1233.44,1445.72 1235.49,1445.72 1237.54,1445.72 1239.59,1445.72 1241.64,1445.72 1243.69,1445.72 1245.74,1445.72 1247.79,1445.72 1249.84,1445.72 1251.89,1445.72 1253.94,1445.72 1255.99,1445.72 1258.04,1445.72 1260.09,1445.72 1262.14,1445.72 1264.2,1445.72 1266.25,1445.72 1268.3,1445.72 1270.35,1445.72 1272.4,1445.72 1274.45,1445.72 1276.5,1445.72 1278.55,1445.72 1280.6,1445.72 1282.65,1445.72 1284.7,1445.72 1286.75,1445.72 1288.8,1445.72 1290.85,1445.72 1292.9,1445.72 1294.95,1445.72 1297,1445.72 1299.05,1445.72 1301.1,1445.72 1303.15,1445.72 1305.2,1445.72 1307.25,1445.72 1309.3,1445.72 1311.35,1445.72 1313.4,1445.72 1315.45,1445.72 1317.5,1445.72 1319.55,1445.72 1321.6,1445.72 1323.65,1445.72 1325.7,1445.72 1327.75,1445.72 1329.8,1445.72 1331.85,1445.72 1333.9,1445.72 1335.95,1445.72 1338,1445.72 1340.05,1445.72 1342.1,1445.72 1344.15,1445.72 1346.2,1445.72 1348.25,1445.72 1350.3,1445.72 1352.35,1445.72 1354.4,1445.72 1356.45,1445.72 1358.5,1445.72 1360.55,1445.72 1362.6,1445.72 1364.65,1445.72 1366.7,1445.72 1368.75,1445.72 1370.8,1445.72 1372.85,1445.72 1374.9,1445.72 1376.95,1445.72 1379,1445.72 1381.05,1445.72 1383.1,1445.72 1385.15,1445.72 1387.2,1445.72 1389.25,1445.72 1391.3,1445.72 1393.35,1445.72 1395.4,1445.72 1397.45,1445.72 1399.5,1445.72 1401.55,1445.72 1403.6,1445.72 1405.65,1445.72 1407.7,1445.72 1409.75,1445.72 1411.8,1445.72 1413.86,1445.72 1415.91,1445.72 1417.96,1445.72 1420.01,1445.72 1422.06,1445.72 1424.11,1445.72 1426.16,1445.72 1428.21,1445.72 1430.26,1445.72 1432.31,1445.72 1434.36,1445.72 1436.41,1445.72 1438.46,1445.72 1440.51,1445.72 1442.56,1445.72 1444.61,1445.72 1446.66,1445.72 1448.71,1445.72 1450.76,1445.72 1452.81,1445.72 1454.86,1445.72 1456.91,1445.72 1458.96,1445.72 1461.01,1445.72 1463.06,1445.72 1465.11,1445.72 1467.16,1445.72 1469.21,1445.72 1471.26,1445.72 1473.31,1445.72 1475.36,1445.72 1477.41,1445.72 1479.46,1445.72 1481.51,1445.72 1483.56,1445.72 1485.61,1445.72 1487.66,1445.72 1489.71,1445.72 1491.76,1445.72 1493.81,1445.72 1495.86,1445.72 1497.91,1445.72 1499.96,1445.72 1502.01,1445.72 1504.06,1445.72 1506.11,1445.72 1508.16,1445.72 1510.21,1445.72 1512.26,1445.72 1514.31,1445.72 1516.36,1445.72 1518.41,1445.72 1520.46,1445.72 1522.51,1445.72 1524.56,1445.72 1526.61,1445.72 1528.66,1445.72 1530.71,1445.72 1532.76,1445.72 1534.81,1445.72 1536.86,1445.72 1538.91,1445.72 1540.96,1445.72 1543.01,1445.72 1545.06,1445.72 1547.11,1445.72 1549.16,1445.72 1551.21,1445.72 1553.26,1445.72 1555.31,1445.72 1557.36,1445.72 1559.41,1445.72 1561.46,1445.72 1563.51,1445.72 1565.57,1445.72 1567.62,1445.72 1569.67,1445.72 1571.72,1445.72 1573.77,1445.72 1575.82,1445.72 1577.87,1445.72 1579.92,1445.72 1581.97,1445.72 1584.02,1445.72 1586.07,1445.72 1588.12,1445.72 1590.17,1445.72 1592.22,1445.72 1594.27,1445.72 1596.32,1445.72 1598.37,1445.72 1600.42,1445.72 1602.47,1445.72 1604.52,1445.72 1606.57,1445.72 1608.62,1445.72 1610.67,1445.72 1612.72,1445.72 1614.77,1445.72 1616.82,1445.72 1618.87,1445.72 1620.92,1445.72 1622.97,1445.72 1625.02,1445.72 1627.07,1445.72 1629.12,1445.72 1631.17,1445.72 1633.22,1445.72 1635.27,1445.72 1637.32,1445.72 1639.37,1445.72 1641.42,1445.72 1643.47,1445.72 1645.52,1445.72 1647.57,1445.72 1649.62,1445.72 1651.67,1445.72 1653.72,1445.72 1655.77,1445.72 1657.82,1445.72 1659.87,1445.72 1661.92,1445.72 1663.97,1445.72 1666.02,1445.72 1668.07,1445.72 1670.12,1445.72 1672.17,1445.72 1674.22,1445.72 1676.27,1445.72 1678.32,1445.72 1680.37,1445.72 1682.42,1445.72 1684.47,1445.72 1686.52,1445.72 1688.57,1445.72 1690.62,1445.72 1692.67,1445.72 1694.72,1445.72 1696.77,1445.72 1698.82,1445.72 1700.87,1445.72 1702.92,1445.72 1704.97,1445.72 1707.02,1445.72 1709.07,1445.72 1711.12,1445.72 1713.17,1445.72 1715.23,1445.72 1717.28,1445.72 1719.33,1445.72 1721.38,1445.72 1723.43,1445.72 1725.48,1445.72 1727.53,1445.72 1729.58,1445.72 1731.63,1445.72 1733.68,1445.72 1735.73,1445.72 1737.78,1445.72 1739.83,1445.72 1741.88,1445.72 1743.93,1445.72 1745.98,1445.72 1748.03,1445.72 1750.08,1445.72 1752.13,1445.72 1754.18,1445.72 1756.23,1445.72 1758.28,1445.72 1760.33,1445.72 1762.38,1445.72 1764.43,1445.72 1766.48,1445.72 1768.53,1445.72 1770.58,1445.72 1772.63,1445.72 1774.68,1445.72 1776.73,1445.72 1778.78,1445.72 1780.83,1445.72 1782.88,1445.72 1784.93,1445.72 1786.98,1445.72 1789.03,1445.72 1791.08,1445.72 1793.13,1445.72 1795.18,1445.72 1797.23,1445.72 1799.28,1445.72 1801.33,1445.72 1803.38,1445.72 1805.43,1445.72 1807.48,1445.72 1809.53,1445.72 1811.58,1445.72 1813.63,1445.72 1815.68,1445.72 1817.73,1445.72 1819.78,1445.72 1821.83,1445.72 1823.88,1445.72 1825.93,1445.72 1827.98,1445.72 1830.03,1445.72 1832.08,1445.72 1834.13,1445.72 1836.18,1445.72 1838.23,1445.72 1840.28,1445.72 1842.33,1445.72 1844.38,1445.72 1846.43,1445.72 1848.48,1445.72 1850.53,1445.72 1852.58,1445.72 1854.63,1445.72 1856.68,1445.72 1858.73,1445.72 1860.78,1445.72 1862.83,1445.72 1864.89,1445.72 1866.94,1445.72 1868.99,1445.72 1871.04,1445.72 1873.09,1445.72 1875.14,1445.72 1877.19,1445.72 1879.24,1445.72 1881.29,1445.72 1883.34,1445.72 1885.39,1445.72 1887.44,1445.72 1889.49,1445.72 1891.54,1445.72 1893.59,1445.72 1895.64,1445.72 1897.69,1445.72 1899.74,1445.72 1901.79,1445.72 1903.84,1445.72 1905.89,1445.72 1907.94,1445.72 1909.99,1445.72 1912.04,1445.72 1914.09,1445.72 1916.14,1445.72 1918.19,1445.72 1920.24,1445.72 1922.29,1445.72 1924.34,1445.72 1926.39,1445.72 1928.44,1445.72 1930.49,1445.72 1932.54,1445.72 1934.59,1445.72 1936.64,1445.72 1938.69,1445.72 1940.74,1445.72 1942.79,1445.72 1944.84,1445.72 1946.89,1445.72 1948.94,1445.72 1950.99,1445.72 1953.04,1445.72 1955.09,1445.72 1957.14,1445.72 1959.19,1445.72 1961.24,1445.72 1963.29,1445.72 1965.34,1445.72 1967.39,1445.72 1969.44,1445.72 1971.49,1445.72 1973.54,1445.72 1975.59,1445.72 1977.64,1445.72 1979.69,1445.72 1981.74,1445.72 1983.79,1445.72 1985.84,1445.72 1987.89,1445.72 1989.94,1445.72 1991.99,1445.72 1994.04,1445.72 1996.09,1445.72 1998.14,1445.72 2000.19,1445.72 2002.24,1445.72 2004.29,1445.72 2006.34,1445.72 2008.39,1445.72 2010.44,1445.72 2012.49,1445.72 2014.54,1445.72 2016.6,1445.72 2018.65,1445.72 2020.7,1445.72 2022.75,1445.72 2024.8,1445.72 2026.85,1445.72 2028.9,1445.72 2030.95,1445.72 2033,1445.72 2035.05,1445.72 2037.1,1445.72 2039.15,1445.72 2041.2,1445.72 2043.25,1445.72 2045.3,1445.72 2047.35,1445.72 2049.4,1445.72 2051.45,1445.72 2053.5,1445.72 2055.55,1445.72 2057.6,1445.72 2059.65,1445.72 2061.7,1445.72 2063.75,1445.72 2065.8,1445.72 2067.85,1445.72 2069.9,1445.72 2071.95,1445.72 2074,1445.72 2076.05,1445.72 2078.1,1445.72 2080.15,1445.72 2082.2,1445.72 2084.25,1445.72 2086.3,1445.72 2088.35,1445.72 2090.4,1445.72 2092.45,1445.72 2094.5,1445.72 2096.55,1445.72 2098.6,1445.72 2100.65,1445.72 2102.7,1445.72 2104.75,1445.72 2106.8,1445.72 2108.85,1445.72 2110.9,1445.72 2112.95,1445.72 2115,1445.72 2117.05,1445.72 2119.1,1445.72 2121.15,1445.72 2123.2,1445.72 2125.25,1445.72 2127.3,1445.72 2129.35,1445.72 2131.4,1445.72 2133.45,1445.72 2135.5,1445.72 2137.55,1445.72 2139.6,1445.72 2141.65,1445.72 2143.7,1445.72 2145.75,1445.72 2147.8,1445.72 2149.85,1445.72 2151.9,1445.72 2153.95,1445.72 2156,1445.72 2158.05,1445.72 2160.1,1445.72 2162.15,1445.72 2164.2,1445.72 2166.26,1445.72 2168.31,1445.72 2170.36,1445.72 2172.41,1445.72 2174.46,1445.72 2176.51,1445.72 2178.56,1445.72 2180.61,1445.72 2182.66,1445.72 2184.71,1445.72 2186.76,1445.72 2188.81,1445.72 2190.86,1445.72 2192.91,1445.72 2194.96,1445.72 2197.01,1445.72 2199.06,1445.72 2201.11,1445.72 2203.16,1445.72 2205.21,1445.72 2207.26,1445.72 2209.31,1445.72 2211.36,1445.72 2213.41,1445.72 2215.46,1445.72 2217.51,1445.72 2219.56,1445.72 2221.61,1445.72 2223.66,1445.72 2225.71,1445.72 2227.76,1445.72 2229.81,1445.72 2231.86,1445.72 2233.91,1445.72 2235.96,1445.72 2238.01,1445.72 2240.06,1445.72 2242.11,1445.72 2244.16,1445.72 2246.21,1445.72 2248.26,1445.72 2250.31,1445.72 2252.36,1445.72 2254.41,1445.72 2256.46,1445.72 2258.51,1445.72 2260.56,1445.72 2262.61,1445.72 2264.66,1445.72 2266.71,1445.72 2268.76,1445.72 2270.81,1445.72 2272.86,1445.72 2274.91,1445.72 2276.96,1445.72 2279.01,1445.72 2281.06,1445.72 2283.11,1445.72 2285.16,1445.72 2287.21,1445.72 2289.26,1445.72 2291.31,1445.72 \"/>\n",
       "<path clip-path=\"url(#clip860)\" d=\"M2010.86 250.738 L2280.39 250.738 L2280.39 95.2176 L2010.86 95.2176  Z\" fill=\"#ffffff\" fill-rule=\"evenodd\" fill-opacity=\"1\"/>\n",
       "<polyline clip-path=\"url(#clip860)\" style=\"stroke:#000000; stroke-linecap:round; stroke-linejoin:round; stroke-width:4; stroke-opacity:1; fill:none\" points=\"2010.86,250.738 2280.39,250.738 2280.39,95.2176 2010.86,95.2176 2010.86,250.738 \"/>\n",
       "<polyline clip-path=\"url(#clip860)\" style=\"stroke:#009af9; stroke-linecap:round; stroke-linejoin:round; stroke-width:4; stroke-opacity:1; fill:none\" points=\"2034.98,147.058 2179.72,147.058 \"/>\n",
       "<path clip-path=\"url(#clip860)\" d=\"M2217.68 166.745 Q2215.87 171.375 2214.16 172.787 Q2212.45 174.199 2209.58 174.199 L2206.18 174.199 L2206.18 170.634 L2208.68 170.634 Q2210.44 170.634 2211.41 169.8 Q2212.38 168.967 2213.56 165.865 L2214.32 163.921 L2203.84 138.412 L2208.35 138.412 L2216.45 158.689 L2224.56 138.412 L2229.07 138.412 L2217.68 166.745 Z\" fill=\"#000000\" fill-rule=\"nonzero\" fill-opacity=\"1\" /><path clip-path=\"url(#clip860)\" d=\"M2236.36 160.402 L2244 160.402 L2244 134.037 L2235.69 135.703 L2235.69 131.444 L2243.95 129.778 L2248.63 129.778 L2248.63 160.402 L2256.27 160.402 L2256.27 164.338 L2236.36 164.338 L2236.36 160.402 Z\" fill=\"#000000\" fill-rule=\"nonzero\" fill-opacity=\"1\" /><polyline clip-path=\"url(#clip860)\" style=\"stroke:#e26f46; stroke-linecap:round; stroke-linejoin:round; stroke-width:4; stroke-opacity:1; fill:none\" points=\"2034.98,198.898 2179.72,198.898 \"/>\n",
       "<path clip-path=\"url(#clip860)\" d=\"M2217.68 218.585 Q2215.87 223.215 2214.16 224.627 Q2212.45 226.039 2209.58 226.039 L2206.18 226.039 L2206.18 222.474 L2208.68 222.474 Q2210.44 222.474 2211.41 221.64 Q2212.38 220.807 2213.56 217.705 L2214.32 215.761 L2203.84 190.252 L2208.35 190.252 L2216.45 210.529 L2224.56 190.252 L2229.07 190.252 L2217.68 218.585 Z\" fill=\"#000000\" fill-rule=\"nonzero\" fill-opacity=\"1\" /><path clip-path=\"url(#clip860)\" d=\"M2239.58 212.242 L2255.9 212.242 L2255.9 216.178 L2233.95 216.178 L2233.95 212.242 Q2236.62 209.488 2241.2 204.858 Q2245.81 200.205 2246.99 198.863 Q2249.23 196.34 2250.11 194.604 Q2251.01 192.844 2251.01 191.155 Q2251.01 188.4 2249.07 186.664 Q2247.15 184.928 2244.05 184.928 Q2241.85 184.928 2239.39 185.692 Q2236.96 186.455 2234.19 188.006 L2234.19 183.284 Q2237.01 182.15 2239.46 181.571 Q2241.92 180.993 2243.95 180.993 Q2249.32 180.993 2252.52 183.678 Q2255.71 186.363 2255.71 190.854 Q2255.71 192.983 2254.9 194.905 Q2254.12 196.803 2252.01 199.395 Q2251.43 200.067 2248.33 203.284 Q2245.23 206.479 2239.58 212.242 Z\" fill=\"#000000\" fill-rule=\"nonzero\" fill-opacity=\"1\" /></svg>\n"
      ],
      "text/html": [
       "<?xml version=\"1.0\" encoding=\"utf-8\"?>\n",
       "<svg xmlns=\"http://www.w3.org/2000/svg\" xmlns:xlink=\"http://www.w3.org/1999/xlink\" width=\"600\" height=\"400\" viewBox=\"0 0 2400 1600\">\n",
       "<defs>\n",
       "  <clipPath id=\"clip910\">\n",
       "    <rect x=\"0\" y=\"0\" width=\"2400\" height=\"1600\"/>\n",
       "  </clipPath>\n",
       "</defs>\n",
       "<path clip-path=\"url(#clip910)\" d=\"M0 1600 L2400 1600 L2400 8.88178e-14 L0 8.88178e-14  Z\" fill=\"#ffffff\" fill-rule=\"evenodd\" fill-opacity=\"1\"/>\n",
       "<defs>\n",
       "  <clipPath id=\"clip911\">\n",
       "    <rect x=\"480\" y=\"0\" width=\"1681\" height=\"1600\"/>\n",
       "  </clipPath>\n",
       "</defs>\n",
       "<path clip-path=\"url(#clip910)\" d=\"M181.785 1486.45 L2352.76 1486.45 L2352.76 47.2441 L181.785 47.2441  Z\" fill=\"#ffffff\" fill-rule=\"evenodd\" fill-opacity=\"1\"/>\n",
       "<defs>\n",
       "  <clipPath id=\"clip912\">\n",
       "    <rect x=\"181\" y=\"47\" width=\"2172\" height=\"1440\"/>\n",
       "  </clipPath>\n",
       "</defs>\n",
       "<polyline clip-path=\"url(#clip912)\" style=\"stroke:#000000; stroke-linecap:round; stroke-linejoin:round; stroke-width:2; stroke-opacity:0.1; fill:none\" points=\"241.177,1486.45 241.177,47.2441 \"/>\n",
       "<polyline clip-path=\"url(#clip912)\" style=\"stroke:#000000; stroke-linecap:round; stroke-linejoin:round; stroke-width:2; stroke-opacity:0.1; fill:none\" points=\"753.711,1486.45 753.711,47.2441 \"/>\n",
       "<polyline clip-path=\"url(#clip912)\" style=\"stroke:#000000; stroke-linecap:round; stroke-linejoin:round; stroke-width:2; stroke-opacity:0.1; fill:none\" points=\"1266.25,1486.45 1266.25,47.2441 \"/>\n",
       "<polyline clip-path=\"url(#clip912)\" style=\"stroke:#000000; stroke-linecap:round; stroke-linejoin:round; stroke-width:2; stroke-opacity:0.1; fill:none\" points=\"1778.78,1486.45 1778.78,47.2441 \"/>\n",
       "<polyline clip-path=\"url(#clip912)\" style=\"stroke:#000000; stroke-linecap:round; stroke-linejoin:round; stroke-width:2; stroke-opacity:0.1; fill:none\" points=\"2291.31,1486.45 2291.31,47.2441 \"/>\n",
       "<polyline clip-path=\"url(#clip912)\" style=\"stroke:#000000; stroke-linecap:round; stroke-linejoin:round; stroke-width:2; stroke-opacity:0.1; fill:none\" points=\"181.785,1080.55 2352.76,1080.55 \"/>\n",
       "<polyline clip-path=\"url(#clip912)\" style=\"stroke:#000000; stroke-linecap:round; stroke-linejoin:round; stroke-width:2; stroke-opacity:0.1; fill:none\" points=\"181.785,485.909 2352.76,485.909 \"/>\n",
       "<polyline clip-path=\"url(#clip910)\" style=\"stroke:#000000; stroke-linecap:round; stroke-linejoin:round; stroke-width:4; stroke-opacity:1; fill:none\" points=\"181.785,1486.45 2352.76,1486.45 \"/>\n",
       "<polyline clip-path=\"url(#clip910)\" style=\"stroke:#000000; stroke-linecap:round; stroke-linejoin:round; stroke-width:4; stroke-opacity:1; fill:none\" points=\"241.177,1486.45 241.177,1467.55 \"/>\n",
       "<polyline clip-path=\"url(#clip910)\" style=\"stroke:#000000; stroke-linecap:round; stroke-linejoin:round; stroke-width:4; stroke-opacity:1; fill:none\" points=\"753.711,1486.45 753.711,1467.55 \"/>\n",
       "<polyline clip-path=\"url(#clip910)\" style=\"stroke:#000000; stroke-linecap:round; stroke-linejoin:round; stroke-width:4; stroke-opacity:1; fill:none\" points=\"1266.25,1486.45 1266.25,1467.55 \"/>\n",
       "<polyline clip-path=\"url(#clip910)\" style=\"stroke:#000000; stroke-linecap:round; stroke-linejoin:round; stroke-width:4; stroke-opacity:1; fill:none\" points=\"1778.78,1486.45 1778.78,1467.55 \"/>\n",
       "<polyline clip-path=\"url(#clip910)\" style=\"stroke:#000000; stroke-linecap:round; stroke-linejoin:round; stroke-width:4; stroke-opacity:1; fill:none\" points=\"2291.31,1486.45 2291.31,1467.55 \"/>\n",
       "<path clip-path=\"url(#clip910)\" d=\"M241.177 1517.37 Q237.566 1517.37 235.737 1520.93 Q233.932 1524.47 233.932 1531.6 Q233.932 1538.71 235.737 1542.27 Q237.566 1545.82 241.177 1545.82 Q244.811 1545.82 246.617 1542.27 Q248.446 1538.71 248.446 1531.6 Q248.446 1524.47 246.617 1520.93 Q244.811 1517.37 241.177 1517.37 M241.177 1513.66 Q246.987 1513.66 250.043 1518.27 Q253.122 1522.85 253.122 1531.6 Q253.122 1540.33 250.043 1544.94 Q246.987 1549.52 241.177 1549.52 Q235.367 1549.52 232.288 1544.94 Q229.233 1540.33 229.233 1531.6 Q229.233 1522.85 232.288 1518.27 Q235.367 1513.66 241.177 1513.66 Z\" fill=\"#000000\" fill-rule=\"nonzero\" fill-opacity=\"1\" /><path clip-path=\"url(#clip910)\" d=\"M717.404 1544.91 L733.723 1544.91 L733.723 1548.85 L711.779 1548.85 L711.779 1544.91 Q714.441 1542.16 719.024 1537.53 Q723.63 1532.88 724.811 1531.53 Q727.056 1529.01 727.936 1527.27 Q728.839 1525.51 728.839 1523.82 Q728.839 1521.07 726.894 1519.33 Q724.973 1517.6 721.871 1517.6 Q719.672 1517.6 717.218 1518.36 Q714.788 1519.13 712.01 1520.68 L712.01 1515.95 Q714.834 1514.82 717.288 1514.24 Q719.741 1513.66 721.779 1513.66 Q727.149 1513.66 730.343 1516.35 Q733.538 1519.03 733.538 1523.52 Q733.538 1525.65 732.728 1527.57 Q731.94 1529.47 729.834 1532.07 Q729.255 1532.74 726.153 1535.95 Q723.052 1539.15 717.404 1544.91 Z\" fill=\"#000000\" fill-rule=\"nonzero\" fill-opacity=\"1\" /><path clip-path=\"url(#clip910)\" d=\"M743.584 1514.29 L761.94 1514.29 L761.94 1518.22 L747.866 1518.22 L747.866 1526.7 Q748.885 1526.35 749.903 1526.19 Q750.922 1526 751.94 1526 Q757.727 1526 761.107 1529.17 Q764.487 1532.34 764.487 1537.76 Q764.487 1543.34 761.014 1546.44 Q757.542 1549.52 751.223 1549.52 Q749.047 1549.52 746.778 1549.15 Q744.533 1548.78 742.126 1548.04 L742.126 1543.34 Q744.209 1544.47 746.431 1545.03 Q748.653 1545.58 751.13 1545.58 Q755.135 1545.58 757.473 1543.48 Q759.811 1541.37 759.811 1537.76 Q759.811 1534.15 757.473 1532.04 Q755.135 1529.94 751.13 1529.94 Q749.255 1529.94 747.38 1530.35 Q745.528 1530.77 743.584 1531.65 L743.584 1514.29 Z\" fill=\"#000000\" fill-rule=\"nonzero\" fill-opacity=\"1\" /><path clip-path=\"url(#clip910)\" d=\"M783.699 1517.37 Q780.088 1517.37 778.26 1520.93 Q776.454 1524.47 776.454 1531.6 Q776.454 1538.71 778.26 1542.27 Q780.088 1545.82 783.699 1545.82 Q787.334 1545.82 789.139 1542.27 Q790.968 1538.71 790.968 1531.6 Q790.968 1524.47 789.139 1520.93 Q787.334 1517.37 783.699 1517.37 M783.699 1513.66 Q789.51 1513.66 792.565 1518.27 Q795.644 1522.85 795.644 1531.6 Q795.644 1540.33 792.565 1544.94 Q789.51 1549.52 783.699 1549.52 Q777.889 1549.52 774.811 1544.94 Q771.755 1540.33 771.755 1531.6 Q771.755 1522.85 774.811 1518.27 Q777.889 1513.66 783.699 1513.66 Z\" fill=\"#000000\" fill-rule=\"nonzero\" fill-opacity=\"1\" /><path clip-path=\"url(#clip910)\" d=\"M1225.86 1514.29 L1244.22 1514.29 L1244.22 1518.22 L1230.15 1518.22 L1230.15 1526.7 Q1231.16 1526.35 1232.18 1526.19 Q1233.2 1526 1234.22 1526 Q1240.01 1526 1243.39 1529.17 Q1246.77 1532.34 1246.77 1537.76 Q1246.77 1543.34 1243.29 1546.44 Q1239.82 1549.52 1233.5 1549.52 Q1231.33 1549.52 1229.06 1549.15 Q1226.81 1548.78 1224.41 1548.04 L1224.41 1543.34 Q1226.49 1544.47 1228.71 1545.03 Q1230.93 1545.58 1233.41 1545.58 Q1237.41 1545.58 1239.75 1543.48 Q1242.09 1541.37 1242.09 1537.76 Q1242.09 1534.15 1239.75 1532.04 Q1237.41 1529.94 1233.41 1529.94 Q1231.53 1529.94 1229.66 1530.35 Q1227.81 1530.77 1225.86 1531.65 L1225.86 1514.29 Z\" fill=\"#000000\" fill-rule=\"nonzero\" fill-opacity=\"1\" /><path clip-path=\"url(#clip910)\" d=\"M1265.98 1517.37 Q1262.37 1517.37 1260.54 1520.93 Q1258.73 1524.47 1258.73 1531.6 Q1258.73 1538.71 1260.54 1542.27 Q1262.37 1545.82 1265.98 1545.82 Q1269.61 1545.82 1271.42 1542.27 Q1273.25 1538.71 1273.25 1531.6 Q1273.25 1524.47 1271.42 1520.93 Q1269.61 1517.37 1265.98 1517.37 M1265.98 1513.66 Q1271.79 1513.66 1274.84 1518.27 Q1277.92 1522.85 1277.92 1531.6 Q1277.92 1540.33 1274.84 1544.94 Q1271.79 1549.52 1265.98 1549.52 Q1260.17 1549.52 1257.09 1544.94 Q1254.03 1540.33 1254.03 1531.6 Q1254.03 1522.85 1257.09 1518.27 Q1260.17 1513.66 1265.98 1513.66 Z\" fill=\"#000000\" fill-rule=\"nonzero\" fill-opacity=\"1\" /><path clip-path=\"url(#clip910)\" d=\"M1296.14 1517.37 Q1292.53 1517.37 1290.7 1520.93 Q1288.9 1524.47 1288.9 1531.6 Q1288.9 1538.71 1290.7 1542.27 Q1292.53 1545.82 1296.14 1545.82 Q1299.78 1545.82 1301.58 1542.27 Q1303.41 1538.71 1303.41 1531.6 Q1303.41 1524.47 1301.58 1520.93 Q1299.78 1517.37 1296.14 1517.37 M1296.14 1513.66 Q1301.95 1513.66 1305.01 1518.27 Q1308.09 1522.85 1308.09 1531.6 Q1308.09 1540.33 1305.01 1544.94 Q1301.95 1549.52 1296.14 1549.52 Q1290.33 1549.52 1287.25 1544.94 Q1284.2 1540.33 1284.2 1531.6 Q1284.2 1522.85 1287.25 1518.27 Q1290.33 1513.66 1296.14 1513.66 Z\" fill=\"#000000\" fill-rule=\"nonzero\" fill-opacity=\"1\" /><path clip-path=\"url(#clip910)\" d=\"M1737.05 1514.29 L1759.28 1514.29 L1759.28 1516.28 L1746.73 1548.85 L1741.85 1548.85 L1753.65 1518.22 L1737.05 1518.22 L1737.05 1514.29 Z\" fill=\"#000000\" fill-rule=\"nonzero\" fill-opacity=\"1\" /><path clip-path=\"url(#clip910)\" d=\"M1768.44 1514.29 L1786.8 1514.29 L1786.8 1518.22 L1772.73 1518.22 L1772.73 1526.7 Q1773.74 1526.35 1774.76 1526.19 Q1775.78 1526 1776.8 1526 Q1782.59 1526 1785.97 1529.17 Q1789.35 1532.34 1789.35 1537.76 Q1789.35 1543.34 1785.87 1546.44 Q1782.4 1549.52 1776.08 1549.52 Q1773.91 1549.52 1771.64 1549.15 Q1769.39 1548.78 1766.99 1548.04 L1766.99 1543.34 Q1769.07 1544.47 1771.29 1545.03 Q1773.51 1545.58 1775.99 1545.58 Q1779.99 1545.58 1782.33 1543.48 Q1784.67 1541.37 1784.67 1537.76 Q1784.67 1534.15 1782.33 1532.04 Q1779.99 1529.94 1775.99 1529.94 Q1774.11 1529.94 1772.24 1530.35 Q1770.39 1530.77 1768.44 1531.65 L1768.44 1514.29 Z\" fill=\"#000000\" fill-rule=\"nonzero\" fill-opacity=\"1\" /><path clip-path=\"url(#clip910)\" d=\"M1808.56 1517.37 Q1804.95 1517.37 1803.12 1520.93 Q1801.31 1524.47 1801.31 1531.6 Q1801.31 1538.71 1803.12 1542.27 Q1804.95 1545.82 1808.56 1545.82 Q1812.19 1545.82 1814 1542.27 Q1815.83 1538.71 1815.83 1531.6 Q1815.83 1524.47 1814 1520.93 Q1812.19 1517.37 1808.56 1517.37 M1808.56 1513.66 Q1814.37 1513.66 1817.42 1518.27 Q1820.5 1522.85 1820.5 1531.6 Q1820.5 1540.33 1817.42 1544.94 Q1814.37 1549.52 1808.56 1549.52 Q1802.75 1549.52 1799.67 1544.94 Q1796.61 1540.33 1796.61 1531.6 Q1796.61 1522.85 1799.67 1518.27 Q1802.75 1513.66 1808.56 1513.66 Z\" fill=\"#000000\" fill-rule=\"nonzero\" fill-opacity=\"1\" /><path clip-path=\"url(#clip910)\" d=\"M2235.84 1544.91 L2243.48 1544.91 L2243.48 1518.55 L2235.17 1520.21 L2235.17 1515.95 L2243.43 1514.29 L2248.11 1514.29 L2248.11 1544.91 L2255.75 1544.91 L2255.75 1548.85 L2235.84 1548.85 L2235.84 1544.91 Z\" fill=\"#000000\" fill-rule=\"nonzero\" fill-opacity=\"1\" /><path clip-path=\"url(#clip910)\" d=\"M2275.19 1517.37 Q2271.58 1517.37 2269.75 1520.93 Q2267.95 1524.47 2267.95 1531.6 Q2267.95 1538.71 2269.75 1542.27 Q2271.58 1545.82 2275.19 1545.82 Q2278.82 1545.82 2280.63 1542.27 Q2282.46 1538.71 2282.46 1531.6 Q2282.46 1524.47 2280.63 1520.93 Q2278.82 1517.37 2275.19 1517.37 M2275.19 1513.66 Q2281 1513.66 2284.06 1518.27 Q2287.14 1522.85 2287.14 1531.6 Q2287.14 1540.33 2284.06 1544.94 Q2281 1549.52 2275.19 1549.52 Q2269.38 1549.52 2266.3 1544.94 Q2263.25 1540.33 2263.25 1531.6 Q2263.25 1522.85 2266.3 1518.27 Q2269.38 1513.66 2275.19 1513.66 Z\" fill=\"#000000\" fill-rule=\"nonzero\" fill-opacity=\"1\" /><path clip-path=\"url(#clip910)\" d=\"M2305.35 1517.37 Q2301.74 1517.37 2299.91 1520.93 Q2298.11 1524.47 2298.11 1531.6 Q2298.11 1538.71 2299.91 1542.27 Q2301.74 1545.82 2305.35 1545.82 Q2308.99 1545.82 2310.79 1542.27 Q2312.62 1538.71 2312.62 1531.6 Q2312.62 1524.47 2310.79 1520.93 Q2308.99 1517.37 2305.35 1517.37 M2305.35 1513.66 Q2311.16 1513.66 2314.22 1518.27 Q2317.3 1522.85 2317.3 1531.6 Q2317.3 1540.33 2314.22 1544.94 Q2311.16 1549.52 2305.35 1549.52 Q2299.54 1549.52 2296.46 1544.94 Q2293.41 1540.33 2293.41 1531.6 Q2293.41 1522.85 2296.46 1518.27 Q2299.54 1513.66 2305.35 1513.66 Z\" fill=\"#000000\" fill-rule=\"nonzero\" fill-opacity=\"1\" /><path clip-path=\"url(#clip910)\" d=\"M2335.51 1517.37 Q2331.9 1517.37 2330.07 1520.93 Q2328.27 1524.47 2328.27 1531.6 Q2328.27 1538.71 2330.07 1542.27 Q2331.9 1545.82 2335.51 1545.82 Q2339.15 1545.82 2340.95 1542.27 Q2342.78 1538.71 2342.78 1531.6 Q2342.78 1524.47 2340.95 1520.93 Q2339.15 1517.37 2335.51 1517.37 M2335.51 1513.66 Q2341.32 1513.66 2344.38 1518.27 Q2347.46 1522.85 2347.46 1531.6 Q2347.46 1540.33 2344.38 1544.94 Q2341.32 1549.52 2335.51 1549.52 Q2329.7 1549.52 2326.63 1544.94 Q2323.57 1540.33 2323.57 1531.6 Q2323.57 1522.85 2326.63 1518.27 Q2329.7 1513.66 2335.51 1513.66 Z\" fill=\"#000000\" fill-rule=\"nonzero\" fill-opacity=\"1\" /><polyline clip-path=\"url(#clip910)\" style=\"stroke:#000000; stroke-linecap:round; stroke-linejoin:round; stroke-width:4; stroke-opacity:1; fill:none\" points=\"181.785,1486.45 181.785,47.2441 \"/>\n",
       "<polyline clip-path=\"url(#clip910)\" style=\"stroke:#000000; stroke-linecap:round; stroke-linejoin:round; stroke-width:4; stroke-opacity:1; fill:none\" points=\"181.785,1080.55 200.682,1080.55 \"/>\n",
       "<polyline clip-path=\"url(#clip910)\" style=\"stroke:#000000; stroke-linecap:round; stroke-linejoin:round; stroke-width:4; stroke-opacity:1; fill:none\" points=\"181.785,485.909 200.682,485.909 \"/>\n",
       "<path clip-path=\"url(#clip910)\" d=\"M75.0791 1100.34 L82.7179 1100.34 L82.7179 1073.97 L74.4078 1075.64 L74.4078 1071.38 L82.6716 1069.72 L87.3475 1069.72 L87.3475 1100.34 L94.9864 1100.34 L94.9864 1104.28 L75.0791 1104.28 L75.0791 1100.34 Z\" fill=\"#000000\" fill-rule=\"nonzero\" fill-opacity=\"1\" /><path clip-path=\"url(#clip910)\" d=\"M114.431 1072.79 Q110.82 1072.79 108.991 1076.36 Q107.185 1079.9 107.185 1087.03 Q107.185 1094.14 108.991 1097.7 Q110.82 1101.24 114.431 1101.24 Q118.065 1101.24 119.871 1097.7 Q121.699 1094.14 121.699 1087.03 Q121.699 1079.9 119.871 1076.36 Q118.065 1072.79 114.431 1072.79 M114.431 1069.09 Q120.241 1069.09 123.296 1073.7 Q126.375 1078.28 126.375 1087.03 Q126.375 1095.76 123.296 1100.36 Q120.241 1104.95 114.431 1104.95 Q108.621 1104.95 105.542 1100.36 Q102.486 1095.76 102.486 1087.03 Q102.486 1078.28 105.542 1073.7 Q108.621 1069.09 114.431 1069.09 Z\" fill=\"#000000\" fill-rule=\"nonzero\" fill-opacity=\"1\" /><path clip-path=\"url(#clip910)\" d=\"M136.08 1051.29 Q133.146 1051.29 131.66 1054.18 Q130.193 1057.06 130.193 1062.85 Q130.193 1068.63 131.66 1071.52 Q133.146 1074.4 136.08 1074.4 Q139.033 1074.4 140.5 1071.52 Q141.986 1068.63 141.986 1062.85 Q141.986 1057.06 140.5 1054.18 Q139.033 1051.29 136.08 1051.29 M136.08 1048.28 Q140.801 1048.28 143.283 1052.02 Q145.785 1055.74 145.785 1062.85 Q145.785 1069.94 143.283 1073.69 Q140.801 1077.41 136.08 1077.41 Q131.359 1077.41 128.858 1073.69 Q126.375 1069.94 126.375 1062.85 Q126.375 1055.74 128.858 1052.02 Q131.359 1048.28 136.08 1048.28 Z\" fill=\"#000000\" fill-rule=\"nonzero\" fill-opacity=\"1\" /><path clip-path=\"url(#clip910)\" d=\"M51.6634 505.702 L59.3023 505.702 L59.3023 479.336 L50.9921 481.003 L50.9921 476.744 L59.256 475.077 L63.9319 475.077 L63.9319 505.702 L71.5707 505.702 L71.5707 509.637 L51.6634 509.637 L51.6634 505.702 Z\" fill=\"#000000\" fill-rule=\"nonzero\" fill-opacity=\"1\" /><path clip-path=\"url(#clip910)\" d=\"M91.0151 478.156 Q87.404 478.156 85.5753 481.721 Q83.7697 485.262 83.7697 492.392 Q83.7697 499.498 85.5753 503.063 Q87.404 506.605 91.0151 506.605 Q94.6493 506.605 96.4548 503.063 Q98.2835 499.498 98.2835 492.392 Q98.2835 485.262 96.4548 481.721 Q94.6493 478.156 91.0151 478.156 M91.0151 474.452 Q96.8252 474.452 99.8808 479.059 Q102.959 483.642 102.959 492.392 Q102.959 501.119 99.8808 505.725 Q96.8252 510.308 91.0151 510.308 Q85.2049 510.308 82.1262 505.725 Q79.0707 501.119 79.0707 492.392 Q79.0707 483.642 82.1262 479.059 Q85.2049 474.452 91.0151 474.452 Z\" fill=\"#000000\" fill-rule=\"nonzero\" fill-opacity=\"1\" /><path clip-path=\"url(#clip910)\" d=\"M107.53 479.029 L120.789 479.029 L120.789 482.227 L102.959 482.227 L102.959 479.029 Q105.122 476.791 108.846 473.03 Q112.589 469.249 113.548 468.158 Q115.373 466.108 116.087 464.698 Q116.821 463.268 116.821 461.895 Q116.821 459.657 115.241 458.247 Q113.68 456.836 111.16 456.836 Q109.373 456.836 107.379 457.457 Q105.404 458.077 103.148 459.338 L103.148 455.501 Q105.442 454.579 107.436 454.109 Q109.429 453.639 111.084 453.639 Q115.448 453.639 118.043 455.821 Q120.639 458.002 120.639 461.651 Q120.639 463.381 119.98 464.942 Q119.341 466.485 117.63 468.591 Q117.159 469.136 114.639 471.751 Q112.119 474.346 107.53 479.029 Z\" fill=\"#000000\" fill-rule=\"nonzero\" fill-opacity=\"1\" /><path clip-path=\"url(#clip910)\" d=\"M128.801 454.147 L143.716 454.147 L143.716 457.344 L132.281 457.344 L132.281 464.228 Q133.108 463.945 133.936 463.814 Q134.763 463.663 135.591 463.663 Q140.293 463.663 143.039 466.24 Q145.785 468.817 145.785 473.218 Q145.785 477.75 142.964 480.271 Q140.142 482.772 135.008 482.772 Q133.24 482.772 131.397 482.471 Q129.572 482.17 127.616 481.568 L127.616 477.75 Q129.309 478.672 131.115 479.123 Q132.92 479.575 134.933 479.575 Q138.186 479.575 140.086 477.863 Q141.986 476.152 141.986 473.218 Q141.986 470.284 140.086 468.572 Q138.186 466.861 134.933 466.861 Q133.409 466.861 131.886 467.199 Q130.381 467.538 128.801 468.252 L128.801 454.147 Z\" fill=\"#000000\" fill-rule=\"nonzero\" fill-opacity=\"1\" /><polyline clip-path=\"url(#clip912)\" style=\"stroke:#009af9; stroke-linecap:round; stroke-linejoin:round; stroke-width:4; stroke-opacity:1; fill:none\" points=\"243.227,1033.08 245.277,992.772 247.328,956.652 249.378,923.502 251.428,892.656 253.478,863.692 255.528,836.32 257.578,810.326 259.628,785.548 261.679,761.858 263.729,739.151 265.779,717.342 267.829,696.359 269.879,676.141 271.929,656.635 273.979,637.794 276.029,619.579 278.08,601.954 280.13,584.887 282.18,568.348 284.23,552.313 286.28,536.758 288.33,521.661 290.38,507.003 292.431,492.766 294.481,478.933 296.531,465.49 298.581,452.422 300.631,439.715 302.681,427.359 304.731,415.34 306.782,403.648 308.832,392.274 310.882,381.208 312.932,370.44 314.982,359.963 317.032,349.769 319.082,339.849 321.132,330.197 323.183,320.806 325.233,311.67 327.283,302.782 329.333,294.136 331.383,285.728 333.433,277.551 335.483,269.601 337.534,261.872 339.584,254.36 341.634,247.061 343.684,239.97 345.734,233.084 347.784,226.397 349.834,219.907 351.885,213.609 353.935,207.5 355.985,201.577 358.035,195.837 360.085,190.275 362.135,184.89 364.185,179.678 366.235,174.637 368.286,169.763 370.336,165.054 372.386,160.507 374.436,156.12 376.486,151.89 378.536,147.815 380.586,143.893 382.637,140.121 384.687,136.498 386.737,133.021 388.787,129.688 390.837,126.497 392.887,123.446 394.937,120.533 396.988,117.757 399.038,115.116 401.088,112.608 403.138,110.231 405.188,107.983 407.238,105.864 409.288,103.871 411.338,102.002 413.389,100.258 415.439,98.6348 417.489,97.1326 419.539,95.7494 421.589,94.484 423.639,93.335 425.689,92.3012 427.74,91.3812 429.79,90.5738 431.84,89.8779 433.89,89.2921 435.94,88.8154 437.99,88.4465 440.04,88.1844 442.091,88.0281 444.141,87.9763 446.191,88.0281 448.241,88.1824 450.291,88.4382 452.341,88.7945 454.391,89.2504 456.441,89.8049 458.492,90.4571 460.542,91.206 462.592,92.0508 464.642,92.9906 466.692,94.0244 468.742,95.1515 470.792,96.371 472.843,97.6821 474.893,99.084 476.943,100.576 478.993,102.157 481.043,103.826 483.093,105.584 485.143,107.428 487.194,109.358 489.244,111.374 491.294,113.475 493.344,115.66 495.394,117.928 497.444,120.279 499.494,122.712 501.544,125.227 503.595,127.822 505.645,130.498 507.695,133.253 509.745,136.087 511.795,139 513.845,141.99 515.895,145.057 517.946,148.202 519.996,151.422 522.046,154.717 524.096,158.088 526.146,161.533 528.196,165.052 530.246,168.644 532.297,172.309 534.347,176.046 536.397,179.855 538.447,183.736 540.497,187.687 542.547,191.709 544.597,195.8 546.647,199.961 548.698,204.191 550.748,208.489 552.798,212.855 554.848,217.289 556.898,221.79 558.948,226.358 560.998,230.992 563.049,235.692 565.099,240.457 567.149,245.287 569.199,250.182 571.249,255.141 573.299,260.164 575.349,265.25 577.4,270.4 579.45,275.612 581.5,280.886 583.55,286.222 585.6,291.62 587.65,297.079 589.7,302.598 591.75,308.178 593.801,313.818 595.851,319.518 597.901,325.278 599.951,331.096 602.001,336.973 604.051,342.909 606.101,348.902 608.152,354.954 610.202,361.062 612.252,367.228 614.302,373.45 616.352,379.731 618.402,386.063 620.452,392.46 622.502,398.895 624.553,405.419 626.603,411.935 628.653,418.623 630.703,425.145 632.753,432.142 634.803,438.388 636.853,446.262 638.904,451.198 640.954,462.348 643.004,462.228 645.054,510.473 647.104,469.38 649.154,476.789 651.204,472.434 653.255,474.373 655.305,473.368 657.355,473.851 659.405,473.611 661.455,473.727 663.505,473.671 665.555,473.698 667.605,473.685 669.656,473.691 671.706,473.688 673.756,473.69 675.806,473.689 677.856,473.689 679.906,473.689 681.956,473.689 684.007,473.689 686.057,473.689 688.107,473.689 690.157,473.689 692.207,473.689 694.257,473.689 696.307,473.689 698.358,473.689 700.408,473.689 702.458,473.689 704.508,473.689 706.558,473.689 708.608,473.689 710.658,473.689 712.708,473.689 714.759,473.689 716.809,473.689 718.859,473.689 720.909,473.689 722.959,473.689 725.009,473.689 727.059,473.689 729.11,473.689 731.16,473.689 733.21,473.689 735.26,473.689 737.31,473.689 739.36,473.689 741.41,473.689 743.461,473.689 745.511,473.689 747.561,473.689 749.611,473.689 751.661,473.689 753.711,473.689 755.761,473.689 757.811,473.689 759.862,473.689 761.912,473.689 763.962,473.689 766.012,473.689 768.062,473.689 770.112,473.689 772.162,473.689 774.213,473.689 776.263,473.689 778.313,473.689 780.363,473.689 782.413,473.689 784.463,473.689 786.513,473.689 788.564,473.689 790.614,473.689 792.664,473.689 794.714,473.689 796.764,473.689 798.814,473.689 800.864,473.689 802.914,473.689 804.965,473.689 807.015,473.689 809.065,473.689 811.115,473.689 813.165,473.689 815.215,473.689 817.265,473.689 819.316,473.689 821.366,473.689 823.416,473.689 825.466,473.689 827.516,473.689 829.566,473.689 831.616,473.689 833.667,473.689 835.717,473.689 837.767,473.689 839.817,473.689 841.867,473.689 843.917,473.689 845.967,473.689 848.017,473.689 850.068,473.689 852.118,473.689 854.168,473.689 856.218,473.689 858.268,473.689 860.318,473.689 862.368,473.689 864.419,473.689 866.469,473.689 868.519,473.689 870.569,473.689 872.619,473.689 874.669,473.689 876.719,473.689 878.77,473.689 880.82,473.689 882.87,473.689 884.92,473.689 886.97,473.689 889.02,473.689 891.07,473.689 893.12,473.689 895.171,473.689 897.221,473.689 899.271,473.689 901.321,473.689 903.371,473.689 905.421,473.689 907.471,473.689 909.522,473.689 911.572,473.689 913.622,473.689 915.672,473.689 917.722,473.689 919.772,473.689 921.822,473.689 923.873,473.689 925.923,473.689 927.973,473.689 930.023,473.689 932.073,473.689 934.123,473.689 936.173,473.689 938.223,473.689 940.274,473.689 942.324,473.689 944.374,473.689 946.424,473.689 948.474,473.689 950.524,473.689 952.574,473.689 954.625,473.689 956.675,473.689 958.725,473.689 960.775,473.689 962.825,473.689 964.875,473.689 966.925,473.689 968.976,473.689 971.026,473.689 973.076,473.689 975.126,473.689 977.176,473.689 979.226,473.689 981.276,473.689 983.326,473.689 985.377,473.689 987.427,473.689 989.477,473.689 991.527,473.689 993.577,473.689 995.627,473.689 997.677,473.689 999.728,473.689 1001.78,473.689 1003.83,473.689 1005.88,473.689 1007.93,473.689 1009.98,473.689 1012.03,473.689 1014.08,473.689 1016.13,473.689 1018.18,473.689 1020.23,473.689 1022.28,473.689 1024.33,473.689 1026.38,473.689 1028.43,473.689 1030.48,473.689 1032.53,473.689 1034.58,473.689 1036.63,473.689 1038.68,473.689 1040.73,473.689 1042.78,473.689 1044.83,473.689 1046.88,473.689 1048.93,473.689 1050.98,473.689 1053.03,473.689 1055.08,473.689 1057.13,473.689 1059.18,473.689 1061.23,473.689 1063.28,473.689 1065.33,473.689 1067.38,473.689 1069.43,473.689 1071.48,473.689 1073.53,473.689 1075.58,473.689 1077.63,473.689 1079.68,473.689 1081.73,473.689 1083.78,473.689 1085.83,473.689 1087.88,473.689 1089.93,473.689 1091.98,473.689 1094.03,473.689 1096.08,473.689 1098.13,473.689 1100.18,473.689 1102.23,473.689 1104.28,473.689 1106.33,473.689 1108.38,473.689 1110.43,473.689 1112.49,473.689 1114.54,473.689 1116.59,473.689 1118.64,473.689 1120.69,473.689 1122.74,473.689 1124.79,473.689 1126.84,473.689 1128.89,473.689 1130.94,473.689 1132.99,473.689 1135.04,473.689 1137.09,473.689 1139.14,473.689 1141.19,473.689 1143.24,473.689 1145.29,473.689 1147.34,473.689 1149.39,473.689 1151.44,473.689 1153.49,473.689 1155.54,473.689 1157.59,473.689 1159.64,473.689 1161.69,473.689 1163.74,473.689 1165.79,473.689 1167.84,473.689 1169.89,473.689 1171.94,473.689 1173.99,473.689 1176.04,473.689 1178.09,473.689 1180.14,473.689 1182.19,473.689 1184.24,473.689 1186.29,473.689 1188.34,473.689 1190.39,473.689 1192.44,473.689 1194.49,473.689 1196.54,473.689 1198.59,473.689 1200.64,473.689 1202.69,473.689 1204.74,473.689 1206.79,473.689 1208.84,473.689 1210.89,473.689 1212.94,473.689 1214.99,473.689 1217.04,473.689 1219.09,473.689 1221.14,473.689 1223.19,473.689 1225.24,473.689 1227.29,473.689 1229.34,473.689 1231.39,473.689 1233.44,473.689 1235.49,473.689 1237.54,473.689 1239.59,473.689 1241.64,473.689 1243.69,473.689 1245.74,473.689 1247.79,473.689 1249.84,473.689 1251.89,473.689 1253.94,473.689 1255.99,473.689 1258.04,473.689 1260.09,473.689 1262.14,473.689 1264.2,473.689 1266.25,473.689 1268.3,473.689 1270.35,473.689 1272.4,473.689 1274.45,473.689 1276.5,473.689 1278.55,473.689 1280.6,473.689 1282.65,473.689 1284.7,473.689 1286.75,473.689 1288.8,473.689 1290.85,473.689 1292.9,473.689 1294.95,473.689 1297,473.689 1299.05,473.689 1301.1,473.689 1303.15,473.689 1305.2,473.689 1307.25,473.689 1309.3,473.689 1311.35,473.689 1313.4,473.689 1315.45,473.689 1317.5,473.689 1319.55,473.689 1321.6,473.689 1323.65,473.689 1325.7,473.689 1327.75,473.689 1329.8,473.689 1331.85,473.689 1333.9,473.689 1335.95,473.689 1338,473.689 1340.05,473.689 1342.1,473.689 1344.15,473.689 1346.2,473.689 1348.25,473.689 1350.3,473.689 1352.35,473.689 1354.4,473.689 1356.45,473.689 1358.5,473.689 1360.55,473.689 1362.6,473.689 1364.65,473.689 1366.7,473.689 1368.75,473.689 1370.8,473.689 1372.85,473.689 1374.9,473.689 1376.95,473.689 1379,473.689 1381.05,473.689 1383.1,473.689 1385.15,473.689 1387.2,473.689 1389.25,473.689 1391.3,473.689 1393.35,473.689 1395.4,473.689 1397.45,473.689 1399.5,473.689 1401.55,473.689 1403.6,473.689 1405.65,473.689 1407.7,473.689 1409.75,473.689 1411.8,473.689 1413.86,473.689 1415.91,473.689 1417.96,473.689 1420.01,473.689 1422.06,473.689 1424.11,473.689 1426.16,473.689 1428.21,473.689 1430.26,473.689 1432.31,473.689 1434.36,473.689 1436.41,473.689 1438.46,473.689 1440.51,473.689 1442.56,473.689 1444.61,473.689 1446.66,473.689 1448.71,473.689 1450.76,473.689 1452.81,473.689 1454.86,473.689 1456.91,473.689 1458.96,473.689 1461.01,473.689 1463.06,473.689 1465.11,473.689 1467.16,473.689 1469.21,473.689 1471.26,473.689 1473.31,473.689 1475.36,473.689 1477.41,473.689 1479.46,473.689 1481.51,473.689 1483.56,473.689 1485.61,473.689 1487.66,473.689 1489.71,473.689 1491.76,473.689 1493.81,473.689 1495.86,473.689 1497.91,473.689 1499.96,473.689 1502.01,473.689 1504.06,473.689 1506.11,473.689 1508.16,473.689 1510.21,473.689 1512.26,473.689 1514.31,473.689 1516.36,473.689 1518.41,473.689 1520.46,473.689 1522.51,473.689 1524.56,473.689 1526.61,473.689 1528.66,473.689 1530.71,473.689 1532.76,473.689 1534.81,473.689 1536.86,473.689 1538.91,473.689 1540.96,473.689 1543.01,473.689 1545.06,473.689 1547.11,473.689 1549.16,473.689 1551.21,473.689 1553.26,473.689 1555.31,473.689 1557.36,473.689 1559.41,473.689 1561.46,473.689 1563.51,473.689 1565.57,473.689 1567.62,473.689 1569.67,473.689 1571.72,473.689 1573.77,473.689 1575.82,473.689 1577.87,473.689 1579.92,473.689 1581.97,473.689 1584.02,473.689 1586.07,473.689 1588.12,473.689 1590.17,473.689 1592.22,473.689 1594.27,473.689 1596.32,473.689 1598.37,473.689 1600.42,473.689 1602.47,473.689 1604.52,473.689 1606.57,473.689 1608.62,473.689 1610.67,473.689 1612.72,473.689 1614.77,473.689 1616.82,473.689 1618.87,473.689 1620.92,473.689 1622.97,473.689 1625.02,473.689 1627.07,473.689 1629.12,473.689 1631.17,473.689 1633.22,473.689 1635.27,473.689 1637.32,473.689 1639.37,473.689 1641.42,473.689 1643.47,473.689 1645.52,473.689 1647.57,473.689 1649.62,473.689 1651.67,473.689 1653.72,473.689 1655.77,473.689 1657.82,473.689 1659.87,473.689 1661.92,473.689 1663.97,473.689 1666.02,473.689 1668.07,473.689 1670.12,473.689 1672.17,473.689 1674.22,473.689 1676.27,473.689 1678.32,473.689 1680.37,473.689 1682.42,473.689 1684.47,473.689 1686.52,473.689 1688.57,473.689 1690.62,473.689 1692.67,473.689 1694.72,473.689 1696.77,473.689 1698.82,473.689 1700.87,473.689 1702.92,473.689 1704.97,473.689 1707.02,473.689 1709.07,473.689 1711.12,473.689 1713.17,473.689 1715.23,473.689 1717.28,473.689 1719.33,473.689 1721.38,473.689 1723.43,473.689 1725.48,473.689 1727.53,473.689 1729.58,473.689 1731.63,473.689 1733.68,473.689 1735.73,473.689 1737.78,473.689 1739.83,473.689 1741.88,473.689 1743.93,473.689 1745.98,473.689 1748.03,473.689 1750.08,473.689 1752.13,473.689 1754.18,473.689 1756.23,473.689 1758.28,473.689 1760.33,473.689 1762.38,473.689 1764.43,473.689 1766.48,473.689 1768.53,473.689 1770.58,473.689 1772.63,473.689 1774.68,473.689 1776.73,473.689 1778.78,473.689 1780.83,473.689 1782.88,473.689 1784.93,473.689 1786.98,473.689 1789.03,473.689 1791.08,473.689 1793.13,473.689 1795.18,473.689 1797.23,473.689 1799.28,473.689 1801.33,473.689 1803.38,473.689 1805.43,473.689 1807.48,473.689 1809.53,473.689 1811.58,473.689 1813.63,473.689 1815.68,473.689 1817.73,473.689 1819.78,473.689 1821.83,473.689 1823.88,473.689 1825.93,473.689 1827.98,473.689 1830.03,473.689 1832.08,473.689 1834.13,473.689 1836.18,473.689 1838.23,473.689 1840.28,473.689 1842.33,473.689 1844.38,473.689 1846.43,473.689 1848.48,473.689 1850.53,473.689 1852.58,473.689 1854.63,473.689 1856.68,473.689 1858.73,473.689 1860.78,473.689 1862.83,473.689 1864.89,473.689 1866.94,473.689 1868.99,473.689 1871.04,473.689 1873.09,473.689 1875.14,473.689 1877.19,473.689 1879.24,473.689 1881.29,473.689 1883.34,473.689 1885.39,473.689 1887.44,473.689 1889.49,473.689 1891.54,473.689 1893.59,473.689 1895.64,473.689 1897.69,473.689 1899.74,473.689 1901.79,473.689 1903.84,473.689 1905.89,473.689 1907.94,473.689 1909.99,473.689 1912.04,473.689 1914.09,473.689 1916.14,473.689 1918.19,473.689 1920.24,473.689 1922.29,473.689 1924.34,473.689 1926.39,473.689 1928.44,473.689 1930.49,473.689 1932.54,473.689 1934.59,473.689 1936.64,473.689 1938.69,473.689 1940.74,473.689 1942.79,473.689 1944.84,473.689 1946.89,473.689 1948.94,473.689 1950.99,473.689 1953.04,473.689 1955.09,473.689 1957.14,473.689 1959.19,473.689 1961.24,473.689 1963.29,473.689 1965.34,473.689 1967.39,473.689 1969.44,473.689 1971.49,473.689 1973.54,473.689 1975.59,473.689 1977.64,473.689 1979.69,473.689 1981.74,473.689 1983.79,473.689 1985.84,473.689 1987.89,473.689 1989.94,473.689 1991.99,473.689 1994.04,473.689 1996.09,473.689 1998.14,473.689 2000.19,473.689 2002.24,473.689 2004.29,473.689 2006.34,473.689 2008.39,473.689 2010.44,473.689 2012.49,473.689 2014.54,473.689 2016.6,473.689 2018.65,473.689 2020.7,473.689 2022.75,473.689 2024.8,473.689 2026.85,473.689 2028.9,473.689 2030.95,473.689 2033,473.689 2035.05,473.689 2037.1,473.689 2039.15,473.689 2041.2,473.689 2043.25,473.689 2045.3,473.689 2047.35,473.689 2049.4,473.689 2051.45,473.689 2053.5,473.689 2055.55,473.689 2057.6,473.689 2059.65,473.689 2061.7,473.689 2063.75,473.689 2065.8,473.689 2067.85,473.689 2069.9,473.689 2071.95,473.689 2074,473.689 2076.05,473.689 2078.1,473.689 2080.15,473.689 2082.2,473.689 2084.25,473.689 2086.3,473.689 2088.35,473.689 2090.4,473.689 2092.45,473.689 2094.5,473.689 2096.55,473.689 2098.6,473.689 2100.65,473.689 2102.7,473.689 2104.75,473.689 2106.8,473.689 2108.85,473.689 2110.9,473.689 2112.95,473.689 2115,473.689 2117.05,473.689 2119.1,473.689 2121.15,473.689 2123.2,473.689 2125.25,473.689 2127.3,473.689 2129.35,473.689 2131.4,473.689 2133.45,473.689 2135.5,473.689 2137.55,473.689 2139.6,473.689 2141.65,473.689 2143.7,473.689 2145.75,473.689 2147.8,473.689 2149.85,473.689 2151.9,473.689 2153.95,473.689 2156,473.689 2158.05,473.689 2160.1,473.689 2162.15,473.689 2164.2,473.689 2166.26,473.689 2168.31,473.689 2170.36,473.689 2172.41,473.689 2174.46,473.689 2176.51,473.689 2178.56,473.689 2180.61,473.689 2182.66,473.689 2184.71,473.689 2186.76,473.689 2188.81,473.689 2190.86,473.689 2192.91,473.689 2194.96,473.689 2197.01,473.689 2199.06,473.689 2201.11,473.689 2203.16,473.689 2205.21,473.689 2207.26,473.689 2209.31,473.689 2211.36,473.689 2213.41,473.689 2215.46,473.689 2217.51,473.689 2219.56,473.689 2221.61,473.689 2223.66,473.689 2225.71,473.689 2227.76,473.689 2229.81,473.689 2231.86,473.689 2233.91,473.689 2235.96,473.689 2238.01,473.689 2240.06,473.689 2242.11,473.689 2244.16,473.689 2246.21,473.689 2248.26,473.689 2250.31,473.689 2252.36,473.689 2254.41,473.689 2256.46,473.689 2258.51,473.689 2260.56,473.689 2262.61,473.689 2264.66,473.689 2266.71,473.689 2268.76,473.689 2270.81,473.689 2272.86,473.689 2274.91,473.689 2276.96,473.689 2279.01,473.689 2281.06,473.689 2283.11,473.689 2285.16,473.689 2287.21,473.689 2289.26,473.689 2291.31,473.689 \"/>\n",
       "<polyline clip-path=\"url(#clip912)\" style=\"stroke:#e26f46; stroke-linecap:round; stroke-linejoin:round; stroke-width:4; stroke-opacity:1; fill:none\" points=\"243.227,1083.97 245.277,1096.27 247.328,1111.16 249.378,1128.17 251.428,1146.95 253.478,1167.25 255.528,1188.89 257.578,1211.71 259.628,1235.6 261.679,1260.45 263.729,1286.19 265.779,1312.75 267.829,1340.06 269.879,1368.09 271.929,1396.88 273.979,1429.09 276.029,1445.72 278.08,1445.72 280.13,1445.72 282.18,1445.72 284.23,1445.72 286.28,1445.72 288.33,1445.72 290.38,1445.72 292.431,1445.72 294.481,1445.72 296.531,1445.72 298.581,1445.72 300.631,1445.72 302.681,1445.72 304.731,1445.72 306.782,1445.72 308.832,1445.72 310.882,1445.72 312.932,1445.72 314.982,1445.72 317.032,1445.72 319.082,1445.72 321.132,1445.72 323.183,1445.72 325.233,1445.72 327.283,1445.72 329.333,1445.72 331.383,1445.72 333.433,1445.72 335.483,1445.72 337.534,1445.72 339.584,1445.72 341.634,1445.72 343.684,1445.72 345.734,1445.72 347.784,1445.72 349.834,1445.72 351.885,1445.72 353.935,1445.72 355.985,1445.72 358.035,1445.72 360.085,1445.72 362.135,1445.72 364.185,1445.72 366.235,1445.72 368.286,1445.72 370.336,1445.72 372.386,1445.72 374.436,1445.72 376.486,1445.72 378.536,1445.72 380.586,1445.72 382.637,1445.72 384.687,1445.72 386.737,1445.72 388.787,1445.72 390.837,1445.72 392.887,1445.72 394.937,1445.72 396.988,1445.72 399.038,1445.72 401.088,1445.72 403.138,1445.72 405.188,1445.72 407.238,1445.72 409.288,1445.72 411.338,1445.72 413.389,1445.72 415.439,1445.72 417.489,1445.72 419.539,1445.72 421.589,1445.72 423.639,1445.72 425.689,1445.72 427.74,1445.72 429.79,1445.72 431.84,1445.72 433.89,1445.72 435.94,1445.72 437.99,1445.72 440.04,1445.72 442.091,1445.72 444.141,1445.72 446.191,1445.72 448.241,1445.72 450.291,1445.72 452.341,1445.72 454.391,1445.72 456.441,1445.72 458.492,1445.72 460.542,1445.72 462.592,1445.72 464.642,1445.72 466.692,1445.72 468.742,1445.72 470.792,1445.72 472.843,1445.72 474.893,1445.72 476.943,1445.72 478.993,1445.72 481.043,1445.72 483.093,1445.72 485.143,1445.72 487.194,1445.72 489.244,1445.72 491.294,1445.72 493.344,1445.72 495.394,1445.72 497.444,1445.72 499.494,1445.72 501.544,1445.72 503.595,1445.72 505.645,1445.72 507.695,1445.72 509.745,1445.72 511.795,1445.72 513.845,1445.72 515.895,1445.72 517.946,1445.72 519.996,1445.72 522.046,1445.72 524.096,1445.72 526.146,1445.72 528.196,1445.72 530.246,1445.72 532.297,1445.72 534.347,1445.72 536.397,1445.72 538.447,1445.72 540.497,1445.72 542.547,1445.72 544.597,1445.72 546.647,1445.72 548.698,1445.72 550.748,1445.72 552.798,1445.72 554.848,1445.72 556.898,1445.72 558.948,1445.72 560.998,1445.72 563.049,1445.72 565.099,1445.72 567.149,1445.72 569.199,1445.72 571.249,1445.72 573.299,1445.72 575.349,1445.72 577.4,1445.72 579.45,1445.72 581.5,1445.72 583.55,1445.72 585.6,1445.72 587.65,1445.72 589.7,1445.72 591.75,1445.72 593.801,1445.72 595.851,1445.72 597.901,1445.72 599.951,1445.72 602.001,1445.72 604.051,1445.72 606.101,1445.72 608.152,1445.72 610.202,1445.72 612.252,1445.72 614.302,1445.72 616.352,1445.72 618.402,1445.72 620.452,1445.72 622.502,1445.72 624.553,1445.72 626.603,1445.72 628.653,1445.72 630.703,1445.72 632.753,1445.72 634.803,1445.72 636.853,1445.72 638.904,1445.72 640.954,1445.72 643.004,1445.72 645.054,1445.72 647.104,1445.72 649.154,1445.72 651.204,1445.72 653.255,1445.72 655.305,1445.72 657.355,1445.72 659.405,1445.72 661.455,1445.72 663.505,1445.72 665.555,1445.72 667.605,1445.72 669.656,1445.72 671.706,1445.72 673.756,1445.72 675.806,1445.72 677.856,1445.72 679.906,1445.72 681.956,1445.72 684.007,1445.72 686.057,1445.72 688.107,1445.72 690.157,1445.72 692.207,1445.72 694.257,1445.72 696.307,1445.72 698.358,1445.72 700.408,1445.72 702.458,1445.72 704.508,1445.72 706.558,1445.72 708.608,1445.72 710.658,1445.72 712.708,1445.72 714.759,1445.72 716.809,1445.72 718.859,1445.72 720.909,1445.72 722.959,1445.72 725.009,1445.72 727.059,1445.72 729.11,1445.72 731.16,1445.72 733.21,1445.72 735.26,1445.72 737.31,1445.72 739.36,1445.72 741.41,1445.72 743.461,1445.72 745.511,1445.72 747.561,1445.72 749.611,1445.72 751.661,1445.72 753.711,1445.72 755.761,1445.72 757.811,1445.72 759.862,1445.72 761.912,1445.72 763.962,1445.72 766.012,1445.72 768.062,1445.72 770.112,1445.72 772.162,1445.72 774.213,1445.72 776.263,1445.72 778.313,1445.72 780.363,1445.72 782.413,1445.72 784.463,1445.72 786.513,1445.72 788.564,1445.72 790.614,1445.72 792.664,1445.72 794.714,1445.72 796.764,1445.72 798.814,1445.72 800.864,1445.72 802.914,1445.72 804.965,1445.72 807.015,1445.72 809.065,1445.72 811.115,1445.72 813.165,1445.72 815.215,1445.72 817.265,1445.72 819.316,1445.72 821.366,1445.72 823.416,1445.72 825.466,1445.72 827.516,1445.72 829.566,1445.72 831.616,1445.72 833.667,1445.72 835.717,1445.72 837.767,1445.72 839.817,1445.72 841.867,1445.72 843.917,1445.72 845.967,1445.72 848.017,1445.72 850.068,1445.72 852.118,1445.72 854.168,1445.72 856.218,1445.72 858.268,1445.72 860.318,1445.72 862.368,1445.72 864.419,1445.72 866.469,1445.72 868.519,1445.72 870.569,1445.72 872.619,1445.72 874.669,1445.72 876.719,1445.72 878.77,1445.72 880.82,1445.72 882.87,1445.72 884.92,1445.72 886.97,1445.72 889.02,1445.72 891.07,1445.72 893.12,1445.72 895.171,1445.72 897.221,1445.72 899.271,1445.72 901.321,1445.72 903.371,1445.72 905.421,1445.72 907.471,1445.72 909.522,1445.72 911.572,1445.72 913.622,1445.72 915.672,1445.72 917.722,1445.72 919.772,1445.72 921.822,1445.72 923.873,1445.72 925.923,1445.72 927.973,1445.72 930.023,1445.72 932.073,1445.72 934.123,1445.72 936.173,1445.72 938.223,1445.72 940.274,1445.72 942.324,1445.72 944.374,1445.72 946.424,1445.72 948.474,1445.72 950.524,1445.72 952.574,1445.72 954.625,1445.72 956.675,1445.72 958.725,1445.72 960.775,1445.72 962.825,1445.72 964.875,1445.72 966.925,1445.72 968.976,1445.72 971.026,1445.72 973.076,1445.72 975.126,1445.72 977.176,1445.72 979.226,1445.72 981.276,1445.72 983.326,1445.72 985.377,1445.72 987.427,1445.72 989.477,1445.72 991.527,1445.72 993.577,1445.72 995.627,1445.72 997.677,1445.72 999.728,1445.72 1001.78,1445.72 1003.83,1445.72 1005.88,1445.72 1007.93,1445.72 1009.98,1445.72 1012.03,1445.72 1014.08,1445.72 1016.13,1445.72 1018.18,1445.72 1020.23,1445.72 1022.28,1445.72 1024.33,1445.72 1026.38,1445.72 1028.43,1445.72 1030.48,1445.72 1032.53,1445.72 1034.58,1445.72 1036.63,1445.72 1038.68,1445.72 1040.73,1445.72 1042.78,1445.72 1044.83,1445.72 1046.88,1445.72 1048.93,1445.72 1050.98,1445.72 1053.03,1445.72 1055.08,1445.72 1057.13,1445.72 1059.18,1445.72 1061.23,1445.72 1063.28,1445.72 1065.33,1445.72 1067.38,1445.72 1069.43,1445.72 1071.48,1445.72 1073.53,1445.72 1075.58,1445.72 1077.63,1445.72 1079.68,1445.72 1081.73,1445.72 1083.78,1445.72 1085.83,1445.72 1087.88,1445.72 1089.93,1445.72 1091.98,1445.72 1094.03,1445.72 1096.08,1445.72 1098.13,1445.72 1100.18,1445.72 1102.23,1445.72 1104.28,1445.72 1106.33,1445.72 1108.38,1445.72 1110.43,1445.72 1112.49,1445.72 1114.54,1445.72 1116.59,1445.72 1118.64,1445.72 1120.69,1445.72 1122.74,1445.72 1124.79,1445.72 1126.84,1445.72 1128.89,1445.72 1130.94,1445.72 1132.99,1445.72 1135.04,1445.72 1137.09,1445.72 1139.14,1445.72 1141.19,1445.72 1143.24,1445.72 1145.29,1445.72 1147.34,1445.72 1149.39,1445.72 1151.44,1445.72 1153.49,1445.72 1155.54,1445.72 1157.59,1445.72 1159.64,1445.72 1161.69,1445.72 1163.74,1445.72 1165.79,1445.72 1167.84,1445.72 1169.89,1445.72 1171.94,1445.72 1173.99,1445.72 1176.04,1445.72 1178.09,1445.72 1180.14,1445.72 1182.19,1445.72 1184.24,1445.72 1186.29,1445.72 1188.34,1445.72 1190.39,1445.72 1192.44,1445.72 1194.49,1445.72 1196.54,1445.72 1198.59,1445.72 1200.64,1445.72 1202.69,1445.72 1204.74,1445.72 1206.79,1445.72 1208.84,1445.72 1210.89,1445.72 1212.94,1445.72 1214.99,1445.72 1217.04,1445.72 1219.09,1445.72 1221.14,1445.72 1223.19,1445.72 1225.24,1445.72 1227.29,1445.72 1229.34,1445.72 1231.39,1445.72 1233.44,1445.72 1235.49,1445.72 1237.54,1445.72 1239.59,1445.72 1241.64,1445.72 1243.69,1445.72 1245.74,1445.72 1247.79,1445.72 1249.84,1445.72 1251.89,1445.72 1253.94,1445.72 1255.99,1445.72 1258.04,1445.72 1260.09,1445.72 1262.14,1445.72 1264.2,1445.72 1266.25,1445.72 1268.3,1445.72 1270.35,1445.72 1272.4,1445.72 1274.45,1445.72 1276.5,1445.72 1278.55,1445.72 1280.6,1445.72 1282.65,1445.72 1284.7,1445.72 1286.75,1445.72 1288.8,1445.72 1290.85,1445.72 1292.9,1445.72 1294.95,1445.72 1297,1445.72 1299.05,1445.72 1301.1,1445.72 1303.15,1445.72 1305.2,1445.72 1307.25,1445.72 1309.3,1445.72 1311.35,1445.72 1313.4,1445.72 1315.45,1445.72 1317.5,1445.72 1319.55,1445.72 1321.6,1445.72 1323.65,1445.72 1325.7,1445.72 1327.75,1445.72 1329.8,1445.72 1331.85,1445.72 1333.9,1445.72 1335.95,1445.72 1338,1445.72 1340.05,1445.72 1342.1,1445.72 1344.15,1445.72 1346.2,1445.72 1348.25,1445.72 1350.3,1445.72 1352.35,1445.72 1354.4,1445.72 1356.45,1445.72 1358.5,1445.72 1360.55,1445.72 1362.6,1445.72 1364.65,1445.72 1366.7,1445.72 1368.75,1445.72 1370.8,1445.72 1372.85,1445.72 1374.9,1445.72 1376.95,1445.72 1379,1445.72 1381.05,1445.72 1383.1,1445.72 1385.15,1445.72 1387.2,1445.72 1389.25,1445.72 1391.3,1445.72 1393.35,1445.72 1395.4,1445.72 1397.45,1445.72 1399.5,1445.72 1401.55,1445.72 1403.6,1445.72 1405.65,1445.72 1407.7,1445.72 1409.75,1445.72 1411.8,1445.72 1413.86,1445.72 1415.91,1445.72 1417.96,1445.72 1420.01,1445.72 1422.06,1445.72 1424.11,1445.72 1426.16,1445.72 1428.21,1445.72 1430.26,1445.72 1432.31,1445.72 1434.36,1445.72 1436.41,1445.72 1438.46,1445.72 1440.51,1445.72 1442.56,1445.72 1444.61,1445.72 1446.66,1445.72 1448.71,1445.72 1450.76,1445.72 1452.81,1445.72 1454.86,1445.72 1456.91,1445.72 1458.96,1445.72 1461.01,1445.72 1463.06,1445.72 1465.11,1445.72 1467.16,1445.72 1469.21,1445.72 1471.26,1445.72 1473.31,1445.72 1475.36,1445.72 1477.41,1445.72 1479.46,1445.72 1481.51,1445.72 1483.56,1445.72 1485.61,1445.72 1487.66,1445.72 1489.71,1445.72 1491.76,1445.72 1493.81,1445.72 1495.86,1445.72 1497.91,1445.72 1499.96,1445.72 1502.01,1445.72 1504.06,1445.72 1506.11,1445.72 1508.16,1445.72 1510.21,1445.72 1512.26,1445.72 1514.31,1445.72 1516.36,1445.72 1518.41,1445.72 1520.46,1445.72 1522.51,1445.72 1524.56,1445.72 1526.61,1445.72 1528.66,1445.72 1530.71,1445.72 1532.76,1445.72 1534.81,1445.72 1536.86,1445.72 1538.91,1445.72 1540.96,1445.72 1543.01,1445.72 1545.06,1445.72 1547.11,1445.72 1549.16,1445.72 1551.21,1445.72 1553.26,1445.72 1555.31,1445.72 1557.36,1445.72 1559.41,1445.72 1561.46,1445.72 1563.51,1445.72 1565.57,1445.72 1567.62,1445.72 1569.67,1445.72 1571.72,1445.72 1573.77,1445.72 1575.82,1445.72 1577.87,1445.72 1579.92,1445.72 1581.97,1445.72 1584.02,1445.72 1586.07,1445.72 1588.12,1445.72 1590.17,1445.72 1592.22,1445.72 1594.27,1445.72 1596.32,1445.72 1598.37,1445.72 1600.42,1445.72 1602.47,1445.72 1604.52,1445.72 1606.57,1445.72 1608.62,1445.72 1610.67,1445.72 1612.72,1445.72 1614.77,1445.72 1616.82,1445.72 1618.87,1445.72 1620.92,1445.72 1622.97,1445.72 1625.02,1445.72 1627.07,1445.72 1629.12,1445.72 1631.17,1445.72 1633.22,1445.72 1635.27,1445.72 1637.32,1445.72 1639.37,1445.72 1641.42,1445.72 1643.47,1445.72 1645.52,1445.72 1647.57,1445.72 1649.62,1445.72 1651.67,1445.72 1653.72,1445.72 1655.77,1445.72 1657.82,1445.72 1659.87,1445.72 1661.92,1445.72 1663.97,1445.72 1666.02,1445.72 1668.07,1445.72 1670.12,1445.72 1672.17,1445.72 1674.22,1445.72 1676.27,1445.72 1678.32,1445.72 1680.37,1445.72 1682.42,1445.72 1684.47,1445.72 1686.52,1445.72 1688.57,1445.72 1690.62,1445.72 1692.67,1445.72 1694.72,1445.72 1696.77,1445.72 1698.82,1445.72 1700.87,1445.72 1702.92,1445.72 1704.97,1445.72 1707.02,1445.72 1709.07,1445.72 1711.12,1445.72 1713.17,1445.72 1715.23,1445.72 1717.28,1445.72 1719.33,1445.72 1721.38,1445.72 1723.43,1445.72 1725.48,1445.72 1727.53,1445.72 1729.58,1445.72 1731.63,1445.72 1733.68,1445.72 1735.73,1445.72 1737.78,1445.72 1739.83,1445.72 1741.88,1445.72 1743.93,1445.72 1745.98,1445.72 1748.03,1445.72 1750.08,1445.72 1752.13,1445.72 1754.18,1445.72 1756.23,1445.72 1758.28,1445.72 1760.33,1445.72 1762.38,1445.72 1764.43,1445.72 1766.48,1445.72 1768.53,1445.72 1770.58,1445.72 1772.63,1445.72 1774.68,1445.72 1776.73,1445.72 1778.78,1445.72 1780.83,1445.72 1782.88,1445.72 1784.93,1445.72 1786.98,1445.72 1789.03,1445.72 1791.08,1445.72 1793.13,1445.72 1795.18,1445.72 1797.23,1445.72 1799.28,1445.72 1801.33,1445.72 1803.38,1445.72 1805.43,1445.72 1807.48,1445.72 1809.53,1445.72 1811.58,1445.72 1813.63,1445.72 1815.68,1445.72 1817.73,1445.72 1819.78,1445.72 1821.83,1445.72 1823.88,1445.72 1825.93,1445.72 1827.98,1445.72 1830.03,1445.72 1832.08,1445.72 1834.13,1445.72 1836.18,1445.72 1838.23,1445.72 1840.28,1445.72 1842.33,1445.72 1844.38,1445.72 1846.43,1445.72 1848.48,1445.72 1850.53,1445.72 1852.58,1445.72 1854.63,1445.72 1856.68,1445.72 1858.73,1445.72 1860.78,1445.72 1862.83,1445.72 1864.89,1445.72 1866.94,1445.72 1868.99,1445.72 1871.04,1445.72 1873.09,1445.72 1875.14,1445.72 1877.19,1445.72 1879.24,1445.72 1881.29,1445.72 1883.34,1445.72 1885.39,1445.72 1887.44,1445.72 1889.49,1445.72 1891.54,1445.72 1893.59,1445.72 1895.64,1445.72 1897.69,1445.72 1899.74,1445.72 1901.79,1445.72 1903.84,1445.72 1905.89,1445.72 1907.94,1445.72 1909.99,1445.72 1912.04,1445.72 1914.09,1445.72 1916.14,1445.72 1918.19,1445.72 1920.24,1445.72 1922.29,1445.72 1924.34,1445.72 1926.39,1445.72 1928.44,1445.72 1930.49,1445.72 1932.54,1445.72 1934.59,1445.72 1936.64,1445.72 1938.69,1445.72 1940.74,1445.72 1942.79,1445.72 1944.84,1445.72 1946.89,1445.72 1948.94,1445.72 1950.99,1445.72 1953.04,1445.72 1955.09,1445.72 1957.14,1445.72 1959.19,1445.72 1961.24,1445.72 1963.29,1445.72 1965.34,1445.72 1967.39,1445.72 1969.44,1445.72 1971.49,1445.72 1973.54,1445.72 1975.59,1445.72 1977.64,1445.72 1979.69,1445.72 1981.74,1445.72 1983.79,1445.72 1985.84,1445.72 1987.89,1445.72 1989.94,1445.72 1991.99,1445.72 1994.04,1445.72 1996.09,1445.72 1998.14,1445.72 2000.19,1445.72 2002.24,1445.72 2004.29,1445.72 2006.34,1445.72 2008.39,1445.72 2010.44,1445.72 2012.49,1445.72 2014.54,1445.72 2016.6,1445.72 2018.65,1445.72 2020.7,1445.72 2022.75,1445.72 2024.8,1445.72 2026.85,1445.72 2028.9,1445.72 2030.95,1445.72 2033,1445.72 2035.05,1445.72 2037.1,1445.72 2039.15,1445.72 2041.2,1445.72 2043.25,1445.72 2045.3,1445.72 2047.35,1445.72 2049.4,1445.72 2051.45,1445.72 2053.5,1445.72 2055.55,1445.72 2057.6,1445.72 2059.65,1445.72 2061.7,1445.72 2063.75,1445.72 2065.8,1445.72 2067.85,1445.72 2069.9,1445.72 2071.95,1445.72 2074,1445.72 2076.05,1445.72 2078.1,1445.72 2080.15,1445.72 2082.2,1445.72 2084.25,1445.72 2086.3,1445.72 2088.35,1445.72 2090.4,1445.72 2092.45,1445.72 2094.5,1445.72 2096.55,1445.72 2098.6,1445.72 2100.65,1445.72 2102.7,1445.72 2104.75,1445.72 2106.8,1445.72 2108.85,1445.72 2110.9,1445.72 2112.95,1445.72 2115,1445.72 2117.05,1445.72 2119.1,1445.72 2121.15,1445.72 2123.2,1445.72 2125.25,1445.72 2127.3,1445.72 2129.35,1445.72 2131.4,1445.72 2133.45,1445.72 2135.5,1445.72 2137.55,1445.72 2139.6,1445.72 2141.65,1445.72 2143.7,1445.72 2145.75,1445.72 2147.8,1445.72 2149.85,1445.72 2151.9,1445.72 2153.95,1445.72 2156,1445.72 2158.05,1445.72 2160.1,1445.72 2162.15,1445.72 2164.2,1445.72 2166.26,1445.72 2168.31,1445.72 2170.36,1445.72 2172.41,1445.72 2174.46,1445.72 2176.51,1445.72 2178.56,1445.72 2180.61,1445.72 2182.66,1445.72 2184.71,1445.72 2186.76,1445.72 2188.81,1445.72 2190.86,1445.72 2192.91,1445.72 2194.96,1445.72 2197.01,1445.72 2199.06,1445.72 2201.11,1445.72 2203.16,1445.72 2205.21,1445.72 2207.26,1445.72 2209.31,1445.72 2211.36,1445.72 2213.41,1445.72 2215.46,1445.72 2217.51,1445.72 2219.56,1445.72 2221.61,1445.72 2223.66,1445.72 2225.71,1445.72 2227.76,1445.72 2229.81,1445.72 2231.86,1445.72 2233.91,1445.72 2235.96,1445.72 2238.01,1445.72 2240.06,1445.72 2242.11,1445.72 2244.16,1445.72 2246.21,1445.72 2248.26,1445.72 2250.31,1445.72 2252.36,1445.72 2254.41,1445.72 2256.46,1445.72 2258.51,1445.72 2260.56,1445.72 2262.61,1445.72 2264.66,1445.72 2266.71,1445.72 2268.76,1445.72 2270.81,1445.72 2272.86,1445.72 2274.91,1445.72 2276.96,1445.72 2279.01,1445.72 2281.06,1445.72 2283.11,1445.72 2285.16,1445.72 2287.21,1445.72 2289.26,1445.72 2291.31,1445.72 \"/>\n",
       "<path clip-path=\"url(#clip910)\" d=\"M2010.86 250.738 L2280.39 250.738 L2280.39 95.2176 L2010.86 95.2176  Z\" fill=\"#ffffff\" fill-rule=\"evenodd\" fill-opacity=\"1\"/>\n",
       "<polyline clip-path=\"url(#clip910)\" style=\"stroke:#000000; stroke-linecap:round; stroke-linejoin:round; stroke-width:4; stroke-opacity:1; fill:none\" points=\"2010.86,250.738 2280.39,250.738 2280.39,95.2176 2010.86,95.2176 2010.86,250.738 \"/>\n",
       "<polyline clip-path=\"url(#clip910)\" style=\"stroke:#009af9; stroke-linecap:round; stroke-linejoin:round; stroke-width:4; stroke-opacity:1; fill:none\" points=\"2034.98,147.058 2179.72,147.058 \"/>\n",
       "<path clip-path=\"url(#clip910)\" d=\"M2217.68 166.745 Q2215.87 171.375 2214.16 172.787 Q2212.45 174.199 2209.58 174.199 L2206.18 174.199 L2206.18 170.634 L2208.68 170.634 Q2210.44 170.634 2211.41 169.8 Q2212.38 168.967 2213.56 165.865 L2214.32 163.921 L2203.84 138.412 L2208.35 138.412 L2216.45 158.689 L2224.56 138.412 L2229.07 138.412 L2217.68 166.745 Z\" fill=\"#000000\" fill-rule=\"nonzero\" fill-opacity=\"1\" /><path clip-path=\"url(#clip910)\" d=\"M2236.36 160.402 L2244 160.402 L2244 134.037 L2235.69 135.703 L2235.69 131.444 L2243.95 129.778 L2248.63 129.778 L2248.63 160.402 L2256.27 160.402 L2256.27 164.338 L2236.36 164.338 L2236.36 160.402 Z\" fill=\"#000000\" fill-rule=\"nonzero\" fill-opacity=\"1\" /><polyline clip-path=\"url(#clip910)\" style=\"stroke:#e26f46; stroke-linecap:round; stroke-linejoin:round; stroke-width:4; stroke-opacity:1; fill:none\" points=\"2034.98,198.898 2179.72,198.898 \"/>\n",
       "<path clip-path=\"url(#clip910)\" d=\"M2217.68 218.585 Q2215.87 223.215 2214.16 224.627 Q2212.45 226.039 2209.58 226.039 L2206.18 226.039 L2206.18 222.474 L2208.68 222.474 Q2210.44 222.474 2211.41 221.64 Q2212.38 220.807 2213.56 217.705 L2214.32 215.761 L2203.84 190.252 L2208.35 190.252 L2216.45 210.529 L2224.56 190.252 L2229.07 190.252 L2217.68 218.585 Z\" fill=\"#000000\" fill-rule=\"nonzero\" fill-opacity=\"1\" /><path clip-path=\"url(#clip910)\" d=\"M2239.58 212.242 L2255.9 212.242 L2255.9 216.178 L2233.95 216.178 L2233.95 212.242 Q2236.62 209.488 2241.2 204.858 Q2245.81 200.205 2246.99 198.863 Q2249.23 196.34 2250.11 194.604 Q2251.01 192.844 2251.01 191.155 Q2251.01 188.4 2249.07 186.664 Q2247.15 184.928 2244.05 184.928 Q2241.85 184.928 2239.39 185.692 Q2236.96 186.455 2234.19 188.006 L2234.19 183.284 Q2237.01 182.15 2239.46 181.571 Q2241.92 180.993 2243.95 180.993 Q2249.32 180.993 2252.52 183.678 Q2255.71 186.363 2255.71 190.854 Q2255.71 192.983 2254.9 194.905 Q2254.12 196.803 2252.01 199.395 Q2251.43 200.067 2248.33 203.284 Q2245.23 206.479 2239.58 212.242 Z\" fill=\"#000000\" fill-rule=\"nonzero\" fill-opacity=\"1\" /></svg>\n"
      ]
     },
     "execution_count": 35,
     "metadata": {},
     "output_type": "execute_result"
    }
   ],
   "source": [
    "# TODO: plot the error for the Taylor series approximation.\n",
    "errs1 = [abs(exp_t(-100,n) - exp(-100)) for n=1:1000]\n",
    "errs2 = [abs(exp_t(1,n) - exp(1)) for n=1:1000]\n",
    "plot(1:1000, errs1; yscale=:log10)\n",
    "plot!(1:1000, errs2; yscale=:log10)\n"
   ]
  },
  {
   "cell_type": "markdown",
   "metadata": {},
   "source": [
    "------"
   ]
  },
  {
   "cell_type": "markdown",
   "metadata": {},
   "source": [
    "One of the powerful features of Julia is that it's very easy to make our own types. Let's begin with a simple\n",
    "implementation of a rational function $p/q$ where $p$ and $q$ are `Int`s.  Thus we want to create a new\n",
    "type called `Rat` with two fields `p` and `q` to represent the numerator and denominator, respectively.\n",
    "(For simplicity  we won't worry about restricting $p$ and $q$ to be `Int`.)\n",
    "We can construct such a type using the `struct` keyword:"
   ]
  },
  {
   "cell_type": "code",
   "execution_count": 37,
   "metadata": {},
   "outputs": [],
   "source": [
    "struct Rat\n",
    "    p\n",
    "    q\n",
    "end"
   ]
  },
  {
   "cell_type": "markdown",
   "metadata": {},
   "source": [
    "A new instance of `Rat` is created via e.g. `Rat(1, 2)` represents `1/2`\n",
    "where the first argument specifies `p` and the second argument `q`.\n",
    "The fields are accessed by `.`:"
   ]
  },
  {
   "cell_type": "code",
   "execution_count": 39,
   "metadata": {},
   "outputs": [
    {
     "data": {
      "text/plain": [
       "\u001b[32m\u001b[1mTest Passed\u001b[22m\u001b[39m"
      ]
     },
     "execution_count": 39,
     "metadata": {},
     "output_type": "execute_result"
    }
   ],
   "source": [
    "x = Rat(1, 2) # Rat(1, 2) creates an instance with fields equal to the input\n",
    "@test x.p == 1\n",
    "@test x.q == 2"
   ]
  },
  {
   "cell_type": "markdown",
   "metadata": {},
   "source": [
    "Unfortunately we can't actually do anything with this type, yet:"
   ]
  },
  {
   "cell_type": "code",
   "execution_count": null,
   "metadata": {},
   "outputs": [],
   "source": [
    "x + x"
   ]
  },
  {
   "cell_type": "markdown",
   "metadata": {},
   "source": [
    "The error is telling us to overload the `+` function when the inputs are both `Rat`.\n",
    "To do this we need to \"import\" the `+` function and then we can overload it like any\n",
    "other function:"
   ]
  },
  {
   "cell_type": "code",
   "execution_count": 41,
   "metadata": {},
   "outputs": [
    {
     "data": {
      "text/plain": [
       "Rat(10, 8)"
      ]
     },
     "execution_count": 41,
     "metadata": {},
     "output_type": "execute_result"
    }
   ],
   "source": [
    "import Base: + # allows us to overload +\n",
    "\n",
    "# Here putting ::Rat after both x and y means this version of +\n",
    "# is only called if both arguments are Rat\n",
    "function +(x::Rat, y::Rat)\n",
    "    p,q = x.p,x.q # x represents p/q\n",
    "    r,s = y.p,y.q # y represents r/s\n",
    "    Rat(p * s + r * q, q * s)\n",
    "end\n",
    "\n",
    "Rat(1,2) + Rat(3,4) # 1/2 + 3/4 == 10/8 (== 5/4) which is represented\n",
    "                    # as Rat(10, 8)"
   ]
  },
  {
   "cell_type": "markdown",
   "metadata": {},
   "source": [
    "We can support mixing `Rat` and `Int` by adding additional functionality:"
   ]
  },
  {
   "cell_type": "code",
   "execution_count": 43,
   "metadata": {},
   "outputs": [
    {
     "data": {
      "text/plain": [
       "Rat(3, 2)"
      ]
     },
     "execution_count": 43,
     "metadata": {},
     "output_type": "execute_result"
    }
   ],
   "source": [
    "Rat(p::Int) = Rat(p,1) # an Int is converted to p/1\n",
    "+(x::Rat, y::Int) = x + Rat(y) # To add a Rat to an Int we convert the Int into a Rat and use the previously defined +\n",
    "\n",
    "Rat(1,2) + 1  # 1 + 1/2 == 3/2"
   ]
  },
  {
   "cell_type": "markdown",
   "metadata": {},
   "source": [
    "-----"
   ]
  },
  {
   "cell_type": "markdown",
   "metadata": {},
   "source": [
    "**Problem 3** Support `*`, `-`, `/`, and `==` for `Rat` and `Int`."
   ]
  },
  {
   "cell_type": "code",
   "execution_count": null,
   "metadata": {},
   "outputs": [],
   "source": [
    "# We import +, -, *, / so we can \"overload\" these operations\n",
    "# specifically for Rat.\n",
    "import Base: +, -, *, /, ==\n",
    "\n",
    "# The ::Rat means the following version of == is only called if both\n",
    "# arguments are Rat.\n",
    "function ==(x::Rat, y::Rat)\n",
    "    # TODO: implement equality, making sure to check the case where\n",
    "    # the numerator/denominator are possibly reducible\n",
    "    # Hint: gcd and div may be useful. Use ? to find out what they do\n",
    "\n",
    "\n",
    "end\n",
    "\n",
    "# We can also support equality when x is a Rat and y is an Int\n",
    "function ==(x::Rat, y::Int)\n",
    "    # TODO: implement\n",
    "\n",
    "end\n",
    "\n",
    "# TODO: implement ==(x::Int, y::Rat)\n",
    "\n",
    "\n",
    "@test Rat(1, 2) == Rat(2, 4)\n",
    "@test Rat(1, 2) ≠ Rat(1, 3)\n",
    "@test Rat(2,2) == 1\n",
    "@test 1 == Rat(2,2)\n",
    "\n",
    "# TODO: implement +, -, *, and /,\n",
    "\n",
    "\n",
    "@test Rat(1, 2) + Rat(1, 3) == Rat(5, 6)\n",
    "@test Rat(1, 3) - Rat(1, 2) == Rat(-1, 6)\n",
    "@test Rat(2, 3) * Rat(3, 4) == Rat(1, 2)\n",
    "@test Rat(2, 3) / Rat(3, 4) == Rat(8, 9)"
   ]
  },
  {
   "cell_type": "markdown",
   "metadata": {},
   "source": [
    "------"
   ]
  },
  {
   "cell_type": "markdown",
   "metadata": {},
   "source": [
    "## I.3 Dual Numbers\n",
    "\n",
    "We now consider implementing a type `Dual` to represent the dual number $a + bϵ$,\n",
    "in a way similar to `Complex` or `Rat`. For simplicity we don't restrict the types of `a` and `b`\n",
    "but for us they will usually be `Float64`. We create this type very similar to `Rat` above:"
   ]
  },
  {
   "cell_type": "code",
   "execution_count": 45,
   "metadata": {},
   "outputs": [],
   "source": [
    "struct Dual\n",
    "    a\n",
    "    b\n",
    "end"
   ]
  },
  {
   "cell_type": "markdown",
   "metadata": {},
   "source": [
    "We can easily support addition of dual numbers as in `Rat` using the formula\n",
    "$$\n",
    "(a+bϵ) + (c+dϵ) = (a+c) + (b+d)ϵ\n",
    "$$"
   ]
  },
  {
   "cell_type": "code",
   "execution_count": 47,
   "metadata": {},
   "outputs": [
    {
     "data": {
      "text/plain": [
       "Dual(4, 6)"
      ]
     },
     "execution_count": 47,
     "metadata": {},
     "output_type": "execute_result"
    }
   ],
   "source": [
    "function +(x::Dual, y::Dual)\n",
    "    a,b = x.a, x.b # x == a+bϵ. This gets out a and b\n",
    "    c,d = y.a, y.b # y == c+dϵ. This gets out c and d\n",
    "    Dual(a+c, b+d)\n",
    "end\n",
    "\n",
    "Dual(1,2) + Dual(3,4) # just adds each argument"
   ]
  },
  {
   "cell_type": "markdown",
   "metadata": {},
   "source": [
    "For multiplication we used the fact that $ϵ^2 = 0$ to derive the formula\n",
    "$$\n",
    "(a+bϵ)*(c+dϵ) = ac +(bc+ad)ϵ.\n",
    "$$\n",
    "Here we support this operation by overloading `*` when the inputs are both\n",
    "`Dual`:"
   ]
  },
  {
   "cell_type": "code",
   "execution_count": 49,
   "metadata": {},
   "outputs": [
    {
     "data": {
      "text/plain": [
       "* (generic function with 299 methods)"
      ]
     },
     "execution_count": 49,
     "metadata": {},
     "output_type": "execute_result"
    }
   ],
   "source": [
    "import Base: * # we want to also overload *\n",
    "\n",
    "function *(x::Dual, y::Dual)\n",
    "    a,b = x.a, x.b # x == a+bϵ. This gets out a and b\n",
    "    c,d = y.a, y.b # y == c+dϵ. This gets out c and d\n",
    "    Dual(a*c, b*c + a*d)\n",
    "end"
   ]
  },
  {
   "cell_type": "markdown",
   "metadata": {},
   "source": [
    "### I.3.1 Differentiating polynomials"
   ]
  },
  {
   "cell_type": "markdown",
   "metadata": {},
   "source": [
    "Dual numbers allow us to differentiate functions provided they are composed of\n",
    "operations overloaded for `Dual`. In particular, we have that\n",
    "$$\n",
    "f(x + b ϵ) = f(x) + bf'(x)ϵ\n",
    "$$\n",
    "and thus if we set `b = 1` the \"dual part\" is equal to the derivative.\n",
    "We can use this fact to differentiate simple polynomials that only use `+`\n",
    "and `*`:"
   ]
  },
  {
   "cell_type": "code",
   "execution_count": 51,
   "metadata": {},
   "outputs": [
    {
     "data": {
      "text/plain": [
       "Dual(10, 13)"
      ]
     },
     "execution_count": 51,
     "metadata": {},
     "output_type": "execute_result"
    }
   ],
   "source": [
    "f = x -> x*x*x + x\n",
    "f(Dual(2,1)) # (2^3 + 2) + (3*2^2+1)*ϵ"
   ]
  },
  {
   "cell_type": "markdown",
   "metadata": {},
   "source": [
    "A polynomial like `x^3 + 1` is not yet supported.\n",
    "To support this we need to add addition of `Dual` with `Int` or `Float64`.\n",
    "Note that both of these are \"subtypes\" of `Real` and so restricting on `Real`\n",
    "will support both at the same time.\n",
    "We can overload the appropriate functions as follows:"
   ]
  },
  {
   "cell_type": "code",
   "execution_count": 53,
   "metadata": {},
   "outputs": [
    {
     "data": {
      "text/plain": [
       "Dual(9, 12)"
      ]
     },
     "execution_count": 53,
     "metadata": {},
     "output_type": "execute_result"
    }
   ],
   "source": [
    "import Base: ^\n",
    "\n",
    "Dual(a::Real) = Dual(a, 0) # converts a real number to a dual number with no ϵ\n",
    "\n",
    "+(x::Real, y::Dual) = Dual(x) + y\n",
    "+(x::Dual, y::Real) = x + Dual(y)\n",
    "\n",
    "# a simple recursive function to support x^2, x^3, etc.\n",
    "function ^(x::Dual, n::Int)\n",
    "    if n < 0\n",
    "        error(\"Not implemented\") # don't support negative n, yet\n",
    "    end\n",
    "    if n == 1\n",
    "        x # Just return the input\n",
    "    else\n",
    "        ret = x\n",
    "        for k = 1:n-1\n",
    "            ret = ret*x\n",
    "        end\n",
    "        ret # returns the last argument\n",
    "    end\n",
    "end\n",
    "\n",
    "f = x -> x^3 + 1\n",
    "f(Dual(2,1))  # 2^3+1 + 3*2^2*ϵ"
   ]
  },
  {
   "cell_type": "markdown",
   "metadata": {},
   "source": [
    "### I.3.2 Differentiating functions"
   ]
  },
  {
   "cell_type": "markdown",
   "metadata": {},
   "source": [
    "We can also overload functions like `exp` so that they satisfy the rules of\n",
    "a _dual extension_, that is, are consistent with the formula $f(a+bϵ) = f(a) + bf'(a)ϵ$\n",
    "as follows:"
   ]
  },
  {
   "cell_type": "code",
   "execution_count": 55,
   "metadata": {},
   "outputs": [
    {
     "data": {
      "text/plain": [
       "exp (generic function with 15 methods)"
      ]
     },
     "execution_count": 55,
     "metadata": {},
     "output_type": "execute_result"
    }
   ],
   "source": [
    "import Base: exp\n",
    "exp(x::Dual) = Dual(exp(x.a), exp(x.a) * x.b)"
   ]
  },
  {
   "cell_type": "markdown",
   "metadata": {},
   "source": [
    "We can use this to differentiate a function that composes these basic operations:"
   ]
  },
  {
   "cell_type": "code",
   "execution_count": 57,
   "metadata": {},
   "outputs": [
    {
     "data": {
      "text/plain": [
       "Dual(41.193555674716116, 194.362805189629)"
      ]
     },
     "execution_count": 57,
     "metadata": {},
     "output_type": "execute_result"
    }
   ],
   "source": [
    "f = x -> exp(x^2 + exp(x))\n",
    "f(Dual(1, 1))"
   ]
  },
  {
   "cell_type": "markdown",
   "metadata": {},
   "source": [
    "What makes dual numbers so effective is that, unlike divided differences, they are not\n",
    "prone to disasterous growth due to round-off errors: the above approximation\n",
    "matches the true answer to roughly 16 digits of accuracy."
   ]
  },
  {
   "cell_type": "markdown",
   "metadata": {},
   "source": [
    "------"
   ]
  },
  {
   "cell_type": "markdown",
   "metadata": {},
   "source": [
    "**Problem 4(a)** Add support for `-`, `cos`, `sin`, and `/` to the type `Dual`\n",
    "by replacing the `# TODO`s in the below code."
   ]
  },
  {
   "cell_type": "code",
   "execution_count": 63,
   "metadata": {},
   "outputs": [
    {
     "data": {
      "text/plain": [
       "\u001b[32m\u001b[1mTest Passed\u001b[22m\u001b[39m"
      ]
     },
     "execution_count": 63,
     "metadata": {},
     "output_type": "execute_result"
    }
   ],
   "source": [
    "import Base: -, cos, sin, /\n",
    "\n",
    "# The following supports negation -(a+bϵ)\n",
    "-(x::Dual) = Dual(-x.a, -x.b)\n",
    "\n",
    "# TODO: implement -(::Dual, ::Dual)\n",
    "\n",
    "-(x::Dual, y::Dual) = x + (-y)\n",
    "\n",
    "\n",
    "\n",
    "\n",
    "function cos(x::Dual)\n",
    "    # TODO: implement cos for Duals\n",
    "    real = cos(x.a)\n",
    "    dual = x.b*(-sin(x.a))\n",
    "    Dual(real, dual)\n",
    "\n",
    "end\n",
    "\n",
    "function sin(x::Dual)\n",
    "    # TODO: implement sin for Duals\n",
    "    real = sin(x.a)\n",
    "    dual = x.b*(cos(x.a))\n",
    "    Dual(real, dual)\n",
    "\n",
    "end\n",
    "\n",
    "function /(x::Dual, y::Dual)\n",
    "    # TODO: implement division for Duals.\n",
    "    # Hint: think of this as x * (1/y)\n",
    "    real = x.a/y.a\n",
    "    dual = (x.b/y.a) - (y.b*x.a)/(y.a)^2\n",
    "    Dual(real, dual)\n",
    "\n",
    "end\n",
    "\n",
    "x = 0.1\n",
    "ϵ = Dual(0,1)\n",
    "@test cos(sin(x+ϵ)/(x+ϵ)).b ≈ -((cos(x)/x - sin(x)/x^2)sin(sin(x)/x))"
   ]
  },
  {
   "cell_type": "markdown",
   "metadata": {},
   "source": [
    "**Problem 4(b)** Use dual numbers to compute the derivatives to\n",
    "1. $\\exp(\\exp x \\cos x + \\sin x)$\n",
    "2. $∏_{k=1}^{1000} \\left({x \\over k}-1\\right)$\n",
    "3. $f^{\\rm s}_{1000}(x)$ where, as in Lab 1 Problem 3(d), $f^{\\rm s}_n(x)$ corresponds to $n$-terms of the following continued fraction:\n",
    "$$\n",
    "1 + {x-1 \\over 2 + {x-1 \\over 2 + {x-1 \\over 2 + ⋱}}}.\n",
    "$$\n",
    "at the point $x = 0.1$. Compare with divided differences to give evidence that your implementation is correct."
   ]
  },
  {
   "cell_type": "code",
   "execution_count": null,
   "metadata": {},
   "outputs": [],
   "source": [
    "# TODO: Use dual numbers to compute the derivatives of the 3 functions above."
   ]
  },
  {
   "cell_type": "markdown",
   "metadata": {},
   "source": [
    "------\n",
    "## I.4 Newton's method"
   ]
  },
  {
   "cell_type": "markdown",
   "metadata": {},
   "source": [
    "Newton's method is a simple algorithmic approach that you may have seen before in school for computing roots (or zeros)\n",
    "of functions. The basic idea is given an initial guess $x_0$,\n",
    "find the first-order Taylor approximation $p(x)$ (i.e., find the line that matches the slope of the function at the point)\n",
    "$$\n",
    "f(x) ≈ \\underbrace{f(x_0) + f'(x_0) (x- x_0)}_{p(x)}.\n",
    "$$\n",
    "We can then solve the root finding problem for $p(x)$ exactly:\n",
    "$$\n",
    "p(x) = 0 ⇔ x = x_0 - {f(x_0) \\over f'(x_0)}\n",
    "$$\n",
    "We take this root of $p(x)$ as the new initial guess and repeat. In other words, we have a simple sequence\n",
    "defined by\n",
    "$$\n",
    "x_{k+1} = x_k - {f(x_k) \\over f'(x_k)}\n",
    "$$\n",
    "If the initial guess is \"close enough\" to a root $r$ of $f$ (ie $f(r) = 0$)\n",
    "then we have proven that $x_k → r$. Thus for large $N$ we have $x_N ≈ r$."
   ]
  },
  {
   "cell_type": "markdown",
   "metadata": {},
   "source": [
    "Dual numbers as implemented by `Dual` gives us a powerful tool to compute derivatives and get a simple implementation\n",
    "of Newton's method working:"
   ]
  },
  {
   "cell_type": "code",
   "execution_count": null,
   "metadata": {},
   "outputs": [],
   "source": [
    "# derivative(f, x) computes the derivative at a point x using Dual\n",
    "derivative(f, x) = f(Dual(x,1)).b\n",
    "\n",
    "function newton(f, x, N) # x = x_0 is the initial guess\n",
    "    for k = 1:N\n",
    "        x = x - f(x)/derivative(f,x)\n",
    "    end\n",
    "    x\n",
    "end\n",
    "\n",
    "f = x -> x^5 + x^2 + 1\n",
    "r = newton(f, 0.1, 100)"
   ]
  },
  {
   "cell_type": "markdown",
   "metadata": {},
   "source": [
    "We can test that we have indeed found a root:"
   ]
  },
  {
   "cell_type": "code",
   "execution_count": null,
   "metadata": {},
   "outputs": [],
   "source": [
    "f(r)"
   ]
  },
  {
   "cell_type": "markdown",
   "metadata": {},
   "source": [
    "-----"
   ]
  },
  {
   "cell_type": "markdown",
   "metadata": {},
   "source": [
    "**Problem 5(a)** For $f(x) = x^5 + x^2 + 1$, plot the error of $x_k$ for `k = 1:15` where the\n",
    "y-axis is scaled logarithmically and chosen $x_0 = 0.1$ You may\n",
    "use the computed `r` as the \"exact\" root. What do you think the convergence rate is?"
   ]
  },
  {
   "cell_type": "code",
   "execution_count": null,
   "metadata": {},
   "outputs": [],
   "source": [
    "# TODO: compute and plot the error of `newton(f, 0.1, k)` for `k = 1:15`"
   ]
  },
  {
   "cell_type": "markdown",
   "metadata": {},
   "source": [
    "**Problem 5(b)** Use `newton` with a complex number to compute\n",
    "an approximation to a complex root of $f(x) = x^5 - x^2 + 1$.\n",
    "Verify the approximation is accurate by testing that it satisfies $f(r)$\n",
    "is approximately zero."
   ]
  },
  {
   "cell_type": "code",
   "execution_count": null,
   "metadata": {},
   "outputs": [],
   "source": [
    "# TODO: By making the initial guess complex find a complex root."
   ]
  },
  {
   "cell_type": "markdown",
   "metadata": {},
   "source": [
    "**Problem 5(c)** By changing the initial guesses compute 5 roots to\n",
    "$\\sin x - 1/x$. Hint: you may need to add an overload for `/(x::Real, y::Dual)`."
   ]
  },
  {
   "cell_type": "code",
   "execution_count": null,
   "metadata": {},
   "outputs": [],
   "source": [
    "# TODO: Use newton to compute roots of sin(x) - 1/x."
   ]
  },
  {
   "cell_type": "markdown",
   "metadata": {},
   "source": [
    "---\n",
    "\n",
    "*This notebook was generated using [Literate.jl](https://github.com/fredrikekre/Literate.jl).*"
   ]
  }
 ],
 "metadata": {
  "kernelspec": {
   "display_name": "Julia 1.11.2",
   "language": "julia",
   "name": "julia-1.11"
  },
  "language_info": {
   "file_extension": ".jl",
   "mimetype": "application/julia",
   "name": "julia",
   "version": "1.11.2"
  }
 },
 "nbformat": 4,
 "nbformat_minor": 4
}
