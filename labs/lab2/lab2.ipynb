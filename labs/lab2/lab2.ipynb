{
 "cells": [
  {
   "cell_type": "markdown",
   "metadata": {},
   "source": [
    "# MATH50003 (2024–25)\n",
    "# Lab 2: I.3 Dual Numbers and I.4 Newton's Method"
   ]
  },
  {
   "cell_type": "markdown",
   "metadata": {},
   "source": [
    "In this lab we explore an alternative approach to computing derivatives:\n",
    "using _dual numbers_. This is a special mathematical object akin to complex numbers\n",
    "that allows us to compute derivatives to very high accuracy in an automated fashion.\n",
    "This is a basic example of [automatic differentiation](https://en.wikipedia.org/wiki/Automatic_differentiation)\n",
    "that is extremely important in Machine Learning and other computational applications.\n",
    "To realise dual numbers on a computer we need to introduce the notation of a \"type\"\n",
    "and create a customised type to represent dual numbers, which is what we discuss first.\n",
    "As an application of computing derivatives we consider root finding via [Newton's method](https://en.wikipedia.org/wiki/Newton%27s_method)."
   ]
  },
  {
   "cell_type": "markdown",
   "metadata": {},
   "source": [
    "**Learning Outcomes**\n",
    "\n",
    "Mathematical knowledge:\n",
    "\n",
    "1. Definition of dual numbers and functions applied dual numbers.\n",
    "3. Newton's method for root finding.\n",
    "\n",
    "Coding knowledge:\n",
    "\n",
    "1. The notion of a type and how to make your own type.\n",
    "2. Defining functions whose arguments are restricted to specific types.\n",
    "3. Overloading functions like `+`, `*`, and `exp` for a custom type."
   ]
  },
  {
   "cell_type": "markdown",
   "metadata": {},
   "source": [
    "We load the `Test` and `Plots` packages to be used below.\n",
    "We also define the function `nanabs` which is useful for logarithmically scaled\n",
    "plots. For brevity we use a shorthand `cond ? expr1 : expr2` which just means\n",
    "```julia\n",
    "if cond\n",
    "    expr1\n",
    "else\n",
    "    expr2\n",
    "end\n",
    "```"
   ]
  },
  {
   "cell_type": "code",
   "execution_count": 5,
   "metadata": {},
   "outputs": [
    {
     "data": {
      "text/plain": [
       "nanabs (generic function with 1 method)"
      ]
     },
     "execution_count": 5,
     "metadata": {},
     "output_type": "execute_result"
    }
   ],
   "source": [
    "using Plots, Test\n",
    "nanabs(x) = x == 0 ? NaN : abs(x)"
   ]
  },
  {
   "cell_type": "markdown",
   "metadata": {},
   "source": [
    "## Types in Julia"
   ]
  },
  {
   "cell_type": "markdown",
   "metadata": {},
   "source": [
    "Before we can use a concept like dual numbers we have to understand the notion of a \"type\".\n",
    "In compiled languages like Julia everything has a \"type\". The function `typeof` can be used to determine the type of,\n",
    "for example, a number.\n",
    "By default when we write an integer (e.g. `-123`) it is of type `Int`:"
   ]
  },
  {
   "cell_type": "code",
   "execution_count": 8,
   "metadata": {},
   "outputs": [
    {
     "data": {
      "text/plain": [
       "Int64"
      ]
     },
     "execution_count": 8,
     "metadata": {},
     "output_type": "execute_result"
    }
   ],
   "source": [
    "typeof(5)"
   ]
  },
  {
   "cell_type": "markdown",
   "metadata": {},
   "source": [
    "On a 64-bit machine this will print `Int64`, where the `64` indicates it is using precisely 64 bits\n",
    "to represent the number (a topic we will come back to in Part II). If we write something with\n",
    "a decimal point it represents a \"real\" number, whose storage is of type `Float64`:"
   ]
  },
  {
   "cell_type": "code",
   "execution_count": 10,
   "metadata": {},
   "outputs": [
    {
     "data": {
      "text/plain": [
       "Float64"
      ]
     },
     "execution_count": 10,
     "metadata": {},
     "output_type": "execute_result"
    }
   ],
   "source": [
    "typeof(5.3)"
   ]
  },
  {
   "cell_type": "markdown",
   "metadata": {},
   "source": [
    "This is called a \"floating point\" number, and again the `64` indicates it is using precisely\n",
    "64 bits to represent this number. (We will see this is why computations like divided differences\n",
    "have large errors: because we are limiting the number of \"digits\" to represent numbers we need to\n",
    "round our computations.) Note that some operations involving `Int`s return `Float64`s:"
   ]
  },
  {
   "cell_type": "code",
   "execution_count": 12,
   "metadata": {},
   "outputs": [
    {
     "data": {
      "text/plain": [
       "0.2"
      ]
     },
     "execution_count": 12,
     "metadata": {},
     "output_type": "execute_result"
    }
   ],
   "source": [
    "1/5 # 1 and 5 are Int but output is a Float64"
   ]
  },
  {
   "cell_type": "markdown",
   "metadata": {},
   "source": [
    "It is possible to have functions behave differently depending on the input type.\n",
    "To do so we can add a restriction denoted `::Int` or `::Float64` to the function \"signature\".\n",
    "Here we create a function `foo` that is equal to `1` if the input is an `Int`, `0` if the input is\n",
    "a `Float64`, and `-1` otherwise:"
   ]
  },
  {
   "cell_type": "code",
   "execution_count": 14,
   "metadata": {},
   "outputs": [
    {
     "data": {
      "text/plain": [
       "(1, 0, -1, 0)"
      ]
     },
     "execution_count": 14,
     "metadata": {},
     "output_type": "execute_result"
    }
   ],
   "source": [
    "foo(x::Int) = 1 # The ::Int means this version is called when the input is an Int\n",
    "foo(x::Float64) = 0\n",
    "foo(x) = -1 # This is equivalent to f(x::Any) = -1\n",
    "# Anything that is not an Int or Float64 will call this\n",
    "\n",
    "foo(3), foo(2.5), foo(\"hi\"), foo(3.0)"
   ]
  },
  {
   "cell_type": "markdown",
   "metadata": {},
   "source": [
    "The last line returns a list of `Int`s, which has the type `Tuple`.\n",
    "Note that there is a difference between the set concept of integer and the type `Int`: whilst `3.0` is an integer\n",
    "its type is `Float64` so `foo(3.0) == 0`."
   ]
  },
  {
   "cell_type": "markdown",
   "metadata": {},
   "source": [
    "**Remark** Every type has a \"supertype\", which is an \"abstract type\": something you can't make an instance of it.\n",
    "For example, in the same way that \"integers\"\n",
    "are subsets of the \"reals\" we have that `Int` and `Float64` are subtypes of\n",
    "`Real`. Which is a subtype of `Number`. Which, as is everything, a subtype of `Any`."
   ]
  },
  {
   "cell_type": "markdown",
   "metadata": {},
   "source": [
    "Types allow for combining multiple numbers (or instances of other types) to represent a more complicated\n",
    "object. A simple example of this is a complex number,\n",
    "which stores two real numbers $x$ and $y$ (either `Int` or `Float64` or indeed other real number types not yet discussed)\n",
    "to represent the complex number $x + {\\rm i} y$. In Julia ${\\rm i} = \\sqrt{-1}$ is denoted `im` and\n",
    "hence we can create a complex number like $1+2{\\rm i}$ as follows:"
   ]
  },
  {
   "cell_type": "code",
   "execution_count": 18,
   "metadata": {},
   "outputs": [
    {
     "data": {
      "text/plain": [
       "1 + 2im"
      ]
     },
     "execution_count": 18,
     "metadata": {},
     "output_type": "execute_result"
    }
   ],
   "source": [
    "z = 1 + 2im"
   ]
  },
  {
   "cell_type": "markdown",
   "metadata": {},
   "source": [
    "This complex number has two \"fields\": the real and imaginary part. Accessing the fields is done\n",
    "using a `.`, here we display the real and imaginary parts as a `Tuple`:"
   ]
  },
  {
   "cell_type": "code",
   "execution_count": 20,
   "metadata": {},
   "outputs": [
    {
     "data": {
      "text/plain": [
       "(1, 2)"
      ]
     },
     "execution_count": 20,
     "metadata": {},
     "output_type": "execute_result"
    }
   ],
   "source": [
    "z.re, z.im"
   ]
  },
  {
   "cell_type": "markdown",
   "metadata": {},
   "source": [
    "When we ask  its type we see it is a `Complex{Int}`:"
   ]
  },
  {
   "cell_type": "code",
   "execution_count": 22,
   "metadata": {},
   "outputs": [
    {
     "data": {
      "text/plain": [
       "Complex{Int64}"
      ]
     },
     "execution_count": 22,
     "metadata": {},
     "output_type": "execute_result"
    }
   ],
   "source": [
    "typeof(z)"
   ]
  },
  {
   "cell_type": "markdown",
   "metadata": {},
   "source": [
    "The `{Int}` indicates that each of the fields is an `Int`.\n",
    "Note we can add, subtract, multiply, or apply functions like `exp` to complex numbers:"
   ]
  },
  {
   "cell_type": "code",
   "execution_count": 24,
   "metadata": {},
   "outputs": [
    {
     "data": {
      "text/plain": [
       "1.0970208521148807e-5 - 0.002478727901132598im"
      ]
     },
     "execution_count": 24,
     "metadata": {},
     "output_type": "execute_result"
    }
   ],
   "source": [
    "exp(2z^2 + 3im)"
   ]
  },
  {
   "cell_type": "markdown",
   "metadata": {},
   "source": [
    "-----\n",
    "**Problem 1(a)** Use `typeof` to determine the type of `1.2 + 2.3im`."
   ]
  },
  {
   "cell_type": "code",
   "execution_count": 26,
   "metadata": {},
   "outputs": [
    {
     "data": {
      "text/plain": [
       "ComplexF64\u001b[90m (alias for \u001b[39m\u001b[90mComplex{Float64}\u001b[39m\u001b[90m)\u001b[39m"
      ]
     },
     "execution_count": 26,
     "metadata": {},
     "output_type": "execute_result"
    }
   ],
   "source": [
    "# TODO: What is the type of 1.2 + 2.3im?\n",
    "typeof(1.2 + 2.3im)"
   ]
  },
  {
   "cell_type": "markdown",
   "metadata": {},
   "source": [
    "**Problem 1(b)** Add another implementation of `foo` that returns `im` if the input\n",
    "is a `ComplexF64`."
   ]
  },
  {
   "cell_type": "code",
   "execution_count": 28,
   "metadata": {},
   "outputs": [
    {
     "data": {
      "text/plain": [
       "\u001b[32m\u001b[1mTest Passed\u001b[22m\u001b[39m"
      ]
     },
     "execution_count": 28,
     "metadata": {},
     "output_type": "execute_result"
    }
   ],
   "source": [
    "# TODO: Overload foo for when the input is a ComplexF64 and return im\n",
    "foo(x::ComplexF64) = im\n",
    "@test foo(1.1 + 2im) == im"
   ]
  },
  {
   "cell_type": "markdown",
   "metadata": {},
   "source": [
    "------"
   ]
  },
  {
   "cell_type": "markdown",
   "metadata": {},
   "source": [
    "**Problem 2(a)** Consider the Taylor series approximation to the exponential:\n",
    "$$\n",
    "\\exp z ≈ ∑_{k=0}^n {z^k \\over k!}\n",
    "$$\n",
    "Complete the function `exp_t(z, n)` that computes this and returns a\n",
    "`Complex{Float64}` if the input is complex and a `Float64` if the input is real.\n",
    "Do not use the inbuilt `factorial` function.\n",
    "Hint: It might help to think inductively: for $s_k = z^k/k!$ we have\n",
    "$$\n",
    "  s_{k+1}  = {z \\over k+1} s_k.\n",
    "$$"
   ]
  },
  {
   "cell_type": "code",
   "execution_count": 31,
   "metadata": {},
   "outputs": [
    {
     "data": {
      "text/plain": [
       "\u001b[32m\u001b[1mTest Passed\u001b[22m\u001b[39m"
      ]
     },
     "execution_count": 31,
     "metadata": {},
     "output_type": "execute_result"
    }
   ],
   "source": [
    "function exp_t(z, n)\n",
    "    # TODO: Compute the first (n+1)-terms of the Taylor series of exp\n",
    "    # evaluated at z\n",
    "    s_k = 1\n",
    "    sum = 1\n",
    "    for j in 1:n\n",
    "        s_k = (z/(j)) * s_k\n",
    "        sum = sum + s_k\n",
    "    end\n",
    "    sum\n",
    "end\n",
    "\n",
    "@test exp_t(1.0, 10) isa Float64 # isa is used to test the type of a result\n",
    "@test exp_t(im, 10) isa ComplexF64 # isa is used to test the type of a result\n",
    "\n",
    "@test exp_t(1.0, 100) ≈ exp(1)"
   ]
  },
  {
   "cell_type": "markdown",
   "metadata": {},
   "source": [
    "**Problem 2(b)** Plot the error for `n = 1:1000` of `exp_t(z, n)` for `z = 1, im, -5`, and `-100`,\n",
    "scaling the y-axis logarithmically.\n",
    "Does the method appear to converge for all values of $z$?"
   ]
  },
  {
   "cell_type": "code",
   "execution_count": 33,
   "metadata": {},
   "outputs": [
    {
     "data": {
      "image/png": "[encoded data removed]",
      "image/svg+xml": [
       "<?xml version=\"1.0\" encoding=\"utf-8\"?>\n",
       "<svg xmlns=\"http://www.w3.org/2000/svg\" xmlns:xlink=\"http://www.w3.org/1999/xlink\" width=\"600\" height=\"400\" viewBox=\"0 0 2400 1600\">\n",
       "<defs>\n",
       "  <clipPath id=\"clip690\">\n",
       "    <rect x=\"0\" y=\"0\" width=\"2400\" height=\"1600\"/>\n",
       "  </clipPath>\n",
       "</defs>\n",
       "<path clip-path=\"url(#clip690)\" d=\"M0 1600 L2400 1600 L2400 8.88178e-14 L0 8.88178e-14  Z\" fill=\"#ffffff\" fill-rule=\"evenodd\" fill-opacity=\"1\"/>\n",
       "<defs>\n",
       "  <clipPath id=\"clip691\">\n",
       "    <rect x=\"480\" y=\"0\" width=\"1681\" height=\"1600\"/>\n",
       "  </clipPath>\n",
       "</defs>\n",
       "<path clip-path=\"url(#clip690)\" d=\"M181.785 1486.45 L2352.76 1486.45 L2352.76 47.2441 L181.785 47.2441  Z\" fill=\"#ffffff\" fill-rule=\"evenodd\" fill-opacity=\"1\"/>\n",
       "<defs>\n",
       "  <clipPath id=\"clip692\">\n",
       "    <rect x=\"181\" y=\"47\" width=\"2172\" height=\"1440\"/>\n",
       "  </clipPath>\n",
       "</defs>\n",
       "<polyline clip-path=\"url(#clip692)\" style=\"stroke:#000000; stroke-linecap:round; stroke-linejoin:round; stroke-width:2; stroke-opacity:0.1; fill:none\" points=\"241.177,1486.45 241.177,47.2441 \"/>\n",
       "<polyline clip-path=\"url(#clip692)\" style=\"stroke:#000000; stroke-linecap:round; stroke-linejoin:round; stroke-width:2; stroke-opacity:0.1; fill:none\" points=\"753.711,1486.45 753.711,47.2441 \"/>\n",
       "<polyline clip-path=\"url(#clip692)\" style=\"stroke:#000000; stroke-linecap:round; stroke-linejoin:round; stroke-width:2; stroke-opacity:0.1; fill:none\" points=\"1266.25,1486.45 1266.25,47.2441 \"/>\n",
       "<polyline clip-path=\"url(#clip692)\" style=\"stroke:#000000; stroke-linecap:round; stroke-linejoin:round; stroke-width:2; stroke-opacity:0.1; fill:none\" points=\"1778.78,1486.45 1778.78,47.2441 \"/>\n",
       "<polyline clip-path=\"url(#clip692)\" style=\"stroke:#000000; stroke-linecap:round; stroke-linejoin:round; stroke-width:2; stroke-opacity:0.1; fill:none\" points=\"2291.31,1486.45 2291.31,47.2441 \"/>\n",
       "<polyline clip-path=\"url(#clip692)\" style=\"stroke:#000000; stroke-linecap:round; stroke-linejoin:round; stroke-width:2; stroke-opacity:0.1; fill:none\" points=\"181.785,1080.55 2352.76,1080.55 \"/>\n",
       "<polyline clip-path=\"url(#clip692)\" style=\"stroke:#000000; stroke-linecap:round; stroke-linejoin:round; stroke-width:2; stroke-opacity:0.1; fill:none\" points=\"181.785,485.909 2352.76,485.909 \"/>\n",
       "<polyline clip-path=\"url(#clip690)\" style=\"stroke:#000000; stroke-linecap:round; stroke-linejoin:round; stroke-width:4; stroke-opacity:1; fill:none\" points=\"181.785,1486.45 2352.76,1486.45 \"/>\n",
       "<polyline clip-path=\"url(#clip690)\" style=\"stroke:#000000; stroke-linecap:round; stroke-linejoin:round; stroke-width:4; stroke-opacity:1; fill:none\" points=\"241.177,1486.45 241.177,1467.55 \"/>\n",
       "<polyline clip-path=\"url(#clip690)\" style=\"stroke:#000000; stroke-linecap:round; stroke-linejoin:round; stroke-width:4; stroke-opacity:1; fill:none\" points=\"753.711,1486.45 753.711,1467.55 \"/>\n",
       "<polyline clip-path=\"url(#clip690)\" style=\"stroke:#000000; stroke-linecap:round; stroke-linejoin:round; stroke-width:4; stroke-opacity:1; fill:none\" points=\"1266.25,1486.45 1266.25,1467.55 \"/>\n",
       "<polyline clip-path=\"url(#clip690)\" style=\"stroke:#000000; stroke-linecap:round; stroke-linejoin:round; stroke-width:4; stroke-opacity:1; fill:none\" points=\"1778.78,1486.45 1778.78,1467.55 \"/>\n",
       "<polyline clip-path=\"url(#clip690)\" style=\"stroke:#000000; stroke-linecap:round; stroke-linejoin:round; stroke-width:4; stroke-opacity:1; fill:none\" points=\"2291.31,1486.45 2291.31,1467.55 \"/>\n",
       "<path clip-path=\"url(#clip690)\" d=\"M241.177 1517.37 Q237.566 1517.37 235.737 1520.93 Q233.932 1524.47 233.932 1531.6 Q233.932 1538.71 235.737 1542.27 Q237.566 1545.82 241.177 1545.82 Q244.811 1545.82 246.617 1542.27 Q248.446 1538.71 248.446 1531.6 Q248.446 1524.47 246.617 1520.93 Q244.811 1517.37 241.177 1517.37 M241.177 1513.66 Q246.987 1513.66 250.043 1518.27 Q253.122 1522.85 253.122 1531.6 Q253.122 1540.33 250.043 1544.94 Q246.987 1549.52 241.177 1549.52 Q235.367 1549.52 232.288 1544.94 Q229.233 1540.33 229.233 1531.6 Q229.233 1522.85 232.288 1518.27 Q235.367 1513.66 241.177 1513.66 Z\" fill=\"#000000\" fill-rule=\"nonzero\" fill-opacity=\"1\" /><path clip-path=\"url(#clip690)\" d=\"M717.404 1544.91 L733.723 1544.91 L733.723 1548.85 L711.779 1548.85 L711.779 1544.91 Q714.441 1542.16 719.024 1537.53 Q723.63 1532.88 724.811 1531.53 Q727.056 1529.01 727.936 1527.27 Q728.839 1525.51 728.839 1523.82 Q728.839 1521.07 726.894 1519.33 Q724.973 1517.6 721.871 1517.6 Q719.672 1517.6 717.218 1518.36 Q714.788 1519.13 712.01 1520.68 L712.01 1515.95 Q714.834 1514.82 717.288 1514.24 Q719.741 1513.66 721.779 1513.66 Q727.149 1513.66 730.343 1516.35 Q733.538 1519.03 733.538 1523.52 Q733.538 1525.65 732.728 1527.57 Q731.94 1529.47 729.834 1532.07 Q729.255 1532.74 726.153 1535.95 Q723.052 1539.15 717.404 1544.91 Z\" fill=\"#000000\" fill-rule=\"nonzero\" fill-opacity=\"1\" /><path clip-path=\"url(#clip690)\" d=\"M743.584 1514.29 L761.94 1514.29 L761.94 1518.22 L747.866 1518.22 L747.866 1526.7 Q748.885 1526.35 749.903 1526.19 Q750.922 1526 751.94 1526 Q757.727 1526 761.107 1529.17 Q764.487 1532.34 764.487 1537.76 Q764.487 1543.34 761.014 1546.44 Q757.542 1549.52 751.223 1549.52 Q749.047 1549.52 746.778 1549.15 Q744.533 1548.78 742.126 1548.04 L742.126 1543.34 Q744.209 1544.47 746.431 1545.03 Q748.653 1545.58 751.13 1545.58 Q755.135 1545.58 757.473 1543.48 Q759.811 1541.37 759.811 1537.76 Q759.811 1534.15 757.473 1532.04 Q755.135 1529.94 751.13 1529.94 Q749.255 1529.94 747.38 1530.35 Q745.528 1530.77 743.584 1531.65 L743.584 1514.29 Z\" fill=\"#000000\" fill-rule=\"nonzero\" fill-opacity=\"1\" /><path clip-path=\"url(#clip690)\" d=\"M783.699 1517.37 Q780.088 1517.37 778.26 1520.93 Q776.454 1524.47 776.454 1531.6 Q776.454 1538.71 778.26 1542.27 Q780.088 1545.82 783.699 1545.82 Q787.334 1545.82 789.139 1542.27 Q790.968 1538.71 790.968 1531.6 Q790.968 1524.47 789.139 1520.93 Q787.334 1517.37 783.699 1517.37 M783.699 1513.66 Q789.51 1513.66 792.565 1518.27 Q795.644 1522.85 795.644 1531.6 Q795.644 1540.33 792.565 1544.94 Q789.51 1549.52 783.699 1549.52 Q777.889 1549.52 774.811 1544.94 Q771.755 1540.33 771.755 1531.6 Q771.755 1522.85 774.811 1518.27 Q777.889 1513.66 783.699 1513.66 Z\" fill=\"#000000\" fill-rule=\"nonzero\" fill-opacity=\"1\" /><path clip-path=\"url(#clip690)\" d=\"M1225.86 1514.29 L1244.22 1514.29 L1244.22 1518.22 L1230.15 1518.22 L1230.15 1526.7 Q1231.16 1526.35 1232.18 1526.19 Q1233.2 1526 1234.22 1526 Q1240.01 1526 1243.39 1529.17 Q1246.77 1532.34 1246.77 1537.76 Q1246.77 1543.34 1243.29 1546.44 Q1239.82 1549.52 1233.5 1549.52 Q1231.33 1549.52 1229.06 1549.15 Q1226.81 1548.78 1224.41 1548.04 L1224.41 1543.34 Q1226.49 1544.47 1228.71 1545.03 Q1230.93 1545.58 1233.41 1545.58 Q1237.41 1545.58 1239.75 1543.48 Q1242.09 1541.37 1242.09 1537.76 Q1242.09 1534.15 1239.75 1532.04 Q1237.41 1529.94 1233.41 1529.94 Q1231.53 1529.94 1229.66 1530.35 Q1227.81 1530.77 1225.86 1531.65 L1225.86 1514.29 Z\" fill=\"#000000\" fill-rule=\"nonzero\" fill-opacity=\"1\" /><path clip-path=\"url(#clip690)\" d=\"M1265.98 1517.37 Q1262.37 1517.37 1260.54 1520.93 Q1258.73 1524.47 1258.73 1531.6 Q1258.73 1538.71 1260.54 1542.27 Q1262.37 1545.82 1265.98 1545.82 Q1269.61 1545.82 1271.42 1542.27 Q1273.25 1538.71 1273.25 1531.6 Q1273.25 1524.47 1271.42 1520.93 Q1269.61 1517.37 1265.98 1517.37 M1265.98 1513.66 Q1271.79 1513.66 1274.84 1518.27 Q1277.92 1522.85 1277.92 1531.6 Q1277.92 1540.33 1274.84 1544.94 Q1271.79 1549.52 1265.98 1549.52 Q1260.17 1549.52 1257.09 1544.94 Q1254.03 1540.33 1254.03 1531.6 Q1254.03 1522.85 1257.09 1518.27 Q1260.17 1513.66 1265.98 1513.66 Z\" fill=\"#000000\" fill-rule=\"nonzero\" fill-opacity=\"1\" /><path clip-path=\"url(#clip690)\" d=\"M1296.14 1517.37 Q1292.53 1517.37 1290.7 1520.93 Q1288.9 1524.47 1288.9 1531.6 Q1288.9 1538.71 1290.7 1542.27 Q1292.53 1545.82 1296.14 1545.82 Q1299.78 1545.82 1301.58 1542.27 Q1303.41 1538.71 1303.41 1531.6 Q1303.41 1524.47 1301.58 1520.93 Q1299.78 1517.37 1296.14 1517.37 M1296.14 1513.66 Q1301.95 1513.66 1305.01 1518.27 Q1308.09 1522.85 1308.09 1531.6 Q1308.09 1540.33 1305.01 1544.94 Q1301.95 1549.52 1296.14 1549.52 Q1290.33 1549.52 1287.25 1544.94 Q1284.2 1540.33 1284.2 1531.6 Q1284.2 1522.85 1287.25 1518.27 Q1290.33 1513.66 1296.14 1513.66 Z\" fill=\"#000000\" fill-rule=\"nonzero\" fill-opacity=\"1\" /><path clip-path=\"url(#clip690)\" d=\"M1737.05 1514.29 L1759.28 1514.29 L1759.28 1516.28 L1746.73 1548.85 L1741.85 1548.85 L1753.65 1518.22 L1737.05 1518.22 L1737.05 1514.29 Z\" fill=\"#000000\" fill-rule=\"nonzero\" fill-opacity=\"1\" /><path clip-path=\"url(#clip690)\" d=\"M1768.44 1514.29 L1786.8 1514.29 L1786.8 1518.22 L1772.73 1518.22 L1772.73 1526.7 Q1773.74 1526.35 1774.76 1526.19 Q1775.78 1526 1776.8 1526 Q1782.59 1526 1785.97 1529.17 Q1789.35 1532.34 1789.35 1537.76 Q1789.35 1543.34 1785.87 1546.44 Q1782.4 1549.52 1776.08 1549.52 Q1773.91 1549.52 1771.64 1549.15 Q1769.39 1548.78 1766.99 1548.04 L1766.99 1543.34 Q1769.07 1544.47 1771.29 1545.03 Q1773.51 1545.58 1775.99 1545.58 Q1779.99 1545.58 1782.33 1543.48 Q1784.67 1541.37 1784.67 1537.76 Q1784.67 1534.15 1782.33 1532.04 Q1779.99 1529.94 1775.99 1529.94 Q1774.11 1529.94 1772.24 1530.35 Q1770.39 1530.77 1768.44 1531.65 L1768.44 1514.29 Z\" fill=\"#000000\" fill-rule=\"nonzero\" fill-opacity=\"1\" /><path clip-path=\"url(#clip690)\" d=\"M1808.56 1517.37 Q1804.95 1517.37 1803.12 1520.93 Q1801.31 1524.47 1801.31 1531.6 Q1801.31 1538.71 1803.12 1542.27 Q1804.95 1545.82 1808.56 1545.82 Q1812.19 1545.82 1814 1542.27 Q1815.83 1538.71 1815.83 1531.6 Q1815.83 1524.47 1814 1520.93 Q1812.19 1517.37 1808.56 1517.37 M1808.56 1513.66 Q1814.37 1513.66 1817.42 1518.27 Q1820.5 1522.85 1820.5 1531.6 Q1820.5 1540.33 1817.42 1544.94 Q1814.37 1549.52 1808.56 1549.52 Q1802.75 1549.52 1799.67 1544.94 Q1796.61 1540.33 1796.61 1531.6 Q1796.61 1522.85 1799.67 1518.27 Q1802.75 1513.66 1808.56 1513.66 Z\" fill=\"#000000\" fill-rule=\"nonzero\" fill-opacity=\"1\" /><path clip-path=\"url(#clip690)\" d=\"M2235.84 1544.91 L2243.48 1544.91 L2243.48 1518.55 L2235.17 1520.21 L2235.17 1515.95 L2243.43 1514.29 L2248.11 1514.29 L2248.11 1544.91 L2255.75 1544.91 L2255.75 1548.85 L2235.84 1548.85 L2235.84 1544.91 Z\" fill=\"#000000\" fill-rule=\"nonzero\" fill-opacity=\"1\" /><path clip-path=\"url(#clip690)\" d=\"M2275.19 1517.37 Q2271.58 1517.37 2269.75 1520.93 Q2267.95 1524.47 2267.95 1531.6 Q2267.95 1538.71 2269.75 1542.27 Q2271.58 1545.82 2275.19 1545.82 Q2278.82 1545.82 2280.63 1542.27 Q2282.46 1538.71 2282.46 1531.6 Q2282.46 1524.47 2280.63 1520.93 Q2278.82 1517.37 2275.19 1517.37 M2275.19 1513.66 Q2281 1513.66 2284.06 1518.27 Q2287.14 1522.85 2287.14 1531.6 Q2287.14 1540.33 2284.06 1544.94 Q2281 1549.52 2275.19 1549.52 Q2269.38 1549.52 2266.3 1544.94 Q2263.25 1540.33 2263.25 1531.6 Q2263.25 1522.85 2266.3 1518.27 Q2269.38 1513.66 2275.19 1513.66 Z\" fill=\"#000000\" fill-rule=\"nonzero\" fill-opacity=\"1\" /><path clip-path=\"url(#clip690)\" d=\"M2305.35 1517.37 Q2301.74 1517.37 2299.91 1520.93 Q2298.11 1524.47 2298.11 1531.6 Q2298.11 1538.71 2299.91 1542.27 Q2301.74 1545.82 2305.35 1545.82 Q2308.99 1545.82 2310.79 1542.27 Q2312.62 1538.71 2312.62 1531.6 Q2312.62 1524.47 2310.79 1520.93 Q2308.99 1517.37 2305.35 1517.37 M2305.35 1513.66 Q2311.16 1513.66 2314.22 1518.27 Q2317.3 1522.85 2317.3 1531.6 Q2317.3 1540.33 2314.22 1544.94 Q2311.16 1549.52 2305.35 1549.52 Q2299.54 1549.52 2296.46 1544.94 Q2293.41 1540.33 2293.41 1531.6 Q2293.41 1522.85 2296.46 1518.27 Q2299.54 1513.66 2305.35 1513.66 Z\" fill=\"#000000\" fill-rule=\"nonzero\" fill-opacity=\"1\" /><path clip-path=\"url(#clip690)\" d=\"M2335.51 1517.37 Q2331.9 1517.37 2330.07 1520.93 Q2328.27 1524.47 2328.27 1531.6 Q2328.27 1538.71 2330.07 1542.27 Q2331.9 1545.82 2335.51 1545.82 Q2339.15 1545.82 2340.95 1542.27 Q2342.78 1538.71 2342.78 1531.6 Q2342.78 1524.47 2340.95 1520.93 Q2339.15 1517.37 2335.51 1517.37 M2335.51 1513.66 Q2341.32 1513.66 2344.38 1518.27 Q2347.46 1522.85 2347.46 1531.6 Q2347.46 1540.33 2344.38 1544.94 Q2341.32 1549.52 2335.51 1549.52 Q2329.7 1549.52 2326.63 1544.94 Q2323.57 1540.33 2323.57 1531.6 Q2323.57 1522.85 2326.63 1518.27 Q2329.7 1513.66 2335.51 1513.66 Z\" fill=\"#000000\" fill-rule=\"nonzero\" fill-opacity=\"1\" /><polyline clip-path=\"url(#clip690)\" style=\"stroke:#000000; stroke-linecap:round; stroke-linejoin:round; stroke-width:4; stroke-opacity:1; fill:none\" points=\"181.785,1486.45 181.785,47.2441 \"/>\n",
       "<polyline clip-path=\"url(#clip690)\" style=\"stroke:#000000; stroke-linecap:round; stroke-linejoin:round; stroke-width:4; stroke-opacity:1; fill:none\" points=\"181.785,1080.55 200.682,1080.55 \"/>\n",
       "<polyline clip-path=\"url(#clip690)\" style=\"stroke:#000000; stroke-linecap:round; stroke-linejoin:round; stroke-width:4; stroke-opacity:1; fill:none\" points=\"181.785,485.909 200.682,485.909 \"/>\n",
       "<path clip-path=\"url(#clip690)\" d=\"M75.0791 1100.34 L82.7179 1100.34 L82.7179 1073.97 L74.4078 1075.64 L74.4078 1071.38 L82.6716 1069.72 L87.3475 1069.72 L87.3475 1100.34 L94.9864 1100.34 L94.9864 1104.28 L75.0791 1104.28 L75.0791 1100.34 Z\" fill=\"#000000\" fill-rule=\"nonzero\" fill-opacity=\"1\" /><path clip-path=\"url(#clip690)\" d=\"M114.431 1072.79 Q110.82 1072.79 108.991 1076.36 Q107.185 1079.9 107.185 1087.03 Q107.185 1094.14 108.991 1097.7 Q110.82 1101.24 114.431 1101.24 Q118.065 1101.24 119.871 1097.7 Q121.699 1094.14 121.699 1087.03 Q121.699 1079.9 119.871 1076.36 Q118.065 1072.79 114.431 1072.79 M114.431 1069.09 Q120.241 1069.09 123.296 1073.7 Q126.375 1078.28 126.375 1087.03 Q126.375 1095.76 123.296 1100.36 Q120.241 1104.95 114.431 1104.95 Q108.621 1104.95 105.542 1100.36 Q102.486 1095.76 102.486 1087.03 Q102.486 1078.28 105.542 1073.7 Q108.621 1069.09 114.431 1069.09 Z\" fill=\"#000000\" fill-rule=\"nonzero\" fill-opacity=\"1\" /><path clip-path=\"url(#clip690)\" d=\"M136.08 1051.29 Q133.146 1051.29 131.66 1054.18 Q130.193 1057.06 130.193 1062.85 Q130.193 1068.63 131.66 1071.52 Q133.146 1074.4 136.08 1074.4 Q139.033 1074.4 140.5 1071.52 Q141.986 1068.63 141.986 1062.85 Q141.986 1057.06 140.5 1054.18 Q139.033 1051.29 136.08 1051.29 M136.08 1048.28 Q140.801 1048.28 143.283 1052.02 Q145.785 1055.74 145.785 1062.85 Q145.785 1069.94 143.283 1073.69 Q140.801 1077.41 136.08 1077.41 Q131.359 1077.41 128.858 1073.69 Q126.375 1069.94 126.375 1062.85 Q126.375 1055.74 128.858 1052.02 Q131.359 1048.28 136.08 1048.28 Z\" fill=\"#000000\" fill-rule=\"nonzero\" fill-opacity=\"1\" /><path clip-path=\"url(#clip690)\" d=\"M51.6634 505.702 L59.3023 505.702 L59.3023 479.336 L50.9921 481.003 L50.9921 476.744 L59.256 475.077 L63.9319 475.077 L63.9319 505.702 L71.5707 505.702 L71.5707 509.637 L51.6634 509.637 L51.6634 505.702 Z\" fill=\"#000000\" fill-rule=\"nonzero\" fill-opacity=\"1\" /><path clip-path=\"url(#clip690)\" d=\"M91.0151 478.156 Q87.404 478.156 85.5753 481.721 Q83.7697 485.262 83.7697 492.392 Q83.7697 499.498 85.5753 503.063 Q87.404 506.605 91.0151 506.605 Q94.6493 506.605 96.4548 503.063 Q98.2835 499.498 98.2835 492.392 Q98.2835 485.262 96.4548 481.721 Q94.6493 478.156 91.0151 478.156 M91.0151 474.452 Q96.8252 474.452 99.8808 479.059 Q102.959 483.642 102.959 492.392 Q102.959 501.119 99.8808 505.725 Q96.8252 510.308 91.0151 510.308 Q85.2049 510.308 82.1262 505.725 Q79.0707 501.119 79.0707 492.392 Q79.0707 483.642 82.1262 479.059 Q85.2049 474.452 91.0151 474.452 Z\" fill=\"#000000\" fill-rule=\"nonzero\" fill-opacity=\"1\" /><path clip-path=\"url(#clip690)\" d=\"M107.53 479.029 L120.789 479.029 L120.789 482.227 L102.959 482.227 L102.959 479.029 Q105.122 476.791 108.846 473.03 Q112.589 469.249 113.548 468.158 Q115.373 466.108 116.087 464.698 Q116.821 463.268 116.821 461.895 Q116.821 459.657 115.241 458.247 Q113.68 456.836 111.16 456.836 Q109.373 456.836 107.379 457.457 Q105.404 458.077 103.148 459.338 L103.148 455.501 Q105.442 454.579 107.436 454.109 Q109.429 453.639 111.084 453.639 Q115.448 453.639 118.043 455.821 Q120.639 458.002 120.639 461.651 Q120.639 463.381 119.98 464.942 Q119.341 466.485 117.63 468.591 Q117.159 469.136 114.639 471.751 Q112.119 474.346 107.53 479.029 Z\" fill=\"#000000\" fill-rule=\"nonzero\" fill-opacity=\"1\" /><path clip-path=\"url(#clip690)\" d=\"M128.801 454.147 L143.716 454.147 L143.716 457.344 L132.281 457.344 L132.281 464.228 Q133.108 463.945 133.936 463.814 Q134.763 463.663 135.591 463.663 Q140.293 463.663 143.039 466.24 Q145.785 468.817 145.785 473.218 Q145.785 477.75 142.964 480.271 Q140.142 482.772 135.008 482.772 Q133.24 482.772 131.397 482.471 Q129.572 482.17 127.616 481.568 L127.616 477.75 Q129.309 478.672 131.115 479.123 Q132.92 479.575 134.933 479.575 Q138.186 479.575 140.086 477.863 Q141.986 476.152 141.986 473.218 Q141.986 470.284 140.086 468.572 Q138.186 466.861 134.933 466.861 Q133.409 466.861 131.886 467.199 Q130.381 467.538 128.801 468.252 L128.801 454.147 Z\" fill=\"#000000\" fill-rule=\"nonzero\" fill-opacity=\"1\" /><polyline clip-path=\"url(#clip692)\" style=\"stroke:#009af9; stroke-linecap:round; stroke-linejoin:round; stroke-width:4; stroke-opacity:1; fill:none\" points=\"243.227,1083.97 245.277,1096.27 247.328,1111.16 249.378,1128.17 251.428,1146.95 253.478,1167.25 255.528,1188.89 257.578,1211.71 259.628,1235.6 261.679,1260.45 263.729,1286.19 265.779,1312.75 267.829,1340.06 269.879,1368.09 271.929,1396.88 273.979,1429.09 276.029,1445.72 278.08,1445.72 280.13,1445.72 282.18,1445.72 284.23,1445.72 286.28,1445.72 288.33,1445.72 290.38,1445.72 292.431,1445.72 294.481,1445.72 296.531,1445.72 298.581,1445.72 300.631,1445.72 302.681,1445.72 304.731,1445.72 306.782,1445.72 308.832,1445.72 310.882,1445.72 312.932,1445.72 314.982,1445.72 317.032,1445.72 319.082,1445.72 321.132,1445.72 323.183,1445.72 325.233,1445.72 327.283,1445.72 329.333,1445.72 331.383,1445.72 333.433,1445.72 335.483,1445.72 337.534,1445.72 339.584,1445.72 341.634,1445.72 343.684,1445.72 345.734,1445.72 347.784,1445.72 349.834,1445.72 351.885,1445.72 353.935,1445.72 355.985,1445.72 358.035,1445.72 360.085,1445.72 362.135,1445.72 364.185,1445.72 366.235,1445.72 368.286,1445.72 370.336,1445.72 372.386,1445.72 374.436,1445.72 376.486,1445.72 378.536,1445.72 380.586,1445.72 382.637,1445.72 384.687,1445.72 386.737,1445.72 388.787,1445.72 390.837,1445.72 392.887,1445.72 394.937,1445.72 396.988,1445.72 399.038,1445.72 401.088,1445.72 403.138,1445.72 405.188,1445.72 407.238,1445.72 409.288,1445.72 411.338,1445.72 413.389,1445.72 415.439,1445.72 417.489,1445.72 419.539,1445.72 421.589,1445.72 423.639,1445.72 425.689,1445.72 427.74,1445.72 429.79,1445.72 431.84,1445.72 433.89,1445.72 435.94,1445.72 437.99,1445.72 440.04,1445.72 442.091,1445.72 444.141,1445.72 446.191,1445.72 448.241,1445.72 450.291,1445.72 452.341,1445.72 454.391,1445.72 456.441,1445.72 458.492,1445.72 460.542,1445.72 462.592,1445.72 464.642,1445.72 466.692,1445.72 468.742,1445.72 470.792,1445.72 472.843,1445.72 474.893,1445.72 476.943,1445.72 478.993,1445.72 481.043,1445.72 483.093,1445.72 485.143,1445.72 487.194,1445.72 489.244,1445.72 491.294,1445.72 493.344,1445.72 495.394,1445.72 497.444,1445.72 499.494,1445.72 501.544,1445.72 503.595,1445.72 505.645,1445.72 507.695,1445.72 509.745,1445.72 511.795,1445.72 513.845,1445.72 515.895,1445.72 517.946,1445.72 519.996,1445.72 522.046,1445.72 524.096,1445.72 526.146,1445.72 528.196,1445.72 530.246,1445.72 532.297,1445.72 534.347,1445.72 536.397,1445.72 538.447,1445.72 540.497,1445.72 542.547,1445.72 544.597,1445.72 546.647,1445.72 548.698,1445.72 550.748,1445.72 552.798,1445.72 554.848,1445.72 556.898,1445.72 558.948,1445.72 560.998,1445.72 563.049,1445.72 565.099,1445.72 567.149,1445.72 569.199,1445.72 571.249,1445.72 573.299,1445.72 575.349,1445.72 577.4,1445.72 579.45,1445.72 581.5,1445.72 583.55,1445.72 585.6,1445.72 587.65,1445.72 589.7,1445.72 591.75,1445.72 593.801,1445.72 595.851,1445.72 597.901,1445.72 599.951,1445.72 602.001,1445.72 604.051,1445.72 606.101,1445.72 608.152,1445.72 610.202,1445.72 612.252,1445.72 614.302,1445.72 616.352,1445.72 618.402,1445.72 620.452,1445.72 622.502,1445.72 624.553,1445.72 626.603,1445.72 628.653,1445.72 630.703,1445.72 632.753,1445.72 634.803,1445.72 636.853,1445.72 638.904,1445.72 640.954,1445.72 643.004,1445.72 645.054,1445.72 647.104,1445.72 649.154,1445.72 651.204,1445.72 653.255,1445.72 655.305,1445.72 657.355,1445.72 659.405,1445.72 661.455,1445.72 663.505,1445.72 665.555,1445.72 667.605,1445.72 669.656,1445.72 671.706,1445.72 673.756,1445.72 675.806,1445.72 677.856,1445.72 679.906,1445.72 681.956,1445.72 684.007,1445.72 686.057,1445.72 688.107,1445.72 690.157,1445.72 692.207,1445.72 694.257,1445.72 696.307,1445.72 698.358,1445.72 700.408,1445.72 702.458,1445.72 704.508,1445.72 706.558,1445.72 708.608,1445.72 710.658,1445.72 712.708,1445.72 714.759,1445.72 716.809,1445.72 718.859,1445.72 720.909,1445.72 722.959,1445.72 725.009,1445.72 727.059,1445.72 729.11,1445.72 731.16,1445.72 733.21,1445.72 735.26,1445.72 737.31,1445.72 739.36,1445.72 741.41,1445.72 743.461,1445.72 745.511,1445.72 747.561,1445.72 749.611,1445.72 751.661,1445.72 753.711,1445.72 755.761,1445.72 757.811,1445.72 759.862,1445.72 761.912,1445.72 763.962,1445.72 766.012,1445.72 768.062,1445.72 770.112,1445.72 772.162,1445.72 774.213,1445.72 776.263,1445.72 778.313,1445.72 780.363,1445.72 782.413,1445.72 784.463,1445.72 786.513,1445.72 788.564,1445.72 790.614,1445.72 792.664,1445.72 794.714,1445.72 796.764,1445.72 798.814,1445.72 800.864,1445.72 802.914,1445.72 804.965,1445.72 807.015,1445.72 809.065,1445.72 811.115,1445.72 813.165,1445.72 815.215,1445.72 817.265,1445.72 819.316,1445.72 821.366,1445.72 823.416,1445.72 825.466,1445.72 827.516,1445.72 829.566,1445.72 831.616,1445.72 833.667,1445.72 835.717,1445.72 837.767,1445.72 839.817,1445.72 841.867,1445.72 843.917,1445.72 845.967,1445.72 848.017,1445.72 850.068,1445.72 852.118,1445.72 854.168,1445.72 856.218,1445.72 858.268,1445.72 860.318,1445.72 862.368,1445.72 864.419,1445.72 866.469,1445.72 868.519,1445.72 870.569,1445.72 872.619,1445.72 874.669,1445.72 876.719,1445.72 878.77,1445.72 880.82,1445.72 882.87,1445.72 884.92,1445.72 886.97,1445.72 889.02,1445.72 891.07,1445.72 893.12,1445.72 895.171,1445.72 897.221,1445.72 899.271,1445.72 901.321,1445.72 903.371,1445.72 905.421,1445.72 907.471,1445.72 909.522,1445.72 911.572,1445.72 913.622,1445.72 915.672,1445.72 917.722,1445.72 919.772,1445.72 921.822,1445.72 923.873,1445.72 925.923,1445.72 927.973,1445.72 930.023,1445.72 932.073,1445.72 934.123,1445.72 936.173,1445.72 938.223,1445.72 940.274,1445.72 942.324,1445.72 944.374,1445.72 946.424,1445.72 948.474,1445.72 950.524,1445.72 952.574,1445.72 954.625,1445.72 956.675,1445.72 958.725,1445.72 960.775,1445.72 962.825,1445.72 964.875,1445.72 966.925,1445.72 968.976,1445.72 971.026,1445.72 973.076,1445.72 975.126,1445.72 977.176,1445.72 979.226,1445.72 981.276,1445.72 983.326,1445.72 985.377,1445.72 987.427,1445.72 989.477,1445.72 991.527,1445.72 993.577,1445.72 995.627,1445.72 997.677,1445.72 999.728,1445.72 1001.78,1445.72 1003.83,1445.72 1005.88,1445.72 1007.93,1445.72 1009.98,1445.72 1012.03,1445.72 1014.08,1445.72 1016.13,1445.72 1018.18,1445.72 1020.23,1445.72 1022.28,1445.72 1024.33,1445.72 1026.38,1445.72 1028.43,1445.72 1030.48,1445.72 1032.53,1445.72 1034.58,1445.72 1036.63,1445.72 1038.68,1445.72 1040.73,1445.72 1042.78,1445.72 1044.83,1445.72 1046.88,1445.72 1048.93,1445.72 1050.98,1445.72 1053.03,1445.72 1055.08,1445.72 1057.13,1445.72 1059.18,1445.72 1061.23,1445.72 1063.28,1445.72 1065.33,1445.72 1067.38,1445.72 1069.43,1445.72 1071.48,1445.72 1073.53,1445.72 1075.58,1445.72 1077.63,1445.72 1079.68,1445.72 1081.73,1445.72 1083.78,1445.72 1085.83,1445.72 1087.88,1445.72 1089.93,1445.72 1091.98,1445.72 1094.03,1445.72 1096.08,1445.72 1098.13,1445.72 1100.18,1445.72 1102.23,1445.72 1104.28,1445.72 1106.33,1445.72 1108.38,1445.72 1110.43,1445.72 1112.49,1445.72 1114.54,1445.72 1116.59,1445.72 1118.64,1445.72 1120.69,1445.72 1122.74,1445.72 1124.79,1445.72 1126.84,1445.72 1128.89,1445.72 1130.94,1445.72 1132.99,1445.72 1135.04,1445.72 1137.09,1445.72 1139.14,1445.72 1141.19,1445.72 1143.24,1445.72 1145.29,1445.72 1147.34,1445.72 1149.39,1445.72 1151.44,1445.72 1153.49,1445.72 1155.54,1445.72 1157.59,1445.72 1159.64,1445.72 1161.69,1445.72 1163.74,1445.72 1165.79,1445.72 1167.84,1445.72 1169.89,1445.72 1171.94,1445.72 1173.99,1445.72 1176.04,1445.72 1178.09,1445.72 1180.14,1445.72 1182.19,1445.72 1184.24,1445.72 1186.29,1445.72 1188.34,1445.72 1190.39,1445.72 1192.44,1445.72 1194.49,1445.72 1196.54,1445.72 1198.59,1445.72 1200.64,1445.72 1202.69,1445.72 1204.74,1445.72 1206.79,1445.72 1208.84,1445.72 1210.89,1445.72 1212.94,1445.72 1214.99,1445.72 1217.04,1445.72 1219.09,1445.72 1221.14,1445.72 1223.19,1445.72 1225.24,1445.72 1227.29,1445.72 1229.34,1445.72 1231.39,1445.72 1233.44,1445.72 1235.49,1445.72 1237.54,1445.72 1239.59,1445.72 1241.64,1445.72 1243.69,1445.72 1245.74,1445.72 1247.79,1445.72 1249.84,1445.72 1251.89,1445.72 1253.94,1445.72 1255.99,1445.72 1258.04,1445.72 1260.09,1445.72 1262.14,1445.72 1264.2,1445.72 1266.25,1445.72 1268.3,1445.72 1270.35,1445.72 1272.4,1445.72 1274.45,1445.72 1276.5,1445.72 1278.55,1445.72 1280.6,1445.72 1282.65,1445.72 1284.7,1445.72 1286.75,1445.72 1288.8,1445.72 1290.85,1445.72 1292.9,1445.72 1294.95,1445.72 1297,1445.72 1299.05,1445.72 1301.1,1445.72 1303.15,1445.72 1305.2,1445.72 1307.25,1445.72 1309.3,1445.72 1311.35,1445.72 1313.4,1445.72 1315.45,1445.72 1317.5,1445.72 1319.55,1445.72 1321.6,1445.72 1323.65,1445.72 1325.7,1445.72 1327.75,1445.72 1329.8,1445.72 1331.85,1445.72 1333.9,1445.72 1335.95,1445.72 1338,1445.72 1340.05,1445.72 1342.1,1445.72 1344.15,1445.72 1346.2,1445.72 1348.25,1445.72 1350.3,1445.72 1352.35,1445.72 1354.4,1445.72 1356.45,1445.72 1358.5,1445.72 1360.55,1445.72 1362.6,1445.72 1364.65,1445.72 1366.7,1445.72 1368.75,1445.72 1370.8,1445.72 1372.85,1445.72 1374.9,1445.72 1376.95,1445.72 1379,1445.72 1381.05,1445.72 1383.1,1445.72 1385.15,1445.72 1387.2,1445.72 1389.25,1445.72 1391.3,1445.72 1393.35,1445.72 1395.4,1445.72 1397.45,1445.72 1399.5,1445.72 1401.55,1445.72 1403.6,1445.72 1405.65,1445.72 1407.7,1445.72 1409.75,1445.72 1411.8,1445.72 1413.86,1445.72 1415.91,1445.72 1417.96,1445.72 1420.01,1445.72 1422.06,1445.72 1424.11,1445.72 1426.16,1445.72 1428.21,1445.72 1430.26,1445.72 1432.31,1445.72 1434.36,1445.72 1436.41,1445.72 1438.46,1445.72 1440.51,1445.72 1442.56,1445.72 1444.61,1445.72 1446.66,1445.72 1448.71,1445.72 1450.76,1445.72 1452.81,1445.72 1454.86,1445.72 1456.91,1445.72 1458.96,1445.72 1461.01,1445.72 1463.06,1445.72 1465.11,1445.72 1467.16,1445.72 1469.21,1445.72 1471.26,1445.72 1473.31,1445.72 1475.36,1445.72 1477.41,1445.72 1479.46,1445.72 1481.51,1445.72 1483.56,1445.72 1485.61,1445.72 1487.66,1445.72 1489.71,1445.72 1491.76,1445.72 1493.81,1445.72 1495.86,1445.72 1497.91,1445.72 1499.96,1445.72 1502.01,1445.72 1504.06,1445.72 1506.11,1445.72 1508.16,1445.72 1510.21,1445.72 1512.26,1445.72 1514.31,1445.72 1516.36,1445.72 1518.41,1445.72 1520.46,1445.72 1522.51,1445.72 1524.56,1445.72 1526.61,1445.72 1528.66,1445.72 1530.71,1445.72 1532.76,1445.72 1534.81,1445.72 1536.86,1445.72 1538.91,1445.72 1540.96,1445.72 1543.01,1445.72 1545.06,1445.72 1547.11,1445.72 1549.16,1445.72 1551.21,1445.72 1553.26,1445.72 1555.31,1445.72 1557.36,1445.72 1559.41,1445.72 1561.46,1445.72 1563.51,1445.72 1565.57,1445.72 1567.62,1445.72 1569.67,1445.72 1571.72,1445.72 1573.77,1445.72 1575.82,1445.72 1577.87,1445.72 1579.92,1445.72 1581.97,1445.72 1584.02,1445.72 1586.07,1445.72 1588.12,1445.72 1590.17,1445.72 1592.22,1445.72 1594.27,1445.72 1596.32,1445.72 1598.37,1445.72 1600.42,1445.72 1602.47,1445.72 1604.52,1445.72 1606.57,1445.72 1608.62,1445.72 1610.67,1445.72 1612.72,1445.72 1614.77,1445.72 1616.82,1445.72 1618.87,1445.72 1620.92,1445.72 1622.97,1445.72 1625.02,1445.72 1627.07,1445.72 1629.12,1445.72 1631.17,1445.72 1633.22,1445.72 1635.27,1445.72 1637.32,1445.72 1639.37,1445.72 1641.42,1445.72 1643.47,1445.72 1645.52,1445.72 1647.57,1445.72 1649.62,1445.72 1651.67,1445.72 1653.72,1445.72 1655.77,1445.72 1657.82,1445.72 1659.87,1445.72 1661.92,1445.72 1663.97,1445.72 1666.02,1445.72 1668.07,1445.72 1670.12,1445.72 1672.17,1445.72 1674.22,1445.72 1676.27,1445.72 1678.32,1445.72 1680.37,1445.72 1682.42,1445.72 1684.47,1445.72 1686.52,1445.72 1688.57,1445.72 1690.62,1445.72 1692.67,1445.72 1694.72,1445.72 1696.77,1445.72 1698.82,1445.72 1700.87,1445.72 1702.92,1445.72 1704.97,1445.72 1707.02,1445.72 1709.07,1445.72 1711.12,1445.72 1713.17,1445.72 1715.23,1445.72 1717.28,1445.72 1719.33,1445.72 1721.38,1445.72 1723.43,1445.72 1725.48,1445.72 1727.53,1445.72 1729.58,1445.72 1731.63,1445.72 1733.68,1445.72 1735.73,1445.72 1737.78,1445.72 1739.83,1445.72 1741.88,1445.72 1743.93,1445.72 1745.98,1445.72 1748.03,1445.72 1750.08,1445.72 1752.13,1445.72 1754.18,1445.72 1756.23,1445.72 1758.28,1445.72 1760.33,1445.72 1762.38,1445.72 1764.43,1445.72 1766.48,1445.72 1768.53,1445.72 1770.58,1445.72 1772.63,1445.72 1774.68,1445.72 1776.73,1445.72 1778.78,1445.72 1780.83,1445.72 1782.88,1445.72 1784.93,1445.72 1786.98,1445.72 1789.03,1445.72 1791.08,1445.72 1793.13,1445.72 1795.18,1445.72 1797.23,1445.72 1799.28,1445.72 1801.33,1445.72 1803.38,1445.72 1805.43,1445.72 1807.48,1445.72 1809.53,1445.72 1811.58,1445.72 1813.63,1445.72 1815.68,1445.72 1817.73,1445.72 1819.78,1445.72 1821.83,1445.72 1823.88,1445.72 1825.93,1445.72 1827.98,1445.72 1830.03,1445.72 1832.08,1445.72 1834.13,1445.72 1836.18,1445.72 1838.23,1445.72 1840.28,1445.72 1842.33,1445.72 1844.38,1445.72 1846.43,1445.72 1848.48,1445.72 1850.53,1445.72 1852.58,1445.72 1854.63,1445.72 1856.68,1445.72 1858.73,1445.72 1860.78,1445.72 1862.83,1445.72 1864.89,1445.72 1866.94,1445.72 1868.99,1445.72 1871.04,1445.72 1873.09,1445.72 1875.14,1445.72 1877.19,1445.72 1879.24,1445.72 1881.29,1445.72 1883.34,1445.72 1885.39,1445.72 1887.44,1445.72 1889.49,1445.72 1891.54,1445.72 1893.59,1445.72 1895.64,1445.72 1897.69,1445.72 1899.74,1445.72 1901.79,1445.72 1903.84,1445.72 1905.89,1445.72 1907.94,1445.72 1909.99,1445.72 1912.04,1445.72 1914.09,1445.72 1916.14,1445.72 1918.19,1445.72 1920.24,1445.72 1922.29,1445.72 1924.34,1445.72 1926.39,1445.72 1928.44,1445.72 1930.49,1445.72 1932.54,1445.72 1934.59,1445.72 1936.64,1445.72 1938.69,1445.72 1940.74,1445.72 1942.79,1445.72 1944.84,1445.72 1946.89,1445.72 1948.94,1445.72 1950.99,1445.72 1953.04,1445.72 1955.09,1445.72 1957.14,1445.72 1959.19,1445.72 1961.24,1445.72 1963.29,1445.72 1965.34,1445.72 1967.39,1445.72 1969.44,1445.72 1971.49,1445.72 1973.54,1445.72 1975.59,1445.72 1977.64,1445.72 1979.69,1445.72 1981.74,1445.72 1983.79,1445.72 1985.84,1445.72 1987.89,1445.72 1989.94,1445.72 1991.99,1445.72 1994.04,1445.72 1996.09,1445.72 1998.14,1445.72 2000.19,1445.72 2002.24,1445.72 2004.29,1445.72 2006.34,1445.72 2008.39,1445.72 2010.44,1445.72 2012.49,1445.72 2014.54,1445.72 2016.6,1445.72 2018.65,1445.72 2020.7,1445.72 2022.75,1445.72 2024.8,1445.72 2026.85,1445.72 2028.9,1445.72 2030.95,1445.72 2033,1445.72 2035.05,1445.72 2037.1,1445.72 2039.15,1445.72 2041.2,1445.72 2043.25,1445.72 2045.3,1445.72 2047.35,1445.72 2049.4,1445.72 2051.45,1445.72 2053.5,1445.72 2055.55,1445.72 2057.6,1445.72 2059.65,1445.72 2061.7,1445.72 2063.75,1445.72 2065.8,1445.72 2067.85,1445.72 2069.9,1445.72 2071.95,1445.72 2074,1445.72 2076.05,1445.72 2078.1,1445.72 2080.15,1445.72 2082.2,1445.72 2084.25,1445.72 2086.3,1445.72 2088.35,1445.72 2090.4,1445.72 2092.45,1445.72 2094.5,1445.72 2096.55,1445.72 2098.6,1445.72 2100.65,1445.72 2102.7,1445.72 2104.75,1445.72 2106.8,1445.72 2108.85,1445.72 2110.9,1445.72 2112.95,1445.72 2115,1445.72 2117.05,1445.72 2119.1,1445.72 2121.15,1445.72 2123.2,1445.72 2125.25,1445.72 2127.3,1445.72 2129.35,1445.72 2131.4,1445.72 2133.45,1445.72 2135.5,1445.72 2137.55,1445.72 2139.6,1445.72 2141.65,1445.72 2143.7,1445.72 2145.75,1445.72 2147.8,1445.72 2149.85,1445.72 2151.9,1445.72 2153.95,1445.72 2156,1445.72 2158.05,1445.72 2160.1,1445.72 2162.15,1445.72 2164.2,1445.72 2166.26,1445.72 2168.31,1445.72 2170.36,1445.72 2172.41,1445.72 2174.46,1445.72 2176.51,1445.72 2178.56,1445.72 2180.61,1445.72 2182.66,1445.72 2184.71,1445.72 2186.76,1445.72 2188.81,1445.72 2190.86,1445.72 2192.91,1445.72 2194.96,1445.72 2197.01,1445.72 2199.06,1445.72 2201.11,1445.72 2203.16,1445.72 2205.21,1445.72 2207.26,1445.72 2209.31,1445.72 2211.36,1445.72 2213.41,1445.72 2215.46,1445.72 2217.51,1445.72 2219.56,1445.72 2221.61,1445.72 2223.66,1445.72 2225.71,1445.72 2227.76,1445.72 2229.81,1445.72 2231.86,1445.72 2233.91,1445.72 2235.96,1445.72 2238.01,1445.72 2240.06,1445.72 2242.11,1445.72 2244.16,1445.72 2246.21,1445.72 2248.26,1445.72 2250.31,1445.72 2252.36,1445.72 2254.41,1445.72 2256.46,1445.72 2258.51,1445.72 2260.56,1445.72 2262.61,1445.72 2264.66,1445.72 2266.71,1445.72 2268.76,1445.72 2270.81,1445.72 2272.86,1445.72 2274.91,1445.72 2276.96,1445.72 2279.01,1445.72 2281.06,1445.72 2283.11,1445.72 2285.16,1445.72 2287.21,1445.72 2289.26,1445.72 2291.31,1445.72 \"/>\n",
       "<polyline clip-path=\"url(#clip692)\" style=\"stroke:#e26f46; stroke-linecap:round; stroke-linejoin:round; stroke-width:4; stroke-opacity:1; fill:none\" points=\"243.227,1073.45 245.277,1071.36 247.328,1071.64 249.378,1071.81 251.428,1071.79 253.478,1071.79 255.528,1071.79 257.578,1071.79 259.628,1071.79 261.679,1071.79 263.729,1071.79 265.779,1071.79 267.829,1071.79 269.879,1071.79 271.929,1071.79 273.979,1071.79 276.029,1071.79 278.08,1071.79 280.13,1071.79 282.18,1071.79 284.23,1071.79 286.28,1071.79 288.33,1071.79 290.38,1071.79 292.431,1071.79 294.481,1071.79 296.531,1071.79 298.581,1071.79 300.631,1071.79 302.681,1071.79 304.731,1071.79 306.782,1071.79 308.832,1071.79 310.882,1071.79 312.932,1071.79 314.982,1071.79 317.032,1071.79 319.082,1071.79 321.132,1071.79 323.183,1071.79 325.233,1071.79 327.283,1071.79 329.333,1071.79 331.383,1071.79 333.433,1071.79 335.483,1071.79 337.534,1071.79 339.584,1071.79 341.634,1071.79 343.684,1071.79 345.734,1071.79 347.784,1071.79 349.834,1071.79 351.885,1071.79 353.935,1071.79 355.985,1071.79 358.035,1071.79 360.085,1071.79 362.135,1071.79 364.185,1071.79 366.235,1071.79 368.286,1071.79 370.336,1071.79 372.386,1071.79 374.436,1071.79 376.486,1071.79 378.536,1071.79 380.586,1071.79 382.637,1071.79 384.687,1071.79 386.737,1071.79 388.787,1071.79 390.837,1071.79 392.887,1071.79 394.937,1071.79 396.988,1071.79 399.038,1071.79 401.088,1071.79 403.138,1071.79 405.188,1071.79 407.238,1071.79 409.288,1071.79 411.338,1071.79 413.389,1071.79 415.439,1071.79 417.489,1071.79 419.539,1071.79 421.589,1071.79 423.639,1071.79 425.689,1071.79 427.74,1071.79 429.79,1071.79 431.84,1071.79 433.89,1071.79 435.94,1071.79 437.99,1071.79 440.04,1071.79 442.091,1071.79 444.141,1071.79 446.191,1071.79 448.241,1071.79 450.291,1071.79 452.341,1071.79 454.391,1071.79 456.441,1071.79 458.492,1071.79 460.542,1071.79 462.592,1071.79 464.642,1071.79 466.692,1071.79 468.742,1071.79 470.792,1071.79 472.843,1071.79 474.893,1071.79 476.943,1071.79 478.993,1071.79 481.043,1071.79 483.093,1071.79 485.143,1071.79 487.194,1071.79 489.244,1071.79 491.294,1071.79 493.344,1071.79 495.394,1071.79 497.444,1071.79 499.494,1071.79 501.544,1071.79 503.595,1071.79 505.645,1071.79 507.695,1071.79 509.745,1071.79 511.795,1071.79 513.845,1071.79 515.895,1071.79 517.946,1071.79 519.996,1071.79 522.046,1071.79 524.096,1071.79 526.146,1071.79 528.196,1071.79 530.246,1071.79 532.297,1071.79 534.347,1071.79 536.397,1071.79 538.447,1071.79 540.497,1071.79 542.547,1071.79 544.597,1071.79 546.647,1071.79 548.698,1071.79 550.748,1071.79 552.798,1071.79 554.848,1071.79 556.898,1071.79 558.948,1071.79 560.998,1071.79 563.049,1071.79 565.099,1071.79 567.149,1071.79 569.199,1071.79 571.249,1071.79 573.299,1071.79 575.349,1071.79 577.4,1071.79 579.45,1071.79 581.5,1071.79 583.55,1071.79 585.6,1071.79 587.65,1071.79 589.7,1071.79 591.75,1071.79 593.801,1071.79 595.851,1071.79 597.901,1071.79 599.951,1071.79 602.001,1071.79 604.051,1071.79 606.101,1071.79 608.152,1071.79 610.202,1071.79 612.252,1071.79 614.302,1071.79 616.352,1071.79 618.402,1071.79 620.452,1071.79 622.502,1071.79 624.553,1071.79 626.603,1071.79 628.653,1071.79 630.703,1071.79 632.753,1071.79 634.803,1071.79 636.853,1071.79 638.904,1071.79 640.954,1071.79 643.004,1071.79 645.054,1071.79 647.104,1071.79 649.154,1071.79 651.204,1071.79 653.255,1071.79 655.305,1071.79 657.355,1071.79 659.405,1071.79 661.455,1071.79 663.505,1071.79 665.555,1071.79 667.605,1071.79 669.656,1071.79 671.706,1071.79 673.756,1071.79 675.806,1071.79 677.856,1071.79 679.906,1071.79 681.956,1071.79 684.007,1071.79 686.057,1071.79 688.107,1071.79 690.157,1071.79 692.207,1071.79 694.257,1071.79 696.307,1071.79 698.358,1071.79 700.408,1071.79 702.458,1071.79 704.508,1071.79 706.558,1071.79 708.608,1071.79 710.658,1071.79 712.708,1071.79 714.759,1071.79 716.809,1071.79 718.859,1071.79 720.909,1071.79 722.959,1071.79 725.009,1071.79 727.059,1071.79 729.11,1071.79 731.16,1071.79 733.21,1071.79 735.26,1071.79 737.31,1071.79 739.36,1071.79 741.41,1071.79 743.461,1071.79 745.511,1071.79 747.561,1071.79 749.611,1071.79 751.661,1071.79 753.711,1071.79 755.761,1071.79 757.811,1071.79 759.862,1071.79 761.912,1071.79 763.962,1071.79 766.012,1071.79 768.062,1071.79 770.112,1071.79 772.162,1071.79 774.213,1071.79 776.263,1071.79 778.313,1071.79 780.363,1071.79 782.413,1071.79 784.463,1071.79 786.513,1071.79 788.564,1071.79 790.614,1071.79 792.664,1071.79 794.714,1071.79 796.764,1071.79 798.814,1071.79 800.864,1071.79 802.914,1071.79 804.965,1071.79 807.015,1071.79 809.065,1071.79 811.115,1071.79 813.165,1071.79 815.215,1071.79 817.265,1071.79 819.316,1071.79 821.366,1071.79 823.416,1071.79 825.466,1071.79 827.516,1071.79 829.566,1071.79 831.616,1071.79 833.667,1071.79 835.717,1071.79 837.767,1071.79 839.817,1071.79 841.867,1071.79 843.917,1071.79 845.967,1071.79 848.017,1071.79 850.068,1071.79 852.118,1071.79 854.168,1071.79 856.218,1071.79 858.268,1071.79 860.318,1071.79 862.368,1071.79 864.419,1071.79 866.469,1071.79 868.519,1071.79 870.569,1071.79 872.619,1071.79 874.669,1071.79 876.719,1071.79 878.77,1071.79 880.82,1071.79 882.87,1071.79 884.92,1071.79 886.97,1071.79 889.02,1071.79 891.07,1071.79 893.12,1071.79 895.171,1071.79 897.221,1071.79 899.271,1071.79 901.321,1071.79 903.371,1071.79 905.421,1071.79 907.471,1071.79 909.522,1071.79 911.572,1071.79 913.622,1071.79 915.672,1071.79 917.722,1071.79 919.772,1071.79 921.822,1071.79 923.873,1071.79 925.923,1071.79 927.973,1071.79 930.023,1071.79 932.073,1071.79 934.123,1071.79 936.173,1071.79 938.223,1071.79 940.274,1071.79 942.324,1071.79 944.374,1071.79 946.424,1071.79 948.474,1071.79 950.524,1071.79 952.574,1071.79 954.625,1071.79 956.675,1071.79 958.725,1071.79 960.775,1071.79 962.825,1071.79 964.875,1071.79 966.925,1071.79 968.976,1071.79 971.026,1071.79 973.076,1071.79 975.126,1071.79 977.176,1071.79 979.226,1071.79 981.276,1071.79 983.326,1071.79 985.377,1071.79 987.427,1071.79 989.477,1071.79 991.527,1071.79 993.577,1071.79 995.627,1071.79 997.677,1071.79 999.728,1071.79 1001.78,1071.79 1003.83,1071.79 1005.88,1071.79 1007.93,1071.79 1009.98,1071.79 1012.03,1071.79 1014.08,1071.79 1016.13,1071.79 1018.18,1071.79 1020.23,1071.79 1022.28,1071.79 1024.33,1071.79 1026.38,1071.79 1028.43,1071.79 1030.48,1071.79 1032.53,1071.79 1034.58,1071.79 1036.63,1071.79 1038.68,1071.79 1040.73,1071.79 1042.78,1071.79 1044.83,1071.79 1046.88,1071.79 1048.93,1071.79 1050.98,1071.79 1053.03,1071.79 1055.08,1071.79 1057.13,1071.79 1059.18,1071.79 1061.23,1071.79 1063.28,1071.79 1065.33,1071.79 1067.38,1071.79 1069.43,1071.79 1071.48,1071.79 1073.53,1071.79 1075.58,1071.79 1077.63,1071.79 1079.68,1071.79 1081.73,1071.79 1083.78,1071.79 1085.83,1071.79 1087.88,1071.79 1089.93,1071.79 1091.98,1071.79 1094.03,1071.79 1096.08,1071.79 1098.13,1071.79 1100.18,1071.79 1102.23,1071.79 1104.28,1071.79 1106.33,1071.79 1108.38,1071.79 1110.43,1071.79 1112.49,1071.79 1114.54,1071.79 1116.59,1071.79 1118.64,1071.79 1120.69,1071.79 1122.74,1071.79 1124.79,1071.79 1126.84,1071.79 1128.89,1071.79 1130.94,1071.79 1132.99,1071.79 1135.04,1071.79 1137.09,1071.79 1139.14,1071.79 1141.19,1071.79 1143.24,1071.79 1145.29,1071.79 1147.34,1071.79 1149.39,1071.79 1151.44,1071.79 1153.49,1071.79 1155.54,1071.79 1157.59,1071.79 1159.64,1071.79 1161.69,1071.79 1163.74,1071.79 1165.79,1071.79 1167.84,1071.79 1169.89,1071.79 1171.94,1071.79 1173.99,1071.79 1176.04,1071.79 1178.09,1071.79 1180.14,1071.79 1182.19,1071.79 1184.24,1071.79 1186.29,1071.79 1188.34,1071.79 1190.39,1071.79 1192.44,1071.79 1194.49,1071.79 1196.54,1071.79 1198.59,1071.79 1200.64,1071.79 1202.69,1071.79 1204.74,1071.79 1206.79,1071.79 1208.84,1071.79 1210.89,1071.79 1212.94,1071.79 1214.99,1071.79 1217.04,1071.79 1219.09,1071.79 1221.14,1071.79 1223.19,1071.79 1225.24,1071.79 1227.29,1071.79 1229.34,1071.79 1231.39,1071.79 1233.44,1071.79 1235.49,1071.79 1237.54,1071.79 1239.59,1071.79 1241.64,1071.79 1243.69,1071.79 1245.74,1071.79 1247.79,1071.79 1249.84,1071.79 1251.89,1071.79 1253.94,1071.79 1255.99,1071.79 1258.04,1071.79 1260.09,1071.79 1262.14,1071.79 1264.2,1071.79 1266.25,1071.79 1268.3,1071.79 1270.35,1071.79 1272.4,1071.79 1274.45,1071.79 1276.5,1071.79 1278.55,1071.79 1280.6,1071.79 1282.65,1071.79 1284.7,1071.79 1286.75,1071.79 1288.8,1071.79 1290.85,1071.79 1292.9,1071.79 1294.95,1071.79 1297,1071.79 1299.05,1071.79 1301.1,1071.79 1303.15,1071.79 1305.2,1071.79 1307.25,1071.79 1309.3,1071.79 1311.35,1071.79 1313.4,1071.79 1315.45,1071.79 1317.5,1071.79 1319.55,1071.79 1321.6,1071.79 1323.65,1071.79 1325.7,1071.79 1327.75,1071.79 1329.8,1071.79 1331.85,1071.79 1333.9,1071.79 1335.95,1071.79 1338,1071.79 1340.05,1071.79 1342.1,1071.79 1344.15,1071.79 1346.2,1071.79 1348.25,1071.79 1350.3,1071.79 1352.35,1071.79 1354.4,1071.79 1356.45,1071.79 1358.5,1071.79 1360.55,1071.79 1362.6,1071.79 1364.65,1071.79 1366.7,1071.79 1368.75,1071.79 1370.8,1071.79 1372.85,1071.79 1374.9,1071.79 1376.95,1071.79 1379,1071.79 1381.05,1071.79 1383.1,1071.79 1385.15,1071.79 1387.2,1071.79 1389.25,1071.79 1391.3,1071.79 1393.35,1071.79 1395.4,1071.79 1397.45,1071.79 1399.5,1071.79 1401.55,1071.79 1403.6,1071.79 1405.65,1071.79 1407.7,1071.79 1409.75,1071.79 1411.8,1071.79 1413.86,1071.79 1415.91,1071.79 1417.96,1071.79 1420.01,1071.79 1422.06,1071.79 1424.11,1071.79 1426.16,1071.79 1428.21,1071.79 1430.26,1071.79 1432.31,1071.79 1434.36,1071.79 1436.41,1071.79 1438.46,1071.79 1440.51,1071.79 1442.56,1071.79 1444.61,1071.79 1446.66,1071.79 1448.71,1071.79 1450.76,1071.79 1452.81,1071.79 1454.86,1071.79 1456.91,1071.79 1458.96,1071.79 1461.01,1071.79 1463.06,1071.79 1465.11,1071.79 1467.16,1071.79 1469.21,1071.79 1471.26,1071.79 1473.31,1071.79 1475.36,1071.79 1477.41,1071.79 1479.46,1071.79 1481.51,1071.79 1483.56,1071.79 1485.61,1071.79 1487.66,1071.79 1489.71,1071.79 1491.76,1071.79 1493.81,1071.79 1495.86,1071.79 1497.91,1071.79 1499.96,1071.79 1502.01,1071.79 1504.06,1071.79 1506.11,1071.79 1508.16,1071.79 1510.21,1071.79 1512.26,1071.79 1514.31,1071.79 1516.36,1071.79 1518.41,1071.79 1520.46,1071.79 1522.51,1071.79 1524.56,1071.79 1526.61,1071.79 1528.66,1071.79 1530.71,1071.79 1532.76,1071.79 1534.81,1071.79 1536.86,1071.79 1538.91,1071.79 1540.96,1071.79 1543.01,1071.79 1545.06,1071.79 1547.11,1071.79 1549.16,1071.79 1551.21,1071.79 1553.26,1071.79 1555.31,1071.79 1557.36,1071.79 1559.41,1071.79 1561.46,1071.79 1563.51,1071.79 1565.57,1071.79 1567.62,1071.79 1569.67,1071.79 1571.72,1071.79 1573.77,1071.79 1575.82,1071.79 1577.87,1071.79 1579.92,1071.79 1581.97,1071.79 1584.02,1071.79 1586.07,1071.79 1588.12,1071.79 1590.17,1071.79 1592.22,1071.79 1594.27,1071.79 1596.32,1071.79 1598.37,1071.79 1600.42,1071.79 1602.47,1071.79 1604.52,1071.79 1606.57,1071.79 1608.62,1071.79 1610.67,1071.79 1612.72,1071.79 1614.77,1071.79 1616.82,1071.79 1618.87,1071.79 1620.92,1071.79 1622.97,1071.79 1625.02,1071.79 1627.07,1071.79 1629.12,1071.79 1631.17,1071.79 1633.22,1071.79 1635.27,1071.79 1637.32,1071.79 1639.37,1071.79 1641.42,1071.79 1643.47,1071.79 1645.52,1071.79 1647.57,1071.79 1649.62,1071.79 1651.67,1071.79 1653.72,1071.79 1655.77,1071.79 1657.82,1071.79 1659.87,1071.79 1661.92,1071.79 1663.97,1071.79 1666.02,1071.79 1668.07,1071.79 1670.12,1071.79 1672.17,1071.79 1674.22,1071.79 1676.27,1071.79 1678.32,1071.79 1680.37,1071.79 1682.42,1071.79 1684.47,1071.79 1686.52,1071.79 1688.57,1071.79 1690.62,1071.79 1692.67,1071.79 1694.72,1071.79 1696.77,1071.79 1698.82,1071.79 1700.87,1071.79 1702.92,1071.79 1704.97,1071.79 1707.02,1071.79 1709.07,1071.79 1711.12,1071.79 1713.17,1071.79 1715.23,1071.79 1717.28,1071.79 1719.33,1071.79 1721.38,1071.79 1723.43,1071.79 1725.48,1071.79 1727.53,1071.79 1729.58,1071.79 1731.63,1071.79 1733.68,1071.79 1735.73,1071.79 1737.78,1071.79 1739.83,1071.79 1741.88,1071.79 1743.93,1071.79 1745.98,1071.79 1748.03,1071.79 1750.08,1071.79 1752.13,1071.79 1754.18,1071.79 1756.23,1071.79 1758.28,1071.79 1760.33,1071.79 1762.38,1071.79 1764.43,1071.79 1766.48,1071.79 1768.53,1071.79 1770.58,1071.79 1772.63,1071.79 1774.68,1071.79 1776.73,1071.79 1778.78,1071.79 1780.83,1071.79 1782.88,1071.79 1784.93,1071.79 1786.98,1071.79 1789.03,1071.79 1791.08,1071.79 1793.13,1071.79 1795.18,1071.79 1797.23,1071.79 1799.28,1071.79 1801.33,1071.79 1803.38,1071.79 1805.43,1071.79 1807.48,1071.79 1809.53,1071.79 1811.58,1071.79 1813.63,1071.79 1815.68,1071.79 1817.73,1071.79 1819.78,1071.79 1821.83,1071.79 1823.88,1071.79 1825.93,1071.79 1827.98,1071.79 1830.03,1071.79 1832.08,1071.79 1834.13,1071.79 1836.18,1071.79 1838.23,1071.79 1840.28,1071.79 1842.33,1071.79 1844.38,1071.79 1846.43,1071.79 1848.48,1071.79 1850.53,1071.79 1852.58,1071.79 1854.63,1071.79 1856.68,1071.79 1858.73,1071.79 1860.78,1071.79 1862.83,1071.79 1864.89,1071.79 1866.94,1071.79 1868.99,1071.79 1871.04,1071.79 1873.09,1071.79 1875.14,1071.79 1877.19,1071.79 1879.24,1071.79 1881.29,1071.79 1883.34,1071.79 1885.39,1071.79 1887.44,1071.79 1889.49,1071.79 1891.54,1071.79 1893.59,1071.79 1895.64,1071.79 1897.69,1071.79 1899.74,1071.79 1901.79,1071.79 1903.84,1071.79 1905.89,1071.79 1907.94,1071.79 1909.99,1071.79 1912.04,1071.79 1914.09,1071.79 1916.14,1071.79 1918.19,1071.79 1920.24,1071.79 1922.29,1071.79 1924.34,1071.79 1926.39,1071.79 1928.44,1071.79 1930.49,1071.79 1932.54,1071.79 1934.59,1071.79 1936.64,1071.79 1938.69,1071.79 1940.74,1071.79 1942.79,1071.79 1944.84,1071.79 1946.89,1071.79 1948.94,1071.79 1950.99,1071.79 1953.04,1071.79 1955.09,1071.79 1957.14,1071.79 1959.19,1071.79 1961.24,1071.79 1963.29,1071.79 1965.34,1071.79 1967.39,1071.79 1969.44,1071.79 1971.49,1071.79 1973.54,1071.79 1975.59,1071.79 1977.64,1071.79 1979.69,1071.79 1981.74,1071.79 1983.79,1071.79 1985.84,1071.79 1987.89,1071.79 1989.94,1071.79 1991.99,1071.79 1994.04,1071.79 1996.09,1071.79 1998.14,1071.79 2000.19,1071.79 2002.24,1071.79 2004.29,1071.79 2006.34,1071.79 2008.39,1071.79 2010.44,1071.79 2012.49,1071.79 2014.54,1071.79 2016.6,1071.79 2018.65,1071.79 2020.7,1071.79 2022.75,1071.79 2024.8,1071.79 2026.85,1071.79 2028.9,1071.79 2030.95,1071.79 2033,1071.79 2035.05,1071.79 2037.1,1071.79 2039.15,1071.79 2041.2,1071.79 2043.25,1071.79 2045.3,1071.79 2047.35,1071.79 2049.4,1071.79 2051.45,1071.79 2053.5,1071.79 2055.55,1071.79 2057.6,1071.79 2059.65,1071.79 2061.7,1071.79 2063.75,1071.79 2065.8,1071.79 2067.85,1071.79 2069.9,1071.79 2071.95,1071.79 2074,1071.79 2076.05,1071.79 2078.1,1071.79 2080.15,1071.79 2082.2,1071.79 2084.25,1071.79 2086.3,1071.79 2088.35,1071.79 2090.4,1071.79 2092.45,1071.79 2094.5,1071.79 2096.55,1071.79 2098.6,1071.79 2100.65,1071.79 2102.7,1071.79 2104.75,1071.79 2106.8,1071.79 2108.85,1071.79 2110.9,1071.79 2112.95,1071.79 2115,1071.79 2117.05,1071.79 2119.1,1071.79 2121.15,1071.79 2123.2,1071.79 2125.25,1071.79 2127.3,1071.79 2129.35,1071.79 2131.4,1071.79 2133.45,1071.79 2135.5,1071.79 2137.55,1071.79 2139.6,1071.79 2141.65,1071.79 2143.7,1071.79 2145.75,1071.79 2147.8,1071.79 2149.85,1071.79 2151.9,1071.79 2153.95,1071.79 2156,1071.79 2158.05,1071.79 2160.1,1071.79 2162.15,1071.79 2164.2,1071.79 2166.26,1071.79 2168.31,1071.79 2170.36,1071.79 2172.41,1071.79 2174.46,1071.79 2176.51,1071.79 2178.56,1071.79 2180.61,1071.79 2182.66,1071.79 2184.71,1071.79 2186.76,1071.79 2188.81,1071.79 2190.86,1071.79 2192.91,1071.79 2194.96,1071.79 2197.01,1071.79 2199.06,1071.79 2201.11,1071.79 2203.16,1071.79 2205.21,1071.79 2207.26,1071.79 2209.31,1071.79 2211.36,1071.79 2213.41,1071.79 2215.46,1071.79 2217.51,1071.79 2219.56,1071.79 2221.61,1071.79 2223.66,1071.79 2225.71,1071.79 2227.76,1071.79 2229.81,1071.79 2231.86,1071.79 2233.91,1071.79 2235.96,1071.79 2238.01,1071.79 2240.06,1071.79 2242.11,1071.79 2244.16,1071.79 2246.21,1071.79 2248.26,1071.79 2250.31,1071.79 2252.36,1071.79 2254.41,1071.79 2256.46,1071.79 2258.51,1071.79 2260.56,1071.79 2262.61,1071.79 2264.66,1071.79 2266.71,1071.79 2268.76,1071.79 2270.81,1071.79 2272.86,1071.79 2274.91,1071.79 2276.96,1071.79 2279.01,1071.79 2281.06,1071.79 2283.11,1071.79 2285.16,1071.79 2287.21,1071.79 2289.26,1071.79 2291.31,1071.79 \"/>\n",
       "<polyline clip-path=\"url(#clip692)\" style=\"stroke:#3da44d; stroke-linecap:round; stroke-linejoin:round; stroke-width:4; stroke-opacity:1; fill:none\" points=\"243.227,1060.87 245.277,1062.42 247.328,1052.54 249.378,1055.79 251.428,1052.54 253.478,1060.98 255.528,1058.02 257.578,1082.39 259.628,1064.91 261.679,1074.17 263.729,1068.94 265.779,1070.81 267.829,1070.05 269.879,1070.31 271.929,1070.22 273.979,1070.25 276.029,1070.24 278.08,1070.24 280.13,1070.24 282.18,1070.24 284.23,1070.24 286.28,1070.24 288.33,1070.24 290.38,1070.24 292.431,1070.24 294.481,1070.24 296.531,1070.24 298.581,1070.24 300.631,1070.24 302.681,1070.24 304.731,1070.24 306.782,1070.24 308.832,1070.24 310.882,1070.24 312.932,1070.24 314.982,1070.24 317.032,1070.24 319.082,1070.24 321.132,1070.24 323.183,1070.24 325.233,1070.24 327.283,1070.24 329.333,1070.24 331.383,1070.24 333.433,1070.24 335.483,1070.24 337.534,1070.24 339.584,1070.24 341.634,1070.24 343.684,1070.24 345.734,1070.24 347.784,1070.24 349.834,1070.24 351.885,1070.24 353.935,1070.24 355.985,1070.24 358.035,1070.24 360.085,1070.24 362.135,1070.24 364.185,1070.24 366.235,1070.24 368.286,1070.24 370.336,1070.24 372.386,1070.24 374.436,1070.24 376.486,1070.24 378.536,1070.24 380.586,1070.24 382.637,1070.24 384.687,1070.24 386.737,1070.24 388.787,1070.24 390.837,1070.24 392.887,1070.24 394.937,1070.24 396.988,1070.24 399.038,1070.24 401.088,1070.24 403.138,1070.24 405.188,1070.24 407.238,1070.24 409.288,1070.24 411.338,1070.24 413.389,1070.24 415.439,1070.24 417.489,1070.24 419.539,1070.24 421.589,1070.24 423.639,1070.24 425.689,1070.24 427.74,1070.24 429.79,1070.24 431.84,1070.24 433.89,1070.24 435.94,1070.24 437.99,1070.24 440.04,1070.24 442.091,1070.24 444.141,1070.24 446.191,1070.24 448.241,1070.24 450.291,1070.24 452.341,1070.24 454.391,1070.24 456.441,1070.24 458.492,1070.24 460.542,1070.24 462.592,1070.24 464.642,1070.24 466.692,1070.24 468.742,1070.24 470.792,1070.24 472.843,1070.24 474.893,1070.24 476.943,1070.24 478.993,1070.24 481.043,1070.24 483.093,1070.24 485.143,1070.24 487.194,1070.24 489.244,1070.24 491.294,1070.24 493.344,1070.24 495.394,1070.24 497.444,1070.24 499.494,1070.24 501.544,1070.24 503.595,1070.24 505.645,1070.24 507.695,1070.24 509.745,1070.24 511.795,1070.24 513.845,1070.24 515.895,1070.24 517.946,1070.24 519.996,1070.24 522.046,1070.24 524.096,1070.24 526.146,1070.24 528.196,1070.24 530.246,1070.24 532.297,1070.24 534.347,1070.24 536.397,1070.24 538.447,1070.24 540.497,1070.24 542.547,1070.24 544.597,1070.24 546.647,1070.24 548.698,1070.24 550.748,1070.24 552.798,1070.24 554.848,1070.24 556.898,1070.24 558.948,1070.24 560.998,1070.24 563.049,1070.24 565.099,1070.24 567.149,1070.24 569.199,1070.24 571.249,1070.24 573.299,1070.24 575.349,1070.24 577.4,1070.24 579.45,1070.24 581.5,1070.24 583.55,1070.24 585.6,1070.24 587.65,1070.24 589.7,1070.24 591.75,1070.24 593.801,1070.24 595.851,1070.24 597.901,1070.24 599.951,1070.24 602.001,1070.24 604.051,1070.24 606.101,1070.24 608.152,1070.24 610.202,1070.24 612.252,1070.24 614.302,1070.24 616.352,1070.24 618.402,1070.24 620.452,1070.24 622.502,1070.24 624.553,1070.24 626.603,1070.24 628.653,1070.24 630.703,1070.24 632.753,1070.24 634.803,1070.24 636.853,1070.24 638.904,1070.24 640.954,1070.24 643.004,1070.24 645.054,1070.24 647.104,1070.24 649.154,1070.24 651.204,1070.24 653.255,1070.24 655.305,1070.24 657.355,1070.24 659.405,1070.24 661.455,1070.24 663.505,1070.24 665.555,1070.24 667.605,1070.24 669.656,1070.24 671.706,1070.24 673.756,1070.24 675.806,1070.24 677.856,1070.24 679.906,1070.24 681.956,1070.24 684.007,1070.24 686.057,1070.24 688.107,1070.24 690.157,1070.24 692.207,1070.24 694.257,1070.24 696.307,1070.24 698.358,1070.24 700.408,1070.24 702.458,1070.24 704.508,1070.24 706.558,1070.24 708.608,1070.24 710.658,1070.24 712.708,1070.24 714.759,1070.24 716.809,1070.24 718.859,1070.24 720.909,1070.24 722.959,1070.24 725.009,1070.24 727.059,1070.24 729.11,1070.24 731.16,1070.24 733.21,1070.24 735.26,1070.24 737.31,1070.24 739.36,1070.24 741.41,1070.24 743.461,1070.24 745.511,1070.24 747.561,1070.24 749.611,1070.24 751.661,1070.24 753.711,1070.24 755.761,1070.24 757.811,1070.24 759.862,1070.24 761.912,1070.24 763.962,1070.24 766.012,1070.24 768.062,1070.24 770.112,1070.24 772.162,1070.24 774.213,1070.24 776.263,1070.24 778.313,1070.24 780.363,1070.24 782.413,1070.24 784.463,1070.24 786.513,1070.24 788.564,1070.24 790.614,1070.24 792.664,1070.24 794.714,1070.24 796.764,1070.24 798.814,1070.24 800.864,1070.24 802.914,1070.24 804.965,1070.24 807.015,1070.24 809.065,1070.24 811.115,1070.24 813.165,1070.24 815.215,1070.24 817.265,1070.24 819.316,1070.24 821.366,1070.24 823.416,1070.24 825.466,1070.24 827.516,1070.24 829.566,1070.24 831.616,1070.24 833.667,1070.24 835.717,1070.24 837.767,1070.24 839.817,1070.24 841.867,1070.24 843.917,1070.24 845.967,1070.24 848.017,1070.24 850.068,1070.24 852.118,1070.24 854.168,1070.24 856.218,1070.24 858.268,1070.24 860.318,1070.24 862.368,1070.24 864.419,1070.24 866.469,1070.24 868.519,1070.24 870.569,1070.24 872.619,1070.24 874.669,1070.24 876.719,1070.24 878.77,1070.24 880.82,1070.24 882.87,1070.24 884.92,1070.24 886.97,1070.24 889.02,1070.24 891.07,1070.24 893.12,1070.24 895.171,1070.24 897.221,1070.24 899.271,1070.24 901.321,1070.24 903.371,1070.24 905.421,1070.24 907.471,1070.24 909.522,1070.24 911.572,1070.24 913.622,1070.24 915.672,1070.24 917.722,1070.24 919.772,1070.24 921.822,1070.24 923.873,1070.24 925.923,1070.24 927.973,1070.24 930.023,1070.24 932.073,1070.24 934.123,1070.24 936.173,1070.24 938.223,1070.24 940.274,1070.24 942.324,1070.24 944.374,1070.24 946.424,1070.24 948.474,1070.24 950.524,1070.24 952.574,1070.24 954.625,1070.24 956.675,1070.24 958.725,1070.24 960.775,1070.24 962.825,1070.24 964.875,1070.24 966.925,1070.24 968.976,1070.24 971.026,1070.24 973.076,1070.24 975.126,1070.24 977.176,1070.24 979.226,1070.24 981.276,1070.24 983.326,1070.24 985.377,1070.24 987.427,1070.24 989.477,1070.24 991.527,1070.24 993.577,1070.24 995.627,1070.24 997.677,1070.24 999.728,1070.24 1001.78,1070.24 1003.83,1070.24 1005.88,1070.24 1007.93,1070.24 1009.98,1070.24 1012.03,1070.24 1014.08,1070.24 1016.13,1070.24 1018.18,1070.24 1020.23,1070.24 1022.28,1070.24 1024.33,1070.24 1026.38,1070.24 1028.43,1070.24 1030.48,1070.24 1032.53,1070.24 1034.58,1070.24 1036.63,1070.24 1038.68,1070.24 1040.73,1070.24 1042.78,1070.24 1044.83,1070.24 1046.88,1070.24 1048.93,1070.24 1050.98,1070.24 1053.03,1070.24 1055.08,1070.24 1057.13,1070.24 1059.18,1070.24 1061.23,1070.24 1063.28,1070.24 1065.33,1070.24 1067.38,1070.24 1069.43,1070.24 1071.48,1070.24 1073.53,1070.24 1075.58,1070.24 1077.63,1070.24 1079.68,1070.24 1081.73,1070.24 1083.78,1070.24 1085.83,1070.24 1087.88,1070.24 1089.93,1070.24 1091.98,1070.24 1094.03,1070.24 1096.08,1070.24 1098.13,1070.24 1100.18,1070.24 1102.23,1070.24 1104.28,1070.24 1106.33,1070.24 1108.38,1070.24 1110.43,1070.24 1112.49,1070.24 1114.54,1070.24 1116.59,1070.24 1118.64,1070.24 1120.69,1070.24 1122.74,1070.24 1124.79,1070.24 1126.84,1070.24 1128.89,1070.24 1130.94,1070.24 1132.99,1070.24 1135.04,1070.24 1137.09,1070.24 1139.14,1070.24 1141.19,1070.24 1143.24,1070.24 1145.29,1070.24 1147.34,1070.24 1149.39,1070.24 1151.44,1070.24 1153.49,1070.24 1155.54,1070.24 1157.59,1070.24 1159.64,1070.24 1161.69,1070.24 1163.74,1070.24 1165.79,1070.24 1167.84,1070.24 1169.89,1070.24 1171.94,1070.24 1173.99,1070.24 1176.04,1070.24 1178.09,1070.24 1180.14,1070.24 1182.19,1070.24 1184.24,1070.24 1186.29,1070.24 1188.34,1070.24 1190.39,1070.24 1192.44,1070.24 1194.49,1070.24 1196.54,1070.24 1198.59,1070.24 1200.64,1070.24 1202.69,1070.24 1204.74,1070.24 1206.79,1070.24 1208.84,1070.24 1210.89,1070.24 1212.94,1070.24 1214.99,1070.24 1217.04,1070.24 1219.09,1070.24 1221.14,1070.24 1223.19,1070.24 1225.24,1070.24 1227.29,1070.24 1229.34,1070.24 1231.39,1070.24 1233.44,1070.24 1235.49,1070.24 1237.54,1070.24 1239.59,1070.24 1241.64,1070.24 1243.69,1070.24 1245.74,1070.24 1247.79,1070.24 1249.84,1070.24 1251.89,1070.24 1253.94,1070.24 1255.99,1070.24 1258.04,1070.24 1260.09,1070.24 1262.14,1070.24 1264.2,1070.24 1266.25,1070.24 1268.3,1070.24 1270.35,1070.24 1272.4,1070.24 1274.45,1070.24 1276.5,1070.24 1278.55,1070.24 1280.6,1070.24 1282.65,1070.24 1284.7,1070.24 1286.75,1070.24 1288.8,1070.24 1290.85,1070.24 1292.9,1070.24 1294.95,1070.24 1297,1070.24 1299.05,1070.24 1301.1,1070.24 1303.15,1070.24 1305.2,1070.24 1307.25,1070.24 1309.3,1070.24 1311.35,1070.24 1313.4,1070.24 1315.45,1070.24 1317.5,1070.24 1319.55,1070.24 1321.6,1070.24 1323.65,1070.24 1325.7,1070.24 1327.75,1070.24 1329.8,1070.24 1331.85,1070.24 1333.9,1070.24 1335.95,1070.24 1338,1070.24 1340.05,1070.24 1342.1,1070.24 1344.15,1070.24 1346.2,1070.24 1348.25,1070.24 1350.3,1070.24 1352.35,1070.24 1354.4,1070.24 1356.45,1070.24 1358.5,1070.24 1360.55,1070.24 1362.6,1070.24 1364.65,1070.24 1366.7,1070.24 1368.75,1070.24 1370.8,1070.24 1372.85,1070.24 1374.9,1070.24 1376.95,1070.24 1379,1070.24 1381.05,1070.24 1383.1,1070.24 1385.15,1070.24 1387.2,1070.24 1389.25,1070.24 1391.3,1070.24 1393.35,1070.24 1395.4,1070.24 1397.45,1070.24 1399.5,1070.24 1401.55,1070.24 1403.6,1070.24 1405.65,1070.24 1407.7,1070.24 1409.75,1070.24 1411.8,1070.24 1413.86,1070.24 1415.91,1070.24 1417.96,1070.24 1420.01,1070.24 1422.06,1070.24 1424.11,1070.24 1426.16,1070.24 1428.21,1070.24 1430.26,1070.24 1432.31,1070.24 1434.36,1070.24 1436.41,1070.24 1438.46,1070.24 1440.51,1070.24 1442.56,1070.24 1444.61,1070.24 1446.66,1070.24 1448.71,1070.24 1450.76,1070.24 1452.81,1070.24 1454.86,1070.24 1456.91,1070.24 1458.96,1070.24 1461.01,1070.24 1463.06,1070.24 1465.11,1070.24 1467.16,1070.24 1469.21,1070.24 1471.26,1070.24 1473.31,1070.24 1475.36,1070.24 1477.41,1070.24 1479.46,1070.24 1481.51,1070.24 1483.56,1070.24 1485.61,1070.24 1487.66,1070.24 1489.71,1070.24 1491.76,1070.24 1493.81,1070.24 1495.86,1070.24 1497.91,1070.24 1499.96,1070.24 1502.01,1070.24 1504.06,1070.24 1506.11,1070.24 1508.16,1070.24 1510.21,1070.24 1512.26,1070.24 1514.31,1070.24 1516.36,1070.24 1518.41,1070.24 1520.46,1070.24 1522.51,1070.24 1524.56,1070.24 1526.61,1070.24 1528.66,1070.24 1530.71,1070.24 1532.76,1070.24 1534.81,1070.24 1536.86,1070.24 1538.91,1070.24 1540.96,1070.24 1543.01,1070.24 1545.06,1070.24 1547.11,1070.24 1549.16,1070.24 1551.21,1070.24 1553.26,1070.24 1555.31,1070.24 1557.36,1070.24 1559.41,1070.24 1561.46,1070.24 1563.51,1070.24 1565.57,1070.24 1567.62,1070.24 1569.67,1070.24 1571.72,1070.24 1573.77,1070.24 1575.82,1070.24 1577.87,1070.24 1579.92,1070.24 1581.97,1070.24 1584.02,1070.24 1586.07,1070.24 1588.12,1070.24 1590.17,1070.24 1592.22,1070.24 1594.27,1070.24 1596.32,1070.24 1598.37,1070.24 1600.42,1070.24 1602.47,1070.24 1604.52,1070.24 1606.57,1070.24 1608.62,1070.24 1610.67,1070.24 1612.72,1070.24 1614.77,1070.24 1616.82,1070.24 1618.87,1070.24 1620.92,1070.24 1622.97,1070.24 1625.02,1070.24 1627.07,1070.24 1629.12,1070.24 1631.17,1070.24 1633.22,1070.24 1635.27,1070.24 1637.32,1070.24 1639.37,1070.24 1641.42,1070.24 1643.47,1070.24 1645.52,1070.24 1647.57,1070.24 1649.62,1070.24 1651.67,1070.24 1653.72,1070.24 1655.77,1070.24 1657.82,1070.24 1659.87,1070.24 1661.92,1070.24 1663.97,1070.24 1666.02,1070.24 1668.07,1070.24 1670.12,1070.24 1672.17,1070.24 1674.22,1070.24 1676.27,1070.24 1678.32,1070.24 1680.37,1070.24 1682.42,1070.24 1684.47,1070.24 1686.52,1070.24 1688.57,1070.24 1690.62,1070.24 1692.67,1070.24 1694.72,1070.24 1696.77,1070.24 1698.82,1070.24 1700.87,1070.24 1702.92,1070.24 1704.97,1070.24 1707.02,1070.24 1709.07,1070.24 1711.12,1070.24 1713.17,1070.24 1715.23,1070.24 1717.28,1070.24 1719.33,1070.24 1721.38,1070.24 1723.43,1070.24 1725.48,1070.24 1727.53,1070.24 1729.58,1070.24 1731.63,1070.24 1733.68,1070.24 1735.73,1070.24 1737.78,1070.24 1739.83,1070.24 1741.88,1070.24 1743.93,1070.24 1745.98,1070.24 1748.03,1070.24 1750.08,1070.24 1752.13,1070.24 1754.18,1070.24 1756.23,1070.24 1758.28,1070.24 1760.33,1070.24 1762.38,1070.24 1764.43,1070.24 1766.48,1070.24 1768.53,1070.24 1770.58,1070.24 1772.63,1070.24 1774.68,1070.24 1776.73,1070.24 1778.78,1070.24 1780.83,1070.24 1782.88,1070.24 1784.93,1070.24 1786.98,1070.24 1789.03,1070.24 1791.08,1070.24 1793.13,1070.24 1795.18,1070.24 1797.23,1070.24 1799.28,1070.24 1801.33,1070.24 1803.38,1070.24 1805.43,1070.24 1807.48,1070.24 1809.53,1070.24 1811.58,1070.24 1813.63,1070.24 1815.68,1070.24 1817.73,1070.24 1819.78,1070.24 1821.83,1070.24 1823.88,1070.24 1825.93,1070.24 1827.98,1070.24 1830.03,1070.24 1832.08,1070.24 1834.13,1070.24 1836.18,1070.24 1838.23,1070.24 1840.28,1070.24 1842.33,1070.24 1844.38,1070.24 1846.43,1070.24 1848.48,1070.24 1850.53,1070.24 1852.58,1070.24 1854.63,1070.24 1856.68,1070.24 1858.73,1070.24 1860.78,1070.24 1862.83,1070.24 1864.89,1070.24 1866.94,1070.24 1868.99,1070.24 1871.04,1070.24 1873.09,1070.24 1875.14,1070.24 1877.19,1070.24 1879.24,1070.24 1881.29,1070.24 1883.34,1070.24 1885.39,1070.24 1887.44,1070.24 1889.49,1070.24 1891.54,1070.24 1893.59,1070.24 1895.64,1070.24 1897.69,1070.24 1899.74,1070.24 1901.79,1070.24 1903.84,1070.24 1905.89,1070.24 1907.94,1070.24 1909.99,1070.24 1912.04,1070.24 1914.09,1070.24 1916.14,1070.24 1918.19,1070.24 1920.24,1070.24 1922.29,1070.24 1924.34,1070.24 1926.39,1070.24 1928.44,1070.24 1930.49,1070.24 1932.54,1070.24 1934.59,1070.24 1936.64,1070.24 1938.69,1070.24 1940.74,1070.24 1942.79,1070.24 1944.84,1070.24 1946.89,1070.24 1948.94,1070.24 1950.99,1070.24 1953.04,1070.24 1955.09,1070.24 1957.14,1070.24 1959.19,1070.24 1961.24,1070.24 1963.29,1070.24 1965.34,1070.24 1967.39,1070.24 1969.44,1070.24 1971.49,1070.24 1973.54,1070.24 1975.59,1070.24 1977.64,1070.24 1979.69,1070.24 1981.74,1070.24 1983.79,1070.24 1985.84,1070.24 1987.89,1070.24 1989.94,1070.24 1991.99,1070.24 1994.04,1070.24 1996.09,1070.24 1998.14,1070.24 2000.19,1070.24 2002.24,1070.24 2004.29,1070.24 2006.34,1070.24 2008.39,1070.24 2010.44,1070.24 2012.49,1070.24 2014.54,1070.24 2016.6,1070.24 2018.65,1070.24 2020.7,1070.24 2022.75,1070.24 2024.8,1070.24 2026.85,1070.24 2028.9,1070.24 2030.95,1070.24 2033,1070.24 2035.05,1070.24 2037.1,1070.24 2039.15,1070.24 2041.2,1070.24 2043.25,1070.24 2045.3,1070.24 2047.35,1070.24 2049.4,1070.24 2051.45,1070.24 2053.5,1070.24 2055.55,1070.24 2057.6,1070.24 2059.65,1070.24 2061.7,1070.24 2063.75,1070.24 2065.8,1070.24 2067.85,1070.24 2069.9,1070.24 2071.95,1070.24 2074,1070.24 2076.05,1070.24 2078.1,1070.24 2080.15,1070.24 2082.2,1070.24 2084.25,1070.24 2086.3,1070.24 2088.35,1070.24 2090.4,1070.24 2092.45,1070.24 2094.5,1070.24 2096.55,1070.24 2098.6,1070.24 2100.65,1070.24 2102.7,1070.24 2104.75,1070.24 2106.8,1070.24 2108.85,1070.24 2110.9,1070.24 2112.95,1070.24 2115,1070.24 2117.05,1070.24 2119.1,1070.24 2121.15,1070.24 2123.2,1070.24 2125.25,1070.24 2127.3,1070.24 2129.35,1070.24 2131.4,1070.24 2133.45,1070.24 2135.5,1070.24 2137.55,1070.24 2139.6,1070.24 2141.65,1070.24 2143.7,1070.24 2145.75,1070.24 2147.8,1070.24 2149.85,1070.24 2151.9,1070.24 2153.95,1070.24 2156,1070.24 2158.05,1070.24 2160.1,1070.24 2162.15,1070.24 2164.2,1070.24 2166.26,1070.24 2168.31,1070.24 2170.36,1070.24 2172.41,1070.24 2174.46,1070.24 2176.51,1070.24 2178.56,1070.24 2180.61,1070.24 2182.66,1070.24 2184.71,1070.24 2186.76,1070.24 2188.81,1070.24 2190.86,1070.24 2192.91,1070.24 2194.96,1070.24 2197.01,1070.24 2199.06,1070.24 2201.11,1070.24 2203.16,1070.24 2205.21,1070.24 2207.26,1070.24 2209.31,1070.24 2211.36,1070.24 2213.41,1070.24 2215.46,1070.24 2217.51,1070.24 2219.56,1070.24 2221.61,1070.24 2223.66,1070.24 2225.71,1070.24 2227.76,1070.24 2229.81,1070.24 2231.86,1070.24 2233.91,1070.24 2235.96,1070.24 2238.01,1070.24 2240.06,1070.24 2242.11,1070.24 2244.16,1070.24 2246.21,1070.24 2248.26,1070.24 2250.31,1070.24 2252.36,1070.24 2254.41,1070.24 2256.46,1070.24 2258.51,1070.24 2260.56,1070.24 2262.61,1070.24 2264.66,1070.24 2266.71,1070.24 2268.76,1070.24 2270.81,1070.24 2272.86,1070.24 2274.91,1070.24 2276.96,1070.24 2279.01,1070.24 2281.06,1070.24 2283.11,1070.24 2285.16,1070.24 2287.21,1070.24 2289.26,1070.24 2291.31,1070.24 \"/>\n",
       "<polyline clip-path=\"url(#clip692)\" style=\"stroke:#c271d2; stroke-linecap:round; stroke-linejoin:round; stroke-width:4; stroke-opacity:1; fill:none\" points=\"243.227,1032.8 245.277,992.778 247.328,956.651 249.378,923.502 251.428,892.656 253.478,863.692 255.528,836.32 257.578,810.326 259.628,785.548 261.679,761.858 263.729,739.151 265.779,717.342 267.829,696.359 269.879,676.141 271.929,656.635 273.979,637.794 276.029,619.579 278.08,601.954 280.13,584.887 282.18,568.348 284.23,552.313 286.28,536.758 288.33,521.661 290.38,507.003 292.431,492.766 294.481,478.933 296.531,465.49 298.581,452.422 300.631,439.715 302.681,427.359 304.731,415.34 306.782,403.648 308.832,392.274 310.882,381.208 312.932,370.44 314.982,359.963 317.032,349.769 319.082,339.849 321.132,330.197 323.183,320.806 325.233,311.67 327.283,302.782 329.333,294.136 331.383,285.728 333.433,277.551 335.483,269.601 337.534,261.872 339.584,254.36 341.634,247.061 343.684,239.97 345.734,233.084 347.784,226.397 349.834,219.907 351.885,213.609 353.935,207.5 355.985,201.577 358.035,195.837 360.085,190.275 362.135,184.89 364.185,179.678 366.235,174.637 368.286,169.763 370.336,165.054 372.386,160.507 374.436,156.12 376.486,151.89 378.536,147.815 380.586,143.893 382.637,140.121 384.687,136.498 386.737,133.021 388.787,129.688 390.837,126.497 392.887,123.446 394.937,120.533 396.988,117.757 399.038,115.116 401.088,112.608 403.138,110.231 405.188,107.983 407.238,105.864 409.288,103.871 411.338,102.002 413.389,100.258 415.439,98.6348 417.489,97.1326 419.539,95.7494 421.589,94.484 423.639,93.335 425.689,92.3012 427.74,91.3812 429.79,90.5738 431.84,89.8779 433.89,89.2921 435.94,88.8154 437.99,88.4465 440.04,88.1844 442.091,88.0281 444.141,87.9763 446.191,88.0281 448.241,88.1824 450.291,88.4382 452.341,88.7945 454.391,89.2504 456.441,89.8049 458.492,90.4571 460.542,91.206 462.592,92.0508 464.642,92.9906 466.692,94.0244 468.742,95.1515 470.792,96.371 472.843,97.6821 474.893,99.084 476.943,100.576 478.993,102.157 481.043,103.826 483.093,105.584 485.143,107.428 487.194,109.358 489.244,111.374 491.294,113.475 493.344,115.66 495.394,117.928 497.444,120.279 499.494,122.712 501.544,125.227 503.595,127.822 505.645,130.498 507.695,133.253 509.745,136.087 511.795,139 513.845,141.99 515.895,145.057 517.946,148.202 519.996,151.422 522.046,154.717 524.096,158.088 526.146,161.533 528.196,165.052 530.246,168.644 532.297,172.309 534.347,176.046 536.397,179.855 538.447,183.736 540.497,187.687 542.547,191.709 544.597,195.8 546.647,199.961 548.698,204.191 550.748,208.489 552.798,212.855 554.848,217.289 556.898,221.79 558.948,226.358 560.998,230.992 563.049,235.692 565.099,240.457 567.149,245.287 569.199,250.182 571.249,255.141 573.299,260.164 575.349,265.25 577.4,270.4 579.45,275.612 581.5,280.886 583.55,286.222 585.6,291.62 587.65,297.079 589.7,302.598 591.75,308.178 593.801,313.818 595.851,319.518 597.901,325.278 599.951,331.096 602.001,336.973 604.051,342.909 606.101,348.902 608.152,354.954 610.202,361.062 612.252,367.229 614.302,373.449 616.352,379.733 618.402,386.06 620.452,392.466 622.502,398.884 624.553,405.439 626.603,411.896 628.653,418.698 630.703,425.005 632.753,432.423 634.803,437.894 636.853,447.409 638.904,449.581 640.954,469.483 643.004,458.088 645.054,469.732 647.104,462.296 649.154,465.377 651.204,463.722 653.255,464.513 655.305,464.114 657.355,464.308 659.405,464.213 661.455,464.259 663.505,464.236 665.555,464.247 667.605,464.242 669.656,464.245 671.706,464.243 673.756,464.244 675.806,464.244 677.856,464.244 679.906,464.244 681.956,464.244 684.007,464.244 686.057,464.244 688.107,464.244 690.157,464.244 692.207,464.244 694.257,464.244 696.307,464.244 698.358,464.244 700.408,464.244 702.458,464.244 704.508,464.244 706.558,464.244 708.608,464.244 710.658,464.244 712.708,464.244 714.759,464.244 716.809,464.244 718.859,464.244 720.909,464.244 722.959,464.244 725.009,464.244 727.059,464.244 729.11,464.244 731.16,464.244 733.21,464.244 735.26,464.244 737.31,464.244 739.36,464.244 741.41,464.244 743.461,464.244 745.511,464.244 747.561,464.244 749.611,464.244 751.661,464.244 753.711,464.244 755.761,464.244 757.811,464.244 759.862,464.244 761.912,464.244 763.962,464.244 766.012,464.244 768.062,464.244 770.112,464.244 772.162,464.244 774.213,464.244 776.263,464.244 778.313,464.244 780.363,464.244 782.413,464.244 784.463,464.244 786.513,464.244 788.564,464.244 790.614,464.244 792.664,464.244 794.714,464.244 796.764,464.244 798.814,464.244 800.864,464.244 802.914,464.244 804.965,464.244 807.015,464.244 809.065,464.244 811.115,464.244 813.165,464.244 815.215,464.244 817.265,464.244 819.316,464.244 821.366,464.244 823.416,464.244 825.466,464.244 827.516,464.244 829.566,464.244 831.616,464.244 833.667,464.244 835.717,464.244 837.767,464.244 839.817,464.244 841.867,464.244 843.917,464.244 845.967,464.244 848.017,464.244 850.068,464.244 852.118,464.244 854.168,464.244 856.218,464.244 858.268,464.244 860.318,464.244 862.368,464.244 864.419,464.244 866.469,464.244 868.519,464.244 870.569,464.244 872.619,464.244 874.669,464.244 876.719,464.244 878.77,464.244 880.82,464.244 882.87,464.244 884.92,464.244 886.97,464.244 889.02,464.244 891.07,464.244 893.12,464.244 895.171,464.244 897.221,464.244 899.271,464.244 901.321,464.244 903.371,464.244 905.421,464.244 907.471,464.244 909.522,464.244 911.572,464.244 913.622,464.244 915.672,464.244 917.722,464.244 919.772,464.244 921.822,464.244 923.873,464.244 925.923,464.244 927.973,464.244 930.023,464.244 932.073,464.244 934.123,464.244 936.173,464.244 938.223,464.244 940.274,464.244 942.324,464.244 944.374,464.244 946.424,464.244 948.474,464.244 950.524,464.244 952.574,464.244 954.625,464.244 956.675,464.244 958.725,464.244 960.775,464.244 962.825,464.244 964.875,464.244 966.925,464.244 968.976,464.244 971.026,464.244 973.076,464.244 975.126,464.244 977.176,464.244 979.226,464.244 981.276,464.244 983.326,464.244 985.377,464.244 987.427,464.244 989.477,464.244 991.527,464.244 993.577,464.244 995.627,464.244 997.677,464.244 999.728,464.244 1001.78,464.244 1003.83,464.244 1005.88,464.244 1007.93,464.244 1009.98,464.244 1012.03,464.244 1014.08,464.244 1016.13,464.244 1018.18,464.244 1020.23,464.244 1022.28,464.244 1024.33,464.244 1026.38,464.244 1028.43,464.244 1030.48,464.244 1032.53,464.244 1034.58,464.244 1036.63,464.244 1038.68,464.244 1040.73,464.244 1042.78,464.244 1044.83,464.244 1046.88,464.244 1048.93,464.244 1050.98,464.244 1053.03,464.244 1055.08,464.244 1057.13,464.244 1059.18,464.244 1061.23,464.244 1063.28,464.244 1065.33,464.244 1067.38,464.244 1069.43,464.244 1071.48,464.244 1073.53,464.244 1075.58,464.244 1077.63,464.244 1079.68,464.244 1081.73,464.244 1083.78,464.244 1085.83,464.244 1087.88,464.244 1089.93,464.244 1091.98,464.244 1094.03,464.244 1096.08,464.244 1098.13,464.244 1100.18,464.244 1102.23,464.244 1104.28,464.244 1106.33,464.244 1108.38,464.244 1110.43,464.244 1112.49,464.244 1114.54,464.244 1116.59,464.244 1118.64,464.244 1120.69,464.244 1122.74,464.244 1124.79,464.244 1126.84,464.244 1128.89,464.244 1130.94,464.244 1132.99,464.244 1135.04,464.244 1137.09,464.244 1139.14,464.244 1141.19,464.244 1143.24,464.244 1145.29,464.244 1147.34,464.244 1149.39,464.244 1151.44,464.244 1153.49,464.244 1155.54,464.244 1157.59,464.244 1159.64,464.244 1161.69,464.244 1163.74,464.244 1165.79,464.244 1167.84,464.244 1169.89,464.244 1171.94,464.244 1173.99,464.244 1176.04,464.244 1178.09,464.244 1180.14,464.244 1182.19,464.244 1184.24,464.244 1186.29,464.244 1188.34,464.244 1190.39,464.244 1192.44,464.244 1194.49,464.244 1196.54,464.244 1198.59,464.244 1200.64,464.244 1202.69,464.244 1204.74,464.244 1206.79,464.244 1208.84,464.244 1210.89,464.244 1212.94,464.244 1214.99,464.244 1217.04,464.244 1219.09,464.244 1221.14,464.244 1223.19,464.244 1225.24,464.244 1227.29,464.244 1229.34,464.244 1231.39,464.244 1233.44,464.244 1235.49,464.244 1237.54,464.244 1239.59,464.244 1241.64,464.244 1243.69,464.244 1245.74,464.244 1247.79,464.244 1249.84,464.244 1251.89,464.244 1253.94,464.244 1255.99,464.244 1258.04,464.244 1260.09,464.244 1262.14,464.244 1264.2,464.244 1266.25,464.244 1268.3,464.244 1270.35,464.244 1272.4,464.244 1274.45,464.244 1276.5,464.244 1278.55,464.244 1280.6,464.244 1282.65,464.244 1284.7,464.244 1286.75,464.244 1288.8,464.244 1290.85,464.244 1292.9,464.244 1294.95,464.244 1297,464.244 1299.05,464.244 1301.1,464.244 1303.15,464.244 1305.2,464.244 1307.25,464.244 1309.3,464.244 1311.35,464.244 1313.4,464.244 1315.45,464.244 1317.5,464.244 1319.55,464.244 1321.6,464.244 1323.65,464.244 1325.7,464.244 1327.75,464.244 1329.8,464.244 1331.85,464.244 1333.9,464.244 1335.95,464.244 1338,464.244 1340.05,464.244 1342.1,464.244 1344.15,464.244 1346.2,464.244 1348.25,464.244 1350.3,464.244 1352.35,464.244 1354.4,464.244 1356.45,464.244 1358.5,464.244 1360.55,464.244 1362.6,464.244 1364.65,464.244 1366.7,464.244 1368.75,464.244 1370.8,464.244 1372.85,464.244 1374.9,464.244 1376.95,464.244 1379,464.244 1381.05,464.244 1383.1,464.244 1385.15,464.244 1387.2,464.244 1389.25,464.244 1391.3,464.244 1393.35,464.244 1395.4,464.244 1397.45,464.244 1399.5,464.244 1401.55,464.244 1403.6,464.244 1405.65,464.244 1407.7,464.244 1409.75,464.244 1411.8,464.244 1413.86,464.244 1415.91,464.244 1417.96,464.244 1420.01,464.244 1422.06,464.244 1424.11,464.244 1426.16,464.244 1428.21,464.244 1430.26,464.244 1432.31,464.244 1434.36,464.244 1436.41,464.244 1438.46,464.244 1440.51,464.244 1442.56,464.244 1444.61,464.244 1446.66,464.244 1448.71,464.244 1450.76,464.244 1452.81,464.244 1454.86,464.244 1456.91,464.244 1458.96,464.244 1461.01,464.244 1463.06,464.244 1465.11,464.244 1467.16,464.244 1469.21,464.244 1471.26,464.244 1473.31,464.244 1475.36,464.244 1477.41,464.244 1479.46,464.244 1481.51,464.244 1483.56,464.244 1485.61,464.244 1487.66,464.244 1489.71,464.244 1491.76,464.244 1493.81,464.244 1495.86,464.244 1497.91,464.244 1499.96,464.244 1502.01,464.244 1504.06,464.244 1506.11,464.244 1508.16,464.244 1510.21,464.244 1512.26,464.244 1514.31,464.244 1516.36,464.244 1518.41,464.244 1520.46,464.244 1522.51,464.244 1524.56,464.244 1526.61,464.244 1528.66,464.244 1530.71,464.244 1532.76,464.244 1534.81,464.244 1536.86,464.244 1538.91,464.244 1540.96,464.244 1543.01,464.244 1545.06,464.244 1547.11,464.244 1549.16,464.244 1551.21,464.244 1553.26,464.244 1555.31,464.244 1557.36,464.244 1559.41,464.244 1561.46,464.244 1563.51,464.244 1565.57,464.244 1567.62,464.244 1569.67,464.244 1571.72,464.244 1573.77,464.244 1575.82,464.244 1577.87,464.244 1579.92,464.244 1581.97,464.244 1584.02,464.244 1586.07,464.244 1588.12,464.244 1590.17,464.244 1592.22,464.244 1594.27,464.244 1596.32,464.244 1598.37,464.244 1600.42,464.244 1602.47,464.244 1604.52,464.244 1606.57,464.244 1608.62,464.244 1610.67,464.244 1612.72,464.244 1614.77,464.244 1616.82,464.244 1618.87,464.244 1620.92,464.244 1622.97,464.244 1625.02,464.244 1627.07,464.244 1629.12,464.244 1631.17,464.244 1633.22,464.244 1635.27,464.244 1637.32,464.244 1639.37,464.244 1641.42,464.244 1643.47,464.244 1645.52,464.244 1647.57,464.244 1649.62,464.244 1651.67,464.244 1653.72,464.244 1655.77,464.244 1657.82,464.244 1659.87,464.244 1661.92,464.244 1663.97,464.244 1666.02,464.244 1668.07,464.244 1670.12,464.244 1672.17,464.244 1674.22,464.244 1676.27,464.244 1678.32,464.244 1680.37,464.244 1682.42,464.244 1684.47,464.244 1686.52,464.244 1688.57,464.244 1690.62,464.244 1692.67,464.244 1694.72,464.244 1696.77,464.244 1698.82,464.244 1700.87,464.244 1702.92,464.244 1704.97,464.244 1707.02,464.244 1709.07,464.244 1711.12,464.244 1713.17,464.244 1715.23,464.244 1717.28,464.244 1719.33,464.244 1721.38,464.244 1723.43,464.244 1725.48,464.244 1727.53,464.244 1729.58,464.244 1731.63,464.244 1733.68,464.244 1735.73,464.244 1737.78,464.244 1739.83,464.244 1741.88,464.244 1743.93,464.244 1745.98,464.244 1748.03,464.244 1750.08,464.244 1752.13,464.244 1754.18,464.244 1756.23,464.244 1758.28,464.244 1760.33,464.244 1762.38,464.244 1764.43,464.244 1766.48,464.244 1768.53,464.244 1770.58,464.244 1772.63,464.244 1774.68,464.244 1776.73,464.244 1778.78,464.244 1780.83,464.244 1782.88,464.244 1784.93,464.244 1786.98,464.244 1789.03,464.244 1791.08,464.244 1793.13,464.244 1795.18,464.244 1797.23,464.244 1799.28,464.244 1801.33,464.244 1803.38,464.244 1805.43,464.244 1807.48,464.244 1809.53,464.244 1811.58,464.244 1813.63,464.244 1815.68,464.244 1817.73,464.244 1819.78,464.244 1821.83,464.244 1823.88,464.244 1825.93,464.244 1827.98,464.244 1830.03,464.244 1832.08,464.244 1834.13,464.244 1836.18,464.244 1838.23,464.244 1840.28,464.244 1842.33,464.244 1844.38,464.244 1846.43,464.244 1848.48,464.244 1850.53,464.244 1852.58,464.244 1854.63,464.244 1856.68,464.244 1858.73,464.244 1860.78,464.244 1862.83,464.244 1864.89,464.244 1866.94,464.244 1868.99,464.244 1871.04,464.244 1873.09,464.244 1875.14,464.244 1877.19,464.244 1879.24,464.244 1881.29,464.244 1883.34,464.244 1885.39,464.244 1887.44,464.244 1889.49,464.244 1891.54,464.244 1893.59,464.244 1895.64,464.244 1897.69,464.244 1899.74,464.244 1901.79,464.244 1903.84,464.244 1905.89,464.244 1907.94,464.244 1909.99,464.244 1912.04,464.244 1914.09,464.244 1916.14,464.244 1918.19,464.244 1920.24,464.244 1922.29,464.244 1924.34,464.244 1926.39,464.244 1928.44,464.244 1930.49,464.244 1932.54,464.244 1934.59,464.244 1936.64,464.244 1938.69,464.244 1940.74,464.244 1942.79,464.244 1944.84,464.244 1946.89,464.244 1948.94,464.244 1950.99,464.244 1953.04,464.244 1955.09,464.244 1957.14,464.244 1959.19,464.244 1961.24,464.244 1963.29,464.244 1965.34,464.244 1967.39,464.244 1969.44,464.244 1971.49,464.244 1973.54,464.244 1975.59,464.244 1977.64,464.244 1979.69,464.244 1981.74,464.244 1983.79,464.244 1985.84,464.244 1987.89,464.244 1989.94,464.244 1991.99,464.244 1994.04,464.244 1996.09,464.244 1998.14,464.244 2000.19,464.244 2002.24,464.244 2004.29,464.244 2006.34,464.244 2008.39,464.244 2010.44,464.244 2012.49,464.244 2014.54,464.244 2016.6,464.244 2018.65,464.244 2020.7,464.244 2022.75,464.244 2024.8,464.244 2026.85,464.244 2028.9,464.244 2030.95,464.244 2033,464.244 2035.05,464.244 2037.1,464.244 2039.15,464.244 2041.2,464.244 2043.25,464.244 2045.3,464.244 2047.35,464.244 2049.4,464.244 2051.45,464.244 2053.5,464.244 2055.55,464.244 2057.6,464.244 2059.65,464.244 2061.7,464.244 2063.75,464.244 2065.8,464.244 2067.85,464.244 2069.9,464.244 2071.95,464.244 2074,464.244 2076.05,464.244 2078.1,464.244 2080.15,464.244 2082.2,464.244 2084.25,464.244 2086.3,464.244 2088.35,464.244 2090.4,464.244 2092.45,464.244 2094.5,464.244 2096.55,464.244 2098.6,464.244 2100.65,464.244 2102.7,464.244 2104.75,464.244 2106.8,464.244 2108.85,464.244 2110.9,464.244 2112.95,464.244 2115,464.244 2117.05,464.244 2119.1,464.244 2121.15,464.244 2123.2,464.244 2125.25,464.244 2127.3,464.244 2129.35,464.244 2131.4,464.244 2133.45,464.244 2135.5,464.244 2137.55,464.244 2139.6,464.244 2141.65,464.244 2143.7,464.244 2145.75,464.244 2147.8,464.244 2149.85,464.244 2151.9,464.244 2153.95,464.244 2156,464.244 2158.05,464.244 2160.1,464.244 2162.15,464.244 2164.2,464.244 2166.26,464.244 2168.31,464.244 2170.36,464.244 2172.41,464.244 2174.46,464.244 2176.51,464.244 2178.56,464.244 2180.61,464.244 2182.66,464.244 2184.71,464.244 2186.76,464.244 2188.81,464.244 2190.86,464.244 2192.91,464.244 2194.96,464.244 2197.01,464.244 2199.06,464.244 2201.11,464.244 2203.16,464.244 2205.21,464.244 2207.26,464.244 2209.31,464.244 2211.36,464.244 2213.41,464.244 2215.46,464.244 2217.51,464.244 2219.56,464.244 2221.61,464.244 2223.66,464.244 2225.71,464.244 2227.76,464.244 2229.81,464.244 2231.86,464.244 2233.91,464.244 2235.96,464.244 2238.01,464.244 2240.06,464.244 2242.11,464.244 2244.16,464.244 2246.21,464.244 2248.26,464.244 2250.31,464.244 2252.36,464.244 2254.41,464.244 2256.46,464.244 2258.51,464.244 2260.56,464.244 2262.61,464.244 2264.66,464.244 2266.71,464.244 2268.76,464.244 2270.81,464.244 2272.86,464.244 2274.91,464.244 2276.96,464.244 2279.01,464.244 2281.06,464.244 2283.11,464.244 2285.16,464.244 2287.21,464.244 2289.26,464.244 2291.31,464.244 \"/>\n",
       "<path clip-path=\"url(#clip690)\" d=\"M2009.15 354.418 L2280.39 354.418 L2280.39 95.2176 L2009.15 95.2176  Z\" fill=\"#ffffff\" fill-rule=\"evenodd\" fill-opacity=\"1\"/>\n",
       "<polyline clip-path=\"url(#clip690)\" style=\"stroke:#000000; stroke-linecap:round; stroke-linejoin:round; stroke-width:4; stroke-opacity:1; fill:none\" points=\"2009.15,354.418 2280.39,354.418 2280.39,95.2176 2009.15,95.2176 2009.15,354.418 \"/>\n",
       "<polyline clip-path=\"url(#clip690)\" style=\"stroke:#009af9; stroke-linecap:round; stroke-linejoin:round; stroke-width:4; stroke-opacity:1; fill:none\" points=\"2033.27,147.058 2178,147.058 \"/>\n",
       "<path clip-path=\"url(#clip690)\" d=\"M2215.97 166.745 Q2214.16 171.375 2212.45 172.787 Q2210.74 174.199 2207.87 174.199 L2204.46 174.199 L2204.46 170.634 L2206.96 170.634 Q2208.72 170.634 2209.69 169.8 Q2210.67 168.967 2211.85 165.865 L2212.61 163.921 L2202.13 138.412 L2206.64 138.412 L2214.74 158.689 L2222.84 138.412 L2227.36 138.412 L2215.97 166.745 Z\" fill=\"#000000\" fill-rule=\"nonzero\" fill-opacity=\"1\" /><path clip-path=\"url(#clip690)\" d=\"M2234.65 160.402 L2242.29 160.402 L2242.29 134.037 L2233.98 135.703 L2233.98 131.444 L2242.24 129.778 L2246.92 129.778 L2246.92 160.402 L2254.56 160.402 L2254.56 164.338 L2234.65 164.338 L2234.65 160.402 Z\" fill=\"#000000\" fill-rule=\"nonzero\" fill-opacity=\"1\" /><polyline clip-path=\"url(#clip690)\" style=\"stroke:#e26f46; stroke-linecap:round; stroke-linejoin:round; stroke-width:4; stroke-opacity:1; fill:none\" points=\"2033.27,198.898 2178,198.898 \"/>\n",
       "<path clip-path=\"url(#clip690)\" d=\"M2215.97 218.585 Q2214.16 223.215 2212.45 224.627 Q2210.74 226.039 2207.87 226.039 L2204.46 226.039 L2204.46 222.474 L2206.96 222.474 Q2208.72 222.474 2209.69 221.64 Q2210.67 220.807 2211.85 217.705 L2212.61 215.761 L2202.13 190.252 L2206.64 190.252 L2214.74 210.529 L2222.84 190.252 L2227.36 190.252 L2215.97 218.585 Z\" fill=\"#000000\" fill-rule=\"nonzero\" fill-opacity=\"1\" /><path clip-path=\"url(#clip690)\" d=\"M2237.87 212.242 L2254.18 212.242 L2254.18 216.178 L2232.24 216.178 L2232.24 212.242 Q2234.9 209.488 2239.49 204.858 Q2244.09 200.205 2245.27 198.863 Q2247.52 196.34 2248.4 194.604 Q2249.3 192.844 2249.3 191.155 Q2249.3 188.4 2247.36 186.664 Q2245.44 184.928 2242.33 184.928 Q2240.13 184.928 2237.68 185.692 Q2235.25 186.455 2232.47 188.006 L2232.47 183.284 Q2235.3 182.15 2237.75 181.571 Q2240.2 180.993 2242.24 180.993 Q2247.61 180.993 2250.81 183.678 Q2254 186.363 2254 190.854 Q2254 192.983 2253.19 194.905 Q2252.4 196.803 2250.3 199.395 Q2249.72 200.067 2246.62 203.284 Q2243.51 206.479 2237.87 212.242 Z\" fill=\"#000000\" fill-rule=\"nonzero\" fill-opacity=\"1\" /><polyline clip-path=\"url(#clip690)\" style=\"stroke:#3da44d; stroke-linecap:round; stroke-linejoin:round; stroke-width:4; stroke-opacity:1; fill:none\" points=\"2033.27,250.738 2178,250.738 \"/>\n",
       "<path clip-path=\"url(#clip690)\" d=\"M2215.97 270.425 Q2214.16 275.055 2212.45 276.467 Q2210.74 277.879 2207.87 277.879 L2204.46 277.879 L2204.46 274.314 L2206.96 274.314 Q2208.72 274.314 2209.69 273.48 Q2210.67 272.647 2211.85 269.545 L2212.61 267.601 L2202.13 242.092 L2206.64 242.092 L2214.74 262.369 L2222.84 242.092 L2227.36 242.092 L2215.97 270.425 Z\" fill=\"#000000\" fill-rule=\"nonzero\" fill-opacity=\"1\" /><path clip-path=\"url(#clip690)\" d=\"M2248 249.383 Q2251.36 250.101 2253.24 252.369 Q2255.13 254.638 2255.13 257.971 Q2255.13 263.087 2251.62 265.888 Q2248.1 268.689 2241.62 268.689 Q2239.44 268.689 2237.12 268.249 Q2234.83 267.832 2232.38 266.976 L2232.38 262.462 Q2234.32 263.596 2236.64 264.175 Q2238.95 264.754 2241.48 264.754 Q2245.87 264.754 2248.17 263.018 Q2250.48 261.281 2250.48 257.971 Q2250.48 254.916 2248.33 253.203 Q2246.2 251.467 2242.38 251.467 L2238.35 251.467 L2238.35 247.624 L2242.56 247.624 Q2246.01 247.624 2247.84 246.258 Q2249.67 244.87 2249.67 242.277 Q2249.67 239.615 2247.77 238.203 Q2245.9 236.768 2242.38 236.768 Q2240.46 236.768 2238.26 237.184 Q2236.06 237.601 2233.42 238.481 L2233.42 234.314 Q2236.08 233.573 2238.4 233.203 Q2240.74 232.833 2242.8 232.833 Q2248.12 232.833 2251.22 235.263 Q2254.32 237.67 2254.32 241.791 Q2254.32 244.661 2252.68 246.652 Q2251.04 248.62 2248 249.383 Z\" fill=\"#000000\" fill-rule=\"nonzero\" fill-opacity=\"1\" /><polyline clip-path=\"url(#clip690)\" style=\"stroke:#c271d2; stroke-linecap:round; stroke-linejoin:round; stroke-width:4; stroke-opacity:1; fill:none\" points=\"2033.27,302.578 2178,302.578 \"/>\n",
       "<path clip-path=\"url(#clip690)\" d=\"M2215.97 322.265 Q2214.16 326.895 2212.45 328.307 Q2210.74 329.719 2207.87 329.719 L2204.46 329.719 L2204.46 326.154 L2206.96 326.154 Q2208.72 326.154 2209.69 325.32 Q2210.67 324.487 2211.85 321.385 L2212.61 319.441 L2202.13 293.932 L2206.64 293.932 L2214.74 314.209 L2222.84 293.932 L2227.36 293.932 L2215.97 322.265 Z\" fill=\"#000000\" fill-rule=\"nonzero\" fill-opacity=\"1\" /><path clip-path=\"url(#clip690)\" d=\"M2246.69 289.372 L2234.88 307.821 L2246.69 307.821 L2246.69 289.372 M2245.46 285.298 L2251.34 285.298 L2251.34 307.821 L2256.27 307.821 L2256.27 311.709 L2251.34 311.709 L2251.34 319.858 L2246.69 319.858 L2246.69 311.709 L2231.08 311.709 L2231.08 307.196 L2245.46 285.298 Z\" fill=\"#000000\" fill-rule=\"nonzero\" fill-opacity=\"1\" /></svg>\n"
      ],
      "text/html": [
       "<?xml version=\"1.0\" encoding=\"utf-8\"?>\n",
       "<svg xmlns=\"http://www.w3.org/2000/svg\" xmlns:xlink=\"http://www.w3.org/1999/xlink\" width=\"600\" height=\"400\" viewBox=\"0 0 2400 1600\">\n",
       "<defs>\n",
       "  <clipPath id=\"clip740\">\n",
       "    <rect x=\"0\" y=\"0\" width=\"2400\" height=\"1600\"/>\n",
       "  </clipPath>\n",
       "</defs>\n",
       "<path clip-path=\"url(#clip740)\" d=\"M0 1600 L2400 1600 L2400 8.88178e-14 L0 8.88178e-14  Z\" fill=\"#ffffff\" fill-rule=\"evenodd\" fill-opacity=\"1\"/>\n",
       "<defs>\n",
       "  <clipPath id=\"clip741\">\n",
       "    <rect x=\"480\" y=\"0\" width=\"1681\" height=\"1600\"/>\n",
       "  </clipPath>\n",
       "</defs>\n",
       "<path clip-path=\"url(#clip740)\" d=\"M181.785 1486.45 L2352.76 1486.45 L2352.76 47.2441 L181.785 47.2441  Z\" fill=\"#ffffff\" fill-rule=\"evenodd\" fill-opacity=\"1\"/>\n",
       "<defs>\n",
       "  <clipPath id=\"clip742\">\n",
       "    <rect x=\"181\" y=\"47\" width=\"2172\" height=\"1440\"/>\n",
       "  </clipPath>\n",
       "</defs>\n",
       "<polyline clip-path=\"url(#clip742)\" style=\"stroke:#000000; stroke-linecap:round; stroke-linejoin:round; stroke-width:2; stroke-opacity:0.1; fill:none\" points=\"241.177,1486.45 241.177,47.2441 \"/>\n",
       "<polyline clip-path=\"url(#clip742)\" style=\"stroke:#000000; stroke-linecap:round; stroke-linejoin:round; stroke-width:2; stroke-opacity:0.1; fill:none\" points=\"753.711,1486.45 753.711,47.2441 \"/>\n",
       "<polyline clip-path=\"url(#clip742)\" style=\"stroke:#000000; stroke-linecap:round; stroke-linejoin:round; stroke-width:2; stroke-opacity:0.1; fill:none\" points=\"1266.25,1486.45 1266.25,47.2441 \"/>\n",
       "<polyline clip-path=\"url(#clip742)\" style=\"stroke:#000000; stroke-linecap:round; stroke-linejoin:round; stroke-width:2; stroke-opacity:0.1; fill:none\" points=\"1778.78,1486.45 1778.78,47.2441 \"/>\n",
       "<polyline clip-path=\"url(#clip742)\" style=\"stroke:#000000; stroke-linecap:round; stroke-linejoin:round; stroke-width:2; stroke-opacity:0.1; fill:none\" points=\"2291.31,1486.45 2291.31,47.2441 \"/>\n",
       "<polyline clip-path=\"url(#clip742)\" style=\"stroke:#000000; stroke-linecap:round; stroke-linejoin:round; stroke-width:2; stroke-opacity:0.1; fill:none\" points=\"181.785,1080.55 2352.76,1080.55 \"/>\n",
       "<polyline clip-path=\"url(#clip742)\" style=\"stroke:#000000; stroke-linecap:round; stroke-linejoin:round; stroke-width:2; stroke-opacity:0.1; fill:none\" points=\"181.785,485.909 2352.76,485.909 \"/>\n",
       "<polyline clip-path=\"url(#clip740)\" style=\"stroke:#000000; stroke-linecap:round; stroke-linejoin:round; stroke-width:4; stroke-opacity:1; fill:none\" points=\"181.785,1486.45 2352.76,1486.45 \"/>\n",
       "<polyline clip-path=\"url(#clip740)\" style=\"stroke:#000000; stroke-linecap:round; stroke-linejoin:round; stroke-width:4; stroke-opacity:1; fill:none\" points=\"241.177,1486.45 241.177,1467.55 \"/>\n",
       "<polyline clip-path=\"url(#clip740)\" style=\"stroke:#000000; stroke-linecap:round; stroke-linejoin:round; stroke-width:4; stroke-opacity:1; fill:none\" points=\"753.711,1486.45 753.711,1467.55 \"/>\n",
       "<polyline clip-path=\"url(#clip740)\" style=\"stroke:#000000; stroke-linecap:round; stroke-linejoin:round; stroke-width:4; stroke-opacity:1; fill:none\" points=\"1266.25,1486.45 1266.25,1467.55 \"/>\n",
       "<polyline clip-path=\"url(#clip740)\" style=\"stroke:#000000; stroke-linecap:round; stroke-linejoin:round; stroke-width:4; stroke-opacity:1; fill:none\" points=\"1778.78,1486.45 1778.78,1467.55 \"/>\n",
       "<polyline clip-path=\"url(#clip740)\" style=\"stroke:#000000; stroke-linecap:round; stroke-linejoin:round; stroke-width:4; stroke-opacity:1; fill:none\" points=\"2291.31,1486.45 2291.31,1467.55 \"/>\n",
       "<path clip-path=\"url(#clip740)\" d=\"M241.177 1517.37 Q237.566 1517.37 235.737 1520.93 Q233.932 1524.47 233.932 1531.6 Q233.932 1538.71 235.737 1542.27 Q237.566 1545.82 241.177 1545.82 Q244.811 1545.82 246.617 1542.27 Q248.446 1538.71 248.446 1531.6 Q248.446 1524.47 246.617 1520.93 Q244.811 1517.37 241.177 1517.37 M241.177 1513.66 Q246.987 1513.66 250.043 1518.27 Q253.122 1522.85 253.122 1531.6 Q253.122 1540.33 250.043 1544.94 Q246.987 1549.52 241.177 1549.52 Q235.367 1549.52 232.288 1544.94 Q229.233 1540.33 229.233 1531.6 Q229.233 1522.85 232.288 1518.27 Q235.367 1513.66 241.177 1513.66 Z\" fill=\"#000000\" fill-rule=\"nonzero\" fill-opacity=\"1\" /><path clip-path=\"url(#clip740)\" d=\"M717.404 1544.91 L733.723 1544.91 L733.723 1548.85 L711.779 1548.85 L711.779 1544.91 Q714.441 1542.16 719.024 1537.53 Q723.63 1532.88 724.811 1531.53 Q727.056 1529.01 727.936 1527.27 Q728.839 1525.51 728.839 1523.82 Q728.839 1521.07 726.894 1519.33 Q724.973 1517.6 721.871 1517.6 Q719.672 1517.6 717.218 1518.36 Q714.788 1519.13 712.01 1520.68 L712.01 1515.95 Q714.834 1514.82 717.288 1514.24 Q719.741 1513.66 721.779 1513.66 Q727.149 1513.66 730.343 1516.35 Q733.538 1519.03 733.538 1523.52 Q733.538 1525.65 732.728 1527.57 Q731.94 1529.47 729.834 1532.07 Q729.255 1532.74 726.153 1535.95 Q723.052 1539.15 717.404 1544.91 Z\" fill=\"#000000\" fill-rule=\"nonzero\" fill-opacity=\"1\" /><path clip-path=\"url(#clip740)\" d=\"M743.584 1514.29 L761.94 1514.29 L761.94 1518.22 L747.866 1518.22 L747.866 1526.7 Q748.885 1526.35 749.903 1526.19 Q750.922 1526 751.94 1526 Q757.727 1526 761.107 1529.17 Q764.487 1532.34 764.487 1537.76 Q764.487 1543.34 761.014 1546.44 Q757.542 1549.52 751.223 1549.52 Q749.047 1549.52 746.778 1549.15 Q744.533 1548.78 742.126 1548.04 L742.126 1543.34 Q744.209 1544.47 746.431 1545.03 Q748.653 1545.58 751.13 1545.58 Q755.135 1545.58 757.473 1543.48 Q759.811 1541.37 759.811 1537.76 Q759.811 1534.15 757.473 1532.04 Q755.135 1529.94 751.13 1529.94 Q749.255 1529.94 747.38 1530.35 Q745.528 1530.77 743.584 1531.65 L743.584 1514.29 Z\" fill=\"#000000\" fill-rule=\"nonzero\" fill-opacity=\"1\" /><path clip-path=\"url(#clip740)\" d=\"M783.699 1517.37 Q780.088 1517.37 778.26 1520.93 Q776.454 1524.47 776.454 1531.6 Q776.454 1538.71 778.26 1542.27 Q780.088 1545.82 783.699 1545.82 Q787.334 1545.82 789.139 1542.27 Q790.968 1538.71 790.968 1531.6 Q790.968 1524.47 789.139 1520.93 Q787.334 1517.37 783.699 1517.37 M783.699 1513.66 Q789.51 1513.66 792.565 1518.27 Q795.644 1522.85 795.644 1531.6 Q795.644 1540.33 792.565 1544.94 Q789.51 1549.52 783.699 1549.52 Q777.889 1549.52 774.811 1544.94 Q771.755 1540.33 771.755 1531.6 Q771.755 1522.85 774.811 1518.27 Q777.889 1513.66 783.699 1513.66 Z\" fill=\"#000000\" fill-rule=\"nonzero\" fill-opacity=\"1\" /><path clip-path=\"url(#clip740)\" d=\"M1225.86 1514.29 L1244.22 1514.29 L1244.22 1518.22 L1230.15 1518.22 L1230.15 1526.7 Q1231.16 1526.35 1232.18 1526.19 Q1233.2 1526 1234.22 1526 Q1240.01 1526 1243.39 1529.17 Q1246.77 1532.34 1246.77 1537.76 Q1246.77 1543.34 1243.29 1546.44 Q1239.82 1549.52 1233.5 1549.52 Q1231.33 1549.52 1229.06 1549.15 Q1226.81 1548.78 1224.41 1548.04 L1224.41 1543.34 Q1226.49 1544.47 1228.71 1545.03 Q1230.93 1545.58 1233.41 1545.58 Q1237.41 1545.58 1239.75 1543.48 Q1242.09 1541.37 1242.09 1537.76 Q1242.09 1534.15 1239.75 1532.04 Q1237.41 1529.94 1233.41 1529.94 Q1231.53 1529.94 1229.66 1530.35 Q1227.81 1530.77 1225.86 1531.65 L1225.86 1514.29 Z\" fill=\"#000000\" fill-rule=\"nonzero\" fill-opacity=\"1\" /><path clip-path=\"url(#clip740)\" d=\"M1265.98 1517.37 Q1262.37 1517.37 1260.54 1520.93 Q1258.73 1524.47 1258.73 1531.6 Q1258.73 1538.71 1260.54 1542.27 Q1262.37 1545.82 1265.98 1545.82 Q1269.61 1545.82 1271.42 1542.27 Q1273.25 1538.71 1273.25 1531.6 Q1273.25 1524.47 1271.42 1520.93 Q1269.61 1517.37 1265.98 1517.37 M1265.98 1513.66 Q1271.79 1513.66 1274.84 1518.27 Q1277.92 1522.85 1277.92 1531.6 Q1277.92 1540.33 1274.84 1544.94 Q1271.79 1549.52 1265.98 1549.52 Q1260.17 1549.52 1257.09 1544.94 Q1254.03 1540.33 1254.03 1531.6 Q1254.03 1522.85 1257.09 1518.27 Q1260.17 1513.66 1265.98 1513.66 Z\" fill=\"#000000\" fill-rule=\"nonzero\" fill-opacity=\"1\" /><path clip-path=\"url(#clip740)\" d=\"M1296.14 1517.37 Q1292.53 1517.37 1290.7 1520.93 Q1288.9 1524.47 1288.9 1531.6 Q1288.9 1538.71 1290.7 1542.27 Q1292.53 1545.82 1296.14 1545.82 Q1299.78 1545.82 1301.58 1542.27 Q1303.41 1538.71 1303.41 1531.6 Q1303.41 1524.47 1301.58 1520.93 Q1299.78 1517.37 1296.14 1517.37 M1296.14 1513.66 Q1301.95 1513.66 1305.01 1518.27 Q1308.09 1522.85 1308.09 1531.6 Q1308.09 1540.33 1305.01 1544.94 Q1301.95 1549.52 1296.14 1549.52 Q1290.33 1549.52 1287.25 1544.94 Q1284.2 1540.33 1284.2 1531.6 Q1284.2 1522.85 1287.25 1518.27 Q1290.33 1513.66 1296.14 1513.66 Z\" fill=\"#000000\" fill-rule=\"nonzero\" fill-opacity=\"1\" /><path clip-path=\"url(#clip740)\" d=\"M1737.05 1514.29 L1759.28 1514.29 L1759.28 1516.28 L1746.73 1548.85 L1741.85 1548.85 L1753.65 1518.22 L1737.05 1518.22 L1737.05 1514.29 Z\" fill=\"#000000\" fill-rule=\"nonzero\" fill-opacity=\"1\" /><path clip-path=\"url(#clip740)\" d=\"M1768.44 1514.29 L1786.8 1514.29 L1786.8 1518.22 L1772.73 1518.22 L1772.73 1526.7 Q1773.74 1526.35 1774.76 1526.19 Q1775.78 1526 1776.8 1526 Q1782.59 1526 1785.97 1529.17 Q1789.35 1532.34 1789.35 1537.76 Q1789.35 1543.34 1785.87 1546.44 Q1782.4 1549.52 1776.08 1549.52 Q1773.91 1549.52 1771.64 1549.15 Q1769.39 1548.78 1766.99 1548.04 L1766.99 1543.34 Q1769.07 1544.47 1771.29 1545.03 Q1773.51 1545.58 1775.99 1545.58 Q1779.99 1545.58 1782.33 1543.48 Q1784.67 1541.37 1784.67 1537.76 Q1784.67 1534.15 1782.33 1532.04 Q1779.99 1529.94 1775.99 1529.94 Q1774.11 1529.94 1772.24 1530.35 Q1770.39 1530.77 1768.44 1531.65 L1768.44 1514.29 Z\" fill=\"#000000\" fill-rule=\"nonzero\" fill-opacity=\"1\" /><path clip-path=\"url(#clip740)\" d=\"M1808.56 1517.37 Q1804.95 1517.37 1803.12 1520.93 Q1801.31 1524.47 1801.31 1531.6 Q1801.31 1538.71 1803.12 1542.27 Q1804.95 1545.82 1808.56 1545.82 Q1812.19 1545.82 1814 1542.27 Q1815.83 1538.71 1815.83 1531.6 Q1815.83 1524.47 1814 1520.93 Q1812.19 1517.37 1808.56 1517.37 M1808.56 1513.66 Q1814.37 1513.66 1817.42 1518.27 Q1820.5 1522.85 1820.5 1531.6 Q1820.5 1540.33 1817.42 1544.94 Q1814.37 1549.52 1808.56 1549.52 Q1802.75 1549.52 1799.67 1544.94 Q1796.61 1540.33 1796.61 1531.6 Q1796.61 1522.85 1799.67 1518.27 Q1802.75 1513.66 1808.56 1513.66 Z\" fill=\"#000000\" fill-rule=\"nonzero\" fill-opacity=\"1\" /><path clip-path=\"url(#clip740)\" d=\"M2235.84 1544.91 L2243.48 1544.91 L2243.48 1518.55 L2235.17 1520.21 L2235.17 1515.95 L2243.43 1514.29 L2248.11 1514.29 L2248.11 1544.91 L2255.75 1544.91 L2255.75 1548.85 L2235.84 1548.85 L2235.84 1544.91 Z\" fill=\"#000000\" fill-rule=\"nonzero\" fill-opacity=\"1\" /><path clip-path=\"url(#clip740)\" d=\"M2275.19 1517.37 Q2271.58 1517.37 2269.75 1520.93 Q2267.95 1524.47 2267.95 1531.6 Q2267.95 1538.71 2269.75 1542.27 Q2271.58 1545.82 2275.19 1545.82 Q2278.82 1545.82 2280.63 1542.27 Q2282.46 1538.71 2282.46 1531.6 Q2282.46 1524.47 2280.63 1520.93 Q2278.82 1517.37 2275.19 1517.37 M2275.19 1513.66 Q2281 1513.66 2284.06 1518.27 Q2287.14 1522.85 2287.14 1531.6 Q2287.14 1540.33 2284.06 1544.94 Q2281 1549.52 2275.19 1549.52 Q2269.38 1549.52 2266.3 1544.94 Q2263.25 1540.33 2263.25 1531.6 Q2263.25 1522.85 2266.3 1518.27 Q2269.38 1513.66 2275.19 1513.66 Z\" fill=\"#000000\" fill-rule=\"nonzero\" fill-opacity=\"1\" /><path clip-path=\"url(#clip740)\" d=\"M2305.35 1517.37 Q2301.74 1517.37 2299.91 1520.93 Q2298.11 1524.47 2298.11 1531.6 Q2298.11 1538.71 2299.91 1542.27 Q2301.74 1545.82 2305.35 1545.82 Q2308.99 1545.82 2310.79 1542.27 Q2312.62 1538.71 2312.62 1531.6 Q2312.62 1524.47 2310.79 1520.93 Q2308.99 1517.37 2305.35 1517.37 M2305.35 1513.66 Q2311.16 1513.66 2314.22 1518.27 Q2317.3 1522.85 2317.3 1531.6 Q2317.3 1540.33 2314.22 1544.94 Q2311.16 1549.52 2305.35 1549.52 Q2299.54 1549.52 2296.46 1544.94 Q2293.41 1540.33 2293.41 1531.6 Q2293.41 1522.85 2296.46 1518.27 Q2299.54 1513.66 2305.35 1513.66 Z\" fill=\"#000000\" fill-rule=\"nonzero\" fill-opacity=\"1\" /><path clip-path=\"url(#clip740)\" d=\"M2335.51 1517.37 Q2331.9 1517.37 2330.07 1520.93 Q2328.27 1524.47 2328.27 1531.6 Q2328.27 1538.71 2330.07 1542.27 Q2331.9 1545.82 2335.51 1545.82 Q2339.15 1545.82 2340.95 1542.27 Q2342.78 1538.71 2342.78 1531.6 Q2342.78 1524.47 2340.95 1520.93 Q2339.15 1517.37 2335.51 1517.37 M2335.51 1513.66 Q2341.32 1513.66 2344.38 1518.27 Q2347.46 1522.85 2347.46 1531.6 Q2347.46 1540.33 2344.38 1544.94 Q2341.32 1549.52 2335.51 1549.52 Q2329.7 1549.52 2326.63 1544.94 Q2323.57 1540.33 2323.57 1531.6 Q2323.57 1522.85 2326.63 1518.27 Q2329.7 1513.66 2335.51 1513.66 Z\" fill=\"#000000\" fill-rule=\"nonzero\" fill-opacity=\"1\" /><polyline clip-path=\"url(#clip740)\" style=\"stroke:#000000; stroke-linecap:round; stroke-linejoin:round; stroke-width:4; stroke-opacity:1; fill:none\" points=\"181.785,1486.45 181.785,47.2441 \"/>\n",
       "<polyline clip-path=\"url(#clip740)\" style=\"stroke:#000000; stroke-linecap:round; stroke-linejoin:round; stroke-width:4; stroke-opacity:1; fill:none\" points=\"181.785,1080.55 200.682,1080.55 \"/>\n",
       "<polyline clip-path=\"url(#clip740)\" style=\"stroke:#000000; stroke-linecap:round; stroke-linejoin:round; stroke-width:4; stroke-opacity:1; fill:none\" points=\"181.785,485.909 200.682,485.909 \"/>\n",
       "<path clip-path=\"url(#clip740)\" d=\"M75.0791 1100.34 L82.7179 1100.34 L82.7179 1073.97 L74.4078 1075.64 L74.4078 1071.38 L82.6716 1069.72 L87.3475 1069.72 L87.3475 1100.34 L94.9864 1100.34 L94.9864 1104.28 L75.0791 1104.28 L75.0791 1100.34 Z\" fill=\"#000000\" fill-rule=\"nonzero\" fill-opacity=\"1\" /><path clip-path=\"url(#clip740)\" d=\"M114.431 1072.79 Q110.82 1072.79 108.991 1076.36 Q107.185 1079.9 107.185 1087.03 Q107.185 1094.14 108.991 1097.7 Q110.82 1101.24 114.431 1101.24 Q118.065 1101.24 119.871 1097.7 Q121.699 1094.14 121.699 1087.03 Q121.699 1079.9 119.871 1076.36 Q118.065 1072.79 114.431 1072.79 M114.431 1069.09 Q120.241 1069.09 123.296 1073.7 Q126.375 1078.28 126.375 1087.03 Q126.375 1095.76 123.296 1100.36 Q120.241 1104.95 114.431 1104.95 Q108.621 1104.95 105.542 1100.36 Q102.486 1095.76 102.486 1087.03 Q102.486 1078.28 105.542 1073.7 Q108.621 1069.09 114.431 1069.09 Z\" fill=\"#000000\" fill-rule=\"nonzero\" fill-opacity=\"1\" /><path clip-path=\"url(#clip740)\" d=\"M136.08 1051.29 Q133.146 1051.29 131.66 1054.18 Q130.193 1057.06 130.193 1062.85 Q130.193 1068.63 131.66 1071.52 Q133.146 1074.4 136.08 1074.4 Q139.033 1074.4 140.5 1071.52 Q141.986 1068.63 141.986 1062.85 Q141.986 1057.06 140.5 1054.18 Q139.033 1051.29 136.08 1051.29 M136.08 1048.28 Q140.801 1048.28 143.283 1052.02 Q145.785 1055.74 145.785 1062.85 Q145.785 1069.94 143.283 1073.69 Q140.801 1077.41 136.08 1077.41 Q131.359 1077.41 128.858 1073.69 Q126.375 1069.94 126.375 1062.85 Q126.375 1055.74 128.858 1052.02 Q131.359 1048.28 136.08 1048.28 Z\" fill=\"#000000\" fill-rule=\"nonzero\" fill-opacity=\"1\" /><path clip-path=\"url(#clip740)\" d=\"M51.6634 505.702 L59.3023 505.702 L59.3023 479.336 L50.9921 481.003 L50.9921 476.744 L59.256 475.077 L63.9319 475.077 L63.9319 505.702 L71.5707 505.702 L71.5707 509.637 L51.6634 509.637 L51.6634 505.702 Z\" fill=\"#000000\" fill-rule=\"nonzero\" fill-opacity=\"1\" /><path clip-path=\"url(#clip740)\" d=\"M91.0151 478.156 Q87.404 478.156 85.5753 481.721 Q83.7697 485.262 83.7697 492.392 Q83.7697 499.498 85.5753 503.063 Q87.404 506.605 91.0151 506.605 Q94.6493 506.605 96.4548 503.063 Q98.2835 499.498 98.2835 492.392 Q98.2835 485.262 96.4548 481.721 Q94.6493 478.156 91.0151 478.156 M91.0151 474.452 Q96.8252 474.452 99.8808 479.059 Q102.959 483.642 102.959 492.392 Q102.959 501.119 99.8808 505.725 Q96.8252 510.308 91.0151 510.308 Q85.2049 510.308 82.1262 505.725 Q79.0707 501.119 79.0707 492.392 Q79.0707 483.642 82.1262 479.059 Q85.2049 474.452 91.0151 474.452 Z\" fill=\"#000000\" fill-rule=\"nonzero\" fill-opacity=\"1\" /><path clip-path=\"url(#clip740)\" d=\"M107.53 479.029 L120.789 479.029 L120.789 482.227 L102.959 482.227 L102.959 479.029 Q105.122 476.791 108.846 473.03 Q112.589 469.249 113.548 468.158 Q115.373 466.108 116.087 464.698 Q116.821 463.268 116.821 461.895 Q116.821 459.657 115.241 458.247 Q113.68 456.836 111.16 456.836 Q109.373 456.836 107.379 457.457 Q105.404 458.077 103.148 459.338 L103.148 455.501 Q105.442 454.579 107.436 454.109 Q109.429 453.639 111.084 453.639 Q115.448 453.639 118.043 455.821 Q120.639 458.002 120.639 461.651 Q120.639 463.381 119.98 464.942 Q119.341 466.485 117.63 468.591 Q117.159 469.136 114.639 471.751 Q112.119 474.346 107.53 479.029 Z\" fill=\"#000000\" fill-rule=\"nonzero\" fill-opacity=\"1\" /><path clip-path=\"url(#clip740)\" d=\"M128.801 454.147 L143.716 454.147 L143.716 457.344 L132.281 457.344 L132.281 464.228 Q133.108 463.945 133.936 463.814 Q134.763 463.663 135.591 463.663 Q140.293 463.663 143.039 466.24 Q145.785 468.817 145.785 473.218 Q145.785 477.75 142.964 480.271 Q140.142 482.772 135.008 482.772 Q133.24 482.772 131.397 482.471 Q129.572 482.17 127.616 481.568 L127.616 477.75 Q129.309 478.672 131.115 479.123 Q132.92 479.575 134.933 479.575 Q138.186 479.575 140.086 477.863 Q141.986 476.152 141.986 473.218 Q141.986 470.284 140.086 468.572 Q138.186 466.861 134.933 466.861 Q133.409 466.861 131.886 467.199 Q130.381 467.538 128.801 468.252 L128.801 454.147 Z\" fill=\"#000000\" fill-rule=\"nonzero\" fill-opacity=\"1\" /><polyline clip-path=\"url(#clip742)\" style=\"stroke:#009af9; stroke-linecap:round; stroke-linejoin:round; stroke-width:4; stroke-opacity:1; fill:none\" points=\"243.227,1083.97 245.277,1096.27 247.328,1111.16 249.378,1128.17 251.428,1146.95 253.478,1167.25 255.528,1188.89 257.578,1211.71 259.628,1235.6 261.679,1260.45 263.729,1286.19 265.779,1312.75 267.829,1340.06 269.879,1368.09 271.929,1396.88 273.979,1429.09 276.029,1445.72 278.08,1445.72 280.13,1445.72 282.18,1445.72 284.23,1445.72 286.28,1445.72 288.33,1445.72 290.38,1445.72 292.431,1445.72 294.481,1445.72 296.531,1445.72 298.581,1445.72 300.631,1445.72 302.681,1445.72 304.731,1445.72 306.782,1445.72 308.832,1445.72 310.882,1445.72 312.932,1445.72 314.982,1445.72 317.032,1445.72 319.082,1445.72 321.132,1445.72 323.183,1445.72 325.233,1445.72 327.283,1445.72 329.333,1445.72 331.383,1445.72 333.433,1445.72 335.483,1445.72 337.534,1445.72 339.584,1445.72 341.634,1445.72 343.684,1445.72 345.734,1445.72 347.784,1445.72 349.834,1445.72 351.885,1445.72 353.935,1445.72 355.985,1445.72 358.035,1445.72 360.085,1445.72 362.135,1445.72 364.185,1445.72 366.235,1445.72 368.286,1445.72 370.336,1445.72 372.386,1445.72 374.436,1445.72 376.486,1445.72 378.536,1445.72 380.586,1445.72 382.637,1445.72 384.687,1445.72 386.737,1445.72 388.787,1445.72 390.837,1445.72 392.887,1445.72 394.937,1445.72 396.988,1445.72 399.038,1445.72 401.088,1445.72 403.138,1445.72 405.188,1445.72 407.238,1445.72 409.288,1445.72 411.338,1445.72 413.389,1445.72 415.439,1445.72 417.489,1445.72 419.539,1445.72 421.589,1445.72 423.639,1445.72 425.689,1445.72 427.74,1445.72 429.79,1445.72 431.84,1445.72 433.89,1445.72 435.94,1445.72 437.99,1445.72 440.04,1445.72 442.091,1445.72 444.141,1445.72 446.191,1445.72 448.241,1445.72 450.291,1445.72 452.341,1445.72 454.391,1445.72 456.441,1445.72 458.492,1445.72 460.542,1445.72 462.592,1445.72 464.642,1445.72 466.692,1445.72 468.742,1445.72 470.792,1445.72 472.843,1445.72 474.893,1445.72 476.943,1445.72 478.993,1445.72 481.043,1445.72 483.093,1445.72 485.143,1445.72 487.194,1445.72 489.244,1445.72 491.294,1445.72 493.344,1445.72 495.394,1445.72 497.444,1445.72 499.494,1445.72 501.544,1445.72 503.595,1445.72 505.645,1445.72 507.695,1445.72 509.745,1445.72 511.795,1445.72 513.845,1445.72 515.895,1445.72 517.946,1445.72 519.996,1445.72 522.046,1445.72 524.096,1445.72 526.146,1445.72 528.196,1445.72 530.246,1445.72 532.297,1445.72 534.347,1445.72 536.397,1445.72 538.447,1445.72 540.497,1445.72 542.547,1445.72 544.597,1445.72 546.647,1445.72 548.698,1445.72 550.748,1445.72 552.798,1445.72 554.848,1445.72 556.898,1445.72 558.948,1445.72 560.998,1445.72 563.049,1445.72 565.099,1445.72 567.149,1445.72 569.199,1445.72 571.249,1445.72 573.299,1445.72 575.349,1445.72 577.4,1445.72 579.45,1445.72 581.5,1445.72 583.55,1445.72 585.6,1445.72 587.65,1445.72 589.7,1445.72 591.75,1445.72 593.801,1445.72 595.851,1445.72 597.901,1445.72 599.951,1445.72 602.001,1445.72 604.051,1445.72 606.101,1445.72 608.152,1445.72 610.202,1445.72 612.252,1445.72 614.302,1445.72 616.352,1445.72 618.402,1445.72 620.452,1445.72 622.502,1445.72 624.553,1445.72 626.603,1445.72 628.653,1445.72 630.703,1445.72 632.753,1445.72 634.803,1445.72 636.853,1445.72 638.904,1445.72 640.954,1445.72 643.004,1445.72 645.054,1445.72 647.104,1445.72 649.154,1445.72 651.204,1445.72 653.255,1445.72 655.305,1445.72 657.355,1445.72 659.405,1445.72 661.455,1445.72 663.505,1445.72 665.555,1445.72 667.605,1445.72 669.656,1445.72 671.706,1445.72 673.756,1445.72 675.806,1445.72 677.856,1445.72 679.906,1445.72 681.956,1445.72 684.007,1445.72 686.057,1445.72 688.107,1445.72 690.157,1445.72 692.207,1445.72 694.257,1445.72 696.307,1445.72 698.358,1445.72 700.408,1445.72 702.458,1445.72 704.508,1445.72 706.558,1445.72 708.608,1445.72 710.658,1445.72 712.708,1445.72 714.759,1445.72 716.809,1445.72 718.859,1445.72 720.909,1445.72 722.959,1445.72 725.009,1445.72 727.059,1445.72 729.11,1445.72 731.16,1445.72 733.21,1445.72 735.26,1445.72 737.31,1445.72 739.36,1445.72 741.41,1445.72 743.461,1445.72 745.511,1445.72 747.561,1445.72 749.611,1445.72 751.661,1445.72 753.711,1445.72 755.761,1445.72 757.811,1445.72 759.862,1445.72 761.912,1445.72 763.962,1445.72 766.012,1445.72 768.062,1445.72 770.112,1445.72 772.162,1445.72 774.213,1445.72 776.263,1445.72 778.313,1445.72 780.363,1445.72 782.413,1445.72 784.463,1445.72 786.513,1445.72 788.564,1445.72 790.614,1445.72 792.664,1445.72 794.714,1445.72 796.764,1445.72 798.814,1445.72 800.864,1445.72 802.914,1445.72 804.965,1445.72 807.015,1445.72 809.065,1445.72 811.115,1445.72 813.165,1445.72 815.215,1445.72 817.265,1445.72 819.316,1445.72 821.366,1445.72 823.416,1445.72 825.466,1445.72 827.516,1445.72 829.566,1445.72 831.616,1445.72 833.667,1445.72 835.717,1445.72 837.767,1445.72 839.817,1445.72 841.867,1445.72 843.917,1445.72 845.967,1445.72 848.017,1445.72 850.068,1445.72 852.118,1445.72 854.168,1445.72 856.218,1445.72 858.268,1445.72 860.318,1445.72 862.368,1445.72 864.419,1445.72 866.469,1445.72 868.519,1445.72 870.569,1445.72 872.619,1445.72 874.669,1445.72 876.719,1445.72 878.77,1445.72 880.82,1445.72 882.87,1445.72 884.92,1445.72 886.97,1445.72 889.02,1445.72 891.07,1445.72 893.12,1445.72 895.171,1445.72 897.221,1445.72 899.271,1445.72 901.321,1445.72 903.371,1445.72 905.421,1445.72 907.471,1445.72 909.522,1445.72 911.572,1445.72 913.622,1445.72 915.672,1445.72 917.722,1445.72 919.772,1445.72 921.822,1445.72 923.873,1445.72 925.923,1445.72 927.973,1445.72 930.023,1445.72 932.073,1445.72 934.123,1445.72 936.173,1445.72 938.223,1445.72 940.274,1445.72 942.324,1445.72 944.374,1445.72 946.424,1445.72 948.474,1445.72 950.524,1445.72 952.574,1445.72 954.625,1445.72 956.675,1445.72 958.725,1445.72 960.775,1445.72 962.825,1445.72 964.875,1445.72 966.925,1445.72 968.976,1445.72 971.026,1445.72 973.076,1445.72 975.126,1445.72 977.176,1445.72 979.226,1445.72 981.276,1445.72 983.326,1445.72 985.377,1445.72 987.427,1445.72 989.477,1445.72 991.527,1445.72 993.577,1445.72 995.627,1445.72 997.677,1445.72 999.728,1445.72 1001.78,1445.72 1003.83,1445.72 1005.88,1445.72 1007.93,1445.72 1009.98,1445.72 1012.03,1445.72 1014.08,1445.72 1016.13,1445.72 1018.18,1445.72 1020.23,1445.72 1022.28,1445.72 1024.33,1445.72 1026.38,1445.72 1028.43,1445.72 1030.48,1445.72 1032.53,1445.72 1034.58,1445.72 1036.63,1445.72 1038.68,1445.72 1040.73,1445.72 1042.78,1445.72 1044.83,1445.72 1046.88,1445.72 1048.93,1445.72 1050.98,1445.72 1053.03,1445.72 1055.08,1445.72 1057.13,1445.72 1059.18,1445.72 1061.23,1445.72 1063.28,1445.72 1065.33,1445.72 1067.38,1445.72 1069.43,1445.72 1071.48,1445.72 1073.53,1445.72 1075.58,1445.72 1077.63,1445.72 1079.68,1445.72 1081.73,1445.72 1083.78,1445.72 1085.83,1445.72 1087.88,1445.72 1089.93,1445.72 1091.98,1445.72 1094.03,1445.72 1096.08,1445.72 1098.13,1445.72 1100.18,1445.72 1102.23,1445.72 1104.28,1445.72 1106.33,1445.72 1108.38,1445.72 1110.43,1445.72 1112.49,1445.72 1114.54,1445.72 1116.59,1445.72 1118.64,1445.72 1120.69,1445.72 1122.74,1445.72 1124.79,1445.72 1126.84,1445.72 1128.89,1445.72 1130.94,1445.72 1132.99,1445.72 1135.04,1445.72 1137.09,1445.72 1139.14,1445.72 1141.19,1445.72 1143.24,1445.72 1145.29,1445.72 1147.34,1445.72 1149.39,1445.72 1151.44,1445.72 1153.49,1445.72 1155.54,1445.72 1157.59,1445.72 1159.64,1445.72 1161.69,1445.72 1163.74,1445.72 1165.79,1445.72 1167.84,1445.72 1169.89,1445.72 1171.94,1445.72 1173.99,1445.72 1176.04,1445.72 1178.09,1445.72 1180.14,1445.72 1182.19,1445.72 1184.24,1445.72 1186.29,1445.72 1188.34,1445.72 1190.39,1445.72 1192.44,1445.72 1194.49,1445.72 1196.54,1445.72 1198.59,1445.72 1200.64,1445.72 1202.69,1445.72 1204.74,1445.72 1206.79,1445.72 1208.84,1445.72 1210.89,1445.72 1212.94,1445.72 1214.99,1445.72 1217.04,1445.72 1219.09,1445.72 1221.14,1445.72 1223.19,1445.72 1225.24,1445.72 1227.29,1445.72 1229.34,1445.72 1231.39,1445.72 1233.44,1445.72 1235.49,1445.72 1237.54,1445.72 1239.59,1445.72 1241.64,1445.72 1243.69,1445.72 1245.74,1445.72 1247.79,1445.72 1249.84,1445.72 1251.89,1445.72 1253.94,1445.72 1255.99,1445.72 1258.04,1445.72 1260.09,1445.72 1262.14,1445.72 1264.2,1445.72 1266.25,1445.72 1268.3,1445.72 1270.35,1445.72 1272.4,1445.72 1274.45,1445.72 1276.5,1445.72 1278.55,1445.72 1280.6,1445.72 1282.65,1445.72 1284.7,1445.72 1286.75,1445.72 1288.8,1445.72 1290.85,1445.72 1292.9,1445.72 1294.95,1445.72 1297,1445.72 1299.05,1445.72 1301.1,1445.72 1303.15,1445.72 1305.2,1445.72 1307.25,1445.72 1309.3,1445.72 1311.35,1445.72 1313.4,1445.72 1315.45,1445.72 1317.5,1445.72 1319.55,1445.72 1321.6,1445.72 1323.65,1445.72 1325.7,1445.72 1327.75,1445.72 1329.8,1445.72 1331.85,1445.72 1333.9,1445.72 1335.95,1445.72 1338,1445.72 1340.05,1445.72 1342.1,1445.72 1344.15,1445.72 1346.2,1445.72 1348.25,1445.72 1350.3,1445.72 1352.35,1445.72 1354.4,1445.72 1356.45,1445.72 1358.5,1445.72 1360.55,1445.72 1362.6,1445.72 1364.65,1445.72 1366.7,1445.72 1368.75,1445.72 1370.8,1445.72 1372.85,1445.72 1374.9,1445.72 1376.95,1445.72 1379,1445.72 1381.05,1445.72 1383.1,1445.72 1385.15,1445.72 1387.2,1445.72 1389.25,1445.72 1391.3,1445.72 1393.35,1445.72 1395.4,1445.72 1397.45,1445.72 1399.5,1445.72 1401.55,1445.72 1403.6,1445.72 1405.65,1445.72 1407.7,1445.72 1409.75,1445.72 1411.8,1445.72 1413.86,1445.72 1415.91,1445.72 1417.96,1445.72 1420.01,1445.72 1422.06,1445.72 1424.11,1445.72 1426.16,1445.72 1428.21,1445.72 1430.26,1445.72 1432.31,1445.72 1434.36,1445.72 1436.41,1445.72 1438.46,1445.72 1440.51,1445.72 1442.56,1445.72 1444.61,1445.72 1446.66,1445.72 1448.71,1445.72 1450.76,1445.72 1452.81,1445.72 1454.86,1445.72 1456.91,1445.72 1458.96,1445.72 1461.01,1445.72 1463.06,1445.72 1465.11,1445.72 1467.16,1445.72 1469.21,1445.72 1471.26,1445.72 1473.31,1445.72 1475.36,1445.72 1477.41,1445.72 1479.46,1445.72 1481.51,1445.72 1483.56,1445.72 1485.61,1445.72 1487.66,1445.72 1489.71,1445.72 1491.76,1445.72 1493.81,1445.72 1495.86,1445.72 1497.91,1445.72 1499.96,1445.72 1502.01,1445.72 1504.06,1445.72 1506.11,1445.72 1508.16,1445.72 1510.21,1445.72 1512.26,1445.72 1514.31,1445.72 1516.36,1445.72 1518.41,1445.72 1520.46,1445.72 1522.51,1445.72 1524.56,1445.72 1526.61,1445.72 1528.66,1445.72 1530.71,1445.72 1532.76,1445.72 1534.81,1445.72 1536.86,1445.72 1538.91,1445.72 1540.96,1445.72 1543.01,1445.72 1545.06,1445.72 1547.11,1445.72 1549.16,1445.72 1551.21,1445.72 1553.26,1445.72 1555.31,1445.72 1557.36,1445.72 1559.41,1445.72 1561.46,1445.72 1563.51,1445.72 1565.57,1445.72 1567.62,1445.72 1569.67,1445.72 1571.72,1445.72 1573.77,1445.72 1575.82,1445.72 1577.87,1445.72 1579.92,1445.72 1581.97,1445.72 1584.02,1445.72 1586.07,1445.72 1588.12,1445.72 1590.17,1445.72 1592.22,1445.72 1594.27,1445.72 1596.32,1445.72 1598.37,1445.72 1600.42,1445.72 1602.47,1445.72 1604.52,1445.72 1606.57,1445.72 1608.62,1445.72 1610.67,1445.72 1612.72,1445.72 1614.77,1445.72 1616.82,1445.72 1618.87,1445.72 1620.92,1445.72 1622.97,1445.72 1625.02,1445.72 1627.07,1445.72 1629.12,1445.72 1631.17,1445.72 1633.22,1445.72 1635.27,1445.72 1637.32,1445.72 1639.37,1445.72 1641.42,1445.72 1643.47,1445.72 1645.52,1445.72 1647.57,1445.72 1649.62,1445.72 1651.67,1445.72 1653.72,1445.72 1655.77,1445.72 1657.82,1445.72 1659.87,1445.72 1661.92,1445.72 1663.97,1445.72 1666.02,1445.72 1668.07,1445.72 1670.12,1445.72 1672.17,1445.72 1674.22,1445.72 1676.27,1445.72 1678.32,1445.72 1680.37,1445.72 1682.42,1445.72 1684.47,1445.72 1686.52,1445.72 1688.57,1445.72 1690.62,1445.72 1692.67,1445.72 1694.72,1445.72 1696.77,1445.72 1698.82,1445.72 1700.87,1445.72 1702.92,1445.72 1704.97,1445.72 1707.02,1445.72 1709.07,1445.72 1711.12,1445.72 1713.17,1445.72 1715.23,1445.72 1717.28,1445.72 1719.33,1445.72 1721.38,1445.72 1723.43,1445.72 1725.48,1445.72 1727.53,1445.72 1729.58,1445.72 1731.63,1445.72 1733.68,1445.72 1735.73,1445.72 1737.78,1445.72 1739.83,1445.72 1741.88,1445.72 1743.93,1445.72 1745.98,1445.72 1748.03,1445.72 1750.08,1445.72 1752.13,1445.72 1754.18,1445.72 1756.23,1445.72 1758.28,1445.72 1760.33,1445.72 1762.38,1445.72 1764.43,1445.72 1766.48,1445.72 1768.53,1445.72 1770.58,1445.72 1772.63,1445.72 1774.68,1445.72 1776.73,1445.72 1778.78,1445.72 1780.83,1445.72 1782.88,1445.72 1784.93,1445.72 1786.98,1445.72 1789.03,1445.72 1791.08,1445.72 1793.13,1445.72 1795.18,1445.72 1797.23,1445.72 1799.28,1445.72 1801.33,1445.72 1803.38,1445.72 1805.43,1445.72 1807.48,1445.72 1809.53,1445.72 1811.58,1445.72 1813.63,1445.72 1815.68,1445.72 1817.73,1445.72 1819.78,1445.72 1821.83,1445.72 1823.88,1445.72 1825.93,1445.72 1827.98,1445.72 1830.03,1445.72 1832.08,1445.72 1834.13,1445.72 1836.18,1445.72 1838.23,1445.72 1840.28,1445.72 1842.33,1445.72 1844.38,1445.72 1846.43,1445.72 1848.48,1445.72 1850.53,1445.72 1852.58,1445.72 1854.63,1445.72 1856.68,1445.72 1858.73,1445.72 1860.78,1445.72 1862.83,1445.72 1864.89,1445.72 1866.94,1445.72 1868.99,1445.72 1871.04,1445.72 1873.09,1445.72 1875.14,1445.72 1877.19,1445.72 1879.24,1445.72 1881.29,1445.72 1883.34,1445.72 1885.39,1445.72 1887.44,1445.72 1889.49,1445.72 1891.54,1445.72 1893.59,1445.72 1895.64,1445.72 1897.69,1445.72 1899.74,1445.72 1901.79,1445.72 1903.84,1445.72 1905.89,1445.72 1907.94,1445.72 1909.99,1445.72 1912.04,1445.72 1914.09,1445.72 1916.14,1445.72 1918.19,1445.72 1920.24,1445.72 1922.29,1445.72 1924.34,1445.72 1926.39,1445.72 1928.44,1445.72 1930.49,1445.72 1932.54,1445.72 1934.59,1445.72 1936.64,1445.72 1938.69,1445.72 1940.74,1445.72 1942.79,1445.72 1944.84,1445.72 1946.89,1445.72 1948.94,1445.72 1950.99,1445.72 1953.04,1445.72 1955.09,1445.72 1957.14,1445.72 1959.19,1445.72 1961.24,1445.72 1963.29,1445.72 1965.34,1445.72 1967.39,1445.72 1969.44,1445.72 1971.49,1445.72 1973.54,1445.72 1975.59,1445.72 1977.64,1445.72 1979.69,1445.72 1981.74,1445.72 1983.79,1445.72 1985.84,1445.72 1987.89,1445.72 1989.94,1445.72 1991.99,1445.72 1994.04,1445.72 1996.09,1445.72 1998.14,1445.72 2000.19,1445.72 2002.24,1445.72 2004.29,1445.72 2006.34,1445.72 2008.39,1445.72 2010.44,1445.72 2012.49,1445.72 2014.54,1445.72 2016.6,1445.72 2018.65,1445.72 2020.7,1445.72 2022.75,1445.72 2024.8,1445.72 2026.85,1445.72 2028.9,1445.72 2030.95,1445.72 2033,1445.72 2035.05,1445.72 2037.1,1445.72 2039.15,1445.72 2041.2,1445.72 2043.25,1445.72 2045.3,1445.72 2047.35,1445.72 2049.4,1445.72 2051.45,1445.72 2053.5,1445.72 2055.55,1445.72 2057.6,1445.72 2059.65,1445.72 2061.7,1445.72 2063.75,1445.72 2065.8,1445.72 2067.85,1445.72 2069.9,1445.72 2071.95,1445.72 2074,1445.72 2076.05,1445.72 2078.1,1445.72 2080.15,1445.72 2082.2,1445.72 2084.25,1445.72 2086.3,1445.72 2088.35,1445.72 2090.4,1445.72 2092.45,1445.72 2094.5,1445.72 2096.55,1445.72 2098.6,1445.72 2100.65,1445.72 2102.7,1445.72 2104.75,1445.72 2106.8,1445.72 2108.85,1445.72 2110.9,1445.72 2112.95,1445.72 2115,1445.72 2117.05,1445.72 2119.1,1445.72 2121.15,1445.72 2123.2,1445.72 2125.25,1445.72 2127.3,1445.72 2129.35,1445.72 2131.4,1445.72 2133.45,1445.72 2135.5,1445.72 2137.55,1445.72 2139.6,1445.72 2141.65,1445.72 2143.7,1445.72 2145.75,1445.72 2147.8,1445.72 2149.85,1445.72 2151.9,1445.72 2153.95,1445.72 2156,1445.72 2158.05,1445.72 2160.1,1445.72 2162.15,1445.72 2164.2,1445.72 2166.26,1445.72 2168.31,1445.72 2170.36,1445.72 2172.41,1445.72 2174.46,1445.72 2176.51,1445.72 2178.56,1445.72 2180.61,1445.72 2182.66,1445.72 2184.71,1445.72 2186.76,1445.72 2188.81,1445.72 2190.86,1445.72 2192.91,1445.72 2194.96,1445.72 2197.01,1445.72 2199.06,1445.72 2201.11,1445.72 2203.16,1445.72 2205.21,1445.72 2207.26,1445.72 2209.31,1445.72 2211.36,1445.72 2213.41,1445.72 2215.46,1445.72 2217.51,1445.72 2219.56,1445.72 2221.61,1445.72 2223.66,1445.72 2225.71,1445.72 2227.76,1445.72 2229.81,1445.72 2231.86,1445.72 2233.91,1445.72 2235.96,1445.72 2238.01,1445.72 2240.06,1445.72 2242.11,1445.72 2244.16,1445.72 2246.21,1445.72 2248.26,1445.72 2250.31,1445.72 2252.36,1445.72 2254.41,1445.72 2256.46,1445.72 2258.51,1445.72 2260.56,1445.72 2262.61,1445.72 2264.66,1445.72 2266.71,1445.72 2268.76,1445.72 2270.81,1445.72 2272.86,1445.72 2274.91,1445.72 2276.96,1445.72 2279.01,1445.72 2281.06,1445.72 2283.11,1445.72 2285.16,1445.72 2287.21,1445.72 2289.26,1445.72 2291.31,1445.72 \"/>\n",
       "<polyline clip-path=\"url(#clip742)\" style=\"stroke:#e26f46; stroke-linecap:round; stroke-linejoin:round; stroke-width:4; stroke-opacity:1; fill:none\" points=\"243.227,1073.45 245.277,1071.36 247.328,1071.64 249.378,1071.81 251.428,1071.79 253.478,1071.79 255.528,1071.79 257.578,1071.79 259.628,1071.79 261.679,1071.79 263.729,1071.79 265.779,1071.79 267.829,1071.79 269.879,1071.79 271.929,1071.79 273.979,1071.79 276.029,1071.79 278.08,1071.79 280.13,1071.79 282.18,1071.79 284.23,1071.79 286.28,1071.79 288.33,1071.79 290.38,1071.79 292.431,1071.79 294.481,1071.79 296.531,1071.79 298.581,1071.79 300.631,1071.79 302.681,1071.79 304.731,1071.79 306.782,1071.79 308.832,1071.79 310.882,1071.79 312.932,1071.79 314.982,1071.79 317.032,1071.79 319.082,1071.79 321.132,1071.79 323.183,1071.79 325.233,1071.79 327.283,1071.79 329.333,1071.79 331.383,1071.79 333.433,1071.79 335.483,1071.79 337.534,1071.79 339.584,1071.79 341.634,1071.79 343.684,1071.79 345.734,1071.79 347.784,1071.79 349.834,1071.79 351.885,1071.79 353.935,1071.79 355.985,1071.79 358.035,1071.79 360.085,1071.79 362.135,1071.79 364.185,1071.79 366.235,1071.79 368.286,1071.79 370.336,1071.79 372.386,1071.79 374.436,1071.79 376.486,1071.79 378.536,1071.79 380.586,1071.79 382.637,1071.79 384.687,1071.79 386.737,1071.79 388.787,1071.79 390.837,1071.79 392.887,1071.79 394.937,1071.79 396.988,1071.79 399.038,1071.79 401.088,1071.79 403.138,1071.79 405.188,1071.79 407.238,1071.79 409.288,1071.79 411.338,1071.79 413.389,1071.79 415.439,1071.79 417.489,1071.79 419.539,1071.79 421.589,1071.79 423.639,1071.79 425.689,1071.79 427.74,1071.79 429.79,1071.79 431.84,1071.79 433.89,1071.79 435.94,1071.79 437.99,1071.79 440.04,1071.79 442.091,1071.79 444.141,1071.79 446.191,1071.79 448.241,1071.79 450.291,1071.79 452.341,1071.79 454.391,1071.79 456.441,1071.79 458.492,1071.79 460.542,1071.79 462.592,1071.79 464.642,1071.79 466.692,1071.79 468.742,1071.79 470.792,1071.79 472.843,1071.79 474.893,1071.79 476.943,1071.79 478.993,1071.79 481.043,1071.79 483.093,1071.79 485.143,1071.79 487.194,1071.79 489.244,1071.79 491.294,1071.79 493.344,1071.79 495.394,1071.79 497.444,1071.79 499.494,1071.79 501.544,1071.79 503.595,1071.79 505.645,1071.79 507.695,1071.79 509.745,1071.79 511.795,1071.79 513.845,1071.79 515.895,1071.79 517.946,1071.79 519.996,1071.79 522.046,1071.79 524.096,1071.79 526.146,1071.79 528.196,1071.79 530.246,1071.79 532.297,1071.79 534.347,1071.79 536.397,1071.79 538.447,1071.79 540.497,1071.79 542.547,1071.79 544.597,1071.79 546.647,1071.79 548.698,1071.79 550.748,1071.79 552.798,1071.79 554.848,1071.79 556.898,1071.79 558.948,1071.79 560.998,1071.79 563.049,1071.79 565.099,1071.79 567.149,1071.79 569.199,1071.79 571.249,1071.79 573.299,1071.79 575.349,1071.79 577.4,1071.79 579.45,1071.79 581.5,1071.79 583.55,1071.79 585.6,1071.79 587.65,1071.79 589.7,1071.79 591.75,1071.79 593.801,1071.79 595.851,1071.79 597.901,1071.79 599.951,1071.79 602.001,1071.79 604.051,1071.79 606.101,1071.79 608.152,1071.79 610.202,1071.79 612.252,1071.79 614.302,1071.79 616.352,1071.79 618.402,1071.79 620.452,1071.79 622.502,1071.79 624.553,1071.79 626.603,1071.79 628.653,1071.79 630.703,1071.79 632.753,1071.79 634.803,1071.79 636.853,1071.79 638.904,1071.79 640.954,1071.79 643.004,1071.79 645.054,1071.79 647.104,1071.79 649.154,1071.79 651.204,1071.79 653.255,1071.79 655.305,1071.79 657.355,1071.79 659.405,1071.79 661.455,1071.79 663.505,1071.79 665.555,1071.79 667.605,1071.79 669.656,1071.79 671.706,1071.79 673.756,1071.79 675.806,1071.79 677.856,1071.79 679.906,1071.79 681.956,1071.79 684.007,1071.79 686.057,1071.79 688.107,1071.79 690.157,1071.79 692.207,1071.79 694.257,1071.79 696.307,1071.79 698.358,1071.79 700.408,1071.79 702.458,1071.79 704.508,1071.79 706.558,1071.79 708.608,1071.79 710.658,1071.79 712.708,1071.79 714.759,1071.79 716.809,1071.79 718.859,1071.79 720.909,1071.79 722.959,1071.79 725.009,1071.79 727.059,1071.79 729.11,1071.79 731.16,1071.79 733.21,1071.79 735.26,1071.79 737.31,1071.79 739.36,1071.79 741.41,1071.79 743.461,1071.79 745.511,1071.79 747.561,1071.79 749.611,1071.79 751.661,1071.79 753.711,1071.79 755.761,1071.79 757.811,1071.79 759.862,1071.79 761.912,1071.79 763.962,1071.79 766.012,1071.79 768.062,1071.79 770.112,1071.79 772.162,1071.79 774.213,1071.79 776.263,1071.79 778.313,1071.79 780.363,1071.79 782.413,1071.79 784.463,1071.79 786.513,1071.79 788.564,1071.79 790.614,1071.79 792.664,1071.79 794.714,1071.79 796.764,1071.79 798.814,1071.79 800.864,1071.79 802.914,1071.79 804.965,1071.79 807.015,1071.79 809.065,1071.79 811.115,1071.79 813.165,1071.79 815.215,1071.79 817.265,1071.79 819.316,1071.79 821.366,1071.79 823.416,1071.79 825.466,1071.79 827.516,1071.79 829.566,1071.79 831.616,1071.79 833.667,1071.79 835.717,1071.79 837.767,1071.79 839.817,1071.79 841.867,1071.79 843.917,1071.79 845.967,1071.79 848.017,1071.79 850.068,1071.79 852.118,1071.79 854.168,1071.79 856.218,1071.79 858.268,1071.79 860.318,1071.79 862.368,1071.79 864.419,1071.79 866.469,1071.79 868.519,1071.79 870.569,1071.79 872.619,1071.79 874.669,1071.79 876.719,1071.79 878.77,1071.79 880.82,1071.79 882.87,1071.79 884.92,1071.79 886.97,1071.79 889.02,1071.79 891.07,1071.79 893.12,1071.79 895.171,1071.79 897.221,1071.79 899.271,1071.79 901.321,1071.79 903.371,1071.79 905.421,1071.79 907.471,1071.79 909.522,1071.79 911.572,1071.79 913.622,1071.79 915.672,1071.79 917.722,1071.79 919.772,1071.79 921.822,1071.79 923.873,1071.79 925.923,1071.79 927.973,1071.79 930.023,1071.79 932.073,1071.79 934.123,1071.79 936.173,1071.79 938.223,1071.79 940.274,1071.79 942.324,1071.79 944.374,1071.79 946.424,1071.79 948.474,1071.79 950.524,1071.79 952.574,1071.79 954.625,1071.79 956.675,1071.79 958.725,1071.79 960.775,1071.79 962.825,1071.79 964.875,1071.79 966.925,1071.79 968.976,1071.79 971.026,1071.79 973.076,1071.79 975.126,1071.79 977.176,1071.79 979.226,1071.79 981.276,1071.79 983.326,1071.79 985.377,1071.79 987.427,1071.79 989.477,1071.79 991.527,1071.79 993.577,1071.79 995.627,1071.79 997.677,1071.79 999.728,1071.79 1001.78,1071.79 1003.83,1071.79 1005.88,1071.79 1007.93,1071.79 1009.98,1071.79 1012.03,1071.79 1014.08,1071.79 1016.13,1071.79 1018.18,1071.79 1020.23,1071.79 1022.28,1071.79 1024.33,1071.79 1026.38,1071.79 1028.43,1071.79 1030.48,1071.79 1032.53,1071.79 1034.58,1071.79 1036.63,1071.79 1038.68,1071.79 1040.73,1071.79 1042.78,1071.79 1044.83,1071.79 1046.88,1071.79 1048.93,1071.79 1050.98,1071.79 1053.03,1071.79 1055.08,1071.79 1057.13,1071.79 1059.18,1071.79 1061.23,1071.79 1063.28,1071.79 1065.33,1071.79 1067.38,1071.79 1069.43,1071.79 1071.48,1071.79 1073.53,1071.79 1075.58,1071.79 1077.63,1071.79 1079.68,1071.79 1081.73,1071.79 1083.78,1071.79 1085.83,1071.79 1087.88,1071.79 1089.93,1071.79 1091.98,1071.79 1094.03,1071.79 1096.08,1071.79 1098.13,1071.79 1100.18,1071.79 1102.23,1071.79 1104.28,1071.79 1106.33,1071.79 1108.38,1071.79 1110.43,1071.79 1112.49,1071.79 1114.54,1071.79 1116.59,1071.79 1118.64,1071.79 1120.69,1071.79 1122.74,1071.79 1124.79,1071.79 1126.84,1071.79 1128.89,1071.79 1130.94,1071.79 1132.99,1071.79 1135.04,1071.79 1137.09,1071.79 1139.14,1071.79 1141.19,1071.79 1143.24,1071.79 1145.29,1071.79 1147.34,1071.79 1149.39,1071.79 1151.44,1071.79 1153.49,1071.79 1155.54,1071.79 1157.59,1071.79 1159.64,1071.79 1161.69,1071.79 1163.74,1071.79 1165.79,1071.79 1167.84,1071.79 1169.89,1071.79 1171.94,1071.79 1173.99,1071.79 1176.04,1071.79 1178.09,1071.79 1180.14,1071.79 1182.19,1071.79 1184.24,1071.79 1186.29,1071.79 1188.34,1071.79 1190.39,1071.79 1192.44,1071.79 1194.49,1071.79 1196.54,1071.79 1198.59,1071.79 1200.64,1071.79 1202.69,1071.79 1204.74,1071.79 1206.79,1071.79 1208.84,1071.79 1210.89,1071.79 1212.94,1071.79 1214.99,1071.79 1217.04,1071.79 1219.09,1071.79 1221.14,1071.79 1223.19,1071.79 1225.24,1071.79 1227.29,1071.79 1229.34,1071.79 1231.39,1071.79 1233.44,1071.79 1235.49,1071.79 1237.54,1071.79 1239.59,1071.79 1241.64,1071.79 1243.69,1071.79 1245.74,1071.79 1247.79,1071.79 1249.84,1071.79 1251.89,1071.79 1253.94,1071.79 1255.99,1071.79 1258.04,1071.79 1260.09,1071.79 1262.14,1071.79 1264.2,1071.79 1266.25,1071.79 1268.3,1071.79 1270.35,1071.79 1272.4,1071.79 1274.45,1071.79 1276.5,1071.79 1278.55,1071.79 1280.6,1071.79 1282.65,1071.79 1284.7,1071.79 1286.75,1071.79 1288.8,1071.79 1290.85,1071.79 1292.9,1071.79 1294.95,1071.79 1297,1071.79 1299.05,1071.79 1301.1,1071.79 1303.15,1071.79 1305.2,1071.79 1307.25,1071.79 1309.3,1071.79 1311.35,1071.79 1313.4,1071.79 1315.45,1071.79 1317.5,1071.79 1319.55,1071.79 1321.6,1071.79 1323.65,1071.79 1325.7,1071.79 1327.75,1071.79 1329.8,1071.79 1331.85,1071.79 1333.9,1071.79 1335.95,1071.79 1338,1071.79 1340.05,1071.79 1342.1,1071.79 1344.15,1071.79 1346.2,1071.79 1348.25,1071.79 1350.3,1071.79 1352.35,1071.79 1354.4,1071.79 1356.45,1071.79 1358.5,1071.79 1360.55,1071.79 1362.6,1071.79 1364.65,1071.79 1366.7,1071.79 1368.75,1071.79 1370.8,1071.79 1372.85,1071.79 1374.9,1071.79 1376.95,1071.79 1379,1071.79 1381.05,1071.79 1383.1,1071.79 1385.15,1071.79 1387.2,1071.79 1389.25,1071.79 1391.3,1071.79 1393.35,1071.79 1395.4,1071.79 1397.45,1071.79 1399.5,1071.79 1401.55,1071.79 1403.6,1071.79 1405.65,1071.79 1407.7,1071.79 1409.75,1071.79 1411.8,1071.79 1413.86,1071.79 1415.91,1071.79 1417.96,1071.79 1420.01,1071.79 1422.06,1071.79 1424.11,1071.79 1426.16,1071.79 1428.21,1071.79 1430.26,1071.79 1432.31,1071.79 1434.36,1071.79 1436.41,1071.79 1438.46,1071.79 1440.51,1071.79 1442.56,1071.79 1444.61,1071.79 1446.66,1071.79 1448.71,1071.79 1450.76,1071.79 1452.81,1071.79 1454.86,1071.79 1456.91,1071.79 1458.96,1071.79 1461.01,1071.79 1463.06,1071.79 1465.11,1071.79 1467.16,1071.79 1469.21,1071.79 1471.26,1071.79 1473.31,1071.79 1475.36,1071.79 1477.41,1071.79 1479.46,1071.79 1481.51,1071.79 1483.56,1071.79 1485.61,1071.79 1487.66,1071.79 1489.71,1071.79 1491.76,1071.79 1493.81,1071.79 1495.86,1071.79 1497.91,1071.79 1499.96,1071.79 1502.01,1071.79 1504.06,1071.79 1506.11,1071.79 1508.16,1071.79 1510.21,1071.79 1512.26,1071.79 1514.31,1071.79 1516.36,1071.79 1518.41,1071.79 1520.46,1071.79 1522.51,1071.79 1524.56,1071.79 1526.61,1071.79 1528.66,1071.79 1530.71,1071.79 1532.76,1071.79 1534.81,1071.79 1536.86,1071.79 1538.91,1071.79 1540.96,1071.79 1543.01,1071.79 1545.06,1071.79 1547.11,1071.79 1549.16,1071.79 1551.21,1071.79 1553.26,1071.79 1555.31,1071.79 1557.36,1071.79 1559.41,1071.79 1561.46,1071.79 1563.51,1071.79 1565.57,1071.79 1567.62,1071.79 1569.67,1071.79 1571.72,1071.79 1573.77,1071.79 1575.82,1071.79 1577.87,1071.79 1579.92,1071.79 1581.97,1071.79 1584.02,1071.79 1586.07,1071.79 1588.12,1071.79 1590.17,1071.79 1592.22,1071.79 1594.27,1071.79 1596.32,1071.79 1598.37,1071.79 1600.42,1071.79 1602.47,1071.79 1604.52,1071.79 1606.57,1071.79 1608.62,1071.79 1610.67,1071.79 1612.72,1071.79 1614.77,1071.79 1616.82,1071.79 1618.87,1071.79 1620.92,1071.79 1622.97,1071.79 1625.02,1071.79 1627.07,1071.79 1629.12,1071.79 1631.17,1071.79 1633.22,1071.79 1635.27,1071.79 1637.32,1071.79 1639.37,1071.79 1641.42,1071.79 1643.47,1071.79 1645.52,1071.79 1647.57,1071.79 1649.62,1071.79 1651.67,1071.79 1653.72,1071.79 1655.77,1071.79 1657.82,1071.79 1659.87,1071.79 1661.92,1071.79 1663.97,1071.79 1666.02,1071.79 1668.07,1071.79 1670.12,1071.79 1672.17,1071.79 1674.22,1071.79 1676.27,1071.79 1678.32,1071.79 1680.37,1071.79 1682.42,1071.79 1684.47,1071.79 1686.52,1071.79 1688.57,1071.79 1690.62,1071.79 1692.67,1071.79 1694.72,1071.79 1696.77,1071.79 1698.82,1071.79 1700.87,1071.79 1702.92,1071.79 1704.97,1071.79 1707.02,1071.79 1709.07,1071.79 1711.12,1071.79 1713.17,1071.79 1715.23,1071.79 1717.28,1071.79 1719.33,1071.79 1721.38,1071.79 1723.43,1071.79 1725.48,1071.79 1727.53,1071.79 1729.58,1071.79 1731.63,1071.79 1733.68,1071.79 1735.73,1071.79 1737.78,1071.79 1739.83,1071.79 1741.88,1071.79 1743.93,1071.79 1745.98,1071.79 1748.03,1071.79 1750.08,1071.79 1752.13,1071.79 1754.18,1071.79 1756.23,1071.79 1758.28,1071.79 1760.33,1071.79 1762.38,1071.79 1764.43,1071.79 1766.48,1071.79 1768.53,1071.79 1770.58,1071.79 1772.63,1071.79 1774.68,1071.79 1776.73,1071.79 1778.78,1071.79 1780.83,1071.79 1782.88,1071.79 1784.93,1071.79 1786.98,1071.79 1789.03,1071.79 1791.08,1071.79 1793.13,1071.79 1795.18,1071.79 1797.23,1071.79 1799.28,1071.79 1801.33,1071.79 1803.38,1071.79 1805.43,1071.79 1807.48,1071.79 1809.53,1071.79 1811.58,1071.79 1813.63,1071.79 1815.68,1071.79 1817.73,1071.79 1819.78,1071.79 1821.83,1071.79 1823.88,1071.79 1825.93,1071.79 1827.98,1071.79 1830.03,1071.79 1832.08,1071.79 1834.13,1071.79 1836.18,1071.79 1838.23,1071.79 1840.28,1071.79 1842.33,1071.79 1844.38,1071.79 1846.43,1071.79 1848.48,1071.79 1850.53,1071.79 1852.58,1071.79 1854.63,1071.79 1856.68,1071.79 1858.73,1071.79 1860.78,1071.79 1862.83,1071.79 1864.89,1071.79 1866.94,1071.79 1868.99,1071.79 1871.04,1071.79 1873.09,1071.79 1875.14,1071.79 1877.19,1071.79 1879.24,1071.79 1881.29,1071.79 1883.34,1071.79 1885.39,1071.79 1887.44,1071.79 1889.49,1071.79 1891.54,1071.79 1893.59,1071.79 1895.64,1071.79 1897.69,1071.79 1899.74,1071.79 1901.79,1071.79 1903.84,1071.79 1905.89,1071.79 1907.94,1071.79 1909.99,1071.79 1912.04,1071.79 1914.09,1071.79 1916.14,1071.79 1918.19,1071.79 1920.24,1071.79 1922.29,1071.79 1924.34,1071.79 1926.39,1071.79 1928.44,1071.79 1930.49,1071.79 1932.54,1071.79 1934.59,1071.79 1936.64,1071.79 1938.69,1071.79 1940.74,1071.79 1942.79,1071.79 1944.84,1071.79 1946.89,1071.79 1948.94,1071.79 1950.99,1071.79 1953.04,1071.79 1955.09,1071.79 1957.14,1071.79 1959.19,1071.79 1961.24,1071.79 1963.29,1071.79 1965.34,1071.79 1967.39,1071.79 1969.44,1071.79 1971.49,1071.79 1973.54,1071.79 1975.59,1071.79 1977.64,1071.79 1979.69,1071.79 1981.74,1071.79 1983.79,1071.79 1985.84,1071.79 1987.89,1071.79 1989.94,1071.79 1991.99,1071.79 1994.04,1071.79 1996.09,1071.79 1998.14,1071.79 2000.19,1071.79 2002.24,1071.79 2004.29,1071.79 2006.34,1071.79 2008.39,1071.79 2010.44,1071.79 2012.49,1071.79 2014.54,1071.79 2016.6,1071.79 2018.65,1071.79 2020.7,1071.79 2022.75,1071.79 2024.8,1071.79 2026.85,1071.79 2028.9,1071.79 2030.95,1071.79 2033,1071.79 2035.05,1071.79 2037.1,1071.79 2039.15,1071.79 2041.2,1071.79 2043.25,1071.79 2045.3,1071.79 2047.35,1071.79 2049.4,1071.79 2051.45,1071.79 2053.5,1071.79 2055.55,1071.79 2057.6,1071.79 2059.65,1071.79 2061.7,1071.79 2063.75,1071.79 2065.8,1071.79 2067.85,1071.79 2069.9,1071.79 2071.95,1071.79 2074,1071.79 2076.05,1071.79 2078.1,1071.79 2080.15,1071.79 2082.2,1071.79 2084.25,1071.79 2086.3,1071.79 2088.35,1071.79 2090.4,1071.79 2092.45,1071.79 2094.5,1071.79 2096.55,1071.79 2098.6,1071.79 2100.65,1071.79 2102.7,1071.79 2104.75,1071.79 2106.8,1071.79 2108.85,1071.79 2110.9,1071.79 2112.95,1071.79 2115,1071.79 2117.05,1071.79 2119.1,1071.79 2121.15,1071.79 2123.2,1071.79 2125.25,1071.79 2127.3,1071.79 2129.35,1071.79 2131.4,1071.79 2133.45,1071.79 2135.5,1071.79 2137.55,1071.79 2139.6,1071.79 2141.65,1071.79 2143.7,1071.79 2145.75,1071.79 2147.8,1071.79 2149.85,1071.79 2151.9,1071.79 2153.95,1071.79 2156,1071.79 2158.05,1071.79 2160.1,1071.79 2162.15,1071.79 2164.2,1071.79 2166.26,1071.79 2168.31,1071.79 2170.36,1071.79 2172.41,1071.79 2174.46,1071.79 2176.51,1071.79 2178.56,1071.79 2180.61,1071.79 2182.66,1071.79 2184.71,1071.79 2186.76,1071.79 2188.81,1071.79 2190.86,1071.79 2192.91,1071.79 2194.96,1071.79 2197.01,1071.79 2199.06,1071.79 2201.11,1071.79 2203.16,1071.79 2205.21,1071.79 2207.26,1071.79 2209.31,1071.79 2211.36,1071.79 2213.41,1071.79 2215.46,1071.79 2217.51,1071.79 2219.56,1071.79 2221.61,1071.79 2223.66,1071.79 2225.71,1071.79 2227.76,1071.79 2229.81,1071.79 2231.86,1071.79 2233.91,1071.79 2235.96,1071.79 2238.01,1071.79 2240.06,1071.79 2242.11,1071.79 2244.16,1071.79 2246.21,1071.79 2248.26,1071.79 2250.31,1071.79 2252.36,1071.79 2254.41,1071.79 2256.46,1071.79 2258.51,1071.79 2260.56,1071.79 2262.61,1071.79 2264.66,1071.79 2266.71,1071.79 2268.76,1071.79 2270.81,1071.79 2272.86,1071.79 2274.91,1071.79 2276.96,1071.79 2279.01,1071.79 2281.06,1071.79 2283.11,1071.79 2285.16,1071.79 2287.21,1071.79 2289.26,1071.79 2291.31,1071.79 \"/>\n",
       "<polyline clip-path=\"url(#clip742)\" style=\"stroke:#3da44d; stroke-linecap:round; stroke-linejoin:round; stroke-width:4; stroke-opacity:1; fill:none\" points=\"243.227,1060.87 245.277,1062.42 247.328,1052.54 249.378,1055.79 251.428,1052.54 253.478,1060.98 255.528,1058.02 257.578,1082.39 259.628,1064.91 261.679,1074.17 263.729,1068.94 265.779,1070.81 267.829,1070.05 269.879,1070.31 271.929,1070.22 273.979,1070.25 276.029,1070.24 278.08,1070.24 280.13,1070.24 282.18,1070.24 284.23,1070.24 286.28,1070.24 288.33,1070.24 290.38,1070.24 292.431,1070.24 294.481,1070.24 296.531,1070.24 298.581,1070.24 300.631,1070.24 302.681,1070.24 304.731,1070.24 306.782,1070.24 308.832,1070.24 310.882,1070.24 312.932,1070.24 314.982,1070.24 317.032,1070.24 319.082,1070.24 321.132,1070.24 323.183,1070.24 325.233,1070.24 327.283,1070.24 329.333,1070.24 331.383,1070.24 333.433,1070.24 335.483,1070.24 337.534,1070.24 339.584,1070.24 341.634,1070.24 343.684,1070.24 345.734,1070.24 347.784,1070.24 349.834,1070.24 351.885,1070.24 353.935,1070.24 355.985,1070.24 358.035,1070.24 360.085,1070.24 362.135,1070.24 364.185,1070.24 366.235,1070.24 368.286,1070.24 370.336,1070.24 372.386,1070.24 374.436,1070.24 376.486,1070.24 378.536,1070.24 380.586,1070.24 382.637,1070.24 384.687,1070.24 386.737,1070.24 388.787,1070.24 390.837,1070.24 392.887,1070.24 394.937,1070.24 396.988,1070.24 399.038,1070.24 401.088,1070.24 403.138,1070.24 405.188,1070.24 407.238,1070.24 409.288,1070.24 411.338,1070.24 413.389,1070.24 415.439,1070.24 417.489,1070.24 419.539,1070.24 421.589,1070.24 423.639,1070.24 425.689,1070.24 427.74,1070.24 429.79,1070.24 431.84,1070.24 433.89,1070.24 435.94,1070.24 437.99,1070.24 440.04,1070.24 442.091,1070.24 444.141,1070.24 446.191,1070.24 448.241,1070.24 450.291,1070.24 452.341,1070.24 454.391,1070.24 456.441,1070.24 458.492,1070.24 460.542,1070.24 462.592,1070.24 464.642,1070.24 466.692,1070.24 468.742,1070.24 470.792,1070.24 472.843,1070.24 474.893,1070.24 476.943,1070.24 478.993,1070.24 481.043,1070.24 483.093,1070.24 485.143,1070.24 487.194,1070.24 489.244,1070.24 491.294,1070.24 493.344,1070.24 495.394,1070.24 497.444,1070.24 499.494,1070.24 501.544,1070.24 503.595,1070.24 505.645,1070.24 507.695,1070.24 509.745,1070.24 511.795,1070.24 513.845,1070.24 515.895,1070.24 517.946,1070.24 519.996,1070.24 522.046,1070.24 524.096,1070.24 526.146,1070.24 528.196,1070.24 530.246,1070.24 532.297,1070.24 534.347,1070.24 536.397,1070.24 538.447,1070.24 540.497,1070.24 542.547,1070.24 544.597,1070.24 546.647,1070.24 548.698,1070.24 550.748,1070.24 552.798,1070.24 554.848,1070.24 556.898,1070.24 558.948,1070.24 560.998,1070.24 563.049,1070.24 565.099,1070.24 567.149,1070.24 569.199,1070.24 571.249,1070.24 573.299,1070.24 575.349,1070.24 577.4,1070.24 579.45,1070.24 581.5,1070.24 583.55,1070.24 585.6,1070.24 587.65,1070.24 589.7,1070.24 591.75,1070.24 593.801,1070.24 595.851,1070.24 597.901,1070.24 599.951,1070.24 602.001,1070.24 604.051,1070.24 606.101,1070.24 608.152,1070.24 610.202,1070.24 612.252,1070.24 614.302,1070.24 616.352,1070.24 618.402,1070.24 620.452,1070.24 622.502,1070.24 624.553,1070.24 626.603,1070.24 628.653,1070.24 630.703,1070.24 632.753,1070.24 634.803,1070.24 636.853,1070.24 638.904,1070.24 640.954,1070.24 643.004,1070.24 645.054,1070.24 647.104,1070.24 649.154,1070.24 651.204,1070.24 653.255,1070.24 655.305,1070.24 657.355,1070.24 659.405,1070.24 661.455,1070.24 663.505,1070.24 665.555,1070.24 667.605,1070.24 669.656,1070.24 671.706,1070.24 673.756,1070.24 675.806,1070.24 677.856,1070.24 679.906,1070.24 681.956,1070.24 684.007,1070.24 686.057,1070.24 688.107,1070.24 690.157,1070.24 692.207,1070.24 694.257,1070.24 696.307,1070.24 698.358,1070.24 700.408,1070.24 702.458,1070.24 704.508,1070.24 706.558,1070.24 708.608,1070.24 710.658,1070.24 712.708,1070.24 714.759,1070.24 716.809,1070.24 718.859,1070.24 720.909,1070.24 722.959,1070.24 725.009,1070.24 727.059,1070.24 729.11,1070.24 731.16,1070.24 733.21,1070.24 735.26,1070.24 737.31,1070.24 739.36,1070.24 741.41,1070.24 743.461,1070.24 745.511,1070.24 747.561,1070.24 749.611,1070.24 751.661,1070.24 753.711,1070.24 755.761,1070.24 757.811,1070.24 759.862,1070.24 761.912,1070.24 763.962,1070.24 766.012,1070.24 768.062,1070.24 770.112,1070.24 772.162,1070.24 774.213,1070.24 776.263,1070.24 778.313,1070.24 780.363,1070.24 782.413,1070.24 784.463,1070.24 786.513,1070.24 788.564,1070.24 790.614,1070.24 792.664,1070.24 794.714,1070.24 796.764,1070.24 798.814,1070.24 800.864,1070.24 802.914,1070.24 804.965,1070.24 807.015,1070.24 809.065,1070.24 811.115,1070.24 813.165,1070.24 815.215,1070.24 817.265,1070.24 819.316,1070.24 821.366,1070.24 823.416,1070.24 825.466,1070.24 827.516,1070.24 829.566,1070.24 831.616,1070.24 833.667,1070.24 835.717,1070.24 837.767,1070.24 839.817,1070.24 841.867,1070.24 843.917,1070.24 845.967,1070.24 848.017,1070.24 850.068,1070.24 852.118,1070.24 854.168,1070.24 856.218,1070.24 858.268,1070.24 860.318,1070.24 862.368,1070.24 864.419,1070.24 866.469,1070.24 868.519,1070.24 870.569,1070.24 872.619,1070.24 874.669,1070.24 876.719,1070.24 878.77,1070.24 880.82,1070.24 882.87,1070.24 884.92,1070.24 886.97,1070.24 889.02,1070.24 891.07,1070.24 893.12,1070.24 895.171,1070.24 897.221,1070.24 899.271,1070.24 901.321,1070.24 903.371,1070.24 905.421,1070.24 907.471,1070.24 909.522,1070.24 911.572,1070.24 913.622,1070.24 915.672,1070.24 917.722,1070.24 919.772,1070.24 921.822,1070.24 923.873,1070.24 925.923,1070.24 927.973,1070.24 930.023,1070.24 932.073,1070.24 934.123,1070.24 936.173,1070.24 938.223,1070.24 940.274,1070.24 942.324,1070.24 944.374,1070.24 946.424,1070.24 948.474,1070.24 950.524,1070.24 952.574,1070.24 954.625,1070.24 956.675,1070.24 958.725,1070.24 960.775,1070.24 962.825,1070.24 964.875,1070.24 966.925,1070.24 968.976,1070.24 971.026,1070.24 973.076,1070.24 975.126,1070.24 977.176,1070.24 979.226,1070.24 981.276,1070.24 983.326,1070.24 985.377,1070.24 987.427,1070.24 989.477,1070.24 991.527,1070.24 993.577,1070.24 995.627,1070.24 997.677,1070.24 999.728,1070.24 1001.78,1070.24 1003.83,1070.24 1005.88,1070.24 1007.93,1070.24 1009.98,1070.24 1012.03,1070.24 1014.08,1070.24 1016.13,1070.24 1018.18,1070.24 1020.23,1070.24 1022.28,1070.24 1024.33,1070.24 1026.38,1070.24 1028.43,1070.24 1030.48,1070.24 1032.53,1070.24 1034.58,1070.24 1036.63,1070.24 1038.68,1070.24 1040.73,1070.24 1042.78,1070.24 1044.83,1070.24 1046.88,1070.24 1048.93,1070.24 1050.98,1070.24 1053.03,1070.24 1055.08,1070.24 1057.13,1070.24 1059.18,1070.24 1061.23,1070.24 1063.28,1070.24 1065.33,1070.24 1067.38,1070.24 1069.43,1070.24 1071.48,1070.24 1073.53,1070.24 1075.58,1070.24 1077.63,1070.24 1079.68,1070.24 1081.73,1070.24 1083.78,1070.24 1085.83,1070.24 1087.88,1070.24 1089.93,1070.24 1091.98,1070.24 1094.03,1070.24 1096.08,1070.24 1098.13,1070.24 1100.18,1070.24 1102.23,1070.24 1104.28,1070.24 1106.33,1070.24 1108.38,1070.24 1110.43,1070.24 1112.49,1070.24 1114.54,1070.24 1116.59,1070.24 1118.64,1070.24 1120.69,1070.24 1122.74,1070.24 1124.79,1070.24 1126.84,1070.24 1128.89,1070.24 1130.94,1070.24 1132.99,1070.24 1135.04,1070.24 1137.09,1070.24 1139.14,1070.24 1141.19,1070.24 1143.24,1070.24 1145.29,1070.24 1147.34,1070.24 1149.39,1070.24 1151.44,1070.24 1153.49,1070.24 1155.54,1070.24 1157.59,1070.24 1159.64,1070.24 1161.69,1070.24 1163.74,1070.24 1165.79,1070.24 1167.84,1070.24 1169.89,1070.24 1171.94,1070.24 1173.99,1070.24 1176.04,1070.24 1178.09,1070.24 1180.14,1070.24 1182.19,1070.24 1184.24,1070.24 1186.29,1070.24 1188.34,1070.24 1190.39,1070.24 1192.44,1070.24 1194.49,1070.24 1196.54,1070.24 1198.59,1070.24 1200.64,1070.24 1202.69,1070.24 1204.74,1070.24 1206.79,1070.24 1208.84,1070.24 1210.89,1070.24 1212.94,1070.24 1214.99,1070.24 1217.04,1070.24 1219.09,1070.24 1221.14,1070.24 1223.19,1070.24 1225.24,1070.24 1227.29,1070.24 1229.34,1070.24 1231.39,1070.24 1233.44,1070.24 1235.49,1070.24 1237.54,1070.24 1239.59,1070.24 1241.64,1070.24 1243.69,1070.24 1245.74,1070.24 1247.79,1070.24 1249.84,1070.24 1251.89,1070.24 1253.94,1070.24 1255.99,1070.24 1258.04,1070.24 1260.09,1070.24 1262.14,1070.24 1264.2,1070.24 1266.25,1070.24 1268.3,1070.24 1270.35,1070.24 1272.4,1070.24 1274.45,1070.24 1276.5,1070.24 1278.55,1070.24 1280.6,1070.24 1282.65,1070.24 1284.7,1070.24 1286.75,1070.24 1288.8,1070.24 1290.85,1070.24 1292.9,1070.24 1294.95,1070.24 1297,1070.24 1299.05,1070.24 1301.1,1070.24 1303.15,1070.24 1305.2,1070.24 1307.25,1070.24 1309.3,1070.24 1311.35,1070.24 1313.4,1070.24 1315.45,1070.24 1317.5,1070.24 1319.55,1070.24 1321.6,1070.24 1323.65,1070.24 1325.7,1070.24 1327.75,1070.24 1329.8,1070.24 1331.85,1070.24 1333.9,1070.24 1335.95,1070.24 1338,1070.24 1340.05,1070.24 1342.1,1070.24 1344.15,1070.24 1346.2,1070.24 1348.25,1070.24 1350.3,1070.24 1352.35,1070.24 1354.4,1070.24 1356.45,1070.24 1358.5,1070.24 1360.55,1070.24 1362.6,1070.24 1364.65,1070.24 1366.7,1070.24 1368.75,1070.24 1370.8,1070.24 1372.85,1070.24 1374.9,1070.24 1376.95,1070.24 1379,1070.24 1381.05,1070.24 1383.1,1070.24 1385.15,1070.24 1387.2,1070.24 1389.25,1070.24 1391.3,1070.24 1393.35,1070.24 1395.4,1070.24 1397.45,1070.24 1399.5,1070.24 1401.55,1070.24 1403.6,1070.24 1405.65,1070.24 1407.7,1070.24 1409.75,1070.24 1411.8,1070.24 1413.86,1070.24 1415.91,1070.24 1417.96,1070.24 1420.01,1070.24 1422.06,1070.24 1424.11,1070.24 1426.16,1070.24 1428.21,1070.24 1430.26,1070.24 1432.31,1070.24 1434.36,1070.24 1436.41,1070.24 1438.46,1070.24 1440.51,1070.24 1442.56,1070.24 1444.61,1070.24 1446.66,1070.24 1448.71,1070.24 1450.76,1070.24 1452.81,1070.24 1454.86,1070.24 1456.91,1070.24 1458.96,1070.24 1461.01,1070.24 1463.06,1070.24 1465.11,1070.24 1467.16,1070.24 1469.21,1070.24 1471.26,1070.24 1473.31,1070.24 1475.36,1070.24 1477.41,1070.24 1479.46,1070.24 1481.51,1070.24 1483.56,1070.24 1485.61,1070.24 1487.66,1070.24 1489.71,1070.24 1491.76,1070.24 1493.81,1070.24 1495.86,1070.24 1497.91,1070.24 1499.96,1070.24 1502.01,1070.24 1504.06,1070.24 1506.11,1070.24 1508.16,1070.24 1510.21,1070.24 1512.26,1070.24 1514.31,1070.24 1516.36,1070.24 1518.41,1070.24 1520.46,1070.24 1522.51,1070.24 1524.56,1070.24 1526.61,1070.24 1528.66,1070.24 1530.71,1070.24 1532.76,1070.24 1534.81,1070.24 1536.86,1070.24 1538.91,1070.24 1540.96,1070.24 1543.01,1070.24 1545.06,1070.24 1547.11,1070.24 1549.16,1070.24 1551.21,1070.24 1553.26,1070.24 1555.31,1070.24 1557.36,1070.24 1559.41,1070.24 1561.46,1070.24 1563.51,1070.24 1565.57,1070.24 1567.62,1070.24 1569.67,1070.24 1571.72,1070.24 1573.77,1070.24 1575.82,1070.24 1577.87,1070.24 1579.92,1070.24 1581.97,1070.24 1584.02,1070.24 1586.07,1070.24 1588.12,1070.24 1590.17,1070.24 1592.22,1070.24 1594.27,1070.24 1596.32,1070.24 1598.37,1070.24 1600.42,1070.24 1602.47,1070.24 1604.52,1070.24 1606.57,1070.24 1608.62,1070.24 1610.67,1070.24 1612.72,1070.24 1614.77,1070.24 1616.82,1070.24 1618.87,1070.24 1620.92,1070.24 1622.97,1070.24 1625.02,1070.24 1627.07,1070.24 1629.12,1070.24 1631.17,1070.24 1633.22,1070.24 1635.27,1070.24 1637.32,1070.24 1639.37,1070.24 1641.42,1070.24 1643.47,1070.24 1645.52,1070.24 1647.57,1070.24 1649.62,1070.24 1651.67,1070.24 1653.72,1070.24 1655.77,1070.24 1657.82,1070.24 1659.87,1070.24 1661.92,1070.24 1663.97,1070.24 1666.02,1070.24 1668.07,1070.24 1670.12,1070.24 1672.17,1070.24 1674.22,1070.24 1676.27,1070.24 1678.32,1070.24 1680.37,1070.24 1682.42,1070.24 1684.47,1070.24 1686.52,1070.24 1688.57,1070.24 1690.62,1070.24 1692.67,1070.24 1694.72,1070.24 1696.77,1070.24 1698.82,1070.24 1700.87,1070.24 1702.92,1070.24 1704.97,1070.24 1707.02,1070.24 1709.07,1070.24 1711.12,1070.24 1713.17,1070.24 1715.23,1070.24 1717.28,1070.24 1719.33,1070.24 1721.38,1070.24 1723.43,1070.24 1725.48,1070.24 1727.53,1070.24 1729.58,1070.24 1731.63,1070.24 1733.68,1070.24 1735.73,1070.24 1737.78,1070.24 1739.83,1070.24 1741.88,1070.24 1743.93,1070.24 1745.98,1070.24 1748.03,1070.24 1750.08,1070.24 1752.13,1070.24 1754.18,1070.24 1756.23,1070.24 1758.28,1070.24 1760.33,1070.24 1762.38,1070.24 1764.43,1070.24 1766.48,1070.24 1768.53,1070.24 1770.58,1070.24 1772.63,1070.24 1774.68,1070.24 1776.73,1070.24 1778.78,1070.24 1780.83,1070.24 1782.88,1070.24 1784.93,1070.24 1786.98,1070.24 1789.03,1070.24 1791.08,1070.24 1793.13,1070.24 1795.18,1070.24 1797.23,1070.24 1799.28,1070.24 1801.33,1070.24 1803.38,1070.24 1805.43,1070.24 1807.48,1070.24 1809.53,1070.24 1811.58,1070.24 1813.63,1070.24 1815.68,1070.24 1817.73,1070.24 1819.78,1070.24 1821.83,1070.24 1823.88,1070.24 1825.93,1070.24 1827.98,1070.24 1830.03,1070.24 1832.08,1070.24 1834.13,1070.24 1836.18,1070.24 1838.23,1070.24 1840.28,1070.24 1842.33,1070.24 1844.38,1070.24 1846.43,1070.24 1848.48,1070.24 1850.53,1070.24 1852.58,1070.24 1854.63,1070.24 1856.68,1070.24 1858.73,1070.24 1860.78,1070.24 1862.83,1070.24 1864.89,1070.24 1866.94,1070.24 1868.99,1070.24 1871.04,1070.24 1873.09,1070.24 1875.14,1070.24 1877.19,1070.24 1879.24,1070.24 1881.29,1070.24 1883.34,1070.24 1885.39,1070.24 1887.44,1070.24 1889.49,1070.24 1891.54,1070.24 1893.59,1070.24 1895.64,1070.24 1897.69,1070.24 1899.74,1070.24 1901.79,1070.24 1903.84,1070.24 1905.89,1070.24 1907.94,1070.24 1909.99,1070.24 1912.04,1070.24 1914.09,1070.24 1916.14,1070.24 1918.19,1070.24 1920.24,1070.24 1922.29,1070.24 1924.34,1070.24 1926.39,1070.24 1928.44,1070.24 1930.49,1070.24 1932.54,1070.24 1934.59,1070.24 1936.64,1070.24 1938.69,1070.24 1940.74,1070.24 1942.79,1070.24 1944.84,1070.24 1946.89,1070.24 1948.94,1070.24 1950.99,1070.24 1953.04,1070.24 1955.09,1070.24 1957.14,1070.24 1959.19,1070.24 1961.24,1070.24 1963.29,1070.24 1965.34,1070.24 1967.39,1070.24 1969.44,1070.24 1971.49,1070.24 1973.54,1070.24 1975.59,1070.24 1977.64,1070.24 1979.69,1070.24 1981.74,1070.24 1983.79,1070.24 1985.84,1070.24 1987.89,1070.24 1989.94,1070.24 1991.99,1070.24 1994.04,1070.24 1996.09,1070.24 1998.14,1070.24 2000.19,1070.24 2002.24,1070.24 2004.29,1070.24 2006.34,1070.24 2008.39,1070.24 2010.44,1070.24 2012.49,1070.24 2014.54,1070.24 2016.6,1070.24 2018.65,1070.24 2020.7,1070.24 2022.75,1070.24 2024.8,1070.24 2026.85,1070.24 2028.9,1070.24 2030.95,1070.24 2033,1070.24 2035.05,1070.24 2037.1,1070.24 2039.15,1070.24 2041.2,1070.24 2043.25,1070.24 2045.3,1070.24 2047.35,1070.24 2049.4,1070.24 2051.45,1070.24 2053.5,1070.24 2055.55,1070.24 2057.6,1070.24 2059.65,1070.24 2061.7,1070.24 2063.75,1070.24 2065.8,1070.24 2067.85,1070.24 2069.9,1070.24 2071.95,1070.24 2074,1070.24 2076.05,1070.24 2078.1,1070.24 2080.15,1070.24 2082.2,1070.24 2084.25,1070.24 2086.3,1070.24 2088.35,1070.24 2090.4,1070.24 2092.45,1070.24 2094.5,1070.24 2096.55,1070.24 2098.6,1070.24 2100.65,1070.24 2102.7,1070.24 2104.75,1070.24 2106.8,1070.24 2108.85,1070.24 2110.9,1070.24 2112.95,1070.24 2115,1070.24 2117.05,1070.24 2119.1,1070.24 2121.15,1070.24 2123.2,1070.24 2125.25,1070.24 2127.3,1070.24 2129.35,1070.24 2131.4,1070.24 2133.45,1070.24 2135.5,1070.24 2137.55,1070.24 2139.6,1070.24 2141.65,1070.24 2143.7,1070.24 2145.75,1070.24 2147.8,1070.24 2149.85,1070.24 2151.9,1070.24 2153.95,1070.24 2156,1070.24 2158.05,1070.24 2160.1,1070.24 2162.15,1070.24 2164.2,1070.24 2166.26,1070.24 2168.31,1070.24 2170.36,1070.24 2172.41,1070.24 2174.46,1070.24 2176.51,1070.24 2178.56,1070.24 2180.61,1070.24 2182.66,1070.24 2184.71,1070.24 2186.76,1070.24 2188.81,1070.24 2190.86,1070.24 2192.91,1070.24 2194.96,1070.24 2197.01,1070.24 2199.06,1070.24 2201.11,1070.24 2203.16,1070.24 2205.21,1070.24 2207.26,1070.24 2209.31,1070.24 2211.36,1070.24 2213.41,1070.24 2215.46,1070.24 2217.51,1070.24 2219.56,1070.24 2221.61,1070.24 2223.66,1070.24 2225.71,1070.24 2227.76,1070.24 2229.81,1070.24 2231.86,1070.24 2233.91,1070.24 2235.96,1070.24 2238.01,1070.24 2240.06,1070.24 2242.11,1070.24 2244.16,1070.24 2246.21,1070.24 2248.26,1070.24 2250.31,1070.24 2252.36,1070.24 2254.41,1070.24 2256.46,1070.24 2258.51,1070.24 2260.56,1070.24 2262.61,1070.24 2264.66,1070.24 2266.71,1070.24 2268.76,1070.24 2270.81,1070.24 2272.86,1070.24 2274.91,1070.24 2276.96,1070.24 2279.01,1070.24 2281.06,1070.24 2283.11,1070.24 2285.16,1070.24 2287.21,1070.24 2289.26,1070.24 2291.31,1070.24 \"/>\n",
       "<polyline clip-path=\"url(#clip742)\" style=\"stroke:#c271d2; stroke-linecap:round; stroke-linejoin:round; stroke-width:4; stroke-opacity:1; fill:none\" points=\"243.227,1032.8 245.277,992.778 247.328,956.651 249.378,923.502 251.428,892.656 253.478,863.692 255.528,836.32 257.578,810.326 259.628,785.548 261.679,761.858 263.729,739.151 265.779,717.342 267.829,696.359 269.879,676.141 271.929,656.635 273.979,637.794 276.029,619.579 278.08,601.954 280.13,584.887 282.18,568.348 284.23,552.313 286.28,536.758 288.33,521.661 290.38,507.003 292.431,492.766 294.481,478.933 296.531,465.49 298.581,452.422 300.631,439.715 302.681,427.359 304.731,415.34 306.782,403.648 308.832,392.274 310.882,381.208 312.932,370.44 314.982,359.963 317.032,349.769 319.082,339.849 321.132,330.197 323.183,320.806 325.233,311.67 327.283,302.782 329.333,294.136 331.383,285.728 333.433,277.551 335.483,269.601 337.534,261.872 339.584,254.36 341.634,247.061 343.684,239.97 345.734,233.084 347.784,226.397 349.834,219.907 351.885,213.609 353.935,207.5 355.985,201.577 358.035,195.837 360.085,190.275 362.135,184.89 364.185,179.678 366.235,174.637 368.286,169.763 370.336,165.054 372.386,160.507 374.436,156.12 376.486,151.89 378.536,147.815 380.586,143.893 382.637,140.121 384.687,136.498 386.737,133.021 388.787,129.688 390.837,126.497 392.887,123.446 394.937,120.533 396.988,117.757 399.038,115.116 401.088,112.608 403.138,110.231 405.188,107.983 407.238,105.864 409.288,103.871 411.338,102.002 413.389,100.258 415.439,98.6348 417.489,97.1326 419.539,95.7494 421.589,94.484 423.639,93.335 425.689,92.3012 427.74,91.3812 429.79,90.5738 431.84,89.8779 433.89,89.2921 435.94,88.8154 437.99,88.4465 440.04,88.1844 442.091,88.0281 444.141,87.9763 446.191,88.0281 448.241,88.1824 450.291,88.4382 452.341,88.7945 454.391,89.2504 456.441,89.8049 458.492,90.4571 460.542,91.206 462.592,92.0508 464.642,92.9906 466.692,94.0244 468.742,95.1515 470.792,96.371 472.843,97.6821 474.893,99.084 476.943,100.576 478.993,102.157 481.043,103.826 483.093,105.584 485.143,107.428 487.194,109.358 489.244,111.374 491.294,113.475 493.344,115.66 495.394,117.928 497.444,120.279 499.494,122.712 501.544,125.227 503.595,127.822 505.645,130.498 507.695,133.253 509.745,136.087 511.795,139 513.845,141.99 515.895,145.057 517.946,148.202 519.996,151.422 522.046,154.717 524.096,158.088 526.146,161.533 528.196,165.052 530.246,168.644 532.297,172.309 534.347,176.046 536.397,179.855 538.447,183.736 540.497,187.687 542.547,191.709 544.597,195.8 546.647,199.961 548.698,204.191 550.748,208.489 552.798,212.855 554.848,217.289 556.898,221.79 558.948,226.358 560.998,230.992 563.049,235.692 565.099,240.457 567.149,245.287 569.199,250.182 571.249,255.141 573.299,260.164 575.349,265.25 577.4,270.4 579.45,275.612 581.5,280.886 583.55,286.222 585.6,291.62 587.65,297.079 589.7,302.598 591.75,308.178 593.801,313.818 595.851,319.518 597.901,325.278 599.951,331.096 602.001,336.973 604.051,342.909 606.101,348.902 608.152,354.954 610.202,361.062 612.252,367.229 614.302,373.449 616.352,379.733 618.402,386.06 620.452,392.466 622.502,398.884 624.553,405.439 626.603,411.896 628.653,418.698 630.703,425.005 632.753,432.423 634.803,437.894 636.853,447.409 638.904,449.581 640.954,469.483 643.004,458.088 645.054,469.732 647.104,462.296 649.154,465.377 651.204,463.722 653.255,464.513 655.305,464.114 657.355,464.308 659.405,464.213 661.455,464.259 663.505,464.236 665.555,464.247 667.605,464.242 669.656,464.245 671.706,464.243 673.756,464.244 675.806,464.244 677.856,464.244 679.906,464.244 681.956,464.244 684.007,464.244 686.057,464.244 688.107,464.244 690.157,464.244 692.207,464.244 694.257,464.244 696.307,464.244 698.358,464.244 700.408,464.244 702.458,464.244 704.508,464.244 706.558,464.244 708.608,464.244 710.658,464.244 712.708,464.244 714.759,464.244 716.809,464.244 718.859,464.244 720.909,464.244 722.959,464.244 725.009,464.244 727.059,464.244 729.11,464.244 731.16,464.244 733.21,464.244 735.26,464.244 737.31,464.244 739.36,464.244 741.41,464.244 743.461,464.244 745.511,464.244 747.561,464.244 749.611,464.244 751.661,464.244 753.711,464.244 755.761,464.244 757.811,464.244 759.862,464.244 761.912,464.244 763.962,464.244 766.012,464.244 768.062,464.244 770.112,464.244 772.162,464.244 774.213,464.244 776.263,464.244 778.313,464.244 780.363,464.244 782.413,464.244 784.463,464.244 786.513,464.244 788.564,464.244 790.614,464.244 792.664,464.244 794.714,464.244 796.764,464.244 798.814,464.244 800.864,464.244 802.914,464.244 804.965,464.244 807.015,464.244 809.065,464.244 811.115,464.244 813.165,464.244 815.215,464.244 817.265,464.244 819.316,464.244 821.366,464.244 823.416,464.244 825.466,464.244 827.516,464.244 829.566,464.244 831.616,464.244 833.667,464.244 835.717,464.244 837.767,464.244 839.817,464.244 841.867,464.244 843.917,464.244 845.967,464.244 848.017,464.244 850.068,464.244 852.118,464.244 854.168,464.244 856.218,464.244 858.268,464.244 860.318,464.244 862.368,464.244 864.419,464.244 866.469,464.244 868.519,464.244 870.569,464.244 872.619,464.244 874.669,464.244 876.719,464.244 878.77,464.244 880.82,464.244 882.87,464.244 884.92,464.244 886.97,464.244 889.02,464.244 891.07,464.244 893.12,464.244 895.171,464.244 897.221,464.244 899.271,464.244 901.321,464.244 903.371,464.244 905.421,464.244 907.471,464.244 909.522,464.244 911.572,464.244 913.622,464.244 915.672,464.244 917.722,464.244 919.772,464.244 921.822,464.244 923.873,464.244 925.923,464.244 927.973,464.244 930.023,464.244 932.073,464.244 934.123,464.244 936.173,464.244 938.223,464.244 940.274,464.244 942.324,464.244 944.374,464.244 946.424,464.244 948.474,464.244 950.524,464.244 952.574,464.244 954.625,464.244 956.675,464.244 958.725,464.244 960.775,464.244 962.825,464.244 964.875,464.244 966.925,464.244 968.976,464.244 971.026,464.244 973.076,464.244 975.126,464.244 977.176,464.244 979.226,464.244 981.276,464.244 983.326,464.244 985.377,464.244 987.427,464.244 989.477,464.244 991.527,464.244 993.577,464.244 995.627,464.244 997.677,464.244 999.728,464.244 1001.78,464.244 1003.83,464.244 1005.88,464.244 1007.93,464.244 1009.98,464.244 1012.03,464.244 1014.08,464.244 1016.13,464.244 1018.18,464.244 1020.23,464.244 1022.28,464.244 1024.33,464.244 1026.38,464.244 1028.43,464.244 1030.48,464.244 1032.53,464.244 1034.58,464.244 1036.63,464.244 1038.68,464.244 1040.73,464.244 1042.78,464.244 1044.83,464.244 1046.88,464.244 1048.93,464.244 1050.98,464.244 1053.03,464.244 1055.08,464.244 1057.13,464.244 1059.18,464.244 1061.23,464.244 1063.28,464.244 1065.33,464.244 1067.38,464.244 1069.43,464.244 1071.48,464.244 1073.53,464.244 1075.58,464.244 1077.63,464.244 1079.68,464.244 1081.73,464.244 1083.78,464.244 1085.83,464.244 1087.88,464.244 1089.93,464.244 1091.98,464.244 1094.03,464.244 1096.08,464.244 1098.13,464.244 1100.18,464.244 1102.23,464.244 1104.28,464.244 1106.33,464.244 1108.38,464.244 1110.43,464.244 1112.49,464.244 1114.54,464.244 1116.59,464.244 1118.64,464.244 1120.69,464.244 1122.74,464.244 1124.79,464.244 1126.84,464.244 1128.89,464.244 1130.94,464.244 1132.99,464.244 1135.04,464.244 1137.09,464.244 1139.14,464.244 1141.19,464.244 1143.24,464.244 1145.29,464.244 1147.34,464.244 1149.39,464.244 1151.44,464.244 1153.49,464.244 1155.54,464.244 1157.59,464.244 1159.64,464.244 1161.69,464.244 1163.74,464.244 1165.79,464.244 1167.84,464.244 1169.89,464.244 1171.94,464.244 1173.99,464.244 1176.04,464.244 1178.09,464.244 1180.14,464.244 1182.19,464.244 1184.24,464.244 1186.29,464.244 1188.34,464.244 1190.39,464.244 1192.44,464.244 1194.49,464.244 1196.54,464.244 1198.59,464.244 1200.64,464.244 1202.69,464.244 1204.74,464.244 1206.79,464.244 1208.84,464.244 1210.89,464.244 1212.94,464.244 1214.99,464.244 1217.04,464.244 1219.09,464.244 1221.14,464.244 1223.19,464.244 1225.24,464.244 1227.29,464.244 1229.34,464.244 1231.39,464.244 1233.44,464.244 1235.49,464.244 1237.54,464.244 1239.59,464.244 1241.64,464.244 1243.69,464.244 1245.74,464.244 1247.79,464.244 1249.84,464.244 1251.89,464.244 1253.94,464.244 1255.99,464.244 1258.04,464.244 1260.09,464.244 1262.14,464.244 1264.2,464.244 1266.25,464.244 1268.3,464.244 1270.35,464.244 1272.4,464.244 1274.45,464.244 1276.5,464.244 1278.55,464.244 1280.6,464.244 1282.65,464.244 1284.7,464.244 1286.75,464.244 1288.8,464.244 1290.85,464.244 1292.9,464.244 1294.95,464.244 1297,464.244 1299.05,464.244 1301.1,464.244 1303.15,464.244 1305.2,464.244 1307.25,464.244 1309.3,464.244 1311.35,464.244 1313.4,464.244 1315.45,464.244 1317.5,464.244 1319.55,464.244 1321.6,464.244 1323.65,464.244 1325.7,464.244 1327.75,464.244 1329.8,464.244 1331.85,464.244 1333.9,464.244 1335.95,464.244 1338,464.244 1340.05,464.244 1342.1,464.244 1344.15,464.244 1346.2,464.244 1348.25,464.244 1350.3,464.244 1352.35,464.244 1354.4,464.244 1356.45,464.244 1358.5,464.244 1360.55,464.244 1362.6,464.244 1364.65,464.244 1366.7,464.244 1368.75,464.244 1370.8,464.244 1372.85,464.244 1374.9,464.244 1376.95,464.244 1379,464.244 1381.05,464.244 1383.1,464.244 1385.15,464.244 1387.2,464.244 1389.25,464.244 1391.3,464.244 1393.35,464.244 1395.4,464.244 1397.45,464.244 1399.5,464.244 1401.55,464.244 1403.6,464.244 1405.65,464.244 1407.7,464.244 1409.75,464.244 1411.8,464.244 1413.86,464.244 1415.91,464.244 1417.96,464.244 1420.01,464.244 1422.06,464.244 1424.11,464.244 1426.16,464.244 1428.21,464.244 1430.26,464.244 1432.31,464.244 1434.36,464.244 1436.41,464.244 1438.46,464.244 1440.51,464.244 1442.56,464.244 1444.61,464.244 1446.66,464.244 1448.71,464.244 1450.76,464.244 1452.81,464.244 1454.86,464.244 1456.91,464.244 1458.96,464.244 1461.01,464.244 1463.06,464.244 1465.11,464.244 1467.16,464.244 1469.21,464.244 1471.26,464.244 1473.31,464.244 1475.36,464.244 1477.41,464.244 1479.46,464.244 1481.51,464.244 1483.56,464.244 1485.61,464.244 1487.66,464.244 1489.71,464.244 1491.76,464.244 1493.81,464.244 1495.86,464.244 1497.91,464.244 1499.96,464.244 1502.01,464.244 1504.06,464.244 1506.11,464.244 1508.16,464.244 1510.21,464.244 1512.26,464.244 1514.31,464.244 1516.36,464.244 1518.41,464.244 1520.46,464.244 1522.51,464.244 1524.56,464.244 1526.61,464.244 1528.66,464.244 1530.71,464.244 1532.76,464.244 1534.81,464.244 1536.86,464.244 1538.91,464.244 1540.96,464.244 1543.01,464.244 1545.06,464.244 1547.11,464.244 1549.16,464.244 1551.21,464.244 1553.26,464.244 1555.31,464.244 1557.36,464.244 1559.41,464.244 1561.46,464.244 1563.51,464.244 1565.57,464.244 1567.62,464.244 1569.67,464.244 1571.72,464.244 1573.77,464.244 1575.82,464.244 1577.87,464.244 1579.92,464.244 1581.97,464.244 1584.02,464.244 1586.07,464.244 1588.12,464.244 1590.17,464.244 1592.22,464.244 1594.27,464.244 1596.32,464.244 1598.37,464.244 1600.42,464.244 1602.47,464.244 1604.52,464.244 1606.57,464.244 1608.62,464.244 1610.67,464.244 1612.72,464.244 1614.77,464.244 1616.82,464.244 1618.87,464.244 1620.92,464.244 1622.97,464.244 1625.02,464.244 1627.07,464.244 1629.12,464.244 1631.17,464.244 1633.22,464.244 1635.27,464.244 1637.32,464.244 1639.37,464.244 1641.42,464.244 1643.47,464.244 1645.52,464.244 1647.57,464.244 1649.62,464.244 1651.67,464.244 1653.72,464.244 1655.77,464.244 1657.82,464.244 1659.87,464.244 1661.92,464.244 1663.97,464.244 1666.02,464.244 1668.07,464.244 1670.12,464.244 1672.17,464.244 1674.22,464.244 1676.27,464.244 1678.32,464.244 1680.37,464.244 1682.42,464.244 1684.47,464.244 1686.52,464.244 1688.57,464.244 1690.62,464.244 1692.67,464.244 1694.72,464.244 1696.77,464.244 1698.82,464.244 1700.87,464.244 1702.92,464.244 1704.97,464.244 1707.02,464.244 1709.07,464.244 1711.12,464.244 1713.17,464.244 1715.23,464.244 1717.28,464.244 1719.33,464.244 1721.38,464.244 1723.43,464.244 1725.48,464.244 1727.53,464.244 1729.58,464.244 1731.63,464.244 1733.68,464.244 1735.73,464.244 1737.78,464.244 1739.83,464.244 1741.88,464.244 1743.93,464.244 1745.98,464.244 1748.03,464.244 1750.08,464.244 1752.13,464.244 1754.18,464.244 1756.23,464.244 1758.28,464.244 1760.33,464.244 1762.38,464.244 1764.43,464.244 1766.48,464.244 1768.53,464.244 1770.58,464.244 1772.63,464.244 1774.68,464.244 1776.73,464.244 1778.78,464.244 1780.83,464.244 1782.88,464.244 1784.93,464.244 1786.98,464.244 1789.03,464.244 1791.08,464.244 1793.13,464.244 1795.18,464.244 1797.23,464.244 1799.28,464.244 1801.33,464.244 1803.38,464.244 1805.43,464.244 1807.48,464.244 1809.53,464.244 1811.58,464.244 1813.63,464.244 1815.68,464.244 1817.73,464.244 1819.78,464.244 1821.83,464.244 1823.88,464.244 1825.93,464.244 1827.98,464.244 1830.03,464.244 1832.08,464.244 1834.13,464.244 1836.18,464.244 1838.23,464.244 1840.28,464.244 1842.33,464.244 1844.38,464.244 1846.43,464.244 1848.48,464.244 1850.53,464.244 1852.58,464.244 1854.63,464.244 1856.68,464.244 1858.73,464.244 1860.78,464.244 1862.83,464.244 1864.89,464.244 1866.94,464.244 1868.99,464.244 1871.04,464.244 1873.09,464.244 1875.14,464.244 1877.19,464.244 1879.24,464.244 1881.29,464.244 1883.34,464.244 1885.39,464.244 1887.44,464.244 1889.49,464.244 1891.54,464.244 1893.59,464.244 1895.64,464.244 1897.69,464.244 1899.74,464.244 1901.79,464.244 1903.84,464.244 1905.89,464.244 1907.94,464.244 1909.99,464.244 1912.04,464.244 1914.09,464.244 1916.14,464.244 1918.19,464.244 1920.24,464.244 1922.29,464.244 1924.34,464.244 1926.39,464.244 1928.44,464.244 1930.49,464.244 1932.54,464.244 1934.59,464.244 1936.64,464.244 1938.69,464.244 1940.74,464.244 1942.79,464.244 1944.84,464.244 1946.89,464.244 1948.94,464.244 1950.99,464.244 1953.04,464.244 1955.09,464.244 1957.14,464.244 1959.19,464.244 1961.24,464.244 1963.29,464.244 1965.34,464.244 1967.39,464.244 1969.44,464.244 1971.49,464.244 1973.54,464.244 1975.59,464.244 1977.64,464.244 1979.69,464.244 1981.74,464.244 1983.79,464.244 1985.84,464.244 1987.89,464.244 1989.94,464.244 1991.99,464.244 1994.04,464.244 1996.09,464.244 1998.14,464.244 2000.19,464.244 2002.24,464.244 2004.29,464.244 2006.34,464.244 2008.39,464.244 2010.44,464.244 2012.49,464.244 2014.54,464.244 2016.6,464.244 2018.65,464.244 2020.7,464.244 2022.75,464.244 2024.8,464.244 2026.85,464.244 2028.9,464.244 2030.95,464.244 2033,464.244 2035.05,464.244 2037.1,464.244 2039.15,464.244 2041.2,464.244 2043.25,464.244 2045.3,464.244 2047.35,464.244 2049.4,464.244 2051.45,464.244 2053.5,464.244 2055.55,464.244 2057.6,464.244 2059.65,464.244 2061.7,464.244 2063.75,464.244 2065.8,464.244 2067.85,464.244 2069.9,464.244 2071.95,464.244 2074,464.244 2076.05,464.244 2078.1,464.244 2080.15,464.244 2082.2,464.244 2084.25,464.244 2086.3,464.244 2088.35,464.244 2090.4,464.244 2092.45,464.244 2094.5,464.244 2096.55,464.244 2098.6,464.244 2100.65,464.244 2102.7,464.244 2104.75,464.244 2106.8,464.244 2108.85,464.244 2110.9,464.244 2112.95,464.244 2115,464.244 2117.05,464.244 2119.1,464.244 2121.15,464.244 2123.2,464.244 2125.25,464.244 2127.3,464.244 2129.35,464.244 2131.4,464.244 2133.45,464.244 2135.5,464.244 2137.55,464.244 2139.6,464.244 2141.65,464.244 2143.7,464.244 2145.75,464.244 2147.8,464.244 2149.85,464.244 2151.9,464.244 2153.95,464.244 2156,464.244 2158.05,464.244 2160.1,464.244 2162.15,464.244 2164.2,464.244 2166.26,464.244 2168.31,464.244 2170.36,464.244 2172.41,464.244 2174.46,464.244 2176.51,464.244 2178.56,464.244 2180.61,464.244 2182.66,464.244 2184.71,464.244 2186.76,464.244 2188.81,464.244 2190.86,464.244 2192.91,464.244 2194.96,464.244 2197.01,464.244 2199.06,464.244 2201.11,464.244 2203.16,464.244 2205.21,464.244 2207.26,464.244 2209.31,464.244 2211.36,464.244 2213.41,464.244 2215.46,464.244 2217.51,464.244 2219.56,464.244 2221.61,464.244 2223.66,464.244 2225.71,464.244 2227.76,464.244 2229.81,464.244 2231.86,464.244 2233.91,464.244 2235.96,464.244 2238.01,464.244 2240.06,464.244 2242.11,464.244 2244.16,464.244 2246.21,464.244 2248.26,464.244 2250.31,464.244 2252.36,464.244 2254.41,464.244 2256.46,464.244 2258.51,464.244 2260.56,464.244 2262.61,464.244 2264.66,464.244 2266.71,464.244 2268.76,464.244 2270.81,464.244 2272.86,464.244 2274.91,464.244 2276.96,464.244 2279.01,464.244 2281.06,464.244 2283.11,464.244 2285.16,464.244 2287.21,464.244 2289.26,464.244 2291.31,464.244 \"/>\n",
       "<path clip-path=\"url(#clip740)\" d=\"M2009.15 354.418 L2280.39 354.418 L2280.39 95.2176 L2009.15 95.2176  Z\" fill=\"#ffffff\" fill-rule=\"evenodd\" fill-opacity=\"1\"/>\n",
       "<polyline clip-path=\"url(#clip740)\" style=\"stroke:#000000; stroke-linecap:round; stroke-linejoin:round; stroke-width:4; stroke-opacity:1; fill:none\" points=\"2009.15,354.418 2280.39,354.418 2280.39,95.2176 2009.15,95.2176 2009.15,354.418 \"/>\n",
       "<polyline clip-path=\"url(#clip740)\" style=\"stroke:#009af9; stroke-linecap:round; stroke-linejoin:round; stroke-width:4; stroke-opacity:1; fill:none\" points=\"2033.27,147.058 2178,147.058 \"/>\n",
       "<path clip-path=\"url(#clip740)\" d=\"M2215.97 166.745 Q2214.16 171.375 2212.45 172.787 Q2210.74 174.199 2207.87 174.199 L2204.46 174.199 L2204.46 170.634 L2206.96 170.634 Q2208.72 170.634 2209.69 169.8 Q2210.67 168.967 2211.85 165.865 L2212.61 163.921 L2202.13 138.412 L2206.64 138.412 L2214.74 158.689 L2222.84 138.412 L2227.36 138.412 L2215.97 166.745 Z\" fill=\"#000000\" fill-rule=\"nonzero\" fill-opacity=\"1\" /><path clip-path=\"url(#clip740)\" d=\"M2234.65 160.402 L2242.29 160.402 L2242.29 134.037 L2233.98 135.703 L2233.98 131.444 L2242.24 129.778 L2246.92 129.778 L2246.92 160.402 L2254.56 160.402 L2254.56 164.338 L2234.65 164.338 L2234.65 160.402 Z\" fill=\"#000000\" fill-rule=\"nonzero\" fill-opacity=\"1\" /><polyline clip-path=\"url(#clip740)\" style=\"stroke:#e26f46; stroke-linecap:round; stroke-linejoin:round; stroke-width:4; stroke-opacity:1; fill:none\" points=\"2033.27,198.898 2178,198.898 \"/>\n",
       "<path clip-path=\"url(#clip740)\" d=\"M2215.97 218.585 Q2214.16 223.215 2212.45 224.627 Q2210.74 226.039 2207.87 226.039 L2204.46 226.039 L2204.46 222.474 L2206.96 222.474 Q2208.72 222.474 2209.69 221.64 Q2210.67 220.807 2211.85 217.705 L2212.61 215.761 L2202.13 190.252 L2206.64 190.252 L2214.74 210.529 L2222.84 190.252 L2227.36 190.252 L2215.97 218.585 Z\" fill=\"#000000\" fill-rule=\"nonzero\" fill-opacity=\"1\" /><path clip-path=\"url(#clip740)\" d=\"M2237.87 212.242 L2254.18 212.242 L2254.18 216.178 L2232.24 216.178 L2232.24 212.242 Q2234.9 209.488 2239.49 204.858 Q2244.09 200.205 2245.27 198.863 Q2247.52 196.34 2248.4 194.604 Q2249.3 192.844 2249.3 191.155 Q2249.3 188.4 2247.36 186.664 Q2245.44 184.928 2242.33 184.928 Q2240.13 184.928 2237.68 185.692 Q2235.25 186.455 2232.47 188.006 L2232.47 183.284 Q2235.3 182.15 2237.75 181.571 Q2240.2 180.993 2242.24 180.993 Q2247.61 180.993 2250.81 183.678 Q2254 186.363 2254 190.854 Q2254 192.983 2253.19 194.905 Q2252.4 196.803 2250.3 199.395 Q2249.72 200.067 2246.62 203.284 Q2243.51 206.479 2237.87 212.242 Z\" fill=\"#000000\" fill-rule=\"nonzero\" fill-opacity=\"1\" /><polyline clip-path=\"url(#clip740)\" style=\"stroke:#3da44d; stroke-linecap:round; stroke-linejoin:round; stroke-width:4; stroke-opacity:1; fill:none\" points=\"2033.27,250.738 2178,250.738 \"/>\n",
       "<path clip-path=\"url(#clip740)\" d=\"M2215.97 270.425 Q2214.16 275.055 2212.45 276.467 Q2210.74 277.879 2207.87 277.879 L2204.46 277.879 L2204.46 274.314 L2206.96 274.314 Q2208.72 274.314 2209.69 273.48 Q2210.67 272.647 2211.85 269.545 L2212.61 267.601 L2202.13 242.092 L2206.64 242.092 L2214.74 262.369 L2222.84 242.092 L2227.36 242.092 L2215.97 270.425 Z\" fill=\"#000000\" fill-rule=\"nonzero\" fill-opacity=\"1\" /><path clip-path=\"url(#clip740)\" d=\"M2248 249.383 Q2251.36 250.101 2253.24 252.369 Q2255.13 254.638 2255.13 257.971 Q2255.13 263.087 2251.62 265.888 Q2248.1 268.689 2241.62 268.689 Q2239.44 268.689 2237.12 268.249 Q2234.83 267.832 2232.38 266.976 L2232.38 262.462 Q2234.32 263.596 2236.64 264.175 Q2238.95 264.754 2241.48 264.754 Q2245.87 264.754 2248.17 263.018 Q2250.48 261.281 2250.48 257.971 Q2250.48 254.916 2248.33 253.203 Q2246.2 251.467 2242.38 251.467 L2238.35 251.467 L2238.35 247.624 L2242.56 247.624 Q2246.01 247.624 2247.84 246.258 Q2249.67 244.87 2249.67 242.277 Q2249.67 239.615 2247.77 238.203 Q2245.9 236.768 2242.38 236.768 Q2240.46 236.768 2238.26 237.184 Q2236.06 237.601 2233.42 238.481 L2233.42 234.314 Q2236.08 233.573 2238.4 233.203 Q2240.74 232.833 2242.8 232.833 Q2248.12 232.833 2251.22 235.263 Q2254.32 237.67 2254.32 241.791 Q2254.32 244.661 2252.68 246.652 Q2251.04 248.62 2248 249.383 Z\" fill=\"#000000\" fill-rule=\"nonzero\" fill-opacity=\"1\" /><polyline clip-path=\"url(#clip740)\" style=\"stroke:#c271d2; stroke-linecap:round; stroke-linejoin:round; stroke-width:4; stroke-opacity:1; fill:none\" points=\"2033.27,302.578 2178,302.578 \"/>\n",
       "<path clip-path=\"url(#clip740)\" d=\"M2215.97 322.265 Q2214.16 326.895 2212.45 328.307 Q2210.74 329.719 2207.87 329.719 L2204.46 329.719 L2204.46 326.154 L2206.96 326.154 Q2208.72 326.154 2209.69 325.32 Q2210.67 324.487 2211.85 321.385 L2212.61 319.441 L2202.13 293.932 L2206.64 293.932 L2214.74 314.209 L2222.84 293.932 L2227.36 293.932 L2215.97 322.265 Z\" fill=\"#000000\" fill-rule=\"nonzero\" fill-opacity=\"1\" /><path clip-path=\"url(#clip740)\" d=\"M2246.69 289.372 L2234.88 307.821 L2246.69 307.821 L2246.69 289.372 M2245.46 285.298 L2251.34 285.298 L2251.34 307.821 L2256.27 307.821 L2256.27 311.709 L2251.34 311.709 L2251.34 319.858 L2246.69 319.858 L2246.69 311.709 L2231.08 311.709 L2231.08 307.196 L2245.46 285.298 Z\" fill=\"#000000\" fill-rule=\"nonzero\" fill-opacity=\"1\" /></svg>\n"
      ]
     },
     "execution_count": 33,
     "metadata": {},
     "output_type": "execute_result"
    }
   ],
   "source": [
    "# TODO: plot the error for the Taylor series approximation.\n",
    "n = 1:1000\n",
    "\n",
    "errs_1 = [abs(exp(1) - exp_t(1,k)) for k in n]\n",
    "plot(n, errs_1; yscale=:log10)\n",
    "\n",
    "errs_im = [abs(exp(1) - exp_t(im,k)) for k in n]\n",
    "plot!(n, errs_im; yscale=:log10)\n",
    "\n",
    "errs_neg5 = [abs(exp(1) - exp_t(-5,k)) for k in n]\n",
    "plot!(n, errs_neg5; yscale=:log10)\n",
    "\n",
    "errs_neg100 = [abs(exp(1) - exp_t(-100,k)) for k in n]\n",
    "plot!(n, errs_neg100; yscale=:log10)\n",
    "\n",
    "#Seems to converge for z = 1, i.e. error -> 0"
   ]
  },
  {
   "cell_type": "markdown",
   "metadata": {},
   "source": [
    "------"
   ]
  },
  {
   "cell_type": "markdown",
   "metadata": {},
   "source": [
    "One of the powerful features of Julia is that it's very easy to make our own types. Let's begin with a simple\n",
    "implementation of a rational function $p/q$ where $p$ and $q$ are `Int`s.  Thus we want to create a new\n",
    "type called `Rat` with two fields `p` and `q` to represent the numerator and denominator, respectively.\n",
    "(For simplicity  we won't worry about restricting $p$ and $q$ to be `Int`.)\n",
    "We can construct such a type using the `struct` keyword:"
   ]
  },
  {
   "cell_type": "code",
   "execution_count": 36,
   "metadata": {},
   "outputs": [],
   "source": [
    "struct Rat\n",
    "    p\n",
    "    q\n",
    "end"
   ]
  },
  {
   "cell_type": "markdown",
   "metadata": {},
   "source": [
    "A new instance of `Rat` is created via e.g. `Rat(1, 2)` represents `1/2`\n",
    "where the first argument specifies `p` and the second argument `q`.\n",
    "The fields are accessed by `.`:"
   ]
  },
  {
   "cell_type": "code",
   "execution_count": 38,
   "metadata": {},
   "outputs": [
    {
     "data": {
      "text/plain": [
       "\u001b[32m\u001b[1mTest Passed\u001b[22m\u001b[39m"
      ]
     },
     "execution_count": 38,
     "metadata": {},
     "output_type": "execute_result"
    }
   ],
   "source": [
    "x = Rat(1, 2) # Rat(1, 2) creates an instance with fields equal to the input\n",
    "@test x.p == 1\n",
    "@test x.q == 2"
   ]
  },
  {
   "cell_type": "markdown",
   "metadata": {},
   "source": [
    "Unfortunately we can't actually do anything with this type, yet:"
   ]
  },
  {
   "cell_type": "code",
   "execution_count": 40,
   "metadata": {},
   "outputs": [
    {
     "ename": "LoadError",
     "evalue": "MethodError: no method matching +(::Rat, ::Rat)\nThe function `+` exists, but no method is defined for this combination of argument types.\n\n\u001b[0mClosest candidates are:\n\u001b[0m  +(::Any, ::Any, \u001b[91m::Any\u001b[39m, \u001b[91m::Any...\u001b[39m)\n\u001b[0m\u001b[90m   @\u001b[39m \u001b[90mBase\u001b[39m \u001b[90m\u001b[4moperators.jl:596\u001b[24m\u001b[39m\n\u001b[0m  +(\u001b[91m::Rational{BigInt}\u001b[39m, \u001b[91m::Rational{BigInt}\u001b[39m)\n\u001b[0m\u001b[90m   @\u001b[39m \u001b[90mBase\u001b[39m \u001b[90m\u001b[4mgmp.jl:1056\u001b[24m\u001b[39m\n\u001b[0m  +(\u001b[91m::Bool\u001b[39m, \u001b[91m::Complex{Bool}\u001b[39m)\n\u001b[0m\u001b[90m   @\u001b[39m \u001b[90mBase\u001b[39m \u001b[90m\u001b[4mcomplex.jl:308\u001b[24m\u001b[39m\n\u001b[0m  ...\n",
     "output_type": "error",
     "traceback": [
      "MethodError: no method matching +(::Rat, ::Rat)\nThe function `+` exists, but no method is defined for this combination of argument types.\n\n\u001b[0mClosest candidates are:\n\u001b[0m  +(::Any, ::Any, \u001b[91m::Any\u001b[39m, \u001b[91m::Any...\u001b[39m)\n\u001b[0m\u001b[90m   @\u001b[39m \u001b[90mBase\u001b[39m \u001b[90m\u001b[4moperators.jl:596\u001b[24m\u001b[39m\n\u001b[0m  +(\u001b[91m::Rational{BigInt}\u001b[39m, \u001b[91m::Rational{BigInt}\u001b[39m)\n\u001b[0m\u001b[90m   @\u001b[39m \u001b[90mBase\u001b[39m \u001b[90m\u001b[4mgmp.jl:1056\u001b[24m\u001b[39m\n\u001b[0m  +(\u001b[91m::Bool\u001b[39m, \u001b[91m::Complex{Bool}\u001b[39m)\n\u001b[0m\u001b[90m   @\u001b[39m \u001b[90mBase\u001b[39m \u001b[90m\u001b[4mcomplex.jl:308\u001b[24m\u001b[39m\n\u001b[0m  ...\n",
      "",
      "Stacktrace:",
      " [1] top-level scope",
      "   @ In[40]:1"
     ]
    }
   ],
   "source": [
    "x + x"
   ]
  },
  {
   "cell_type": "markdown",
   "metadata": {},
   "source": [
    "The error is telling us to overload the `+` function when the inputs are both `Rat`.\n",
    "To do this we need to \"import\" the `+` function and then we can overload it like any\n",
    "other function:"
   ]
  },
  {
   "cell_type": "code",
   "execution_count": 42,
   "metadata": {},
   "outputs": [
    {
     "data": {
      "text/plain": [
       "Rat(10, 8)"
      ]
     },
     "execution_count": 42,
     "metadata": {},
     "output_type": "execute_result"
    }
   ],
   "source": [
    "import Base: + # allows us to overload +\n",
    "\n",
    "# Here putting ::Rat after both x and y means this version of +\n",
    "# is only called if both arguments are Rat\n",
    "function +(x::Rat, y::Rat)\n",
    "    p,q = x.p,x.q # x represents p/q\n",
    "    r,s = y.p,y.q # y represents r/s\n",
    "    Rat(p * s + r * q, q * s)\n",
    "end\n",
    "\n",
    "Rat(1,2) + Rat(3,4) # 1/2 + 3/4 == 10/8 (== 5/4) which is represented\n",
    "                    # as Rat(10, 8)"
   ]
  },
  {
   "cell_type": "markdown",
   "metadata": {},
   "source": [
    "We can support mixing `Rat` and `Int` by adding additional functionality:"
   ]
  },
  {
   "cell_type": "code",
   "execution_count": 44,
   "metadata": {},
   "outputs": [
    {
     "data": {
      "text/plain": [
       "Rat(3, 2)"
      ]
     },
     "execution_count": 44,
     "metadata": {},
     "output_type": "execute_result"
    }
   ],
   "source": [
    "Rat(p::Int) = Rat(p,1) # an Int is converted to p/1\n",
    "+(x::Rat, y::Int) = x + Rat(y) # To add a Rat to an Int we convert the Int into a Rat and use the previously defined +\n",
    "\n",
    "Rat(1,2) + 1  # 1 + 1/2 == 3/2"
   ]
  },
  {
   "cell_type": "markdown",
   "metadata": {},
   "source": [
    "-----"
   ]
  },
  {
   "cell_type": "markdown",
   "metadata": {},
   "source": [
    "**Problem 3** Support `*`, `-`, `/`, and `==` for `Rat` and `Int`."
   ]
  },
  {
   "cell_type": "code",
   "execution_count": 47,
   "metadata": {},
   "outputs": [
    {
     "data": {
      "text/plain": [
       "\u001b[32m\u001b[1mTest Passed\u001b[22m\u001b[39m"
      ]
     },
     "execution_count": 47,
     "metadata": {},
     "output_type": "execute_result"
    }
   ],
   "source": [
    "# We import +, -, *, / so we can \"overload\" these operations\n",
    "# specifically for Rat.\n",
    "import Base: +, -, *, /, ==\n",
    "\n",
    "# The ::Rat means the following version of == is only called if both\n",
    "# arguments are Rat.\n",
    "function ==(x::Rat, y::Rat)\n",
    "    # TODO: implement equality, making sure to check the case where\n",
    "    # the numerator/denominator are possibly reducible\n",
    "    # Hint: gcd and div may be useful. Use ? to find out what they do\n",
    "    \n",
    "    p,q = x.p,x.q # x represents p/q\n",
    "    r,s = y.p,y.q # y represents r/s\n",
    "\n",
    "    x_gcd, y_gcd = gcd(p,q), gcd(r,s)\n",
    "    x_simp_num, x_simp_den = div(p,x_gcd), div(q,x_gcd)\n",
    "    y_simp_num, y_simp_den = div(r,y_gcd), div(s,y_gcd)\n",
    "\n",
    "    return x_simp_num == y_simp_num && x_simp_den == y_simp_den\n",
    "\n",
    "end\n",
    "\n",
    "# We can also support equality when x is a Rat and y is an Int\n",
    "function ==(x::Rat, y::Int)\n",
    "\n",
    "    return div(x.p, x.q) == y\n",
    "\n",
    "end\n",
    "\n",
    "# TODO: implement ==(x::Int, y::Rat)\n",
    "\n",
    "function ==(x::Int, y::Rat)\n",
    "\n",
    "    return div(y.p, y.q) == x\n",
    "\n",
    "end\n",
    "\n",
    "\n",
    "@test Rat(1, 2) == Rat(2, 4)\n",
    "@test Rat(1, 2) ≠ Rat(1, 3)\n",
    "@test Rat(2,2) == 1\n",
    "@test 1 == Rat(2,2)\n",
    "\n",
    "# TODO: implement +, -, *, and /,\n",
    "\n",
    "function +(x::Rat, y::Int)\n",
    "    z = Rat(y,1)\n",
    "    return Rat(x.p*z.q + x.q*z.p, x.q*z.q)\n",
    "end\n",
    "\n",
    "function -(x::Rat, y::Rat)\n",
    "    return Rat(x.p*y.q - x.q*y.p, x.q*y.q)\n",
    "end\n",
    "\n",
    "function -(x::Rat, y::Int)\n",
    "    z = Rat(y,1)\n",
    "    return Rat(x.p*z.q - x.q*z.p, x.q*z.q)\n",
    "end\n",
    "\n",
    "function *(x::Rat, y::Int)\n",
    "    z = Rat(y,1)\n",
    "    return Rat(x.p*z.p, x.q*z.q)\n",
    "end\n",
    "\n",
    "function *(x::Rat, y::Rat)\n",
    "    return Rat(x.p*y.p, x.q*y.q)\n",
    "end\n",
    "\n",
    "function /(x::Rat, y::Int)\n",
    "    z = Rat(y,1)\n",
    "    return Rat(x.p*z.q, x.q*z.p)\n",
    "end\n",
    "\n",
    "function /(x::Rat, y::Rat)\n",
    "    return Rat(x.p*y.q, x.q*y.p)\n",
    "end\n",
    "\n",
    "@test Rat(1, 2) + Rat(1, 3) == Rat(5, 6)\n",
    "@test Rat(1, 3) - Rat(1, 2) == Rat(-1, 6)\n",
    "@test Rat(2, 3) * Rat(3, 4) == Rat(1, 2)\n",
    "@test Rat(2, 3) / Rat(3, 4) == Rat(8, 9)"
   ]
  },
  {
   "cell_type": "code",
   "execution_count": 48,
   "metadata": {},
   "outputs": [
    {
     "data": {
      "text/plain": [
       "\u001b[32m\u001b[1mTest Passed\u001b[22m\u001b[39m"
      ]
     },
     "execution_count": 48,
     "metadata": {},
     "output_type": "execute_result"
    }
   ],
   "source": [
    "@test Rat(1, 2) == Rat(2, 4)\n",
    "@test Rat(1, 2) ≠ Rat(1, 3)\n",
    "@test Rat(2,2) == 1\n",
    "@test 1 == Rat(2,2)"
   ]
  },
  {
   "cell_type": "code",
   "execution_count": 49,
   "metadata": {},
   "outputs": [
    {
     "data": {
      "text/plain": [
       "\u001b[32m\u001b[1mTest Passed\u001b[22m\u001b[39m"
      ]
     },
     "execution_count": 49,
     "metadata": {},
     "output_type": "execute_result"
    }
   ],
   "source": [
    "@test 2  == Rat(4,2) \n",
    "@test Rat(1, 3) - Rat(1, 2) == Rat(-1, 6)\n",
    "@test Rat(2, 3) * Rat(3, 4) == Rat(1, 2)"
   ]
  },
  {
   "cell_type": "code",
   "execution_count": null,
   "metadata": {},
   "outputs": [],
   "source": []
  },
  {
   "cell_type": "markdown",
   "metadata": {},
   "source": [
    "------"
   ]
  },
  {
   "cell_type": "markdown",
   "metadata": {},
   "source": [
    "## I.3 Dual Numbers\n",
    "\n",
    "We now consider implementing a type `Dual` to represent the dual number $a + bϵ$,\n",
    "in a way similar to `Complex` or `Rat`. For simplicity we don't restrict the types of `a` and `b`\n",
    "but for us they will usually be `Float64`. We create this type very similar to `Rat` above:"
   ]
  },
  {
   "cell_type": "code",
   "execution_count": 71,
   "metadata": {},
   "outputs": [],
   "source": [
    "struct Dual\n",
    "    a\n",
    "    b\n",
    "end"
   ]
  },
  {
   "cell_type": "markdown",
   "metadata": {},
   "source": [
    "We can easily support addition of dual numbers as in `Rat` using the formula\n",
    "$$\n",
    "(a+bϵ) + (c+dϵ) = (a+c) + (b+d)ϵ\n",
    "$$"
   ]
  },
  {
   "cell_type": "code",
   "execution_count": 73,
   "metadata": {},
   "outputs": [
    {
     "data": {
      "text/plain": [
       "Dual(4, 6)"
      ]
     },
     "execution_count": 73,
     "metadata": {},
     "output_type": "execute_result"
    }
   ],
   "source": [
    "function +(x::Dual, y::Dual)\n",
    "    a,b = x.a, x.b # x == a+bϵ. This gets out a and b\n",
    "    c,d = y.a, y.b # y == c+dϵ. This gets out c and d\n",
    "    Dual(a+c, b+d)\n",
    "end\n",
    "\n",
    "Dual(1,2) + Dual(3,4) # just adds each argument"
   ]
  },
  {
   "cell_type": "markdown",
   "metadata": {},
   "source": [
    "For multiplication we used the fact that $ϵ^2 = 0$ to derive the formula\n",
    "$$\n",
    "(a+bϵ)*(c+dϵ) = ac +(bc+ad)ϵ.\n",
    "$$\n",
    "Here we support this operation by overloading `*` when the inputs are both\n",
    "`Dual`:"
   ]
  },
  {
   "cell_type": "code",
   "execution_count": 150,
   "metadata": {},
   "outputs": [
    {
     "data": {
      "text/plain": [
       "* (generic function with 303 methods)"
      ]
     },
     "execution_count": 150,
     "metadata": {},
     "output_type": "execute_result"
    }
   ],
   "source": [
    "import Base: * # we want to also overload *\n",
    "\n",
    "function *(x::Dual, y::Dual)\n",
    "    a,b = x.a, x.b # x == a+bϵ. This gets out a and b\n",
    "    c,d = y.a, y.b # y == c+dϵ. This gets out c and d\n",
    "    Dual(a*c, b*c + a*d)\n",
    "end\n",
    "\n",
    "function *(x::Int, y::Dual)\n",
    "    x = Dual(x,0)\n",
    "    a,b = x.a, x.b # x == a+bϵ. This gets out a and b\n",
    "    c,d = y.a, y.b # y == c+dϵ. This gets out c and d\n",
    "    Dual(a*c, b*c + a*d)\n",
    "end\n",
    "function *(x::Float64, y::Dual)\n",
    "    x = Dual(x,0)\n",
    "    a,b = x.a, x.b # x == a+bϵ. This gets out a and b\n",
    "    c,d = y.a, y.b # y == c+dϵ. This gets out c and d\n",
    "    Dual(a*c, b*c + a*d)\n",
    "end"
   ]
  },
  {
   "cell_type": "markdown",
   "metadata": {},
   "source": [
    "### I.3.1 Differentiating polynomials"
   ]
  },
  {
   "cell_type": "markdown",
   "metadata": {},
   "source": [
    "Dual numbers allow us to differentiate functions provided they are composed of\n",
    "operations overloaded for `Dual`. In particular, we have that\n",
    "$$\n",
    "f(x + b ϵ) = f(x) + bf'(x)ϵ\n",
    "$$\n",
    "and thus if we set `b = 1` the \"dual part\" is equal to the derivative.\n",
    "We can use this fact to differentiate simple polynomials that only use `+`\n",
    "and `*`:"
   ]
  },
  {
   "cell_type": "code",
   "execution_count": 79,
   "metadata": {},
   "outputs": [
    {
     "data": {
      "text/plain": [
       "Dual(10, 13)"
      ]
     },
     "execution_count": 79,
     "metadata": {},
     "output_type": "execute_result"
    }
   ],
   "source": [
    "f = x -> x*x*x + x\n",
    "f(Dual(2,1)) # (2^3 + 2) + (3*2^2+1)*ϵ"
   ]
  },
  {
   "cell_type": "markdown",
   "metadata": {},
   "source": [
    "A polynomial like `x^3 + 1` is not yet supported.\n",
    "To support this we need to add addition of `Dual` with `Int` or `Float64`.\n",
    "Note that both of these are \"subtypes\" of `Real` and so restricting on `Real`\n",
    "will support both at the same time.\n",
    "We can overload the appropriate functions as follows:"
   ]
  },
  {
   "cell_type": "code",
   "execution_count": 82,
   "metadata": {},
   "outputs": [
    {
     "data": {
      "text/plain": [
       "Dual(9, 12)"
      ]
     },
     "execution_count": 82,
     "metadata": {},
     "output_type": "execute_result"
    }
   ],
   "source": [
    "import Base: ^\n",
    "\n",
    "Dual(a::Real) = Dual(a, 0) # converts a real number to a dual number with no ϵ\n",
    "\n",
    "+(x::Real, y::Dual) = Dual(x) + y\n",
    "+(x::Dual, y::Real) = x + Dual(y)\n",
    "\n",
    "# a simple recursive function to support x^2, x^3, etc.\n",
    "function ^(x::Dual, n::Int)\n",
    "    if n < 0\n",
    "        error(\"Not implemented\") # don't support negative n, yet\n",
    "    end\n",
    "    if n == 1\n",
    "        x # Just return the input\n",
    "    else\n",
    "        ret = x\n",
    "        for k = 1:n-1\n",
    "            ret = ret*x\n",
    "        end\n",
    "        ret # returns the last argument\n",
    "    end\n",
    "end\n",
    "\n",
    "f = x -> x^3 + 1\n",
    "f(Dual(2,1))  # 2^3+1 + 3*2^2*ϵ"
   ]
  },
  {
   "cell_type": "markdown",
   "metadata": {},
   "source": [
    "### I.3.2 Differentiating functions"
   ]
  },
  {
   "cell_type": "markdown",
   "metadata": {},
   "source": [
    "We can also overload functions like `exp` so that they satisfy the rules of\n",
    "a _dual extension_, that is, are consistent with the formula $f(a+bϵ) = f(a) + bf'(a)ϵ$\n",
    "as follows:"
   ]
  },
  {
   "cell_type": "code",
   "execution_count": 86,
   "metadata": {},
   "outputs": [
    {
     "data": {
      "text/plain": [
       "exp (generic function with 15 methods)"
      ]
     },
     "execution_count": 86,
     "metadata": {},
     "output_type": "execute_result"
    }
   ],
   "source": [
    "import Base: exp\n",
    "exp(x::Dual) = Dual(exp(x.a), exp(x.a) * x.b)"
   ]
  },
  {
   "cell_type": "markdown",
   "metadata": {},
   "source": [
    "We can use this to differentiate a function that composes these basic operations:"
   ]
  },
  {
   "cell_type": "code",
   "execution_count": 89,
   "metadata": {},
   "outputs": [
    {
     "data": {
      "text/plain": [
       "Dual(41.193555674716116, 194.362805189629)"
      ]
     },
     "execution_count": 89,
     "metadata": {},
     "output_type": "execute_result"
    }
   ],
   "source": [
    "f = x -> exp(x^2 + exp(x))\n",
    "f(Dual(1, 1))"
   ]
  },
  {
   "cell_type": "markdown",
   "metadata": {},
   "source": [
    "What makes dual numbers so effective is that, unlike divided differences, they are not\n",
    "prone to disasterous growth due to round-off errors: the above approximation\n",
    "matches the true answer to roughly 16 digits of accuracy."
   ]
  },
  {
   "cell_type": "markdown",
   "metadata": {},
   "source": [
    "------"
   ]
  },
  {
   "cell_type": "markdown",
   "metadata": {},
   "source": [
    "**Problem 4(a)** Add support for `-`, `cos`, `sin`, and `/` to the type `Dual`\n",
    "by replacing the `# TODO`s in the below code."
   ]
  },
  {
   "cell_type": "code",
   "execution_count": 128,
   "metadata": {},
   "outputs": [
    {
     "data": {
      "text/plain": [
       "\u001b[32m\u001b[1mTest Passed\u001b[22m\u001b[39m"
      ]
     },
     "execution_count": 128,
     "metadata": {},
     "output_type": "execute_result"
    }
   ],
   "source": [
    "import Base: -, cos, sin, /\n",
    "\n",
    "# The following supports negation -(a+bϵ)\n",
    "-(x::Dual) = Dual(-x.a, -x.b)\n",
    "\n",
    "# TODO: implement -(::Dual, ::Dual)\n",
    "-(x::Dual, y::Dual) = Dual(x.a + -y.a, x.b + -y.b)\n",
    "\n",
    "function -(x::Dual, y::Int)\n",
    "    # TODO: implement division for Duals.\n",
    "    # Hint: think of this as x * (1/y)\n",
    "    y = Dual(y,0)\n",
    "    return Dual(x.a/y.a, (x.b*y.a - x.a*y.b)/(y.a*y.a))\n",
    "end\n",
    "\n",
    "\n",
    "function cos(x::Dual)\n",
    "    # TODO: implement cos for Duals\n",
    "    return Dual(cos(x.a), -x.b*sin(x.a))\n",
    "end\n",
    "\n",
    "function sin(x::Dual)\n",
    "    # TODO: implement sin for Duals\n",
    "    return Dual(sin(x.a), x.b*cos(x.a))\n",
    "end\n",
    "\n",
    "function /(x::Dual, y::Dual)\n",
    "    # TODO: implement division for Duals.\n",
    "    # Hint: think of this as x * (1/y)\n",
    "    return Dual(x.a/y.a, (x.b*y.a - x.a*y.b)/(y.a*y.a))\n",
    "end\n",
    "\n",
    "function /(x::Dual, y::Int)\n",
    "    # TODO: implement division for Duals.\n",
    "    # Hint: think of this as x * (1/y)\n",
    "    y = Dual(y,0)\n",
    "    return Dual(x.a/y.a, (x.b*y.a - x.a*y.b)/(y.a*y.a))\n",
    "end\n",
    "\n",
    "x = 0.1\n",
    "ϵ = Dual(0,1)\n",
    "@test cos(sin(x+ϵ)/(x+ϵ)).b ≈ -((cos(x)/x - sin(x)/x^2)sin(sin(x)/x))"
   ]
  },
  {
   "cell_type": "code",
   "execution_count": 132,
   "metadata": {},
   "outputs": [
    {
     "data": {
      "text/plain": [
       "Dual(2, 2)"
      ]
     },
     "execution_count": 132,
     "metadata": {},
     "output_type": "execute_result"
    }
   ],
   "source": [
    "Dual( 3,4 ) -Dual(1,2)"
   ]
  },
  {
   "cell_type": "code",
   "execution_count": 104,
   "metadata": {},
   "outputs": [
    {
     "data": {
      "text/plain": [
       "Dual(0.5403023058681398, -1.682941969615793)"
      ]
     },
     "execution_count": 104,
     "metadata": {},
     "output_type": "execute_result"
    }
   ],
   "source": [
    "cos(Dual(1,2))"
   ]
  },
  {
   "cell_type": "markdown",
   "metadata": {},
   "source": [
    "**Problem 4(b)** Use dual numbers to compute the derivatives to\n",
    "1. $\\exp(\\exp x \\cos x + \\sin x)$\n",
    "2. $∏_{k=1}^{1000} \\left({x \\over k}-1\\right)$\n",
    "3. $f^{\\rm s}_{1000}(x)$ where, as in Lab 1 Problem 3(d), $f^{\\rm s}_n(x)$ corresponds to $n$-terms of the following continued fraction:\n",
    "$$\n",
    "1 + {x-1 \\over 2 + {x-1 \\over 2 + {x-1 \\over 2 + ⋱}}}.\n",
    "$$\n",
    "at the point $x = 0.1$. Compare with divided differences to give evidence that your implementation is correct."
   ]
  },
  {
   "cell_type": "code",
   "execution_count": 120,
   "metadata": {},
   "outputs": [
    {
     "data": {
      "text/plain": [
       "6.5847725546108276"
      ]
     },
     "execution_count": 120,
     "metadata": {},
     "output_type": "execute_result"
    }
   ],
   "source": [
    "exp(exp(0.1)*cos(0.1) + sin(0.1))*(exp(0.1)*(cos(0.1) - sin(0.1)) +cos(0.1))"
   ]
  },
  {
   "cell_type": "code",
   "execution_count": 118,
   "metadata": {},
   "outputs": [
    {
     "data": {
      "text/plain": [
       "6.5847725546108276"
      ]
     },
     "execution_count": 118,
     "metadata": {},
     "output_type": "execute_result"
    }
   ],
   "source": [
    "# TODO: Use dual numbers to compute the derivatives of the 3 functions above.\n",
    "func1 = x -> exp(exp(x)*cos(x) + sin(x))\n",
    "func1(Dual(0.1,1)).b"
   ]
  },
  {
   "cell_type": "code",
   "execution_count": 174,
   "metadata": {},
   "outputs": [
    {
     "name": "stdout",
     "output_type": "stream",
     "text": [
      "-3.593826513101571"
     ]
    }
   ],
   "source": [
    "\n",
    "# TODO: Use dual numbers to compute the derivatives of the 3 functions above.\n",
    "# SOLUTION\n",
    "\n",
    "# Define the functions\n",
    "\n",
    "func2 = function(x)\n",
    "    ret = 1\n",
    "    for k = 1:1000\n",
    "        ret *= x/k - 1\n",
    "    end\n",
    "    ret\n",
    "end\n",
    "function cont(n, x)\n",
    "    ret = 2\n",
    "    for k = 1:n-1\n",
    "        ret = 2 + (x-1)/ret\n",
    "    end\n",
    "    1 + (x-1)/ret\n",
    "end\n",
    "\n",
    "print(func2(Dual(0.1,1)).b)\n"
   ]
  },
  {
   "cell_type": "code",
   "execution_count": null,
   "metadata": {},
   "outputs": [],
   "source": []
  },
  {
   "cell_type": "code",
   "execution_count": null,
   "metadata": {},
   "outputs": [],
   "source": []
  },
  {
   "cell_type": "code",
   "execution_count": null,
   "metadata": {},
   "outputs": [],
   "source": []
  },
  {
   "cell_type": "code",
   "execution_count": null,
   "metadata": {},
   "outputs": [],
   "source": []
  },
  {
   "cell_type": "code",
   "execution_count": null,
   "metadata": {},
   "outputs": [],
   "source": []
  },
  {
   "cell_type": "code",
   "execution_count": 179,
   "metadata": {},
   "outputs": [
    {
     "name": "stdout",
     "output_type": "stream",
     "text": [
      "1.5811388300841893"
     ]
    }
   ],
   "source": [
    "print(cont(1000,Dual(0.1,1)).b)"
   ]
  },
  {
   "cell_type": "markdown",
   "metadata": {},
   "source": [
    "------\n",
    "## I.4 Newton's method"
   ]
  },
  {
   "cell_type": "code",
   "execution_count": null,
   "metadata": {},
   "outputs": [],
   "source": []
  },
  {
   "cell_type": "code",
   "execution_count": null,
   "metadata": {},
   "outputs": [],
   "source": []
  },
  {
   "cell_type": "markdown",
   "metadata": {},
   "source": [
    "Newton's method is a simple algorithmic approach that you may have seen before in school for computing roots (or zeros)\n",
    "of functions. The basic idea is given an initial guess $x_0$,\n",
    "find the first-order Taylor approximation $p(x)$ (i.e., find the line that matches the slope of the function at the point)\n",
    "$$\n",
    "f(x) ≈ \\underbrace{f(x_0) + f'(x_0) (x- x_0)}_{p(x)}.\n",
    "$$\n",
    "We can then solve the root finding problem for $p(x)$ exactly:\n",
    "$$\n",
    "p(x) = 0 ⇔ x = x_0 - {f(x_0) \\over f'(x_0)}\n",
    "$$\n",
    "We take this root of $p(x)$ as the new initial guess and repeat. In other words, we have a simple sequence\n",
    "defined by\n",
    "$$\n",
    "x_{k+1} = x_k - {f(x_k) \\over f'(x_k)}\n",
    "$$\n",
    "If the initial guess is \"close enough\" to a root $r$ of $f$ (ie $f(r) = 0$)\n",
    "then we have proven that $x_k → r$. Thus for large $N$ we have $x_N ≈ r$."
   ]
  },
  {
   "cell_type": "markdown",
   "metadata": {},
   "source": [
    "Dual numbers as implemented by `Dual` gives us a powerful tool to compute derivatives and get a simple implementation\n",
    "of Newton's method working:"
   ]
  },
  {
   "cell_type": "code",
   "execution_count": 183,
   "metadata": {},
   "outputs": [
    {
     "data": {
      "text/plain": [
       "-1.193859111321223"
      ]
     },
     "execution_count": 183,
     "metadata": {},
     "output_type": "execute_result"
    }
   ],
   "source": [
    "# derivative(f, x) computes the derivative at a point x using Dual\n",
    "derivative(f, x) = f(Dual(x,1)).b\n",
    "\n",
    "function newton(f, x, N) # x = x_0 is the initial guess\n",
    "    for k = 1:N\n",
    "        x = x - f(x)/derivative(f,x)\n",
    "    end\n",
    "    x\n",
    "end\n",
    "\n",
    "f = x -> x^5 + x^2 + 1\n",
    "r = newton(f, 0.1, 100)"
   ]
  },
  {
   "cell_type": "markdown",
   "metadata": {},
   "source": [
    "We can test that we have indeed found a root:"
   ]
  },
  {
   "cell_type": "code",
   "execution_count": 185,
   "metadata": {},
   "outputs": [
    {
     "data": {
      "text/plain": [
       "6.661338147750939e-16"
      ]
     },
     "execution_count": 185,
     "metadata": {},
     "output_type": "execute_result"
    }
   ],
   "source": [
    "f(r)"
   ]
  },
  {
   "cell_type": "markdown",
   "metadata": {},
   "source": [
    "-----"
   ]
  },
  {
   "cell_type": "markdown",
   "metadata": {},
   "source": [
    "**Problem 5(a)** For $f(x) = x^5 + x^2 + 1$, plot the error of $x_k$ for `k = 1:15` where the\n",
    "y-axis is scaled logarithmically and chosen $x_0 = 0.1$ You may\n",
    "use the computed `r` as the \"exact\" root. What do you think the convergence rate is?"
   ]
  },
  {
   "cell_type": "code",
   "execution_count": 205,
   "metadata": {},
   "outputs": [
    {
     "data": {
      "image/png": "[encoded data removed]",
      "image/svg+xml": [
       "<?xml version=\"1.0\" encoding=\"utf-8\"?>\n",
       "<svg xmlns=\"http://www.w3.org/2000/svg\" xmlns:xlink=\"http://www.w3.org/1999/xlink\" width=\"600\" height=\"400\" viewBox=\"0 0 2400 1600\">\n",
       "<defs>\n",
       "  <clipPath id=\"clip050\">\n",
       "    <rect x=\"0\" y=\"0\" width=\"2400\" height=\"1600\"/>\n",
       "  </clipPath>\n",
       "</defs>\n",
       "<path clip-path=\"url(#clip050)\" d=\"M0 1600 L2400 1600 L2400 8.88178e-14 L0 8.88178e-14  Z\" fill=\"#ffffff\" fill-rule=\"evenodd\" fill-opacity=\"1\"/>\n",
       "<defs>\n",
       "  <clipPath id=\"clip051\">\n",
       "    <rect x=\"480\" y=\"0\" width=\"1681\" height=\"1600\"/>\n",
       "  </clipPath>\n",
       "</defs>\n",
       "<path clip-path=\"url(#clip050)\" d=\"M213.607 1486.45 L2352.76 1486.45 L2352.76 47.2441 L213.607 47.2441  Z\" fill=\"#ffffff\" fill-rule=\"evenodd\" fill-opacity=\"1\"/>\n",
       "<defs>\n",
       "  <clipPath id=\"clip052\">\n",
       "    <rect x=\"213\" y=\"47\" width=\"2140\" height=\"1440\"/>\n",
       "  </clipPath>\n",
       "</defs>\n",
       "<polyline clip-path=\"url(#clip052)\" style=\"stroke:#000000; stroke-linecap:round; stroke-linejoin:round; stroke-width:2; stroke-opacity:0.1; fill:none\" points=\"418.297,1486.45 418.297,47.2441 \"/>\n",
       "<polyline clip-path=\"url(#clip052)\" style=\"stroke:#000000; stroke-linecap:round; stroke-linejoin:round; stroke-width:2; stroke-opacity:0.1; fill:none\" points=\"706.592,1486.45 706.592,47.2441 \"/>\n",
       "<polyline clip-path=\"url(#clip052)\" style=\"stroke:#000000; stroke-linecap:round; stroke-linejoin:round; stroke-width:2; stroke-opacity:0.1; fill:none\" points=\"994.887,1486.45 994.887,47.2441 \"/>\n",
       "<polyline clip-path=\"url(#clip052)\" style=\"stroke:#000000; stroke-linecap:round; stroke-linejoin:round; stroke-width:2; stroke-opacity:0.1; fill:none\" points=\"1283.18,1486.45 1283.18,47.2441 \"/>\n",
       "<polyline clip-path=\"url(#clip052)\" style=\"stroke:#000000; stroke-linecap:round; stroke-linejoin:round; stroke-width:2; stroke-opacity:0.1; fill:none\" points=\"1571.48,1486.45 1571.48,47.2441 \"/>\n",
       "<polyline clip-path=\"url(#clip052)\" style=\"stroke:#000000; stroke-linecap:round; stroke-linejoin:round; stroke-width:2; stroke-opacity:0.1; fill:none\" points=\"1859.77,1486.45 1859.77,47.2441 \"/>\n",
       "<polyline clip-path=\"url(#clip052)\" style=\"stroke:#000000; stroke-linecap:round; stroke-linejoin:round; stroke-width:2; stroke-opacity:0.1; fill:none\" points=\"2148.07,1486.45 2148.07,47.2441 \"/>\n",
       "<polyline clip-path=\"url(#clip052)\" style=\"stroke:#000000; stroke-linecap:round; stroke-linejoin:round; stroke-width:2; stroke-opacity:0.1; fill:none\" points=\"213.607,1063.12 2352.76,1063.12 \"/>\n",
       "<polyline clip-path=\"url(#clip052)\" style=\"stroke:#000000; stroke-linecap:round; stroke-linejoin:round; stroke-width:2; stroke-opacity:0.1; fill:none\" points=\"213.607,601.985 2352.76,601.985 \"/>\n",
       "<polyline clip-path=\"url(#clip052)\" style=\"stroke:#000000; stroke-linecap:round; stroke-linejoin:round; stroke-width:2; stroke-opacity:0.1; fill:none\" points=\"213.607,140.849 2352.76,140.849 \"/>\n",
       "<polyline clip-path=\"url(#clip050)\" style=\"stroke:#000000; stroke-linecap:round; stroke-linejoin:round; stroke-width:4; stroke-opacity:1; fill:none\" points=\"213.607,1486.45 2352.76,1486.45 \"/>\n",
       "<polyline clip-path=\"url(#clip050)\" style=\"stroke:#000000; stroke-linecap:round; stroke-linejoin:round; stroke-width:4; stroke-opacity:1; fill:none\" points=\"418.297,1486.45 418.297,1467.55 \"/>\n",
       "<polyline clip-path=\"url(#clip050)\" style=\"stroke:#000000; stroke-linecap:round; stroke-linejoin:round; stroke-width:4; stroke-opacity:1; fill:none\" points=\"706.592,1486.45 706.592,1467.55 \"/>\n",
       "<polyline clip-path=\"url(#clip050)\" style=\"stroke:#000000; stroke-linecap:round; stroke-linejoin:round; stroke-width:4; stroke-opacity:1; fill:none\" points=\"994.887,1486.45 994.887,1467.55 \"/>\n",
       "<polyline clip-path=\"url(#clip050)\" style=\"stroke:#000000; stroke-linecap:round; stroke-linejoin:round; stroke-width:4; stroke-opacity:1; fill:none\" points=\"1283.18,1486.45 1283.18,1467.55 \"/>\n",
       "<polyline clip-path=\"url(#clip050)\" style=\"stroke:#000000; stroke-linecap:round; stroke-linejoin:round; stroke-width:4; stroke-opacity:1; fill:none\" points=\"1571.48,1486.45 1571.48,1467.55 \"/>\n",
       "<polyline clip-path=\"url(#clip050)\" style=\"stroke:#000000; stroke-linecap:round; stroke-linejoin:round; stroke-width:4; stroke-opacity:1; fill:none\" points=\"1859.77,1486.45 1859.77,1467.55 \"/>\n",
       "<polyline clip-path=\"url(#clip050)\" style=\"stroke:#000000; stroke-linecap:round; stroke-linejoin:round; stroke-width:4; stroke-opacity:1; fill:none\" points=\"2148.07,1486.45 2148.07,1467.55 \"/>\n",
       "<path clip-path=\"url(#clip050)\" d=\"M412.95 1544.91 L429.269 1544.91 L429.269 1548.85 L407.325 1548.85 L407.325 1544.91 Q409.987 1542.16 414.57 1537.53 Q419.177 1532.88 420.357 1531.53 Q422.602 1529.01 423.482 1527.27 Q424.385 1525.51 424.385 1523.82 Q424.385 1521.07 422.44 1519.33 Q420.519 1517.6 417.417 1517.6 Q415.218 1517.6 412.765 1518.36 Q410.334 1519.13 407.556 1520.68 L407.556 1515.95 Q410.38 1514.82 412.834 1514.24 Q415.288 1513.66 417.325 1513.66 Q422.695 1513.66 425.889 1516.35 Q429.084 1519.03 429.084 1523.52 Q429.084 1525.65 428.274 1527.57 Q427.487 1529.47 425.38 1532.07 Q424.801 1532.74 421.7 1535.95 Q418.598 1539.15 412.95 1544.91 Z\" fill=\"#000000\" fill-rule=\"nonzero\" fill-opacity=\"1\" /><path clip-path=\"url(#clip050)\" d=\"M709.601 1518.36 L697.796 1536.81 L709.601 1536.81 L709.601 1518.36 M708.374 1514.29 L714.254 1514.29 L714.254 1536.81 L719.184 1536.81 L719.184 1540.7 L714.254 1540.7 L714.254 1548.85 L709.601 1548.85 L709.601 1540.7 L693.999 1540.7 L693.999 1536.19 L708.374 1514.29 Z\" fill=\"#000000\" fill-rule=\"nonzero\" fill-opacity=\"1\" /><path clip-path=\"url(#clip050)\" d=\"M995.292 1529.7 Q992.144 1529.7 990.292 1531.86 Q988.463 1534.01 988.463 1537.76 Q988.463 1541.49 990.292 1543.66 Q992.144 1545.82 995.292 1545.82 Q998.44 1545.82 1000.27 1543.66 Q1002.12 1541.49 1002.12 1537.76 Q1002.12 1534.01 1000.27 1531.86 Q998.44 1529.7 995.292 1529.7 M1004.57 1515.05 L1004.57 1519.31 Q1002.81 1518.48 1001.01 1518.04 Q999.227 1517.6 997.468 1517.6 Q992.838 1517.6 990.384 1520.72 Q987.954 1523.85 987.607 1530.17 Q988.972 1528.15 991.033 1527.09 Q993.093 1526 995.57 1526 Q1000.78 1526 1003.79 1529.17 Q1006.82 1532.32 1006.82 1537.76 Q1006.82 1543.08 1003.67 1546.3 Q1000.52 1549.52 995.292 1549.52 Q989.297 1549.52 986.125 1544.94 Q982.954 1540.33 982.954 1531.6 Q982.954 1523.41 986.843 1518.55 Q990.732 1513.66 997.283 1513.66 Q999.042 1513.66 1000.82 1514.01 Q1002.63 1514.36 1004.57 1515.05 Z\" fill=\"#000000\" fill-rule=\"nonzero\" fill-opacity=\"1\" /><path clip-path=\"url(#clip050)\" d=\"M1283.18 1532.44 Q1279.85 1532.44 1277.93 1534.22 Q1276.03 1536 1276.03 1539.13 Q1276.03 1542.25 1277.93 1544.03 Q1279.85 1545.82 1283.18 1545.82 Q1286.52 1545.82 1288.44 1544.03 Q1290.36 1542.23 1290.36 1539.13 Q1290.36 1536 1288.44 1534.22 Q1286.54 1532.44 1283.18 1532.44 M1278.51 1530.45 Q1275.5 1529.7 1273.81 1527.64 Q1272.14 1525.58 1272.14 1522.62 Q1272.14 1518.48 1275.08 1516.07 Q1278.04 1513.66 1283.18 1513.66 Q1288.34 1513.66 1291.28 1516.07 Q1294.22 1518.48 1294.22 1522.62 Q1294.22 1525.58 1292.53 1527.64 Q1290.87 1529.7 1287.88 1530.45 Q1291.26 1531.23 1293.14 1533.52 Q1295.03 1535.82 1295.03 1539.13 Q1295.03 1544.15 1291.95 1546.83 Q1288.9 1549.52 1283.18 1549.52 Q1277.46 1549.52 1274.39 1546.83 Q1271.33 1544.15 1271.33 1539.13 Q1271.33 1535.82 1273.23 1533.52 Q1275.13 1531.23 1278.51 1530.45 M1276.79 1523.06 Q1276.79 1525.75 1278.46 1527.25 Q1280.15 1528.76 1283.18 1528.76 Q1286.19 1528.76 1287.88 1527.25 Q1289.59 1525.75 1289.59 1523.06 Q1289.59 1520.38 1287.88 1518.87 Q1286.19 1517.37 1283.18 1517.37 Q1280.15 1517.37 1278.46 1518.87 Q1276.79 1520.38 1276.79 1523.06 Z\" fill=\"#000000\" fill-rule=\"nonzero\" fill-opacity=\"1\" /><path clip-path=\"url(#clip050)\" d=\"M1546.16 1544.91 L1553.8 1544.91 L1553.8 1518.55 L1545.49 1520.21 L1545.49 1515.95 L1553.76 1514.29 L1558.43 1514.29 L1558.43 1544.91 L1566.07 1544.91 L1566.07 1548.85 L1546.16 1548.85 L1546.16 1544.91 Z\" fill=\"#000000\" fill-rule=\"nonzero\" fill-opacity=\"1\" /><path clip-path=\"url(#clip050)\" d=\"M1585.52 1517.37 Q1581.9 1517.37 1580.08 1520.93 Q1578.27 1524.47 1578.27 1531.6 Q1578.27 1538.71 1580.08 1542.27 Q1581.9 1545.82 1585.52 1545.82 Q1589.15 1545.82 1590.96 1542.27 Q1592.78 1538.71 1592.78 1531.6 Q1592.78 1524.47 1590.96 1520.93 Q1589.15 1517.37 1585.52 1517.37 M1585.52 1513.66 Q1591.33 1513.66 1594.38 1518.27 Q1597.46 1522.85 1597.46 1531.6 Q1597.46 1540.33 1594.38 1544.94 Q1591.33 1549.52 1585.52 1549.52 Q1579.71 1549.52 1576.63 1544.94 Q1573.57 1540.33 1573.57 1531.6 Q1573.57 1522.85 1576.63 1518.27 Q1579.71 1513.66 1585.52 1513.66 Z\" fill=\"#000000\" fill-rule=\"nonzero\" fill-opacity=\"1\" /><path clip-path=\"url(#clip050)\" d=\"M1835.26 1544.91 L1842.9 1544.91 L1842.9 1518.55 L1834.59 1520.21 L1834.59 1515.95 L1842.85 1514.29 L1847.53 1514.29 L1847.53 1544.91 L1855.17 1544.91 L1855.17 1548.85 L1835.26 1548.85 L1835.26 1544.91 Z\" fill=\"#000000\" fill-rule=\"nonzero\" fill-opacity=\"1\" /><path clip-path=\"url(#clip050)\" d=\"M1868.64 1544.91 L1884.96 1544.91 L1884.96 1548.85 L1863.01 1548.85 L1863.01 1544.91 Q1865.67 1542.16 1870.26 1537.53 Q1874.86 1532.88 1876.04 1531.53 Q1878.29 1529.01 1879.17 1527.27 Q1880.07 1525.51 1880.07 1523.82 Q1880.07 1521.07 1878.13 1519.33 Q1876.21 1517.6 1873.1 1517.6 Q1870.91 1517.6 1868.45 1518.36 Q1866.02 1519.13 1863.24 1520.68 L1863.24 1515.95 Q1866.07 1514.82 1868.52 1514.24 Q1870.98 1513.66 1873.01 1513.66 Q1878.38 1513.66 1881.58 1516.35 Q1884.77 1519.03 1884.77 1523.52 Q1884.77 1525.65 1883.96 1527.57 Q1883.17 1529.47 1881.07 1532.07 Q1880.49 1532.74 1877.39 1535.95 Q1874.29 1539.15 1868.64 1544.91 Z\" fill=\"#000000\" fill-rule=\"nonzero\" fill-opacity=\"1\" /><path clip-path=\"url(#clip050)\" d=\"M2122.51 1544.91 L2130.15 1544.91 L2130.15 1518.55 L2121.84 1520.21 L2121.84 1515.95 L2130.1 1514.29 L2134.78 1514.29 L2134.78 1544.91 L2142.42 1544.91 L2142.42 1548.85 L2122.51 1548.85 L2122.51 1544.91 Z\" fill=\"#000000\" fill-rule=\"nonzero\" fill-opacity=\"1\" /><path clip-path=\"url(#clip050)\" d=\"M2164.71 1518.36 L2152.9 1536.81 L2164.71 1536.81 L2164.71 1518.36 M2163.48 1514.29 L2169.36 1514.29 L2169.36 1536.81 L2174.29 1536.81 L2174.29 1540.7 L2169.36 1540.7 L2169.36 1548.85 L2164.71 1548.85 L2164.71 1540.7 L2149.11 1540.7 L2149.11 1536.19 L2163.48 1514.29 Z\" fill=\"#000000\" fill-rule=\"nonzero\" fill-opacity=\"1\" /><polyline clip-path=\"url(#clip050)\" style=\"stroke:#000000; stroke-linecap:round; stroke-linejoin:round; stroke-width:4; stroke-opacity:1; fill:none\" points=\"213.607,1486.45 213.607,47.2441 \"/>\n",
       "<polyline clip-path=\"url(#clip050)\" style=\"stroke:#000000; stroke-linecap:round; stroke-linejoin:round; stroke-width:4; stroke-opacity:1; fill:none\" points=\"213.607,1063.12 232.505,1063.12 \"/>\n",
       "<polyline clip-path=\"url(#clip050)\" style=\"stroke:#000000; stroke-linecap:round; stroke-linejoin:round; stroke-width:4; stroke-opacity:1; fill:none\" points=\"213.607,601.985 232.505,601.985 \"/>\n",
       "<polyline clip-path=\"url(#clip050)\" style=\"stroke:#000000; stroke-linecap:round; stroke-linejoin:round; stroke-width:4; stroke-opacity:1; fill:none\" points=\"213.607,140.849 232.505,140.849 \"/>\n",
       "<path clip-path=\"url(#clip050)\" d=\"M51.6634 1082.91 L59.3023 1082.91 L59.3023 1056.55 L50.9921 1058.21 L50.9921 1053.95 L59.256 1052.29 L63.9319 1052.29 L63.9319 1082.91 L71.5707 1082.91 L71.5707 1086.85 L51.6634 1086.85 L51.6634 1082.91 Z\" fill=\"#000000\" fill-rule=\"nonzero\" fill-opacity=\"1\" /><path clip-path=\"url(#clip050)\" d=\"M91.0151 1055.37 Q87.404 1055.37 85.5753 1058.93 Q83.7697 1062.47 83.7697 1069.6 Q83.7697 1076.71 85.5753 1080.27 Q87.404 1083.82 91.0151 1083.82 Q94.6493 1083.82 96.4548 1080.27 Q98.2835 1076.71 98.2835 1069.6 Q98.2835 1062.47 96.4548 1058.93 Q94.6493 1055.37 91.0151 1055.37 M91.0151 1051.66 Q96.8252 1051.66 99.8808 1056.27 Q102.959 1060.85 102.959 1069.6 Q102.959 1078.33 99.8808 1082.94 Q96.8252 1087.52 91.0151 1087.52 Q85.2049 1087.52 82.1262 1082.94 Q79.0707 1078.33 79.0707 1069.6 Q79.0707 1060.85 82.1262 1056.27 Q85.2049 1051.66 91.0151 1051.66 Z\" fill=\"#000000\" fill-rule=\"nonzero\" fill-opacity=\"1\" /><path clip-path=\"url(#clip050)\" d=\"M102.959 1045.76 L127.071 1045.76 L127.071 1048.96 L102.959 1048.96 L102.959 1045.76 Z\" fill=\"#000000\" fill-rule=\"nonzero\" fill-opacity=\"1\" /><path clip-path=\"url(#clip050)\" d=\"M135.929 1056.24 L142.136 1056.24 L142.136 1034.82 L135.384 1036.17 L135.384 1032.71 L142.098 1031.36 L145.898 1031.36 L145.898 1056.24 L152.104 1056.24 L152.104 1059.44 L135.929 1059.44 L135.929 1056.24 Z\" fill=\"#000000\" fill-rule=\"nonzero\" fill-opacity=\"1\" /><path clip-path=\"url(#clip050)\" d=\"M167.903 1033.86 Q164.969 1033.86 163.483 1036.75 Q162.016 1039.63 162.016 1045.43 Q162.016 1051.2 163.483 1054.1 Q164.969 1056.97 167.903 1056.97 Q170.855 1056.97 172.322 1054.1 Q173.808 1051.2 173.808 1045.43 Q173.808 1039.63 172.322 1036.75 Q170.855 1033.86 167.903 1033.86 M167.903 1030.85 Q172.623 1030.85 175.106 1034.59 Q177.607 1038.32 177.607 1045.43 Q177.607 1052.52 175.106 1056.26 Q172.623 1059.98 167.903 1059.98 Q163.182 1059.98 160.68 1056.26 Q158.198 1052.52 158.198 1045.43 Q158.198 1038.32 160.68 1034.59 Q163.182 1030.85 167.903 1030.85 Z\" fill=\"#000000\" fill-rule=\"nonzero\" fill-opacity=\"1\" /><path clip-path=\"url(#clip050)\" d=\"M76.9787 621.777 L84.6175 621.777 L84.6175 595.411 L76.3074 597.078 L76.3074 592.819 L84.5712 591.152 L89.2471 591.152 L89.2471 621.777 L96.886 621.777 L96.886 625.712 L76.9787 625.712 L76.9787 621.777 Z\" fill=\"#000000\" fill-rule=\"nonzero\" fill-opacity=\"1\" /><path clip-path=\"url(#clip050)\" d=\"M116.33 594.231 Q112.719 594.231 110.891 597.796 Q109.085 601.337 109.085 608.467 Q109.085 615.573 110.891 619.138 Q112.719 622.68 116.33 622.68 Q119.965 622.68 121.77 619.138 Q123.599 615.573 123.599 608.467 Q123.599 601.337 121.77 597.796 Q119.965 594.231 116.33 594.231 M116.33 590.527 Q122.14 590.527 125.196 595.134 Q128.275 599.717 128.275 608.467 Q128.275 617.194 125.196 621.8 Q122.14 626.383 116.33 626.383 Q110.52 626.383 107.441 621.8 Q104.386 617.194 104.386 608.467 Q104.386 599.717 107.441 595.134 Q110.52 590.527 116.33 590.527 Z\" fill=\"#000000\" fill-rule=\"nonzero\" fill-opacity=\"1\" /><path clip-path=\"url(#clip050)\" d=\"M128.275 584.628 L152.386 584.628 L152.386 587.826 L128.275 587.826 L128.275 584.628 Z\" fill=\"#000000\" fill-rule=\"nonzero\" fill-opacity=\"1\" /><path clip-path=\"url(#clip050)\" d=\"M160.624 570.222 L175.539 570.222 L175.539 573.419 L164.103 573.419 L164.103 580.303 Q164.931 580.021 165.759 579.889 Q166.586 579.738 167.414 579.738 Q172.116 579.738 174.862 582.315 Q177.607 584.892 177.607 589.293 Q177.607 593.825 174.786 596.346 Q171.965 598.847 166.831 598.847 Q165.063 598.847 163.22 598.546 Q161.395 598.245 159.439 597.643 L159.439 593.825 Q161.132 594.747 162.937 595.198 Q164.743 595.65 166.755 595.65 Q170.009 595.65 171.909 593.938 Q173.808 592.227 173.808 589.293 Q173.808 586.359 171.909 584.647 Q170.009 582.936 166.755 582.936 Q165.232 582.936 163.709 583.274 Q162.204 583.613 160.624 584.328 L160.624 570.222 Z\" fill=\"#000000\" fill-rule=\"nonzero\" fill-opacity=\"1\" /><path clip-path=\"url(#clip050)\" d=\"M106.902 160.641 L114.541 160.641 L114.541 134.276 L106.231 135.943 L106.231 131.683 L114.494 130.017 L119.17 130.017 L119.17 160.641 L126.809 160.641 L126.809 164.577 L106.902 164.577 L106.902 160.641 Z\" fill=\"#000000\" fill-rule=\"nonzero\" fill-opacity=\"1\" /><path clip-path=\"url(#clip050)\" d=\"M146.253 133.095 Q142.642 133.095 140.814 136.66 Q139.008 140.202 139.008 147.331 Q139.008 154.438 140.814 158.003 Q142.642 161.544 146.253 161.544 Q149.888 161.544 151.693 158.003 Q153.522 154.438 153.522 147.331 Q153.522 140.202 151.693 136.66 Q149.888 133.095 146.253 133.095 M146.253 129.392 Q152.064 129.392 155.119 133.998 Q158.198 138.581 158.198 147.331 Q158.198 156.058 155.119 160.665 Q152.064 165.248 146.253 165.248 Q140.443 165.248 137.365 160.665 Q134.309 156.058 134.309 147.331 Q134.309 138.581 137.365 133.998 Q140.443 129.392 146.253 129.392 Z\" fill=\"#000000\" fill-rule=\"nonzero\" fill-opacity=\"1\" /><path clip-path=\"url(#clip050)\" d=\"M167.903 111.588 Q164.969 111.588 163.483 114.484 Q162.016 117.362 162.016 123.154 Q162.016 128.928 163.483 131.825 Q164.969 134.702 167.903 134.702 Q170.855 134.702 172.322 131.825 Q173.808 128.928 173.808 123.154 Q173.808 117.362 172.322 114.484 Q170.855 111.588 167.903 111.588 M167.903 108.578 Q172.623 108.578 175.106 112.321 Q177.607 116.045 177.607 123.154 Q177.607 130.245 175.106 133.988 Q172.623 137.712 167.903 137.712 Q163.182 137.712 160.68 133.988 Q158.198 130.245 158.198 123.154 Q158.198 116.045 160.68 112.321 Q163.182 108.578 167.903 108.578 Z\" fill=\"#000000\" fill-rule=\"nonzero\" fill-opacity=\"1\" /><polyline clip-path=\"url(#clip052)\" style=\"stroke:#009af9; stroke-linecap:round; stroke-linejoin:round; stroke-width:4; stroke-opacity:1; fill:none\" points=\"274.149,87.9763 418.297,100.165 562.444,113.511 706.592,128.58 850.739,146.351 994.887,168.65 1139.03,199.203 1283.18,246.28 1427.33,329.011 1571.48,489.047 1715.62,808.288 1859.77,1445.72 \"/>\n",
       "<path clip-path=\"url(#clip050)\" d=\"M284.912 198.898 L610.979 198.898 L610.979 95.2176 L284.912 95.2176  Z\" fill=\"#ffffff\" fill-rule=\"evenodd\" fill-opacity=\"1\"/>\n",
       "<polyline clip-path=\"url(#clip050)\" style=\"stroke:#000000; stroke-linecap:round; stroke-linejoin:round; stroke-width:4; stroke-opacity:1; fill:none\" points=\"284.912,198.898 610.979,198.898 610.979,95.2176 284.912,95.2176 284.912,198.898 \"/>\n",
       "<polyline clip-path=\"url(#clip050)\" style=\"stroke:#009af9; stroke-linecap:round; stroke-linejoin:round; stroke-width:4; stroke-opacity:1; fill:none\" points=\"308.681,147.058 451.291,147.058 \"/>\n",
       "<path clip-path=\"url(#clip050)\" d=\"M499.087 150.31 L499.087 152.393 L479.503 152.393 Q479.781 156.791 482.142 159.106 Q484.526 161.398 488.763 161.398 Q491.216 161.398 493.508 160.796 Q495.823 160.194 498.091 158.99 L498.091 163.018 Q495.8 163.99 493.392 164.5 Q490.985 165.009 488.508 165.009 Q482.304 165.009 478.67 161.398 Q475.059 157.787 475.059 151.629 Q475.059 145.264 478.485 141.537 Q481.934 137.787 487.767 137.787 Q492.999 137.787 496.031 141.166 Q499.087 144.523 499.087 150.31 M494.827 149.06 Q494.781 145.565 492.86 143.481 Q490.962 141.398 487.814 141.398 Q484.249 141.398 482.096 143.412 Q479.966 145.426 479.642 149.083 L494.827 149.06 Z\" fill=\"#000000\" fill-rule=\"nonzero\" fill-opacity=\"1\" /><path clip-path=\"url(#clip050)\" d=\"M521.1 142.393 Q520.383 141.977 519.526 141.791 Q518.693 141.583 517.674 141.583 Q514.063 141.583 512.119 143.944 Q510.198 146.282 510.198 150.68 L510.198 164.338 L505.915 164.338 L505.915 138.412 L510.198 138.412 L510.198 142.44 Q511.54 140.078 513.693 138.944 Q515.846 137.787 518.924 137.787 Q519.364 137.787 519.897 137.856 Q520.429 137.903 521.077 138.018 L521.1 142.393 Z\" fill=\"#000000\" fill-rule=\"nonzero\" fill-opacity=\"1\" /><path clip-path=\"url(#clip050)\" d=\"M539.758 142.393 Q539.04 141.977 538.184 141.791 Q537.35 141.583 536.332 141.583 Q532.721 141.583 530.776 143.944 Q528.855 146.282 528.855 150.68 L528.855 164.338 L524.573 164.338 L524.573 138.412 L528.855 138.412 L528.855 142.44 Q530.198 140.078 532.35 138.944 Q534.503 137.787 537.582 137.787 Q538.022 137.787 538.554 137.856 Q539.086 137.903 539.735 138.018 L539.758 142.393 Z\" fill=\"#000000\" fill-rule=\"nonzero\" fill-opacity=\"1\" /><path clip-path=\"url(#clip050)\" d=\"M553.23 141.398 Q549.804 141.398 547.813 144.083 Q545.822 146.745 545.822 151.398 Q545.822 156.051 547.79 158.736 Q549.781 161.398 553.23 161.398 Q556.633 161.398 558.623 158.713 Q560.614 156.027 560.614 151.398 Q560.614 146.791 558.623 144.106 Q556.633 141.398 553.23 141.398 M553.23 137.787 Q558.785 137.787 561.957 141.398 Q565.128 145.009 565.128 151.398 Q565.128 157.764 561.957 161.398 Q558.785 165.009 553.23 165.009 Q547.651 165.009 544.48 161.398 Q541.332 157.764 541.332 151.398 Q541.332 145.009 544.48 141.398 Q547.651 137.787 553.23 137.787 Z\" fill=\"#000000\" fill-rule=\"nonzero\" fill-opacity=\"1\" /><path clip-path=\"url(#clip050)\" d=\"M587.211 142.393 Q586.494 141.977 585.637 141.791 Q584.804 141.583 583.785 141.583 Q580.174 141.583 578.23 143.944 Q576.308 146.282 576.308 150.68 L576.308 164.338 L572.026 164.338 L572.026 138.412 L576.308 138.412 L576.308 142.44 Q577.651 140.078 579.804 138.944 Q581.957 137.787 585.035 137.787 Q585.475 137.787 586.007 137.856 Q586.54 137.903 587.188 138.018 L587.211 142.393 Z\" fill=\"#000000\" fill-rule=\"nonzero\" fill-opacity=\"1\" /></svg>\n"
      ],
      "text/html": [
       "<?xml version=\"1.0\" encoding=\"utf-8\"?>\n",
       "<svg xmlns=\"http://www.w3.org/2000/svg\" xmlns:xlink=\"http://www.w3.org/1999/xlink\" width=\"600\" height=\"400\" viewBox=\"0 0 2400 1600\">\n",
       "<defs>\n",
       "  <clipPath id=\"clip100\">\n",
       "    <rect x=\"0\" y=\"0\" width=\"2400\" height=\"1600\"/>\n",
       "  </clipPath>\n",
       "</defs>\n",
       "<path clip-path=\"url(#clip100)\" d=\"M0 1600 L2400 1600 L2400 8.88178e-14 L0 8.88178e-14  Z\" fill=\"#ffffff\" fill-rule=\"evenodd\" fill-opacity=\"1\"/>\n",
       "<defs>\n",
       "  <clipPath id=\"clip101\">\n",
       "    <rect x=\"480\" y=\"0\" width=\"1681\" height=\"1600\"/>\n",
       "  </clipPath>\n",
       "</defs>\n",
       "<path clip-path=\"url(#clip100)\" d=\"M213.607 1486.45 L2352.76 1486.45 L2352.76 47.2441 L213.607 47.2441  Z\" fill=\"#ffffff\" fill-rule=\"evenodd\" fill-opacity=\"1\"/>\n",
       "<defs>\n",
       "  <clipPath id=\"clip102\">\n",
       "    <rect x=\"213\" y=\"47\" width=\"2140\" height=\"1440\"/>\n",
       "  </clipPath>\n",
       "</defs>\n",
       "<polyline clip-path=\"url(#clip102)\" style=\"stroke:#000000; stroke-linecap:round; stroke-linejoin:round; stroke-width:2; stroke-opacity:0.1; fill:none\" points=\"418.297,1486.45 418.297,47.2441 \"/>\n",
       "<polyline clip-path=\"url(#clip102)\" style=\"stroke:#000000; stroke-linecap:round; stroke-linejoin:round; stroke-width:2; stroke-opacity:0.1; fill:none\" points=\"706.592,1486.45 706.592,47.2441 \"/>\n",
       "<polyline clip-path=\"url(#clip102)\" style=\"stroke:#000000; stroke-linecap:round; stroke-linejoin:round; stroke-width:2; stroke-opacity:0.1; fill:none\" points=\"994.887,1486.45 994.887,47.2441 \"/>\n",
       "<polyline clip-path=\"url(#clip102)\" style=\"stroke:#000000; stroke-linecap:round; stroke-linejoin:round; stroke-width:2; stroke-opacity:0.1; fill:none\" points=\"1283.18,1486.45 1283.18,47.2441 \"/>\n",
       "<polyline clip-path=\"url(#clip102)\" style=\"stroke:#000000; stroke-linecap:round; stroke-linejoin:round; stroke-width:2; stroke-opacity:0.1; fill:none\" points=\"1571.48,1486.45 1571.48,47.2441 \"/>\n",
       "<polyline clip-path=\"url(#clip102)\" style=\"stroke:#000000; stroke-linecap:round; stroke-linejoin:round; stroke-width:2; stroke-opacity:0.1; fill:none\" points=\"1859.77,1486.45 1859.77,47.2441 \"/>\n",
       "<polyline clip-path=\"url(#clip102)\" style=\"stroke:#000000; stroke-linecap:round; stroke-linejoin:round; stroke-width:2; stroke-opacity:0.1; fill:none\" points=\"2148.07,1486.45 2148.07,47.2441 \"/>\n",
       "<polyline clip-path=\"url(#clip102)\" style=\"stroke:#000000; stroke-linecap:round; stroke-linejoin:round; stroke-width:2; stroke-opacity:0.1; fill:none\" points=\"213.607,1063.12 2352.76,1063.12 \"/>\n",
       "<polyline clip-path=\"url(#clip102)\" style=\"stroke:#000000; stroke-linecap:round; stroke-linejoin:round; stroke-width:2; stroke-opacity:0.1; fill:none\" points=\"213.607,601.985 2352.76,601.985 \"/>\n",
       "<polyline clip-path=\"url(#clip102)\" style=\"stroke:#000000; stroke-linecap:round; stroke-linejoin:round; stroke-width:2; stroke-opacity:0.1; fill:none\" points=\"213.607,140.849 2352.76,140.849 \"/>\n",
       "<polyline clip-path=\"url(#clip100)\" style=\"stroke:#000000; stroke-linecap:round; stroke-linejoin:round; stroke-width:4; stroke-opacity:1; fill:none\" points=\"213.607,1486.45 2352.76,1486.45 \"/>\n",
       "<polyline clip-path=\"url(#clip100)\" style=\"stroke:#000000; stroke-linecap:round; stroke-linejoin:round; stroke-width:4; stroke-opacity:1; fill:none\" points=\"418.297,1486.45 418.297,1467.55 \"/>\n",
       "<polyline clip-path=\"url(#clip100)\" style=\"stroke:#000000; stroke-linecap:round; stroke-linejoin:round; stroke-width:4; stroke-opacity:1; fill:none\" points=\"706.592,1486.45 706.592,1467.55 \"/>\n",
       "<polyline clip-path=\"url(#clip100)\" style=\"stroke:#000000; stroke-linecap:round; stroke-linejoin:round; stroke-width:4; stroke-opacity:1; fill:none\" points=\"994.887,1486.45 994.887,1467.55 \"/>\n",
       "<polyline clip-path=\"url(#clip100)\" style=\"stroke:#000000; stroke-linecap:round; stroke-linejoin:round; stroke-width:4; stroke-opacity:1; fill:none\" points=\"1283.18,1486.45 1283.18,1467.55 \"/>\n",
       "<polyline clip-path=\"url(#clip100)\" style=\"stroke:#000000; stroke-linecap:round; stroke-linejoin:round; stroke-width:4; stroke-opacity:1; fill:none\" points=\"1571.48,1486.45 1571.48,1467.55 \"/>\n",
       "<polyline clip-path=\"url(#clip100)\" style=\"stroke:#000000; stroke-linecap:round; stroke-linejoin:round; stroke-width:4; stroke-opacity:1; fill:none\" points=\"1859.77,1486.45 1859.77,1467.55 \"/>\n",
       "<polyline clip-path=\"url(#clip100)\" style=\"stroke:#000000; stroke-linecap:round; stroke-linejoin:round; stroke-width:4; stroke-opacity:1; fill:none\" points=\"2148.07,1486.45 2148.07,1467.55 \"/>\n",
       "<path clip-path=\"url(#clip100)\" d=\"M412.95 1544.91 L429.269 1544.91 L429.269 1548.85 L407.325 1548.85 L407.325 1544.91 Q409.987 1542.16 414.57 1537.53 Q419.177 1532.88 420.357 1531.53 Q422.602 1529.01 423.482 1527.27 Q424.385 1525.51 424.385 1523.82 Q424.385 1521.07 422.44 1519.33 Q420.519 1517.6 417.417 1517.6 Q415.218 1517.6 412.765 1518.36 Q410.334 1519.13 407.556 1520.68 L407.556 1515.95 Q410.38 1514.82 412.834 1514.24 Q415.288 1513.66 417.325 1513.66 Q422.695 1513.66 425.889 1516.35 Q429.084 1519.03 429.084 1523.52 Q429.084 1525.65 428.274 1527.57 Q427.487 1529.47 425.38 1532.07 Q424.801 1532.74 421.7 1535.95 Q418.598 1539.15 412.95 1544.91 Z\" fill=\"#000000\" fill-rule=\"nonzero\" fill-opacity=\"1\" /><path clip-path=\"url(#clip100)\" d=\"M709.601 1518.36 L697.796 1536.81 L709.601 1536.81 L709.601 1518.36 M708.374 1514.29 L714.254 1514.29 L714.254 1536.81 L719.184 1536.81 L719.184 1540.7 L714.254 1540.7 L714.254 1548.85 L709.601 1548.85 L709.601 1540.7 L693.999 1540.7 L693.999 1536.19 L708.374 1514.29 Z\" fill=\"#000000\" fill-rule=\"nonzero\" fill-opacity=\"1\" /><path clip-path=\"url(#clip100)\" d=\"M995.292 1529.7 Q992.144 1529.7 990.292 1531.86 Q988.463 1534.01 988.463 1537.76 Q988.463 1541.49 990.292 1543.66 Q992.144 1545.82 995.292 1545.82 Q998.44 1545.82 1000.27 1543.66 Q1002.12 1541.49 1002.12 1537.76 Q1002.12 1534.01 1000.27 1531.86 Q998.44 1529.7 995.292 1529.7 M1004.57 1515.05 L1004.57 1519.31 Q1002.81 1518.48 1001.01 1518.04 Q999.227 1517.6 997.468 1517.6 Q992.838 1517.6 990.384 1520.72 Q987.954 1523.85 987.607 1530.17 Q988.972 1528.15 991.033 1527.09 Q993.093 1526 995.57 1526 Q1000.78 1526 1003.79 1529.17 Q1006.82 1532.32 1006.82 1537.76 Q1006.82 1543.08 1003.67 1546.3 Q1000.52 1549.52 995.292 1549.52 Q989.297 1549.52 986.125 1544.94 Q982.954 1540.33 982.954 1531.6 Q982.954 1523.41 986.843 1518.55 Q990.732 1513.66 997.283 1513.66 Q999.042 1513.66 1000.82 1514.01 Q1002.63 1514.36 1004.57 1515.05 Z\" fill=\"#000000\" fill-rule=\"nonzero\" fill-opacity=\"1\" /><path clip-path=\"url(#clip100)\" d=\"M1283.18 1532.44 Q1279.85 1532.44 1277.93 1534.22 Q1276.03 1536 1276.03 1539.13 Q1276.03 1542.25 1277.93 1544.03 Q1279.85 1545.82 1283.18 1545.82 Q1286.52 1545.82 1288.44 1544.03 Q1290.36 1542.23 1290.36 1539.13 Q1290.36 1536 1288.44 1534.22 Q1286.54 1532.44 1283.18 1532.44 M1278.51 1530.45 Q1275.5 1529.7 1273.81 1527.64 Q1272.14 1525.58 1272.14 1522.62 Q1272.14 1518.48 1275.08 1516.07 Q1278.04 1513.66 1283.18 1513.66 Q1288.34 1513.66 1291.28 1516.07 Q1294.22 1518.48 1294.22 1522.62 Q1294.22 1525.58 1292.53 1527.64 Q1290.87 1529.7 1287.88 1530.45 Q1291.26 1531.23 1293.14 1533.52 Q1295.03 1535.82 1295.03 1539.13 Q1295.03 1544.15 1291.95 1546.83 Q1288.9 1549.52 1283.18 1549.52 Q1277.46 1549.52 1274.39 1546.83 Q1271.33 1544.15 1271.33 1539.13 Q1271.33 1535.82 1273.23 1533.52 Q1275.13 1531.23 1278.51 1530.45 M1276.79 1523.06 Q1276.79 1525.75 1278.46 1527.25 Q1280.15 1528.76 1283.18 1528.76 Q1286.19 1528.76 1287.88 1527.25 Q1289.59 1525.75 1289.59 1523.06 Q1289.59 1520.38 1287.88 1518.87 Q1286.19 1517.37 1283.18 1517.37 Q1280.15 1517.37 1278.46 1518.87 Q1276.79 1520.38 1276.79 1523.06 Z\" fill=\"#000000\" fill-rule=\"nonzero\" fill-opacity=\"1\" /><path clip-path=\"url(#clip100)\" d=\"M1546.16 1544.91 L1553.8 1544.91 L1553.8 1518.55 L1545.49 1520.21 L1545.49 1515.95 L1553.76 1514.29 L1558.43 1514.29 L1558.43 1544.91 L1566.07 1544.91 L1566.07 1548.85 L1546.16 1548.85 L1546.16 1544.91 Z\" fill=\"#000000\" fill-rule=\"nonzero\" fill-opacity=\"1\" /><path clip-path=\"url(#clip100)\" d=\"M1585.52 1517.37 Q1581.9 1517.37 1580.08 1520.93 Q1578.27 1524.47 1578.27 1531.6 Q1578.27 1538.71 1580.08 1542.27 Q1581.9 1545.82 1585.52 1545.82 Q1589.15 1545.82 1590.96 1542.27 Q1592.78 1538.71 1592.78 1531.6 Q1592.78 1524.47 1590.96 1520.93 Q1589.15 1517.37 1585.52 1517.37 M1585.52 1513.66 Q1591.33 1513.66 1594.38 1518.27 Q1597.46 1522.85 1597.46 1531.6 Q1597.46 1540.33 1594.38 1544.94 Q1591.33 1549.52 1585.52 1549.52 Q1579.71 1549.52 1576.63 1544.94 Q1573.57 1540.33 1573.57 1531.6 Q1573.57 1522.85 1576.63 1518.27 Q1579.71 1513.66 1585.52 1513.66 Z\" fill=\"#000000\" fill-rule=\"nonzero\" fill-opacity=\"1\" /><path clip-path=\"url(#clip100)\" d=\"M1835.26 1544.91 L1842.9 1544.91 L1842.9 1518.55 L1834.59 1520.21 L1834.59 1515.95 L1842.85 1514.29 L1847.53 1514.29 L1847.53 1544.91 L1855.17 1544.91 L1855.17 1548.85 L1835.26 1548.85 L1835.26 1544.91 Z\" fill=\"#000000\" fill-rule=\"nonzero\" fill-opacity=\"1\" /><path clip-path=\"url(#clip100)\" d=\"M1868.64 1544.91 L1884.96 1544.91 L1884.96 1548.85 L1863.01 1548.85 L1863.01 1544.91 Q1865.67 1542.16 1870.26 1537.53 Q1874.86 1532.88 1876.04 1531.53 Q1878.29 1529.01 1879.17 1527.27 Q1880.07 1525.51 1880.07 1523.82 Q1880.07 1521.07 1878.13 1519.33 Q1876.21 1517.6 1873.1 1517.6 Q1870.91 1517.6 1868.45 1518.36 Q1866.02 1519.13 1863.24 1520.68 L1863.24 1515.95 Q1866.07 1514.82 1868.52 1514.24 Q1870.98 1513.66 1873.01 1513.66 Q1878.38 1513.66 1881.58 1516.35 Q1884.77 1519.03 1884.77 1523.52 Q1884.77 1525.65 1883.96 1527.57 Q1883.17 1529.47 1881.07 1532.07 Q1880.49 1532.74 1877.39 1535.95 Q1874.29 1539.15 1868.64 1544.91 Z\" fill=\"#000000\" fill-rule=\"nonzero\" fill-opacity=\"1\" /><path clip-path=\"url(#clip100)\" d=\"M2122.51 1544.91 L2130.15 1544.91 L2130.15 1518.55 L2121.84 1520.21 L2121.84 1515.95 L2130.1 1514.29 L2134.78 1514.29 L2134.78 1544.91 L2142.42 1544.91 L2142.42 1548.85 L2122.51 1548.85 L2122.51 1544.91 Z\" fill=\"#000000\" fill-rule=\"nonzero\" fill-opacity=\"1\" /><path clip-path=\"url(#clip100)\" d=\"M2164.71 1518.36 L2152.9 1536.81 L2164.71 1536.81 L2164.71 1518.36 M2163.48 1514.29 L2169.36 1514.29 L2169.36 1536.81 L2174.29 1536.81 L2174.29 1540.7 L2169.36 1540.7 L2169.36 1548.85 L2164.71 1548.85 L2164.71 1540.7 L2149.11 1540.7 L2149.11 1536.19 L2163.48 1514.29 Z\" fill=\"#000000\" fill-rule=\"nonzero\" fill-opacity=\"1\" /><polyline clip-path=\"url(#clip100)\" style=\"stroke:#000000; stroke-linecap:round; stroke-linejoin:round; stroke-width:4; stroke-opacity:1; fill:none\" points=\"213.607,1486.45 213.607,47.2441 \"/>\n",
       "<polyline clip-path=\"url(#clip100)\" style=\"stroke:#000000; stroke-linecap:round; stroke-linejoin:round; stroke-width:4; stroke-opacity:1; fill:none\" points=\"213.607,1063.12 232.505,1063.12 \"/>\n",
       "<polyline clip-path=\"url(#clip100)\" style=\"stroke:#000000; stroke-linecap:round; stroke-linejoin:round; stroke-width:4; stroke-opacity:1; fill:none\" points=\"213.607,601.985 232.505,601.985 \"/>\n",
       "<polyline clip-path=\"url(#clip100)\" style=\"stroke:#000000; stroke-linecap:round; stroke-linejoin:round; stroke-width:4; stroke-opacity:1; fill:none\" points=\"213.607,140.849 232.505,140.849 \"/>\n",
       "<path clip-path=\"url(#clip100)\" d=\"M51.6634 1082.91 L59.3023 1082.91 L59.3023 1056.55 L50.9921 1058.21 L50.9921 1053.95 L59.256 1052.29 L63.9319 1052.29 L63.9319 1082.91 L71.5707 1082.91 L71.5707 1086.85 L51.6634 1086.85 L51.6634 1082.91 Z\" fill=\"#000000\" fill-rule=\"nonzero\" fill-opacity=\"1\" /><path clip-path=\"url(#clip100)\" d=\"M91.0151 1055.37 Q87.404 1055.37 85.5753 1058.93 Q83.7697 1062.47 83.7697 1069.6 Q83.7697 1076.71 85.5753 1080.27 Q87.404 1083.82 91.0151 1083.82 Q94.6493 1083.82 96.4548 1080.27 Q98.2835 1076.71 98.2835 1069.6 Q98.2835 1062.47 96.4548 1058.93 Q94.6493 1055.37 91.0151 1055.37 M91.0151 1051.66 Q96.8252 1051.66 99.8808 1056.27 Q102.959 1060.85 102.959 1069.6 Q102.959 1078.33 99.8808 1082.94 Q96.8252 1087.52 91.0151 1087.52 Q85.2049 1087.52 82.1262 1082.94 Q79.0707 1078.33 79.0707 1069.6 Q79.0707 1060.85 82.1262 1056.27 Q85.2049 1051.66 91.0151 1051.66 Z\" fill=\"#000000\" fill-rule=\"nonzero\" fill-opacity=\"1\" /><path clip-path=\"url(#clip100)\" d=\"M102.959 1045.76 L127.071 1045.76 L127.071 1048.96 L102.959 1048.96 L102.959 1045.76 Z\" fill=\"#000000\" fill-rule=\"nonzero\" fill-opacity=\"1\" /><path clip-path=\"url(#clip100)\" d=\"M135.929 1056.24 L142.136 1056.24 L142.136 1034.82 L135.384 1036.17 L135.384 1032.71 L142.098 1031.36 L145.898 1031.36 L145.898 1056.24 L152.104 1056.24 L152.104 1059.44 L135.929 1059.44 L135.929 1056.24 Z\" fill=\"#000000\" fill-rule=\"nonzero\" fill-opacity=\"1\" /><path clip-path=\"url(#clip100)\" d=\"M167.903 1033.86 Q164.969 1033.86 163.483 1036.75 Q162.016 1039.63 162.016 1045.43 Q162.016 1051.2 163.483 1054.1 Q164.969 1056.97 167.903 1056.97 Q170.855 1056.97 172.322 1054.1 Q173.808 1051.2 173.808 1045.43 Q173.808 1039.63 172.322 1036.75 Q170.855 1033.86 167.903 1033.86 M167.903 1030.85 Q172.623 1030.85 175.106 1034.59 Q177.607 1038.32 177.607 1045.43 Q177.607 1052.52 175.106 1056.26 Q172.623 1059.98 167.903 1059.98 Q163.182 1059.98 160.68 1056.26 Q158.198 1052.52 158.198 1045.43 Q158.198 1038.32 160.68 1034.59 Q163.182 1030.85 167.903 1030.85 Z\" fill=\"#000000\" fill-rule=\"nonzero\" fill-opacity=\"1\" /><path clip-path=\"url(#clip100)\" d=\"M76.9787 621.777 L84.6175 621.777 L84.6175 595.411 L76.3074 597.078 L76.3074 592.819 L84.5712 591.152 L89.2471 591.152 L89.2471 621.777 L96.886 621.777 L96.886 625.712 L76.9787 625.712 L76.9787 621.777 Z\" fill=\"#000000\" fill-rule=\"nonzero\" fill-opacity=\"1\" /><path clip-path=\"url(#clip100)\" d=\"M116.33 594.231 Q112.719 594.231 110.891 597.796 Q109.085 601.337 109.085 608.467 Q109.085 615.573 110.891 619.138 Q112.719 622.68 116.33 622.68 Q119.965 622.68 121.77 619.138 Q123.599 615.573 123.599 608.467 Q123.599 601.337 121.77 597.796 Q119.965 594.231 116.33 594.231 M116.33 590.527 Q122.14 590.527 125.196 595.134 Q128.275 599.717 128.275 608.467 Q128.275 617.194 125.196 621.8 Q122.14 626.383 116.33 626.383 Q110.52 626.383 107.441 621.8 Q104.386 617.194 104.386 608.467 Q104.386 599.717 107.441 595.134 Q110.52 590.527 116.33 590.527 Z\" fill=\"#000000\" fill-rule=\"nonzero\" fill-opacity=\"1\" /><path clip-path=\"url(#clip100)\" d=\"M128.275 584.628 L152.386 584.628 L152.386 587.826 L128.275 587.826 L128.275 584.628 Z\" fill=\"#000000\" fill-rule=\"nonzero\" fill-opacity=\"1\" /><path clip-path=\"url(#clip100)\" d=\"M160.624 570.222 L175.539 570.222 L175.539 573.419 L164.103 573.419 L164.103 580.303 Q164.931 580.021 165.759 579.889 Q166.586 579.738 167.414 579.738 Q172.116 579.738 174.862 582.315 Q177.607 584.892 177.607 589.293 Q177.607 593.825 174.786 596.346 Q171.965 598.847 166.831 598.847 Q165.063 598.847 163.22 598.546 Q161.395 598.245 159.439 597.643 L159.439 593.825 Q161.132 594.747 162.937 595.198 Q164.743 595.65 166.755 595.65 Q170.009 595.65 171.909 593.938 Q173.808 592.227 173.808 589.293 Q173.808 586.359 171.909 584.647 Q170.009 582.936 166.755 582.936 Q165.232 582.936 163.709 583.274 Q162.204 583.613 160.624 584.328 L160.624 570.222 Z\" fill=\"#000000\" fill-rule=\"nonzero\" fill-opacity=\"1\" /><path clip-path=\"url(#clip100)\" d=\"M106.902 160.641 L114.541 160.641 L114.541 134.276 L106.231 135.943 L106.231 131.683 L114.494 130.017 L119.17 130.017 L119.17 160.641 L126.809 160.641 L126.809 164.577 L106.902 164.577 L106.902 160.641 Z\" fill=\"#000000\" fill-rule=\"nonzero\" fill-opacity=\"1\" /><path clip-path=\"url(#clip100)\" d=\"M146.253 133.095 Q142.642 133.095 140.814 136.66 Q139.008 140.202 139.008 147.331 Q139.008 154.438 140.814 158.003 Q142.642 161.544 146.253 161.544 Q149.888 161.544 151.693 158.003 Q153.522 154.438 153.522 147.331 Q153.522 140.202 151.693 136.66 Q149.888 133.095 146.253 133.095 M146.253 129.392 Q152.064 129.392 155.119 133.998 Q158.198 138.581 158.198 147.331 Q158.198 156.058 155.119 160.665 Q152.064 165.248 146.253 165.248 Q140.443 165.248 137.365 160.665 Q134.309 156.058 134.309 147.331 Q134.309 138.581 137.365 133.998 Q140.443 129.392 146.253 129.392 Z\" fill=\"#000000\" fill-rule=\"nonzero\" fill-opacity=\"1\" /><path clip-path=\"url(#clip100)\" d=\"M167.903 111.588 Q164.969 111.588 163.483 114.484 Q162.016 117.362 162.016 123.154 Q162.016 128.928 163.483 131.825 Q164.969 134.702 167.903 134.702 Q170.855 134.702 172.322 131.825 Q173.808 128.928 173.808 123.154 Q173.808 117.362 172.322 114.484 Q170.855 111.588 167.903 111.588 M167.903 108.578 Q172.623 108.578 175.106 112.321 Q177.607 116.045 177.607 123.154 Q177.607 130.245 175.106 133.988 Q172.623 137.712 167.903 137.712 Q163.182 137.712 160.68 133.988 Q158.198 130.245 158.198 123.154 Q158.198 116.045 160.68 112.321 Q163.182 108.578 167.903 108.578 Z\" fill=\"#000000\" fill-rule=\"nonzero\" fill-opacity=\"1\" /><polyline clip-path=\"url(#clip102)\" style=\"stroke:#009af9; stroke-linecap:round; stroke-linejoin:round; stroke-width:4; stroke-opacity:1; fill:none\" points=\"274.149,87.9763 418.297,100.165 562.444,113.511 706.592,128.58 850.739,146.351 994.887,168.65 1139.03,199.203 1283.18,246.28 1427.33,329.011 1571.48,489.047 1715.62,808.288 1859.77,1445.72 \"/>\n",
       "<path clip-path=\"url(#clip100)\" d=\"M284.912 198.898 L610.979 198.898 L610.979 95.2176 L284.912 95.2176  Z\" fill=\"#ffffff\" fill-rule=\"evenodd\" fill-opacity=\"1\"/>\n",
       "<polyline clip-path=\"url(#clip100)\" style=\"stroke:#000000; stroke-linecap:round; stroke-linejoin:round; stroke-width:4; stroke-opacity:1; fill:none\" points=\"284.912,198.898 610.979,198.898 610.979,95.2176 284.912,95.2176 284.912,198.898 \"/>\n",
       "<polyline clip-path=\"url(#clip100)\" style=\"stroke:#009af9; stroke-linecap:round; stroke-linejoin:round; stroke-width:4; stroke-opacity:1; fill:none\" points=\"308.681,147.058 451.291,147.058 \"/>\n",
       "<path clip-path=\"url(#clip100)\" d=\"M499.087 150.31 L499.087 152.393 L479.503 152.393 Q479.781 156.791 482.142 159.106 Q484.526 161.398 488.763 161.398 Q491.216 161.398 493.508 160.796 Q495.823 160.194 498.091 158.99 L498.091 163.018 Q495.8 163.99 493.392 164.5 Q490.985 165.009 488.508 165.009 Q482.304 165.009 478.67 161.398 Q475.059 157.787 475.059 151.629 Q475.059 145.264 478.485 141.537 Q481.934 137.787 487.767 137.787 Q492.999 137.787 496.031 141.166 Q499.087 144.523 499.087 150.31 M494.827 149.06 Q494.781 145.565 492.86 143.481 Q490.962 141.398 487.814 141.398 Q484.249 141.398 482.096 143.412 Q479.966 145.426 479.642 149.083 L494.827 149.06 Z\" fill=\"#000000\" fill-rule=\"nonzero\" fill-opacity=\"1\" /><path clip-path=\"url(#clip100)\" d=\"M521.1 142.393 Q520.383 141.977 519.526 141.791 Q518.693 141.583 517.674 141.583 Q514.063 141.583 512.119 143.944 Q510.198 146.282 510.198 150.68 L510.198 164.338 L505.915 164.338 L505.915 138.412 L510.198 138.412 L510.198 142.44 Q511.54 140.078 513.693 138.944 Q515.846 137.787 518.924 137.787 Q519.364 137.787 519.897 137.856 Q520.429 137.903 521.077 138.018 L521.1 142.393 Z\" fill=\"#000000\" fill-rule=\"nonzero\" fill-opacity=\"1\" /><path clip-path=\"url(#clip100)\" d=\"M539.758 142.393 Q539.04 141.977 538.184 141.791 Q537.35 141.583 536.332 141.583 Q532.721 141.583 530.776 143.944 Q528.855 146.282 528.855 150.68 L528.855 164.338 L524.573 164.338 L524.573 138.412 L528.855 138.412 L528.855 142.44 Q530.198 140.078 532.35 138.944 Q534.503 137.787 537.582 137.787 Q538.022 137.787 538.554 137.856 Q539.086 137.903 539.735 138.018 L539.758 142.393 Z\" fill=\"#000000\" fill-rule=\"nonzero\" fill-opacity=\"1\" /><path clip-path=\"url(#clip100)\" d=\"M553.23 141.398 Q549.804 141.398 547.813 144.083 Q545.822 146.745 545.822 151.398 Q545.822 156.051 547.79 158.736 Q549.781 161.398 553.23 161.398 Q556.633 161.398 558.623 158.713 Q560.614 156.027 560.614 151.398 Q560.614 146.791 558.623 144.106 Q556.633 141.398 553.23 141.398 M553.23 137.787 Q558.785 137.787 561.957 141.398 Q565.128 145.009 565.128 151.398 Q565.128 157.764 561.957 161.398 Q558.785 165.009 553.23 165.009 Q547.651 165.009 544.48 161.398 Q541.332 157.764 541.332 151.398 Q541.332 145.009 544.48 141.398 Q547.651 137.787 553.23 137.787 Z\" fill=\"#000000\" fill-rule=\"nonzero\" fill-opacity=\"1\" /><path clip-path=\"url(#clip100)\" d=\"M587.211 142.393 Q586.494 141.977 585.637 141.791 Q584.804 141.583 583.785 141.583 Q580.174 141.583 578.23 143.944 Q576.308 146.282 576.308 150.68 L576.308 164.338 L572.026 164.338 L572.026 138.412 L576.308 138.412 L576.308 142.44 Q577.651 140.078 579.804 138.944 Q581.957 137.787 585.035 137.787 Q585.475 137.787 586.007 137.856 Q586.54 137.903 587.188 138.018 L587.211 142.393 Z\" fill=\"#000000\" fill-rule=\"nonzero\" fill-opacity=\"1\" /></svg>\n"
      ]
     },
     "execution_count": 205,
     "metadata": {},
     "output_type": "execute_result"
    }
   ],
   "source": [
    "# TODO: compute and plot the error of `newton(f, 0.1, k)` for `k = 1:15`\n",
    "errs = [nanabs(newton(f,0.1,k)-r) for k = 1:15]\n",
    "plot(1:15, errs; yscale =:log10, label=\"error\")\n",
    "\n"
   ]
  },
  {
   "cell_type": "markdown",
   "metadata": {},
   "source": [
    "**Problem 5(b)** Use `newton` with a complex number to compute\n",
    "an approximation to a complex root of $f(x) = x^5 - x^2 + 1$.\n",
    "Verify the approximation is accurate by testing that it satisfies $f(r)$\n",
    "is approximately zero."
   ]
  },
  {
   "cell_type": "code",
   "execution_count": 223,
   "metadata": {},
   "outputs": [
    {
     "data": {
      "text/plain": [
       "0.0 + 5.551115123125783e-17im"
      ]
     },
     "execution_count": 223,
     "metadata": {},
     "output_type": "execute_result"
    }
   ],
   "source": [
    "# TODO: By making the initial guess complex find a complex root.\n",
    "r = newton(f,1+0.1im,10000)\n",
    "\n",
    "f(r)"
   ]
  },
  {
   "cell_type": "markdown",
   "metadata": {},
   "source": [
    "**Problem 5(c)** By changing the initial guesses compute 5 roots to\n",
    "$\\sin x - 1/x$. Hint: you may need to add an overload for `/(x::Real, y::Dual)`."
   ]
  },
  {
   "cell_type": "code",
   "execution_count": 227,
   "metadata": {},
   "outputs": [
    {
     "data": {
      "text/plain": [
       "(1.1141571408719302, -1.1141571408719302, 2.772604708265991, 9.31724294141481, 6.439117238417246)"
      ]
     },
     "execution_count": 227,
     "metadata": {},
     "output_type": "execute_result"
    }
   ],
   "source": [
    "# TODO: Use newton to compute roots of sin(x) - 1/x.\n",
    "function /(x::Int64, y::Dual)\n",
    "    # TODO: implement division for Duals.\n",
    "    # Hint: think of this as x * (1/y)\n",
    "    x = Dual(x,0)\n",
    "    return Dual(x.a/y.a, (x.b*y.a - x.a*y.b)/(y.a*y.a))\n",
    "end\n",
    "\n",
    "\n",
    "newton(x -> sin(x) - 1/x, 1, 100),\n",
    "newton(x -> sin(x) - 1/x, 2, 100),\n",
    "newton(x -> sin(x) - 1/x, 3, 100),\n",
    "newton(x -> sin(x) - 1/x, 5, 100),\n",
    "newton(x -> sin(x) - 1/x, 6, 100)"
   ]
  },
  {
   "cell_type": "markdown",
   "metadata": {},
   "source": [
    "---\n",
    "\n",
    "*This notebook was generated using [Literate.jl](https://github.com/fredrikekre/Literate.jl).*"
   ]
  }
 ],
 "metadata": {
  "kernelspec": {
   "display_name": "Julia 1.11.2",
   "language": "julia",
   "name": "julia-1.11"
  },
  "language_info": {
   "file_extension": ".jl",
   "mimetype": "application/julia",
   "name": "julia",
   "version": "1.11.2"
  }
 },
 "nbformat": 4,
 "nbformat_minor": 4
}
